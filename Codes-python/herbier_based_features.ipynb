{
 "cells": [
  {
   "cell_type": "code",
   "execution_count": 1,
   "metadata": {
    "autoscroll": false,
    "collapsed": false,
    "ein.hycell": false,
    "ein.tags": "worksheet-0",
    "slideshow": {
     "slide_type": "-"
    }
   },
   "outputs": [],
   "source": [
    "import pandas as pd\n",
    "import numpy as np\n",
    "import os"
   ]
  },
  {
   "cell_type": "markdown",
   "metadata": {
    "ein.tags": "worksheet-0",
    "slideshow": {
     "slide_type": "-"
    }
   },
   "source": [
    "# Nb observations"
   ]
  },
  {
   "cell_type": "code",
   "execution_count": 2,
   "metadata": {
    "autoscroll": false,
    "collapsed": false,
    "ein.hycell": false,
    "ein.tags": "worksheet-0",
    "slideshow": {
     "slide_type": "-"
    }
   },
   "outputs": [],
   "source": [
    "def herbier_n_obs(herbier):\n",
    "    return herbier.shape[0]"
   ]
  },
  {
   "cell_type": "markdown",
   "metadata": {
    "ein.tags": "worksheet-0",
    "slideshow": {
     "slide_type": "-"
    }
   },
   "source": [
    "# Nb synonymes\n",
    "TODO: c'est bien la bonne colonne?"
   ]
  },
  {
   "cell_type": "code",
   "execution_count": 3,
   "metadata": {
    "autoscroll": false,
    "collapsed": false,
    "ein.hycell": false,
    "ein.tags": "worksheet-0",
    "slideshow": {
     "slide_type": "-"
    }
   },
   "outputs": [],
   "source": [
    "def herbier_n_taxon(herbier):\n",
    "    return herbier.index.nunique()"
   ]
  },
  {
   "cell_type": "markdown",
   "metadata": {
    "ein.tags": "worksheet-0",
    "slideshow": {
     "slide_type": "-"
    }
   },
   "source": [
    "# Nb SECTEUR"
   ]
  },
  {
   "cell_type": "code",
   "execution_count": 4,
   "metadata": {
    "autoscroll": false,
    "collapsed": false,
    "ein.hycell": false,
    "ein.tags": "worksheet-0",
    "slideshow": {
     "slide_type": "-"
    }
   },
   "outputs": [],
   "source": [
    "def herbier_n_secteurs(herbier):\n",
    "    return herbier.SECTEUR.nunique()"
   ]
  },
  {
   "cell_type": "markdown",
   "metadata": {
    "ein.tags": "worksheet-0",
    "slideshow": {
     "slide_type": "-"
    }
   },
   "source": [
    "# Nb COD_ISO"
   ]
  },
  {
   "cell_type": "code",
   "execution_count": 5,
   "metadata": {
    "autoscroll": false,
    "collapsed": false,
    "ein.hycell": false,
    "ein.tags": "worksheet-0",
    "slideshow": {
     "slide_type": "-"
    }
   },
   "outputs": [],
   "source": [
    "def herbier_n_pays(herbier):\n",
    "    return herbier.COD_ISO.nunique()"
   ]
  },
  {
   "cell_type": "markdown",
   "metadata": {
    "ein.tags": "worksheet-0",
    "slideshow": {
     "slide_type": "-"
    }
   },
   "source": [
    "# Stats de years {max,min,mean,med,max-min,today-max,today-max}"
   ]
  },
  {
   "cell_type": "code",
   "execution_count": 6,
   "metadata": {
    "autoscroll": false,
    "collapsed": false,
    "ein.hycell": false,
    "ein.tags": "worksheet-0",
    "slideshow": {
     "slide_type": "-"
    }
   },
   "outputs": [],
   "source": [
    "def herbier_max_date(herbier):\n",
    "    return np.max(herbier.DAT_REC_A)"
   ]
  },
  {
   "cell_type": "code",
   "execution_count": 7,
   "metadata": {
    "autoscroll": false,
    "collapsed": false,
    "ein.hycell": false,
    "ein.tags": "worksheet-0",
    "slideshow": {
     "slide_type": "-"
    }
   },
   "outputs": [],
   "source": [
    "def herbier_min_date(herbier):\n",
    "    return np.min(herbier.DAT_REC_A)"
   ]
  },
  {
   "cell_type": "code",
   "execution_count": 8,
   "metadata": {
    "autoscroll": false,
    "collapsed": false,
    "ein.hycell": false,
    "ein.tags": "worksheet-0",
    "slideshow": {
     "slide_type": "-"
    }
   },
   "outputs": [],
   "source": [
    "def herbier_mean_date(herbier):\n",
    "    return np.mean(herbier.DAT_REC_A)"
   ]
  },
  {
   "cell_type": "code",
   "execution_count": 9,
   "metadata": {
    "autoscroll": false,
    "collapsed": false,
    "ein.hycell": false,
    "ein.tags": "worksheet-0",
    "slideshow": {
     "slide_type": "-"
    }
   },
   "outputs": [],
   "source": [
    "def herbier_delta_date(herbier):\n",
    "    return herbier_max_date(herbier)-herbier_min_date(herbier)"
   ]
  },
  {
   "cell_type": "code",
   "execution_count": 10,
   "metadata": {
    "autoscroll": false,
    "collapsed": false,
    "ein.hycell": false,
    "ein.tags": "worksheet-0",
    "slideshow": {
     "slide_type": "-"
    }
   },
   "outputs": [],
   "source": [
    "def herbier_age_last_obs(herbier):\n",
    "    return 2020-herbier_max_date(herbier)"
   ]
  },
  {
   "cell_type": "code",
   "execution_count": 11,
   "metadata": {
    "autoscroll": false,
    "collapsed": false,
    "ein.hycell": false,
    "ein.tags": "worksheet-0",
    "slideshow": {
     "slide_type": "-"
    }
   },
   "outputs": [],
   "source": [
    "def herbier_age_first_obs(herbier):\n",
    "    return 2020-herbier_min_date(herbier)"
   ]
  },
  {
   "cell_type": "code",
   "execution_count": 12,
   "metadata": {
    "autoscroll": false,
    "collapsed": false,
    "ein.hycell": false,
    "ein.tags": "worksheet-0",
    "slideshow": {
     "slide_type": "-"
    }
   },
   "outputs": [],
   "source": [
    "date_hist_bins = range(1700,2021,20)\n",
    "def herbier_date_hist(herbier):\n",
    "    return np.histogram(herbier.DAT_REC_A,bins=date_hist_bins)[0] "
   ]
  },
  {
   "cell_type": "markdown",
   "metadata": {
    "ein.tags": "worksheet-0",
    "slideshow": {
     "slide_type": "-"
    }
   },
   "source": [
    "# Number of observations in last: 5 years, 10 years, 20 years, 50 years, all time"
   ]
  },
  {
   "cell_type": "code",
   "execution_count": 13,
   "metadata": {
    "autoscroll": false,
    "collapsed": false,
    "ein.hycell": false,
    "ein.tags": "worksheet-0",
    "slideshow": {
     "slide_type": "-"
    }
   },
   "outputs": [],
   "source": [
    "def herbier_n_obs_last_m_years(herbier,years):\n",
    "    return np.sum(np.histogram(herbier.DAT_REC_A,bins=range(1970,2020))[0][-years:])"
   ]
  },
  {
   "cell_type": "code",
   "execution_count": 14,
   "metadata": {
    "autoscroll": false,
    "collapsed": false,
    "ein.hycell": false,
    "ein.tags": "worksheet-0",
    "slideshow": {
     "slide_type": "-"
    }
   },
   "outputs": [],
   "source": [
    "def herbier_n_obs_last_5y(herbier):\n",
    "    return herbier_n_obs_last_m_years(herbier,5)"
   ]
  },
  {
   "cell_type": "code",
   "execution_count": 15,
   "metadata": {
    "autoscroll": false,
    "collapsed": false,
    "ein.hycell": false,
    "ein.tags": "worksheet-0",
    "slideshow": {
     "slide_type": "-"
    }
   },
   "outputs": [],
   "source": [
    "def herbier_n_obs_last_10y(herbier):\n",
    "    return herbier_n_obs_last_m_years(herbier,10)"
   ]
  },
  {
   "cell_type": "code",
   "execution_count": 16,
   "metadata": {
    "autoscroll": false,
    "collapsed": false,
    "ein.hycell": false,
    "ein.tags": "worksheet-0",
    "slideshow": {
     "slide_type": "-"
    }
   },
   "outputs": [],
   "source": [
    "def herbier_n_obs_last_20y(herbier):\n",
    "    return herbier_n_obs_last_m_years(herbier,20)"
   ]
  },
  {
   "cell_type": "code",
   "execution_count": 17,
   "metadata": {
    "autoscroll": false,
    "collapsed": false,
    "ein.hycell": false,
    "ein.tags": "worksheet-0",
    "slideshow": {
     "slide_type": "-"
    }
   },
   "outputs": [],
   "source": [
    "def herbier_n_obs_last_50y(herbier):\n",
    "    return herbier_n_obs_last_m_years(herbier,50)"
   ]
  },
  {
   "cell_type": "markdown",
   "metadata": {
    "ein.tags": "worksheet-0",
    "slideshow": {
     "slide_type": "-"
    }
   },
   "source": [
    "# Computation"
   ]
  },
  {
   "cell_type": "code",
   "execution_count": 23,
   "metadata": {
    "autoscroll": false,
    "collapsed": false,
    "ein.hycell": false,
    "ein.tags": "worksheet-0",
    "slideshow": {
     "slide_type": "-"
    }
   },
   "outputs": [],
   "source": [
    "herbier = pd.read_csv('/home/joon/data/herbier.csv',sep=',',encoding='iso-8859-1',usecols=['TAXONPK','SECTEUR','COD_ISO','DAT_REC_A'],index_col='TAXONPK')\n",
    "# herbier = herbier[['TAXONPK','SECTEUR','COD_ISO','DAT_REC_A']]\n",
    "# herbier.set_index('TAXONPK',inplace=True)"
   ]
  },
  {
   "cell_type": "code",
   "execution_count": 25,
   "metadata": {
    "autoscroll": false,
    "collapsed": false,
    "ein.hycell": false,
    "ein.tags": "worksheet-0",
    "slideshow": {
     "slide_type": "-"
    }
   },
   "outputs": [],
   "source": [
    "herbier.DAT_REC_A.replace(to_replace=0.0,value=np.nan,inplace=True)"
   ]
  },
  {
   "cell_type": "code",
   "execution_count": 18,
   "metadata": {
    "autoscroll": false,
    "collapsed": false,
    "ein.hycell": false,
    "ein.tags": "worksheet-0",
    "slideshow": {
     "slide_type": "-"
    }
   },
   "outputs": [],
   "source": [
    "aggregation_functions = [herbier_n_obs,herbier_n_taxon,herbier_n_secteurs,herbier_n_pays,herbier_max_date,herbier_min_date,herbier_mean_date,herbier_delta_date,herbier_age_last_obs,herbier_age_first_obs,herbier_n_obs_last_5y,herbier_n_obs_last_10y,herbier_n_obs_last_20y,herbier_n_obs_last_50y]\n",
    "column_names = ['herbier_n_obs','herbier_n_taxon','herbier_n_secteurs','herbier_n_pays','herbier_max_date','herbier_min_date','herbier_mean_date','herbier_delta_date','herbier_age_last_obs','herbier_age_first_obs','herbier_n_obs_last_5y','herbier_n_obs_last_10y','herbier_n_obs_last_20y','herbier_n_obs_last_50y']"
   ]
  },
  {
   "cell_type": "markdown",
   "metadata": {
    "ein.tags": "worksheet-0",
    "slideshow": {
     "slide_type": "-"
    }
   },
   "source": [
    "# Features for checklist accepted_plant_id"
   ]
  },
  {
   "cell_type": "code",
   "execution_count": 27,
   "metadata": {
    "autoscroll": false,
    "collapsed": false,
    "ein.hycell": false,
    "ein.tags": "worksheet-0",
    "slideshow": {
     "slide_type": "-"
    }
   },
   "outputs": [],
   "source": [
    "checklist = pd.read_csv('/home/joon/data/checklist_taxonomy_preprocessed.csv',index_col='accepted_plant_name_id')\n",
    "checklist = checklist[['genus','species', 'plant_name_id']]\n",
    "checklist.dropna(axis=0,subset=['species'],inplace=True)\n",
    "checklist_genus_values = checklist.genus.unique()"
   ]
  },
  {
   "cell_type": "code",
   "execution_count": 110,
   "metadata": {
    "autoscroll": false,
    "collapsed": false,
    "ein.hycell": false,
    "ein.tags": "worksheet-0",
    "slideshow": {
     "slide_type": "-"
    }
   },
   "outputs": [],
   "source": [
    "def read_set_in_csv(x):\n",
    "    if x=='set()':\n",
    "        return set()\n",
    "    else:\n",
    "        return set(x.strip('{}\\'\"').split(', '))"
   ]
  },
  {
   "cell_type": "code",
   "execution_count": 95,
   "metadata": {
    "autoscroll": false,
    "collapsed": false,
    "ein.hycell": false,
    "ein.tags": "worksheet-0",
    "slideshow": {
     "slide_type": "-"
    }
   },
   "outputs": [],
   "source": [
    "checklist_accepted_herbier_taxonpk_matching = pd.read_csv('/home/joon/data/checklist-accepted-herbier-taxonpk-matching.csv',index_col=0,header=None,squeeze=True,converters={1:read_set_in_csv})"
   ]
  },
  {
   "cell_type": "code",
   "execution_count": 30,
   "metadata": {
    "autoscroll": false,
    "collapsed": false,
    "ein.hycell": false,
    "ein.tags": "worksheet-0",
    "slideshow": {
     "slide_type": "-"
    }
   },
   "outputs": [],
   "source": [
    "def herbier_based_features(accepted_plant_name_ids,taxonpks):\n",
    "    selected_distribution = herbier.loc[taxonpks]\n",
    "    return [f(selected_distribution) for f in aggregation_functions]+list(herbier_date_hist(selected_distribution))"
   ]
  },
  {
   "cell_type": "code",
   "execution_count": 179,
   "metadata": {
    "autoscroll": false,
    "collapsed": false,
    "ein.hycell": false,
    "ein.tags": "worksheet-0",
    "slideshow": {
     "slide_type": "-"
    }
   },
   "outputs": [],
   "source": [
    "def herbier_based_features_process_genus(genus):\n",
    "    features = pd.DataFrame([])\n",
    "\n",
    "    checklist_from_genus = checklist[checklist.genus==genus]\n",
    "    checklist_from_genus = checklist_from_genus[checklist_from_genus.index == checklist_from_genus.plant_name_id]\n",
    "    accepted_plant_name_ids_from_genus = checklist_from_genus.index.unique()\n",
    "\n",
    "    for accepted_plant_name_id in accepted_plant_name_ids_from_genus:\n",
    "        selected_distribution = pd.DataFrame(columns=['SECTEUR','COD_ISO','DAT_REC_A'])\n",
    "\n",
    "        taxonpks = checklist_accepted_herbier_taxonpk_matching.loc[accepted_plant_name_id]\n",
    "        taxonpks = [int(taxonpk) for taxonpk in taxonpks]\n",
    "\n",
    "        features = features.append(pd.Series([accepted_plant_name_id]+herbier_based_features([accepted_plant_name_id],taxonpks)),ignore_index=True)\n",
    "\n",
    "    if not features.empty:\n",
    "        features.columns = ['accepted_plant_name_id']+column_names+['herbier_n_'+str(year)+'_'+str(year+20) for year in list(date_hist_bins)[:-1]]\n",
    "        features = features.astype({**{'herbier_n_'+foo:'Int64'  for foo in ['obs','taxon','secteurs','pays','obs_last_5y','obs_last_10y','obs_last_20y','obs_last_50y']+[str(year)+'_'+str(year+20) for year in list(date_hist_bins)[:-1]]},\n",
    "                        **{foo:'Int64' for foo in ['herbier_max_date','herbier_min_date','herbier_delta_date','herbier_age_last_obs','herbier_age_first_obs']}})\n",
    "        features.to_csv('/home/joon/data/herbier-based-features-'+genus+'.csv',header=False,index=False)"
   ]
  },
  {
   "cell_type": "code",
   "execution_count": 180,
   "metadata": {
    "autoscroll": false,
    "collapsed": false,
    "ein.hycell": false,
    "ein.tags": "worksheet-0",
    "slideshow": {
     "slide_type": "-"
    }
   },
   "outputs": [
    {
     "data": {
      "text/plain": [
       "0"
      ]
     },
     "execution_count": 180,
     "metadata": {},
     "output_type": "execute_result"
    }
   ],
   "source": [
    "os.system('find /home/joon/data -type f -name \\'herbier-based-features*.csv\\' | xargs rm')\n",
    "\n",
    "from multiprocessing import Pool\n",
    "with Pool(processes=11) as pool:\n",
    "    pool.map(herbier_based_features_process_genus, checklist_genus_values)\n",
    "\n",
    "pd.DataFrame([['accepted_plant_name_id']+column_names+['herbier_n_'+str(year)+'_'+str(year+20) for year in list(date_hist_bins)[:-1]]]).to_csv('/home/joon/data/herbier-based-features_column-names.csv',header=None,index=None)\n",
    "\n",
    "#fusionner les résultats et supprimer les fichiers temporaires!\n",
    "os.system('find /home/joon/data -type f -name \\'herbier-based-features-*.csv\\' | xargs cat /home/joon/data/herbier-based-features_column-names.csv > /home/joon/data/herbier-based-features.csv')\n",
    "os.system('find /home/joon/data -type f -name \\'herbier-based-features-*.csv\\' | xargs rm')"
   ]
  },
  {
   "cell_type": "markdown",
   "metadata": {
    "ein.tags": "worksheet-0",
    "slideshow": {
     "slide_type": "-"
    }
   },
   "source": [
    "# Features for iucn_taxon_id"
   ]
  },
  {
   "cell_type": "code",
   "execution_count": 111,
   "metadata": {
    "autoscroll": false,
    "collapsed": false,
    "ein.hycell": false,
    "ein.tags": "worksheet-0",
    "slideshow": {
     "slide_type": "-"
    }
   },
   "outputs": [],
   "source": [
    "iucn_herbier_taxonpk_matching = pd.read_csv('/home/joon/data/iucn-herbier-taxonpk-matching.csv',index_col=0,header=None,squeeze=True,converters={1:read_set_in_csv},dtype={0:'int'})"
   ]
  },
  {
   "cell_type": "code",
   "execution_count": 99,
   "metadata": {
    "autoscroll": false,
    "collapsed": false,
    "ein.hycell": false,
    "ein.tags": "worksheet-0",
    "slideshow": {
     "slide_type": "-"
    }
   },
   "outputs": [],
   "source": [
    "iucn_checklist_matching = pd.read_csv('/home/joon/data/iucn-checklist-matching.csv',index_col=0,header=None,squeeze=True,converters={1:read_set_in_csv},dtype={0:'int'})"
   ]
  },
  {
   "cell_type": "code",
   "execution_count": 33,
   "metadata": {
    "autoscroll": false,
    "collapsed": false,
    "ein.hycell": false,
    "ein.tags": "worksheet-0",
    "slideshow": {
     "slide_type": "-"
    }
   },
   "outputs": [],
   "source": [
    "iucn_taxon_ids = iucn_checklist_matching.index.unique()"
   ]
  },
  {
   "cell_type": "code",
   "execution_count": 133,
   "metadata": {
    "autoscroll": false,
    "collapsed": false,
    "ein.hycell": false,
    "ein.tags": "worksheet-0",
    "slideshow": {
     "slide_type": "-"
    }
   },
   "outputs": [],
   "source": [
    "def herbier_based_features_for_iucn_process_split(split_nb):\n",
    "    features = pd.DataFrame([])\n",
    "\n",
    "    global splits\n",
    "\n",
    "    split = splits[split_nb]\n",
    "\n",
    "    for iucn_taxon_id in split:\n",
    "        taxonpks = iucn_herbier_taxonpk_matching.loc[iucn_taxon_id]\n",
    "        taxonpks = [int(taxonpk) for taxonpk in taxonpks]\n",
    "        accepted_plant_name_ids = iucn_checklist_matching.loc[iucn_taxon_id]\n",
    "        features_row = herbier_based_features(accepted_plant_name_ids,taxonpks)\n",
    "        features = features.append(pd.Series([iucn_taxon_id]+features_row),ignore_index=True)\n",
    "\n",
    "\n",
    "    if not features.empty:\n",
    "        features.columns = ['iucn_taxon_id']+column_names+['herbier_n_'+str(year)+'_'+str(year+20) for year in list(date_hist_bins)[:-1]]\n",
    "        features = features.astype({**{'herbier_n_'+foo:'Int64'  for foo in ['obs','taxon','secteurs','pays','obs_last_5y','obs_last_10y','obs_last_20y','obs_last_50y']+[str(year)+'_'+str(year+20) for year in list(date_hist_bins)[:-1]]},\n",
    "                        **{foo:'Int64' for foo in ['herbier_max_date','herbier_min_date','herbier_delta_date','herbier_age_last_obs','herbier_age_first_obs']}})\n",
    "        features.to_csv('/home/joon/data/herbier-based-features-for_iucn-split-'+str(split_nb)+'.csv',header=False,index=False)"
   ]
  },
  {
   "cell_type": "code",
   "execution_count": 136,
   "metadata": {
    "autoscroll": false,
    "collapsed": false,
    "ein.hycell": false,
    "ein.tags": "worksheet-0",
    "slideshow": {
     "slide_type": "-"
    }
   },
   "outputs": [
    {
     "data": {
      "text/plain": [
       "0"
      ]
     },
     "execution_count": 136,
     "metadata": {},
     "output_type": "execute_result"
    }
   ],
   "source": [
    "os.system('find /home/joon/data -type f -name \\'herbier-based-features-for_iucn*.csv\\' | xargs rm')\n",
    "\n",
    "nb_splits = 1000\n",
    "splits = np.array_split(iucn_taxon_ids,nb_splits)\n",
    "\n",
    "from multiprocessing import Pool\n",
    "with Pool(processes=11) as pool:\n",
    "    pool.map(herbier_based_features_for_iucn_process_split,range(len(splits)))\n",
    "\n",
    "pd.DataFrame([['iucn_taxon_id']+column_names+['herbier_n_'+str(year)+'_'+str(year+20) for year in list(date_hist_bins)[:-1]]]).to_csv('/home/joon/data/herbier-based-features-for_iucn-column-names.csv',header=None,index=None)\n",
    "\n",
    "os.system('find /home/joon/data -type f -name \\'herbier-based-features-for_iucn-split*.csv\\' | xargs cat /home/joon/data/herbier-based-features-for_iucn-column-names.csv > /home/joon/data/herbier-based-features-for_iucn.csv')\n",
    "os.system('find /home/joon/data -type f -name \\'herbier-based-features-for_iucn-*.csv\\' | xargs rm')"
   ]
  },
  {
   "cell_type": "code",
   "execution_count": null,
   "metadata": {
    "autoscroll": false,
    "collapsed": false,
    "ein.hycell": false,
    "ein.tags": "worksheet-0",
    "slideshow": {
     "slide_type": "-"
    }
   },
   "outputs": [],
   "source": []
  }
 ],
 "metadata": {
  "kernelspec": {
   "argv": [
    "python",
    "-m",
    "ipykernel_launcher",
    "-f",
    "{connection_file}"
   ],
   "display_name": "Python 3",
   "env": null,
   "interrupt_mode": "signal",
   "language": "python",
   "metadata": null,
   "name": "python3"
  },
  "name": "herbier_based_features.ipynb"
 },
 "nbformat": 4,
 "nbformat_minor": 2
}
