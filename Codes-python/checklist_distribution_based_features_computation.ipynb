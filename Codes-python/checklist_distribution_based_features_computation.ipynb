{
 "cells": [
  {
   "cell_type": "markdown",
   "metadata": {
    "ein.tags": "worksheet-0",
    "slideshow": {
     "slide_type": "-"
    }
   },
   "source": [
    "CHECKLIST DISTRIBUTION: AGGREGATION"
   ]
  },
  {
   "cell_type": "code",
   "execution_count": 1,
   "metadata": {
    "autoscroll": false,
    "collapsed": false,
    "ein.hycell": false,
    "ein.tags": "worksheet-0",
    "slideshow": {
     "slide_type": "-"
    }
   },
   "outputs": [],
   "source": [
    "import numpy as np\n",
    "import pandas as pd"
   ]
  },
  {
   "cell_type": "markdown",
   "metadata": {
    "ein.tags": "worksheet-0",
    "slideshow": {
     "slide_type": "-"
    }
   },
   "source": [
    "# Load checklist"
   ]
  },
  {
   "cell_type": "code",
   "execution_count": 2,
   "metadata": {
    "autoscroll": false,
    "collapsed": false,
    "ein.hycell": false,
    "ein.tags": "worksheet-0",
    "slideshow": {
     "slide_type": "-"
    }
   },
   "outputs": [],
   "source": [
    "checklist = pd.read_csv('/home/joon/data/checklist_taxonomy_preprocessed.csv',index_col='accepted_plant_name_id')\n",
    "checklist = checklist[['taxon_status', 'family', 'genus', 'species', 'taxon_name', 'taxon_authors', 'plant_name_id']]\n",
    "checklist.dropna(axis=0,subset=['species'],inplace=True)\n",
    "checklist_genus_values = checklist.genus.unique()"
   ]
  },
  {
   "cell_type": "code",
   "execution_count": null,
   "metadata": {
    "autoscroll": false,
    "collapsed": false,
    "ein.hycell": false,
    "ein.tags": "worksheet-0",
    "slideshow": {
     "slide_type": "-"
    }
   },
   "outputs": [],
   "source": [
    "checklistdist = pd.read_csv('/home/joon/data/checklist_distribution_preprocessed.csv',index_col='plant_name_id')\n",
    "checklistdist_plant_name_ids = set(checklistdist.index)"
   ]
  },
  {
   "cell_type": "code",
   "execution_count": 4,
   "metadata": {
    "autoscroll": false,
    "collapsed": false,
    "ein.hycell": false,
    "ein.tags": "worksheet-0",
    "slideshow": {
     "slide_type": "-"
    }
   },
   "outputs": [],
   "source": [
    "area_codes = checklistdist.area_code_l3.str.upper().unique()\n",
    "area_codes = area_codes[~pd.isnull(area_codes)]"
   ]
  },
  {
   "cell_type": "markdown",
   "metadata": {
    "ein.tags": "worksheet-0",
    "slideshow": {
     "slide_type": "-"
    }
   },
   "source": [
    "# Number of observations"
   ]
  },
  {
   "cell_type": "code",
   "execution_count": 5,
   "metadata": {
    "autoscroll": false,
    "collapsed": false,
    "ein.hycell": false,
    "ein.tags": "worksheet-0",
    "slideshow": {
     "slide_type": "-"
    }
   },
   "outputs": [],
   "source": [
    "def checklist_n_obs(checklist):\n",
    "    return checklist.shape[0]"
   ]
  },
  {
   "cell_type": "markdown",
   "metadata": {
    "ein.tags": "worksheet-0",
    "slideshow": {
     "slide_type": "-"
    }
   },
   "source": [
    "# Number of contients"
   ]
  },
  {
   "cell_type": "code",
   "execution_count": 6,
   "metadata": {
    "autoscroll": false,
    "collapsed": false,
    "ein.hycell": false,
    "ein.tags": "worksheet-0",
    "slideshow": {
     "slide_type": "-"
    }
   },
   "outputs": [],
   "source": [
    "def checklist_n_continents(checklist):\n",
    "    return checklist.continent_code_l1.nunique()"
   ]
  },
  {
   "cell_type": "markdown",
   "metadata": {
    "ein.tags": "worksheet-0",
    "slideshow": {
     "slide_type": "-"
    }
   },
   "source": [
    "# Number of regions"
   ]
  },
  {
   "cell_type": "code",
   "execution_count": 7,
   "metadata": {
    "autoscroll": false,
    "collapsed": false,
    "ein.hycell": false,
    "ein.tags": "worksheet-0",
    "slideshow": {
     "slide_type": "-"
    }
   },
   "outputs": [],
   "source": [
    "def checklist_n_regions(checklist):\n",
    "    return checklist.region_code_l2.nunique()"
   ]
  },
  {
   "cell_type": "markdown",
   "metadata": {
    "ein.tags": "worksheet-0",
    "slideshow": {
     "slide_type": "-"
    }
   },
   "source": [
    "# Number of areas. "
   ]
  },
  {
   "cell_type": "code",
   "execution_count": 8,
   "metadata": {
    "autoscroll": false,
    "collapsed": false,
    "ein.hycell": false,
    "ein.tags": "worksheet-0",
    "slideshow": {
     "slide_type": "-"
    }
   },
   "outputs": [],
   "source": [
    "def checklist_n_areas(checklist):\n",
    "    return checklist.area_code_l3.nunique()"
   ]
  },
  {
   "cell_type": "markdown",
   "metadata": {
    "ein.tags": "worksheet-0",
    "slideshow": {
     "slide_type": "-"
    }
   },
   "source": [
    "# Union of areas: minlat, maxlat, km2"
   ]
  },
  {
   "cell_type": "code",
   "execution_count": 9,
   "metadata": {
    "autoscroll": false,
    "collapsed": false,
    "ein.hycell": false,
    "ein.tags": "worksheet-0",
    "slideshow": {
     "slide_type": "-"
    }
   },
   "outputs": [],
   "source": [
    "tdwg = pd.read_csv('/home/joon/data/tdwg3.csv')"
   ]
  },
  {
   "cell_type": "code",
   "execution_count": 10,
   "metadata": {
    "autoscroll": false,
    "collapsed": false,
    "ein.hycell": false,
    "ein.tags": "worksheet-0",
    "slideshow": {
     "slide_type": "-"
    }
   },
   "outputs": [],
   "source": [
    "tdwg_areas = pd.read_csv('tdwg_computed_areas.csv')"
   ]
  },
  {
   "cell_type": "code",
   "execution_count": 11,
   "metadata": {
    "autoscroll": false,
    "collapsed": false,
    "ein.hycell": false,
    "ein.tags": "worksheet-0",
    "slideshow": {
     "slide_type": "-"
    }
   },
   "outputs": [],
   "source": [
    "def checklist_union_areas_km2(checklist):\n",
    "    return np.sum(tdwg_areas.loc[tdwg_areas.level3_cod.isin(checklist.area_code_l3.unique()),'m2'])"
   ]
  },
  {
   "cell_type": "code",
   "execution_count": 12,
   "metadata": {
    "autoscroll": false,
    "collapsed": false,
    "ein.hycell": false,
    "ein.tags": "worksheet-0",
    "slideshow": {
     "slide_type": "-"
    }
   },
   "outputs": [],
   "source": [
    "def checklist_union_areas_min_lat(checklist):\n",
    "    return np.min(tdwg.loc[tdwg.LEVEL3_COD.isin(checklist.area_code_l3.unique()),'min_lat'])"
   ]
  },
  {
   "cell_type": "code",
   "execution_count": 13,
   "metadata": {
    "autoscroll": false,
    "collapsed": false,
    "ein.hycell": false,
    "ein.tags": "worksheet-0",
    "slideshow": {
     "slide_type": "-"
    }
   },
   "outputs": [],
   "source": [
    "def checklist_union_areas_max_lat(checklist):\n",
    "    return np.max(tdwg.loc[tdwg.LEVEL3_COD.isin(checklist.area_code_l3.unique()),'max_lat'])"
   ]
  },
  {
   "cell_type": "markdown",
   "metadata": {
    "ein.tags": "worksheet-0",
    "slideshow": {
     "slide_type": "-"
    }
   },
   "source": [
    "# histogram areas\n",
    "TODO: virer plein de areas chelous ?"
   ]
  },
  {
   "cell_type": "code",
   "execution_count": 14,
   "metadata": {
    "autoscroll": false,
    "collapsed": false,
    "ein.hycell": false,
    "ein.tags": "worksheet-0",
    "slideshow": {
     "slide_type": "-"
    }
   },
   "outputs": [],
   "source": [
    "def checklist_areas_hist(checklist):\n",
    "    hist = pd.Series(np.full(len(area_codes),0),index=area_codes)\n",
    "    value_counts = checklist.area_code_l3.str.upper().value_counts()\n",
    "    hist[value_counts.index] = value_counts\n",
    "    return hist"
   ]
  },
  {
   "cell_type": "markdown",
   "metadata": {
    "ein.tags": "worksheet-0",
    "slideshow": {
     "slide_type": "-"
    }
   },
   "source": [
    "# Computation"
   ]
  },
  {
   "cell_type": "code",
   "execution_count": 15,
   "metadata": {
    "autoscroll": false,
    "collapsed": false,
    "ein.hycell": false,
    "ein.tags": "worksheet-0",
    "slideshow": {
     "slide_type": "-"
    }
   },
   "outputs": [],
   "source": [
    "aggregation_functions = [checklist_n_obs,checklist_n_continents,checklist_n_regions,checklist_n_areas,checklist_union_areas_km2,checklist_union_areas_min_lat,checklist_union_areas_max_lat]\n",
    "column_names = ['checklist_n_obs','checklist_n_continents','checklist_n_regions','checklist_n_areas','checklist_union_areas_km2','checklist_union_areas_min_lat','checklist_union_areas_max_lat']+['n_in_'+code for code in area_codes]"
   ]
  },
  {
   "cell_type": "markdown",
   "metadata": {
    "ein.tags": "worksheet-0",
    "slideshow": {
     "slide_type": "-"
    }
   },
   "source": [
    "TODO: Computation for each checklist accepted"
   ]
  },
  {
   "cell_type": "code",
   "execution_count": 16,
   "metadata": {
    "autoscroll": false,
    "collapsed": false,
    "ein.hycell": false,
    "ein.tags": "worksheet-0",
    "slideshow": {
     "slide_type": "-"
    }
   },
   "outputs": [],
   "source": [
    "def checklist_distribution_based_features_process_genus(genus):\n",
    "    df = pd.DataFrame([])\n",
    "\n",
    "    checklist_from_genus = checklist[checklist.genus==genus]\n",
    "    checklist_from_genus = checklist_from_genus[checklist_from_genus.index == checklist_from_genus.plant_name_id]\n",
    "    accepted_plant_name_ids_from_genus = checklist_from_genus.index.unique()\n",
    "\n",
    "    for accepted_plant_name_id in accepted_plant_name_ids_from_genus:\n",
    "        selected_plant_name_ids = set(checklist.loc[accepted_plant_name_id].plant_name_id)\n",
    "        selected_plant_name_ids = selected_plant_name_ids.intersection(checklistdist_plant_name_ids)\n",
    "        selected_distribution = checklistdist.loc[list(selected_plant_name_ids)]\n",
    "\n",
    "        df = df.append(pd.Series([accepted_plant_name_id]+[f(selected_distribution) for f in aggregation_functions]+list(checklist_areas_hist(selected_distribution))),ignore_index=True)\n",
    "\n",
    "    if not df.empty:\n",
    "        df.columns = ['accepted_plant_name_id']+column_names\n",
    "        df = df.astype({**{'checklist_n_'+foo:'Int64'  for foo in ['obs','continents','regions','areas']},\n",
    "                        **{'n_in_'+country:'Int64' for country in area_codes}})\n",
    "        df.to_csv('/home/joon/data/checklist-distribution-based-features-'+genus+'.csv',header=False,index=False)"
   ]
  },
  {
   "cell_type": "code",
   "execution_count": 17,
   "metadata": {
    "autoscroll": false,
    "collapsed": false,
    "ein.hycell": false,
    "ein.tags": "worksheet-0",
    "slideshow": {
     "slide_type": "-"
    }
   },
   "outputs": [],
   "source": [
    "def checklist_distribution_based_features_compute(selected_distribution):\n",
    "    return [f(selected_distribution) for f in aggregation_functions]+list(checklist_areas_hist(selected_distribution))"
   ]
  },
  {
   "cell_type": "code",
   "execution_count": 451,
   "metadata": {
    "autoscroll": false,
    "collapsed": false,
    "ein.hycell": false,
    "ein.tags": "worksheet-0",
    "slideshow": {
     "slide_type": "-"
    }
   },
   "outputs": [
    {
     "data": {
      "text/plain": [
       "0"
      ]
     },
     "execution_count": 451,
     "metadata": {},
     "output_type": "execute_result"
    }
   ],
   "source": [
    "os.system('find /home/joon/data -type f -name \\'checklist-distribution-based-features*.csv\\' | xargs rm')\n",
    "\n",
    "from multiprocessing import Pool\n",
    "with Pool(processes=11) as pool:\n",
    "    pool.map(checklist_distribution_based_features_process_genus, checklist_genus_values)\n",
    "\n",
    "pd.DataFrame([['accepted_plant_name_id']+column_names]).to_csv('/home/joon/data/checklist-distribution-based-features_column-names.csv',header=None,index=None)\n",
    "\n",
    "#fusionner les résultats et supprimer les fichiers temporaires!\n",
    "os.system('find /home/joon/data -type f -name \\'checklist-distribution-based-features-*.csv\\' | xargs cat /home/joon/data/checklist-distribution-based-features_column-names.csv > /home/joon/data/checklist-distribution-based-features.csv')\n",
    "os.system('find /home/joon/data -type f -name \\'checklist-distribution-based-features-*.csv\\' | xargs rm')"
   ]
  },
  {
   "cell_type": "markdown",
   "metadata": {
    "ein.tags": "worksheet-0",
    "slideshow": {
     "slide_type": "-"
    }
   },
   "source": [
    "Computation for each iucn taxon index"
   ]
  },
  {
   "cell_type": "code",
   "execution_count": 18,
   "metadata": {
    "autoscroll": false,
    "collapsed": false,
    "ein.hycell": false,
    "ein.tags": "worksheet-0",
    "slideshow": {
     "slide_type": "-"
    }
   },
   "outputs": [],
   "source": [
    "def read_set_in_csv(x):\n",
    "    if x=='set()':\n",
    "        return set()\n",
    "    else:\n",
    "        return set(x.replace(\"'\",'').strip('{}').split(', '))"
   ]
  },
  {
   "cell_type": "code",
   "execution_count": 19,
   "metadata": {
    "autoscroll": false,
    "collapsed": false,
    "ein.hycell": false,
    "ein.tags": "worksheet-0",
    "slideshow": {
     "slide_type": "-"
    }
   },
   "outputs": [],
   "source": [
    "iucn_checklist_matching = pd.read_csv('/home/joon/data/iucn-checklist-matching.csv',index_col=0,header=None,squeeze=True,converters={1:read_set_in_csv})"
   ]
  },
  {
   "cell_type": "code",
   "execution_count": 20,
   "metadata": {
    "autoscroll": false,
    "collapsed": false,
    "ein.hycell": false,
    "ein.tags": "worksheet-0",
    "slideshow": {
     "slide_type": "-"
    }
   },
   "outputs": [],
   "source": [
    "df = pd.DataFrame([])\n",
    "\n",
    "for iucn_taxon_index in iucn_checklist_matching.index:\n",
    "    selected_accepted_plant_name_ids = iucn_checklist_matching.loc[iucn_taxon_index]\n",
    "    selected_plant_name_ids = set(checklist.loc[selected_accepted_plant_name_ids].plant_name_id)\n",
    "    selected_plant_name_ids = selected_plant_name_ids.intersection(checklistdist_plant_name_ids)\n",
    "    selected_distribution = checklistdist.loc[list(selected_plant_name_ids)]\n",
    "\n",
    "    if selected_plant_name_ids != set():\n",
    "        df = df.append(pd.Series([iucn_taxon_index]+checklist_distribution_based_features_compute(selected_distribution)),ignore_index=True)\n",
    "    else:\n",
    "        df = df.append(pd.Series([iucn_taxon_index]+[np.nan for i in column_names]),ignore_index=True)\n",
    "\n",
    "df.columns = ['iucn_taxon_index']+column_names\n",
    "\n",
    "df = df.astype({**{'iucn_taxon_index':int},\n",
    "                **{'checklist_n_'+foo:'Int64'  for foo in ['obs','continents','regions','areas']},\n",
    "                **{'n_in_'+country:'Int64' for country in area_codes}})\n",
    "\n",
    "df.to_csv('/home/joon/data/checklist-distribution-based-features-for-iucn.csv',index=False)"
   ]
  },
  {
   "cell_type": "code",
   "execution_count": null,
   "metadata": {
    "autoscroll": false,
    "collapsed": false,
    "ein.hycell": false,
    "ein.tags": "worksheet-0",
    "slideshow": {
     "slide_type": "-"
    }
   },
   "outputs": [],
   "source": []
  }
 ],
 "metadata": {
  "kernelspec": {
   "argv": [
    "python",
    "-m",
    "ipykernel_launcher",
    "-f",
    "{connection_file}"
   ],
   "display_name": "Python 3",
   "env": null,
   "interrupt_mode": "signal",
   "language": "python",
   "metadata": null,
   "name": "python3"
  },
  "name": "checklist_distribution_based_features_computation.ipynb"
 },
 "nbformat": 4,
 "nbformat_minor": 2
}
