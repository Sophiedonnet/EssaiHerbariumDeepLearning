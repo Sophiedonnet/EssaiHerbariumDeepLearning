{
 "cells": [
  {
   "cell_type": "code",
   "execution_count": 1,
   "metadata": {
    "autoscroll": false,
    "collapsed": false,
    "ein.hycell": false,
    "ein.tags": "worksheet-0",
    "slideshow": {
     "slide_type": "-"
    }
   },
   "outputs": [],
   "source": [
    "import numpy as np\n",
    "import pandas as pd"
   ]
  },
  {
   "cell_type": "code",
   "execution_count": 2,
   "metadata": {
    "autoscroll": false,
    "collapsed": false,
    "ein.hycell": false,
    "ein.tags": "worksheet-0",
    "slideshow": {
     "slide_type": "-"
    }
   },
   "outputs": [],
   "source": [
    "path = '/home/joon/data/'"
   ]
  },
  {
   "cell_type": "code",
   "execution_count": 236,
   "metadata": {
    "autoscroll": false,
    "collapsed": false,
    "ein.hycell": false,
    "ein.tags": "worksheet-0",
    "slideshow": {
     "slide_type": "-"
    }
   },
   "outputs": [],
   "source": [
    "iucn_assessments = pd.read_csv(path+\"iucn/assessments.csv\",sep=',',usecols=['internalTaxonId','redlistCategory']).set_index('internalTaxonId')\n",
    "checklist_distribution_features_for_iucn = pd.read_csv(path+'checklist-distribution-based-features-for-iucn.csv',index_col=0)\n",
    "checklist_distribution_features = pd.read_csv(path+'checklist-distribution-based-features.csv',index_col=0)"
   ]
  },
  {
   "cell_type": "code",
   "execution_count": 238,
   "metadata": {
    "autoscroll": false,
    "collapsed": false,
    "ein.hycell": false,
    "ein.tags": "worksheet-0",
    "slideshow": {
     "slide_type": "-"
    }
   },
   "outputs": [],
   "source": [
    "checklist_distribution_features = checklist_distribution_features.loc[~checklist_distribution_features.index.duplicated(keep='first')]\n",
    "checklist_distribution_features_for_iucn = checklist_distribution_features_for_iucn.loc[~checklist_distribution_features_for_iucn.index.duplicated(keep='first')]"
   ]
  },
  {
   "cell_type": "code",
   "execution_count": 239,
   "metadata": {
    "autoscroll": false,
    "collapsed": false,
    "ein.hycell": false,
    "ein.tags": "worksheet-0",
    "slideshow": {
     "slide_type": "-"
    }
   },
   "outputs": [
    {
     "name": "stderr",
     "output_type": "stream",
     "text": [
      "/usr/lib/python3.8/site-packages/IPython/core/interactiveshell.py:3062: DtypeWarning: Columns (1,2,3,4,7,8,9,10,11,12,13,14,15,16,17,18,19,20,21,22,23,24,25,26,27,28,29) have mixed types.Specify dtype option on import or set low_memory=False.\n",
      "  has_raised = await self.run_ast_nodes(code_ast.body, cell_name,\n"
     ]
    }
   ],
   "source": [
    "checklist_taxonomy_features = pd.read_csv(path+'checklist-taxonomy-based-features.csv',index_col=0)\n",
    "checklist_taxonomy_features_for_iucn = pd.read_csv(path+'checklist-taxonomy-based-features-for-iucn.csv',index_col=0)"
   ]
  },
  {
   "cell_type": "code",
   "execution_count": 240,
   "metadata": {
    "autoscroll": false,
    "collapsed": false,
    "ein.hycell": false,
    "ein.tags": "worksheet-0",
    "slideshow": {
     "slide_type": "-"
    }
   },
   "outputs": [],
   "source": [
    "checklist_taxonomy_features = checklist_taxonomy_features.loc[~checklist_taxonomy_features.index.duplicated(keep='first')]\n",
    "checklist_taxonomy_features_for_iucn = checklist_taxonomy_features_for_iucn.loc[~checklist_taxonomy_features_for_iucn.index.duplicated(keep='first')]"
   ]
  },
  {
   "cell_type": "code",
   "execution_count": 270,
   "metadata": {
    "autoscroll": false,
    "collapsed": false,
    "ein.hycell": false,
    "ein.tags": "worksheet-0",
    "slideshow": {
     "slide_type": "-"
    }
   },
   "outputs": [],
   "source": [
    "gbif_distribution_features = pd.read_csv(path+'gbif-based-features.csv',index_col=0,dtype={'iucn_taxon_id':int})\n",
    "gbif_distribution_features_for_iucn = pd.read_csv(path+'gbif-based-features-for_iucn.csv',index_col=0,dtype={'iucn_taxon_id':int})"
   ]
  },
  {
   "cell_type": "code",
   "execution_count": 271,
   "metadata": {
    "autoscroll": false,
    "collapsed": false,
    "ein.hycell": false,
    "ein.tags": "worksheet-0",
    "slideshow": {
     "slide_type": "-"
    }
   },
   "outputs": [],
   "source": [
    "gbif_distribution_features = gbif_distribution_features.loc[~gbif_distribution_features.index.duplicated(keep='first')]\n",
    "gbif_distribution_features_for_iucn = gbif_distribution_features_for_iucn.loc[~gbif_distribution_features_for_iucn.index.duplicated(keep='first')]"
   ]
  },
  {
   "cell_type": "code",
   "execution_count": 272,
   "metadata": {
    "autoscroll": false,
    "collapsed": false,
    "ein.hycell": false,
    "ein.tags": "worksheet-0",
    "slideshow": {
     "slide_type": "-"
    }
   },
   "outputs": [
    {
     "name": "stderr",
     "output_type": "stream",
     "text": [
      "/usr/lib/python3.8/site-packages/IPython/core/interactiveshell.py:3062: DtypeWarning: Columns (1,2,3,4,5,6,7,8,9,10,11,12,13,14) have mixed types.Specify dtype option on import or set low_memory=False.\n",
      "  has_raised = await self.run_ast_nodes(code_ast.body, cell_name,\n"
     ]
    }
   ],
   "source": [
    "herbier_features = pd.read_csv(path+'herbier-based-features.csv',index_col=0,dtype={'iucn_taxon_id':int})\n",
    "herbier_features_for_iucn = pd.read_csv(path+'herbier-based-features-for_iucn.csv',index_col=0,dtype={'iucn_taxon_id':int})"
   ]
  },
  {
   "cell_type": "code",
   "execution_count": 273,
   "metadata": {
    "autoscroll": false,
    "collapsed": false,
    "ein.hycell": false,
    "ein.tags": "worksheet-0",
    "slideshow": {
     "slide_type": "-"
    }
   },
   "outputs": [],
   "source": [
    "herbier_features = herbier_features.loc[~herbier_features.index.duplicated(keep='first')]\n",
    "herbier_features_for_iucn = herbier_features_for_iucn.loc[~herbier_features_for_iucn.index.duplicated(keep='first')]"
   ]
  },
  {
   "cell_type": "code",
   "execution_count": 274,
   "metadata": {
    "autoscroll": false,
    "collapsed": false,
    "ein.hycell": false,
    "ein.tags": "worksheet-0",
    "slideshow": {
     "slide_type": "-"
    }
   },
   "outputs": [],
   "source": [
    "df = pd.concat([checklist_distribution_features,checklist_taxonomy_features,gbif_distribution_features,herbier_features],axis=1,sort=False)"
   ]
  },
  {
   "cell_type": "code",
   "execution_count": 275,
   "metadata": {
    "autoscroll": false,
    "collapsed": false,
    "ein.hycell": false,
    "ein.tags": "worksheet-0",
    "slideshow": {
     "slide_type": "-"
    }
   },
   "outputs": [],
   "source": [
    "df_for_iucn = pd.concat([checklist_distribution_features_for_iucn,checklist_taxonomy_features_for_iucn,gbif_distribution_features_for_iucn,herbier_features_for_iucn],axis=1,sort=False)"
   ]
  },
  {
   "cell_type": "markdown",
   "metadata": {
    "ein.tags": "worksheet-0",
    "slideshow": {
     "slide_type": "-"
    }
   },
   "source": [
    "New feature: ob of observations * surface"
   ]
  },
  {
   "cell_type": "code",
   "execution_count": 276,
   "metadata": {
    "autoscroll": false,
    "collapsed": false,
    "ein.hycell": false,
    "ein.tags": "worksheet-0",
    "slideshow": {
     "slide_type": "-"
    }
   },
   "outputs": [],
   "source": [
    "df['n_obs_times_surface'] = df.gbif_n_obs * df.checklist_union_areas_km2 \n",
    "df_for_iucn['n_obs_times_surface'] = df_for_iucn.gbif_n_obs * df_for_iucn.checklist_union_areas_km2 "
   ]
  },
  {
   "cell_type": "markdown",
   "metadata": {
    "ein.tags": "worksheet-0",
    "slideshow": {
     "slide_type": "-"
    }
   },
   "source": [
    "New feature: eoo/aoo"
   ]
  },
  {
   "cell_type": "code",
   "execution_count": 277,
   "metadata": {
    "autoscroll": false,
    "collapsed": false,
    "ein.hycell": false,
    "ein.tags": "worksheet-0",
    "slideshow": {
     "slide_type": "-"
    }
   },
   "outputs": [],
   "source": [
    "df['gbif_eoo_aoo_ratio'] = df.gbif_eoo / df.gbif_aoo\n",
    "df_for_iucn['gbif_eoo_aoo_ratio'] = df_for_iucn.gbif_eoo / df_for_iucn.gbif_aoo"
   ]
  },
  {
   "cell_type": "markdown",
   "metadata": {
    "ein.tags": "worksheet-0",
    "slideshow": {
     "slide_type": "-"
    }
   },
   "source": [
    "Target:"
   ]
  },
  {
   "cell_type": "code",
   "execution_count": 280,
   "metadata": {
    "autoscroll": false,
    "collapsed": false,
    "ein.hycell": false,
    "ein.tags": "worksheet-0",
    "slideshow": {
     "slide_type": "-"
    }
   },
   "outputs": [],
   "source": [
    "iucn_assessments.replace(to_replace='Least Concern',value=0,inplace=True)\n",
    "iucn_assessments.replace(to_replace='Lower Risk/least concern',value=0,inplace=True)\n",
    "iucn_assessments.replace(to_replace='Lower Risk/conservation dependent',value=1,inplace=True)\n",
    "iucn_assessments.replace(to_replace='Lower Risk/near threatened',value=1,inplace=True)\n",
    "iucn_assessments.replace(to_replace='Near Threatened',value=1,inplace=True)\n",
    "iucn_assessments.replace(to_replace='Vulnerable',value=2,inplace=True)\n",
    "iucn_assessments.replace(to_replace='Endangered',value=3,inplace=True)\n",
    "iucn_assessments.replace(to_replace='Critically Endangered',value=4,inplace=True)\n",
    "iucn_assessments.replace(to_replace='Extinct in the Wild',value=5,inplace=True)\n",
    "iucn_assessments.replace(to_replace='Extinct',value=6,inplace=True)"
   ]
  },
  {
   "cell_type": "code",
   "execution_count": 281,
   "metadata": {
    "autoscroll": false,
    "collapsed": false,
    "ein.hycell": false,
    "ein.tags": "worksheet-0",
    "slideshow": {
     "slide_type": "-"
    }
   },
   "outputs": [],
   "source": [
    "iucn_assessments = iucn_assessments[iucn_assessments.redlistCategory != 'Data Deficient']"
   ]
  },
  {
   "cell_type": "code",
   "execution_count": 282,
   "metadata": {
    "autoscroll": false,
    "collapsed": false,
    "ein.hycell": false,
    "ein.tags": "worksheet-0",
    "slideshow": {
     "slide_type": "-"
    }
   },
   "outputs": [],
   "source": [
    "iucn_assessments.to_csv(path+'target_number.csv',header=True,index=True)"
   ]
  },
  {
   "cell_type": "code",
   "execution_count": 283,
   "metadata": {
    "autoscroll": false,
    "collapsed": false,
    "ein.hycell": false,
    "ein.tags": "worksheet-0",
    "slideshow": {
     "slide_type": "-"
    }
   },
   "outputs": [],
   "source": [
    "iucn_assessments_binary = (iucn_assessments > 0).astype(int)"
   ]
  },
  {
   "cell_type": "code",
   "execution_count": 284,
   "metadata": {
    "autoscroll": false,
    "collapsed": false,
    "ein.hycell": false,
    "ein.tags": "worksheet-0",
    "slideshow": {
     "slide_type": "-"
    }
   },
   "outputs": [],
   "source": [
    "iucn_assessments_binary.to_csv(path+'target_binary.csv',header=False,index=True)"
   ]
  },
  {
   "cell_type": "code",
   "execution_count": 285,
   "metadata": {
    "autoscroll": false,
    "collapsed": false,
    "ein.hycell": false,
    "ein.tags": "worksheet-0",
    "slideshow": {
     "slide_type": "-"
    }
   },
   "outputs": [],
   "source": [
    "df_for_iucn = pd.concat([df_for_iucn,iucn_assessments.redlistCategory],axis=1,join='inner')"
   ]
  },
  {
   "cell_type": "code",
   "execution_count": 297,
   "metadata": {
    "autoscroll": false,
    "collapsed": false,
    "ein.hycell": false,
    "ein.tags": "worksheet-0",
    "slideshow": {
     "slide_type": "-"
    }
   },
   "outputs": [],
   "source": [
    "df.to_csv(path+'features.csv')\n",
    "df_for_iucn.to_csv(path+'features_and_target_for_iucn.csv')"
   ]
  },
  {
   "cell_type": "code",
   "execution_count": null,
   "metadata": {
    "autoscroll": false,
    "collapsed": false,
    "ein.hycell": false,
    "ein.tags": "worksheet-0",
    "slideshow": {
     "slide_type": "-"
    }
   },
   "outputs": [],
   "source": []
  }
 ],
 "metadata": {
  "kernelspec": {
   "argv": [
    "python",
    "-m",
    "ipykernel_launcher",
    "-f",
    "{connection_file}"
   ],
   "display_name": "Python 3",
   "env": null,
   "interrupt_mode": "signal",
   "language": "python",
   "metadata": null,
   "name": "python3"
  },
  "name": "features_and_target_file_creation.ipynb"
 },
 "nbformat": 4,
 "nbformat_minor": 2
}
