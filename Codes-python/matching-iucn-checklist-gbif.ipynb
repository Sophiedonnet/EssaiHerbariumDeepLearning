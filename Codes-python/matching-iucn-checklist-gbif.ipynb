{
 "cells": [
  {
   "cell_type": "markdown",
   "metadata": {
    "ein.tags": "worksheet-0",
    "slideshow": {
     "slide_type": "-"
    }
   },
   "source": [
    "Matching IUCN -> Checklist -> GBIF"
   ]
  },
  {
   "cell_type": "markdown",
   "metadata": {
    "ein.tags": "worksheet-0",
    "slideshow": {
     "slide_type": "-"
    }
   },
   "source": [
    "Packages"
   ]
  },
  {
   "cell_type": "code",
   "execution_count": 1,
   "metadata": {
    "autoscroll": false,
    "collapsed": false,
    "ein.hycell": false,
    "ein.tags": "worksheet-0",
    "slideshow": {
     "slide_type": "-"
    }
   },
   "outputs": [],
   "source": [
    "import numpy as np\n",
    "import os\n",
    "import pandas as pd\n",
    "import re\n",
    "import sys"
   ]
  },
  {
   "cell_type": "code",
   "execution_count": 2,
   "metadata": {
    "autoscroll": false,
    "collapsed": false,
    "ein.hycell": false,
    "ein.tags": "worksheet-0",
    "slideshow": {
     "slide_type": "-"
    }
   },
   "outputs": [],
   "source": [
    "def read_set_in_csv(x):\n",
    "    if x=='set()':\n",
    "        return set()\n",
    "    else:\n",
    "        return set(x.replace(\"'\",'').strip('{}').split(', '))"
   ]
  },
  {
   "cell_type": "markdown",
   "metadata": {
    "ein.tags": "worksheet-0",
    "slideshow": {
     "slide_type": "-"
    }
   },
   "source": [
    "Package pour des fuzzy matchings de chaînes de caractères"
   ]
  },
  {
   "cell_type": "code",
   "execution_count": 2,
   "metadata": {
    "autoscroll": false,
    "collapsed": false,
    "ein.hycell": false,
    "ein.tags": "worksheet-0",
    "slideshow": {
     "slide_type": "-"
    }
   },
   "outputs": [],
   "source": [
    "from fuzzywuzzy import process, fuzz\n",
    "def fuzzy_match_and_score(string,array):\n",
    "    fuzzy_extraction = process.extractOne(string,array)\n",
    "    return fuzzy_extraction[0], fuzzy_extraction[1]"
   ]
  },
  {
   "cell_type": "markdown",
   "metadata": {
    "ein.tags": "worksheet-0",
    "slideshow": {
     "slide_type": "-"
    }
   },
   "source": [
    "# Chargement d'IUCN (Redlist)"
   ]
  },
  {
   "cell_type": "code",
   "execution_count": 3,
   "metadata": {
    "autoscroll": false,
    "collapsed": false,
    "ein.hycell": false,
    "ein.tags": "worksheet-0",
    "slideshow": {
     "slide_type": "-"
    }
   },
   "outputs": [],
   "source": [
    "iucn = pd.read_csv(\"/home/joon/data/iucn/taxonomy.csv\",sep=',').set_index('internalTaxonId')"
   ]
  },
  {
   "cell_type": "markdown",
   "metadata": {
    "ein.tags": "worksheet-0",
    "slideshow": {
     "slide_type": "-"
    }
   },
   "source": [
    "On ne garde que les colonnes suivantes, et seulement les plantes vasculaires (TRACHEOPHYTA).\n",
    "Il y a un encodage bizarre pour \"&\" dans la colonne authority, on le corrige."
   ]
  },
  {
   "cell_type": "code",
   "execution_count": 4,
   "metadata": {
    "autoscroll": false,
    "collapsed": false,
    "ein.hycell": false,
    "ein.tags": "worksheet-0",
    "slideshow": {
     "slide_type": "-"
    }
   },
   "outputs": [],
   "source": [
    "iucn = iucn[['phylumName','familyName','genusName','speciesName','authority']]\n",
    "iucn = iucn[iucn.phylumName=='TRACHEOPHYTA']\n",
    "iucn['authority'] = iucn['authority'].str.replace('&amp;',\"&\",regex=False)"
   ]
  },
  {
   "cell_type": "markdown",
   "metadata": {
    "ein.tags": "worksheet-0",
    "slideshow": {
     "slide_type": "-"
    }
   },
   "source": [
    "Lorsqu'on fait des tests, on subsample IUCN pour raccourcir les calculs."
   ]
  },
  {
   "cell_type": "code",
   "execution_count": 5,
   "metadata": {
    "autoscroll": false,
    "collapsed": false,
    "ein.hycell": false,
    "ein.tags": "worksheet-0",
    "slideshow": {
     "slide_type": "-"
    }
   },
   "outputs": [],
   "source": [
    "# iucn = iucn.sample(n=1000)"
   ]
  },
  {
   "cell_type": "markdown",
   "metadata": {
    "ein.tags": "worksheet-0",
    "slideshow": {
     "slide_type": "-"
    }
   },
   "source": [
    "# Chargement de la checklist."
   ]
  },
  {
   "cell_type": "code",
   "execution_count": 5,
   "metadata": {
    "autoscroll": false,
    "collapsed": false,
    "ein.hycell": false,
    "ein.tags": "worksheet-0",
    "slideshow": {
     "slide_type": "-"
    }
   },
   "outputs": [],
   "source": [
    "checklist = pd.read_csv('/home/joon/data/checklist_taxonomy_preprocessed.csv',index_col='plant_name_id')\n",
    "checklist = checklist[['taxon_status', 'family', 'genus', 'species', 'taxon_name', 'taxon_authors', 'accepted_plant_name_id']]\n",
    "checklist.dropna(axis=0,subset=['species'],inplace=True)"
   ]
  },
  {
   "cell_type": "markdown",
   "metadata": {
    "ein.tags": "worksheet-0",
    "slideshow": {
     "slide_type": "-"
    }
   },
   "source": [
    "# Matching IUCN -> checklist"
   ]
  },
  {
   "cell_type": "markdown",
   "metadata": {
    "ein.tags": "worksheet-0",
    "slideshow": {
     "slide_type": "-"
    }
   },
   "source": [
    "## Fuzzy Matching des genus IUCN -> checklist\n",
    "Nécéssaire car certaines genus n'ont pas la même orthographe dans l'IUCN et la checklist\n",
    "On recherche des matchs appartenant à la même famille, de longueur (de la chaîne de caractères) similaire, et commençant par la même lettre.\n",
    "\n",
    "Les genus de l'IUCN qui ont nécessité un fuzzy matching sont listés avec le matching score et exporté dans un fichier Excel pour inspection et validation."
   ]
  },
  {
   "cell_type": "code",
   "execution_count": 8,
   "metadata": {
    "autoscroll": false,
    "collapsed": false,
    "ein.hycell": false,
    "ein.tags": "worksheet-0",
    "slideshow": {
     "slide_type": "-"
    }
   },
   "outputs": [],
   "source": [
    "checklist_genus_values = checklist.genus.unique()\n",
    "checklist_family_genus = checklist[['family','genus']].drop_duplicates()\n",
    "checklist_families = checklist.family.unique()\n",
    "genus_by_family = {}\n",
    "for family in checklist_families:\n",
    "    genus_by_family[family] = checklist.genus[checklist.family==family].values\n",
    "\n",
    "iucn_family_genus = iucn[['familyName','genusName']].drop_duplicates()\n",
    "iucn_family_genus.familyName = iucn_family_genus.familyName.str.title()\n",
    "iucn_genus_values = iucn_family_genus.genusName.unique()\n",
    "\n",
    "iucn_checklist_genus_matching = {}"
   ]
  },
  {
   "cell_type": "code",
   "execution_count": 9,
   "metadata": {
    "autoscroll": false,
    "collapsed": false,
    "ein.hycell": false,
    "ein.tags": "worksheet-0",
    "slideshow": {
     "slide_type": "-"
    }
   },
   "outputs": [
    {
     "name": "stdout",
     "output_type": "stream",
     "text": [
      "Platyspermation : Best fuzzy match: Periomphale (Score: 38 )\n",
      "Aporusa : Best fuzzy match: Aporosa (Score: 86 )\n"
     ]
    },
    {
     "name": "stdout",
     "output_type": "stream",
     "text": [
      "Hieronima : Best fuzzy match: Hieronyma (Score: 89 )\n",
      "Engelhardtia : Best fuzzy match: Engelhardia (Score: 96 )\n"
     ]
    },
    {
     "name": "stdout",
     "output_type": "stream",
     "text": [
      "Hyeronima : Best fuzzy match: Hieronyma (Score: 78 )\n",
      "Hymenopus : Best fuzzy match: Hunga (Score: 36 )\n",
      "Siphoneugenia : Best fuzzy match: Siphoneugena (Score: 96 )\n"
     ]
    },
    {
     "name": "stdout",
     "output_type": "stream",
     "text": [
      "Dasphyllum : Best fuzzy match: Dasyphyllum (Score: 95 )\n",
      "Rughidia : Best fuzzy match: Ridolfia (Score: 62 )\n",
      "Oreofraga : Best fuzzy match: Oreonana (Score: 71 )\n",
      "Mitrostigma : Best fuzzy match: Mitriostigma (Score: 96 )\n"
     ]
    },
    {
     "name": "stdout",
     "output_type": "stream",
     "text": [
      "Acanthephippium : Best fuzzy match: Acanthophippium (Score: 93 )\n",
      "Arisarum : Best fuzzy match: Arum (Score: 90 )\n"
     ]
    },
    {
     "name": "stdout",
     "output_type": "stream",
     "text": [
      "Ambrosina : Best fuzzy match: Ambrosinia (Score: 95 )\n",
      "Leptobalanus : Best fuzzy match: Lepidocarpa (Score: 52 )\n"
     ]
    }
   ],
   "source": [
    "iucn_checklist_genus_fuzzy_matching = pd.DataFrame([])\n",
    "\n",
    "for [family,genus] in iucn_family_genus.values:\n",
    "    if genus in checklist_genus_values:\n",
    "        iucn_checklist_genus_matching[genus]=genus\n",
    "    else:\n",
    "        if family in checklist_families:\n",
    "            values_of_family = genus_by_family[family]\n",
    "        else:\n",
    "            values_of_family = checklist_genus_values\n",
    "        considered_values = [value for value in values_of_family if ((len(genus)*3/4-2<=len(value)) & (len(value) <=len(genus)*4/3+2) & (value[0]==genus[0]))]\n",
    "        genus_guess, guess_score = fuzzy_match_and_score(genus,considered_values)\n",
    "        iucn_checklist_genus_matching[genus]=genus_guess\n",
    "        iucn_checklist_genus_fuzzy_matching = iucn_checklist_genus_fuzzy_matching.append(pd.Series([genus, genus_guess, guess_score]),ignore_index=True)\n",
    "        print(genus, \": Best fuzzy match:\", genus_guess, '(Score:',guess_score,')')"
   ]
  },
  {
   "cell_type": "code",
   "execution_count": 10,
   "metadata": {
    "autoscroll": false,
    "collapsed": false,
    "ein.hycell": false,
    "ein.tags": "worksheet-0",
    "slideshow": {
     "slide_type": "-"
    }
   },
   "outputs": [],
   "source": [
    "iucn_checklist_genus_fuzzy_matching.columns=['genus_in_iucn','matched_genus_in_checklist','score']\n",
    "iucn_checklist_genus_fuzzy_matching.sort_values('score',ascending=False,inplace=True)"
   ]
  },
  {
   "cell_type": "code",
   "execution_count": 11,
   "metadata": {
    "autoscroll": false,
    "collapsed": false,
    "ein.hycell": false,
    "ein.tags": "worksheet-0",
    "slideshow": {
     "slide_type": "-"
    }
   },
   "outputs": [],
   "source": [
    "iucn_checklist_genus_fuzzy_matching.to_excel(\"genus_iucn_chacklist_matching.xlsx\")"
   ]
  },
  {
   "cell_type": "markdown",
   "metadata": {
    "ein.tags": "worksheet-0",
    "slideshow": {
     "slide_type": "-"
    }
   },
   "source": [
    "Détermination des matchings de genus validés. Les genus non validés seront recherchés dans TPL.\n",
    "Première version à la hâche: on valide les matchs avec un score supérieur à 78.\n",
    "TODO: Le faire manuellement."
   ]
  },
  {
   "cell_type": "code",
   "execution_count": 12,
   "metadata": {
    "autoscroll": false,
    "collapsed": false,
    "ein.hycell": false,
    "ein.tags": "worksheet-0",
    "slideshow": {
     "slide_type": "-"
    }
   },
   "outputs": [],
   "source": [
    "iucn_checklist_genus_validated_matchings = iucn_checklist_genus_fuzzy_matching.score>=78\n",
    "iucn_genus_discarded = iucn_checklist_genus_fuzzy_matching.loc[~iucn_checklist_genus_validated_matchings,'genus_in_iucn'].values\n",
    "iucn_genus_values = [genus for genus in iucn_genus_values if genus not in iucn_genus_discarded]\n",
    "# iucn_checklist_genus_fuzzy_matching['validated'] = iucn_checklist_genus_validated_matchings"
   ]
  },
  {
   "cell_type": "code",
   "execution_count": 13,
   "metadata": {
    "autoscroll": false,
    "collapsed": false,
    "ein.hycell": false,
    "ein.tags": "worksheet-0",
    "slideshow": {
     "slide_type": "-"
    }
   },
   "outputs": [],
   "source": [
    "# iucn_checklist_genus_validated = iucn_checklist_genus_fuzzy_matching[iucn_checklist_genus_fuzzy_matching.validated==True].genus_in_iucn.values\n",
    "# iucn_checklist_genus_missing = iucn_checklist_genus_fuzzy_matching[iucn_checklist_genus_fuzzy_matching.validated==False].genus_in_iucn.values"
   ]
  },
  {
   "cell_type": "markdown",
   "metadata": {
    "ein.tags": "worksheet-0",
    "slideshow": {
     "slide_type": "-"
    }
   },
   "source": [
    "On met de côté les entrées de l'IUCN dont les genus ne sont pas dans la checklist pour éventuellement les rechercher dans TPL:"
   ]
  },
  {
   "cell_type": "code",
   "execution_count": 14,
   "metadata": {
    "autoscroll": false,
    "collapsed": false,
    "ein.hycell": false,
    "ein.tags": "worksheet-0",
    "slideshow": {
     "slide_type": "-"
    }
   },
   "outputs": [],
   "source": [
    "# iucn_for_tpl = iucn[iucn.genusName.isin(iucn_checklist_genus_missing)]\n",
    "# iucn.drop(iucn_for_tpl.index,inplace=True)"
   ]
  },
  {
   "cell_type": "markdown",
   "metadata": {
    "ein.tags": "worksheet-0",
    "slideshow": {
     "slide_type": "-"
    }
   },
   "source": [
    "## Matching des lignes IUCN -> Checklist\n",
    "iucn_checklist_matching contient pour chanque index iucn l'ensemble des accepted_plant_name_id correspondants dans la checklist"
   ]
  },
  {
   "cell_type": "code",
   "execution_count": 15,
   "metadata": {
    "autoscroll": false,
    "collapsed": false,
    "ein.hycell": false,
    "ein.tags": "worksheet-0",
    "slideshow": {
     "slide_type": "-"
    }
   },
   "outputs": [],
   "source": [
    "def filter_in_checklist_by_gs(genus,species,checklist=checklist):\n",
    "    foo = checklist[checklist.genus==genus]\n",
    "    return foo[foo.species==species]"
   ]
  },
  {
   "cell_type": "code",
   "execution_count": 16,
   "metadata": {
    "autoscroll": false,
    "collapsed": false,
    "ein.hycell": false,
    "ein.tags": "worksheet-0",
    "slideshow": {
     "slide_type": "-"
    }
   },
   "outputs": [],
   "source": [
    "def filter_in_checklist_by_author(string,df,regex=False):\n",
    "    return df[df.taxon_authors.str.contains(string,regex=regex,case=True)==True]"
   ]
  },
  {
   "cell_type": "code",
   "execution_count": 17,
   "metadata": {
    "autoscroll": false,
    "collapsed": false,
    "ein.hycell": false,
    "ein.tags": "worksheet-0",
    "slideshow": {
     "slide_type": "-"
    }
   },
   "outputs": [],
   "source": [
    "def only_keep_best_taxon_status(df):\n",
    "    worst_status = ['Invalid', 'Illegitimate', 'Misapplied', 'Unplaced', 'Artificial Hybrid', 'Incomplete', 'Orthograhic', 'Synonym', 'Accepted']\n",
    "    df_tmp = df\n",
    "    while (len(worst_status) > 0) & (df_tmp.accepted_plant_name_id.nunique() > 0):\n",
    "        status = worst_status.pop(0)\n",
    "        df = df_tmp\n",
    "        df_tmp = df[df.taxon_status != status]\n",
    "    return df"
   ]
  },
  {
   "cell_type": "code",
   "execution_count": 18,
   "metadata": {
    "autoscroll": false,
    "collapsed": false,
    "ein.hycell": false,
    "ein.tags": "worksheet-0",
    "slideshow": {
     "slide_type": "-"
    }
   },
   "outputs": [],
   "source": [
    "iucn_checklist_fuzzy_matchings_validated_by_thomas = pd.read_csv(\"iucn_checklist_fuzzy_matchings_validated_by_thomas.csv\", sep=',',index_col=0)"
   ]
  },
  {
   "cell_type": "code",
   "execution_count": 19,
   "metadata": {
    "autoscroll": false,
    "collapsed": false,
    "ein.hycell": false,
    "ein.tags": "worksheet-0",
    "slideshow": {
     "slide_type": "-"
    }
   },
   "outputs": [],
   "source": [
    "def iucn_checklist_matching_process_genus(genus):\n",
    "    global genus_iucn_checklist_matching, iucn, checklist\n",
    "\n",
    "    iucn_checklist_matching = pd.Series([])\n",
    "\n",
    "    iucn_species_from_genus = iucn.speciesName[iucn.genusName==genus]\n",
    "\n",
    "    checklist_genus = iucn_checklist_genus_matching[genus]\n",
    "    search_res_g = checklist[checklist.genus==checklist_genus] # filter by genus only\n",
    "\n",
    "    for iucn_taxon_id in iucn_species_from_genus.index:\n",
    "        giveup = False\n",
    "        go_fuzzy = False\n",
    "        iucn_row = iucn.loc[iucn_taxon_id]\n",
    "        species = iucn_row.speciesName\n",
    "        g_s = genus + ' ' + species\n",
    "        # taxon = iucn_row.taxon_name\n",
    "        # var_subsp = taxon.replace(g_s,'').replace(' var. ','').replace(' subsp. ','')\n",
    "        authority = iucn_row.authority\n",
    "        if pd.isnull(authority):\n",
    "            authority = \"\"\n",
    "        authority = authority.strip()\n",
    "    \n",
    "        search_res_gs = search_res_g[(search_res_g.genus==checklist_genus) & (search_res_g.species==species)]\n",
    "\n",
    "        # if var_subsp != '':\n",
    "        #     search_res_gs = search_res_gs[search_res_gs.scientificName.str.contains(re.escape(var_subsp))]\n",
    "\n",
    "        if search_res_gs.shape[0] == 0: # if match fails with genus+species, consider all genus, and fuzzy match the species\n",
    "            name_fuzzy_matchings = pd.DataFrame([[ind,name,score] for (name, score,ind) in process.extract(species,search_res_g.species,scorer=fuzz.ratio,limit=100)] ,columns=['ind','name','score']).set_index('ind')\n",
    "            name_fuzzy_matchings = name_fuzzy_matchings[name_fuzzy_matchings.score>=max(100-2*(100-name_fuzzy_matchings.score.max()),79)]\n",
    "            search_res_gs = search_res_g[search_res_g.species.isin(name_fuzzy_matchings.name.values)] \n",
    "        if search_res_gs.accepted_plant_name_id.nunique() == 1:\n",
    "            final_search_res = search_res_gs\n",
    "        else:\n",
    "            search_res_matching_authority = search_res_gs[search_res_gs.taxon_authors==authority] # try exact match of author name\n",
    "            if search_res_matching_authority.shape[0] == 0:\n",
    "                authority_complete = authority\n",
    "                authority = re.sub('\\(.+\\)','',authority).strip()\n",
    "                search_res_matching_authority = search_res_gs[search_res_gs.taxon_authors==authority] # try exact match of author name with simplified authority\n",
    "            if search_res_matching_authority.accepted_plant_name_id.nunique() >= 1:\n",
    "                final_search_res = search_res_matching_authority\n",
    "            else: # if exact match of author name failed\n",
    "                search_res_gs.dropna(axis=0,subset=['taxon_authors'],inplace=True)\n",
    "                search_res_containing_authority = search_res_gs[search_res_gs.taxon_authors.str.contains(authority)]\n",
    "                if search_res_containing_authority.shape[0] == 0:\n",
    "                    search_res_containing_authority = search_res_gs\n",
    "                if search_res_containing_authority.accepted_plant_name_id.nunique() == 1:\n",
    "                    final_search_res = search_res_containing_authority\n",
    "                elif not giveup:\n",
    "                    if search_res_containing_authority.accepted_plant_name_id.nunique() >= 2:\n",
    "                        search_res_gs = search_res_containing_authority\n",
    "                        name_fuzzy_matchings = pd.DataFrame([[ind,name,score] for (name, score,ind) in process.extract(authority,search_res_gs.taxon_authors,scorer=fuzz.partial_ratio,limit=100)] ,columns=['ind','name','score']).set_index('ind')\n",
    "                        name_fuzzy_matchings = name_fuzzy_matchings[name_fuzzy_matchings.score>=max(100-2*(100-name_fuzzy_matchings.score.max()),79)]\n",
    "                        if name_fuzzy_matchings.shape[0] > 1:\n",
    "                            name_fuzzy_matchings = pd.DataFrame([[ind,name,score] for (name, score,ind) in process.extract(authority_complete,search_res_gs.taxon_authors,scorer=fuzz.partial_ratio,limit=100)] ,columns=['ind','name','score']).set_index('ind')\n",
    "                            name_fuzzy_matchings = name_fuzzy_matchings[name_fuzzy_matchings.score>=max(100-2*(100-name_fuzzy_matchings.score.max()),79)]\n",
    "                    final_search_res = search_res_gs[search_res_gs.taxon_authors.isin(name_fuzzy_matchings.name.values)] \n",
    "\n",
    "            if final_search_res.accepted_plant_name_id.nunique() > 1:\n",
    "                print(g_s,authority, 'nonunique matches. Scientific names:',final_search_res.taxon_authors.unique())\n",
    "\n",
    "        iucn_checklist_matching[iucn_taxon_id] = set(list(final_search_res.accepted_plant_name_id.unique()) + ([] if iucn_taxon_id not in iucn_checklist_matching.index else list(iucn_checklist_matching[iucn_taxon_id])))\n",
    "\n",
    "    iucn_checklist_matching.to_csv('/home/joon/data/iucn-checklist-matching-'+genus+'.csv',header=False)"
   ]
  },
  {
   "cell_type": "code",
   "execution_count": 20,
   "metadata": {
    "autoscroll": false,
    "collapsed": false,
    "ein.hycell": false,
    "ein.tags": "worksheet-0",
    "slideshow": {
     "slide_type": "-"
    }
   },
   "outputs": [
    {
     "name": "stdout",
     "output_type": "stream",
     "text": [
      "Syzygium micklethwaitii Verdc. nonunique matches. Scientific names: ['Verdc.']\n"
     ]
    },
    {
     "name": "stderr",
     "output_type": "stream",
     "text": [
      "/usr/lib/python3.7/site-packages/ipykernel_launcher.py:44: SettingWithCopyWarning: \n",
      "A value is trying to be set on a copy of a slice from a DataFrame\n",
      "\n",
      "See the caveats in the documentation: http://pandas.pydata.org/pandas-docs/stable/user_guide/indexing.html#returning-a-view-versus-a-copy\n"
     ]
    },
    {
     "name": "stderr",
     "output_type": "stream",
     "text": [
      "/usr/lib/python3.7/site-packages/ipykernel_launcher.py:44: SettingWithCopyWarning: \n",
      "A value is trying to be set on a copy of a slice from a DataFrame\n",
      "\n",
      "See the caveats in the documentation: http://pandas.pydata.org/pandas-docs/stable/user_guide/indexing.html#returning-a-view-versus-a-copy\n"
     ]
    },
    {
     "name": "stderr",
     "output_type": "stream",
     "text": [
      "/usr/lib/python3.7/site-packages/ipykernel_launcher.py:44: SettingWithCopyWarning: \n",
      "A value is trying to be set on a copy of a slice from a DataFrame\n",
      "\n",
      "See the caveats in the documentation: http://pandas.pydata.org/pandas-docs/stable/user_guide/indexing.html#returning-a-view-versus-a-copy\n"
     ]
    },
    {
     "name": "stdout",
     "output_type": "stream",
     "text": [
      "Eriosyce crispa (F.Ritter) Katt. nonunique matches. Scientific names: ['(F.Ritter) Katt.']\n"
     ]
    },
    {
     "name": "stderr",
     "output_type": "stream",
     "text": [
      "/usr/lib/python3.7/site-packages/ipykernel_launcher.py:44: SettingWithCopyWarning: \n",
      "A value is trying to be set on a copy of a slice from a DataFrame\n",
      "\n",
      "See the caveats in the documentation: http://pandas.pydata.org/pandas-docs/stable/user_guide/indexing.html#returning-a-view-versus-a-copy\n"
     ]
    },
    {
     "name": "stderr",
     "output_type": "stream",
     "text": [
      "/usr/lib/python3.7/site-packages/ipykernel_launcher.py:44: SettingWithCopyWarning: \n",
      "A value is trying to be set on a copy of a slice from a DataFrame\n",
      "\n",
      "See the caveats in the documentation: http://pandas.pydata.org/pandas-docs/stable/user_guide/indexing.html#returning-a-view-versus-a-copy\n"
     ]
    },
    {
     "name": "stdout",
     "output_type": "stream",
     "text": [
      "Eriosyce paucicostata (F.Ritter) Ferryman nonunique matches. Scientific names: ['(F.Ritter) Ferryman']\n"
     ]
    },
    {
     "name": "stdout",
     "output_type": "stream",
     "text": [
      "Ophrys insectifera L. nonunique matches. Scientific names: ['L.']\n"
     ]
    },
    {
     "name": "stdout",
     "output_type": "stream",
     "text": [
      "Eriosyce recondita (F.Ritter) Katt. nonunique matches. Scientific names: ['(F.Ritter) Katt.']\n"
     ]
    },
    {
     "name": "stderr",
     "output_type": "stream",
     "text": [
      "/usr/lib/python3.7/site-packages/ipykernel_launcher.py:44: SettingWithCopyWarning: \n",
      "A value is trying to be set on a copy of a slice from a DataFrame\n",
      "\n",
      "See the caveats in the documentation: http://pandas.pydata.org/pandas-docs/stable/user_guide/indexing.html#returning-a-view-versus-a-copy\n"
     ]
    },
    {
     "name": "stdout",
     "output_type": "stream",
     "text": [
      "Eriosyce eriosyzoides (F.Ritter) Ferryman nonunique matches. Scientific names: ['(F.Ritter) Ferryman']\n"
     ]
    },
    {
     "name": "stderr",
     "output_type": "stream",
     "text": [
      "/usr/lib/python3.7/site-packages/ipykernel_launcher.py:44: SettingWithCopyWarning: \n",
      "A value is trying to be set on a copy of a slice from a DataFrame\n",
      "\n",
      "See the caveats in the documentation: http://pandas.pydata.org/pandas-docs/stable/user_guide/indexing.html#returning-a-view-versus-a-copy\n"
     ]
    },
    {
     "name": "stderr",
     "output_type": "stream",
     "text": [
      "/usr/lib/python3.7/site-packages/ipykernel_launcher.py:44: SettingWithCopyWarning: \n",
      "A value is trying to be set on a copy of a slice from a DataFrame\n",
      "\n",
      "See the caveats in the documentation: http://pandas.pydata.org/pandas-docs/stable/user_guide/indexing.html#returning-a-view-versus-a-copy\n"
     ]
    },
    {
     "name": "stdout",
     "output_type": "stream",
     "text": [
      "Thymus baeticus Boiss. ex Lacaita nonunique matches. Scientific names: ['Boiss. ex Lacaita']\n"
     ]
    },
    {
     "name": "stdout",
     "output_type": "stream",
     "text": [
      "Cistus chinamadensis Bañares & P.Romero nonunique matches. Scientific names: ['Bañares & P.Romero']\n"
     ]
    },
    {
     "name": "stdout",
     "output_type": "stream",
     "text": [
      "Mammillaria herrerae Werderm. nonunique matches. Scientific names: ['Werderm.']\n"
     ]
    },
    {
     "name": "stderr",
     "output_type": "stream",
     "text": [
      "/usr/lib/python3.7/site-packages/ipykernel_launcher.py:44: SettingWithCopyWarning: \n",
      "A value is trying to be set on a copy of a slice from a DataFrame\n",
      "\n",
      "See the caveats in the documentation: http://pandas.pydata.org/pandas-docs/stable/user_guide/indexing.html#returning-a-view-versus-a-copy\n"
     ]
    },
    {
     "name": "stderr",
     "output_type": "stream",
     "text": [
      "/usr/lib/python3.7/site-packages/ipykernel_launcher.py:44: SettingWithCopyWarning: \n",
      "A value is trying to be set on a copy of a slice from a DataFrame\n",
      "\n",
      "See the caveats in the documentation: http://pandas.pydata.org/pandas-docs/stable/user_guide/indexing.html#returning-a-view-versus-a-copy\n"
     ]
    },
    {
     "name": "stdout",
     "output_type": "stream",
     "text": [
      "Mammillaria dioica K.Brandegee nonunique matches. Scientific names: ['K.Brandegee']\n"
     ]
    },
    {
     "name": "stdout",
     "output_type": "stream",
     "text": [
      "Carex acuta L. nonunique matches. Scientific names: ['L.']\n"
     ]
    },
    {
     "name": "stdout",
     "output_type": "stream",
     "text": [
      "Sparganium androcladum (Engelm.) Morong nonunique matches. Scientific names: ['(Engelm.) Morong']\n"
     ]
    },
    {
     "name": "stdout",
     "output_type": "stream",
     "text": [
      "Athyrium solenopteris (Kunze) T.Moore nonunique matches. Scientific names: ['(Kunze) T.Moore']\n"
     ]
    },
    {
     "name": "stdout",
     "output_type": "stream",
     "text": [
      "Cordyla somalensis J.B.Gillett nonunique matches. Scientific names: ['J.B.Gillett']\n"
     ]
    },
    {
     "name": "stdout",
     "output_type": "stream",
     "text": [
      "Polyalthia elmeri Merr. nonunique matches. Scientific names: ['Merr.']\n"
     ]
    },
    {
     "name": "stdout",
     "output_type": "stream",
     "text": [
      "Carex aperta Boott nonunique matches. Scientific names: ['Boott']\n"
     ]
    },
    {
     "name": "stdout",
     "output_type": "stream",
     "text": [
      "Carex atlantica Bailey nonunique matches. Scientific names: ['(L.H.Bailey) Cronquist' '(L.H.Bailey) Reznicek' 'L.H.Bailey']\n"
     ]
    },
    {
     "name": "stdout",
     "output_type": "stream",
     "text": [
      "Asparagus officinalis L. nonunique matches. Scientific names: ['L.']\n"
     ]
    },
    {
     "name": "stdout",
     "output_type": "stream",
     "text": [
      "Carex exsiccata Bailey nonunique matches. Scientific names: ['(Olney) L.H.Bailey' 'L.H.Bailey']\n"
     ]
    },
    {
     "name": "stdout",
     "output_type": "stream",
     "text": [
      "Barleria mpandensis I.Darbysh. nonunique matches. Scientific names: ['I.Darbysh.']\n"
     ]
    },
    {
     "name": "stdout",
     "output_type": "stream",
     "text": [
      "Carex interior Bailey nonunique matches. Scientific names: ['L.H.Bailey']\n"
     ]
    },
    {
     "name": "stdout",
     "output_type": "stream",
     "text": [
      "Barleria polhillii I.Darbysh. nonunique matches. Scientific names: ['I.Darbysh.']\n"
     ]
    },
    {
     "name": "stderr",
     "output_type": "stream",
     "text": [
      "/usr/lib/python3.7/site-packages/ipykernel_launcher.py:44: SettingWithCopyWarning: \n",
      "A value is trying to be set on a copy of a slice from a DataFrame\n",
      "\n",
      "See the caveats in the documentation: http://pandas.pydata.org/pandas-docs/stable/user_guide/indexing.html#returning-a-view-versus-a-copy\n"
     ]
    },
    {
     "name": "stdout",
     "output_type": "stream",
     "text": [
      "Bulbophyllum zaratananae Schltr. nonunique matches. Scientific names: ['Schltr.']\n"
     ]
    },
    {
     "name": "stdout",
     "output_type": "stream",
     "text": [
      "Carex aquatilis Wahlenb. nonunique matches. Scientific names: ['Wahlenb.']\n"
     ]
    },
    {
     "name": "stdout",
     "output_type": "stream",
     "text": [
      "Melocactus stramineus Suringar nonunique matches. Scientific names: ['Suringar']\n"
     ]
    },
    {
     "name": "stdout",
     "output_type": "stream",
     "text": [
      "Cleistocactus winteri D.R.Hunt nonunique matches. Scientific names: ['D.R.Hunt']\n"
     ]
    },
    {
     "name": "stdout",
     "output_type": "stream",
     "text": [
      "Echinocereus parkeri N.P.Taylor nonunique matches. Scientific names: ['N.P.Taylor']\n"
     ]
    },
    {
     "name": "stdout",
     "output_type": "stream",
     "text": [
      "Scirpus atrocinctus Fern. nonunique matches. Scientific names: ['(Fernald) S.F.Blake' 'Fernald' '(Fernald) D.S.Carp.']\n"
     ]
    },
    {
     "name": "stdout",
     "output_type": "stream",
     "text": [
      "Ulex argenteus Webb nonunique matches. Scientific names: ['(Welw. ex Webb) D.A.Webb' 'Welw. ex Webb']\n"
     ]
    },
    {
     "name": "stdout",
     "output_type": "stream",
     "text": [
      "Colchicum cupanii Guss. nonunique matches. Scientific names: ['Guss.']\n"
     ]
    },
    {
     "name": "stdout",
     "output_type": "stream",
     "text": [
      "Stenandrium harlingii Wassh. nonunique matches. Scientific names: ['Wassh.']\n"
     ]
    },
    {
     "name": "stdout",
     "output_type": "stream",
     "text": [
      "Echinopsis aurea Briton & Rose nonunique matches. Scientific names: ['(Britton & Rose) M.Lowry' 'Britton & Rose']\n"
     ]
    },
    {
     "name": "stdout",
     "output_type": "stream",
     "text": [
      "Sinapidendron rupestre Lowe nonunique matches. Scientific names: ['Lowe']\n"
     ]
    },
    {
     "name": "stdout",
     "output_type": "stream",
     "text": [
      "Rebutia ritteri (Wessner) Buining & Donald nonunique matches. Scientific names: ['(Wessner) Buining & Donald']\n"
     ]
    },
    {
     "name": "stdout",
     "output_type": "stream",
     "text": [
      "Crataegus azarolus L. nonunique matches. Scientific names: ['L.']\n"
     ]
    },
    {
     "name": "stdout",
     "output_type": "stream",
     "text": [
      "Crocus hyemalis Boiss. & Blanche nonunique matches. Scientific names: ['Boiss. & Blanche']\n"
     ]
    },
    {
     "name": "stdout",
     "output_type": "stream",
     "text": [
      "Crocus hadriaticus Herb. nonunique matches. Scientific names: ['Herb.']\n"
     ]
    },
    {
     "name": "stdout",
     "output_type": "stream",
     "text": [
      "Arnica montana L. nonunique matches. Scientific names: ['L.']\n"
     ]
    },
    {
     "name": "stdout",
     "output_type": "stream",
     "text": [
      "Cryptotaenia calycina C.C.Towns. nonunique matches. Scientific names: ['C.C.Towns.']\n"
     ]
    },
    {
     "name": "stdout",
     "output_type": "stream",
     "text": [
      "Diospyros dicorypheoides H.Perrier nonunique matches. Scientific names: ['H.Perrier']\n"
     ]
    },
    {
     "name": "stdout",
     "output_type": "stream",
     "text": [
      "Pediocactus nigrispinus (Hochstätter) Hochstätter nonunique matches. Scientific names: ['(Hochstätter) Hochstätter']\n"
     ]
    },
    {
     "name": "stdout",
     "output_type": "stream",
     "text": [
      "Acorus calamus L. nonunique matches. Scientific names: ['L.']\n"
     ]
    },
    {
     "name": "stdout",
     "output_type": "stream",
     "text": [
      "Camellia gymnogyna H.T.Chang nonunique matches. Scientific names: ['(Hung T.Chang, F.L.Yu & P.S.Wang) T.L.Ming' 'Hung T.Chang']\n"
     ]
    },
    {
     "name": "stdout",
     "output_type": "stream",
     "text": [
      "Camellia kwangsiensis H.T.Chang nonunique matches. Scientific names: ['(Hung T.Chang, H.S.Wang & B.H.Chen) T.L.Ming' 'Hung T.Chang']\n"
     ]
    },
    {
     "name": "stdout",
     "output_type": "stream",
     "text": [
      "Discocactus diersianus Esteves nonunique matches. Scientific names: ['(Diers & Esteves) P.J.Braun & Esteves'\n",
      " '(Diers & Esteves) P.Braun & Esteves' 'Esteves Pereira']"
     ]
    },
    {
     "name": "stdout",
     "output_type": "stream",
     "text": [
      "\n"
     ]
    },
    {
     "name": "stdout",
     "output_type": "stream",
     "text": [
      "Camellia mileensis T.L.Ming nonunique matches. Scientific names: ['T.L.Ming']\n"
     ]
    },
    {
     "name": "stdout",
     "output_type": "stream",
     "text": [
      "Salix farriae Ball nonunique matches. Scientific names: ['C.R.Ball' 'Coville & C.R.Ball']\n"
     ]
    },
    {
     "name": "stdout",
     "output_type": "stream",
     "text": [
      "Salix myrtillifolia Anderss. nonunique matches. Scientific names: ['(Andersson) Dorn' '(Andersson) C.R.Ball ex Hultén' 'Andersson']\n"
     ]
    },
    {
     "name": "stdout",
     "output_type": "stream",
     "text": [
      "Salix pyrifolia Anderss. nonunique matches. Scientific names: ['Andersson']\n"
     ]
    },
    {
     "name": "stdout",
     "output_type": "stream",
     "text": [
      "Diplotaxis gorgadensis Rustan nonunique matches. Scientific names: ['Rustan']\n"
     ]
    },
    {
     "name": "stdout",
     "output_type": "stream",
     "text": [
      "Orania decipiens Becc. nonunique matches. Scientific names: ['Becc.']\n"
     ]
    },
    {
     "name": "stdout",
     "output_type": "stream",
     "text": [
      "Salix pyrolifolia Ledeb. nonunique matches. Scientific names: ['Ledeb.']\n"
     ]
    },
    {
     "name": "stdout",
     "output_type": "stream",
     "text": [
      "Erigeron elatus Greene nonunique matches. Scientific names: ['Greene']\n"
     ]
    },
    {
     "name": "stdout",
     "output_type": "stream",
     "text": [
      "Prunus arborea Kalkm. nonunique matches. Scientific names: ['Kalkman' '(Hook.f.) Kalkman']\n"
     ]
    },
    {
     "name": "stdout",
     "output_type": "stream",
     "text": [
      "Oryza eichingeri Peter nonunique matches. Scientific names: ['Peter']\n"
     ]
    },
    {
     "name": "stdout",
     "output_type": "stream",
     "text": [
      "Prunus domestica L. nonunique matches. Scientific names: ['L.']\n"
     ]
    },
    {
     "name": "stdout",
     "output_type": "stream",
     "text": [
      "Selaginella sericea A.Braun nonunique matches. Scientific names: ['A.Br.']\n"
     ]
    },
    {
     "name": "stdout",
     "output_type": "stream",
     "text": [
      "Scleria robinsoniana J.Raynal nonunique matches. Scientific names: ['J.Raynal']\n"
     ]
    },
    {
     "name": "stdout",
     "output_type": "stream",
     "text": [
      "Euphorbia cap-saintemariensis Rauh nonunique matches. Scientific names: ['Rauh']\n"
     ]
    },
    {
     "name": "stdout",
     "output_type": "stream",
     "text": [
      "Euphorbia duranii Ursch & Leandri nonunique matches. Scientific names: ['Ursch & Leandri']\n"
     ]
    },
    {
     "name": "stdout",
     "output_type": "stream",
     "text": [
      "Euphorbia famatamboay Friedm. & Cremers nonunique matches. Scientific names: ['F.Friedmann & Cremers']\n"
     ]
    },
    {
     "name": "stdout",
     "output_type": "stream",
     "text": [
      "Euphorbia moratii Rauh nonunique matches. Scientific names: ['Rauh']\n"
     ]
    },
    {
     "name": "stdout",
     "output_type": "stream",
     "text": [
      "Euphorbia neobosseri Rauh nonunique matches. Scientific names: ['Rauh']\n"
     ]
    },
    {
     "name": "stdout",
     "output_type": "stream",
     "text": [
      "Magnolia conifera (Dandy) V.S.Kumar nonunique matches. Scientific names: ['(Dandy) V.S.Kumar']\n"
     ]
    },
    {
     "name": "stdout",
     "output_type": "stream",
     "text": [
      "Euphorbia platyclada Rauh nonunique matches. Scientific names: ['Rauh']\n"
     ]
    },
    {
     "name": "stdout",
     "output_type": "stream",
     "text": [
      "Mentha spicata L. nonunique matches. Scientific names: ['L.']\n"
     ]
    },
    {
     "name": "stdout",
     "output_type": "stream",
     "text": [
      "Tephrocactus articulatus (Pfeiff.) Backeb. nonunique matches. Scientific names: ['(Pfeiff.) Backeb.']\n"
     ]
    },
    {
     "name": "stdout",
     "output_type": "stream",
     "text": [
      "Aloe rigens Reynolds & P.R.O.Bally nonunique matches. Scientific names: ['Reynolds & P.R.O.Bally']\n"
     ]
    },
    {
     "name": "stdout",
     "output_type": "stream",
     "text": [
      "Magnolia virginiana L. nonunique matches. Scientific names: ['L.']\n"
     ]
    },
    {
     "name": "stdout",
     "output_type": "stream",
     "text": [
      "Pygmaeocereus bieblii Diers nonunique matches. Scientific names: ['Diers']\n"
     ]
    },
    {
     "name": "stdout",
     "output_type": "stream",
     "text": [
      "Magnolia officinalis Rehder & E.H.Wilson nonunique matches. Scientific names: ['Rehder & E.H.Wilson']\n"
     ]
    },
    {
     "name": "stdout",
     "output_type": "stream",
     "text": [
      "Euphorbia skottsbergii Sherff nonunique matches. Scientific names: ['Sherff']\n"
     ]
    },
    {
     "name": "stdout",
     "output_type": "stream",
     "text": [
      "Magnolia pacifica A.Vázquez nonunique matches. Scientific names: ['Iltis & A.Vazquez' 'Vazquez']\n"
     ]
    },
    {
     "name": "stdout",
     "output_type": "stream",
     "text": [
      "Brassica oleracea L. nonunique matches. Scientific names: ['L.']\n"
     ]
    },
    {
     "name": "stdout",
     "output_type": "stream",
     "text": [
      "Medicago papillosa Boiss. nonunique matches. Scientific names: ['Boiss.']\n"
     ]
    },
    {
     "name": "stdout",
     "output_type": "stream",
     "text": [
      "Phoenix atlantica A.Chev. nonunique matches. Scientific names: ['A.Chev.']\n"
     ]
    },
    {
     "name": "stdout",
     "output_type": "stream",
     "text": [
      "Memecylon varians Thwaites nonunique matches. Scientific names: ['Thwaites']\n"
     ]
    },
    {
     "name": "stdout",
     "output_type": "stream",
     "text": [
      "Lupinus rivularis Lindl. nonunique matches. Scientific names: ['(Lindl. ex J.Agardh) S.Watson' 'Douglas ex Lindl.']\n"
     ]
    },
    {
     "name": "stdout",
     "output_type": "stream",
     "text": [
      "Lupinus westianus L. nonunique matches. Scientific names: ['(McFarlin ex Beckner) Isely' 'Small']\n"
     ]
    },
    {
     "name": "stdout",
     "output_type": "stream",
     "text": [
      "Fritillaria carica Rix nonunique matches. Scientific names: ['Rix']\n"
     ]
    },
    {
     "name": "stdout",
     "output_type": "stream",
     "text": [
      "Typha angustifolia L. nonunique matches. Scientific names: ['L.']\n"
     ]
    },
    {
     "name": "stdout",
     "output_type": "stream",
     "text": [
      "Juniperus monticola Martínez nonunique matches. Scientific names: ['Martínez']\n"
     ]
    },
    {
     "name": "stdout",
     "output_type": "stream",
     "text": [
      "Gagea chabertii A.Terracc. nonunique matches. Scientific names: ['A.Terracc.']\n"
     ]
    },
    {
     "name": "stdout",
     "output_type": "stream",
     "text": [
      "Agrostis nevadensis Boiss. nonunique matches. Scientific names: ['Boiss.']\n"
     ]
    },
    {
     "name": "stdout",
     "output_type": "stream",
     "text": [
      "Sclerocactus wetlandicus Hochstätter nonunique matches. Scientific names: ['Hochstätter']\n"
     ]
    },
    {
     "name": "stdout",
     "output_type": "stream",
     "text": [
      "Genista insularis Bacch., Brullo & Feoli Chiapella nonunique matches. Scientific names: ['Bacch., Brullo & Feoli Chiapella']\n"
     ]
    },
    {
     "name": "stdout",
     "output_type": "stream",
     "text": [
      "Paphiopedilum glaucophyllum J.J.Sm. nonunique matches. Scientific names: ['J.J.Sm.']\n"
     ]
    },
    {
     "name": "stdout",
     "output_type": "stream",
     "text": [
      "Anacamptis palustris R.M.Bateman & Pridgeon & Chase nonunique matches. Scientific names: ['(Heuff.) R.M.Bateman, Pridgeon & M.W.Chase'\n",
      " '(T.Stephenson) R.M.Bateman, Pridgeon & M.W.Chase'\n",
      " '(Jacq.) R.M.Bateman, Pridgeon & M.W.Chase']"
     ]
    },
    {
     "name": "stdout",
     "output_type": "stream",
     "text": [
      "\n"
     ]
    },
    {
     "name": "stdout",
     "output_type": "stream",
     "text": [
      "Coryphantha hintoniorum Dicht & A.Lüthy nonunique matches. Scientific names: ['Dicht & A.Lüthy']\n"
     ]
    },
    {
     "name": "stdout",
     "output_type": "stream",
     "text": [
      "Podocarpus archboldii N.E.Gray nonunique matches. Scientific names: ['N.E.Gray']\n"
     ]
    },
    {
     "name": "stdout",
     "output_type": "stream",
     "text": [
      "Isoetes panchganiensis G.K.Srivast., D.D.Pant & P.K.Shukla nonunique matches. Scientific names: ['G.K.Srivast., D.D.Pant & P.K.Shukla']\n"
     ]
    },
    {
     "name": "stdout",
     "output_type": "stream",
     "text": [
      "Cycas rumphii Miq. nonunique matches. Scientific names: ['Miq.']\n"
     ]
    },
    {
     "name": "stdout",
     "output_type": "stream",
     "text": [
      "Podocarpus pseudobracteatus de Laub. nonunique matches. Scientific names: ['de Laub.']\n"
     ]
    },
    {
     "name": "stdout",
     "output_type": "stream",
     "text": [
      "Juncus articulatus L. nonunique matches. Scientific names: ['L.']\n"
     ]
    },
    {
     "name": "stdout",
     "output_type": "stream",
     "text": [
      "Quercus nigra L. nonunique matches. Scientific names: ['L.']\n"
     ]
    },
    {
     "name": "stdout",
     "output_type": "stream",
     "text": [
      "Cycas arnhemica K.D.Hill nonunique matches. Scientific names: ['K.D.Hill']\n"
     ]
    },
    {
     "name": "stdout",
     "output_type": "stream",
     "text": [
      "Juncus fontanesii J.Gay nonunique matches. Scientific names: ['(J.Gay ex Laharpe) Nyman' 'J.Gay ex Laharpe']\n"
     ]
    },
    {
     "name": "stdout",
     "output_type": "stream",
     "text": [
      "Spergularia media (P.Monnier) Lambinon & Dobignard nonunique matches. Scientific names: ['(P.Monnier) Lambinon & Dobignard']\n"
     ]
    },
    {
     "name": "stdout",
     "output_type": "stream",
     "text": [
      "Juncus pelocarpus E. Mey. nonunique matches. Scientific names: ['(E.Mey.) Engelm.' 'E.Mey.']\n"
     ]
    },
    {
     "name": "stdout",
     "output_type": "stream",
     "text": [
      "Dalbergia glaberrima Bosser & Rabevohitra nonunique matches. Scientific names: ['Bosser & R.Rabev']\n"
     ]
    },
    {
     "name": "stdout",
     "output_type": "stream",
     "text": [
      "Macrozamia heteromera C.Moore nonunique matches. Scientific names: ['C.Moore']\n"
     ]
    },
    {
     "name": "stdout",
     "output_type": "stream",
     "text": [
      "Rhynchospora alba (L.) Vahl nonunique matches. Scientific names: ['(L.) Vahl']\n"
     ]
    },
    {
     "name": "stdout",
     "output_type": "stream",
     "text": [
      "Dioon tomasellii De Luca, Sabato & Vázq.Torres nonunique matches. Scientific names: ['De Luca, Sabato & Vázq.Torres']\n"
     ]
    },
    {
     "name": "stdout",
     "output_type": "stream",
     "text": [
      "Quercus oblongifolia Torr. nonunique matches. Scientific names: ['Torr.']\n"
     ]
    },
    {
     "name": "stdout",
     "output_type": "stream",
     "text": [
      "Coffea sessiliflora Bridson nonunique matches. Scientific names: ['Bridson']\n"
     ]
    },
    {
     "name": "stdout",
     "output_type": "stream",
     "text": [
      "Coffea mufindiensis Bridson nonunique matches. Scientific names: ['Bridson']\n"
     ]
    },
    {
     "name": "stdout",
     "output_type": "stream",
     "text": [
      "Armeria berlengensis Daveau nonunique matches. Scientific names: ['Daveau']\n"
     ]
    },
    {
     "name": "stdout",
     "output_type": "stream",
     "text": [
      "Alnus maximowiczii Callier nonunique matches. Scientific names: ['Callier']\n"
     ]
    },
    {
     "name": "stdout",
     "output_type": "stream",
     "text": [
      "Meistera tomrey Škorničk. & M.F.Newman nonunique matches. Scientific names: ['(Gagnep.) Skornick. & M.F.Newman']\n"
     ]
    },
    {
     "name": "stdout",
     "output_type": "stream",
     "text": [
      "Romulea corsica Jord. & Fourr. nonunique matches. Scientific names: ['Jord. & Fourr.']\n"
     ]
    },
    {
     "name": "stdout",
     "output_type": "stream",
     "text": [
      "Romulea variicolor Mifsud nonunique matches. Scientific names: ['Mifsud']\n"
     ]
    },
    {
     "name": "stdout",
     "output_type": "stream",
     "text": [
      "Cephalotaxus sinensis H.L.Li nonunique matches. Scientific names: ['(Rehder & E.H.Wilson) H.L.Li']\n"
     ]
    },
    {
     "name": "stdout",
     "output_type": "stream",
     "text": [
      "Acacia permixta Burtt Davy nonunique matches. Scientific names: ['Burtt Davy']\n"
     ]
    },
    {
     "name": "stdout",
     "output_type": "stream",
     "text": [
      "Anubias hastifolia Engl. nonunique matches. Scientific names: ['Engl.']\n"
     ]
    },
    {
     "name": "stdout",
     "output_type": "stream",
     "text": [
      "Abies fargesii Franch. nonunique matches. Scientific names: ['Franch.']\n"
     ]
    },
    {
     "name": "stdout",
     "output_type": "stream",
     "text": [
      "Acacia bussei Harms ex Y.Sjöstedt nonunique matches. Scientific names: ['Harms ex Y.Sjöstedt']\n"
     ]
    },
    {
     "name": "stdout",
     "output_type": "stream",
     "text": [
      "Begonia salaziensis Warb. nonunique matches. Scientific names: ['(Warb.) L.B.Sm. & Wassh.' '(Gaudich.) Warb.']\n"
     ]
    },
    {
     "name": "stdout",
     "output_type": "stream",
     "text": [
      "Abies vejarii Martínez nonunique matches. Scientific names: ['Martínez']\n"
     ]
    },
    {
     "name": "stdout",
     "output_type": "stream",
     "text": [
      "Acacia aemula Maslin nonunique matches. Scientific names: ['Maslin']\n"
     ]
    },
    {
     "name": "stdout",
     "output_type": "stream",
     "text": [
      "Paeonia officinalis L. nonunique matches. Scientific names: ['L.']\n"
     ]
    },
    {
     "name": "stdout",
     "output_type": "stream",
     "text": [
      "Acacia phlebopetala Maslin nonunique matches. Scientific names: ['Maslin']\n"
     ]
    },
    {
     "name": "stdout",
     "output_type": "stream",
     "text": [
      "Acalypha dictyoneura Müll, Arg. nonunique matches. Scientific names: ['Müll.Arg.' '(Müll.Arg.) J.F.Macbr.']\n"
     ]
    },
    {
     "name": "stdout",
     "output_type": "stream",
     "text": [
      "Sorbus amabilis Cheng ex Yu nonunique matches. Scientific names: ['Z.X.Yu' 'Cheng ex T.T.Yu & K.C.Kuan']\n"
     ]
    },
    {
     "name": "stdout",
     "output_type": "stream",
     "text": [
      "Dacrydium nidulum de Laub. nonunique matches. Scientific names: ['de Laub.']\n"
     ]
    },
    {
     "name": "stdout",
     "output_type": "stream",
     "text": [
      "Polycarpaea gayi Webb nonunique matches. Scientific names: ['Webb']\n"
     ]
    },
    {
     "name": "stdout",
     "output_type": "stream",
     "text": [
      "Sorbus arranensis Hedl. nonunique matches. Scientific names: ['Hedl.']\n"
     ]
    },
    {
     "name": "stdout",
     "output_type": "stream",
     "text": [
      "Clermontia grandiflora Gaud. nonunique matches. Scientific names: ['(Gaudich.) A.Gray' 'Gaudich.']\n"
     ]
    },
    {
     "name": "stdout",
     "output_type": "stream",
     "text": [
      "Clermontia multiflora Hillebr. nonunique matches. Scientific names: ['Hillebr.']\n"
     ]
    },
    {
     "name": "stdout",
     "output_type": "stream",
     "text": [
      "Nepenthes gracillima Ridley nonunique matches. Scientific names: ['Ridl.']\n"
     ]
    },
    {
     "name": "stdout",
     "output_type": "stream",
     "text": [
      "Cyanea arborea Hillebr. nonunique matches. Scientific names: ['Hillebr.']\n"
     ]
    },
    {
     "name": "stdout",
     "output_type": "stream",
     "text": [
      "Cyanea solenocalyx Hillebr. nonunique matches. Scientific names: ['Hillebr.']\n"
     ]
    },
    {
     "name": "stdout",
     "output_type": "stream",
     "text": [
      "Primula auriculata L. nonunique matches. Scientific names: ['(Ledeb.) Wendelbo' 'Lam.' 'Ledeb.']\n"
     ]
    },
    {
     "name": "stdout",
     "output_type": "stream",
     "text": [
      "Nothofagus crenata Steenis nonunique matches. Scientific names: ['Steenis']\n"
     ]
    },
    {
     "name": "stdout",
     "output_type": "stream",
     "text": [
      "Wahlenbergia pulchella Thulin nonunique matches. Scientific names: ['Thulin']\n"
     ]
    },
    {
     "name": "stdout",
     "output_type": "stream",
     "text": [
      "Dypsis humbertii H.Perrier nonunique matches. Scientific names: ['H.Perrier']\n"
     ]
    },
    {
     "name": "stdout",
     "output_type": "stream",
     "text": [
      "Eugenia koolauensis O.Deg. nonunique matches. Scientific names: ['O.Deg.']\n"
     ]
    },
    {
     "name": "stdout",
     "output_type": "stream",
     "text": [
      "Sophora fernandeziana (Phil.) Skottsb. nonunique matches. Scientific names: ['(Phil.) Skottsb.']\n"
     ]
    },
    {
     "name": "stdout",
     "output_type": "stream",
     "text": [
      "Sophora gypsophila B.L.Turner & A.M.Powell nonunique matches. Scientific names: ['B.L.Turner & A.M.Powell']\n"
     ]
    },
    {
     "name": "stdout",
     "output_type": "stream",
     "text": [
      "Eugenia johorensis Ridley nonunique matches. Scientific names: ['Ridl.']\n"
     ]
    },
    {
     "name": "stdout",
     "output_type": "stream",
     "text": [
      "Cyperus tenuiculmis Boeckeler nonunique matches. Scientific names: ['Boeckeler']\n"
     ]
    },
    {
     "name": "stdout",
     "output_type": "stream",
     "text": [
      "Eugenia kiahii Hend. nonunique matches. Scientific names: ['M.R.Hend.']\n"
     ]
    },
    {
     "name": "stdout",
     "output_type": "stream",
     "text": [
      "Rosa abietina Gren. ex H.Christ nonunique matches. Scientific names: ['Christ']\n"
     ]
    },
    {
     "name": "stdout",
     "output_type": "stream",
     "text": [
      "Cyperus dentatus Torr. nonunique matches. Scientific names: ['Torr.']\n"
     ]
    },
    {
     "name": "stdout",
     "output_type": "stream",
     "text": [
      "Cyperus pennatiformis Kük. nonunique matches. Scientific names: ['Kük.']\n"
     ]
    },
    {
     "name": "stdout",
     "output_type": "stream",
     "text": [
      "Saxifraga thiantha Harry Sm. nonunique matches. Scientific names: ['Harry Sm.']\n"
     ]
    },
    {
     "name": "stdout",
     "output_type": "stream",
     "text": [
      "Miconia cercophora Wurdack nonunique matches. Scientific names: ['Wurdack']\n"
     ]
    },
    {
     "name": "stdout",
     "output_type": "stream",
     "text": [
      "Nesaea parkeri Verdc. nonunique matches. Scientific names: ['Verdc.']\n"
     ]
    },
    {
     "name": "stdout",
     "output_type": "stream",
     "text": [
      "Potamogeton berchtoldii Fieber nonunique matches. Scientific names: ['Fieber']\n"
     ]
    },
    {
     "name": "stdout",
     "output_type": "stream",
     "text": [
      "Phyllanthus conjugatus M.Schmid nonunique matches. Scientific names: ['M.Schmid']\n"
     ]
    },
    {
     "name": "stdout",
     "output_type": "stream",
     "text": [
      "Allium schmitzii Cout. nonunique matches. Scientific names: ['Cout.']\n"
     ]
    },
    {
     "name": "stdout",
     "output_type": "stream",
     "text": [
      "Labordia triflora Hillebr. nonunique matches. Scientific names: ['Hillebr.']\n"
     ]
    },
    {
     "name": "stdout",
     "output_type": "stream",
     "text": [
      "Chassalia bojeri Bremek. nonunique matches. Scientific names: ['Bremek.']\n"
     ]
    },
    {
     "name": "stdout",
     "output_type": "stream",
     "text": [
      "Allium oliganthum Kar. & Kir. nonunique matches. Scientific names: ['Kar. & Kir.']\n"
     ]
    },
    {
     "name": "stdout",
     "output_type": "stream",
     "text": [
      "Neraudia angulata R.S.Cowan nonunique matches. Scientific names: ['R.S.Cowan']\n"
     ]
    },
    {
     "name": "stdout",
     "output_type": "stream",
     "text": [
      "Psychotria rimbachii Standl. nonunique matches. Scientific names: ['Standl.']\n"
     ]
    },
    {
     "name": "stdout",
     "output_type": "stream",
     "text": [
      "Trifolium masaiense J.B.Gillett nonunique matches. Scientific names: ['J.B.Gillett']\n"
     ]
    },
    {
     "name": "stdout",
     "output_type": "stream",
     "text": [
      "Callitriche platycarpa Kütz. nonunique matches. Scientific names: ['Kütz.']\n"
     ]
    },
    {
     "name": "stdout",
     "output_type": "stream",
     "text": [
      "Callitriche palustris L. nonunique matches. Scientific names: ['L.']\n"
     ]
    },
    {
     "name": "stdout",
     "output_type": "stream",
     "text": [
      "Potentilla bryoides Sojak nonunique matches. Scientific names: ['Soják']\n"
     ]
    },
    {
     "name": "stdout",
     "output_type": "stream",
     "text": [
      "Lonchocarpus guatemalensis Benth. nonunique matches. Scientific names: ['Benth.']\n"
     ]
    },
    {
     "name": "stdout",
     "output_type": "stream",
     "text": [
      "Astragalus coltonii M.E.Jones nonunique matches. Scientific names: ['M.E.Jones']\n"
     ]
    },
    {
     "name": "stdout",
     "output_type": "stream",
     "text": [
      "Astragalus lentiginosus Hook. nonunique matches. Scientific names: ['(Douglas ex Hook.) M.E.Jones' 'Douglas ex Hook.']\n"
     ]
    },
    {
     "name": "stdout",
     "output_type": "stream",
     "text": [
      "Schinus engleri Barkley nonunique matches. Scientific names: ['F.A.Barkley']\n"
     ]
    },
    {
     "name": "stdout",
     "output_type": "stream",
     "text": [
      "Cordia collococca L. nonunique matches. Scientific names: ['L.']\n"
     ]
    },
    {
     "name": "stdout",
     "output_type": "stream",
     "text": [
      "Prosopis alba Grisebach nonunique matches. Scientific names: ['Griseb.']\n"
     ]
    },
    {
     "name": "stdout",
     "output_type": "stream",
     "text": [
      "Astragalus sparsiflorus A.Gray nonunique matches. Scientific names: ['A.Gray']\n"
     ]
    },
    {
     "name": "stdout",
     "output_type": "stream",
     "text": [
      "Geissois pruinosa Brongn. & Gris nonunique matches. Scientific names: ['Brongn. & Gris']\n"
     ]
    },
    {
     "name": "stdout",
     "output_type": "stream",
     "text": [
      "Alphonsea maingayi Hook. f. & Thomson nonunique matches. Scientific names: ['(Hook.f. & Thomson) Ridl.' 'Hook.f. & Thomson']\n"
     ]
    },
    {
     "name": "stdout",
     "output_type": "stream",
     "text": [
      "Litsea hirsutissima Gamble nonunique matches. Scientific names: ['Gamble']\n"
     ]
    },
    {
     "name": "stdout",
     "output_type": "stream",
     "text": [
      "Litsea spathacea Gamble nonunique matches. Scientific names: ['Gamble']\n"
     ]
    },
    {
     "name": "stdout",
     "output_type": "stream",
     "text": [
      "Euonymus europaeus L. nonunique matches. Scientific names: ['L.']\n"
     ]
    },
    {
     "name": "stdout",
     "output_type": "stream",
     "text": [
      "Conostegia centronioides Markgr. nonunique matches. Scientific names: ['Markgr.']\n"
     ]
    },
    {
     "name": "stdout",
     "output_type": "stream",
     "text": [
      "Celtis laevigata Willd. nonunique matches. Scientific names: ['Willd.']\n"
     ]
    },
    {
     "name": "stdout",
     "output_type": "stream",
     "text": [
      "Discoclaoxylon occidentale Pax & Hoffm. nonunique matches. Scientific names: ['Pax & K.Hoffm.' '(Müll.Arg.) Pax & K.Hoffm.']\n"
     ]
    },
    {
     "name": "stdout",
     "output_type": "stream",
     "text": [
      "Terniopsis brevis M.Kato nonunique matches. Scientific names: ['M.Kato']\n"
     ]
    },
    {
     "name": "stdout",
     "output_type": "stream",
     "text": [
      "Berberis taronensis Ahrendt nonunique matches. Scientific names: ['Ahrendt']\n"
     ]
    },
    {
     "name": "stdout",
     "output_type": "stream",
     "text": [
      "Gnetum montanum Markgr. nonunique matches. Scientific names: ['Markgr.']\n"
     ]
    },
    {
     "name": "stdout",
     "output_type": "stream",
     "text": [
      "Gnetum neglectum Blume nonunique matches. Scientific names: ['Blume']\n"
     ]
    },
    {
     "name": "stdout",
     "output_type": "stream",
     "text": [
      "Knema oblongifolia (King) Warb. nonunique matches. Scientific names: ['(King) Warb.']\n"
     ]
    },
    {
     "name": "stdout",
     "output_type": "stream",
     "text": [
      "Scalesia villosa Stewart nonunique matches. Scientific names: ['A.Stewart' 'Stewart & J.T.Howell']\n"
     ]
    },
    {
     "name": "stdout",
     "output_type": "stream",
     "text": [
      "Knema conferta (King) Warb. nonunique matches. Scientific names: ['(King) Warb.']\n"
     ]
    },
    {
     "name": "stdout",
     "output_type": "stream",
     "text": [
      "Tephrosia brachyodon Domin nonunique matches. Scientific names: ['Domin']\n"
     ]
    },
    {
     "name": "stdout",
     "output_type": "stream",
     "text": [
      "Tephrosia cephalantha Welw. ex Baker nonunique matches. Scientific names: ['Welw. ex Baker']\n"
     ]
    },
    {
     "name": "stdout",
     "output_type": "stream",
     "text": [
      "Dialium unifoliolatum Capuron ex Du Puy & R.Rabev. nonunique matches. Scientific names: ['Capuron']\n"
     ]
    },
    {
     "name": "stdout",
     "output_type": "stream",
     "text": [
      "Calyptranthes thomasiana O.Berg nonunique matches. Scientific names: ['O.Berg']\n"
     ]
    },
    {
     "name": "stdout",
     "output_type": "stream",
     "text": [
      "Saurauia erythrocarpa C.F.Liang & Y.S.Wang nonunique matches. Scientific names: ['C.F.Liang & Y.S.Wang']\n"
     ]
    },
    {
     "name": "stdout",
     "output_type": "stream",
     "text": [
      "Senna macranthera H.S.Irwin & Barneby nonunique matches. Scientific names: ['H.S.Irwin & Barneby']\n"
     ]
    },
    {
     "name": "stdout",
     "output_type": "stream",
     "text": [
      "Senna pendula H.S.Irwin & Barneby nonunique matches. Scientific names: ['H.S.Irwin & Barneby']\n"
     ]
    },
    {
     "name": "stdout",
     "output_type": "stream",
     "text": [
      "Senna organensis H.S.Irwin & Barneby nonunique matches. Scientific names: ['H.S.Irwin & Barneby']\n"
     ]
    },
    {
     "name": "stdout",
     "output_type": "stream",
     "text": [
      "Flindersia pimenteliana F. Muell nonunique matches. Scientific names: ['(F.Muell.) K.D.Scott, W.K.Harris & Playford' 'F.Muell.']\n"
     ]
    },
    {
     "name": "stdout",
     "output_type": "stream",
     "text": [
      "Alternanthera filifolia J.T. Howell nonunique matches. Scientific names: ['J.T.Howell' '(Hook.f.) J.T.Howell']\n"
     ]
    },
    {
     "name": "stdout",
     "output_type": "stream",
     "text": [
      "Mimosa albida Willd. nonunique matches. Scientific names: ['(Willd.) B.L.Rob.' 'Humb. & Bonpl. ex Willd.']\n"
     ]
    },
    {
     "name": "stdout",
     "output_type": "stream",
     "text": [
      "Mimosa foliolosa Benth. nonunique matches. Scientific names: ['Benth.']\n"
     ]
    },
    {
     "name": "stdout",
     "output_type": "stream",
     "text": [
      "Garcinia cantleyana Whitm. nonunique matches. Scientific names: ['Whitmore']\n"
     ]
    },
    {
     "name": "stdout",
     "output_type": "stream",
     "text": [
      "Vangueria bicolor K.Schum. nonunique matches. Scientific names: ['K.Schum.']\n"
     ]
    },
    {
     "name": "stdout",
     "output_type": "stream",
     "text": [
      "Durio testudinarum Becc. nonunique matches. Scientific names: ['Becc.']\n"
     ]
    },
    {
     "name": "stdout",
     "output_type": "stream",
     "text": [
      "Myrtus communis L. nonunique matches. Scientific names: ['L.']\n"
     ]
    },
    {
     "name": "stdout",
     "output_type": "stream",
     "text": [
      "Bidens trichosperma Britton nonunique matches. Scientific names: ['Britton']\n"
     ]
    },
    {
     "name": "stdout",
     "output_type": "stream",
     "text": [
      "Phyllostegia helleri Sherff nonunique matches. Scientific names: ['Sherff']\n"
     ]
    },
    {
     "name": "stdout",
     "output_type": "stream",
     "text": [
      "Zornia pardina Mohlenbr. nonunique matches. Scientific names: ['Mohlenbr.']\n"
     ]
    },
    {
     "name": "stdout",
     "output_type": "stream",
     "text": [
      "Gnidia daphnifolia L.f. nonunique matches. Scientific names: ['L.f.']\n"
     ]
    },
    {
     "name": "stdout",
     "output_type": "stream",
     "text": [
      "Pitcairnia simulans H.Luther nonunique matches. Scientific names: ['H.Luther']\n"
     ]
    },
    {
     "name": "stdout",
     "output_type": "stream",
     "text": [
      "Neuracanthus tephrophyllus Bidgood & Brummitt nonunique matches. Scientific names: ['Bidgood & Brummitt']\n"
     ]
    },
    {
     "name": "stdout",
     "output_type": "stream",
     "text": [
      "Syngonanthus lanatus Moldenke nonunique matches. Scientific names: ['Moldenke']\n"
     ]
    },
    {
     "name": "stdout",
     "output_type": "stream",
     "text": [
      "Andrachne schweinfurthii Radcl-Sm. nonunique matches. Scientific names: ['Radcl.-Sm.' '(Balf.f.) Radcl.-Sm.']\n"
     ]
    },
    {
     "name": "stdout",
     "output_type": "stream",
     "text": [
      "Nothaphoebe kingiana Gamble nonunique matches. Scientific names: ['Gamble']\n"
     ]
    },
    {
     "name": "stdout",
     "output_type": "stream",
     "text": [
      "Centropogon saltuum E.Wimm. nonunique matches. Scientific names: ['E.Wimm.']\n"
     ]
    },
    {
     "name": "stdout",
     "output_type": "stream",
     "text": [
      "Neriacanthus harlingii Wassh. nonunique matches. Scientific names: ['Wassh.']\n"
     ]
    },
    {
     "name": "stdout",
     "output_type": "stream",
     "text": [
      "Huilaea macrocarpa L.Uribe nonunique matches. Scientific names: ['L.Uribe']\n"
     ]
    },
    {
     "name": "stdout",
     "output_type": "stream",
     "text": [
      "Pappobolus ecuadoriensis Panero nonunique matches. Scientific names: ['Panero']\n"
     ]
    },
    {
     "name": "stdout",
     "output_type": "stream",
     "text": [
      "Anthurium bonplandii G.S.Bunting nonunique matches. Scientific names: ['G.S.Bunting']\n"
     ]
    },
    {
     "name": "stdout",
     "output_type": "stream",
     "text": [
      "Calceolaria adenanthera Molau nonunique matches. Scientific names: ['Molau']\n"
     ]
    },
    {
     "name": "stdout",
     "output_type": "stream",
     "text": [
      "Clitoria sagotii Fantz nonunique matches. Scientific names: ['Fantz']\n"
     ]
    },
    {
     "name": "stdout",
     "output_type": "stream",
     "text": [
      "Calceolaria pedunculata Molau nonunique matches. Scientific names: ['Molau']\n"
     ]
    },
    {
     "name": "stdout",
     "output_type": "stream",
     "text": [
      "Koeleria novozelandica Domin nonunique matches. Scientific names: ['Domin']\n"
     ]
    },
    {
     "name": "stderr",
     "output_type": "stream",
     "text": [
      "WARNING:root:Applied processor reduces input query to empty string, all comparisons will have score 0. [Query: '']\n"
     ]
    },
    {
     "name": "stdout",
     "output_type": "stream",
     "text": [
      "Gastrolobium spinosum Benth. nonunique matches. Scientific names: ['Benth.']\n"
     ]
    },
    {
     "name": "stdout",
     "output_type": "stream",
     "text": [
      "Dendrobium poneroides Schltr. nonunique matches. Scientific names: ['Schltr.']\n"
     ]
    },
    {
     "name": "stdout",
     "output_type": "stream",
     "text": [
      "Dyschoriste keniensis Malombe, Mwachala & Vollesen nonunique matches. Scientific names: ['Malombe, Mwachala & Vollesen']\n"
     ]
    },
    {
     "name": "stdout",
     "output_type": "stream",
     "text": [
      "Abrus madagascariensis R.Vig. nonunique matches. Scientific names: ['R.Vig.']\n"
     ]
    },
    {
     "name": "stdout",
     "output_type": "stream",
     "text": [
      "Pleurothallis elegantula Cogn. nonunique matches. Scientific names: ['Cogn.']\n"
     ]
    },
    {
     "name": "stdout",
     "output_type": "stream",
     "text": [
      "Xerochlamys elliptica F.Gérard nonunique matches. Scientific names: ['F.Gérard']\n"
     ]
    },
    {
     "name": "stdout",
     "output_type": "stream",
     "text": [
      "Hedysarum polybotrys Hand.-Mazz. nonunique matches. Scientific names: ['Hand.-Mazz.']\n"
     ]
    },
    {
     "name": "stdout",
     "output_type": "stream",
     "text": [
      "Trichoglottis winkleri J.J.Sm. nonunique matches. Scientific names: ['J.J.Sm.']\n"
     ]
    },
    {
     "name": "stdout",
     "output_type": "stream",
     "text": [
      "Octolepis dioica Capuron nonunique matches. Scientific names: ['Capuron']\n"
     ]
    },
    {
     "name": "stdout",
     "output_type": "stream",
     "text": [
      "Pteridium pinetorum C.N.Page & R.R.Mill nonunique matches. Scientific names: ['C.N.Page & R.R.Mill']\n"
     ]
    },
    {
     "name": "stdout",
     "output_type": "stream",
     "text": [
      "Fraxinus sieboldiana Blume nonunique matches. Scientific names: ['Blume']\n"
     ]
    },
    {
     "name": "stdout",
     "output_type": "stream",
     "text": [
      "Prunella vulgaris L. nonunique matches. Scientific names: ['L.']\n"
     ]
    },
    {
     "name": "stdout",
     "output_type": "stream",
     "text": [
      "Lepidagathis sericea Benoist nonunique matches. Scientific names: ['Benoist']\n"
     ]
    },
    {
     "name": "stdout",
     "output_type": "stream",
     "text": [
      "Dendrosenecio cheranganiensis (Cotton & Blakelock) E.B.Knox nonunique matches. Scientific names: ['(Cotton & Blakelock) E.B.Knox']\n"
     ]
    },
    {
     "name": "stdout",
     "output_type": "stream",
     "text": [
      "Scirpoides holoschoenus (L.) Soják nonunique matches. Scientific names: ['(L.) Soják']\n"
     ]
    },
    {
     "name": "stdout",
     "output_type": "stream",
     "text": [
      "Kadua degeneri (Fosberg) W.L.Wagner & Lorence nonunique matches. Scientific names: ['(Fosberg) W.L.Wagner & Lorence']\n"
     ]
    },
    {
     "name": "stdout",
     "output_type": "stream",
     "text": [
      "Rhopalocarpus macrorhamnifolius Capuron nonunique matches. Scientific names: ['Capuron']\n"
     ]
    },
    {
     "name": "stdout",
     "output_type": "stream",
     "text": [
      "Tylostigma filiforme H.Perrier nonunique matches. Scientific names: ['H.Perrier']\n"
     ]
    },
    {
     "name": "stdout",
     "output_type": "stream",
     "text": [
      "Solidago riddellii Frank ex Riddell nonunique matches. Scientific names: ['Frank']\n"
     ]
    },
    {
     "name": "stdout",
     "output_type": "stream",
     "text": [
      "Foetidia macrocarpa Bosser nonunique matches. Scientific names: ['Bosser']\n"
     ]
    },
    {
     "name": "stdout",
     "output_type": "stream",
     "text": [
      "Ethulia vernonioides M.G. Gilbert nonunique matches. Scientific names: ['M.G.Gilbert' '(Schweinf.) M.G.Gilbert']\n"
     ]
    },
    {
     "name": "stdout",
     "output_type": "stream",
     "text": [
      "Mundulea anceps R.Vig. nonunique matches. Scientific names: ['R.Vig.']\n"
     ]
    },
    {
     "name": "stdout",
     "output_type": "stream",
     "text": [
      "Micronychia tsiramiramy H.Perrier nonunique matches. Scientific names: ['H.Perrier']\n"
     ]
    },
    {
     "name": "stdout",
     "output_type": "stream",
     "text": [
      "Otiophora lebruniana (Bamps) Robbr. & Puff nonunique matches. Scientific names: ['(Bamps) Robbr. & Puff']\n"
     ]
    },
    {
     "name": "stdout",
     "output_type": "stream",
     "text": [
      "Strobilanthes accrescens J.R.I.Wood nonunique matches. Scientific names: ['J.R.I.Wood']\n"
     ]
    },
    {
     "name": "stdout",
     "output_type": "stream",
     "text": [
      "Cunonia pulchella Brongn. & Gris nonunique matches. Scientific names: ['Brongn. & Gris']\n"
     ]
    },
    {
     "name": "stdout",
     "output_type": "stream",
     "text": [
      "Aulotandra trigonocarpa H.Perrier nonunique matches. Scientific names: ['H.Perrier']\n"
     ]
    },
    {
     "name": "stdout",
     "output_type": "stream",
     "text": [
      "Capsicum annuum L. nonunique matches. Scientific names: ['L.']\n"
     ]
    },
    {
     "data": {
      "text/plain": [
       "0"
      ]
     },
     "execution_count": 20,
     "metadata": {},
     "output_type": "execute_result"
    }
   ],
   "source": [
    "os.system('rm /home/joon/data/iucn-checklist-matching-*.csv')\n",
    "os.system('rm /home/joon/data/iucn-checklist-matching.csv')\n",
    "\n",
    "from multiprocessing import Pool\n",
    "with Pool(processes=11) as pool:\n",
    "    pool.map(iucn_checklist_matching_process_genus, iucn_genus_values)\n",
    "\n",
    "#fusionner les résultats et supprimer les fichiers temporaires!\n",
    "os.system('cat /home/joon/data/iucn-checklist-matching-*.csv > /home/joon/data/iucn-checklist-matching.csv')\n",
    "os.system('rm /home/joon/data/iucn-checklist-matching-*.csv')"
   ]
  },
  {
   "cell_type": "markdown",
   "metadata": {
    "ein.tags": "worksheet-0",
    "slideshow": {
     "slide_type": "-"
    }
   },
   "source": [
    "Load the (previously computed and saved) results"
   ]
  },
  {
   "cell_type": "code",
   "execution_count": 6,
   "metadata": {
    "autoscroll": false,
    "collapsed": false,
    "ein.hycell": false,
    "ein.tags": "worksheet-0",
    "slideshow": {
     "slide_type": "-"
    }
   },
   "outputs": [],
   "source": [
    "iucn_checklist_matching = pd.read_csv('/home/joon/data/iucn-checklist-matching.csv',index_col=0,header=None,squeeze=True,converters={1:read_set_in_csv})"
   ]
  },
  {
   "cell_type": "markdown",
   "metadata": {
    "ein.tags": "worksheet-0",
    "slideshow": {
     "slide_type": "-"
    }
   },
   "source": [
    "# MATCHING CHECKLIST -> GBIF"
   ]
  },
  {
   "cell_type": "markdown",
   "metadata": {
    "ein.tags": "worksheet-0",
    "slideshow": {
     "slide_type": "-"
    }
   },
   "source": [
    "On récupère les `accepted_plant_name_ids` concernés, c'est-à-dire sélectionnés par le matching iucn -> checklist."
   ]
  },
  {
   "cell_type": "code",
   "execution_count": 22,
   "metadata": {
    "autoscroll": false,
    "collapsed": false,
    "ein.hycell": false,
    "ein.tags": "worksheet-0",
    "slideshow": {
     "slide_type": "-"
    }
   },
   "outputs": [],
   "source": [
    "# accepted_plant_name_ids = {id for l in list(iucn_checklist_matching[iucn_checklist_matching.validated]['accepted_ids_in_checklist']) for id in l}\n",
    "# accepted_plant_name_ids = {id for l in iucn_checklist_matching[iucn_checklist_species_validated_matchings] for id in l}"
   ]
  },
  {
   "cell_type": "code",
   "execution_count": 6,
   "metadata": {
    "autoscroll": false,
    "collapsed": false,
    "ein.hycell": false,
    "ein.tags": "worksheet-0",
    "slideshow": {
     "slide_type": "-"
    }
   },
   "outputs": [],
   "source": [
    "#????? à valider LES PLANT NAME IDS CORRESPONDANT AUX PLANTES GBIF\n",
    "# accepted_plant_name_ids = iucn_checklist_matching.loc[iucn_checklist_species_validated_matchings,'accepted_plant_name_id']\n",
    "# checklist = checklist[checklist.accepted_plant_name_id.isin(accepted_plant_name_ids)]\n",
    "\n",
    "# TOUS LES PLANTES DE LA CHECKLIST\n",
    "accepted_plant_name_ids = checklist.accepted_plant_name_id.unique()"
   ]
  },
  {
   "cell_type": "markdown",
   "metadata": {
    "ein.tags": "worksheet-0",
    "slideshow": {
     "slide_type": "-"
    }
   },
   "source": [
    "On restraint la checklist aux lignes correspondantes."
   ]
  },
  {
   "cell_type": "markdown",
   "metadata": {
    "ein.tags": "worksheet-0",
    "slideshow": {
     "slide_type": "-"
    }
   },
   "source": [
    "## Loading GBIF names"
   ]
  },
  {
   "cell_type": "code",
   "execution_count": 7,
   "metadata": {
    "autoscroll": false,
    "collapsed": false,
    "ein.hycell": false,
    "ein.tags": "worksheet-0",
    "slideshow": {
     "slide_type": "-"
    }
   },
   "outputs": [],
   "source": [
    "gbif = pd.read_csv(\"/home/joon/data/gbif-names.csv\",sep='\t')\n",
    "gbif = gbif[['taxonKey','scientificName', 'acceptedTaxonKey', 'family', 'genus', 'species']]\n",
    "gbif = gbif[(gbif.genus.isnull() == False) & (gbif.species.isnull() == False)]"
   ]
  },
  {
   "cell_type": "markdown",
   "metadata": {
    "ein.tags": "worksheet-0",
    "slideshow": {
     "slide_type": "-"
    }
   },
   "source": [
    "## Matching genus\n",
    "Nécéssaire car certaines genus n'ont pas la même orthographe dans la checklist et le GBIF\n",
    "On recherche des matchs appartenant à la même famille, de longueur (de la chaîne de caractères) similaire, et commençant par la même lettre.\n",
    "Ce n'est pas grave de matcher plusieurs genus de façon parfois approximative, car ça ne sert qu'à restreindre ensuite la recherche des species."
   ]
  },
  {
   "cell_type": "code",
   "execution_count": 305,
   "metadata": {
    "autoscroll": false,
    "collapsed": false,
    "ein.hycell": false,
    "ein.tags": "worksheet-0",
    "slideshow": {
     "slide_type": "-"
    }
   },
   "outputs": [],
   "source": [
    "gbif_genus_values = gbif.genus.unique()\n",
    "checklist_genus_values = checklist.genus.unique()"
   ]
  },
  {
   "cell_type": "code",
   "execution_count": 306,
   "metadata": {
    "autoscroll": false,
    "collapsed": false,
    "ein.hycell": false,
    "ein.tags": "worksheet-0",
    "slideshow": {
     "slide_type": "-"
    }
   },
   "outputs": [],
   "source": [
    "genus_checklist_gbif_matching = pd.DataFrame()\n",
    "\n",
    "for genus in checklist_genus_values:\n",
    "    considered_values = [value for value in gbif_genus_values if ((len(genus)*3/4-2<=len(value)) & (len(value) <=len(genus)*4/3+2) & (value[0].casefold()==genus[0].casefold()))]\n",
    "    if len(considered_values) >= 1:\n",
    "        genus_fuzzy_matchings = pd.DataFrame([[value,score] for (value, score) in process.extract(genus,considered_values)] ,columns=['value','score'])\n",
    "        genus_fuzzy_matchings = genus_fuzzy_matchings[genus_fuzzy_matchings.score>=100-2*(100-genus_fuzzy_matchings.score.max())]\n",
    "        genus_checklist_gbif_matching = genus_checklist_gbif_matching.append(pd.Series([list(genus_fuzzy_matchings.value.values)],name=genus))\n",
    "    else:\n",
    "        genus_checklist_gbif_matching = genus_checklist_gbif_matching.append(pd.Series([],name=genus))\n",
    "genus_checklist_gbif_matching.columns = ['matched_genus_in_gbif']\n",
    "genus_checklist_gbif_matching.to_csv('genus_checklist_gbif_matching.csv')"
   ]
  },
  {
   "cell_type": "code",
   "execution_count": 307,
   "metadata": {
    "autoscroll": false,
    "collapsed": false,
    "ein.hycell": false,
    "ein.tags": "worksheet-0",
    "slideshow": {
     "slide_type": "-"
    }
   },
   "outputs": [],
   "source": [
    "genus_checklist_gbif_matching = pd.read_csv('genus_checklist_gbif_matching.csv',squeeze=True,index_col=0,converters={'matched_genus_in_gbif':lambda x: x.strip(\"[]\").replace(\"'\",\"\").split(\", \")})"
   ]
  },
  {
   "cell_type": "markdown",
   "metadata": {
    "ein.tags": "worksheet-0",
    "slideshow": {
     "slide_type": "-"
    }
   },
   "source": [
    "# Matching des checklist row -> GBIF acceptedTaxonKey\n",
    "checklist_gbif_matching contient la correspondance plant_name_id -> acceptedTaxonKey"
   ]
  },
  {
   "cell_type": "code",
   "execution_count": 28,
   "metadata": {
    "autoscroll": false,
    "collapsed": false,
    "ein.hycell": false,
    "ein.tags": "worksheet-0",
    "slideshow": {
     "slide_type": "-"
    }
   },
   "outputs": [],
   "source": [
    "#checklist_gbif_matching.to_csv('checklist_gbif_matching.csv')\n",
    "#checklist_gbif_matching.to_csv('all_checklist_gbif_matching.csv')"
   ]
  },
  {
   "cell_type": "code",
   "execution_count": 1,
   "metadata": {
    "autoscroll": false,
    "collapsed": false,
    "ein.hycell": false,
    "ein.tags": "worksheet-0",
    "slideshow": {
     "slide_type": "-"
    }
   },
   "outputs": [],
   "source": [
    "def checklist_gbif_matching_process_genus(genus):\n",
    "    global genus_checklist_gbif_matching, checklist, gbif\n",
    "\n",
    "    checklist_gbif_matching = pd.Series([])\n",
    "\n",
    "    genus_values = genus_checklist_gbif_matching.loc[genus]\n",
    "    checklist_species_from_genus = checklist.species[checklist.genus==genus]\n",
    "\n",
    "    search_res_g = gbif[gbif.genus.isin(genus_values)] # filter by genus only\n",
    "\n",
    "    for plant_name_id in checklist_species_from_genus.index:\n",
    "        giveup = False\n",
    "        checklist_row = checklist.loc[plant_name_id]\n",
    "        species = checklist_row.species\n",
    "        g_s = genus + ' ' + species\n",
    "        taxon = checklist_row.taxon_name\n",
    "        var_subsp = taxon.replace(g_s,'').replace(' var. ','').replace(' subsp. ','')\n",
    "        authority = checklist_row.taxon_authors\n",
    "\n",
    "        search_res_gs = search_res_g[search_res_g.species==g_s]\n",
    "\n",
    "        if var_subsp != '':\n",
    "            search_res_gs = search_res_gs[search_res_gs.scientificName.str.contains(re.escape(var_subsp))]\n",
    "\n",
    "        if search_res_gs.shape[0] == 0: # if match fails with genus+species, consider all genus, and fuzzy match the species\n",
    "            os.system('echo \"'+str(plant_name_id)+\" > log.txt\")\n",
    "            name_fuzzy_matchings = None\n",
    "            try:\n",
    "                name_fuzzy_matchings = pd.DataFrame([[ind,name,score] for (name, score,ind) in process.extract(species,search_res_g.species,scorer=fuzz.ratio,limit=100)],columns=['ind','name','score']).set_index('ind')\n",
    "            except:\n",
    "                print(sys.exc_info()[0])\n",
    "                print(g_s)\n",
    "            name_fuzzy_matchings = name_fuzzy_matchings[name_fuzzy_matchings.score>=max(100-2*(100-name_fuzzy_matchings.score.max()),79)]\n",
    "            search_res_gs = search_res_g[search_res_g.species.isin(name_fuzzy_matchings.name.values)] \n",
    "            if search_res_gs.shape[0] == 0:\n",
    "                final_search_res = search_res_gs\n",
    "                giveup = True\n",
    "\n",
    "        if pd.isnull(authority):\n",
    "            authority = \"\"\n",
    "        authority = authority.strip()\n",
    "\n",
    "        search_res_matching_authority = search_res_gs[search_res_gs.scientificName==checklist_row.taxon_name+(' '+authority if not pd.isnull(checklist_row.taxon_authors) else '')] # try exact match of author name\n",
    "\n",
    "        if search_res_matching_authority.shape[0] == 0:\n",
    "            authority_complete = authority\n",
    "            authority = re.sub('\\(.+\\)','',authority).strip()\n",
    "            search_res_matching_authority = search_res_gs[search_res_gs.scientificName==checklist_row.taxon_name+(' '+authority if not pd.isnull(checklist_row.taxon_authors) else '')] # try exact match of author name\n",
    "\n",
    "        if search_res_matching_authority.acceptedTaxonKey.nunique() >= 1:\n",
    "            final_search_res = search_res_matching_authority\n",
    "        else: # if exact match of author name failed\n",
    "            search_res_containing_authority = search_res_gs[search_res_gs.scientificName.str.contains(authority)]\n",
    "            if search_res_containing_authority.acceptedTaxonKey.nunique() == 1:\n",
    "                final_search_res = search_res_containing_authority\n",
    "            elif not giveup:\n",
    "                if search_res_containing_authority.acceptedTaxonKey.nunique() >= 2:\n",
    "                    search_res_gs = search_res_containing_authority\n",
    "                name_fuzzy_matchings = pd.DataFrame([[name,score] for (name, score) in process.extract(var_subsp+' '+authority,search_res_gs.scientificName.apply(lambda name : name.replace(g_s+' ','')).values,scorer=fuzz.partial_ratio,limit=100)] ,columns=['name','score'])\n",
    "                name_fuzzy_matchings = name_fuzzy_matchings[name_fuzzy_matchings.score>=max(100-2*(100-name_fuzzy_matchings.score.max()),80)]\n",
    "                if name_fuzzy_matchings.shape[0] > 1:\n",
    "                    name_fuzzy_matchings = pd.DataFrame([[name,score] for (name, score) in process.extract(var_subsp+' '+authority_complete,search_res_gs.scientificName.apply(lambda name : name.replace(g_s+' ','')).values,scorer=fuzz.partial_ratio,limit=100)] ,columns=['name','score'])\n",
    "                    name_fuzzy_matchings = name_fuzzy_matchings[name_fuzzy_matchings.score>=max(100-2*(100-name_fuzzy_matchings.score.max()),80)]\n",
    "                final_search_res = search_res_gs[search_res_gs.scientificName.apply(lambda name : name.replace(g_s+' ','')).isin(name_fuzzy_matchings.name.values)] \n",
    "\n",
    "        # if final_search_res.acceptedTaxonKey.nunique() > 1:\n",
    "            # print(g_s,authority, 'nonunique matches. Scientific names:',final_search_res.scientificName.unique())\n",
    "\n",
    "        checklist_gbif_matching[plant_name_id] = set(list(final_search_res.acceptedTaxonKey.unique()) + ([] if plant_name_id not in checklist_gbif_matching.index else list(checklist_gbif_matching[plant_name_id])))\n",
    "\n",
    "    checklist_gbif_matching.to_csv('/home/joon/data/checklist-gbif-matching-'+genus+'.csv',header=False)"
   ]
  },
  {
   "cell_type": "code",
   "execution_count": 309,
   "metadata": {
    "autoscroll": false,
    "collapsed": false,
    "ein.hycell": false,
    "ein.tags": "worksheet-0",
    "slideshow": {
     "slide_type": "-"
    }
   },
   "outputs": [
    {
     "data": {
      "text/plain": [
       "0"
      ]
     },
     "execution_count": 309,
     "metadata": {},
     "output_type": "execute_result"
    }
   ],
   "source": [
    "os.system('rm /home/joon/data/checklist-gbif-matching-*.csv')\n",
    "os.system('rm /home/joon/data/checklist-gbif-matching.csv')"
   ]
  },
  {
   "cell_type": "code",
   "execution_count": 310,
   "metadata": {
    "autoscroll": false,
    "collapsed": false,
    "ein.hycell": false,
    "ein.tags": "worksheet-0",
    "slideshow": {
     "slide_type": "-"
    }
   },
   "outputs": [
    {
     "name": "stderr",
     "output_type": "stream",
     "text": [
      "WARNING:root:Applied processor reduces input query to empty string, all comparisons will have score 0. [Query: ' ']\n"
     ]
    },
    {
     "name": "stderr",
     "output_type": "stream",
     "text": [
      "WARNING:root:Applied processor reduces input query to empty string, all comparisons will have score 0. [Query: ' ']\n"
     ]
    },
    {
     "name": "stderr",
     "output_type": "stream",
     "text": [
      "WARNING:root:Applied processor reduces input query to empty string, all comparisons will have score 0. [Query: ' ']\n"
     ]
    },
    {
     "name": "stderr",
     "output_type": "stream",
     "text": [
      "WARNING:root:Applied processor reduces input query to empty string, all comparisons will have score 0. [Query: ' ']\n"
     ]
    },
    {
     "name": "stderr",
     "output_type": "stream",
     "text": [
      "WARNING:root:Applied processor reduces input query to empty string, all comparisons will have score 0. [Query: ' ']\n"
     ]
    },
    {
     "name": "stderr",
     "output_type": "stream",
     "text": [
      "WARNING:root:Applied processor reduces input query to empty string, all comparisons will have score 0. [Query: ' ']\n"
     ]
    },
    {
     "name": "stderr",
     "output_type": "stream",
     "text": [
      "WARNING:root:Applied processor reduces input query to empty string, all comparisons will have score 0. [Query: ' ']\n"
     ]
    },
    {
     "name": "stderr",
     "output_type": "stream",
     "text": [
      "WARNING:root:Applied processor reduces input query to empty string, all comparisons will have score 0. [Query: ' ']\n"
     ]
    },
    {
     "name": "stderr",
     "output_type": "stream",
     "text": [
      "WARNING:root:Applied processor reduces input query to empty string, all comparisons will have score 0. [Query: ' ']\n"
     ]
    },
    {
     "name": "stderr",
     "output_type": "stream",
     "text": [
      "WARNING:root:Applied processor reduces input query to empty string, all comparisons will have score 0. [Query: ' ']\n"
     ]
    },
    {
     "name": "stderr",
     "output_type": "stream",
     "text": [
      "WARNING:root:Applied processor reduces input query to empty string, all comparisons will have score 0. [Query: ' ']\n"
     ]
    },
    {
     "name": "stderr",
     "output_type": "stream",
     "text": [
      "WARNING:root:Applied processor reduces input query to empty string, all comparisons will have score 0. [Query: ' ']\n"
     ]
    },
    {
     "name": "stderr",
     "output_type": "stream",
     "text": [
      "WARNING:root:Applied processor reduces input query to empty string, all comparisons will have score 0. [Query: ' ']\n"
     ]
    },
    {
     "name": "stderr",
     "output_type": "stream",
     "text": [
      "WARNING:root:Applied processor reduces input query to empty string, all comparisons will have score 0. [Query: ' ']\n"
     ]
    },
    {
     "name": "stderr",
     "output_type": "stream",
     "text": [
      "WARNING:root:Applied processor reduces input query to empty string, all comparisons will have score 0. [Query: ' ']\n"
     ]
    },
    {
     "name": "stderr",
     "output_type": "stream",
     "text": [
      "WARNING:root:Applied processor reduces input query to empty string, all comparisons will have score 0. [Query: ' ']\n"
     ]
    },
    {
     "name": "stderr",
     "output_type": "stream",
     "text": [
      "WARNING:root:Applied processor reduces input query to empty string, all comparisons will have score 0. [Query: ' ']\n"
     ]
    },
    {
     "name": "stderr",
     "output_type": "stream",
     "text": [
      "WARNING:root:Applied processor reduces input query to empty string, all comparisons will have score 0. [Query: ' ']\n"
     ]
    },
    {
     "name": "stderr",
     "output_type": "stream",
     "text": [
      "WARNING:root:Applied processor reduces input query to empty string, all comparisons will have score 0. [Query: ' ']\n"
     ]
    },
    {
     "name": "stderr",
     "output_type": "stream",
     "text": [
      "WARNING:root:Applied processor reduces input query to empty string, all comparisons will have score 0. [Query: ' ']\n"
     ]
    },
    {
     "name": "stderr",
     "output_type": "stream",
     "text": [
      "WARNING:root:Applied processor reduces input query to empty string, all comparisons will have score 0. [Query: ' ']\n"
     ]
    },
    {
     "name": "stderr",
     "output_type": "stream",
     "text": [
      "WARNING:root:Applied processor reduces input query to empty string, all comparisons will have score 0. [Query: ' ']\n"
     ]
    },
    {
     "name": "stderr",
     "output_type": "stream",
     "text": [
      "WARNING:root:Applied processor reduces input query to empty string, all comparisons will have score 0. [Query: ' ']\n"
     ]
    },
    {
     "name": "stderr",
     "output_type": "stream",
     "text": [
      "WARNING:root:Applied processor reduces input query to empty string, all comparisons will have score 0. [Query: ' ']\n"
     ]
    },
    {
     "name": "stderr",
     "output_type": "stream",
     "text": [
      "WARNING:root:Applied processor reduces input query to empty string, all comparisons will have score 0. [Query: ' ']\n"
     ]
    },
    {
     "name": "stderr",
     "output_type": "stream",
     "text": [
      "WARNING:root:Applied processor reduces input query to empty string, all comparisons will have score 0. [Query: ' ']\n"
     ]
    },
    {
     "name": "stderr",
     "output_type": "stream",
     "text": [
      "WARNING:root:Applied processor reduces input query to empty string, all comparisons will have score 0. [Query: ' ']\n"
     ]
    },
    {
     "name": "stderr",
     "output_type": "stream",
     "text": [
      "WARNING:root:Applied processor reduces input query to empty string, all comparisons will have score 0. [Query: ' ']\n"
     ]
    },
    {
     "name": "stderr",
     "output_type": "stream",
     "text": [
      "WARNING:root:Applied processor reduces input query to empty string, all comparisons will have score 0. [Query: ' ']\n"
     ]
    },
    {
     "name": "stderr",
     "output_type": "stream",
     "text": [
      "WARNING:root:Applied processor reduces input query to empty string, all comparisons will have score 0. [Query: ' ']\n"
     ]
    },
    {
     "name": "stderr",
     "output_type": "stream",
     "text": [
      "WARNING:root:Applied processor reduces input query to empty string, all comparisons will have score 0. [Query: ' ']\n"
     ]
    },
    {
     "name": "stderr",
     "output_type": "stream",
     "text": [
      "WARNING:root:Applied processor reduces input query to empty string, all comparisons will have score 0. [Query: ' ']\n"
     ]
    },
    {
     "name": "stderr",
     "output_type": "stream",
     "text": [
      "WARNING:root:Applied processor reduces input query to empty string, all comparisons will have score 0. [Query: ' ']\n"
     ]
    },
    {
     "name": "stderr",
     "output_type": "stream",
     "text": [
      "WARNING:root:Applied processor reduces input query to empty string, all comparisons will have score 0. [Query: ' ']\n"
     ]
    },
    {
     "name": "stderr",
     "output_type": "stream",
     "text": [
      "WARNING:root:Applied processor reduces input query to empty string, all comparisons will have score 0. [Query: ' ']\n"
     ]
    },
    {
     "name": "stderr",
     "output_type": "stream",
     "text": [
      "WARNING:root:Applied processor reduces input query to empty string, all comparisons will have score 0. [Query: ' ']\n"
     ]
    },
    {
     "name": "stderr",
     "output_type": "stream",
     "text": [
      "WARNING:root:Applied processor reduces input query to empty string, all comparisons will have score 0. [Query: ' ']\n"
     ]
    }
   ],
   "source": [
    "from multiprocessing import Pool\n",
    "with Pool(processes=11) as pool:\n",
    "    pool.map(checklist_gbif_matching_process_genus, checklist_genus_values)"
   ]
  },
  {
   "cell_type": "code",
   "execution_count": 311,
   "metadata": {
    "autoscroll": false,
    "collapsed": false,
    "ein.hycell": false,
    "ein.tags": "worksheet-0",
    "slideshow": {
     "slide_type": "-"
    }
   },
   "outputs": [
    {
     "data": {
      "text/plain": [
       "0"
      ]
     },
     "execution_count": 311,
     "metadata": {},
     "output_type": "execute_result"
    }
   ],
   "source": [
    "#fusionner les résultats et supprimer les fichiers temporaires!\n",
    "os.system('cat /home/joon/data/checklist-gbif-matching-*.csv > /home/joon/data/checklist-gbif-matching.csv')\n",
    "os.system('rm /home/joon/data/checklist-gbif-matching-*.csv')"
   ]
  },
  {
   "cell_type": "code",
   "execution_count": 8,
   "metadata": {
    "autoscroll": false,
    "collapsed": false,
    "ein.hycell": false,
    "ein.tags": "worksheet-0",
    "slideshow": {
     "slide_type": "-"
    }
   },
   "outputs": [],
   "source": [
    "checklist_gbif_matching = pd.read_csv('/home/joon/data/checklist-gbif-matching.csv',index_col=0,header=None,squeeze=True,converters={1:read_set_in_csv})"
   ]
  },
  {
   "cell_type": "code",
   "execution_count": 11,
   "metadata": {
    "autoscroll": false,
    "collapsed": false,
    "ein.hycell": false,
    "ein.tags": "worksheet-0",
    "slideshow": {
     "slide_type": "-"
    }
   },
   "outputs": [],
   "source": [
    "checklist_accepted_gbif_taxonkey_matching = pd.Series([])\n",
    "\n",
    "for accepted_plant_name_id in accepted_plant_name_ids:\n",
    "    plant_name_ids = set(checklist[checklist.accepted_plant_name_id==accepted_plant_name_id].index)\n",
    "    acceptedTaxonKeys = {acceptedTaxonKey for foo in checklist_gbif_matching.loc[plant_name_ids] for acceptedTaxonKey in foo}\n",
    "    taxonKeys = set(gbif.taxonKey[gbif.acceptedTaxonKey.isin(acceptedTaxonKeys)])\n",
    "    checklist_accepted_gbif_taxonkey_matching[accepted_plant_name_id] = taxonKeys\n",
    "\n",
    "checklist_accepted_gbif_taxonkey_matching.to_csv('/home/joon/data/checklist-accepted-gbif-taxonkey-matching.csv',header=False)"
   ]
  },
  {
   "cell_type": "code",
   "execution_count": 9,
   "metadata": {
    "autoscroll": false,
    "collapsed": false,
    "ein.hycell": false,
    "ein.tags": "worksheet-0",
    "slideshow": {
     "slide_type": "-"
    }
   },
   "outputs": [],
   "source": [
    "checklist_accepted_gbif_taxonkey_matching = pd.read_csv('/home/joon/data/checklist-accepted-gbif-taxonkey-matching.csv',index_col=0,header=None,squeeze=True,converters={1:read_set_in_csv})"
   ]
  },
  {
   "cell_type": "markdown",
   "metadata": {
    "ein.tags": "worksheet-0",
    "slideshow": {
     "slide_type": "-"
    }
   },
   "source": [
    "## Correspondance iucn index -> acceptedTaxonKey"
   ]
  },
  {
   "cell_type": "code",
   "execution_count": 13,
   "metadata": {
    "autoscroll": false,
    "collapsed": false,
    "ein.hycell": false,
    "ein.tags": "worksheet-0",
    "slideshow": {
     "slide_type": "-"
    }
   },
   "outputs": [],
   "source": [
    "iucn_gbif_matching = pd.Series([])\n",
    "\n",
    "# for iucn_taxon_index in iucn_checklist_matching.loc[iucn_checklist_species_validated_matchings,'iucn_index'].unique():\n",
    "for iucn_taxon_index in iucn_checklist_matching.index:\n",
    "    accepted_plant_name_ids = iucn_checklist_matching.loc[iucn_taxon_index]\n",
    "    plant_name_ids = {plant_name_id for accepted_plant_name_id in accepted_plant_name_ids for plant_name_id in checklist.loc[checklist.accepted_plant_name_id==accepted_plant_name_id].index}\n",
    "    acceptedTaxonKeys = {acceptedTaxonKey for plant_name_id in plant_name_ids for acceptedTaxonKey in checklist_gbif_matching[plant_name_id]}\n",
    "\n",
    "    iucn_gbif_matching[iucn_taxon_index] = acceptedTaxonKeys\n",
    "\n",
    "iucn_gbif_matching.to_csv('/home/joon/data/iucn_gbif_matching.csv',header=False)"
   ]
  },
  {
   "cell_type": "code",
   "execution_count": 11,
   "metadata": {
    "autoscroll": false,
    "collapsed": false,
    "ein.hycell": false,
    "ein.tags": "worksheet-0",
    "slideshow": {
     "slide_type": "-"
    }
   },
   "outputs": [],
   "source": [
    "iucn_gbif_matching = pd.read_csv('/home/joon/data/iucn_gbif_matching.csv',index_col=0,header=None,squeeze=True,converters={1:read_set_in_csv})"
   ]
  },
  {
   "cell_type": "markdown",
   "metadata": {
    "ein.tags": "worksheet-0",
    "slideshow": {
     "slide_type": "-"
    }
   },
   "source": [
    "iucn_taxon_index -> taxonkey"
   ]
  },
  {
   "cell_type": "code",
   "execution_count": 42,
   "metadata": {
    "autoscroll": false,
    "collapsed": false,
    "ein.hycell": false,
    "ein.tags": "worksheet-0",
    "slideshow": {
     "slide_type": "-"
    }
   },
   "outputs": [],
   "source": [
    "iucn_gbif_taxonkey_matching = pd.Series([])\n",
    "\n",
    "for iucn_taxon_index in iucn_checklist_matching.index:\n",
    "    accepted_plant_name_ids = iucn_checklist_matching.loc[iucn_taxon_index]\n",
    "    taxonKeys = {taxonKey for foo in checklist_accepted_gbif_taxonkey_matching.loc[accepted_plant_name_ids] for taxonKey in foo}\n",
    "    iucn_gbif_taxonkey_matching[iucn_taxon_index] = taxonKeys\n",
    "\n",
    "iucn_gbif_taxonkey_matching.to_csv('/home/joon/data/iucn_gbif_taxonkey_matching.csv',header=False)"
   ]
  },
  {
   "cell_type": "code",
   "execution_count": null,
   "metadata": {
    "autoscroll": false,
    "collapsed": false,
    "ein.hycell": false,
    "ein.tags": "worksheet-0",
    "slideshow": {
     "slide_type": "-"
    }
   },
   "outputs": [],
   "source": []
  }
 ],
 "metadata": {
  "kernelspec": {
   "argv": [
    "python",
    "-m",
    "ipykernel_launcher",
    "-f",
    "{connection_file}"
   ],
   "display_name": "Python 3",
   "env": null,
   "interrupt_mode": "signal",
   "language": "python",
   "metadata": null,
   "name": "python3"
  },
  "language_info": {
   "codemirror_mode": {
    "name": "ipython",
    "version": 3
   },
   "file_extension": ".py",
   "mimetype": "text/x-python",
   "name": "python",
   "nbconvert_exporter": "python",
   "pygments_lexer": "ipython3",
   "version": "3.7.3"
  },
  "name": "matching-iucn-checklist-gbif.ipynb"
 },
 "nbformat": 4,
 "nbformat_minor": 2
}
