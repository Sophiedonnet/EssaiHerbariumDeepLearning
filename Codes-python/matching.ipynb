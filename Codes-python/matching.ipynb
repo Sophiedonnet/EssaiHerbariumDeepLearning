{
 "cells": [
  {
   "cell_type": "code",
   "execution_count": 869,
   "metadata": {
    "autoscroll": false,
    "collapsed": false,
    "ein.hycell": false,
    "ein.tags": "worksheet-0",
    "slideshow": {
     "slide_type": "-"
    }
   },
   "outputs": [],
   "source": [
    "import numpy as np\n",
    "import pandas as pd\n",
    "import random"
   ]
  },
  {
   "cell_type": "code",
   "execution_count": 870,
   "metadata": {
    "autoscroll": false,
    "collapsed": false,
    "ein.hycell": false,
    "ein.tags": "worksheet-0",
    "slideshow": {
     "slide_type": "-"
    }
   },
   "outputs": [],
   "source": [
    "gbif = pd.read_csv(\"/home/joon/Téléchargements/0025255-190415153152247.csv\",sep='\t')"
   ]
  },
  {
   "cell_type": "code",
   "execution_count": 871,
   "metadata": {
    "autoscroll": false,
    "collapsed": false,
    "ein.hycell": false,
    "ein.tags": "worksheet-0",
    "slideshow": {
     "slide_type": "-"
    }
   },
   "outputs": [
    {
     "data": {
      "text/plain": [
       "Index(['taxonKey', 'scientificName', 'acceptedTaxonKey',\n       'acceptedScientificName', 'numberOfOccurrences', 'taxonRank',\n       'taxonomicStatus', 'kingdom', 'kingdomKey', 'phylum', 'phylumKey',\n       'class', 'classKey', 'order', 'orderKey', 'family', 'familyKey',\n       'genus', 'genusKey', 'species', 'speciesKey'],\n      dtype='object')"
      ]
     },
     "execution_count": 871,
     "metadata": {},
     "output_type": "execute_result"
    }
   ],
   "source": [
    "gbif.columns"
   ]
  },
  {
   "cell_type": "code",
   "execution_count": 872,
   "metadata": {
    "autoscroll": false,
    "collapsed": false,
    "ein.hycell": false,
    "ein.tags": "worksheet-0",
    "slideshow": {
     "slide_type": "-"
    }
   },
   "outputs": [],
   "source": [
    "gbif = gbif_raw[[\"species\",\"scientificName\",\"acceptedScientificName\"]]"
   ]
  },
  {
   "cell_type": "code",
   "execution_count": 873,
   "metadata": {
    "autoscroll": false,
    "collapsed": false,
    "ein.hycell": false,
    "ein.tags": "worksheet-0",
    "slideshow": {
     "slide_type": "-"
    }
   },
   "outputs": [],
   "source": [
    "iucn = pd.read_csv(\"/home/joon/Téléchargements/iucn/taxonomy.csv\",sep=',')"
   ]
  },
  {
   "cell_type": "code",
   "execution_count": 874,
   "metadata": {
    "autoscroll": false,
    "collapsed": false,
    "ein.hycell": false,
    "ein.tags": "worksheet-0",
    "slideshow": {
     "slide_type": "-"
    }
   },
   "outputs": [
    {
     "data": {
      "text/plain": [
       "Index(['kingdomName', 'phylumName', 'orderName', 'className', 'familyName',\n       'genusName', 'speciesName', 'infraType', 'infraName', 'infraAuthority',\n       'authority', 'internalTaxonId', 'taxonomicNotes'],\n      dtype='object')"
      ]
     },
     "execution_count": 874,
     "metadata": {},
     "output_type": "execute_result"
    }
   ],
   "source": [
    "iucn.columns"
   ]
  },
  {
   "cell_type": "code",
   "execution_count": 875,
   "metadata": {
    "autoscroll": false,
    "collapsed": false,
    "ein.hycell": false,
    "ein.tags": "worksheet-0",
    "slideshow": {
     "slide_type": "-"
    }
   },
   "outputs": [],
   "source": [
    "iucn = iucn[[\"genusName\",\"speciesName\",\"authority\"]]"
   ]
  },
  {
   "cell_type": "markdown",
   "metadata": {
    "ein.tags": "worksheet-0",
    "slideshow": {
     "slide_type": "-"
    }
   },
   "source": [
    "Il y a un encodage bizarre pour \"&\" dans iucn. On corrige ça:"
   ]
  },
  {
   "cell_type": "code",
   "execution_count": 876,
   "metadata": {
    "autoscroll": false,
    "collapsed": false,
    "ein.hycell": false,
    "ein.tags": "worksheet-0",
    "slideshow": {
     "slide_type": "-"
    }
   },
   "outputs": [],
   "source": [
    "iucn['authority'] = iucn['authority'].str.replace('&amp;',\"&\",regex=False)"
   ]
  },
  {
   "cell_type": "markdown",
   "metadata": {
    "ein.tags": "worksheet-0",
    "slideshow": {
     "slide_type": "-"
    }
   },
   "source": [
    "On définit une fonction qui permet de filtrer les lignes d'une sous-dataFrame de `gbif` contenant `string` dans les colonnes `scientificName` ou `acceptedScientificName`."
   ]
  },
  {
   "cell_type": "code",
   "execution_count": 877,
   "metadata": {
    "autoscroll": false,
    "collapsed": false,
    "ein.hycell": false,
    "ein.tags": "worksheet-0",
    "slideshow": {
     "slide_type": "-"
    }
   },
   "outputs": [],
   "source": [
    "def search_in_gbif_names(string,df,regex=False):\n",
    "    return df[(df[\"scientificName\"].str.contains(string,regex=regex,case=False)) | (df[\"acceptedScientificName\"].str.contains(string,regex=regex,case=False))]"
   ]
  },
  {
   "cell_type": "markdown",
   "metadata": {
    "ein.tags": "worksheet-0",
    "slideshow": {
     "slide_type": "-"
    }
   },
   "source": [
    "On définit une fonction qui renvoie le nombre de valeurs différentes dans la colonne `acceptedScientificName` d'une sous-DataFrame de `gbif`"
   ]
  },
  {
   "cell_type": "code",
   "execution_count": 878,
   "metadata": {
    "autoscroll": false,
    "collapsed": false,
    "ein.hycell": false,
    "ein.tags": "worksheet-0",
    "slideshow": {
     "slide_type": "-"
    }
   },
   "outputs": [],
   "source": [
    "def n_unique_accepted_names(df):\n",
    "    return df.iloc[:,1].unique().size   "
   ]
  },
  {
   "cell_type": "markdown",
   "metadata": {
    "ein.tags": "worksheet-0",
    "slideshow": {
     "slide_type": "-"
    }
   },
   "source": [
    "On définit une fonction qui renvoie, pour une ligne d'`iucn`, l'`acceptedScientificName` matché dans `gbif`. Elle procède de la façon suivante.\n",
    "* Filtre les lignes ayant la bonne valeur pour `species`. S'il n'y a aucune ligne qui en résulte, on considère que le matching a échoué.\n",
    "* Recherche les lignes matchant exactement la valeur `authority` de `iucn`. Si cela donne lieu à une unique valeur pour `acceptedScientificName`, on renvoie cette dernière, et le matching a réussi.\n",
    "* Sinon, tant qu'il reste des lignes, on filtre en faisant matcher successivement les différents noms contenus dans `authority`.\n",
    "* Si on arrive au fil des filtrages à une unique valeur pour `acceptedScientificName`, on renvoie cette dernière, et le matching a réussi.\n",
    "* Sinon, on renvoie une des valeurs de `acceptedScientificName`, et on signale que le matching n'est pas unique ..."
   ]
  },
  {
   "cell_type": "code",
   "execution_count": 879,
   "metadata": {
    "autoscroll": false,
    "collapsed": false,
    "ein.hycell": false,
    "ein.tags": "worksheet-0",
    "slideshow": {
     "slide_type": "-"
    }
   },
   "outputs": [],
   "source": [
    "def matching_row_in_gbif(iucn_row):\n",
    "    genus = iucn_row['genusName']\n",
    "    species = iucn_row['speciesName']\n",
    "    g_s = genus + ' ' + species\n",
    "    search_res_w_g_s = gbif[(gbif['species'] == g_s)][['scientificName','acceptedScientificName']]\n",
    "    if search_res_w_g_s.shape[0] == 0: # if match fails with genus+species\n",
    "        print('G+S, matching failed :',g_s)\n",
    "        return np.nan\n",
    "    elif search_res_w_g_s.shape[0] > 1:\n",
    "        authority = iucn_row.loc[[\"authority\"]].item()\n",
    "        search_res_containing_authority = search_in_gbif_names(authority,search_res_w_g_s)\n",
    "        if n_unique_accepted_names(search_res_containing_authority) == 1:\n",
    "            return search_res_containing_authority.iloc[0]['acceptedScientificName']\n",
    "        else: # otherwise sequentially filters by words randomly drawn from authority\n",
    "            words_from_authority = list(filter(lambda str: len(str) > 1,re.sub('[^\\w\\s]',' ',authority).split()))\n",
    "            if n_unique_accepted_names(search_res_containing_authority) >= 2:\n",
    "                search_res = search_res_containing_authority\n",
    "            else:\n",
    "                search_res = search_res_w_g_s\n",
    "            while (len(words_from_authority) > 1) and (n_unique_accepted_names(search_res_w_g_s) > 1):\n",
    "                random_word =  words_from_authority.pop(random.randrange(len(words_from_authority)))\n",
    "                search_res_tmp = search_in_gbif_names(random_word,search_res)\n",
    "                if search_res_tmp.shape[0] > 0:\n",
    "                    search_res = search_res_tmp\n",
    "            if search_res.shape[0] == 0:\n",
    "                print('G+S+fuzzy authority, matching failed :',g_s)\n",
    "                return np.nan\n",
    "            else:\n",
    "                if n_unique_accepted_names(search_res) > 1:\n",
    "                    print('G+S+filtered authority, couln\\'t find a unique match :', g_s)\n",
    "                return search_res.iloc[0]['acceptedScientificName']\n",
    "    else:\n",
    "       return search_res_w_g_s.iloc[0,1]"
   ]
  },
  {
   "cell_type": "code",
   "execution_count": 880,
   "metadata": {
    "autoscroll": false,
    "collapsed": false,
    "ein.hycell": false,
    "ein.tags": "worksheet-0",
    "slideshow": {
     "slide_type": "-"
    }
   },
   "outputs": [
    {
     "name": "stdout",
     "output_type": "stream",
     "text": [
      "G+S+filtered authority, couln't find a unique match : Eriosyce crispa\n",
      "G+S+filtered authority, couln't find a unique match : Cleistocactus winteri\n"
     ]
    },
    {
     "name": "stdout",
     "output_type": "stream",
     "text": [
      "G+S, matching failed : Rebutia albipectinata\n"
     ]
    },
    {
     "name": "stdout",
     "output_type": "stream",
     "text": [
      "G+S, matching failed : Melocactus braunii\n"
     ]
    },
    {
     "name": "stdout",
     "output_type": "stream",
     "text": [
      "G+S, matching failed : Cereus estevesii\n",
      "G+S+filtered authority, couln't find a unique match : Gymnocalycium horstii\n"
     ]
    },
    {
     "name": "stdout",
     "output_type": "stream",
     "text": [
      "G+S+filtered authority, couln't find a unique match : Rhipsalis dissimilis\n"
     ]
    },
    {
     "name": "stdout",
     "output_type": "stream",
     "text": [
      "G+S, matching failed : Melocactus brederooianus\n"
     ]
    },
    {
     "name": "stdout",
     "output_type": "stream",
     "text": [
      "G+S+filtered authority, couln't find a unique match : Mammillaria laui\n",
      "G+S, matching failed : Gymnocalycium albiareolatum\n"
     ]
    },
    {
     "name": "stdout",
     "output_type": "stream",
     "text": [
      "G+S, matching failed : Tacinga subcylindrica\n"
     ]
    },
    {
     "name": "stdout",
     "output_type": "stream",
     "text": [
      "G+S+filtered authority, couln't find a unique match : Coffea sessiliflora\n"
     ]
    },
    {
     "name": "stdout",
     "output_type": "stream",
     "text": [
      "G+S+filtered authority, couln't find a unique match : Acacia nilotica\n",
      "G+S+filtered authority, couln't find a unique match : Cyperus laevigatus\n"
     ]
    },
    {
     "name": "stdout",
     "output_type": "stream",
     "text": [
      "G+S+filtered authority, couln't find a unique match : Alopecurus aequalis\n",
      "G+S+filtered authority, couln't find a unique match : Ranunculus sceleratus\n",
      "G+S+filtered authority, couln't find a unique match : Bolboschoenus maritimus\n"
     ]
    },
    {
     "name": "stdout",
     "output_type": "stream",
     "text": [
      "G+S, matching failed : Pycreus flavidus\n",
      "G+S+filtered authority, couln't find a unique match : Echinochloa colona\n",
      "G+S+filtered authority, couln't find a unique match : Epilobium parviflorum\n",
      "G+S, matching failed : Echinochloa pyramidalis\n",
      "G+S+filtered authority, couln't find a unique match : Catabrosa aquatica\n"
     ]
    },
    {
     "name": "stdout",
     "output_type": "stream",
     "text": [
      "G+S, matching failed : Crypsis minuartioides\n"
     ]
    },
    {
     "name": "stdout",
     "output_type": "stream",
     "text": [
      "G+S+filtered authority, couln't find a unique match : Veronica peregrina\n"
     ]
    },
    {
     "name": "stdout",
     "output_type": "stream",
     "text": [
      "G+S, matching failed : Paspalidium flavidum\n",
      "G+S+filtered authority, couln't find a unique match : Cyperus alternifolius\n",
      "G+S, matching failed : Persicaria glabrum\n",
      "G+S+filtered authority, couln't find a unique match : Plantago major\n"
     ]
    },
    {
     "name": "stdout",
     "output_type": "stream",
     "text": [
      "G+S+filtered authority, couln't find a unique match : Persicaria barbata\n",
      "G+S+filtered authority, couln't find a unique match : Paspalum distichum\n",
      "G+S+filtered authority, couln't find a unique match : Fimbristylis quinquangularis\n"
     ]
    },
    {
     "name": "stdout",
     "output_type": "stream",
     "text": [
      "G+S, matching failed : Echinochloa crusgalli\n",
      "G+S, matching failed : Mammillaria manana\n"
     ]
    },
    {
     "name": "stdout",
     "output_type": "stream",
     "text": [
      "G+S+filtered authority, couln't find a unique match : Persicaria maculosa\n"
     ]
    },
    {
     "name": "stdout",
     "output_type": "stream",
     "text": [
      "G+S+filtered authority, couln't find a unique match : Vicia lutea\n"
     ]
    },
    {
     "name": "stdout",
     "output_type": "stream",
     "text": [
      "G+S, matching failed : Ammannia verticillata\n",
      "G+S+filtered authority, couln't find a unique match : Pteris vittata\n"
     ]
    },
    {
     "name": "stdout",
     "output_type": "stream",
     "text": [
      "G+S, matching failed : Heterospathe phillipsii\n",
      "G+S, matching failed : Kyllinga oblonga\n"
     ]
    },
    {
     "name": "stdout",
     "output_type": "stream",
     "text": [
      "G+S, matching failed : Memecylon semseii\n"
     ]
    },
    {
     "name": "stdout",
     "output_type": "stream",
     "text": [
      "G+S+filtered authority, couln't find a unique match : Eragrostis perbella\n",
      "G+S+filtered authority, couln't find a unique match : Dorstenia hildebrandtii\n"
     ]
    },
    {
     "name": "stdout",
     "output_type": "stream",
     "text": [
      "G+S, matching failed : Diaphananthe meliantha\n",
      "G+S, matching failed : Dissotis arborescens\n",
      "G+S, matching failed : Acridocarpus scheffleri\n"
     ]
    },
    {
     "name": "stdout",
     "output_type": "stream",
     "text": [
      "G+S, matching failed : Huperzia holstii\n"
     ]
    },
    {
     "name": "stdout",
     "output_type": "stream",
     "text": [
      "G+S, matching failed : Huperzia dacrydioides\n",
      "G+S, matching failed : Nesaea triflora\n"
     ]
    },
    {
     "name": "stdout",
     "output_type": "stream",
     "text": [
      "G+S+filtered authority, couln't find a unique match : Polystachya fischeri\n",
      "G+S, matching failed : Nesaea linearis\n",
      "G+S, matching failed : Warneckea mouririifolia\n"
     ]
    },
    {
     "name": "stdout",
     "output_type": "stream",
     "text": [
      "G+S, matching failed : Nesaea stuhlmannii\n",
      "G+S, matching failed : Chassalia sp. nov.\n",
      "G+S, matching failed : Nesaea maxima\n",
      "G+S+filtered authority, couln't find a unique match : Dorstenia tayloriana\n"
     ]
    },
    {
     "name": "stdout",
     "output_type": "stream",
     "text": [
      "G+S, matching failed : Nesaea aurita\n",
      "G+S, matching failed : Dissotis polyantha\n"
     ]
    },
    {
     "name": "stdout",
     "output_type": "stream",
     "text": [
      "G+S, matching failed : Dissotis dichaetantheroides\n",
      "G+S, matching failed : Diaphananthe tanneri\n"
     ]
    },
    {
     "name": "stdout",
     "output_type": "stream",
     "text": [
      "G+S+filtered authority, couln't find a unique match : Syzygium parvulum\n"
     ]
    },
    {
     "name": "stdout",
     "output_type": "stream",
     "text": [
      "G+S+filtered authority, couln't find a unique match : Syzygium micklethwaitii\n",
      "G+S, matching failed : Cyathea schliebenii\n"
     ]
    },
    {
     "name": "stdout",
     "output_type": "stream",
     "text": [
      "G+S, matching failed : Cissampelos truncata\n",
      "G+S, matching failed : Nesaea parkeri\n",
      "G+S, matching failed : Neobenthamia gracilis\n"
     ]
    },
    {
     "name": "stdout",
     "output_type": "stream",
     "text": [
      "G+S+filtered authority, couln't find a unique match : Cynorkis buchwaldiana\n",
      "G+S, matching failed : Cyathea fadenii\n"
     ]
    },
    {
     "name": "stdout",
     "output_type": "stream",
     "text": [
      "G+S, matching failed : Diaphananthe orientalis\n",
      "G+S, matching failed : Dissotis bussei\n",
      "G+S+filtered authority, couln't find a unique match : Ficus tremula\n"
     ]
    },
    {
     "name": "stdout",
     "output_type": "stream",
     "text": [
      "G+S, matching failed : Callipteris ulugurica\n",
      "G+S, matching failed : Cyathea humilis\n"
     ]
    },
    {
     "name": "stdout",
     "output_type": "stream",
     "text": [
      "G+S, matching failed : Dissotis aprica\n",
      "G+S, matching failed : Nesaea pedicellata\n",
      "G+S, matching failed : Lellingeria rupestris\n"
     ]
    },
    {
     "name": "stdout",
     "output_type": "stream",
     "text": [
      "G+S+filtered authority, couln't find a unique match : Polystachya shega\n",
      "G+S+filtered authority, couln't find a unique match : Sesbania speciosa\n"
     ]
    },
    {
     "name": "stdout",
     "output_type": "stream",
     "text": [
      "G+S, matching failed : Lellingeria strangeana\n",
      "G+S+filtered authority, couln't find a unique match : Syzygium cordatum\n"
     ]
    },
    {
     "name": "stdout",
     "output_type": "stream",
     "text": [
      "G+S, matching failed : Siccobaccatus insigniflorus\n",
      "G+S, matching failed : Micranthocereus hofackerianus\n",
      "G+S, matching failed : Arrojadoa multiflora\n",
      "G+S, matching failed : Discocactus cangaensis\n",
      "G+S, matching failed : Discocactus subterraneo-proliferans\n"
     ]
    },
    {
     "name": "stdout",
     "output_type": "stream",
     "text": [
      "G+S, matching failed : Coleocephalocereus uebelmanniorum\n",
      "G+S, matching failed : Estevesia alex-bragae\n",
      "G+S, matching failed : Camellia aurea\n"
     ]
    },
    {
     "name": "stdout",
     "output_type": "stream",
     "text": [
      "G+S, matching failed : Camellia crassiphylla\n",
      "G+S, matching failed : Camellia cucphuongensis\n",
      "G+S, matching failed : Camellia dongnaiensis\n"
     ]
    },
    {
     "name": "stdout",
     "output_type": "stream",
     "text": [
      "G+S, matching failed : Dankia langbianensis\n",
      "G+S, matching failed : Camellia megasepala\n",
      "G+S, matching failed : Camellia murauchii\n"
     ]
    },
    {
     "name": "stdout",
     "output_type": "stream",
     "text": [
      "G+S, matching failed : Camellia rosmannii\n",
      "G+S, matching failed : Camellia rubriflora\n",
      "G+S, matching failed : Camellia thailandica\n"
     ]
    },
    {
     "name": "stdout",
     "output_type": "stream",
     "text": [
      "G+S, matching failed : Magnolia hongheensis\n",
      "G+S, matching failed : Magnolia martinii\n"
     ]
    },
    {
     "name": "stdout",
     "output_type": "stream",
     "text": [
      "G+S+filtered authority, couln't find a unique match : Magnolia conifera\n"
     ]
    },
    {
     "name": "stdout",
     "output_type": "stream",
     "text": [
      "G+S, matching failed : Camellia cattienensis\n",
      "G+S, matching failed : Camellia luteocerata\n",
      "G+S, matching failed : Camellia maiana\n",
      "G+S, matching failed : Vatica harmandiana\n",
      "G+S, matching failed : Paphiopedilum canhii\n",
      "G+S+filtered authority, couln't find a unique match : Magnolia carsonii\n"
     ]
    },
    {
     "name": "stdout",
     "output_type": "stream",
     "text": [
      "G+S+filtered authority, couln't find a unique match : Torreya fargesii\n",
      "G+S+filtered authority, couln't find a unique match : Torreya grandis\n"
     ]
    },
    {
     "name": "stdout",
     "output_type": "stream",
     "text": [
      "G+S+filtered authority, couln't find a unique match : Acer amplum\n",
      "G+S+filtered authority, couln't find a unique match : Acer campestre\n",
      "G+S+filtered authority, couln't find a unique match : Acer cappadocicum\n",
      "G+S, matching failed : Acer divergens\n",
      "G+S, matching failed : Acer lobelii\n"
     ]
    },
    {
     "name": "stdout",
     "output_type": "stream",
     "text": [
      "G+S+filtered authority, couln't find a unique match : Acer davidii\n",
      "G+S+filtered authority, couln't find a unique match : Acer hyrcanum\n",
      "G+S+filtered authority, couln't find a unique match : Acer oliverianum\n"
     ]
    },
    {
     "name": "stdout",
     "output_type": "stream",
     "text": [
      "G+S+filtered authority, couln't find a unique match : Acer opalus\n",
      "G+S+filtered authority, couln't find a unique match : Acer pentapomicum\n",
      "G+S+filtered authority, couln't find a unique match : Acer platanoides\n"
     ]
    },
    {
     "name": "stdout",
     "output_type": "stream",
     "text": [
      "G+S+filtered authority, couln't find a unique match : Acer sterculiaceum\n",
      "G+S+filtered authority, couln't find a unique match : Magnolia acuminata\n"
     ]
    },
    {
     "name": "stdout",
     "output_type": "stream",
     "text": [
      "G+S, matching failed : Magnolia decidua\n"
     ]
    },
    {
     "name": "stdout",
     "output_type": "stream",
     "text": [
      "G+S, matching failed : Magnolia longipedunculata\n"
     ]
    },
    {
     "name": "stdout",
     "output_type": "stream",
     "text": [
      "G+S, matching failed : Magnolia tarahumara\n",
      "G+S+filtered authority, couln't find a unique match : Magnolia persuaveolens\n"
     ]
    },
    {
     "name": "stdout",
     "output_type": "stream",
     "text": [
      "G+S+filtered authority, couln't find a unique match : Magnolia tripetala\n",
      "G+S+filtered authority, couln't find a unique match : Magnolia virginiana\n"
     ]
    },
    {
     "name": "stdout",
     "output_type": "stream",
     "text": [
      "G+S, matching failed : Hydrobryum minutale\n"
     ]
    },
    {
     "name": "stdout",
     "output_type": "stream",
     "text": [
      "G+S, matching failed : Quercus calophylla\n"
     ]
    },
    {
     "name": "stdout",
     "output_type": "stream",
     "text": [
      "G+S+filtered authority, couln't find a unique match : Quercus laurifolia\n"
     ]
    },
    {
     "name": "stdout",
     "output_type": "stream",
     "text": [
      "G+S+filtered authority, couln't find a unique match : Quercus rugosa\n"
     ]
    },
    {
     "name": "stdout",
     "output_type": "stream",
     "text": [
      "G+S, matching failed : Betula baschkirica\n"
     ]
    },
    {
     "name": "stdout",
     "output_type": "stream",
     "text": [
      "G+S, matching failed : Ostrya chisosensis\n",
      "G+S+filtered authority, couln't find a unique match : Carpinus cordata\n"
     ]
    },
    {
     "name": "stdout",
     "output_type": "stream",
     "text": [
      "G+S+filtered authority, couln't find a unique match : Carpinus kawakamii\n",
      "G+S+filtered authority, couln't find a unique match : Betula lenta\n",
      "G+S+filtered authority, couln't find a unique match : Carpinus londoniana\n"
     ]
    },
    {
     "name": "stdout",
     "output_type": "stream",
     "text": [
      "G+S, matching failed : Betula falcata\n",
      "G+S, matching failed : Betula sunanensis\n"
     ]
    },
    {
     "name": "stdout",
     "output_type": "stream",
     "text": [
      "G+S, matching failed : Betula wuyiensis\n",
      "G+S, matching failed : Betula karagandensis\n",
      "G+S, matching failed : Corylus wulingensis\n"
     ]
    },
    {
     "name": "stdout",
     "output_type": "stream",
     "text": [
      "G+S, matching failed : Carpinus luochengensis\n",
      "G+S, matching failed : Betula honanensis\n"
     ]
    },
    {
     "name": "stdout",
     "output_type": "stream",
     "text": [
      "G+S, matching failed : Carpinus lipoensis\n",
      "G+S, matching failed : Carpinus eximia\n"
     ]
    },
    {
     "name": "stdout",
     "output_type": "stream",
     "text": [
      "G+S, matching failed : Carpinus dayongiana\n",
      "G+S, matching failed : Corylus potaninii\n",
      "G+S, matching failed : Betula psammophila\n"
     ]
    },
    {
     "name": "stdout",
     "output_type": "stream",
     "text": [
      "G+S, matching failed : Carpinus shimenensis\n"
     ]
    },
    {
     "name": "stdout",
     "output_type": "stream",
     "text": [
      "G+S, matching failed : Betula kwangsiensis\n",
      "G+S, matching failed : Carpinus mengshanensis\n"
     ]
    },
    {
     "name": "stdout",
     "output_type": "stream",
     "text": [
      "G+S, matching failed : Betula coriaceifolia\n",
      "G+S, matching failed : Betula saksarensis\n",
      "G+S, matching failed : Betula zinserlingii\n",
      "G+S, matching failed : Betula potamophila\n"
     ]
    },
    {
     "name": "stdout",
     "output_type": "stream",
     "text": [
      "G+S, matching failed : Betula saviczii\n",
      "G+S, matching failed : Acer albopurpurascens\n",
      "G+S, matching failed : Acer wilsonii\n",
      "G+S, matching failed : Acer serrulatum\n"
     ]
    },
    {
     "name": "stdout",
     "output_type": "stream",
     "text": [
      "G+S, matching failed : Acer flabellatum\n",
      "G+S+filtered authority, couln't find a unique match : Magnolia ernestii\n",
      "G+S, matching failed : Actiniopteris kornasii\n"
     ]
    },
    {
     "name": "stdout",
     "output_type": "stream",
     "text": [
      "G+S, matching failed : Cyathea parksiae\n",
      "G+S, matching failed : Acantholimon gabrieljaniae\n",
      "G+S, matching failed : Achnatherum roshevitzii\n",
      "G+S, matching failed : Allium koenigianum\n"
     ]
    },
    {
     "name": "stdout",
     "output_type": "stream",
     "text": [
      "G+S, matching failed : Allium baytopiorum\n",
      "G+S, matching failed : Allochrusa takhtajanii\n",
      "G+S, matching failed : Alyssum dagestanicum\n",
      "G+S, matching failed : Trifolium bobrovii\n"
     ]
    },
    {
     "name": "stdout",
     "output_type": "stream",
     "text": [
      "G+S, matching failed : Anacyclus ciliatus\n",
      "G+S, matching failed : Aphanopleura zangelanica\n",
      "G+S+filtered authority, couln't find a unique match : Arabis kazbegi\n",
      "G+S, matching failed : Asplenium hermannii-christii\n",
      "G+S+filtered authority, couln't find a unique match : Asplenium daghestanicum\n",
      "G+S, matching failed : Astracantha atenica\n",
      "G+S, matching failed : Astragalus maraziensis\n"
     ]
    },
    {
     "name": "stdout",
     "output_type": "stream",
     "text": [
      "G+S, matching failed : Astragalus albanicus\n",
      "G+S, matching failed : Astragalus schachbuzensis\n",
      "G+S, matching failed : Astracantha oltensis\n",
      "G+S, matching failed : Astragalus voronovianus\n",
      "G+S, matching failed : Astragalus imbricatus\n",
      "G+S, matching failed : Astragalus trabzonicus\n",
      "G+S, matching failed : Astragalus kubensis\n"
     ]
    },
    {
     "name": "stdout",
     "output_type": "stream",
     "text": [
      "G+S, matching failed : Astragalus hirtulus\n",
      "G+S, matching failed : Astragalus eliasianus\n",
      "G+S, matching failed : Astragalus kabristanicus\n",
      "G+S, matching failed : Astragalus magnificus\n",
      "G+S, matching failed :"
     ]
    },
    {
     "name": "stdout",
     "output_type": "stream",
     "text": [
      " Astragalus bylowae\n",
      "G+S, matching failed : Astragalus sonamerensis\n",
      "G+S, matching failed : Astrantia colchica\n",
      "G+S, matching failed : Barbamine ketzkhovelii\n"
     ]
    },
    {
     "name": "stdout",
     "output_type": "stream",
     "text": [
      "G+S, matching failed : Bupleurum kosopolianskyi\n",
      "G+S, matching failed : Callothlaspi abchasicum\n",
      "G+S, matching failed : Campanula kantschavelii\n",
      "G+S, matching failed : Campanula kachethica\n",
      "G+S, matching failed : Campanula dzyschrica\n"
     ]
    },
    {
     "name": "stdout",
     "output_type": "stream",
     "text": [
      "G+S, matching failed : Campanula engurensis\n",
      "G+S, matching failed : Campanula kolakovskyi\n",
      "G+S, matching failed : Campanula fonderwisii\n",
      "G+S, matching failed : Campanula calcarata\n"
     ]
    },
    {
     "name": "stdout",
     "output_type": "stream",
     "text": [
      "G+S, matching failed : Carpoceras tatianae\n",
      "G+S, matching failed : Carum grossheimii\n",
      "G+S, matching failed : Carum komarovii\n",
      "G+S, matching failed : Centaurea tamanianiae\n"
     ]
    },
    {
     "name": "stdout",
     "output_type": "stream",
     "text": [
      "G+S, matching failed : Cephalaria anatolica\n",
      "G+S, matching failed : Cerastium svanicum\n",
      "G+S, matching failed : Chaerophyllum posofianum\n"
     ]
    },
    {
     "name": "stdout",
     "output_type": "stream",
     "text": [
      "G+S, matching failed : Cirsium albowianum\n",
      "G+S, matching failed : Cirsium balkharicum\n",
      "G+S, matching failed : Cirsium czerkessicum\n",
      "G+S, matching failed : Cirsium eliasianum\n"
     ]
    },
    {
     "name": "stdout",
     "output_type": "stream",
     "text": [
      "G+S, matching failed : Convolvulus ruprechtii\n",
      "G+S, matching failed : Cousinia gabrieljaniae\n",
      "G+S, matching failed : Cousinia araxena\n",
      "G+S, matching failed : Cousinia fedorovii\n",
      "G+S, matching failed : Cousinia iljinii\n",
      "G+S, matching failed : Cousinia takhtajanii\n"
     ]
    },
    {
     "name": "stdout",
     "output_type": "stream",
     "text": [
      "G+S, matching failed : Dianthus charadzeae\n",
      "G+S, matching failed : Draba narmanensis\n",
      "G+S, matching failed : Draba meskhetica\n"
     ]
    },
    {
     "name": "stdout",
     "output_type": "stream",
     "text": [
      "G+S, matching failed : Dryopteris raddeana\n",
      "G+S, matching failed : Dryopteris liliana\n",
      "G+S, matching failed : Erigeron schalbusi\n",
      "G+S, matching failed : Erodium sosnowskianum\n"
     ]
    },
    {
     "name": "stdout",
     "output_type": "stream",
     "text": [
      "G+S, matching failed : Erysimum brevistylum\n",
      "G+S, matching failed : Ferula mervynii\n",
      "G+S, matching failed : Ferula caucasica\n"
     ]
    },
    {
     "name": "stdout",
     "output_type": "stream",
     "text": [
      "G+S, matching failed : Gladiolus hajastanicus\n",
      "G+S, matching failed : Gypsophila szovitsii\n",
      "G+S, matching failed : Gypsophila steupii\n"
     ]
    },
    {
     "name": "stdout",
     "output_type": "stream",
     "text": [
      "G+S, matching failed : Hieracium schelkownikowii\n",
      "G+S, matching failed : Hieracium adenobrachion\n",
      "G+S, matching failed : Hornungia angustilimbata\n",
      "G+S, matching failed : Hypericum theodori\n"
     ]
    },
    {
     "name": "stdout",
     "output_type": "stream",
     "text": [
      "G+S, matching failed : Isatis buschiorum\n",
      "G+S, matching failed : Isatis karjaginii\n",
      "G+S, matching failed : Jurinea galushkoi\n",
      "G+S, matching failed : Jurinea brachypappa\n",
      "G+S, matching failed : Jurinea akinfievii\n"
     ]
    },
    {
     "name": "stdout",
     "output_type": "stream",
     "text": [
      "G+S, matching failed : Jurinea praetermissa\n",
      "G+S, matching failed : Jurinea exuberans\n",
      "G+S, matching failed : Jurinea woronowii\n",
      "G+S, matching failed : Laserpitium affine\n"
     ]
    },
    {
     "name": "stdout",
     "output_type": "stream",
     "text": [
      "G+S, matching failed : Linaria zangezura\n",
      "G+S, matching failed : Lotus armeniacus\n",
      "G+S, matching failed : Mandenovia komarovii\n",
      "G+S, matching failed : Minuartia armena\n",
      "G+S, matching failed : Minuartia daralagexica\n",
      "G+S, matching failed : Muehlbergella oweriniana\n"
     ]
    },
    {
     "name": "stdout",
     "output_type": "stream",
     "text": [
      "G+S, matching failed : Nonea karsensis\n",
      "G+S, matching failed : Omphalodes kusnetzovii\n",
      "G+S, matching failed : Onosma arcuata\n",
      "G+S, matching failed : Onosma obtusifolia\n"
     ]
    },
    {
     "name": "stdout",
     "output_type": "stream",
     "text": [
      "G+S, matching failed : Orobanche schelkovnikovii\n",
      "G+S, matching failed : Papaver sjunicicum\n",
      "G+S, matching failed : Papaver talyshense\n",
      "G+S, matching failed : Pimpinella idae\n",
      "G+S, matching failed : Pimpinella lazica\n",
      "G+S, matching failed : Pimpinella schatilensis\n"
     ]
    },
    {
     "name": "stdout",
     "output_type": "stream",
     "text": [
      "G+S, matching failed : Podospermum grigoraschvilii\n",
      "G+S, matching failed : Podospermum idae\n",
      "G+S, matching failed : Polygala urartu\n",
      "G+S, matching failed : Polygonum caspicum\n",
      "G+S, matching failed : Polylophium panjutinii\n",
      "G+S, matching failed : Polystichum kadyrovii\n",
      "G+S, matching failed : Prenanthes abietina\n"
     ]
    },
    {
     "name": "stdout",
     "output_type": "stream",
     "text": [
      "G+S, matching failed : Psephellus fajvuschii\n",
      "G+S, matching failed : Psephellus prokhanovii\n"
     ]
    },
    {
     "name": "stdout",
     "output_type": "stream",
     "text": [
      "G+S, matching failed : Psephellus adjaricus\n",
      "G+S, matching failed : Psephellus debedicus\n",
      "G+S+filtered authority, couln't find a unique match : Psephellus erivanensis\n",
      "G+S, matching failed : Psephellus meskheticus\n",
      "G+S, matching failed : Psephellus geghamensis\n",
      "G+S, matching failed : Psephellus manakyanii\n"
     ]
    },
    {
     "name": "stdout",
     "output_type": "stream",
     "text": [
      "G+S, matching failed : Pyrus elata\n",
      "G+S, matching failed : Pyrus sosnovskyi\n",
      "G+S, matching failed : Ranunculus tempskyanus\n",
      "G+S, matching failed : Ranunculus aragazi\n",
      "G+S, matching failed : Centaurea hajastana\n",
      "G+S, matching failed : Rhodothamnus sessilifolius\n"
     ]
    },
    {
     "name": "stdout",
     "output_type": "stream",
     "text": [
      "G+S, matching failed : Rosa zakatalensis\n",
      "G+S, matching failed : Rosa isaevii\n",
      "G+S, matching failed : Rosa abutalybovii\n",
      "G+S, matching failed : Rosa sosnovskyana\n",
      "G+S, matching failed : Rosa sjunikii\n",
      "G+S, matching failed : Rosa jaroshenkoi\n",
      "G+S, matching failed : Rosa hracziana\n",
      "G+S, matching failed : Rubus takhtadjanii\n"
     ]
    },
    {
     "name": "stdout",
     "output_type": "stream",
     "text": [
      "G+S, matching failed : Salvia andreji\n"
     ]
    },
    {
     "name": "stdout",
     "output_type": "stream",
     "text": [
      "G+S, matching failed : Scutellaria rhomboidalis\n",
      "G+S, matching failed : Klasea caucasica\n"
     ]
    },
    {
     "name": "stdout",
     "output_type": "stream",
     "text": [
      "G+S, matching failed : Seseli petraeum\n",
      "G+S, matching failed : Seseli saxicolum\n",
      "G+S, matching failed : Silene ispirensis\n",
      "G+S, matching failed : Sonchus sosnowskyi\n",
      "G+S, matching failed : Sonchus araraticus\n"
     ]
    },
    {
     "name": "stdout",
     "output_type": "stream",
     "text": [
      "G+S, matching failed : Stachys choruhensis\n",
      "G+S, matching failed : Stachys fominii\n",
      "G+S, matching failed : Stachys talyschensis\n",
      "G+S, matching failed : Stachys sosnowskyi\n",
      "G+S, matching failed : Stachys bayburtensis\n",
      "G+S, matching failed : Stipa karjaginii\n"
     ]
    },
    {
     "name": "stdout",
     "output_type": "stream",
     "text": [
      "G+S, matching failed : Symphytum ibericum\n"
     ]
    },
    {
     "name": "stdout",
     "output_type": "stream",
     "text": [
      "G+S, matching failed : Tragopogon otschiaurii\n",
      "G+S, matching failed : Tragopogon makaschwilii\n",
      "G+S, matching failed : Tragopogon meskheticus\n",
      "G+S, matching failed : Trapa colchica\n",
      "G+S, matching failed : Trapa maleevii\n"
     ]
    },
    {
     "name": "stdout",
     "output_type": "stream",
     "text": [
      "G+S, matching failed : Tulipa gumusanica\n",
      "G+S, matching failed : Verbascum transcaucasicum\n",
      "G+S, matching failed : Verbascum decursivum\n",
      "G+S, matching failed : Veronica transcaucasica\n",
      "G+S, matching failed : Psephellus kolakovskyi\n"
     ]
    },
    {
     "name": "stdout",
     "output_type": "stream",
     "text": [
      "G+S, matching failed : Cynoglossum imeretinum\n"
     ]
    },
    {
     "name": "stdout",
     "output_type": "stream",
     "text": [
      "G+S, matching failed : Justicia tenuipes\n",
      "G+S, matching failed : Stenandrium thomense\n"
     ]
    },
    {
     "name": "stdout",
     "output_type": "stream",
     "text": [
      "G+S, matching failed : Brachystelma exile\n",
      "G+S, matching failed : Brachystelma omissum\n"
     ]
    },
    {
     "name": "stdout",
     "output_type": "stream",
     "text": [
      "G+S, matching failed : Pentarrhinum ledermannii\n",
      "G+S, matching failed : Raphionacme keayi\n",
      "G+S, matching failed : Aloe elegantissima\n"
     ]
    },
    {
     "name": "stdout",
     "output_type": "stream",
     "text": [
      "G+S+filtered authority, couln't find a unique match : Aloe lateritia\n",
      "G+S, matching failed : Aloe ericahenriettae\n"
     ]
    },
    {
     "name": "stdout",
     "output_type": "stream",
     "text": [
      "G+S+filtered authority, couln't find a unique match : Aloe percrassa\n",
      "G+S, matching failed : Aloe weloensis\n",
      "G+S, matching failed : Aloe clarkei\n"
     ]
    },
    {
     "name": "stdout",
     "output_type": "stream",
     "text": [
      "G+S, matching failed : Aloe rubrodonta\n",
      "G+S+filtered authority, couln't find a unique match : Aloe mcloughlinii\n"
     ]
    },
    {
     "name": "stdout",
     "output_type": "stream",
     "text": [
      "G+S+filtered authority, couln't find a unique match : Aloe somaliensis\n",
      "G+S, matching failed : Aloe djiboutiensis\n",
      "G+S, matching failed : Aloe kahinii\n"
     ]
    },
    {
     "name": "stdout",
     "output_type": "stream",
     "text": [
      "G+S, matching failed : Aloe tweedieae\n",
      "G+S+filtered authority, couln't find a unique match : Aloe secundiflora\n"
     ]
    },
    {
     "name": "stdout",
     "output_type": "stream",
     "text": [
      "G+S, matching failed : Arisaema rostratum\n",
      "G+S, matching failed : Hapaline locii\n"
     ]
    },
    {
     "name": "stdout",
     "output_type": "stream",
     "text": [
      "G+S, matching failed : Typhonium vermiforme\n",
      "G+S, matching failed : Damrongia fulva\n",
      "G+S, matching failed : Damrongia integra\n",
      "G+S, matching failed : Damrongia purpureolineata\n",
      "G+S, matching failed : Henckelia rotundata\n",
      "G+S, matching failed : Henckelia smitinandii\n"
     ]
    },
    {
     "name": "stdout",
     "output_type": "stream",
     "text": [
      "G+S, matching failed : Primulina drakei\n",
      "G+S, matching failed : Primulina gemella\n",
      "G+S, matching failed : Primulina hiepii\n",
      "G+S, matching failed : Primulina modesta\n",
      "G+S, matching failed : Primulina semicontorta\n"
     ]
    },
    {
     "name": "stdout",
     "output_type": "stream",
     "text": [
      "G+S, matching failed : Cypripedium daweishanense\n",
      "G+S, matching failed : Cypripedium malipoense\n"
     ]
    },
    {
     "name": "stdout",
     "output_type": "stream",
     "text": [
      "G+S, matching failed : Globba praecox\n"
     ]
    },
    {
     "name": "stdout",
     "output_type": "stream",
     "text": [
      "G+S, matching failed : Curcuma supraneana\n",
      "G+S, matching failed : Newmania orthostachys\n",
      "G+S, matching failed : Newmania serpens\n"
     ]
    },
    {
     "name": "stdout",
     "output_type": "stream",
     "text": [
      "G+S, matching failed : Paraboea acaulis\n",
      "G+S, matching failed : Paraboea glabrescens\n",
      "G+S, matching failed : Paraboea glandulifera\n",
      "G+S, matching failed : Paraboea longipetiolata\n",
      "G+S, matching failed : Paraboea robusta\n",
      "G+S, matching failed : Paraboea strobilacea\n",
      "G+S, matching failed : Paraboea subplana\n",
      "G+S, matching failed : Impatiens adenioides\n"
     ]
    },
    {
     "name": "stdout",
     "output_type": "stream",
     "text": [
      "G+S, matching failed : Meistera calcarata\n",
      "G+S, matching failed : Amomum calcicolum\n",
      "G+S, matching failed : Meistera celsa\n",
      "G+S, matching failed : Meistera chinensis\n",
      "G+S, matching failed : Meistera echinocarpa\n",
      "G+S, matching failed : Meistera elephantorum\n",
      "G+S, matching failed : Meistera gagnepainii\n"
     ]
    },
    {
     "name": "stdout",
     "output_type": "stream",
     "text": [
      "G+S, matching failed : Wurfbainia glabrifolia\n",
      "G+S, matching failed : Meistera koenigii\n",
      "G+S, matching failed : Wurfbainia longiligularis\n",
      "G+S, matching failed : Wurfbainia microcarpa\n",
      "G+S, matching failed : Meistera vespertilio_new\n"
     ]
    },
    {
     "name": "stdout",
     "output_type": "stream",
     "text": [
      "G+S, matching failed : Wurfbainia schmidtii\n",
      "G+S, matching failed : Meistera stephanocolea\n",
      "G+S, matching failed : Wurfbainia tenella\n",
      "G+S, matching failed : Lanxangia tsaoko\n",
      "G+S, matching failed : Wurfbainia uliginosa\n",
      "G+S, matching failed : Wurfbainia vera\n",
      "G+S, matching failed : Meistera vespertilio\n",
      "G+S, matching failed : Meistera tomrey\n",
      "G+S, matching failed : Wurfbainia villosa\n",
      "G+S, matching failed : Amydrium hainanense\n"
     ]
    },
    {
     "name": "stdout",
     "output_type": "stream",
     "text": [
      "G+S, matching failed : Paraboea albida\n"
     ]
    },
    {
     "name": "stdout",
     "output_type": "stream",
     "text": [
      "G+S, matching failed : Pleurostylia serrulata\n",
      "G+S, matching failed : Salacia conraui\n"
     ]
    },
    {
     "name": "stdout",
     "output_type": "stream",
     "text": [
      "G+S, matching failed : Simirestis staudtii\n"
     ]
    },
    {
     "name": "stdout",
     "output_type": "stream",
     "text": [
      "G+S, matching failed : Calvoa calliantha\n",
      "G+S, matching failed : Dissotis bambutorum\n"
     ]
    },
    {
     "name": "stdout",
     "output_type": "stream",
     "text": [
      "G+S, matching failed : Warneckea austro-occidentalis\n"
     ]
    },
    {
     "name": "stdout",
     "output_type": "stream",
     "text": [
      "G+S, matching failed : Anemone halleri\n",
      "G+S+filtered authority, couln't find a unique match : Artemisia umbelliformis\n",
      "G+S+filtered authority, couln't find a unique match : Pulmonaria officinalis\n",
      "G+S, matching failed : Leontopodium alpinum\n"
     ]
    },
    {
     "name": "stdout",
     "output_type": "stream",
     "text": [
      "G+S+filtered authority, couln't find a unique match : Gentiana acaulis\n"
     ]
    },
    {
     "name": "stdout",
     "output_type": "stream",
     "text": [
      "G+S+filtered authority, couln't find a unique match : Salvia officinalis\n",
      "G+S+filtered authority, couln't find a unique match : Sideritis glacialis\n",
      "G+S+filtered authority, couln't find a unique match : Sideritis leucantha\n",
      "G+S+filtered authority, couln't find a unique match : Thymus mastichina\n"
     ]
    },
    {
     "name": "stdout",
     "output_type": "stream",
     "text": [
      "G+S+filtered authority, couln't find a unique match : Trifolium alpinum\n",
      "G+S, matching failed : Isonema bucholzii\n",
      "G+S+filtered authority, couln't find a unique match : Rosa pendulina\n"
     ]
    },
    {
     "name": "stdout",
     "output_type": "stream",
     "text": [
      "G+S+filtered authority, couln't find a unique match : Impatiens gordonii\n",
      "G+S, matching failed : Simirestis klaineana\n",
      "G+S, matching failed : Chlamydocarya soyauxii\n"
     ]
    },
    {
     "name": "stdout",
     "output_type": "stream",
     "text": [
      "G+S+filtered authority, couln't find a unique match : Cupressus dupreziana\n"
     ]
    },
    {
     "name": "stdout",
     "output_type": "stream",
     "text": [
      "G+S, matching failed : Aloe eminens\n",
      "G+S, matching failed : Magnolia dealbata\n"
     ]
    },
    {
     "name": "stdout",
     "output_type": "stream",
     "text": [
      "G+S+filtered authority, couln't find a unique match : Juniperus blancoi\n",
      "G+S, matching failed : Magnolia gustavii\n"
     ]
    },
    {
     "name": "stdout",
     "output_type": "stream",
     "text": [
      "G+S+filtered authority, couln't find a unique match : Alnus acuminata\n"
     ]
    },
    {
     "name": "stdout",
     "output_type": "stream",
     "text": [
      "G+S, matching failed : Aquilaria malaccensis\n",
      "G+S+filtered authority, couln't find a unique match : Cupressus torulosa\n"
     ]
    },
    {
     "name": "stdout",
     "output_type": "stream",
     "text": [
      "G+S+filtered authority, couln't find a unique match : Dipteronia dyeriana\n",
      "G+S, matching failed : Hopea mollissima\n"
     ]
    },
    {
     "name": "stdout",
     "output_type": "stream",
     "text": [
      "G+S+filtered authority, couln't find a unique match : Calocedrus macrolepis\n"
     ]
    },
    {
     "name": "stdout",
     "output_type": "stream",
     "text": [
      "G+S+filtered authority, couln't find a unique match : Vatica mangachapoi\n",
      "G+S, matching failed : Parashorea chinensis\n"
     ]
    },
    {
     "name": "stdout",
     "output_type": "stream",
     "text": [
      "G+S+filtered authority, couln't find a unique match : Pinus dalatensis\n"
     ]
    },
    {
     "name": "stdout",
     "output_type": "stream",
     "text": [
      "G+S, matching failed : Anisoptera curtisii\n"
     ]
    },
    {
     "name": "stdout",
     "output_type": "stream",
     "text": [
      "G+S, matching failed : Hopea cordata\n"
     ]
    },
    {
     "name": "stdout",
     "output_type": "stream",
     "text": [
      "G+S, matching failed : Vatica philastraena\n",
      "G+S+filtered authority, couln't find a unique match : Quercus macrocarpa\n"
     ]
    },
    {
     "name": "stdout",
     "output_type": "stream",
     "text": [
      "G+S+filtered authority, couln't find a unique match : Juniperus barbadensis\n",
      "G+S+filtered authority, couln't find a unique match : Podocarpus lambertii\n"
     ]
    },
    {
     "name": "stdout",
     "output_type": "stream",
     "text": [
      "G+S+filtered authority, couln't find a unique match : Juniperus pingii\n"
     ]
    },
    {
     "name": "stdout",
     "output_type": "stream",
     "text": [
      "G+S, matching failed : Dacrydium ericioides\n"
     ]
    },
    {
     "name": "stdout",
     "output_type": "stream",
     "text": [
      "G+S+filtered authority, couln't find a unique match : Magnolia officinalis\n"
     ]
    },
    {
     "name": "stdout",
     "output_type": "stream",
     "text": [
      "G+S+filtered authority, couln't find a unique match : Prumnopitys exigua\n"
     ]
    },
    {
     "name": "stdout",
     "output_type": "stream",
     "text": [
      "G+S, matching failed : Cololejeunea magnilobula\n"
     ]
    },
    {
     "name": "stdout",
     "output_type": "stream",
     "text": [
      "G+S, matching failed : Dipsacus narcisseanus\n"
     ]
    },
    {
     "name": "stdout",
     "output_type": "stream",
     "text": [
      "G+S+filtered authority, couln't find a unique match : Mammillaria aureilanata\n"
     ]
    },
    {
     "name": "stdout",
     "output_type": "stream",
     "text": [
      "G+S, matching failed : Tacinga estevesii\n"
     ]
    },
    {
     "name": "stdout",
     "output_type": "stream",
     "text": [
      "G+S+filtered authority, couln't find a unique match : Uebelmannia pectinifera\n"
     ]
    },
    {
     "name": "stdout",
     "output_type": "stream",
     "text": [
      "G+S, matching failed : Opuntia pachyrrhiza\n",
      "G+S, matching failed : Agathis labillardieri\n"
     ]
    },
    {
     "name": "stdout",
     "output_type": "stream",
     "text": [
      "G+S+filtered authority, couln't find a unique match : Cupressus arizonica\n",
      "G+S+filtered authority, couln't find a unique match : Cupressus goveniana\n",
      "G+S+filtered authority, couln't find a unique match : Cupressus guadalupensis\n",
      "G+S+filtered authority, couln't find a unique match : Cupressus lusitanica\n",
      "G+S, matching failed : Cupressus macnabiana\n"
     ]
    },
    {
     "name": "stdout",
     "output_type": "stream",
     "text": [
      "G+S+filtered authority, couln't find a unique match : Juniperus chinensis\n",
      "G+S+filtered authority, couln't find a unique match : Juniperus communis\n"
     ]
    },
    {
     "name": "stdout",
     "output_type": "stream",
     "text": [
      "G+S+filtered authority, couln't find a unique match : Juniperus formosana\n",
      "G+S+filtered authority, couln't find a unique match : Juniperus gracilior\n",
      "G+S+filtered authority, couln't find a unique match : Juniperus occidentalis\n"
     ]
    },
    {
     "name": "stdout",
     "output_type": "stream",
     "text": [
      "G+S+filtered authority, couln't find a unique match : Juniperus oxycedrus\n",
      "G+S+filtered authority, couln't find a unique match : Juniperus recurva\n",
      "G+S+filtered authority, couln't find a unique match : Juniperus sabina\n"
     ]
    },
    {
     "name": "stdout",
     "output_type": "stream",
     "text": [
      "G+S+filtered authority, couln't find a unique match : Juniperus virginiana\n",
      "G+S+filtered authority, couln't find a unique match : Taxodium distichum\n"
     ]
    },
    {
     "name": "stdout",
     "output_type": "stream",
     "text": [
      "G+S+filtered authority, couln't find a unique match : Phyllocladus trichomanoides\n",
      "G+S+filtered authority, couln't find a unique match : Abies balsamea\n",
      "G+S+filtered authority, couln't find a unique match : Abies durangensis\n"
     ]
    },
    {
     "name": "stdout",
     "output_type": "stream",
     "text": [
      "G+S+filtered authority, couln't find a unique match : Abies fargesii\n",
      "G+S+filtered authority, couln't find a unique match : Abies forrestii\n",
      "G+S+filtered authority, couln't find a unique match : Abies guatemalensis\n"
     ]
    },
    {
     "name": "stdout",
     "output_type": "stream",
     "text": [
      "G+S+filtered authority, couln't find a unique match : Abies magnifica\n",
      "G+S+filtered authority, couln't find a unique match : Abies recurvata\n",
      "G+S+filtered authority, couln't find a unique match : Abies vejarii\n"
     ]
    },
    {
     "name": "stdout",
     "output_type": "stream",
     "text": [
      "G+S+filtered authority, couln't find a unique match : Cedrus deodara\n",
      "G+S+filtered authority, couln't find a unique match : Keteleeria davidiana\n"
     ]
    },
    {
     "name": "stdout",
     "output_type": "stream",
     "text": [
      "G+S+filtered authority, couln't find a unique match : Picea asperata\n",
      "G+S+filtered authority, couln't find a unique match : Picea koraiensis\n"
     ]
    },
    {
     "name": "stdout",
     "output_type": "stream",
     "text": [
      "G+S+filtered authority, couln't find a unique match : Pinus arizonica\n",
      "G+S+filtered authority, couln't find a unique match : Pinus armandii\n",
      "G+S+filtered authority, couln't find a unique match : Pinus brutia\n"
     ]
    },
    {
     "name": "stdout",
     "output_type": "stream",
     "text": [
      "G+S+filtered authority, couln't find a unique match : Pinus lambertiana\n"
     ]
    },
    {
     "name": "stdout",
     "output_type": "stream",
     "text": [
      "G+S+filtered authority, couln't find a unique match : Pinus pseudostrobus\n",
      "G+S+filtered authority, couln't find a unique match : Pinus pungens\n",
      "G+S+filtered authority, couln't find a unique match : Pinus radiata\n"
     ]
    },
    {
     "name": "stdout",
     "output_type": "stream",
     "text": [
      "G+S+filtered authority, couln't find a unique match : Pinus sylvestris\n",
      "G+S+filtered authority, couln't find a unique match : Pinus taiwanensis\n"
     ]
    },
    {
     "name": "stdout",
     "output_type": "stream",
     "text": [
      "G+S+filtered authority, couln't find a unique match : Pinus yunnanensis\n",
      "G+S+filtered authority, couln't find a unique match : Tsuga canadensis\n",
      "G+S+filtered authority, couln't find a unique match : Tsuga chinensis\n"
     ]
    },
    {
     "name": "stdout",
     "output_type": "stream",
     "text": [
      "G+S+filtered authority, couln't find a unique match : Podocarpus oleifolius\n",
      "G+S+filtered authority, couln't find a unique match : Podocarpus polystachyus\n"
     ]
    },
    {
     "name": "stdout",
     "output_type": "stream",
     "text": [
      "G+S+filtered authority, couln't find a unique match : Taxus cuspidata\n"
     ]
    },
    {
     "name": "stdout",
     "output_type": "stream",
     "text": [
      "G+S, matching failed : Pteris adscensionis\n"
     ]
    },
    {
     "name": "stdout",
     "output_type": "stream",
     "text": [
      "G+S, matching failed : Justicia leucoxiphos\n",
      "G+S, matching failed : Justicia orbicularis\n",
      "G+S, matching failed : Pseuderanthemum dispersum\n"
     ]
    },
    {
     "name": "stdout",
     "output_type": "stream",
     "text": [
      "G+S, matching failed : Delphinium caseyi\n",
      "G+S+filtered authority, couln't find a unique match : Ilex mitis\n",
      "G+S+filtered authority, couln't find a unique match : Delonix leucantha\n",
      "G+S+filtered authority, couln't find a unique match : Betula pendula\n"
     ]
    },
    {
     "name": "stdout",
     "output_type": "stream",
     "text": [
      "G+S+filtered authority, couln't find a unique match : Magnolia pacifica\n",
      "G+S, matching failed : Rhodognaphalon schumannianum\n",
      "G+S+filtered authority, couln't find a unique match : Coffea mufindiensis\n",
      "G+S+filtered authority, couln't find a unique match : Acer negundo\n"
     ]
    },
    {
     "name": "stdout",
     "output_type": "stream",
     "text": [
      "G+S+filtered authority, couln't find a unique match : Corylus avellana\n",
      "G+S+filtered authority, couln't find a unique match : Quercus robur\n"
     ]
    },
    {
     "name": "stdout",
     "output_type": "stream",
     "text": [
      "G+S, matching failed : Rafflesia magnifica\n"
     ]
    },
    {
     "name": "stdout",
     "output_type": "stream",
     "text": [
      "G+S, matching failed : Polyalthia verdcourtii\n",
      "G+S, matching failed : Polyalthia stuhlmannii\n"
     ]
    },
    {
     "name": "stdout",
     "output_type": "stream",
     "text": [
      "G+S, matching failed : Uvaria dependens\n",
      "G+S+filtered authority, couln't find a unique match : Cryptotaenia calycina\n",
      "G+S, matching failed : Stylochaeton salaamicus\n"
     ]
    },
    {
     "name": "stdout",
     "output_type": "stream",
     "text": [
      "G+S, matching failed : Polyalthia tanganyikensis\n",
      "G+S, matching failed : Sphaerocoryne gracilis\n"
     ]
    },
    {
     "name": "stdout",
     "output_type": "stream",
     "text": [
      "G+S, matching failed : Stylochaeton euryphyllus\n",
      "G+S, matching failed : Stylochaeton milneanus\n"
     ]
    },
    {
     "name": "stdout",
     "output_type": "stream",
     "text": [
      "G+S, matching failed : Stylochaeton crassispathus\n",
      "G+S, matching failed : Limonium pseudolaetum\n"
     ]
    },
    {
     "name": "stdout",
     "output_type": "stream",
     "text": [
      "G+S, matching failed : Sventenia bupleuroides\n",
      "G+S, matching failed : Sisymbrium supinum\n",
      "G+S, matching failed : Phagnalon bennettii\n",
      "G+S+filtered authority, couln't find a unique match : Bromus grossus\n"
     ]
    },
    {
     "name": "stdout",
     "output_type": "stream",
     "text": [
      "G+S, matching failed : Alyssum pintodasilvae\n",
      "G+S, matching failed : Carlina onopordifolia\n"
     ]
    },
    {
     "name": "stdout",
     "output_type": "stream",
     "text": [
      "G+S, matching failed : Jasione lusitanica\n",
      "G+S, matching failed : Boleum asperum\n",
      "G+S, matching failed : Crepis crocifolia\n",
      "G+S, matching failed : Brassica glabrescens\n",
      "G+S, matching failed : Aconitum corsicum\n"
     ]
    },
    {
     "name": "stdout",
     "output_type": "stream",
     "text": [
      "G+S, matching failed : Solenanthus albanicus\n",
      "G+S, matching failed : Myosotis lusitanica\n"
     ]
    },
    {
     "name": "stdout",
     "output_type": "stream",
     "text": [
      "G+S, matching failed : Minuartia smejkalii\n",
      "G+S, matching failed : Wagenitzia lancifolia\n",
      "G+S+filtered authority, couln't find a unique match : Globularia stygia\n"
     ]
    },
    {
     "name": "stdout",
     "output_type": "stream",
     "text": [
      "G+S+filtered authority, couln't find a unique match : Myosotis azorica\n",
      "G+S, matching failed : Linaria ficalhoana\n"
     ]
    },
    {
     "name": "stdout",
     "output_type": "stream",
     "text": [
      "G+S, matching failed : Puccinellia pungens\n",
      "G+S, matching failed : Tuberaria major\n",
      "G+S+filtered authority, couln't find a unique match : Leontodon boryi\n",
      "G+S, matching failed : Coronopus navasii\n"
     ]
    },
    {
     "name": "stdout",
     "output_type": "stream",
     "text": [
      "G+S, matching failed : Onopordum nogalesii\n",
      "G+S, matching failed : Bassia saxicola\n",
      "G+S, matching failed : Kunkeliella subsucculenta\n"
     ]
    },
    {
     "name": "stdout",
     "output_type": "stream",
     "text": [
      "G+S, matching failed : Seseli leucospermum\n",
      "G+S, matching failed : Pulsatilla slavica\n"
     ]
    },
    {
     "name": "stdout",
     "output_type": "stream",
     "text": [
      "G+S, matching failed : Isoplexis chalcantha\n",
      "G+S+filtered authority, couln't find a unique match : Narcissus scaberulus\n",
      "G+S, matching failed : Narcissus calcicola\n",
      "G+S, matching failed : Odontites granatensis\n"
     ]
    },
    {
     "name": "stdout",
     "output_type": "stream",
     "text": [
      "G+S, matching failed : Leontodon microcephalus\n"
     ]
    },
    {
     "name": "stdout",
     "output_type": "stream",
     "text": [
      "G+S, matching failed : Primula apennina\n"
     ]
    },
    {
     "name": "stdout",
     "output_type": "stream",
     "text": [
      "G+S, matching failed : Poa riphaea\n",
      "G+S+filtered authority, couln't find a unique match : Saxifraga vayredana\n",
      "G+S, matching failed : Thlaspi jankae\n"
     ]
    },
    {
     "name": "stdout",
     "output_type": "stream",
     "text": [
      "G+S, matching failed : Myosotis retusifolia\n",
      "G+S+filtered authority, couln't find a unique match : Pulsatilla grandis\n",
      "G+S, matching failed : Iris lusitanica\n"
     ]
    },
    {
     "name": "stdout",
     "output_type": "stream",
     "text": [
      "G+S, matching failed : Petrocoptis pseudoviscosa\n",
      "G+S, matching failed : Thorella verticillato-inundata\n",
      "G+S, matching failed : Narcissus asturiensis\n"
     ]
    },
    {
     "name": "stdout",
     "output_type": "stream",
     "text": [
      "G+S, matching failed : Potentilla emilii-popi\n",
      "G+S, matching failed : Tanacetum ptarmiciflorum\n"
     ]
    },
    {
     "name": "stdout",
     "output_type": "stream",
     "text": [
      "G+S, matching failed : Borderea chouardii\n",
      "G+S+filtered authority, couln't find a unique match : Ophrys argolica\n",
      "G+S, matching failed : Artemisia eriantha\n"
     ]
    },
    {
     "name": "stdout",
     "output_type": "stream",
     "text": [
      "G+S+filtered authority, couln't find a unique match : Narcissus triandrus\n",
      "G+S, matching failed : Cistus palhinhae\n",
      "G+S, matching failed : Stipa styriaca\n",
      "G+S, matching failed : Linaria coutinhoi\n",
      "G+S, matching failed : Limonium arborescens\n"
     ]
    },
    {
     "name": "stdout",
     "output_type": "stream",
     "text": [
      "G+S+filtered authority, couln't find a unique match : Armeria soleirolii\n",
      "G+S+filtered authority, couln't find a unique match : Cochlearia polonica\n"
     ]
    },
    {
     "name": "stdout",
     "output_type": "stream",
     "text": [
      "G+S, matching failed : Dianthus lumnitzeri\n",
      "G+S, matching failed : Calendula maderensis\n"
     ]
    },
    {
     "name": "stdout",
     "output_type": "stream",
     "text": [
      "G+S, matching failed : Deschampsia maderensis\n",
      "G+S, matching failed : Aster sorrentinii\n"
     ]
    },
    {
     "name": "stdout",
     "output_type": "stream",
     "text": [
      "G+S+filtered authority, couln't find a unique match : Androsace cylindrica\n",
      "G+S, matching failed : Petrocoptis montsicciana\n",
      "G+S, matching failed : Alyssum pyrenaicum\n"
     ]
    },
    {
     "name": "stdout",
     "output_type": "stream",
     "text": [
      "G+S, matching failed : Dianthus marizii\n",
      "G+S, matching failed : Euphrasia genargentea\n"
     ]
    },
    {
     "name": "stdout",
     "output_type": "stream",
     "text": [
      "G+S, matching failed : Omphalodes kuzinskyanae\n",
      "G+S, matching failed : Stemmacantha cynaroides\n",
      "G+S, matching failed : Sideritis javalambrensis\n"
     ]
    },
    {
     "name": "stdout",
     "output_type": "stream",
     "text": [
      "G+S, matching failed : Vicia bifoliolata\n",
      "G+S, matching failed : Centaurea rothmalerana\n",
      "G+S, matching failed : Carex malato-belizii\n",
      "G+S, matching failed : Symphytum cycladense\n"
     ]
    },
    {
     "name": "stdout",
     "output_type": "stream",
     "text": [
      "G+S+filtered authority, couln't find a unique match : Jasminum azoricum\n",
      "G+S, matching failed : Scilla odorata\n",
      "G+S, matching failed : Pulsatilla subslavica\n"
     ]
    },
    {
     "name": "stdout",
     "output_type": "stream",
     "text": [
      "G+S, matching failed : Dianthus moravicus\n",
      "G+S, matching failed : Hyoseris frutescens\n",
      "G+S+filtered authority, couln't find a unique match : Stipa austroitalica\n",
      "G+S, matching failed : Senecio caespitosus\n"
     ]
    },
    {
     "name": "stdout",
     "output_type": "stream",
     "text": [
      "G+S, matching failed : Euphrasia mendoncae\n",
      "G+S, matching failed : Anthyllis lusitanica\n",
      "G+S, matching failed : Linum muelleri\n"
     ]
    },
    {
     "name": "stdout",
     "output_type": "stream",
     "text": [
      "G+S, matching failed : Teline rosmarinifolia\n"
     ]
    },
    {
     "name": "stdout",
     "output_type": "stream",
     "text": [
      "G+S, matching failed : Biscutella vincentina\n"
     ]
    },
    {
     "name": "stdout",
     "output_type": "stream",
     "text": [
      "G+S, matching failed : Plantago almogravensis\n",
      "G+S, matching failed : Erysimum pieninicum\n"
     ]
    },
    {
     "name": "stdout",
     "output_type": "stream",
     "text": [
      "G+S, matching failed : Micromeria taygetea\n",
      "G+S, matching failed : Stipa veneta\n"
     ]
    },
    {
     "name": "stdout",
     "output_type": "stream",
     "text": [
      "G+S+filtered authority, couln't find a unique match : Juncus articulatus\n",
      "G+S, matching failed : Lereschia thomasii\n",
      "G+S, matching failed : Hypericum corsicum\n",
      "G+S+filtered authority, couln't find a unique match : Ceratophyllum muricatum\n"
     ]
    },
    {
     "name": "stdout",
     "output_type": "stream",
     "text": [
      "G+S, matching failed : Cyperus microbolbos\n",
      "G+S+filtered authority, couln't find a unique match : Myosotis soleirolii\n"
     ]
    },
    {
     "name": "stdout",
     "output_type": "stream",
     "text": [
      "G+S, matching failed : Pinguicula reichenbachiana\n"
     ]
    },
    {
     "name": "stdout",
     "output_type": "stream",
     "text": [
      "G+S+filtered authority, couln't find a unique match : Potamogeton lucens\n",
      "G+S, matching failed : Mentha insularis\n",
      "G+S, matching failed : Anagallis crassifolia\n",
      "G+S, matching failed : Apium inundatum\n"
     ]
    },
    {
     "name": "stdout",
     "output_type": "stream",
     "text": [
      "G+S+filtered authority, couln't find a unique match : Phalaris truncata\n",
      "G+S, matching failed : Serapias stenopetala\n"
     ]
    },
    {
     "name": "stdout",
     "output_type": "stream",
     "text": [
      "G+S+filtered authority, couln't find a unique match : Chrysosplenium dubium\n",
      "G+S, matching failed : Salix libani\n",
      "G+S, matching failed : Leptochloa ginae\n"
     ]
    },
    {
     "name": "stdout",
     "output_type": "stream",
     "text": [
      "G+S, matching failed : Gnaphalium crispatulum\n"
     ]
    },
    {
     "name": "stdout",
     "output_type": "stream",
     "text": [
      "G+S, matching failed : Centaurium candelabrum\n",
      "G+S, matching failed : Dactylorhiza maurusia\n"
     ]
    },
    {
     "name": "stdout",
     "output_type": "stream",
     "text": [
      "G+S+filtered authority, couln't find a unique match : Chaerophyllum atlanticum\n",
      "G+S, matching failed : Genista ancistrocarpa\n",
      "G+S, matching failed : Epilobium numidicum\n"
     ]
    },
    {
     "name": "stdout",
     "output_type": "stream",
     "text": [
      "G+S, matching failed : Apium crassipes\n",
      "G+S, matching failed : Peucedanum munbyi\n"
     ]
    },
    {
     "name": "stdout",
     "output_type": "stream",
     "text": [
      "G+S+filtered authority, couln't find a unique match : Ruppia maritima\n"
     ]
    },
    {
     "name": "stdout",
     "output_type": "stream",
     "text": [
      "G+S, matching failed : Ranunculus revelieri\n",
      "G+S+filtered authority, couln't find a unique match : Galanthus reginae-olgae\n"
     ]
    },
    {
     "name": "stdout",
     "output_type": "stream",
     "text": [
      "G+S, matching failed : Lepidium turczaninowii\n",
      "G+S, matching failed : Teline nervosa\n",
      "G+S, matching failed : Tanacetum oshanahanii\n"
     ]
    },
    {
     "name": "stdout",
     "output_type": "stream",
     "text": [
      "G+S+filtered authority, couln't find a unique match : Potentilla silesiaca\n",
      "G+S+filtered authority, couln't find a unique match : Ruta microcarpa\n"
     ]
    },
    {
     "name": "stdout",
     "output_type": "stream",
     "text": [
      "G+S, matching failed : Salvia herbanica\n",
      "G+S, matching failed : Moehringia hypanica\n"
     ]
    },
    {
     "name": "stdout",
     "output_type": "stream",
     "text": [
      "G+S, matching failed : Crepis purpurea\n",
      "G+S, matching failed : Kunkeliella psilotoclada\n"
     ]
    },
    {
     "name": "stdout",
     "output_type": "stream",
     "text": [
      "G+S+filtered authority, couln't find a unique match : Bromus bromoideus\n"
     ]
    },
    {
     "name": "stdout",
     "output_type": "stream",
     "text": [
      "G+S, matching failed : Limonium fruticans\n",
      "G+S, matching failed : Dianthus hypanicus\n"
     ]
    },
    {
     "name": "stdout",
     "output_type": "stream",
     "text": [
      "G+S, matching failed : Ceratophyllum tanaiticum\n",
      "G+S+filtered authority, couln't find a unique match : Utricularia bremii\n",
      "G+S+filtered authority, couln't find a unique match : Ranunculus batrachioides\n"
     ]
    },
    {
     "name": "stdout",
     "output_type": "stream",
     "text": [
      "G+S+filtered authority, couln't find a unique match : Lindernia antipoda\n",
      "G+S, matching failed : Cladopus austrosinensis\n"
     ]
    },
    {
     "name": "stdout",
     "output_type": "stream",
     "text": [
      "G+S, matching failed : Sagittaria lichuanensis\n",
      "G+S, matching failed : Wedelia chinensis\n",
      "G+S, matching failed : Lindernia crustacea\n",
      "G+S, matching failed : Oenanthe javanica\n",
      "G+S+filtered authority, couln't find a unique match : Euryale ferox\n"
     ]
    },
    {
     "name": "stdout",
     "output_type": "stream",
     "text": [
      "G+S, matching failed : Hygrophila salicifolia\n",
      "G+S+filtered authority, couln't find a unique match : Acanthus ilicifolius\n"
     ]
    },
    {
     "name": "stdout",
     "output_type": "stream",
     "text": [
      "G+S+filtered authority, couln't find a unique match : Ceratopteris thalictroides\n",
      "G+S+filtered authority, couln't find a unique match : Monochoria hastata\n",
      "G+S, matching failed : Myriophyllum tuberculatum\n",
      "G+S, matching failed : Nymphaea pubescens\n"
     ]
    },
    {
     "name": "stdout",
     "output_type": "stream",
     "text": [
      "G+S+filtered authority, couln't find a unique match : Caldesia oligococca\n",
      "G+S+filtered authority, couln't find a unique match : Isoetes coromandelina\n"
     ]
    },
    {
     "name": "stdout",
     "output_type": "stream",
     "text": [
      "G+S, matching failed : Landoltia punctata\n",
      "G+S+filtered authority, couln't find a unique match : Acorus gramineus\n"
     ]
    },
    {
     "name": "stdout",
     "output_type": "stream",
     "text": [
      "G+S, matching failed : Drosera burmanni\n",
      "G+S+filtered authority, couln't find a unique match : Colocasia esculenta\n",
      "G+S, matching failed : Beta hybrida\n"
     ]
    },
    {
     "name": "stdout",
     "output_type": "stream",
     "text": [
      "G+S+filtered authority, couln't find a unique match : Brassica nivalis\n",
      "G+S+filtered authority, couln't find a unique match : Brassica oleracea\n",
      "G+S+filtered authority, couln't find a unique match : Brassica villosa\n",
      "G+S, matching failed : Sanguisorba dodecandra\n",
      "G+S, matching failed : Prunus klokovii\n",
      "G+S, matching failed : Allium aethusanum\n"
     ]
    },
    {
     "name": "stdout",
     "output_type": "stream",
     "text": [
      "G+S, matching failed : Allium breviradium\n"
     ]
    },
    {
     "name": "stdout",
     "output_type": "stream",
     "text": [
      "G+S, matching failed : Allium pervestitum\n",
      "G+S, matching failed : Malus crescimannoi\n"
     ]
    },
    {
     "name": "stdout",
     "output_type": "stream",
     "text": [
      "G+S, matching failed : Allium scythicum\n",
      "G+S, matching failed : Allium talijevii\n",
      "G+S, matching failed : Lactuca plumieri\n"
     ]
    },
    {
     "name": "stdout",
     "output_type": "stream",
     "text": [
      "G+S+filtered authority, couln't find a unique match : Malus sylvestris\n",
      "G+S, matching failed : Lactuca aurea\n",
      "G+S, matching failed : Daucus halophilus\n"
     ]
    },
    {
     "name": "stdout",
     "output_type": "stream",
     "text": [
      "G+S, matching failed : Allium integerrimum\n",
      "G+S, matching failed : Allium chrysonemum\n"
     ]
    },
    {
     "name": "stdout",
     "output_type": "stream",
     "text": [
      "G+S, matching failed : Allium marschalianum\n",
      "G+S, matching failed : Lactuca cyprica\n",
      "G+S, matching failed : Patellifolia webbiana\n",
      "G+S, matching failed : Lactuca pancicii\n"
     ]
    },
    {
     "name": "stdout",
     "output_type": "stream",
     "text": [
      "G+S, matching failed : Halophila johnsonii\n",
      "G+S, matching failed : Halophila euphlebia\n",
      "G+S, matching failed : Halodule beaudettei\n"
     ]
    },
    {
     "name": "stdout",
     "output_type": "stream",
     "text": [
      "G+S, matching failed : Halophila engelmanni\n"
     ]
    },
    {
     "name": "stdout",
     "output_type": "stream",
     "text": [
      "G+S, matching failed : Zostera geojeensis\n"
     ]
    },
    {
     "name": "stdout",
     "output_type": "stream",
     "text": [
      "G+S, matching failed : Halophila ovata\n",
      "G+S, matching failed : Zostera pacifica\n"
     ]
    },
    {
     "name": "stdout",
     "output_type": "stream",
     "text": [
      "G+S, matching failed : Medicago tenderiensis\n"
     ]
    },
    {
     "name": "stdout",
     "output_type": "stream",
     "text": [
      "G+S, matching failed : Torenia bicolor\n",
      "G+S+filtered authority, couln't find a unique match : Smithia blanda\n",
      "G+S, matching failed : Limosella tenella\n"
     ]
    },
    {
     "name": "stdout",
     "output_type": "stream",
     "text": [
      "G+S, matching failed : Ranunculus baudotii\n",
      "G+S, matching failed : Isoetes subinermis\n",
      "G+S, matching failed : Isoetes brochonii\n",
      "G+S, matching failed : Carum verticillatum\n"
     ]
    },
    {
     "name": "stdout",
     "output_type": "stream",
     "text": [
      "G+S+filtered authority, couln't find a unique match : Ophrys insectifera\n"
     ]
    },
    {
     "name": "stdout",
     "output_type": "stream",
     "text": [
      "G+S, matching failed : Lepidium syvaschicum\n",
      "G+S, matching failed : Rorippa kerneri\n",
      "G+S, matching failed : Medicago kotovii\n"
     ]
    },
    {
     "name": "stdout",
     "output_type": "stream",
     "text": [
      "G+S, matching failed : Rorippa hispanica\n",
      "G+S+filtered authority, couln't find a unique match : Crambe gomerae\n",
      "G+S, matching failed : Lepidium ramburei\n"
     ]
    },
    {
     "name": "stdout",
     "output_type": "stream",
     "text": [
      "G+S, matching failed : Barbarea lepuznica\n"
     ]
    },
    {
     "name": "stdout",
     "output_type": "stream",
     "text": [
      "G+S, matching failed : Asparagus littoralis\n",
      "G+S+filtered authority, couln't find a unique match : Barbarea balcana\n",
      "G+S, matching failed : Barbarea macrophylla\n",
      "G+S, matching failed : Lepidium carrerasii\n"
     ]
    },
    {
     "name": "stdout",
     "output_type": "stream",
     "text": [
      "G+S, matching failed : Diplotaxis gomez-campoi\n",
      "G+S, matching failed : Isatis villarsii\n"
     ]
    },
    {
     "name": "stdout",
     "output_type": "stream",
     "text": [
      "G+S, matching failed : Medicago bondevii\n"
     ]
    },
    {
     "name": "stdout",
     "output_type": "stream",
     "text": [
      "G+S, matching failed : Eriocaulon richardianum\n",
      "G+S, matching failed : Lindernia estaminodiosa\n",
      "G+S, matching failed : Eriocaulon kanarense\n"
     ]
    },
    {
     "name": "stdout",
     "output_type": "stream",
     "text": [
      "G+S, matching failed : Podostemum munnarense\n",
      "G+S, matching failed : Kyllinga melanosperma\n"
     ]
    },
    {
     "name": "stdout",
     "output_type": "stream",
     "text": [
      "G+S, matching failed : Queenslandiella hyalina\n",
      "G+S, matching failed : Fuirena swamyi\n",
      "G+S, matching failed : Eriocaulon rouxianum\n"
     ]
    },
    {
     "name": "stdout",
     "output_type": "stream",
     "text": [
      "G+S, matching failed : Lindernia anagallis\n",
      "G+S+filtered authority, couln't find a unique match : Nitella oligospira\n"
     ]
    },
    {
     "name": "stdout",
     "output_type": "stream",
     "text": [
      "G+S+filtered authority, couln't find a unique match : Aniseia martinicensis\n",
      "G+S, matching failed : Indotristicha tirunelveliana\n",
      "G+S, matching failed : Merremia gangetica\n",
      "G+S, matching failed : Phragmites vallatorius\n",
      "G+S, matching failed : Fuirena tuwensis\n"
     ]
    },
    {
     "name": "stdout",
     "output_type": "stream",
     "text": [
      "G+S, matching failed : Lindernia pusilla\n",
      "G+S+filtered authority, couln't find a unique match : Commelina erecta\n",
      "G+S+filtered authority, couln't find a unique match : Persicaria attenuata\n"
     ]
    },
    {
     "name": "stdout",
     "output_type": "stream",
     "text": [
      "G+S, matching failed : Eriocaulon sivarajanii\n",
      "G+S, matching failed : Ammannia nagpurensis\n",
      "G+S, matching failed : Paspalidium punctatum\n",
      "G+S, matching failed : Bonnayodes limnophiloides\n",
      "G+S, matching failed : Pycreus stramineus\n",
      "G+S+filtered authority, couln't find a unique match : Eriocaulon stellulatum\n"
     ]
    },
    {
     "name": "stdout",
     "output_type": "stream",
     "text": [
      "G+S, matching failed : Polygonum pubescens\n"
     ]
    },
    {
     "name": "stdout",
     "output_type": "stream",
     "text": [
      "G+S, matching failed : Lipocarpha gracilis\n"
     ]
    },
    {
     "name": "stdout",
     "output_type": "stream",
     "text": [
      "G+S+filtered authority, couln't find a unique match : Isachne pulchella\n",
      "G+S, matching failed : Nitella terrestris\n",
      "G+S, matching failed : Eriocaulon peninsulare\n",
      "G+S, matching failed : Eriocaulon balakrishnanii\n"
     ]
    },
    {
     "name": "stdout",
     "output_type": "stream",
     "text": [
      "G+S+filtered authority, couln't find a unique match : Murdannia vaginata\n",
      "G+S, matching failed : Isoetes udupiensis\n",
      "G+S+filtered authority, couln't find a unique match : Eleocharis congesta\n"
     ]
    },
    {
     "name": "stdout",
     "output_type": "stream",
     "text": [
      "G+S+filtered authority, couln't find a unique match : Eriocaulon nepalense\n",
      "G+S+filtered authority, couln't find a unique match : Hygrophila balsamica\n",
      "G+S, matching failed : Hydrobryopsis sessilis\n"
     ]
    },
    {
     "name": "stdout",
     "output_type": "stream",
     "text": [
      "G+S, matching failed : Nesaea brevipes\n",
      "G+S, matching failed : Hygrophila quadrivalvis\n",
      "G+S+filtered authority, couln't find a unique match : Carex maculata\n",
      "G+S, matching failed : Hygrophila madurensis\n",
      "G+S, matching failed : Eriocaulon talbotii\n",
      "G+S, matching failed : Eleocharis swamyi\n",
      "G+S, matching failed : Lindernia viscosa\n",
      "G+S, matching failed : Eriocaulon fysonii\n"
     ]
    },
    {
     "name": "stdout",
     "output_type": "stream",
     "text": [
      "G+S+filtered authority, couln't find a unique match : Zeylanidium olivaceum\n",
      "G+S, matching failed : Eriocaulon conicum\n"
     ]
    },
    {
     "name": "stdout",
     "output_type": "stream",
     "text": [
      "G+S+filtered authority, couln't find a unique match : Murdannia spirata\n",
      "G+S, matching failed : Kyllinga bulbosa\n"
     ]
    },
    {
     "name": "stdout",
     "output_type": "stream",
     "text": [
      "G+S+filtered authority, couln't find a unique match : Rotala densiflora\n",
      "G+S, matching failed : Polygonum plebeium\n"
     ]
    },
    {
     "name": "stdout",
     "output_type": "stream",
     "text": [
      "G+S+filtered authority, couln't find a unique match : Hygrophila heinei\n",
      "G+S+filtered authority, couln't find a unique match : Cyperus tenuiculmis\n",
      "G+S, matching failed : Eriocaulon apetalum\n",
      "G+S, matching failed : Cyperus tuberosus\n"
     ]
    },
    {
     "name": "stdout",
     "output_type": "stream",
     "text": [
      "G+S, matching failed : Eriocaulon baramaticum\n"
     ]
    },
    {
     "name": "stdout",
     "output_type": "stream",
     "text": [
      "G+S, matching failed : Pycreus puncticulatus\n"
     ]
    },
    {
     "name": "stdout",
     "output_type": "stream",
     "text": [
      "G+S, matching failed : Lindernia nummulariifolia\n",
      "G+S, matching failed : Dalzellia zeylanica\n"
     ]
    },
    {
     "name": "stdout",
     "output_type": "stream",
     "text": [
      "G+S+filtered authority, couln't find a unique match : Cyperus compactus\n",
      "G+S, matching failed : Lipocarpha kernii\n",
      "G+S, matching failed : Lindernia tenuifolia\n"
     ]
    },
    {
     "name": "stdout",
     "output_type": "stream",
     "text": [
      "G+S, matching failed : Lindernia ruellioides\n",
      "G+S+filtered authority, couln't find a unique match : Emilia zeylanica\n"
     ]
    },
    {
     "name": "stdout",
     "output_type": "stream",
     "text": [
      "G+S+filtered authority, couln't find a unique match : Chara hydropitys\n",
      "G+S, matching failed : Eriocaulon anshiense\n"
     ]
    },
    {
     "name": "stdout",
     "output_type": "stream",
     "text": [
      "G+S, matching failed : Lindernia molluginoides\n",
      "G+S+filtered authority, couln't find a unique match : Homonoia retusa\n"
     ]
    },
    {
     "name": "stdout",
     "output_type": "stream",
     "text": [
      "G+S, matching failed : Nitella annamalaiensis\n",
      "G+S, matching failed : Ischaemum jayachandranii\n"
     ]
    },
    {
     "name": "stdout",
     "output_type": "stream",
     "text": [
      "G+S, matching failed : Dicraeia dichotoma\n",
      "G+S, matching failed : Scirpus naikianus\n",
      "G+S+filtered authority, couln't find a unique match : Eriocaulon dalzellii\n",
      "G+S, matching failed : Eriocaulon cookei\n",
      "G+S+filtered authority, couln't find a unique match : Eriocaulon longicuspe\n"
     ]
    },
    {
     "name": "stdout",
     "output_type": "stream",
     "text": [
      "G+S, matching failed : Eriocaulon maharashtrense\n",
      "G+S, matching failed : Bolbitis aspleniifolia\n",
      "G+S, matching failed : Nesaea prostrata\n",
      "G+S, matching failed : Eriocaulon parviflorum\n"
     ]
    },
    {
     "name": "stdout",
     "output_type": "stream",
     "text": [
      "G+S+filtered authority, couln't find a unique match : Limnophila chinensis\n",
      "G+S, matching failed : Lindernia oppositifolia\n",
      "G+S, matching failed : Fimbristylis hirsutifolia\n",
      "G+S+filtered authority, couln't find a unique match : Chara setosa\n",
      "G+S, matching failed : Scleria poklei\n"
     ]
    },
    {
     "name": "stdout",
     "output_type": "stream",
     "text": [
      "G+S, matching failed : Eriocaulon sahyadricum\n",
      "G+S, matching failed : Leptochloa obtusiflora\n",
      "G+S, matching failed : Lipocarpha reddyi\n",
      "G+S, matching failed : Eriocaulon konkanense\n"
     ]
    },
    {
     "name": "stdout",
     "output_type": "stream",
     "text": [
      "G+S, matching failed : Bolbitis presiliana\n",
      "G+S, matching failed : Paspalum longifolium\n"
     ]
    },
    {
     "name": "stdout",
     "output_type": "stream",
     "text": [
      "G+S, matching failed : Polypogon nilgiricus\n",
      "G+S, matching failed : Chara nuda\n"
     ]
    },
    {
     "name": "stdout",
     "output_type": "stream",
     "text": [
      "G+S+filtered authority, couln't find a unique match : Centipeda minima\n",
      "G+S, matching failed : Eriocaulon bolei\n",
      "G+S, matching failed : Isoetes divyadarshanii\n",
      "G+S, matching failed : Eriocaulon elenorae\n",
      "G+S, matching failed : Lipocarpha raynaleana\n"
     ]
    },
    {
     "name": "stdout",
     "output_type": "stream",
     "text": [
      "G+S, matching failed : Eriocaulon sharmae\n",
      "G+S, matching failed : Eriocaulon koynense\n",
      "G+S, matching failed : Isachne swaminathanii\n",
      "G+S, matching failed : Isoetes panchganiensis\n"
     ]
    },
    {
     "name": "stdout",
     "output_type": "stream",
     "text": [
      "G+S, matching failed : Notonia shevaroyensis\n",
      "G+S, matching failed : Gynura travancorica\n"
     ]
    },
    {
     "name": "stdout",
     "output_type": "stream",
     "text": [
      "G+S, matching failed : Eugenia sp. nov. 'calcarea'\n",
      "G+S, matching failed : Eugenia sp. nov. 'dagostini'\n",
      "G+S, matching failed : Eugenia sp. nov. 'lepredourii'\n",
      "G+S, matching failed : Eugenia sp. nov. 'metzdorfii'\n"
     ]
    },
    {
     "name": "stdout",
     "output_type": "stream",
     "text": [
      "G+S, matching failed : Piliocalyx eugenioides\n"
     ]
    },
    {
     "name": "stdout",
     "output_type": "stream",
     "text": [
      "G+S, matching failed : Guettardella sp. nov. 'durisylvatica'\n",
      "G+S, matching failed : Dianthus morisianus\n"
     ]
    },
    {
     "name": "stdout",
     "output_type": "stream",
     "text": [
      "G+S+filtered authority, couln't find a unique match : Phyllanthus conjugatus\n",
      "G+S+filtered authority, couln't find a unique match : Picrella trifoliata\n"
     ]
    },
    {
     "name": "stdout",
     "output_type": "stream",
     "text": [
      "G+S+filtered authority, couln't find a unique match : Laguncularia racemosa\n",
      "G+S+filtered authority, couln't find a unique match : Xylocarpus moluccensis\n"
     ]
    },
    {
     "name": "stdout",
     "output_type": "stream",
     "text": [
      "G+S, matching failed : Avicennia rumphiana\n",
      "G+S+filtered authority, couln't find a unique match : Avicennia germinans\n",
      "G+S, matching failed : Ceriops zippeliana\n"
     ]
    },
    {
     "name": "stdout",
     "output_type": "stream",
     "text": [
      "G+S, matching failed : Avicennia officinalis\n",
      "G+S, matching failed : Ceriops australis\n"
     ]
    },
    {
     "name": "stdout",
     "output_type": "stream",
     "text": [
      "G+S+filtered authority, couln't find a unique match : Avicennia marina\n",
      "G+S, matching failed : Avicennia alba\n",
      "G+S+filtered authority, couln't find a unique match : Acanthus ebracteatus\n",
      "G+S, matching failed : Pelliciera rhizophorae\n"
     ]
    },
    {
     "name": "stdout",
     "output_type": "stream",
     "text": [
      "G+S, matching failed : Excoecaria indica\n",
      "G+S, matching failed : Aegiceras floridum\n",
      "G+S, matching failed : Zamia stricta\n"
     ]
    },
    {
     "name": "stdout",
     "output_type": "stream",
     "text": [
      "G+S, matching failed : Cycas saxatilis\n",
      "G+S, matching failed : Cycas shanyaensis\n",
      "G+S, matching failed : Cycas zambalensis\n"
     ]
    },
    {
     "name": "stdout",
     "output_type": "stream",
     "text": [
      "G+S, matching failed : Encephalartos mackenziei\n",
      "G+S, matching failed : Cycas annaikalensis\n"
     ]
    },
    {
     "name": "stdout",
     "output_type": "stream",
     "text": [
      "G+S, matching failed : Crambe feuillei\n",
      "G+S, matching failed : Allium exaltatum\n",
      "G+S, matching failed : Lindernia bolusii\n"
     ]
    },
    {
     "name": "stdout",
     "output_type": "stream",
     "text": [
      "G+S, matching failed : Lipocarpha filiformis\n"
     ]
    },
    {
     "name": "stdout",
     "output_type": "stream",
     "text": [
      "G+S, matching failed : Vetiveria fulvibarbis\n"
     ]
    },
    {
     "name": "stdout",
     "output_type": "stream",
     "text": [
      "G+S, matching failed : Culcasia sapinii\n"
     ]
    },
    {
     "name": "stdout",
     "output_type": "stream",
     "text": [
      "G+S, matching failed : Pycreus intermedius\n",
      "G+S, matching failed : Pycreus mortonii\n"
     ]
    },
    {
     "name": "stdout",
     "output_type": "stream",
     "text": [
      "G+S, matching failed : Isoetes nigroreticulata\n",
      "G+S, matching failed : Cyperus textilis\n"
     ]
    },
    {
     "name": "stdout",
     "output_type": "stream",
     "text": [
      "G+S+filtered authority, couln't find a unique match : Sclerochiton vogelii\n",
      "G+S, matching failed : Pseudalthenia aschersoniana\n",
      "G+S, matching failed : Anagallis kochii\n"
     ]
    },
    {
     "name": "stdout",
     "output_type": "stream",
     "text": [
      "G+S, matching failed : Stenandrium gabonicum\n",
      "G+S+filtered authority, couln't find a unique match : Prionium serratum\n"
     ]
    },
    {
     "name": "stdout",
     "output_type": "stream",
     "text": [
      "G+S, matching failed : Rotala robynsiana\n"
     ]
    },
    {
     "name": "stdout",
     "output_type": "stream",
     "text": [
      "G+S+filtered authority, couln't find a unique match : Leiothylax quangensis\n",
      "G+S, matching failed : Pycreus cooperi\n",
      "G+S, matching failed : Isoetes stephansenii\n"
     ]
    },
    {
     "name": "stdout",
     "output_type": "stream",
     "text": [
      "G+S, matching failed : Spiloxene aquatica\n",
      "G+S, matching failed : Sphenoclea dalzielii\n",
      "G+S, matching failed : Pennisetum natalense\n"
     ]
    },
    {
     "name": "stdout",
     "output_type": "stream",
     "text": [
      "G+S, matching failed : Kyllinga jubensis\n"
     ]
    },
    {
     "name": "stdout",
     "output_type": "stream",
     "text": [
      "G+S, matching failed : Justicia bolomboensis\n",
      "G+S, matching failed : Carex austroafricana\n"
     ]
    },
    {
     "name": "stdout",
     "output_type": "stream",
     "text": [
      "G+S, matching failed : Lindernia wilmsii\n",
      "G+S+filtered authority, couln't find a unique match : Nephthytis poissonii\n"
     ]
    },
    {
     "name": "stdout",
     "output_type": "stream",
     "text": [
      "G+S, matching failed : Colpodium drakensbergense\n",
      "G+S, matching failed : Nesaea petrensis\n"
     ]
    },
    {
     "name": "stdout",
     "output_type": "stream",
     "text": [
      "G+S, matching failed : Hygrophila senegalensis\n",
      "G+S, matching failed : Ascolepis elata\n"
     ]
    },
    {
     "name": "stdout",
     "output_type": "stream",
     "text": [
      "G+S, matching failed : Riella alatospora\n"
     ]
    },
    {
     "name": "stdout",
     "output_type": "stream",
     "text": [
      "G+S, matching failed : Drosera insolita\n",
      "G+S+filtered authority, couln't find a unique match : Indigofera filiformis\n",
      "G+S, matching failed : Cyperus commixtus\n",
      "G+S, matching failed : Cyperus altomicroglumis\n"
     ]
    },
    {
     "name": "stdout",
     "output_type": "stream",
     "text": [
      "G+S, matching failed : Eleocharis cubangensis\n"
     ]
    },
    {
     "name": "stdout",
     "output_type": "stream",
     "text": [
      "G+S, matching failed : Anagallis elegantula\n"
     ]
    },
    {
     "name": "stdout",
     "output_type": "stream",
     "text": [
      "G+S, matching failed : Xyris lejolyanus\n",
      "G+S, matching failed : Hygrophila stagnalis\n"
     ]
    },
    {
     "name": "stdout",
     "output_type": "stream",
     "text": [
      "G+S, matching failed : Stenandrium guineense\n",
      "G+S, matching failed : Pycreus demangei\n"
     ]
    },
    {
     "name": "stdout",
     "output_type": "stream",
     "text": [
      "G+S, matching failed : Eleocharis onthitensis\n",
      "G+S, matching failed : Marsilea vera\n",
      "G+S, matching failed : Dicraeanthus zehnderi\n"
     ]
    },
    {
     "name": "stdout",
     "output_type": "stream",
     "text": [
      "G+S, matching failed : Schoenoplectus junceus\n",
      "G+S, matching failed : Canthium carinatum\n"
     ]
    },
    {
     "name": "stdout",
     "output_type": "stream",
     "text": [
      "G+S, matching failed : Canthium sechellense\n",
      "G+S, matching failed : Psathura sechellarum\n"
     ]
    },
    {
     "name": "stdout",
     "output_type": "stream",
     "text": [
      "G+S, matching failed : Vanilla phalaenopsis\n",
      "G+S+filtered authority, couln't find a unique match : Blyxa quadricostata\n"
     ]
    },
    {
     "name": "stdout",
     "output_type": "stream",
     "text": [
      "G+S, matching failed : Aspidium ochthodes\n",
      "G+S, matching failed : Cyathea crinita\n"
     ]
    },
    {
     "name": "stdout",
     "output_type": "stream",
     "text": [
      "G+S, matching failed : Myriophyllum oliganthum\n",
      "G+S, matching failed : Nymphoides krishnakesara\n"
     ]
    },
    {
     "name": "stdout",
     "output_type": "stream",
     "text": [
      "G+S, matching failed : Pseudophegopteris pyrrhorachis\n"
     ]
    },
    {
     "name": "stdout",
     "output_type": "stream",
     "text": [
      "G+S, matching failed : Polypleurum longistylosum\n",
      "G+S, matching failed : Hydrodiscus koyamae\n",
      "G+S, matching failed : Hanseniella smitinandii\n",
      "G+S, matching failed : Polypleurum phuwuaense\n",
      "G+S, matching failed : Dalzellia angustissima\n"
     ]
    },
    {
     "name": "stdout",
     "output_type": "stream",
     "text": [
      "G+S, matching failed : Hydrobryum khaoyaiense\n",
      "G+S, matching failed : Dalzellia ranongensis\n",
      "G+S, matching failed : Hydrobryum chiangmaiense\n",
      "G+S, matching failed : Polypleurum erectum\n",
      "G+S, matching failed : Paracladopus chantaburiensis\n",
      "G+S, matching failed : Polypleurum longifolium\n",
      "G+S, matching failed : Polypleurum wongprasertii\n",
      "G+S, matching failed : Thawatchaia trilobata\n",
      "G+S, matching failed : Polypleurum prachinburiense\n"
     ]
    },
    {
     "name": "stdout",
     "output_type": "stream",
     "text": [
      "G+S, matching failed : Terniopsis brevis\n",
      "G+S, matching failed : Terniopsis ubonensis\n",
      "G+S, matching failed : Dalzellia ubonensis\n",
      "G+S, matching failed : Hydrobryum somranii\n"
     ]
    },
    {
     "name": "stdout",
     "output_type": "stream",
     "text": [
      "G+S, matching failed : Dalzellia kailarsenii\n",
      "G+S, matching failed : Hydrobryum tardhuangense\n",
      "G+S, matching failed : Hydrobryum kaengsophense\n",
      "G+S, matching failed : Polypleurum longicaule\n",
      "G+S, matching failed : Hydrobryum loeicum\n"
     ]
    },
    {
     "name": "stdout",
     "output_type": "stream",
     "text": [
      "G+S, matching failed : Terniopsis ramosa\n"
     ]
    },
    {
     "name": "stdout",
     "output_type": "stream",
     "text": [
      "G+S+filtered authority, couln't find a unique match : Gnetum gnemon\n",
      "G+S+filtered authority, couln't find a unique match : Gnetum latifolium\n"
     ]
    },
    {
     "name": "stdout",
     "output_type": "stream",
     "text": [
      "G+S, matching failed : Terniopsis minor\n",
      "G+S, matching failed : Terniopsis chanthaburiensis\n",
      "G+S, matching failed : Polypleurum sisaketense\n",
      "G+S, matching failed : Polypleurum insulare\n",
      "G+S, matching failed : Hydrobryum phetchabunense\n"
     ]
    },
    {
     "name": "stdout",
     "output_type": "stream",
     "text": [
      "G+S, matching failed : Centaurea fraylensis\n",
      "G+S, matching failed : Canariothamnus hermosae\n",
      "G+S+filtered authority, couln't find a unique match : Micromeria glomerata\n",
      "G+S, matching failed : Petagnia saniculifolia\n",
      "G+S, matching failed : Asplenium complanatum\n",
      "G+S, matching failed : Grammitis sechellarum\n"
     ]
    },
    {
     "name": "stdout",
     "output_type": "stream",
     "text": [
      "G+S, matching failed : Lindsaea kirkii\n",
      "G+S, matching failed : Trichomanes fulgens\n",
      "G+S, matching failed : Cyclosorus ciliatus\n",
      "G+S, matching failed : Cyclosorus salicifolius\n",
      "G+S, matching failed : Crepidomanes maximum\n"
     ]
    },
    {
     "name": "stdout",
     "output_type": "stream",
     "text": [
      "G+S, matching failed : Microsorum pteropus\n",
      "G+S+filtered authority, couln't find a unique match : Oxystelma esculentum\n",
      "G+S, matching failed : Oldenlandia diffusa\n",
      "G+S, matching failed : Curanga amara\n"
     ]
    },
    {
     "name": "stdout",
     "output_type": "stream",
     "text": [
      "G+S, matching failed : Lindernia rivularis\n",
      "G+S, matching failed : Lindernia succosa\n",
      "G+S, matching failed : Limnophila pulcherrima\n",
      "G+S, matching failed : Lindernia khaoyaiensis\n",
      "G+S, matching failed : Lindernia mollis\n"
     ]
    },
    {
     "name": "stdout",
     "output_type": "stream",
     "text": [
      "G+S+filtered authority, couln't find a unique match : Ephedra distachya\n"
     ]
    },
    {
     "name": "stdout",
     "output_type": "stream",
     "text": [
      "G+S, matching failed : Ephedra rituensis\n",
      "G+S, matching failed : Ephedra rhytidosperma\n",
      "G+S, matching failed : Ephedra brevifoliata\n"
     ]
    },
    {
     "name": "stdout",
     "output_type": "stream",
     "text": [
      "G+S+filtered authority, couln't find a unique match : Ephedra likiangensis\n"
     ]
    },
    {
     "name": "stdout",
     "output_type": "stream",
     "text": [
      "G+S, matching failed : Ephedra dawuensis\n"
     ]
    },
    {
     "name": "stdout",
     "output_type": "stream",
     "text": [
      "G+S, matching failed : Devillea flagelliformis\n"
     ]
    },
    {
     "name": "stdout",
     "output_type": "stream",
     "text": [
      "G+S+filtered authority, couln't find a unique match : Sophora fernandeziana\n",
      "G+S+filtered authority, couln't find a unique match : Dracaena draco\n"
     ]
    },
    {
     "name": "stdout",
     "output_type": "stream",
     "text": [
      "G+S, matching failed : Acacia montis-usti\n"
     ]
    },
    {
     "name": "stdout",
     "output_type": "stream",
     "text": [
      "G+S, matching failed : Rapanea gilliana\n",
      "G+S+filtered authority, couln't find a unique match : Sterculia alexandri\n"
     ]
    },
    {
     "name": "stdout",
     "output_type": "stream",
     "text": [
      "G+S, matching failed : Fagara externa\n",
      "G+S, matching failed : Fagara mayu\n"
     ]
    },
    {
     "name": "stdout",
     "output_type": "stream",
     "text": [
      "G+S, matching failed : Brachyglottis arborescens\n",
      "G+S+filtered authority, couln't find a unique match : Ulmus wallichiana\n"
     ]
    },
    {
     "name": "stdout",
     "output_type": "stream",
     "text": [
      "G+S, matching failed : Euclea balfourii\n",
      "G+S, matching failed : Euclea laurina\n",
      "G+S+filtered authority, couln't find a unique match : Croton socotranus\n",
      "G+S, matching failed : Hebe barkeri\n"
     ]
    },
    {
     "name": "stdout",
     "output_type": "stream",
     "text": [
      "G+S, matching failed : Placopoda virgata\n",
      "G+S, matching failed : Allophylus rhoidiphyllus\n"
     ]
    },
    {
     "name": "stdout",
     "output_type": "stream",
     "text": [
      "G+S, matching failed : Monopetalanthus hedinii\n",
      "G+S, matching failed : Oriciopsis glaberrima\n",
      "G+S, matching failed : Centaurodendron dracaenoides\n"
     ]
    },
    {
     "name": "stdout",
     "output_type": "stream",
     "text": [
      "G+S, matching failed : Centaurodendron palmiforme\n",
      "G+S, matching failed : Dendroseris litoralis\n",
      "G+S, matching failed : Dendroseris macrantha\n",
      "G+S, matching failed : Dendroseris macrophylla\n",
      "G+S, matching failed : Dendroseris marginata\n",
      "G+S+filtered authority, couln't find a unique match : Cuminia eriantha\n",
      "G+S, matching failed : Cuminia fernandezia\n",
      "G+S, matching failed : Glochidion marchionicum\n"
     ]
    },
    {
     "name": "stdout",
     "output_type": "stream",
     "text": [
      "G+S, matching failed : Psychotria le-bronnecii\n",
      "G+S, matching failed : Olax psittacorum\n"
     ]
    },
    {
     "name": "stdout",
     "output_type": "stream",
     "text": [
      "G+S, matching failed : Rapanea seychellarum\n",
      "G+S, matching failed : Protium correae\n"
     ]
    },
    {
     "name": "stdout",
     "output_type": "stream",
     "text": [
      "G+S, matching failed : Protium inconforme\n",
      "G+S, matching failed : Buxus citrifolia\n",
      "G+S, matching failed : Capparis crotonantha\n"
     ]
    },
    {
     "name": "stdout",
     "output_type": "stream",
     "text": [
      "G+S, matching failed : Capparis mirifica\n",
      "G+S, matching failed : Capparis panamensis\n",
      "G+S, matching failed : Capparis uniflora\n",
      "G+S, matching failed : Steriphoma macranthum\n"
     ]
    },
    {
     "name": "stdout",
     "output_type": "stream",
     "text": [
      "G+S, matching failed : Zinowiewia costaricensis\n",
      "G+S, matching failed : Ficus bojeri\n",
      "G+S, matching failed : Northia hornei\n"
     ]
    },
    {
     "name": "stdout",
     "output_type": "stream",
     "text": [
      "G+S+filtered authority, couln't find a unique match : Macaranga mauritiana\n"
     ]
    },
    {
     "name": "stdout",
     "output_type": "stream",
     "text": [
      "G+S, matching failed : Oreopanax oerstediana\n"
     ]
    },
    {
     "name": "stdout",
     "output_type": "stream",
     "text": [
      "G+S, matching failed : Machaerium chambersii\n",
      "G+S+filtered authority, couln't find a unique match : Ormosia panamensis\n"
     ]
    },
    {
     "name": "stdout",
     "output_type": "stream",
     "text": [
      "G+S, matching failed : Ouratea patelliformis\n",
      "G+S, matching failed : Lonchocarpus phlebophyllus\n",
      "G+S, matching failed : Pithecellobium saxosum\n"
     ]
    },
    {
     "name": "stdout",
     "output_type": "stream",
     "text": [
      "G+S+filtered authority, couln't find a unique match : Conostegia chiriquensis\n"
     ]
    },
    {
     "name": "stdout",
     "output_type": "stream",
     "text": [
      "G+S, matching failed : Cecropia maxonii\n",
      "G+S, matching failed : Ardisia antonensis\n",
      "G+S, matching failed : Maytenus williamsii\n"
     ]
    },
    {
     "name": "stdout",
     "output_type": "stream",
     "text": [
      "G+S, matching failed : Molinadendron hondurense\n",
      "G+S, matching failed : Alfaroa hondurensis\n",
      "G+S, matching failed : Ardisia microcalyx\n"
     ]
    },
    {
     "name": "stdout",
     "output_type": "stream",
     "text": [
      "G+S, matching failed : Eugenia salamancana\n",
      "G+S, matching failed : Ouratea cocleensis\n",
      "G+S+filtered authority, couln't find a unique match : Piper lucigaudens\n",
      "G+S, matching failed : Rhamnidium caloneurum\n"
     ]
    },
    {
     "name": "stdout",
     "output_type": "stream",
     "text": [
      "G+S, matching failed : Zanthoxylum ferrugineum\n",
      "G+S, matching failed : Eugenia mexicana\n"
     ]
    },
    {
     "name": "stdout",
     "output_type": "stream",
     "text": [
      "G+S, matching failed : Gentlea molinae\n",
      "G+S, matching failed : Forestiera hondurensis\n",
      "G+S, matching failed : Allenanthus hondurensis\n",
      "G+S+filtered authority, couln't find a unique match : Exocarpos gaudichaudii\n",
      "G+S, matching failed : Symplocos molinae\n"
     ]
    },
    {
     "name": "stdout",
     "output_type": "stream",
     "text": [
      "G+S, matching failed : Zanthoxylum gentlei\n",
      "G+S, matching failed : Cullenia rosayroana\n",
      "G+S, matching failed : Crossopetalum parvifolium\n"
     ]
    },
    {
     "name": "stdout",
     "output_type": "stream",
     "text": [
      "G+S, matching failed : Wimmeria chiapensis\n"
     ]
    },
    {
     "name": "stdout",
     "output_type": "stream",
     "text": [
      "G+S, matching failed : Ocotea clarkei\n",
      "G+S, matching failed : Persea floccosa\n",
      "G+S, matching failed : Acacia chiapensis\n"
     ]
    },
    {
     "name": "stdout",
     "output_type": "stream",
     "text": [
      "G+S, matching failed : Prunus walkeri\n",
      "G+S, matching failed : Syzygium firmum\n"
     ]
    },
    {
     "name": "stdout",
     "output_type": "stream",
     "text": [
      "G+S, matching failed : Carallia calycina\n"
     ]
    },
    {
     "name": "stdout",
     "output_type": "stream",
     "text": [
      "G+S, matching failed : Shorea worthingtonii\n"
     ]
    },
    {
     "name": "stdout",
     "output_type": "stream",
     "text": [
      "G+S, matching failed : Abarema bigemina\n"
     ]
    },
    {
     "name": "stdout",
     "output_type": "stream",
     "text": [
      "G+S, matching failed : Eugenia rufo-fulva\n",
      "G+S+filtered authority, couln't find a unique match : Stahlia monosperma\n"
     ]
    },
    {
     "name": "stdout",
     "output_type": "stream",
     "text": [
      "G+S, matching failed : Byrsonima horneana\n",
      "G+S, matching failed : Calyptranthes luquillensis\n"
     ]
    },
    {
     "name": "stdout",
     "output_type": "stream",
     "text": [
      "G+S+filtered authority, couln't find a unique match : Araucaria rulei\n"
     ]
    },
    {
     "name": "stdout",
     "output_type": "stream",
     "text": [
      "G+S, matching failed : Labordia lydgatei\n",
      "G+S, matching failed : Maytenus ponceana\n",
      "G+S, matching failed : Morinda trimera\n"
     ]
    },
    {
     "name": "stdout",
     "output_type": "stream",
     "text": [
      "G+S, matching failed : Platydesma remyi\n",
      "G+S, matching failed : Solanum drymophilum\n"
     ]
    },
    {
     "name": "stdout",
     "output_type": "stream",
     "text": [
      "G+S, matching failed : Lasiochlamys hurlimannii\n"
     ]
    },
    {
     "name": "stdout",
     "output_type": "stream",
     "text": [
      "G+S, matching failed : Macadamia neurophylla\n"
     ]
    },
    {
     "name": "stdout",
     "output_type": "stream",
     "text": [
      "G+S, matching failed : Aloe pillansii\n",
      "G+S, matching failed : Cyrtandra tavinunensis\n",
      "G+S, matching failed : Schefflera costata\n",
      "G+S, matching failed : Schefflera seemanniana\n"
     ]
    },
    {
     "name": "stdout",
     "output_type": "stream",
     "text": [
      "G+S, matching failed : Pullea perryana\n"
     ]
    },
    {
     "name": "stdout",
     "output_type": "stream",
     "text": [
      "G+S, matching failed : Xylosma kaalaense\n",
      "G+S, matching failed : Sageraea laurifolia\n",
      "G+S, matching failed : Sageraea grandiflora\n",
      "G+S, matching failed : Garcinia imberti\n",
      "G+S, matching failed : Euonymus paniculatus\n"
     ]
    },
    {
     "name": "stdout",
     "output_type": "stream",
     "text": [
      "G+S, matching failed : Euonymus serratifolius\n",
      "G+S, matching failed : Microtropis densiflora\n",
      "G+S, matching failed : Leptostylis petiolata\n",
      "G+S, matching failed : Leptostylis multiflora\n",
      "G+S, matching failed : Nothopegia aureo-fulva\n",
      "G+S, matching failed : Leptostylis gatopensis\n"
     ]
    },
    {
     "name": "stdout",
     "output_type": "stream",
     "text": [
      "G+S, matching failed : Pouteria brevipedicellata\n",
      "G+S, matching failed : Pouteria danikeri\n",
      "G+S, matching failed : Acacia campbellii\n"
     ]
    },
    {
     "name": "stdout",
     "output_type": "stream",
     "text": [
      "G+S, matching failed : Pycnandra francei\n",
      "G+S, matching failed : Leptostylis goroensis\n",
      "G+S, matching failed : Neisosperma thiollierei\n",
      "G+S, matching failed : Neisosperma brevituba\n",
      "G+S, matching failed : Syzygium benthamianum\n",
      "G+S, matching failed : Neisosperma sevenetii\n"
     ]
    },
    {
     "name": "stdout",
     "output_type": "stream",
     "text": [
      "G+S, matching failed : Oxanthera undulata\n",
      "G+S, matching failed : Bikkia pachyphylla\n"
     ]
    },
    {
     "name": "stdout",
     "output_type": "stream",
     "text": [
      "G+S, matching failed : Pseudopanax scopoliae\n",
      "G+S+filtered authority, couln't find a unique match : Pandanus lacuum\n",
      "G+S, matching failed : Pseudosciadium balansae\n",
      "G+S, matching failed : Oxera nuda\n"
     ]
    },
    {
     "name": "stdout",
     "output_type": "stream",
     "text": [
      "G+S, matching failed : Bikkia lenormandii\n",
      "G+S, matching failed : Bikkia kaalaensis\n",
      "G+S, matching failed : Aloe ramosissima\n",
      "G+S, matching failed : Orophea thomsoni\n",
      "G+S, matching failed : Phaeanthus malabaricus\n"
     ]
    },
    {
     "name": "stdout",
     "output_type": "stream",
     "text": [
      "G+S, matching failed : Dysoxylum beddomei\n",
      "G+S, matching failed : Euonymus pallidifolia\n"
     ]
    },
    {
     "name": "stdout",
     "output_type": "stream",
     "text": [
      "G+S, matching failed : Ixora lawsoni\n",
      "G+S, matching failed : Pentapanax leschenaultii\n"
     ]
    },
    {
     "name": "stdout",
     "output_type": "stream",
     "text": [
      "G+S, matching failed : Rapanea striata\n",
      "G+S, matching failed : Sloanea assamica\n",
      "G+S, matching failed : Symplocos barberi\n",
      "G+S, matching failed : Euonymus lanceifolia\n"
     ]
    },
    {
     "name": "stdout",
     "output_type": "stream",
     "text": [
      "G+S+filtered authority, couln't find a unique match : Quercus dentata\n",
      "G+S, matching failed : Glochidion bourdillonii\n",
      "G+S, matching failed : Miconia centrosperma\n",
      "G+S, matching failed : Glochidion pauciflorum\n"
     ]
    },
    {
     "name": "stdout",
     "output_type": "stream",
     "text": [
      "G+S+filtered authority, couln't find a unique match : Fagus hayatae\n",
      "G+S, matching failed : Photinia lasiopetala\n",
      "G+S, matching failed : Prunus taiwaniana\n"
     ]
    },
    {
     "name": "stdout",
     "output_type": "stream",
     "text": [
      "G+S, matching failed : Gleditsia rolfei\n",
      "G+S, matching failed : Cinnamomum brevipedunculatum\n",
      "G+S, matching failed : Cornus monbeigii\n",
      "G+S, matching failed : Euonymus acanthocarpa\n"
     ]
    },
    {
     "name": "stdout",
     "output_type": "stream",
     "text": [
      "G+S, matching failed : Metrosideros humboldtiana\n"
     ]
    },
    {
     "name": "stdout",
     "output_type": "stream",
     "text": [
      "G+S+filtered authority, couln't find a unique match : Saurauia leucocarpa\n",
      "G+S+filtered authority, couln't find a unique match : Elaeocarpus prunifolius\n"
     ]
    },
    {
     "name": "stdout",
     "output_type": "stream",
     "text": [
      "G+S, matching failed : Prunus grisea\n",
      "G+S, matching failed : Geniostoma uninervium\n",
      "G+S, matching failed : Geniostoma clavigerum\n",
      "G+S, matching failed : Geniostoma confertiflorum\n",
      "G+S, matching failed : Maytenus stipitata\n"
     ]
    },
    {
     "name": "stdout",
     "output_type": "stream",
     "text": [
      "G+S, matching failed : Pistacia malayana\n",
      "G+S, matching failed : Cleistanthus glaucus\n"
     ]
    },
    {
     "name": "stdout",
     "output_type": "stream",
     "text": [
      "G+S, matching failed : Mangifera zeylanica\n",
      "G+S, matching failed : Erythroxylum kochummenii\n"
     ]
    },
    {
     "name": "stdout",
     "output_type": "stream",
     "text": [
      "G+S, matching failed : Glochidion insulare\n"
     ]
    },
    {
     "name": "stdout",
     "output_type": "stream",
     "text": [
      "G+S, matching failed : Koilodepas wallichianum\n",
      "G+S, matching failed : Lasiococca malaccensis\n",
      "G+S, matching failed : Mallotus smilaciformis\n",
      "G+S, matching failed : Cyathocalyx olivaceus\n"
     ]
    },
    {
     "name": "stdout",
     "output_type": "stream",
     "text": [
      "G+S, matching failed : Ptychopyxis triradiata\n",
      "G+S, matching failed : Cyathocalyx pahangensis\n",
      "G+S, matching failed : Sauropus elegantissimus\n",
      "G+S, matching failed : Cyathocalyx pruniferus\n",
      "G+S, matching failed : Trigonostemon arboreus\n",
      "G+S, matching failed : Castanopsis catappaefolia\n"
     ]
    },
    {
     "name": "stdout",
     "output_type": "stream",
     "text": [
      "G+S, matching failed : Lithocarpus curtisii\n"
     ]
    },
    {
     "name": "stdout",
     "output_type": "stream",
     "text": [
      "G+S, matching failed : Shorea kuantanensis\n"
     ]
    },
    {
     "name": "stdout",
     "output_type": "stream",
     "text": [
      "G+S, matching failed : Diospyros gambleana\n",
      "G+S, matching failed : Diospyros johorensis\n",
      "G+S, matching failed : Diospyros kingii\n",
      "G+S, matching failed : Aporusa isabellina\n"
     ]
    },
    {
     "name": "stdout",
     "output_type": "stream",
     "text": [
      "G+S, matching failed : Cleistanthus flavescens\n",
      "G+S, matching failed : Croton kelantanicus\n",
      "G+S, matching failed : Lithocarpus kingii\n"
     ]
    },
    {
     "name": "stdout",
     "output_type": "stream",
     "text": [
      "G+S, matching failed : Eugenia anisosepala\n",
      "G+S, matching failed : Eugenia burkilliana\n",
      "G+S, matching failed : Eugenia benjamina\n",
      "G+S, matching failed : Eugenia camptophylla\n"
     ]
    },
    {
     "name": "stdout",
     "output_type": "stream",
     "text": [
      "G+S, matching failed : Eugenia klossii\n",
      "G+S, matching failed : Eugenia koordersiana\n",
      "G+S, matching failed : Eugenia laevicaulis\n",
      "G+S, matching failed : Hydnocarpus cucurbitina\n",
      "G+S, matching failed : Eugenia myriantha\n"
     ]
    },
    {
     "name": "stdout",
     "output_type": "stream",
     "text": [
      "G+S, matching failed : Eugenia nitidula\n",
      "G+S, matching failed : Eugenia oreophila\n",
      "G+S, matching failed : Hydnocarpus nana\n",
      "G+S, matching failed : Eugenia orites\n",
      "G+S, matching failed : Eugenia pahangensis\n",
      "G+S, matching failed : Eugenia pallidula\n",
      "G+S, matching failed : Ryparosa scortechinii\n",
      "G+S, matching failed : Eugenia pearsoniana\n"
     ]
    },
    {
     "name": "stdout",
     "output_type": "stream",
     "text": [
      "G+S, matching failed : Eugenia perakensis\n",
      "G+S+filtered authority, couln't find a unique match : Garcinia cantleyana\n",
      "G+S, matching failed : Eugenia pergamentacea\n",
      "G+S, matching failed : Garcinia clusiaefolia\n",
      "G+S, matching failed : Eugenia praestigiosa\n"
     ]
    },
    {
     "name": "stdout",
     "output_type": "stream",
     "text": [
      "G+S, matching failed : Eugenia pseudoclaviflora\n",
      "G+S, matching failed : Eugenia quadrata\n",
      "G+S, matching failed : Eugenia quadribracteata\n",
      "G+S, matching failed : Garcinia montana\n",
      "G+S, matching failed : Eugenia rhomboidea\n",
      "G+S, matching failed : Eugenia rostadonis\n"
     ]
    },
    {
     "name": "stdout",
     "output_type": "stream",
     "text": [
      "G+S, matching failed : Eugenia scalarinervis\n",
      "G+S, matching failed : Eugenia setosa\n",
      "G+S, matching failed : Mesua kochummenia\n"
     ]
    },
    {
     "name": "stdout",
     "output_type": "stream",
     "text": [
      "G+S, matching failed : Beilschmiedia pahangensis\n",
      "G+S, matching failed : Abdulmajidia chaniana\n",
      "G+S, matching failed : Abdulmajidia maxwelliana\n",
      "G+S, matching failed : Crudia brevipes\n",
      "G+S, matching failed : Crudia glauca\n"
     ]
    },
    {
     "name": "stdout",
     "output_type": "stream",
     "text": [
      "G+S, matching failed : Millettia unifoliata\n"
     ]
    },
    {
     "name": "stdout",
     "output_type": "stream",
     "text": [
      "G+S, matching failed : Eugenia cordifoliolata\n",
      "G+S, matching failed : Eugenia cyrtophylloides\n",
      "G+S, matching failed : Eugenia gageana\n",
      "G+S, matching failed : Eugenia goniocalyx\n",
      "G+S, matching failed : Eugenia goodenovii\n",
      "G+S, matching failed : Eugenia inasensis\n",
      "G+S, matching failed : Eugenia jasminifolia\n",
      "G+S, matching failed : Eugenia johorensis\n"
     ]
    },
    {
     "name": "stdout",
     "output_type": "stream",
     "text": [
      "G+S, matching failed : Eugenia kemamensis\n",
      "G+S, matching failed : Eugenia kiahii\n",
      "G+S, matching failed : Eugenia acunai\n",
      "G+S, matching failed : Eugenia swettenhamiana\n",
      "G+S, matching failed : Eugenia symingtoniana\n",
      "G+S, matching failed : Eugenia tahanensis\n",
      "G+S, matching failed : Eugenia taipingensis\n"
     ]
    },
    {
     "name": "stdout",
     "output_type": "stream",
     "text": [
      "G+S, matching failed : Eugenia tecta\n",
      "G+S, matching failed : Eugenia tekuensis\n",
      "G+S, matching failed : Eugenia tiumanensis\n",
      "G+S, matching failed : Eugenia variolosa\n",
      "G+S, matching failed : Galipea ossana\n",
      "G+S, matching failed : Eugenia watsoniana\n"
     ]
    },
    {
     "name": "stdout",
     "output_type": "stream",
     "text": [
      "G+S, matching failed : Eugenia wrayi\n",
      "G+S, matching failed : Pseudoeugenia perakiana\n"
     ]
    },
    {
     "name": "stdout",
     "output_type": "stream",
     "text": [
      "G+S, matching failed : Pseudoeugenia tenuifolia\n",
      "G+S, matching failed : Megalopanax rex\n"
     ]
    },
    {
     "name": "stdout",
     "output_type": "stream",
     "text": [
      "G+S, matching failed : Ficus meizonochlamys\n",
      "G+S, matching failed : Cinnamomum capparu-coronde\n",
      "G+S, matching failed : Tabebuia anafensis\n",
      "G+S, matching failed : Tabebuia furfuracea\n",
      "G+S, matching failed : Tabebuia oligolepis\n",
      "G+S, matching failed : Citharexylum ternatum\n"
     ]
    },
    {
     "name": "stdout",
     "output_type": "stream",
     "text": [
      "G+S, matching failed : Juglans insularis\n",
      "G+S, matching failed : Pisonia ekmani\n",
      "G+S+filtered authority, couln't find a unique match : Lunania dodecandra\n",
      "G+S, matching failed : Chrysophyllum claraense\n",
      "G+S, matching failed : Carpodiptera mirabilis\n",
      "G+S, matching failed : Carpodiptera ophiticola\n",
      "G+S, matching failed : Cnidoscolus fragrans\n"
     ]
    },
    {
     "name": "stdout",
     "output_type": "stream",
     "text": [
      "G+S, matching failed : Hieronima crassistipula\n",
      "G+S, matching failed : Acacia belairioides\n",
      "G+S, matching failed : Acacia daemon\n",
      "G+S, matching failed : Acacia roigii\n",
      "G+S, matching failed : Acacia zapatensis\n",
      "G+S, matching failed : Pithecellobium savannarum\n"
     ]
    },
    {
     "name": "stdout",
     "output_type": "stream",
     "text": [
      "G+S+filtered authority, couln't find a unique match : Cynometra cubensis\n",
      "G+S, matching failed : Belairia parvifolia\n",
      "G+S, matching failed : Calyptranthes flavo-viridis\n",
      "G+S, matching failed : Calyptranthes polyneura\n"
     ]
    },
    {
     "name": "stdout",
     "output_type": "stream",
     "text": [
      "G+S, matching failed : Krokia pilotoana\n",
      "G+S, matching failed : Mozartia emarginata\n",
      "G+S, matching failed : Mozartia manacalensis\n",
      "G+S, matching failed : Myrtus claraensis\n",
      "G+S, matching failed : Plinia rupestris\n",
      "G+S, matching failed : Psidium havanense\n"
     ]
    },
    {
     "name": "stdout",
     "output_type": "stream",
     "text": [
      "G+S, matching failed : Cyathocalyx scortechinii\n"
     ]
    },
    {
     "name": "stdout",
     "output_type": "stream",
     "text": [
      "G+S+filtered authority, couln't find a unique match : Pellacalyx saccardianus\n",
      "G+S, matching failed : Kostermanthus malayus\n",
      "G+S, matching failed : Prunus malayana\n"
     ]
    },
    {
     "name": "stdout",
     "output_type": "stream",
     "text": [
      "G+S, matching failed : Euodia macrocarpa\n",
      "G+S+filtered authority, couln't find a unique match : Goniothalamus tenuifolius\n",
      "G+S, matching failed : Mezzettia herveyana\n"
     ]
    },
    {
     "name": "stdout",
     "output_type": "stream",
     "text": [
      "G+S, matching failed : Madhuca obtusifolia\n",
      "G+S, matching failed : Pseuduvaria nervosa\n"
     ]
    },
    {
     "name": "stdout",
     "output_type": "stream",
     "text": [
      "G+S, matching failed : Kopsia scortechinii\n",
      "G+S+filtered authority, couln't find a unique match : Styrax crotonoides\n"
     ]
    },
    {
     "name": "stdout",
     "output_type": "stream",
     "text": [
      "G+S, matching failed : Melanochyla fasciculiflora\n",
      "G+S, matching failed : Kopsia singaporensis\n"
     ]
    },
    {
     "name": "stdout",
     "output_type": "stream",
     "text": [
      "G+S+filtered authority, couln't find a unique match : Zanthoxylum flavum\n",
      "G+S, matching failed : Styrax fraserensis\n",
      "G+S+filtered authority, couln't find a unique match : Symplocos pyriflora\n"
     ]
    },
    {
     "name": "stdout",
     "output_type": "stream",
     "text": [
      "G+S+filtered authority, couln't find a unique match : Ternstroemia corneri\n",
      "G+S, matching failed : Pentace excelsa\n"
     ]
    },
    {
     "name": "stdout",
     "output_type": "stream",
     "text": [
      "G+S, matching failed : Schoutenia cornerii\n",
      "G+S, matching failed : Avicennia lanata\n"
     ]
    },
    {
     "name": "stdout",
     "output_type": "stream",
     "text": [
      "G+S+filtered authority, couln't find a unique match : Vitex urceolata\n",
      "G+S, matching failed : Eugenia haniffii\n"
     ]
    },
    {
     "name": "stdout",
     "output_type": "stream",
     "text": [
      "G+S, matching failed : Polyalthia macropoda\n",
      "G+S, matching failed : Eugenia millsii\n"
     ]
    },
    {
     "name": "stdout",
     "output_type": "stream",
     "text": [
      "G+S, matching failed : Baccaurea latifolia\n",
      "G+S, matching failed : Baccaurea hookeri\n",
      "G+S, matching failed : Euodia robusta\n",
      "G+S, matching failed : Eugenia nemestrina\n",
      "G+S, matching failed : Eugenia linocieroidea\n",
      "G+S, matching failed : Eugenia glauca\n",
      "G+S, matching failed : Eugenia flosculifera\n",
      "G+S, matching failed : Eugenia duthieana\n"
     ]
    },
    {
     "name": "stdout",
     "output_type": "stream",
     "text": [
      "G+S, matching failed : Eugenia conglomerata\n",
      "G+S, matching failed : Elaeagia uxpanapensis\n",
      "G+S, matching failed : Rinorea uxpanapana\n"
     ]
    },
    {
     "name": "stdout",
     "output_type": "stream",
     "text": [
      "G+S, matching failed : Kopsia lancifolia\n",
      "G+S, matching failed : Kopsia sleesiana\n",
      "G+S, matching failed : Canarium fusco-calycinum\n"
     ]
    },
    {
     "name": "stdout",
     "output_type": "stream",
     "text": [
      "G+S, matching failed : Turpinia stipulacea\n",
      "G+S, matching failed : Eugenia pendens\n"
     ]
    },
    {
     "name": "stdout",
     "output_type": "stream",
     "text": [
      "G+S, matching failed : Eugenia pauper\n",
      "G+S, matching failed : Eugenia oblongifolia\n",
      "G+S, matching failed : Eugenia ngadimaniana\n",
      "G+S, matching failed : Shorea agami\n"
     ]
    },
    {
     "name": "stdout",
     "output_type": "stream",
     "text": [
      "G+S, matching failed : Aralia javanica\n"
     ]
    },
    {
     "name": "stdout",
     "output_type": "stream",
     "text": [
      "G+S, matching failed : Vatica rhynchocarpa\n",
      "G+S, matching failed : Horsfieldia rufo-lanata\n"
     ]
    },
    {
     "name": "stdout",
     "output_type": "stream",
     "text": [
      "G+S, matching failed : Geniostoma astylum\n",
      "G+S, matching failed : Nesoluma polynesicum\n"
     ]
    },
    {
     "name": "stdout",
     "output_type": "stream",
     "text": [
      "G+S, matching failed : Monopetalanthus durandii\n",
      "G+S, matching failed : Aglaia samoensis\n",
      "G+S, matching failed : Monopetalanthus heitzii\n",
      "G+S, matching failed : Clethra coloradensis\n"
     ]
    },
    {
     "name": "stdout",
     "output_type": "stream",
     "text": [
      "G+S, matching failed : Astronium urundeuva\n",
      "G+S, matching failed : Schinopsis haenkeana\n",
      "G+S+filtered authority, couln't find a unique match : Cola duparquetiana\n",
      "G+S, matching failed : Schinopsis quebracho-colorado\n",
      "G+S+filtered authority, couln't find a unique match : Aspidosperma polyneuron\n",
      "G+S, matching failed : Shorea cara\n",
      "G+S, matching failed : Tabebuia impetiginosa\n"
     ]
    },
    {
     "name": "stdout",
     "output_type": "stream",
     "text": [
      "G+S, matching failed : Semecarpus parvifolia\n"
     ]
    },
    {
     "name": "stdout",
     "output_type": "stream",
     "text": [
      "G+S, matching failed : Pouteria splendens\n",
      "G+S, matching failed : Garcinia rubro-echinata\n",
      "G+S, matching failed : Hieronima macrocarpa\n",
      "G+S, matching failed : Brunellia almaguerensis\n"
     ]
    },
    {
     "name": "stdout",
     "output_type": "stream",
     "text": [
      "G+S, matching failed : Memecylon sessilicarpum\n",
      "G+S, matching failed : Ziziphus celata\n"
     ]
    },
    {
     "name": "stdout",
     "output_type": "stream",
     "text": [
      "G+S, matching failed : Aspidosperma curranii\n",
      "G+S, matching failed : Dacryodes igaganga\n",
      "G+S+filtered authority, couln't find a unique match : Daniellia klainei\n"
     ]
    },
    {
     "name": "stdout",
     "output_type": "stream",
     "text": [
      "G+S, matching failed : Chionanthus richardsiae\n",
      "G+S, matching failed : Philippia nyassana\n"
     ]
    },
    {
     "name": "stdout",
     "output_type": "stream",
     "text": [
      "G+S, matching failed : Maerua scandens\n",
      "G+S, matching failed : Elaeodendron fruticosum\n",
      "G+S, matching failed : Pteleopsis barbosae\n",
      "G+S, matching failed : Thespesiopsis mossambicensis\n",
      "G+S+filtered authority, couln't find a unique match : Khaya grandifoliola\n"
     ]
    },
    {
     "name": "stdout",
     "output_type": "stream",
     "text": [
      "G+S, matching failed : Buxus colchica\n",
      "G+S, matching failed : Pteleopsis habeensis\n"
     ]
    },
    {
     "name": "stdout",
     "output_type": "stream",
     "text": [
      "G+S, matching failed : Homalium patoklaense\n",
      "G+S+filtered authority, couln't find a unique match : Calophyllum tetrapterum\n"
     ]
    },
    {
     "name": "stdout",
     "output_type": "stream",
     "text": [
      "G+S+filtered authority, couln't find a unique match : Polylepis racemosa\n",
      "G+S, matching failed : Fagara mezoneurospinosa\n"
     ]
    },
    {
     "name": "stdout",
     "output_type": "stream",
     "text": [
      "G+S, matching failed : Maclura braziliensis\n"
     ]
    },
    {
     "name": "stdout",
     "output_type": "stream",
     "text": [
      "G+S, matching failed : Cola lourougnonis\n",
      "G+S, matching failed : Premna grandifolia\n"
     ]
    },
    {
     "name": "stdout",
     "output_type": "stream",
     "text": [
      "G+S, matching failed : Ellipanthus hemandradenioides\n",
      "G+S, matching failed : Baphia keniensis\n",
      "G+S, matching failed : Monopetalanthus compactus\n"
     ]
    },
    {
     "name": "stdout",
     "output_type": "stream",
     "text": [
      "G+S, matching failed : Aesculus wangii\n",
      "G+S, matching failed : Carallia diplopetala\n",
      "G+S, matching failed : Mangifera hiemalis\n"
     ]
    },
    {
     "name": "stdout",
     "output_type": "stream",
     "text": [
      "G+S, matching failed : Camellia chrysantha\n",
      "G+S, matching failed : Cephalomappa sinensis\n",
      "G+S, matching failed : Cinnamomum japonicum\n"
     ]
    },
    {
     "name": "stdout",
     "output_type": "stream",
     "text": [
      "G+S, matching failed : Carya sinensis\n",
      "G+S+filtered authority, couln't find a unique match : Dimocarpus longan\n",
      "G+S+filtered authority, couln't find a unique match : Cercidiphyllum japonicum\n"
     ]
    },
    {
     "name": "stdout",
     "output_type": "stream",
     "text": [
      "G+S, matching failed : Nesoluma st.-johnianum\n",
      "G+S, matching failed : Glochidion pitcairnense\n"
     ]
    },
    {
     "name": "stdout",
     "output_type": "stream",
     "text": [
      "G+S, matching failed : Saccopetalum prolificum\n",
      "G+S, matching failed : Hopea exalata\n",
      "G+S, matching failed : Deutzianthus tonkienensis\n",
      "G+S, matching failed : Dysosma versipellis\n"
     ]
    },
    {
     "name": "stdout",
     "output_type": "stream",
     "text": [
      "G+S, matching failed : Vatica xishuangbannaensis\n",
      "G+S, matching failed : Gleditsia vestita\n",
      "G+S, matching failed : Gmelina hainanensis\n",
      "G+S, matching failed : Halesia macgregorii\n",
      "G+S, matching failed : Styrax tafelbergensis\n"
     ]
    },
    {
     "name": "stdout",
     "output_type": "stream",
     "text": [
      "G+S, matching failed : Mezilaurus ita-uba\n",
      "G+S, matching failed : Horsfieldia pandurifolia\n",
      "G+S, matching failed : Ixonanthes chinensis\n"
     ]
    },
    {
     "name": "stdout",
     "output_type": "stream",
     "text": [
      "G+S, matching failed : Lagerstroemia intermedia\n",
      "G+S, matching failed : Laportea urentissima\n"
     ]
    },
    {
     "name": "stdout",
     "output_type": "stream",
     "text": [
      "G+S, matching failed : Nyssa yunnanensis\n",
      "G+S, matching failed : Otophora unilocularis\n",
      "G+S, matching failed : Phoebe nanmu\n"
     ]
    },
    {
     "name": "stdout",
     "output_type": "stream",
     "text": [
      "G+S, matching failed : Rhododendron fictolacteum\n",
      "G+S, matching failed : Rhododendron jucundum\n",
      "G+S+filtered authority, couln't find a unique match : Rhododendron rex\n",
      "G+S, matching failed : Semiliquidambar cathayensis\n"
     ]
    },
    {
     "name": "stdout",
     "output_type": "stream",
     "text": [
      "G+S, matching failed : Amoora dasyclada\n",
      "G+S, matching failed : Sinojackia dolichocarpa\n",
      "G+S, matching failed : Byrsophyllum ellipticum\n"
     ]
    },
    {
     "name": "stdout",
     "output_type": "stream",
     "text": [
      "G+S, matching failed : Lasianthus rhinophyllus\n"
     ]
    },
    {
     "name": "stdout",
     "output_type": "stream",
     "text": [
      "G+S, matching failed : Agrostistachys coriacea\n",
      "G+S, matching failed : Aporusa lanceolata\n"
     ]
    },
    {
     "name": "stdout",
     "output_type": "stream",
     "text": [
      "G+S, matching failed : Campnosperma zeylanica\n",
      "G+S, matching failed : Memecylon arnottianum\n"
     ]
    },
    {
     "name": "stdout",
     "output_type": "stream",
     "text": [
      "G+S, matching failed : Memecylon elegantulum\n",
      "G+S, matching failed : Memecylon gardneri\n",
      "G+S, matching failed : Semecarpus nigro-viridis\n"
     ]
    },
    {
     "name": "stdout",
     "output_type": "stream",
     "text": [
      "G+S, matching failed : Anodendron rhinosporum\n"
     ]
    },
    {
     "name": "stdout",
     "output_type": "stream",
     "text": [
      "G+S, matching failed : Cullenia ceylanica\n",
      "G+S, matching failed : Euonymus thwaitesii\n",
      "G+S, matching failed : Sauropus assimilis\n",
      "G+S, matching failed : Hydnocarpus octandra\n"
     ]
    },
    {
     "name": "stdout",
     "output_type": "stream",
     "text": [
      "G+S, matching failed : Psychotria stenophylla\n",
      "G+S, matching failed : Saprosma scabridum\n",
      "G+S, matching failed : Pseudocarapa championii\n"
     ]
    },
    {
     "name": "stdout",
     "output_type": "stream",
     "text": [
      "G+S+filtered authority, couln't find a unique match : Myristica ceylanica\n",
      "G+S, matching failed : Rapanea ceylanica\n",
      "G+S+filtered authority, couln't find a unique match : Psydrax dicoccos\n",
      "G+S, matching failed : Quiina colonensis\n"
     ]
    },
    {
     "name": "stdout",
     "output_type": "stream",
     "text": [
      "G+S, matching failed : Allophylus hispidus\n",
      "G+S, matching failed : Tovomitopsis faucis\n",
      "G+S, matching failed : Tovomitopsis membrillensis\n"
     ]
    },
    {
     "name": "stdout",
     "output_type": "stream",
     "text": [
      "G+S, matching failed : Pouteria congestifolia\n"
     ]
    },
    {
     "name": "stdout",
     "output_type": "stream",
     "text": [
      "G+S+filtered authority, couln't find a unique match : Dalbergia cochinchinensis\n",
      "G+S, matching failed : Pteleopsis tetraptera\n"
     ]
    },
    {
     "name": "stdout",
     "output_type": "stream",
     "text": [
      "G+S, matching failed : Ocotea argylei\n",
      "G+S, matching failed : Polyscias dichroostachya\n",
      "G+S, matching failed : Randia pleiomeris\n"
     ]
    },
    {
     "name": "stdout",
     "output_type": "stream",
     "text": [
      "G+S, matching failed : Hernandia hammelii\n"
     ]
    },
    {
     "name": "stdout",
     "output_type": "stream",
     "text": [
      "G+S, matching failed : Maytenus jefeana\n",
      "G+S, matching failed : Zinowiewia micrantha\n",
      "G+S, matching failed : Hampea dukei\n",
      "G+S, matching failed : Quararibea dolichosiphon\n",
      "G+S, matching failed : Monodora unwinii\n"
     ]
    },
    {
     "name": "stdout",
     "output_type": "stream",
     "text": [
      "G+S, matching failed : Staudtia pterocarpa\n",
      "G+S, matching failed : Ouratea quintasii\n",
      "G+S, matching failed : Anthonotha obanensis\n"
     ]
    },
    {
     "name": "stdout",
     "output_type": "stream",
     "text": [
      "G+S, matching failed : Vincentella densiflora\n"
     ]
    },
    {
     "name": "stdout",
     "output_type": "stream",
     "text": [
      "G+S, matching failed : Synsepalum glycydora\n"
     ]
    },
    {
     "name": "stdout",
     "output_type": "stream",
     "text": [
      "G+S, matching failed : Hannoa kitombetombe\n",
      "G+S, matching failed : Peddiea kivuensis\n"
     ]
    },
    {
     "name": "stdout",
     "output_type": "stream",
     "text": [
      "G+S, matching failed : Quercus bumelioides\n",
      "G+S, matching failed : Quercus skutchii\n"
     ]
    },
    {
     "name": "stdout",
     "output_type": "stream",
     "text": [
      "G+S, matching failed : Buchenavia hoehneana\n",
      "G+S, matching failed : Buchenavia kleinii\n",
      "G+S, matching failed : Acacia manubensis\n",
      "G+S+filtered authority, couln't find a unique match : Cordyla somalensis\n",
      "G+S, matching failed : Bennettiodendron cordatum\n"
     ]
    },
    {
     "name": "stdout",
     "output_type": "stream",
     "text": [
      "G+S, matching failed : Sapium triloculare\n",
      "G+S, matching failed : Enicosanthellum petelotii\n",
      "G+S, matching failed : Fagus longipetiolata\n"
     ]
    },
    {
     "name": "stdout",
     "output_type": "stream",
     "text": [
      "G+S+filtered authority, couln't find a unique match : Mouretia tonkinensis\n",
      "G+S, matching failed : Vismia pauciflora\n"
     ]
    },
    {
     "name": "stdout",
     "output_type": "stream",
     "text": [
      "G+S, matching failed : Ixonanthes khasiana\n",
      "G+S, matching failed : Quercus excelsa\n"
     ]
    },
    {
     "name": "stdout",
     "output_type": "stream",
     "text": [
      "G+S, matching failed : Mozartia maestrensis\n",
      "G+S, matching failed : Bombacopsis quinata\n",
      "G+S, matching failed : Laplacea curtyana\n"
     ]
    },
    {
     "name": "stdout",
     "output_type": "stream",
     "text": [
      "G+S, matching failed : Sterculia khasiana\n"
     ]
    },
    {
     "name": "stdout",
     "output_type": "stream",
     "text": [
      "G+S+filtered authority, couln't find a unique match : Prosopis laevigata\n",
      "G+S, matching failed : Albizia plurijuga\n"
     ]
    },
    {
     "name": "stdout",
     "output_type": "stream",
     "text": [
      "G+S, matching failed : Povedadaphne quadriporata\n",
      "G+S, matching failed : Victorinia regina\n"
     ]
    },
    {
     "name": "stdout",
     "output_type": "stream",
     "text": [
      "G+S, matching failed : Henriettea granularis\n",
      "G+S, matching failed : Acacia bucheri\n",
      "G+S, matching failed : Calycolpus excisus\n"
     ]
    },
    {
     "name": "stdout",
     "output_type": "stream",
     "text": [
      "G+S, matching failed : Dipterocarpus bourdilloni\n",
      "G+S, matching failed : Dipterocarpus eurynchus\n",
      "G+S, matching failed : Hopea mengerawan\n"
     ]
    },
    {
     "name": "stdout",
     "output_type": "stream",
     "text": [
      "G+S+filtered authority, couln't find a unique match : Shorea albida\n"
     ]
    },
    {
     "name": "stdout",
     "output_type": "stream",
     "text": [
      "G+S, matching failed : Acronychia porteri\n",
      "G+S+filtered authority, couln't find a unique match : Entandrophragma angolense\n",
      "G+S+filtered authority, couln't find a unique match : Adinandra integerrima\n"
     ]
    },
    {
     "name": "stdout",
     "output_type": "stream",
     "text": [
      "G+S, matching failed : Turraeanthus africana\n"
     ]
    },
    {
     "name": "stdout",
     "output_type": "stream",
     "text": [
      "G+S, matching failed : Shorea balangeran\n"
     ]
    },
    {
     "name": "stdout",
     "output_type": "stream",
     "text": [
      "G+S+filtered authority, couln't find a unique match : Calophyllum soulattri\n"
     ]
    },
    {
     "name": "stdout",
     "output_type": "stream",
     "text": [
      "G+S, matching failed : Artocarpus blancoi\n"
     ]
    },
    {
     "name": "stdout",
     "output_type": "stream",
     "text": [
      "G+S+filtered authority, couln't find a unique match : Shorea platyclados\n",
      "G+S, matching failed : Shorea palosapis\n"
     ]
    },
    {
     "name": "stdout",
     "output_type": "stream",
     "text": [
      "G+S, matching failed : Sapium luzonicum\n"
     ]
    },
    {
     "name": "stdout",
     "output_type": "stream",
     "text": [
      "G+S, matching failed : Rhodognaphalon brevicuspe\n",
      "G+S, matching failed : Vavaea bantamensis\n"
     ]
    },
    {
     "name": "stdout",
     "output_type": "stream",
     "text": [
      "G+S+filtered authority, couln't find a unique match : Canarium asperum\n",
      "G+S, matching failed : Octomeles sumatrana\n"
     ]
    },
    {
     "name": "stdout",
     "output_type": "stream",
     "text": [
      "G+S, matching failed : Artocarpus rubrovenus\n",
      "G+S, matching failed : Dillenia reifferscheidtia\n"
     ]
    },
    {
     "name": "stdout",
     "output_type": "stream",
     "text": [
      "G+S, matching failed : Intsia acuminata\n",
      "G+S, matching failed : Rollinia calcarata\n"
     ]
    },
    {
     "name": "stdout",
     "output_type": "stream",
     "text": [
      "G+S, matching failed : Eschweilera amazonicaformis\n",
      "G+S, matching failed : Rollinia boliviana\n",
      "G+S, matching failed : Rollinia ecuadorensis\n",
      "G+S, matching failed : Rollinia ferruginea\n"
     ]
    },
    {
     "name": "stdout",
     "output_type": "stream",
     "text": [
      "G+S, matching failed : Eschweilera subcordata\n"
     ]
    },
    {
     "name": "stdout",
     "output_type": "stream",
     "text": [
      "G+S, matching failed : Cariniana kuhlmannii\n",
      "G+S+filtered authority, couln't find a unique match : Cariniana ianeirensis\n",
      "G+S, matching failed : Cariniana pachyantha\n"
     ]
    },
    {
     "name": "stdout",
     "output_type": "stream",
     "text": [
      "G+S, matching failed : Rollinia amazonica\n",
      "G+S, matching failed : Securinega flexuosa\n",
      "G+S, matching failed : Hopea samarensis\n"
     ]
    },
    {
     "name": "stdout",
     "output_type": "stream",
     "text": [
      "G+S, matching failed : Hopea vaccinifolia\n",
      "G+S, matching failed : Dysoxylum turczaninowii\n",
      "G+S, matching failed : Sandoricum vidalii\n"
     ]
    },
    {
     "name": "stdout",
     "output_type": "stream",
     "text": [
      "G+S, matching failed : Aphanamixis cumingiana\n",
      "G+S, matching failed : Linociera ramiflora\n"
     ]
    },
    {
     "name": "stdout",
     "output_type": "stream",
     "text": [
      "G+S, matching failed : Neolitsea vidalii\n",
      "G+S, matching failed : Rollinia helosioides\n",
      "G+S, matching failed : Rollinia pickelii\n",
      "G+S, matching failed : Rollinia rufinervis\n",
      "G+S, matching failed : Rollinia ubatubensis\n"
     ]
    },
    {
     "name": "stdout",
     "output_type": "stream",
     "text": [
      "G+S, matching failed : Unonopsis velutina\n",
      "G+S, matching failed : Hopea hongayanensis\n"
     ]
    },
    {
     "name": "stdout",
     "output_type": "stream",
     "text": [
      "G+S+filtered authority, couln't find a unique match : Shorea falciferoides\n"
     ]
    },
    {
     "name": "stdout",
     "output_type": "stream",
     "text": [
      "G+S, matching failed : Garcinia kingii\n",
      "G+S, matching failed : Bridelia kurzii\n"
     ]
    },
    {
     "name": "stdout",
     "output_type": "stream",
     "text": [
      "G+S, matching failed : Nauclea gageana\n"
     ]
    },
    {
     "name": "stdout",
     "output_type": "stream",
     "text": [
      "G+S, matching failed : Stemonoporus moonii\n"
     ]
    },
    {
     "name": "stdout",
     "output_type": "stream",
     "text": [
      "G+S, matching failed : Prismatomeris andamanica\n",
      "G+S, matching failed : Cassine viburnifolia\n",
      "G+S, matching failed : Semecarpus ochracea\n"
     ]
    },
    {
     "name": "stdout",
     "output_type": "stream",
     "text": [
      "G+S, matching failed : Calophyllum mooni\n",
      "G+S, matching failed : Terminalia parviflora\n",
      "G+S, matching failed : Mastixia nimali\n",
      "G+S+filtered authority, couln't find a unique match : Dillenia triquetra\n",
      "G+S, matching failed : Aporusa cardiosperma\n"
     ]
    },
    {
     "name": "stdout",
     "output_type": "stream",
     "text": [
      "G+S, matching failed : Ostodes minor\n",
      "G+S, matching failed : Podadenia thwaitesii\n",
      "G+S+filtered authority, couln't find a unique match : Kibara coriacea\n"
     ]
    },
    {
     "name": "stdout",
     "output_type": "stream",
     "text": [
      "G+S+filtered authority, couln't find a unique match : Memecylon varians\n",
      "G+S, matching failed : Dysoxylum peerisi\n",
      "G+S, matching failed : Eugenia insignis\n"
     ]
    },
    {
     "name": "stdout",
     "output_type": "stream",
     "text": [
      "G+S, matching failed : Syzygium sylvestre\n",
      "G+S, matching failed : Syzygium phyllyraeoides\n",
      "G+S, matching failed : Ochna rufescens\n",
      "G+S, matching failed : Linociera albidiflora\n",
      "G+S, matching failed : Timonius jambosella\n",
      "G+S, matching failed : Uncaria thwaitesii\n"
     ]
    },
    {
     "name": "stdout",
     "output_type": "stream",
     "text": [
      "G+S, matching failed : Symplocos hispidula\n",
      "G+S, matching failed : Symplocos versicolor\n",
      "G+S, matching failed : Debregeasia ceylanica\n",
      "G+S, matching failed : Polyscias lionnetii\n"
     ]
    },
    {
     "name": "stdout",
     "output_type": "stream",
     "text": [
      "G+S+filtered authority, couln't find a unique match : Euphorbia olowaluana\n"
     ]
    },
    {
     "name": "stdout",
     "output_type": "stream",
     "text": [
      "G+S, matching failed : Cryptocarya elliptifolia\n",
      "G+S, matching failed : Paracalyx balfourii\n",
      "G+S, matching failed : Prunus marsupialis\n",
      "G+S+filtered authority, couln't find a unique match : Aphanamixis polystachya\n",
      "G+S, matching failed : Acalypha hontauyuensis\n",
      "G+S+filtered authority, couln't find a unique match : Commiphora ornifolia\n"
     ]
    },
    {
     "name": "stdout",
     "output_type": "stream",
     "text": [
      "G+S, matching failed : Labordia hirtella\n",
      "G+S, matching failed : Acacia villosa\n"
     ]
    },
    {
     "name": "stdout",
     "output_type": "stream",
     "text": [
      "G+S+filtered authority, couln't find a unique match : Shorea stenoptera\n",
      "G+S, matching failed : Prunus africana\n",
      "G+S, matching failed : Buchanania platyneura\n"
     ]
    },
    {
     "name": "stdout",
     "output_type": "stream",
     "text": [
      "G+S, matching failed : Elaeocarpus munronii\n",
      "G+S, matching failed : Pseudoglochidion anamalayanum\n",
      "G+S, matching failed : Gleditsia assamica\n"
     ]
    },
    {
     "name": "stdout",
     "output_type": "stream",
     "text": [
      "G+S, matching failed : Melicope saint-johnii\n",
      "G+S+filtered authority, couln't find a unique match : Ilex subtriflora\n",
      "G+S, matching failed : Maytenus harrisii\n"
     ]
    },
    {
     "name": "stdout",
     "output_type": "stream",
     "text": [
      "G+S, matching failed : Euonymus javanicus\n",
      "G+S+filtered authority, couln't find a unique match : Alangium javanicum\n"
     ]
    },
    {
     "name": "stdout",
     "output_type": "stream",
     "text": [
      "G+S+filtered authority, couln't find a unique match : Aglaia elaeagnoidea\n",
      "G+S+filtered authority, couln't find a unique match : Knema intermedia\n",
      "G+S, matching failed : Calyptranthes uniflora\n"
     ]
    },
    {
     "name": "stdout",
     "output_type": "stream",
     "text": [
      "G+S, matching failed : Arytera littoralis\n",
      "G+S, matching failed : Calyptranthes ekmanii\n"
     ]
    },
    {
     "name": "stdout",
     "output_type": "stream",
     "text": [
      "G+S, matching failed : Ternstroemia penangiana\n",
      "G+S, matching failed : Prunus polystachya\n"
     ]
    },
    {
     "name": "stdout",
     "output_type": "stream",
     "text": [
      "G+S, matching failed : Prunus arborea\n",
      "G+S, matching failed : Dendropanax ovalifolius\n",
      "G+S, matching failed : Psychotria domatiata\n"
     ]
    },
    {
     "name": "stdout",
     "output_type": "stream",
     "text": [
      "G+S, matching failed : Sebastiania fasciculata\n",
      "G+S, matching failed : Sebastiania spicata\n",
      "G+S, matching failed : Sebastiania alpina\n",
      "G+S, matching failed : Sebastiania crenulata\n",
      "G+S, matching failed : Sebastiania howardiana\n"
     ]
    },
    {
     "name": "stdout",
     "output_type": "stream",
     "text": [
      "G+S, matching failed : Ilex puberula\n",
      "G+S, matching failed : Symplocos tubulifera\n"
     ]
    },
    {
     "name": "stdout",
     "output_type": "stream",
     "text": [
      "G+S, matching failed : Eugenia acutisepala\n"
     ]
    },
    {
     "name": "stdout",
     "output_type": "stream",
     "text": [
      "G+S, matching failed : Eugenia pycnoneura\n",
      "G+S+filtered authority, couln't find a unique match : Cercis canadensis\n",
      "G+S, matching failed : Eugenia crassicaulis\n"
     ]
    },
    {
     "name": "stdout",
     "output_type": "stream",
     "text": [
      "G+S, matching failed : Eugenia kellyana\n",
      "G+S, matching failed : Conostegia grisebachii\n",
      "G+S, matching failed : Conostegia subprocera\n",
      "G+S, matching failed : Persea philippinensis\n"
     ]
    },
    {
     "name": "stdout",
     "output_type": "stream",
     "text": [
      "G+S, matching failed : Dendropanax grandis\n",
      "G+S, matching failed : Dendropanax portlandianus\n"
     ]
    },
    {
     "name": "stdout",
     "output_type": "stream",
     "text": [
      "G+S, matching failed : Rochefortia acrantha\n"
     ]
    },
    {
     "name": "stdout",
     "output_type": "stream",
     "text": [
      "G+S, matching failed : Rondeletia dolphinensis\n",
      "G+S, matching failed : Bhesa sinica\n"
     ]
    },
    {
     "name": "stdout",
     "output_type": "stream",
     "text": [
      "G+S+filtered authority, couln't find a unique match : Mollinedia longicuspidata\n"
     ]
    },
    {
     "name": "stdout",
     "output_type": "stream",
     "text": [
      "G+S, matching failed : Sapium aubrevillei\n",
      "G+S, matching failed : Ocotea pretiosa\n"
     ]
    },
    {
     "name": "stdout",
     "output_type": "stream",
     "text": [
      "G+S, matching failed : Lacunaria panamensis\n",
      "G+S, matching failed : Cola bracteata\n"
     ]
    },
    {
     "name": "stdout",
     "output_type": "stream",
     "text": [
      "G+S, matching failed : Bhesa paniculata\n"
     ]
    },
    {
     "name": "stdout",
     "output_type": "stream",
     "text": [
      "G+S+filtered authority, couln't find a unique match : Sterculia parviflora\n",
      "G+S+filtered authority, couln't find a unique match : Prosopis alba\n",
      "G+S+filtered authority, couln't find a unique match : Prosopis nigra\n",
      "G+S, matching failed : Rollinia chrysocarpa\n",
      "G+S, matching failed : Rollinia hispida\n"
     ]
    },
    {
     "name": "stdout",
     "output_type": "stream",
     "text": [
      "G+S, matching failed : Mimosa caesalpiniaefolia\n",
      "G+S, matching failed : Calyptranthes portoricensis\n"
     ]
    },
    {
     "name": "stdout",
     "output_type": "stream",
     "text": [
      "G+S, matching failed : Labordia kaalae\n",
      "G+S+filtered authority, couln't find a unique match : Clermontia grandiflora\n"
     ]
    },
    {
     "name": "stdout",
     "output_type": "stream",
     "text": [
      "G+S, matching failed : Ilex sintenisii\n",
      "G+S, matching failed : Dendroseris gigantea\n",
      "G+S, matching failed : Dendroseris micrantha\n",
      "G+S, matching failed : Dendroseris neriifolia\n"
     ]
    },
    {
     "name": "stdout",
     "output_type": "stream",
     "text": [
      "G+S, matching failed : Dendroseris pinnata\n",
      "G+S, matching failed : Dendroseris pruinata\n",
      "G+S, matching failed : Dendroseris regia\n",
      "G+S, matching failed : Stryphnodendron harbesonii\n",
      "G+S, matching failed : Dysoxylum palawanensis\n",
      "G+S, matching failed : Allophylus rhomboidalis\n"
     ]
    },
    {
     "name": "stdout",
     "output_type": "stream",
     "text": [
      "G+S, matching failed : Eugenia gramae-andersonii\n",
      "G+S, matching failed : Acacia permixta\n"
     ]
    },
    {
     "name": "stdout",
     "output_type": "stream",
     "text": [
      "G+S, matching failed : Bersama rosea\n"
     ]
    },
    {
     "name": "stdout",
     "output_type": "stream",
     "text": [
      "G+S, matching failed : Freycinetia auriculata\n",
      "G+S, matching failed : Dasymaschalon scandens\n",
      "G+S, matching failed : Mitrephora caudata\n",
      "G+S, matching failed : Orophea palawanensis\n",
      "G+S, matching failed : Orophea submaculata\n"
     ]
    },
    {
     "name": "stdout",
     "output_type": "stream",
     "text": [
      "G+S, matching failed : Polyalthia elmeri\n",
      "G+S, matching failed : Polyscias pulgarense\n",
      "G+S, matching failed : Schefflera albido-bracteata\n"
     ]
    },
    {
     "name": "stdout",
     "output_type": "stream",
     "text": [
      "G+S, matching failed : Antidesma obliquinervium\n",
      "G+S, matching failed : Drypetes palawanensis\n",
      "G+S, matching failed : Mallotus odoratus\n",
      "G+S, matching failed : Xylosma palawanense\n"
     ]
    },
    {
     "name": "stdout",
     "output_type": "stream",
     "text": [
      "G+S, matching failed : Prunus pulgarensis\n",
      "G+S, matching failed : Acacia ferruginea\n",
      "G+S, matching failed : Hernandia stokesii\n",
      "G+S, matching failed : Olearia angulata\n"
     ]
    },
    {
     "name": "stdout",
     "output_type": "stream",
     "text": [
      "G+S, matching failed : Vepris mandangoa\n",
      "G+S, matching failed : Zanthoxylum hartii\n",
      "G+S, matching failed : Acacia prasinata\n"
     ]
    },
    {
     "name": "stdout",
     "output_type": "stream",
     "text": [
      "G+S, matching failed : Acacia pseudonigrescens\n",
      "G+S, matching failed : Cassipourea thomassetii\n",
      "G+S, matching failed : Euphorbia nigrispinioides\n"
     ]
    },
    {
     "name": "stdout",
     "output_type": "stream",
     "text": [
      "G+S, matching failed : Maytenus harenensis\n",
      "G+S, matching failed : Acacia venosa\n"
     ]
    },
    {
     "name": "stdout",
     "output_type": "stream",
     "text": [
      "G+S, matching failed : Maytenus addat\n"
     ]
    },
    {
     "name": "stdout",
     "output_type": "stream",
     "text": [
      "G+S+filtered authority, couln't find a unique match : Miconia bipatrialis\n"
     ]
    },
    {
     "name": "stdout",
     "output_type": "stream",
     "text": [
      "G+S, matching failed : Rollinia bahiensis\n",
      "G+S, matching failed : Acacia visco\n"
     ]
    },
    {
     "name": "stdout",
     "output_type": "stream",
     "text": [
      "G+S+filtered authority, couln't find a unique match : Chytranthus obliquinervis\n",
      "G+S, matching failed : Aporusa elliptifolia\n",
      "G+S, matching failed : Ficus greiffiana\n"
     ]
    },
    {
     "name": "stdout",
     "output_type": "stream",
     "text": [
      "G+S, matching failed : Glochidion comitum\n",
      "G+S, matching failed : Ficus malacocarpa\n"
     ]
    },
    {
     "name": "stdout",
     "output_type": "stream",
     "text": [
      "G+S+filtered authority, couln't find a unique match : Matudaea trinervia\n",
      "G+S+filtered authority, couln't find a unique match : Ficus pallida\n",
      "G+S, matching failed : Ficus ramiflora\n"
     ]
    },
    {
     "name": "stdout",
     "output_type": "stream",
     "text": [
      "G+S, matching failed : Psychotria danceri\n",
      "G+S, matching failed : Acacia dolichostachya\n"
     ]
    },
    {
     "name": "stdout",
     "output_type": "stream",
     "text": [
      "G+S, matching failed : Pleurothyrium roberto-andinoi\n",
      "G+S, matching failed : Acacia condyloclada\n"
     ]
    },
    {
     "name": "stdout",
     "output_type": "stream",
     "text": [
      "G+S, matching failed : Allophylus zimmermannianus\n"
     ]
    },
    {
     "name": "stdout",
     "output_type": "stream",
     "text": [
      "G+S, matching failed : Durio acutifolius\n",
      "G+S, matching failed : Alangium griffithi\n"
     ]
    },
    {
     "name": "stdout",
     "output_type": "stream",
     "text": [
      "G+S, matching failed : Crudia splendens\n",
      "G+S, matching failed : Acacia caraniana\n",
      "G+S, matching failed : Acacia robynsiana\n"
     ]
    },
    {
     "name": "stdout",
     "output_type": "stream",
     "text": [
      "G+S, matching failed : Acacia schlechteri\n"
     ]
    },
    {
     "name": "stdout",
     "output_type": "stream",
     "text": [
      "G+S, matching failed : Maytenus dhofarensis\n",
      "G+S, matching failed : Anogeissus dhofarica\n",
      "G+S, matching failed : Garcinia scortechinii\n"
     ]
    },
    {
     "name": "stdout",
     "output_type": "stream",
     "text": [
      "G+S, matching failed : Knema hookerana\n",
      "G+S, matching failed : Eugenia ridleyi\n",
      "G+S, matching failed : Eugenia scortechinii\n"
     ]
    },
    {
     "name": "stdout",
     "output_type": "stream",
     "text": [
      "G+S, matching failed : Scleropyrum wallichianum\n",
      "G+S, matching failed : Durio grandiflorus\n",
      "G+S, matching failed : Durio testudinarum\n"
     ]
    },
    {
     "name": "stdout",
     "output_type": "stream",
     "text": [
      "G+S+filtered authority, couln't find a unique match : Schinus engleri\n"
     ]
    },
    {
     "name": "stdout",
     "output_type": "stream",
     "text": [
      "G+S, matching failed : Horsfieldia valida\n",
      "G+S, matching failed : Prunus kinabaluensis\n",
      "G+S, matching failed : Prunus laxinervis\n"
     ]
    },
    {
     "name": "stdout",
     "output_type": "stream",
     "text": [
      "G+S, matching failed : Prunus turfosa\n",
      "G+S, matching failed : Quercus zempoaltepecana\n",
      "G+S, matching failed : Kibatalia wigmani\n"
     ]
    },
    {
     "name": "stdout",
     "output_type": "stream",
     "text": [
      "G+S+filtered authority, couln't find a unique match : Zanthoxylum holtzianum\n",
      "G+S, matching failed : Tabebuia lapacho\n"
     ]
    },
    {
     "name": "stdout",
     "output_type": "stream",
     "text": [
      "G+S+filtered authority, couln't find a unique match : Ruprechtia apetala\n"
     ]
    },
    {
     "name": "stdout",
     "output_type": "stream",
     "text": [
      "G+S, matching failed : Acacia furcatispina\n"
     ]
    },
    {
     "name": "stdout",
     "output_type": "stream",
     "text": [
      "G+S, matching failed : Myristica succadanea\n"
     ]
    },
    {
     "name": "stdout",
     "output_type": "stream",
     "text": [
      "G+S, matching failed : Alyxia taiwanensis\n",
      "G+S, matching failed : Mahonia oiwakensis\n"
     ]
    },
    {
     "name": "stdout",
     "output_type": "stream",
     "text": [
      "G+S, matching failed : Prunus korshinskyi\n",
      "G+S, matching failed : Spathandra barteri\n"
     ]
    },
    {
     "name": "stdout",
     "output_type": "stream",
     "text": [
      "G+S, matching failed : Guarea mayombensis\n",
      "G+S, matching failed : Memecylon bequaertii\n"
     ]
    },
    {
     "name": "stdout",
     "output_type": "stream",
     "text": [
      "G+S, matching failed : Millettia psilopetela\n"
     ]
    },
    {
     "name": "stdout",
     "output_type": "stream",
     "text": [
      "G+S, matching failed : Tapiphyllum schliebenii\n"
     ]
    },
    {
     "name": "stdout",
     "output_type": "stream",
     "text": [
      "G+S, matching failed : Brachychiton velutinosus\n"
     ]
    },
    {
     "name": "stdout",
     "output_type": "stream",
     "text": [
      "G+S, matching failed : Maytenus oleosa\n",
      "G+S, matching failed : Tephrosia pondoensis\n"
     ]
    },
    {
     "name": "stdout",
     "output_type": "stream",
     "text": [
      "G+S, matching failed : Maytenus abbottii\n",
      "G+S, matching failed : Flueggea anatolica\n"
     ]
    },
    {
     "name": "stdout",
     "output_type": "stream",
     "text": [
      "G+S+filtered authority, couln't find a unique match : Euphorbia atoto\n",
      "G+S, matching failed : Omalanthus stokesii\n"
     ]
    },
    {
     "name": "stdout",
     "output_type": "stream",
     "text": [
      "G+S, matching failed : Hernandia tahitensis\n"
     ]
    },
    {
     "name": "stdout",
     "output_type": "stream",
     "text": [
      "G+S, matching failed : Austromyrtus horizontalis\n",
      "G+S, matching failed : Austromyrtus lotoides\n",
      "G+S, matching failed : Guettarda noumeana\n"
     ]
    },
    {
     "name": "stdout",
     "output_type": "stream",
     "text": [
      "G+S, matching failed : Alstonia marquisensis\n"
     ]
    },
    {
     "name": "stdout",
     "output_type": "stream",
     "text": [
      "G+S, matching failed : Glochidion longfieldiae\n",
      "G+S, matching failed : Glochidion manono\n",
      "G+S, matching failed : Glochidion moorei\n",
      "G+S, matching failed : Glochidion raivavense\n",
      "G+S, matching failed : Glochidion taitense\n",
      "G+S, matching failed : Glochidion temehaniense\n",
      "G+S, matching failed : Acacia densispina\n"
     ]
    },
    {
     "name": "stdout",
     "output_type": "stream",
     "text": [
      "G+S, matching failed : Geniostoma quadrangulare\n",
      "G+S, matching failed : Acacia flagellaris\n",
      "G+S, matching failed : Acacia ochracea\n",
      "G+S, matching failed : Acacia moggii\n"
     ]
    },
    {
     "name": "stdout",
     "output_type": "stream",
     "text": [
      "G+S, matching failed : Myodocarpus angustialatus\n",
      "G+S+filtered authority, couln't find a unique match : Myrsine collina\n",
      "G+S, matching failed : Polyscias nothisii\n",
      "G+S, matching failed : Schefflera apioidea\n"
     ]
    },
    {
     "name": "stdout",
     "output_type": "stream",
     "text": [
      "G+S, matching failed : Myrsine ronuiensis\n",
      "G+S, matching failed : Pisonia graciliscens\n",
      "G+S, matching failed : Pisonia siphonocarpa\n"
     ]
    },
    {
     "name": "stdout",
     "output_type": "stream",
     "text": [
      "G+S, matching failed : Distylium gracile\n",
      "G+S, matching failed : Buddleja formosana\n",
      "G+S, matching failed : Ligustrum microcarpum\n",
      "G+S, matching failed : Citrus taiwanica\n",
      "G+S, matching failed : Symplocos shilanensis\n"
     ]
    },
    {
     "name": "stdout",
     "output_type": "stream",
     "text": [
      "G+S, matching failed : Cinnamomum kanahirae\n",
      "G+S+filtered authority, couln't find a unique match : Crotonogyne manniana\n",
      "G+S, matching failed : Acacia cernua\n"
     ]
    },
    {
     "name": "stdout",
     "output_type": "stream",
     "text": [
      "G+S, matching failed : Holmskioldia gigas\n"
     ]
    },
    {
     "name": "stdout",
     "output_type": "stream",
     "text": [
      "G+S+filtered authority, couln't find a unique match : Aiouea bracteata\n",
      "G+S, matching failed : Brunellia darienensis\n"
     ]
    },
    {
     "name": "stdout",
     "output_type": "stream",
     "text": [
      "G+S, matching failed : Pittosporum stenophyllum\n"
     ]
    },
    {
     "name": "stdout",
     "output_type": "stream",
     "text": [
      "G+S, matching failed : Boronella koniamboensis\n",
      "G+S+filtered authority, couln't find a unique match : Archidendropsis paivana\n"
     ]
    },
    {
     "name": "stdout",
     "output_type": "stream",
     "text": [
      "G+S+filtered authority, couln't find a unique match : Cassia artensis\n",
      "G+S, matching failed : Tapeinosperma campanula\n",
      "G+S, matching failed : Cupheanthus microphyllus\n"
     ]
    },
    {
     "name": "stdout",
     "output_type": "stream",
     "text": [
      "G+S, matching failed : Eugenia virotii\n"
     ]
    },
    {
     "name": "stdout",
     "output_type": "stream",
     "text": [
      "G+S, matching failed : Pittosporum gomonenense\n",
      "G+S, matching failed : Brunellia antioquensis\n"
     ]
    },
    {
     "name": "stdout",
     "output_type": "stream",
     "text": [
      "G+S, matching failed : Calatola columbiana\n",
      "G+S, matching failed : Oxanthera aurantium\n",
      "G+S, matching failed : Oxanthera brevipes\n",
      "G+S, matching failed : Oxanthera fragrans\n",
      "G+S, matching failed : Oxanthera neocaledonica\n"
     ]
    },
    {
     "name": "stdout",
     "output_type": "stream",
     "text": [
      "G+S, matching failed : Tabernaemontana heyneana\n",
      "G+S+filtered authority, couln't find a unique match : Campomanesia lundiana\n"
     ]
    },
    {
     "name": "stdout",
     "output_type": "stream",
     "text": [
      "G+S, matching failed : Campomanesia viatoris\n",
      "G+S, matching failed : Cariniana integrifolia\n",
      "G+S, matching failed : Cariniana pauciramosa\n",
      "G+S, matching failed : Stemmadenia pauli\n",
      "G+S, matching failed : Stemmadenia tomentosa\n"
     ]
    },
    {
     "name": "stdout",
     "output_type": "stream",
     "text": [
      "G+S, matching failed : Ceiba rosea\n"
     ]
    },
    {
     "name": "stdout",
     "output_type": "stream",
     "text": [
      "G+S+filtered authority, couln't find a unique match : Conostegia superba\n",
      "G+S, matching failed : Temnocalyx nodulosus\n"
     ]
    },
    {
     "name": "stdout",
     "output_type": "stream",
     "text": [
      "G+S, matching failed : Campylospermum scheffleri\n"
     ]
    },
    {
     "name": "stdout",
     "output_type": "stream",
     "text": [
      "G+S, matching failed : Lasianthus grandifolius\n",
      "G+S, matching failed : Multidentia castaneae\n"
     ]
    },
    {
     "name": "stdout",
     "output_type": "stream",
     "text": [
      "G+S+filtered authority, couln't find a unique match : Pavetta holstii\n",
      "G+S, matching failed : Coussapoa tolimensis\n"
     ]
    },
    {
     "name": "stdout",
     "output_type": "stream",
     "text": [
      "G+S, matching failed : Eschweilera longirachis\n"
     ]
    },
    {
     "name": "stdout",
     "output_type": "stream",
     "text": [
      "G+S, matching failed : Eugenia virgultosa\n",
      "G+S, matching failed : Guapira rotundifolia\n"
     ]
    },
    {
     "name": "stdout",
     "output_type": "stream",
     "text": [
      "G+S, matching failed : Hyeronima clusioides\n",
      "G+S, matching failed : Hyeronima jamaicensis\n",
      "G+S, matching failed : Ilex vaccinoides\n"
     ]
    },
    {
     "name": "stdout",
     "output_type": "stream",
     "text": [
      "G+S, matching failed : Manilkara bella\n",
      "G+S+filtered authority, couln't find a unique match : Nectandra citrifolia\n"
     ]
    },
    {
     "name": "stdout",
     "output_type": "stream",
     "text": [
      "G+S, matching failed : Maytenus clarendonensis\n",
      "G+S, matching failed : Nectandra leucocome\n",
      "G+S, matching failed : Maytenus crassipes\n"
     ]
    },
    {
     "name": "stdout",
     "output_type": "stream",
     "text": [
      "G+S, matching failed : Nectandra bicolor\n"
     ]
    },
    {
     "name": "stdout",
     "output_type": "stream",
     "text": [
      "G+S, matching failed : Nectandra rudis\n",
      "G+S, matching failed : Nectandra smithii\n"
     ]
    },
    {
     "name": "stdout",
     "output_type": "stream",
     "text": [
      "G+S, matching failed : Pithecellobium pithecolobioides\n",
      "G+S, matching failed : Neosprucea sararensis\n"
     ]
    },
    {
     "name": "stdout",
     "output_type": "stream",
     "text": [
      "G+S+filtered authority, couln't find a unique match : Dasylepis integra\n",
      "G+S, matching failed : Perebea glabrifolia\n"
     ]
    },
    {
     "name": "stdout",
     "output_type": "stream",
     "text": [
      "G+S, matching failed : Pimenta podocarpoides\n",
      "G+S, matching failed : Piper verrucosum\n"
     ]
    },
    {
     "name": "stdout",
     "output_type": "stream",
     "text": [
      "G+S, matching failed : Pouteria moaensis\n"
     ]
    },
    {
     "name": "stdout",
     "output_type": "stream",
     "text": [
      "G+S, matching failed : Acacia origena\n"
     ]
    },
    {
     "name": "stdout",
     "output_type": "stream",
     "text": [
      "G+S, matching failed : Commiphora albiflora\n",
      "G+S+filtered authority, couln't find a unique match : Commiphora guidottii\n",
      "G+S, matching failed : Pouteria brevensis\n"
     ]
    },
    {
     "name": "stdout",
     "output_type": "stream",
     "text": [
      "G+S, matching failed : Pouteria longifolia\n"
     ]
    },
    {
     "name": "stdout",
     "output_type": "stream",
     "text": [
      "G+S, matching failed : Pouteria peduncularis\n"
     ]
    },
    {
     "name": "stdout",
     "output_type": "stream",
     "text": [
      "G+S, matching failed : Burretiodendron tonkinense\n",
      "G+S, matching failed : Pradosia atroviolacea\n",
      "G+S, matching failed : Bursera tonkinensis\n"
     ]
    },
    {
     "name": "stdout",
     "output_type": "stream",
     "text": [
      "G+S, matching failed : Rollinia andicola\n",
      "G+S, matching failed : Pradosia verrucosa\n",
      "G+S, matching failed : Rollinia centrantha\n",
      "G+S, matching failed : Rollinia fendleri\n",
      "G+S, matching failed : Phoebe poilanei\n"
     ]
    },
    {
     "name": "stdout",
     "output_type": "stream",
     "text": [
      "G+S, matching failed : Dalbergia annamensis\n",
      "G+S, matching failed : Psychotria dolichantha\n",
      "G+S, matching failed : Enicosanthellum plagioneurum\n",
      "G+S, matching failed : Huodendron parvifolium\n"
     ]
    },
    {
     "name": "stdout",
     "output_type": "stream",
     "text": [
      "G+S, matching failed : Quercus flagellifera\n",
      "G+S, matching failed : Rapanea allenii\n",
      "G+S, matching failed : Rollinia herzogii\n",
      "G+S, matching failed : Sideroxylon rotundifolium\n"
     ]
    },
    {
     "name": "stdout",
     "output_type": "stream",
     "text": [
      "G+S, matching failed : Rollinia pachyantha\n",
      "G+S, matching failed : Rollinia parviflora\n",
      "G+S, matching failed : Rollinia velutina\n",
      "G+S, matching failed : Rollinia xylopiifolia\n"
     ]
    },
    {
     "name": "stdout",
     "output_type": "stream",
     "text": [
      "G+S, matching failed : Tetragastris tomentosa\n",
      "G+S, matching failed : Potameia lotungensis\n"
     ]
    },
    {
     "name": "stdout",
     "output_type": "stream",
     "text": [
      "G+S, matching failed : Sideroxylon angustum\n",
      "G+S, matching failed : Sideroxylon confertum\n"
     ]
    },
    {
     "name": "stdout",
     "output_type": "stream",
     "text": [
      "G+S, matching failed : Pausinystalia brachythyrsum\n"
     ]
    },
    {
     "name": "stdout",
     "output_type": "stream",
     "text": [
      "G+S, matching failed : Freziera retinveria\n"
     ]
    },
    {
     "name": "stdout",
     "output_type": "stream",
     "text": [
      "G+S, matching failed : Trichilia stellato-tomentosa\n",
      "G+S, matching failed : Freziera varibrateata\n"
     ]
    },
    {
     "name": "stdout",
     "output_type": "stream",
     "text": [
      "G+S, matching failed : Bonnetia jauensis\n",
      "G+S, matching failed : Dicypellium caryophyllaceum\n"
     ]
    },
    {
     "name": "stdout",
     "output_type": "stream",
     "text": [
      "G+S, matching failed : Wallenia grisebachii\n",
      "G+S, matching failed : Xylopia longifolia\n"
     ]
    },
    {
     "name": "stdout",
     "output_type": "stream",
     "text": [
      "G+S, matching failed : Xylosma obovatum\n",
      "G+S, matching failed : Ziziphus mistol\n",
      "G+S, matching failed : Freziera friedrichsthailana\n",
      "G+S, matching failed : Nectandra salicina\n"
     ]
    },
    {
     "name": "stdout",
     "output_type": "stream",
     "text": [
      "G+S, matching failed : Capparis mollicella\n",
      "G+S, matching failed : Sapium bourgeaui\n",
      "G+S, matching failed : Coccoloba matudae\n"
     ]
    },
    {
     "name": "stdout",
     "output_type": "stream",
     "text": [
      "G+S, matching failed : Rondeletia galeottii\n",
      "G+S, matching failed : Nectandra cufodontisii\n",
      "G+S+filtered authority, couln't find a unique match : Nectandra warmingii\n",
      "G+S, matching failed : Freziera biserrata\n",
      "G+S, matching failed : Freziera ciliata\n"
     ]
    },
    {
     "name": "stdout",
     "output_type": "stream",
     "text": [
      "G+S+filtered authority, couln't find a unique match : Ficus pulchella\n",
      "G+S, matching failed : Cyphomandra diploconos\n"
     ]
    },
    {
     "name": "stdout",
     "output_type": "stream",
     "text": [
      "G+S, matching failed : Dicraeopetalum capuroniana\n",
      "G+S, matching failed : Dicraeopetalum mahafaliensis\n"
     ]
    },
    {
     "name": "stdout",
     "output_type": "stream",
     "text": [
      "G+S, matching failed : Hederopsis major\n",
      "G+S, matching failed : Hederopsis maingayi\n",
      "G+S+filtered authority, couln't find a unique match : Litsea hirsutissima\n",
      "G+S, matching failed : Schefflera sp. nov. 'nanocephala'\n"
     ]
    },
    {
     "name": "stdout",
     "output_type": "stream",
     "text": [
      "G+S, matching failed : Lagerstroemia anisoptera\n",
      "G+S+filtered authority, couln't find a unique match : Memecylon corticosum\n",
      "G+S, matching failed : Elaeocarpus apiculatus\n"
     ]
    },
    {
     "name": "stdout",
     "output_type": "stream",
     "text": [
      "G+S, matching failed : Rapanea perakensis\n",
      "G+S, matching failed : Eugenia dyeriana\n",
      "G+S, matching failed : Eugenia plumbea\n",
      "G+S, matching failed : Elaeocarpus glabrescens\n",
      "G+S, matching failed : Eugenia porphyrantha\n",
      "G+S, matching failed : Eugenia stapfiana\n"
     ]
    },
    {
     "name": "stdout",
     "output_type": "stream",
     "text": [
      "G+S, matching failed : Xanthophyllum monticolum\n",
      "G+S, matching failed : Elaeocarpus sallehiana\n",
      "G+S, matching failed : Colubrina anomala\n",
      "G+S, matching failed : Anisophyllea reticulata\n"
     ]
    },
    {
     "name": "stdout",
     "output_type": "stream",
     "text": [
      "G+S, matching failed : Macaranga quadricornis\n",
      "G+S, matching failed : Carallia euryoides\n",
      "G+S, matching failed : Glycosmis monticola\n",
      "G+S, matching failed : Terminthodia viridiflora\n",
      "G+S, matching failed : Garcinia eugeniaefolia\n"
     ]
    },
    {
     "name": "stdout",
     "output_type": "stream",
     "text": [
      "G+S, matching failed : Alseodaphne macrantha\n",
      "G+S, matching failed : Beilschmiedia brevipes\n"
     ]
    },
    {
     "name": "stdout",
     "output_type": "stream",
     "text": [
      "G+S+filtered authority, couln't find a unique match : Litsea spathacea\n",
      "G+S, matching failed : Neolitsea kedahense\n"
     ]
    },
    {
     "name": "stdout",
     "output_type": "stream",
     "text": [
      "G+S, matching failed : Rawsonia reticulata\n",
      "G+S, matching failed : Terminalia hararensis\n",
      "G+S, matching failed : Terminalia hecistocarpa\n",
      "G+S, matching failed : Calpocalyx ngouiensis\n"
     ]
    },
    {
     "name": "stdout",
     "output_type": "stream",
     "text": [
      "G+S, matching failed : Pandanus parvicentralis\n",
      "G+S, matching failed : Verbesina pseudoclausseni\n",
      "G+S, matching failed : Crudia balachandrae\n",
      "G+S, matching failed : Dichapetalum costaricense\n"
     ]
    },
    {
     "name": "stdout",
     "output_type": "stream",
     "text": [
      "G+S, matching failed : Tapura letestui\n"
     ]
    },
    {
     "name": "stdout",
     "output_type": "stream",
     "text": [
      "G+S, matching failed : Freziera rufescens\n",
      "G+S, matching failed : Hypericum gnidiifolium\n"
     ]
    },
    {
     "name": "stdout",
     "output_type": "stream",
     "text": [
      "G+S, matching failed : Athyana weinmannifolia\n"
     ]
    },
    {
     "name": "stdout",
     "output_type": "stream",
     "text": [
      "G+S, matching failed : Albizia edwarllii\n"
     ]
    },
    {
     "name": "stdout",
     "output_type": "stream",
     "text": [
      "G+S, matching failed : Albizia decandra\n",
      "G+S, matching failed : Hydrochorea acreana\n"
     ]
    },
    {
     "name": "stdout",
     "output_type": "stream",
     "text": [
      "G+S+filtered authority, couln't find a unique match : Chionanthus fluminensis\n",
      "G+S, matching failed : Hymenopus conferruminatus\n"
     ]
    },
    {
     "name": "stdout",
     "output_type": "stream",
     "text": [
      "G+S+filtered authority, couln't find a unique match : Chloroleucon tortum\n",
      "G+S, matching failed : Malmea cuspidata\n"
     ]
    },
    {
     "name": "stdout",
     "output_type": "stream",
     "text": [
      "G+S, matching failed : Aglaia bourdillonii\n",
      "G+S, matching failed : Aglaia variisquama\n"
     ]
    },
    {
     "name": "stdout",
     "output_type": "stream",
     "text": [
      "G+S, matching failed : Aglaia yzermannii\n"
     ]
    },
    {
     "name": "stdout",
     "output_type": "stream",
     "text": [
      "G+S, matching failed : Aglaia subsesilis\n",
      "G+S, matching failed : Aglaia pyriformis\n"
     ]
    },
    {
     "name": "stdout",
     "output_type": "stream",
     "text": [
      "G+S, matching failed : Aglaia archiboldiana\n",
      "G+S, matching failed : Aglaia malabarica\n",
      "G+S, matching failed : Machaerium cuzcoense\n",
      "G+S, matching failed : Macrocnemum pilosinervium\n"
     ]
    },
    {
     "name": "stdout",
     "output_type": "stream",
     "text": [
      "G+S, matching failed : Myrsine pearce\n",
      "G+S, matching failed : Myrsine rivularis\n",
      "G+S, matching failed : Ocotea otuzcensis\n"
     ]
    },
    {
     "name": "stdout",
     "output_type": "stream",
     "text": [
      "G+S, matching failed : Pamphilia vilcabambae\n",
      "G+S, matching failed : Pentagonia rubiflora\n",
      "G+S, matching failed : Aequatorium rimachianum\n"
     ]
    },
    {
     "name": "stdout",
     "output_type": "stream",
     "text": [
      "G+S, matching failed : Ardisia martinensis\n",
      "G+S, matching failed : Bauhinia augusti\n"
     ]
    },
    {
     "name": "stdout",
     "output_type": "stream",
     "text": [
      "G+S, matching failed : Calliandra decrescens\n",
      "G+S, matching failed : Calyptranthes brevispicata\n",
      "G+S, matching failed : Dipteryx charapilla\n"
     ]
    },
    {
     "name": "stdout",
     "output_type": "stream",
     "text": [
      "G+S, matching failed : Capparis sprucei\n",
      "G+S+filtered authority, couln't find a unique match : Caraipa jaramilloi\n",
      "G+S, matching failed : Cecropia multiflora\n",
      "G+S, matching failed : Cecropia tubulosa\n",
      "G+S, matching failed : Centronia peruviana\n"
     ]
    },
    {
     "name": "stdout",
     "output_type": "stream",
     "text": [
      "G+S, matching failed : Citharexylum quereifolium\n",
      "G+S, matching failed : Condaminea glabrata\n"
     ]
    },
    {
     "name": "stdout",
     "output_type": "stream",
     "text": [
      "G+S, matching failed : Ladenbergia gavanensis\n",
      "G+S, matching failed : Ladenbergia ulei\n"
     ]
    },
    {
     "name": "stdout",
     "output_type": "stream",
     "text": [
      "G+S, matching failed : Lupinus macbrideanus\n",
      "G+S+filtered authority, couln't find a unique match : Euplassa isernii\n",
      "G+S, matching failed : Psychotria woytkowskii\n"
     ]
    },
    {
     "name": "stdout",
     "output_type": "stream",
     "text": [
      "G+S, matching failed : Rondeletia peruviana\n",
      "G+S, matching failed : Roupala sphenophyllum\n",
      "G+S, matching failed : Rudgea microcarpa\n",
      "G+S, matching failed : Guettarda ochreata\n"
     ]
    },
    {
     "name": "stdout",
     "output_type": "stream",
     "text": [
      "G+S, matching failed : Ilex caniensis\n",
      "G+S, matching failed : Ilex lechleri\n",
      "G+S, matching failed : Ilex mathewsii\n",
      "G+S, matching failed : Inga augusti\n"
     ]
    },
    {
     "name": "stdout",
     "output_type": "stream",
     "text": [
      "G+S, matching failed : Kotchubaea montana\n"
     ]
    },
    {
     "name": "stdout",
     "output_type": "stream",
     "text": [
      "G+S, matching failed : Weinmannia ueli\n",
      "G+S, matching failed : Sebastiania huallagensis\n"
     ]
    },
    {
     "name": "stdout",
     "output_type": "stream",
     "text": [
      "G+S, matching failed : Zygia oriunda\n",
      "G+S, matching failed : Styrax argyrophyllus\n"
     ]
    },
    {
     "name": "stdout",
     "output_type": "stream",
     "text": [
      "G+S, matching failed : Knema pierrei\n",
      "G+S, matching failed : Styrax ferax\n",
      "G+S, matching failed : Styrax mathewsii\n",
      "G+S, matching failed : Styrax peruvianum\n",
      "G+S, matching failed : Styrax socialis\n"
     ]
    },
    {
     "name": "stdout",
     "output_type": "stream",
     "text": [
      "G+S, matching failed : Symplocos lugubris\n",
      "G+S+filtered authority, couln't find a unique match : Symplocos mezii\n",
      "G+S, matching failed : Topobea pascoensis\n"
     ]
    },
    {
     "name": "stdout",
     "output_type": "stream",
     "text": [
      "G+S, matching failed : Horsfieldia obscurineria\n"
     ]
    },
    {
     "name": "stdout",
     "output_type": "stream",
     "text": [
      "G+S, matching failed : Horsfieldia samarensis\n"
     ]
    },
    {
     "name": "stdout",
     "output_type": "stream",
     "text": [
      "G+S, matching failed : Myristica ampliata\n",
      "G+S, matching failed : Myristica atresens\n"
     ]
    },
    {
     "name": "stdout",
     "output_type": "stream",
     "text": [
      "G+S, matching failed : Myristica polyantha\n",
      "G+S, matching failed : Guioa novobritannica\n",
      "G+S, matching failed : Guioa normanbiensis\n"
     ]
    },
    {
     "name": "stdout",
     "output_type": "stream",
     "text": [
      "G+S, matching failed : Myristica longipetiolata\n",
      "G+S, matching failed : Myristica magnifica\n",
      "G+S, matching failed : Cupaniopsis phanerophleibia\n"
     ]
    },
    {
     "name": "stdout",
     "output_type": "stream",
     "text": [
      "G+S, matching failed : Prunus clementis\n",
      "G+S, matching failed : Prunus rubiginosa\n",
      "G+S, matching failed : Prunus subglabra\n"
     ]
    },
    {
     "name": "stdout",
     "output_type": "stream",
     "text": [
      "G+S, matching failed : Ardisia zakii\n",
      "G+S, matching failed : Ardisia websterii\n"
     ]
    },
    {
     "name": "stdout",
     "output_type": "stream",
     "text": [
      "G+S, matching failed : Kibatalia longifolia\n"
     ]
    },
    {
     "name": "stdout",
     "output_type": "stream",
     "text": [
      "G+S+filtered authority, couln't find a unique match : Saurauia bracteosa\n",
      "G+S, matching failed : Saurauia lanceolata\n",
      "G+S, matching failed : Pithecellobium stevensonii\n"
     ]
    },
    {
     "name": "stdout",
     "output_type": "stream",
     "text": [
      "G+S+filtered authority, couln't find a unique match : Quararibea yunckeri\n",
      "G+S, matching failed : Cassine koordersii\n",
      "G+S, matching failed : Zanthoxylum belizense\n",
      "G+S, matching failed : Zanthoxylum procerum\n"
     ]
    },
    {
     "name": "stdout",
     "output_type": "stream",
     "text": [
      "G+S, matching failed : Dehaasia chatacea\n",
      "G+S, matching failed : Limnocitrus littoralis\n"
     ]
    },
    {
     "name": "stdout",
     "output_type": "stream",
     "text": [
      "G+S, matching failed : Oxera cauliflora\n",
      "G+S, matching failed : Oxera macrocalyx\n",
      "G+S, matching failed : Vitex evoluta\n",
      "G+S, matching failed : Conceveiba macrostachys\n"
     ]
    },
    {
     "name": "stdout",
     "output_type": "stream",
     "text": [
      "G+S, matching failed : Agonandra loranthoides\n",
      "G+S, matching failed : Chodanthus montecillensis\n",
      "G+S, matching failed : Colubrina hondurensis\n"
     ]
    },
    {
     "name": "stdout",
     "output_type": "stream",
     "text": [
      "G+S, matching failed : Mollinedia ruae\n",
      "G+S, matching failed : Neea acuminatissima\n",
      "G+S, matching failed : Quiina schippii\n"
     ]
    },
    {
     "name": "stdout",
     "output_type": "stream",
     "text": [
      "G+S, matching failed : Vitex kuylenii\n"
     ]
    },
    {
     "name": "stdout",
     "output_type": "stream",
     "text": [
      "G+S, matching failed : Mangifera austro-yunnanensis\n",
      "G+S, matching failed : Mangifera acutigemma\n"
     ]
    },
    {
     "name": "stdout",
     "output_type": "stream",
     "text": [
      "G+S, matching failed : Mangifera persiciformis\n",
      "G+S, matching failed : Mangifera taipa\n"
     ]
    },
    {
     "name": "stdout",
     "output_type": "stream",
     "text": [
      "G+S, matching failed : Aglaia cinnamomea\n",
      "G+S, matching failed : Grewia salicifolia\n"
     ]
    },
    {
     "name": "stdout",
     "output_type": "stream",
     "text": [
      "G+S, matching failed : Euphorbia santapauii\n",
      "G+S, matching failed : Euphorbia mayurnathanii\n",
      "G+S, matching failed : Anisophyllea chartacea\n",
      "G+S, matching failed : Kayea coriacea\n",
      "G+S, matching failed : Kayea macrophylla\n"
     ]
    },
    {
     "name": "stdout",
     "output_type": "stream",
     "text": [
      "G+S, matching failed : Anisophyllea nitida\n"
     ]
    },
    {
     "name": "stdout",
     "output_type": "stream",
     "text": [
      "G+S, matching failed : Schefflera veitchii\n",
      "G+S, matching failed : Osmoxylon miquelli\n"
     ]
    },
    {
     "name": "stdout",
     "output_type": "stream",
     "text": [
      "G+S, matching failed : Osmoxylon corneri\n",
      "G+S, matching failed : Calophyllum neo-ebudicum\n"
     ]
    },
    {
     "name": "stdout",
     "output_type": "stream",
     "text": [
      "G+S, matching failed : Haplolobus bintuluensis\n",
      "G+S, matching failed : Haplolobus sarawakanus\n",
      "G+S, matching failed : Santiria dacryodifolia\n"
     ]
    },
    {
     "name": "stdout",
     "output_type": "stream",
     "text": [
      "G+S, matching failed : Monanthocitrus oblanceolata\n",
      "G+S, matching failed : Santiria sarawakana\n"
     ]
    },
    {
     "name": "stdout",
     "output_type": "stream",
     "text": [
      "G+S, matching failed : Erythroxylum acranthum\n",
      "G+S, matching failed : Haplolobus leenhoutsii\n",
      "G+S, matching failed : Kokoona leucoclada\n"
     ]
    },
    {
     "name": "stdout",
     "output_type": "stream",
     "text": [
      "G+S, matching failed : Parathesis aurantica\n",
      "G+S, matching failed : Microtropis borneensis\n",
      "G+S, matching failed : Microtropis keningauensis\n"
     ]
    },
    {
     "name": "stdout",
     "output_type": "stream",
     "text": [
      "G+S, matching failed : Parinari argenteo-sericea\n",
      "G+S, matching failed : Scaevola muluensis\n",
      "G+S, matching failed : Illicium kinabaluensis\n"
     ]
    },
    {
     "name": "stdout",
     "output_type": "stream",
     "text": [
      "G+S, matching failed : Anisophyllea rhomboidea\n",
      "G+S, matching failed : Clausena calciphila\n",
      "G+S, matching failed : Parathesis congesta\n"
     ]
    },
    {
     "name": "stdout",
     "output_type": "stream",
     "text": [
      "G+S, matching failed : Capparis discolor\n",
      "G+S, matching failed : Senecio arborescens\n"
     ]
    },
    {
     "name": "stdout",
     "output_type": "stream",
     "text": [
      "G+S+filtered authority, couln't find a unique match : Myristica globosa\n",
      "G+S, matching failed : Quararibea sanblasensis\n",
      "G+S, matching failed : Pistacia aethiopica\n"
     ]
    },
    {
     "name": "stdout",
     "output_type": "stream",
     "text": [
      "G+S, matching failed : Ardisia alstonii\n",
      "G+S, matching failed : Anogeissus bentii\n",
      "G+S+filtered authority, couln't find a unique match : Wendlandia arabica\n"
     ]
    },
    {
     "name": "stdout",
     "output_type": "stream",
     "text": [
      "G+S, matching failed : Symplocos trichoclada\n",
      "G+S, matching failed : Cinnamomum macrostemon\n"
     ]
    },
    {
     "name": "stdout",
     "output_type": "stream",
     "text": [
      "G+S+filtered authority, couln't find a unique match : Garcinia maingayi\n"
     ]
    },
    {
     "name": "stdout",
     "output_type": "stream",
     "text": [
      "G+S, matching failed : Pentace exima\n",
      "G+S, matching failed : Pentace acuta\n",
      "G+S, matching failed : Pseudoeugenia singaporensis\n"
     ]
    },
    {
     "name": "stdout",
     "output_type": "stream",
     "text": [
      "G+S, matching failed : Protium asperum\n"
     ]
    },
    {
     "name": "stdout",
     "output_type": "stream",
     "text": [
      "G+S, matching failed : Gomidesia cambessedeana\n",
      "G+S, matching failed : Gomidesia mugnifolia\n",
      "G+S, matching failed : Maytenus microcarpa\n"
     ]
    },
    {
     "name": "stdout",
     "output_type": "stream",
     "text": [
      "G+S, matching failed : Siphoneugenia widgreniana\n",
      "G+S, matching failed : Sclerolobium beaureipairei\n"
     ]
    },
    {
     "name": "stdout",
     "output_type": "stream",
     "text": [
      "G+S+filtered authority, couln't find a unique match : Aureliana fasciculata\n",
      "G+S, matching failed : Dalbergia boniana\n",
      "G+S, matching failed : Sessea brasiliensis\n"
     ]
    },
    {
     "name": "stdout",
     "output_type": "stream",
     "text": [
      "G+S, matching failed : Solanum granulosum-leprosum\n",
      "G+S, matching failed : Buchenavia iguaratensis\n",
      "G+S, matching failed : Maytenus curtissii\n"
     ]
    },
    {
     "name": "stdout",
     "output_type": "stream",
     "text": [
      "G+S, matching failed : Buchenavia pabstii\n",
      "G+S, matching failed : Buchenavia rabelloana\n"
     ]
    },
    {
     "name": "stdout",
     "output_type": "stream",
     "text": [
      "G+S, matching failed : Nesoluma nadeaudii\n",
      "G+S, matching failed : Eurya rapensis\n",
      "G+S, matching failed : Lafoensia replicata\n",
      "G+S, matching failed : Calycorectes australis\n",
      "G+S, matching failed : Calycorectes duarteanus\n",
      "G+S, matching failed : Calycorectes sellowianus\n"
     ]
    },
    {
     "name": "stdout",
     "output_type": "stream",
     "text": [
      "G+S, matching failed : Eugenia arianae\n",
      "G+S, matching failed : Myrcia grandiflora\n",
      "G+S, matching failed : Myrciaria pliniodes\n"
     ]
    },
    {
     "name": "stdout",
     "output_type": "stream",
     "text": [
      "G+S, matching failed : Neomitranthes langsdorfii\n",
      "G+S, matching failed : Siphoneugenia densiflora\n",
      "G+S, matching failed : Dendropanax lanceifolius\n"
     ]
    },
    {
     "name": "stdout",
     "output_type": "stream",
     "text": [
      "G+S, matching failed : Aporusa fusiformis\n",
      "G+S, matching failed : Critoniopsis sevillana\n",
      "G+S, matching failed : Eugenia hypoleuca\n"
     ]
    },
    {
     "name": "stdout",
     "output_type": "stream",
     "text": [
      "G+S, matching failed : Verbesina saloyensis\n",
      "G+S, matching failed : Mastixia macrophylla\n"
     ]
    },
    {
     "name": "stdout",
     "output_type": "stream",
     "text": [
      "G+S, matching failed : Prunus ceylanica\n",
      "G+S+filtered authority, couln't find a unique match : Psychotria gardneri\n"
     ]
    },
    {
     "name": "stdout",
     "output_type": "stream",
     "text": [
      "G+S, matching failed : Strychnos benthami\n",
      "G+S, matching failed : Syzygium cyclophyllum\n",
      "G+S, matching failed : Syzygium fergusoni\n",
      "G+S, matching failed : Syzygium spissum\n",
      "G+S, matching failed : Semecarpus pseudo-emarginata\n",
      "G+S, matching failed : Psydrax montanum\n"
     ]
    },
    {
     "name": "stdout",
     "output_type": "stream",
     "text": [
      "G+S, matching failed : Dalbergia catipenonii\n",
      "G+S, matching failed : Roupala loxensis\n"
     ]
    },
    {
     "name": "stdout",
     "output_type": "stream",
     "text": [
      "G+S, matching failed : Areca glandiformis\n",
      "G+S, matching failed : Areca guppyana\n",
      "G+S+filtered authority, couln't find a unique match : Arenga listeri\n"
     ]
    },
    {
     "name": "stdout",
     "output_type": "stream",
     "text": [
      "G+S, matching failed : Bleasdalea papuana\n",
      "G+S, matching failed : Flindersia ifflaiana\n",
      "G+S+filtered authority, couln't find a unique match : Flindersia laevicarpa\n"
     ]
    },
    {
     "name": "stdout",
     "output_type": "stream",
     "text": [
      "G+S, matching failed : Halfordia papuana\n"
     ]
    },
    {
     "name": "stdout",
     "output_type": "stream",
     "text": [
      "G+S+filtered authority, couln't find a unique match : Dalbergia emirnensis\n"
     ]
    },
    {
     "name": "stdout",
     "output_type": "stream",
     "text": [
      "G+S, matching failed : Schinus venturi\n",
      "G+S, matching failed : Rollinia occidentalis\n",
      "G+S+filtered authority, couln't find a unique match : Dalbergia glaberrima\n"
     ]
    },
    {
     "name": "stdout",
     "output_type": "stream",
     "text": [
      "G+S, matching failed : Sapium saltense\n",
      "G+S, matching failed : Acacia etilis\n",
      "G+S, matching failed : Acacia albicorticata\n"
     ]
    },
    {
     "name": "stdout",
     "output_type": "stream",
     "text": [
      "G+S, matching failed : Coursetia brachyrachis\n",
      "G+S, matching failed : Ficus aguaraguensis\n",
      "G+S, matching failed : Siphoneugenia occidentalis\n"
     ]
    },
    {
     "name": "stdout",
     "output_type": "stream",
     "text": [
      "G+S+filtered authority, couln't find a unique match : Dalbergia tricolor\n",
      "G+S, matching failed : Diplokeleba herzogi\n",
      "G+S, matching failed : Phyllostylon orthopterum\n"
     ]
    },
    {
     "name": "stdout",
     "output_type": "stream",
     "text": [
      "G+S+filtered authority, couln't find a unique match : Dalbergia hildebrandtii\n"
     ]
    },
    {
     "name": "stdout",
     "output_type": "stream",
     "text": [
      "G+S+filtered authority, couln't find a unique match : Dalbergia madagascariensis\n",
      "G+S+filtered authority, couln't find a unique match : Dalbergia maritima\n",
      "G+S+filtered authority, couln't find a unique match : Dalbergia mollis\n"
     ]
    },
    {
     "name": "stdout",
     "output_type": "stream",
     "text": [
      "G+S, matching failed : Ilex jauaensis\n"
     ]
    },
    {
     "name": "stdout",
     "output_type": "stream",
     "text": [
      "G+S+filtered authority, couln't find a unique match : Palaquium maingayi\n",
      "G+S, matching failed : Inga aptera\n",
      "G+S, matching failed : Pongamia velutina\n",
      "G+S, matching failed : Inga pleiogyna\n",
      "G+S, matching failed : Inga grazielae\n"
     ]
    },
    {
     "name": "stdout",
     "output_type": "stream",
     "text": [
      "G+S+filtered authority, couln't find a unique match : Adinandra forbesii\n",
      "G+S, matching failed : Oncodostigma hainanense\n"
     ]
    },
    {
     "name": "stdout",
     "output_type": "stream",
     "text": [
      "G+S, matching failed : Annona trunciflora\n"
     ]
    },
    {
     "name": "stdout",
     "output_type": "stream",
     "text": [
      "G+S+filtered authority, couln't find a unique match : Ilex attenuata\n",
      "G+S, matching failed : Diospyros molissima\n"
     ]
    },
    {
     "name": "stdout",
     "output_type": "stream",
     "text": [
      "G+S+filtered authority, couln't find a unique match : Archidendron forbesii\n"
     ]
    },
    {
     "name": "stdout",
     "output_type": "stream",
     "text": [
      "G+S, matching failed : Clinostigma savoryana\n"
     ]
    },
    {
     "name": "stdout",
     "output_type": "stream",
     "text": [
      "G+S, matching failed : Ardisia eugenioides\n",
      "G+S, matching failed : Ardisia standleyana\n"
     ]
    },
    {
     "name": "stdout",
     "output_type": "stream",
     "text": [
      "G+S, matching failed : Corypha macropoda\n",
      "G+S, matching failed : Corypha microclada\n"
     ]
    },
    {
     "name": "stdout",
     "output_type": "stream",
     "text": [
      "G+S, matching failed : Gaussia spirituana\n",
      "G+S, matching failed : Cyrtostachys kisu\n",
      "G+S, matching failed : Drymophloeus lepidotus\n"
     ]
    },
    {
     "name": "stdout",
     "output_type": "stream",
     "text": [
      "G+S, matching failed : Drymophloeus pachycladus\n",
      "G+S, matching failed : Drymophloeus samoensis\n",
      "G+S, matching failed : Drymophloeus subdistichus\n"
     ]
    },
    {
     "name": "stdout",
     "output_type": "stream",
     "text": [
      "G+S, matching failed : Linospadix microcarya\n",
      "G+S, matching failed : Livistona robinsoniana\n"
     ]
    },
    {
     "name": "stdout",
     "output_type": "stream",
     "text": [
      "G+S, matching failed : Livistona tonkinensis\n",
      "G+S, matching failed : Livistona woodfordii\n"
     ]
    },
    {
     "name": "stdout",
     "output_type": "stream",
     "text": [
      "G+S, matching failed : Pritchardia affinis\n",
      "G+S, matching failed : Pritchardia aylmer-robinsonii\n",
      "G+S, matching failed : Pritchardia elliptica\n"
     ]
    },
    {
     "name": "stdout",
     "output_type": "stream",
     "text": [
      "G+S+filtered authority, couln't find a unique match : Pritchardia lowreyana\n",
      "G+S, matching failed : Pritchardia woodfordiana\n"
     ]
    },
    {
     "name": "stdout",
     "output_type": "stream",
     "text": [
      "G+S, matching failed : Drypetes travancoria\n",
      "G+S, matching failed : Homalium jainii\n",
      "G+S, matching failed : Xylosma latifolium\n"
     ]
    },
    {
     "name": "stdout",
     "output_type": "stream",
     "text": [
      "G+S, matching failed : Veitchia macdanielsii\n",
      "G+S, matching failed : Cryptocarya anamallayana\n",
      "G+S, matching failed : Veitchia montgomeryana\n"
     ]
    },
    {
     "name": "stdout",
     "output_type": "stream",
     "text": [
      "G+S, matching failed : Julostylis polyandra\n",
      "G+S, matching failed : Memecylon subramanii\n",
      "G+S+filtered authority, couln't find a unique match : Scalesia atractyloides\n"
     ]
    },
    {
     "name": "stdout",
     "output_type": "stream",
     "text": [
      "G+S+filtered authority, couln't find a unique match : Piper fimbriulatum\n",
      "G+S+filtered authority, couln't find a unique match : Mezilaurus navalium\n",
      "G+S, matching failed : Pritchardia lanaiensis\n",
      "G+S, matching failed : Pritchardia limahuliensis\n"
     ]
    },
    {
     "name": "stdout",
     "output_type": "stream",
     "text": [
      "G+S, matching failed : Nothopegia castanaefolia\n",
      "G+S, matching failed : Polyalthia shendurunii\n"
     ]
    },
    {
     "name": "stdout",
     "output_type": "stream",
     "text": [
      "G+S, matching failed : Aporusa bourdillonii\n",
      "G+S, matching failed : Glochidion sisparense\n",
      "G+S, matching failed : Glochidion tomentosum\n",
      "G+S, matching failed : Pithecellobium gracile\n"
     ]
    },
    {
     "name": "stdout",
     "output_type": "stream",
     "text": [
      "G+S, matching failed : Atkinsia cubensis\n",
      "G+S, matching failed : Bucida ophiticola\n",
      "G+S, matching failed : Ficus angladei\n"
     ]
    },
    {
     "name": "stdout",
     "output_type": "stream",
     "text": [
      "G+S, matching failed : Centronia brachycera\n",
      "G+S, matching failed : Eugenia calcadensis\n",
      "G+S, matching failed : Centronia mutisii\n",
      "G+S, matching failed : Clerodendrum calcicola\n"
     ]
    },
    {
     "name": "stdout",
     "output_type": "stream",
     "text": [
      "G+S, matching failed : Huilaea kirkbridei\n",
      "G+S, matching failed : Huilaea macrocarpa\n",
      "G+S, matching failed : Huilaea minor\n",
      "G+S, matching failed : Syzygium parameswaranii\n",
      "G+S, matching failed : Huilaea mutisiana\n",
      "G+S, matching failed : Syzygium ramavarma\n",
      "G+S, matching failed : Huilaea occidentalis\n"
     ]
    },
    {
     "name": "stdout",
     "output_type": "stream",
     "text": [
      "G+S, matching failed : Huilaea penduliflora\n",
      "G+S, matching failed : Chionanthus linocieroides\n",
      "G+S, matching failed : Pittosporum viridulatum\n"
     ]
    },
    {
     "name": "stdout",
     "output_type": "stream",
     "text": [
      "G+S, matching failed : Litosanthes capitulatus\n",
      "G+S, matching failed : Symplocos nairii\n"
     ]
    },
    {
     "name": "stdout",
     "output_type": "stream",
     "text": [
      "G+S, matching failed : Guettarda retusa\n",
      "G+S, matching failed : Coprosma orohenensis\n",
      "G+S, matching failed : Ouratea tumacoensis\n",
      "G+S, matching failed : Ixora moorensis\n",
      "G+S, matching failed : Prunus carolinae\n",
      "G+S, matching failed : Prunus ernestii\n",
      "G+S, matching failed : Prunus villegasiana\n"
     ]
    },
    {
     "name": "stdout",
     "output_type": "stream",
     "text": [
      "G+S+filtered authority, couln't find a unique match : Elaeagia pastoensis\n",
      "G+S+filtered authority, couln't find a unique match : Herrania laciniifolia\n",
      "G+S, matching failed : Psychotria lepiniana\n"
     ]
    },
    {
     "name": "stdout",
     "output_type": "stream",
     "text": [
      "G+S, matching failed : Tahitia vescoana\n",
      "G+S, matching failed : Ilex tolucana\n"
     ]
    },
    {
     "name": "stdout",
     "output_type": "stream",
     "text": [
      "G+S, matching failed : Pandanus papenooensis\n",
      "G+S, matching failed : Pandanus temehaniensis\n",
      "G+S, matching failed : Saurauia latipetala\n",
      "G+S, matching failed : Glochidion grantii\n",
      "G+S+filtered authority, couln't find a unique match : Vaccinium bissei\n"
     ]
    },
    {
     "name": "stdout",
     "output_type": "stream",
     "text": [
      "G+S, matching failed : Glochidion nadeaudii\n",
      "G+S, matching failed : Acacia gaumeri\n",
      "G+S, matching failed : Glochidion papenooense\n",
      "G+S, matching failed : Glochidion rapaense\n",
      "G+S, matching failed : Glochidion tooviianum\n",
      "G+S, matching failed : Ardisia chiriquiana\n"
     ]
    },
    {
     "name": "stdout",
     "output_type": "stream",
     "text": [
      "G+S, matching failed : Ardisia rufa\n",
      "G+S, matching failed : Parathesis bicolor\n",
      "G+S, matching failed : Parathesis glaberima\n",
      "G+S, matching failed : Parathesis tenuifolia\n",
      "G+S, matching failed : Rapanea coclensis\n"
     ]
    },
    {
     "name": "stdout",
     "output_type": "stream",
     "text": [
      "G+S, matching failed : Myrsine falcata\n"
     ]
    },
    {
     "name": "stdout",
     "output_type": "stream",
     "text": [
      "G+S, matching failed : Ixora st.-johnii\n",
      "G+S+filtered authority, couln't find a unique match : Ixora umbellata\n"
     ]
    },
    {
     "name": "stdout",
     "output_type": "stream",
     "text": [
      "G+S, matching failed : Bactris nancibensis\n",
      "G+S, matching failed : Pandanus petersii\n",
      "G+S+filtered authority, couln't find a unique match : Dombeya rotundifolia\n"
     ]
    },
    {
     "name": "stdout",
     "output_type": "stream",
     "text": [
      "G+S+filtered authority, couln't find a unique match : Alternanthera helleri\n",
      "G+S+filtered authority, couln't find a unique match : Vitex heptaphylla\n",
      "G+S+filtered authority, couln't find a unique match : Aiphanes hirsuta\n"
     ]
    },
    {
     "name": "stdout",
     "output_type": "stream",
     "text": [
      "G+S+filtered authority, couln't find a unique match : Lithophila radicata\n",
      "G+S, matching failed : Areca macrocarpa\n",
      "G+S, matching failed : Areca parens\n",
      "G+S, matching failed : Areca whitfardii\n"
     ]
    },
    {
     "name": "stdout",
     "output_type": "stream",
     "text": [
      "G+S, matching failed : Himatanthus stenophyllus\n",
      "G+S, matching failed : Sloanea acutiflora\n"
     ]
    },
    {
     "name": "stdout",
     "output_type": "stream",
     "text": [
      "G+S+filtered authority, couln't find a unique match : Justicia galapagana\n"
     ]
    },
    {
     "name": "stdout",
     "output_type": "stream",
     "text": [
      "G+S, matching failed : Orthotrichum truncato-dentatum\n",
      "G+S, matching failed : Tournefortia rufo-sericea\n",
      "G+S, matching failed : Bursera malacophylla\n",
      "G+S, matching failed : Ozobryum ogalalense\n",
      "G+S, matching failed : Hypnodontopsis apiculata\n"
     ]
    },
    {
     "name": "stdout",
     "output_type": "stream",
     "text": [
      "G+S, matching failed : Stenorrhipis rhizomatica\n",
      "G+S, matching failed : Darwiniothamnus alternifolius\n",
      "G+S, matching failed : Darwiniothamnus lancifolius\n",
      "G+S, matching failed : Darwiniothamnus tenuifolius\n",
      "G+S+filtered authority, couln't find a unique match : Scalesia baurii\n",
      "G+S+filtered authority, couln't find a unique match : Scalesia helleri\n"
     ]
    },
    {
     "name": "stdout",
     "output_type": "stream",
     "text": [
      "G+S+filtered authority, couln't find a unique match : Scalesia microcephala\n",
      "G+S, matching failed : Linum cratericola\n",
      "G+S, matching failed : Calandrinia galapagosa\n"
     ]
    },
    {
     "name": "stdout",
     "output_type": "stream",
     "text": [
      "G+S, matching failed : Kurzia sinensis\n",
      "G+S, matching failed : Andrewsianthus ferrugineus\n",
      "G+S, matching failed : Perssoniella vitreocincta\n"
     ]
    },
    {
     "name": "stdout",
     "output_type": "stream",
     "text": [
      "G+S, matching failed : Calypogeia rhynchophylla\n"
     ]
    },
    {
     "name": "stdout",
     "output_type": "stream",
     "text": [
      "G+S, matching failed : Myriocolea irrorata\n",
      "G+S, matching failed : Cladolejeunea aberrans\n",
      "G+S, matching failed : Symbiezidium madagascariensis\n"
     ]
    },
    {
     "name": "stdout",
     "output_type": "stream",
     "text": [
      "G+S, matching failed : Ambuchanania leucobryoides\n",
      "G+S, matching failed : Tylophora cameroonica\n",
      "G+S, matching failed : Tylophora urceolata\n"
     ]
    },
    {
     "name": "stdout",
     "output_type": "stream",
     "text": [
      "G+S, matching failed : Gaertnera truncata\n",
      "G+S+filtered authority, couln't find a unique match : Dombeya acutangula\n",
      "G+S, matching failed : Memecylon myrtiforne\n"
     ]
    },
    {
     "name": "stdout",
     "output_type": "stream",
     "text": [
      "G+S, matching failed : Psiadia cataractae\n"
     ]
    },
    {
     "name": "stdout",
     "output_type": "stream",
     "text": [
      "G+S, matching failed : Pararistolochia preussii\n",
      "G+S, matching failed : Helictotrichon mannii\n",
      "G+S, matching failed : Barombia gracillima\n"
     ]
    },
    {
     "name": "stdout",
     "output_type": "stream",
     "text": [
      "G+S, matching failed : Oncoba lophocarpa\n",
      "G+S, matching failed : Oncoba ovalis\n"
     ]
    },
    {
     "name": "stdout",
     "output_type": "stream",
     "text": [
      "G+S, matching failed : Carex preussii\n",
      "G+S, matching failed : Bulbophyllum filiforme\n",
      "G+S, matching failed : Bulbophyllum modicum\n"
     ]
    },
    {
     "name": "stdout",
     "output_type": "stream",
     "text": [
      "G+S, matching failed : Dicoma pretoriensis\n"
     ]
    },
    {
     "name": "stdout",
     "output_type": "stream",
     "text": [
      "G+S, matching failed : Nepenthes anamensis\n"
     ]
    },
    {
     "name": "stdout",
     "output_type": "stream",
     "text": [
      "G+S+filtered authority, couln't find a unique match : Sarracenia minor\n",
      "G+S, matching failed : Vernonia bamendae\n"
     ]
    },
    {
     "name": "stdout",
     "output_type": "stream",
     "text": [
      "G+S, matching failed : Encephalartos kanga\n",
      "G+S+filtered authority, couln't find a unique match : Encephalartos septentrionalis\n"
     ]
    },
    {
     "name": "stdout",
     "output_type": "stream",
     "text": [
      "G+S+filtered authority, couln't find a unique match : Macrozamia moorei\n"
     ]
    },
    {
     "name": "stdout",
     "output_type": "stream",
     "text": [
      "G+S, matching failed : Cycas chamaoensis\n",
      "G+S, matching failed : Cycas fugax\n",
      "G+S, matching failed : Cycas aculeata\n",
      "G+S, matching failed : Cycas changjiangensis\n"
     ]
    },
    {
     "name": "stdout",
     "output_type": "stream",
     "text": [
      "G+S+filtered authority, couln't find a unique match : Cycas hainanensis\n",
      "G+S, matching failed : Cycas hoabinhensis\n"
     ]
    },
    {
     "name": "stdout",
     "output_type": "stream",
     "text": [
      "G+S, matching failed : Zamia polymorpha\n",
      "G+S+filtered authority, couln't find a unique match : Zamia pseudomonticola\n"
     ]
    },
    {
     "name": "stdout",
     "output_type": "stream",
     "text": [
      "G+S+filtered authority, couln't find a unique match : Zamia pygmaea\n"
     ]
    },
    {
     "name": "stdout",
     "output_type": "stream",
     "text": [
      "G+S+filtered authority, couln't find a unique match : Zamia fischeri\n"
     ]
    },
    {
     "name": "stdout",
     "output_type": "stream",
     "text": [
      "G+S+filtered authority, couln't find a unique match : Zamia furfuracea\n"
     ]
    },
    {
     "name": "stdout",
     "output_type": "stream",
     "text": [
      "G+S+filtered authority, couln't find a unique match : Abies pinsapo\n",
      "G+S+filtered authority, couln't find a unique match : Abies sibirica\n",
      "G+S+filtered authority, couln't find a unique match : Abies veitchii\n"
     ]
    },
    {
     "name": "stdout",
     "output_type": "stream",
     "text": [
      "G+S+filtered authority, couln't find a unique match : Podocarpus novae-caledoniae\n",
      "G+S+filtered authority, couln't find a unique match : Stenandrium harlingii\n"
     ]
    },
    {
     "name": "stdout",
     "output_type": "stream",
     "text": [
      "G+S, matching failed : Stenostephanus harlingii\n"
     ]
    },
    {
     "name": "stdout",
     "output_type": "stream",
     "text": [
      "G+S, matching failed : Echinodorus eglandulosus\n",
      "G+S, matching failed : Bomarea angustifolia\n",
      "G+S, matching failed : Bomarea borjae\n",
      "G+S, matching failed : Bomarea chimborazensis\n",
      "G+S, matching failed : Bomarea elegans\n"
     ]
    },
    {
     "name": "stdout",
     "output_type": "stream",
     "text": [
      "G+S, matching failed : Bomarea gracilis\n",
      "G+S, matching failed : Bomarea lanata\n"
     ]
    },
    {
     "name": "stdout",
     "output_type": "stream",
     "text": [
      "G+S, matching failed : Aphelandra gunnari\n"
     ]
    },
    {
     "name": "stdout",
     "output_type": "stream",
     "text": [
      "G+S, matching failed : Dicliptera pilosa\n",
      "G+S, matching failed : Dicliptera quitensis\n",
      "G+S+filtered authority, couln't find a unique match : Neriacanthus harlingii\n"
     ]
    },
    {
     "name": "stdout",
     "output_type": "stream",
     "text": [
      "G+S, matching failed : Annona ecuadorensis\n",
      "G+S, matching failed : Annona oligocarpa\n"
     ]
    },
    {
     "name": "stdout",
     "output_type": "stream",
     "text": [
      "G+S, matching failed : Anthurium falcatum\n",
      "G+S, matching failed : Rollinia dolichopetala\n"
     ]
    },
    {
     "name": "stdout",
     "output_type": "stream",
     "text": [
      "G+S, matching failed : Mandevilla dodsonii\n"
     ]
    },
    {
     "name": "stdout",
     "output_type": "stream",
     "text": [
      "G+S+filtered authority, couln't find a unique match : Chlorospatha besseae\n",
      "G+S, matching failed : Dieffenbachia herthae\n"
     ]
    },
    {
     "name": "stdout",
     "output_type": "stream",
     "text": [
      "G+S, matching failed : Anthurium oreodoxum\n"
     ]
    },
    {
     "name": "stdout",
     "output_type": "stream",
     "text": [
      "G+S, matching failed : Anthurium scabrinerve\n",
      "G+S, matching failed : Anthurium stenoglossum\n"
     ]
    },
    {
     "name": "stdout",
     "output_type": "stream",
     "text": [
      "G+S, matching failed : Cynanchum velutinum\n",
      "G+S, matching failed : Rhodospatha dammeri\n"
     ]
    },
    {
     "name": "stdout",
     "output_type": "stream",
     "text": [
      "G+S, matching failed : Rhodospatha statutii\n",
      "G+S, matching failed : Matelea fimbriatiflora\n"
     ]
    },
    {
     "name": "stdout",
     "output_type": "stream",
     "text": [
      "G+S, matching failed : Stenospermation peripense\n",
      "G+S, matching failed : Stenospermation subellipticum\n"
     ]
    },
    {
     "name": "stdout",
     "output_type": "stream",
     "text": [
      "G+S, matching failed : Metalepis gentryi\n",
      "G+S, matching failed : Metalepis haughtii\n"
     ]
    },
    {
     "name": "stdout",
     "output_type": "stream",
     "text": [
      "G+S, matching failed : Cynanchum bifidum\n",
      "G+S, matching failed : Cynanchum campii\n",
      "G+S, matching failed : Cynanchum chimboracense\n",
      "G+S, matching failed : Cynanchum densiflorum\n",
      "G+S, matching failed : Cynanchum ellemannii\n",
      "G+S, matching failed : Cynanchum harlingii\n"
     ]
    },
    {
     "name": "stdout",
     "output_type": "stream",
     "text": [
      "G+S, matching failed : Cynanchum intricatum\n",
      "G+S, matching failed : Cynanchum leptostephanum\n",
      "G+S, matching failed : Begonia asympeltata\n",
      "G+S, matching failed : Begonia compacticaulis\n"
     ]
    },
    {
     "name": "stdout",
     "output_type": "stream",
     "text": [
      "G+S, matching failed : Cynanchum longecalicinum\n",
      "G+S, matching failed : Cynanchum quitense\n",
      "G+S, matching failed : Cynanchum serpyllifolium\n",
      "G+S, matching failed : Cynanchum sodiroi\n",
      "G+S, matching failed : Cynanchum spruceanum\n"
     ]
    },
    {
     "name": "stdout",
     "output_type": "stream",
     "text": [
      "G+S, matching failed : Aequatorium limonense\n",
      "G+S, matching failed : Clibadium zakii\n"
     ]
    },
    {
     "name": "stdout",
     "output_type": "stream",
     "text": [
      "G+S, matching failed : Ageratina dendroides\n"
     ]
    },
    {
     "name": "stdout",
     "output_type": "stream",
     "text": [
      "G+S+filtered authority, couln't find a unique match : Matisia alata\n",
      "G+S, matching failed : Baccharis aretioides\n",
      "G+S, matching failed : Matisia grandifolia\n"
     ]
    },
    {
     "name": "stdout",
     "output_type": "stream",
     "text": [
      "G+S, matching failed : Clibadium alatum\n",
      "G+S, matching failed : Clibadium mexiae\n",
      "G+S, matching failed : Clibadium napoense\n",
      "G+S+filtered authority, couln't find a unique match : Crepis sodiroi\n",
      "G+S, matching failed : Critonia eggersii\n"
     ]
    },
    {
     "name": "stdout",
     "output_type": "stream",
     "text": [
      "G+S, matching failed : Cordia rosei\n",
      "G+S, matching failed : Mezobromelia brownii\n",
      "G+S, matching failed : Mezobromelia fulgens\n",
      "G+S, matching failed : Pepinia alexanderi\n"
     ]
    },
    {
     "name": "stdout",
     "output_type": "stream",
     "text": [
      "G+S, matching failed : Pepinia carnososepala\n",
      "G+S, matching failed : Pepinia fulgens\n",
      "G+S, matching failed : Pepinia harlingii\n",
      "G+S, matching failed : Pepinia hooveri\n",
      "G+S, matching failed : Pepinia verrucosa\n"
     ]
    },
    {
     "name": "stdout",
     "output_type": "stream",
     "text": [
      "G+S, matching failed : Pitcairnia caduciflora\n"
     ]
    },
    {
     "name": "stdout",
     "output_type": "stream",
     "text": [
      "G+S, matching failed : Guzmania fusispica\n"
     ]
    },
    {
     "name": "stdout",
     "output_type": "stream",
     "text": [
      "G+S, matching failed : Vriesea lutheri\n",
      "G+S+filtered authority, couln't find a unique match : Puya aequatorialis\n"
     ]
    },
    {
     "name": "stdout",
     "output_type": "stream",
     "text": [
      "G+S, matching failed : Dasphyllum argenteum\n",
      "G+S, matching failed : Dasphyllum lehmannii\n"
     ]
    },
    {
     "name": "stdout",
     "output_type": "stream",
     "text": [
      "G+S, matching failed : Dendrophorbium gesnerifolium\n"
     ]
    },
    {
     "name": "stdout",
     "output_type": "stream",
     "text": [
      "G+S, matching failed : Dendrophorbium scytophyllum\n",
      "G+S, matching failed : Dendrophorbium tipocochensis\n"
     ]
    },
    {
     "name": "stdout",
     "output_type": "stream",
     "text": [
      "G+S, matching failed : Tillandsia acosta-solisii\n"
     ]
    },
    {
     "name": "stdout",
     "output_type": "stream",
     "text": [
      "G+S, matching failed : Tillandsia dyeriana\n"
     ]
    },
    {
     "name": "stdout",
     "output_type": "stream",
     "text": [
      "G+S, matching failed : Tillandsia pretiosa\n",
      "G+S, matching failed : Tillandsia umbellata\n"
     ]
    },
    {
     "name": "stdout",
     "output_type": "stream",
     "text": [
      "G+S, matching failed : Vriesea strobeliae\n",
      "G+S, matching failed : Vriesea tillii\n"
     ]
    },
    {
     "name": "stdout",
     "output_type": "stream",
     "text": [
      "G+S, matching failed : Burmeistera cuyujensis\n",
      "G+S, matching failed : Erigeron adscendens\n"
     ]
    },
    {
     "name": "stdout",
     "output_type": "stream",
     "text": [
      "G+S, matching failed : Fleischmannia aequinoctialis\n"
     ]
    },
    {
     "name": "stdout",
     "output_type": "stream",
     "text": [
      "G+S+filtered authority, couln't find a unique match : Gnaphalium chimborazense\n",
      "G+S, matching failed : Gnaphalium dysodes\n",
      "G+S, matching failed : Gnaphalium imbaburense\n"
     ]
    },
    {
     "name": "stdout",
     "output_type": "stream",
     "text": [
      "G+S+filtered authority, couln't find a unique match : Gnaphalium sodiroi\n"
     ]
    },
    {
     "name": "stdout",
     "output_type": "stream",
     "text": [
      "G+S, matching failed : Haplopappus albicans\n",
      "G+S, matching failed : Hieracium coloratum\n"
     ]
    },
    {
     "name": "stdout",
     "output_type": "stream",
     "text": [
      "G+S, matching failed : Hypochaeris stuebelii\n"
     ]
    },
    {
     "name": "stdout",
     "output_type": "stream",
     "text": [
      "G+S, matching failed : Maytenus eggersii\n",
      "G+S, matching failed : Maytenus manabiensis\n"
     ]
    },
    {
     "name": "stdout",
     "output_type": "stream",
     "text": [
      "G+S, matching failed : Blechnum dendrophilum\n",
      "G+S, matching failed : Blechnum floresii\n",
      "G+S, matching failed : Blechnum monomorphum\n",
      "G+S, matching failed : Blechnum petiolare\n"
     ]
    },
    {
     "name": "stdout",
     "output_type": "stream",
     "text": [
      "G+S, matching failed : Blechnum rimbachii\n",
      "G+S, matching failed : Blechnum scaberulum\n"
     ]
    },
    {
     "name": "stdout",
     "output_type": "stream",
     "text": [
      "G+S, matching failed : Siphocampylus ecuadoriensis\n"
     ]
    },
    {
     "name": "stdout",
     "output_type": "stream",
     "text": [
      "G+S, matching failed : Steriphoma urbani\n",
      "G+S, matching failed : Vasconcellea palandensis\n"
     ]
    },
    {
     "name": "stdout",
     "output_type": "stream",
     "text": [
      "G+S, matching failed : Elaphoglossum jamesonii\n",
      "G+S, matching failed : Cyathea cystolepis\n"
     ]
    },
    {
     "name": "stdout",
     "output_type": "stream",
     "text": [
      "G+S, matching failed : Cyathea halonata\n",
      "G+S, matching failed : Cyathea heliophila\n",
      "G+S, matching failed : Elaphoglossum subandinum\n",
      "G+S, matching failed : Elaphoglossum tenerum\n"
     ]
    },
    {
     "name": "stdout",
     "output_type": "stream",
     "text": [
      "G+S, matching failed : Elaphoglossum viscidulum\n"
     ]
    },
    {
     "name": "stdout",
     "output_type": "stream",
     "text": [
      "G+S, matching failed : Ctenitis pallatangana\n",
      "G+S, matching failed : Tectaria morlae\n",
      "G+S, matching failed : Tectaria quitensis\n"
     ]
    },
    {
     "name": "stdout",
     "output_type": "stream",
     "text": [
      "G+S, matching failed : Diplazium corderoi\n",
      "G+S, matching failed : Diplazium eggersii\n"
     ]
    },
    {
     "name": "stdout",
     "output_type": "stream",
     "text": [
      "G+S, matching failed : Hymenophyllum refrondescens\n",
      "G+S, matching failed : Hymenophyllum trifidum\n",
      "G+S, matching failed : Trichomanes melanopus\n"
     ]
    },
    {
     "name": "stdout",
     "output_type": "stream",
     "text": [
      "G+S, matching failed : Elaphoglossum caespitosum\n",
      "G+S, matching failed : Elaphoglossum chodatii\n",
      "G+S, matching failed : Elaphoglossum cladotrichium\n"
     ]
    },
    {
     "name": "stdout",
     "output_type": "stream",
     "text": [
      "G+S, matching failed : Elaphoglossum ellipsoideum\n",
      "G+S, matching failed : Elaphoglossum gracilipes\n",
      "G+S, matching failed : Elaphoglossum heliconiaefolium\n"
     ]
    },
    {
     "name": "stdout",
     "output_type": "stream",
     "text": [
      "G+S, matching failed : Elaphoglossum pangoanum\n",
      "G+S, matching failed : Elaphoglossum rupicolum\n"
     ]
    },
    {
     "name": "stdout",
     "output_type": "stream",
     "text": [
      "G+S, matching failed : Huperzia ascendens\n",
      "G+S, matching failed : Huperzia austroecuadorica\n",
      "G+S, matching failed : Huperzia columnaris\n",
      "G+S, matching failed : Huperzia compacta\n"
     ]
    },
    {
     "name": "stdout",
     "output_type": "stream",
     "text": [
      "G+S, matching failed : Huperzia cumingii\n",
      "G+S, matching failed : Huperzia espinosana\n",
      "G+S, matching failed : Huperzia hastata\n",
      "G+S, matching failed : Huperzia llanganatensis\n"
     ]
    },
    {
     "name": "stdout",
     "output_type": "stream",
     "text": [
      "G+S, matching failed : Huperzia loxensis\n",
      "G+S, matching failed : Huperzia polydactyla\n",
      "G+S, matching failed : Huperzia scabrida\n",
      "G+S, matching failed : Huperzia talpiphila\n"
     ]
    },
    {
     "name": "stdout",
     "output_type": "stream",
     "text": [
      "G+S, matching failed : Grammitis basalis\n",
      "G+S, matching failed : Grammitis recondita\n",
      "G+S, matching failed : Munnozia pinnatipartita\n",
      "G+S, matching failed : Melpomene brevipes\n",
      "G+S, matching failed : Micropolypodium aphelolepis\n"
     ]
    },
    {
     "name": "stdout",
     "output_type": "stream",
     "text": [
      "G+S, matching failed : Polypodium argyrolepis\n",
      "G+S, matching failed : Polypodium chionolepis\n",
      "G+S, matching failed : Polypodium latissimum\n",
      "G+S, matching failed : Polypodium mindense\n"
     ]
    },
    {
     "name": "stdout",
     "output_type": "stream",
     "text": [
      "G+S, matching failed : Polypodium mixtum\n",
      "G+S, matching failed : Polypodium piligerum\n",
      "G+S, matching failed : Oligactis asplundii\n",
      "G+S, matching failed : Polypodium quitense\n",
      "G+S, matching failed : Polypodium rimbachii\n",
      "G+S, matching failed : Polypodium scutulatum\n",
      "G+S, matching failed : Polypodium segregatum\n",
      "G+S, matching failed : Microgramma tuberosum\n"
     ]
    },
    {
     "name": "stdout",
     "output_type": "stream",
     "text": [
      "G+S, matching failed : Cheilanthes laciniata\n",
      "G+S+filtered authority, couln't find a unique match : Selaginella sericea\n",
      "G+S, matching failed : Thelypteris aculeata\n",
      "G+S, matching failed : Thelypteris appressa\n",
      "G+S, matching failed : Thelypteris bonapartii\n",
      "G+S, matching failed : Thelypteris campii\n",
      "G+S, matching failed : Thelypteris chimboracensis\n",
      "G+S, matching failed : Thelypteris conformis\n",
      "G+S, matching failed :"
     ]
    },
    {
     "name": "stdout",
     "output_type": "stream",
     "text": [
      " Thelypteris correllii\n",
      "G+S, matching failed : Thelypteris dodsonii\n",
      "G+S, matching failed : Thelypteris elegantula\n",
      "G+S, matching failed : Thelypteris euthythrix\n",
      "G+S, matching failed : Thelypteris fluminalis\n",
      "G+S, matching failed : Thelypteris macra\n",
      "G+S, matching failed : Thelypteris rosenstockii\n",
      "G+S, matching failed : Thelypteris semilunata\n",
      "G+S, matching failed : Thelypteris subtilis\n"
     ]
    },
    {
     "name": "stdout",
     "output_type": "stream",
     "text": [
      "G+S, matching failed : Mikania jamesonii\n",
      "G+S, matching failed : Vernonia nonoensis\n"
     ]
    },
    {
     "name": "stdout",
     "output_type": "stream",
     "text": [
      "G+S, matching failed : Oligactis cusalaguensis\n",
      "G+S, matching failed : Viguiera media\n",
      "G+S, matching failed : Oligactis ecuadoriensis\n",
      "G+S, matching failed : Oligactis pichinchensis\n",
      "G+S, matching failed : Viguiera sodiroi\n"
     ]
    },
    {
     "name": "stdout",
     "output_type": "stream",
     "text": [
      "G+S+filtered authority, couln't find a unique match : Pappobolus ecuadoriensis\n"
     ]
    },
    {
     "name": "stdout",
     "output_type": "stream",
     "text": [
      "G+S, matching failed : Stelechantha arcuata\n",
      "G+S, matching failed : Psychotria moliwensis\n"
     ]
    },
    {
     "name": "stdout",
     "output_type": "stream",
     "text": [
      "G+S, matching failed : Pentacalia floribunda\n"
     ]
    },
    {
     "name": "stdout",
     "output_type": "stream",
     "text": [
      "G+S+filtered authority, couln't find a unique match : Senecio iscoensis\n",
      "G+S, matching failed : Talamancalia fosbergii\n"
     ]
    },
    {
     "name": "stdout",
     "output_type": "stream",
     "text": [
      "G+S, matching failed : Talamancalia putcalensis\n",
      "G+S, matching failed : Verbesina mameana\n"
     ]
    },
    {
     "name": "stdout",
     "output_type": "stream",
     "text": [
      "G+S, matching failed : Scirpus bicolor\n",
      "G+S, matching failed : Geonoma irena\n"
     ]
    },
    {
     "name": "stdout",
     "output_type": "stream",
     "text": [
      "G+S, matching failed : Trichomanes angustatum\n",
      "G+S, matching failed : Anogramma ascensionis\n"
     ]
    },
    {
     "name": "stdout",
     "output_type": "stream",
     "text": [
      "G+S, matching failed : Trilepisium gymnandrum\n",
      "G+S, matching failed : Alsinidendron lychnoides\n",
      "G+S, matching failed : Piper seychellarum\n",
      "G+S+filtered authority, couln't find a unique match : Achyranthes mutica\n"
     ]
    },
    {
     "name": "stdout",
     "output_type": "stream",
     "text": [
      "G+S, matching failed : Leobordea adpressa\n"
     ]
    },
    {
     "name": "stdout",
     "output_type": "stream",
     "text": [
      "G+S, matching failed : Cyanea st-johnii\n",
      "G+S, matching failed : Alsinidendron obovatum\n"
     ]
    },
    {
     "name": "stdout",
     "output_type": "stream",
     "text": [
      "G+S+filtered authority, couln't find a unique match : Ceropegia decidua\n",
      "G+S, matching failed : Labordia cyrtandrae\n"
     ]
    },
    {
     "name": "stdout",
     "output_type": "stream",
     "text": [
      "G+S, matching failed : Cyanea fauriei\n",
      "G+S, matching failed : Alsinidendron trinerve\n",
      "G+S, matching failed : Alsinidendron viscosum\n"
     ]
    },
    {
     "name": "stdout",
     "output_type": "stream",
     "text": [
      "G+S, matching failed : Centaurium sebaeoides\n",
      "G+S+filtered authority, couln't find a unique match : Cyanea hamatiflora\n",
      "G+S+filtered authority, couln't find a unique match : Clermontia oblongifolia\n",
      "G+S, matching failed : Alectryon macrococcus\n"
     ]
    },
    {
     "name": "stdout",
     "output_type": "stream",
     "text": [
      "G+S+filtered authority, couln't find a unique match : Euphorbia alluaudii\n"
     ]
    },
    {
     "name": "stdout",
     "output_type": "stream",
     "text": [
      "G+S+filtered authority, couln't find a unique match : Euphorbia arahaka\n",
      "G+S+filtered authority, couln't find a unique match : Euphorbia beharensis\n",
      "G+S, matching failed : Euphorbia benoistii\n"
     ]
    },
    {
     "name": "stdout",
     "output_type": "stream",
     "text": [
      "G+S, matching failed : Euphorbia mainiana\n",
      "G+S, matching failed : Euphorbia mangelsdorffii\n"
     ]
    },
    {
     "name": "stdout",
     "output_type": "stream",
     "text": [
      "G+S+filtered authority, couln't find a unique match : Euphorbia milii\n"
     ]
    },
    {
     "name": "stdout",
     "output_type": "stream",
     "text": [
      "G+S+filtered authority, couln't find a unique match : Euphorbia duranii\n",
      "G+S, matching failed : Euphorbia enterophora\n",
      "G+S+filtered authority, couln't find a unique match : Euphorbia famatamboay\n"
     ]
    },
    {
     "name": "stdout",
     "output_type": "stream",
     "text": [
      "G+S, matching failed : Euphorbia francoisii\n"
     ]
    },
    {
     "name": "stdout",
     "output_type": "stream",
     "text": [
      "G+S+filtered authority, couln't find a unique match : Euphorbia mahafalensis\n"
     ]
    },
    {
     "name": "stdout",
     "output_type": "stream",
     "text": [
      "G+S, matching failed : Euphorbia pellegrini\n",
      "G+S, matching failed : Euphorbia pirahazo\n",
      "G+S+filtered authority, couln't find a unique match : Euphorbia platyclada\n"
     ]
    },
    {
     "name": "stdout",
     "output_type": "stream",
     "text": [
      "G+S, matching failed : Euphorbia quartziticola\n",
      "G+S, matching failed : Euphorbia randrianjohanyi\n"
     ]
    },
    {
     "name": "stdout",
     "output_type": "stream",
     "text": [
      "G+S, matching failed : Echidnopsis inconspicua\n",
      "G+S, matching failed : Echidnopsis insularis\n",
      "G+S, matching failed : Echidnopsis socotrana\n",
      "G+S, matching failed : Echidnopsis milleri\n",
      "G+S, matching failed : Sarcostemma socotranum\n",
      "G+S, matching failed : Heliotropium aff. wagneri\n"
     ]
    },
    {
     "name": "stdout",
     "output_type": "stream",
     "text": [
      "G+S+filtered authority, couln't find a unique match : Impatiens meruensis\n"
     ]
    },
    {
     "name": "stdout",
     "output_type": "stream",
     "text": [
      "G+S, matching failed : Ballochia atro-virgata\n"
     ]
    },
    {
     "name": "stdout",
     "output_type": "stream",
     "text": [
      "G+S, matching failed : Duvaliandra dioscoridis\n",
      "G+S, matching failed : Echidnopsis bentii\n",
      "G+S, matching failed : Socotrella dolichocnema\n"
     ]
    },
    {
     "name": "stdout",
     "output_type": "stream",
     "text": [
      "G+S, matching failed : Echiochilon pulvinata\n",
      "G+S, matching failed : Heliotropium kuriense\n",
      "G+S, matching failed : Heliotropium shoabense\n",
      "G+S, matching failed : Prenanthes amabilis\n"
     ]
    },
    {
     "name": "stdout",
     "output_type": "stream",
     "text": [
      "G+S, matching failed : Seddera fastigiata\n",
      "G+S, matching failed : Seddera semhahensis\n",
      "G+S, matching failed : Seddera spinosa\n",
      "G+S, matching failed : Trichodesma scotti\n"
     ]
    },
    {
     "name": "stdout",
     "output_type": "stream",
     "text": [
      "G+S+filtered authority, couln't find a unique match : Boswellia bullata\n",
      "G+S, matching failed : Farsetia inconspicua\n",
      "G+S, matching failed : Hemicrambe townsendii\n"
     ]
    },
    {
     "name": "stdout",
     "output_type": "stream",
     "text": [
      "G+S, matching failed : Nesocrambe socotrana\n",
      "G+S+filtered authority, couln't find a unique match : Andrachne schweinfurthii\n"
     ]
    },
    {
     "name": "stdout",
     "output_type": "stream",
     "text": [
      "G+S, matching failed : Cephalocroton socotranus\n",
      "G+S, matching failed : Euphorbia hamaderohensis\n"
     ]
    },
    {
     "name": "stdout",
     "output_type": "stream",
     "text": [
      "G+S, matching failed : Aloe jawiyon\n",
      "G+S+filtered authority, couln't find a unique match : Polycarpaea spicata\n",
      "G+S, matching failed : Polycarpaea paulayana\n",
      "G+S, matching failed : Maytenus sp. nov. A\n"
     ]
    },
    {
     "name": "stdout",
     "output_type": "stream",
     "text": [
      "G+S, matching failed : Dicoma cana\n",
      "G+S, matching failed : Helichrysum aciculare\n",
      "G+S, matching failed : Helichrysum arachnoides\n",
      "G+S, matching failed : Helichrysum balfourii\n",
      "G+S, matching failed : Helichrysum nimmoanum\n",
      "G+S, matching failed : Helichrysum rosulatum\n",
      "G+S, matching failed : Helichrysum sp. nov. A\n",
      "G+S, matching failed : Helichrysum sp. nov. B\n"
     ]
    },
    {
     "name": "stdout",
     "output_type": "stream",
     "text": [
      "G+S, matching failed : Helichrysum sp. nov. C\n",
      "G+S, matching failed : Helichrysum sp. nov. D\n",
      "G+S, matching failed : Helichrysum sp. nov. E\n",
      "G+S, matching failed : Helichrysum sphaerocephalum\n",
      "G+S, matching failed : Helichrysum suffruticosum\n",
      "G+S, matching failed : Kleinia scotti\n",
      "G+S, matching failed : Launaea sp. nov. A\n"
     ]
    },
    {
     "name": "stdout",
     "output_type": "stream",
     "text": [
      "G+S, matching failed : Pulicaria dioscorides\n",
      "G+S, matching failed : Convolvulus grantii\n"
     ]
    },
    {
     "name": "stdout",
     "output_type": "stream",
     "text": [
      "G+S, matching failed : Chlorophytum sp. nov.\n",
      "G+S, matching failed : Leucas samhaensis\n",
      "G+S, matching failed : Asparagus sp. nov. A\n",
      "G+S, matching failed : Leucas spiculifera\n",
      "G+S+filtered authority, couln't find a unique match : Dioscorea lanata\n"
     ]
    },
    {
     "name": "stdout",
     "output_type": "stream",
     "text": [
      "G+S, matching failed : Ischaemum sp. nov.\n"
     ]
    },
    {
     "name": "stdout",
     "output_type": "stream",
     "text": [
      "G+S, matching failed : Dipcadi kuriensis\n",
      "G+S, matching failed : Zygocarpum caeruleum\n"
     ]
    },
    {
     "name": "stdout",
     "output_type": "stream",
     "text": [
      "G+S, matching failed : Ledebouria insularis\n",
      "G+S, matching failed : Babiana socotrana\n",
      "G+S, matching failed : Euphorbia kuriensis\n",
      "G+S, matching failed : Euphorbia leptoclada\n"
     ]
    },
    {
     "name": "stdout",
     "output_type": "stream",
     "text": [
      "G+S, matching failed : Leucas flagellifolia\n",
      "G+S, matching failed : Micromeria remota\n",
      "G+S, matching failed : Chapmannia gracilis\n"
     ]
    },
    {
     "name": "stdout",
     "output_type": "stream",
     "text": [
      "G+S, matching failed : Rughidia cordatum\n"
     ]
    },
    {
     "name": "stdout",
     "output_type": "stream",
     "text": [
      "G+S, matching failed : Portulaca samhaensis\n",
      "G+S, matching failed : Carphalea obovata\n",
      "G+S, matching failed : Gaillonia puberula\n",
      "G+S, matching failed : Gaillonia putorioides\n"
     ]
    },
    {
     "name": "stdout",
     "output_type": "stream",
     "text": [
      "G+S, matching failed : Gaillonia thymoides\n",
      "G+S, matching failed : Gaillonia tinctoria\n",
      "G+S, matching failed : Couepia recurva\n"
     ]
    },
    {
     "name": "stdout",
     "output_type": "stream",
     "text": [
      "G+S, matching failed : Melhania milleri\n",
      "G+S, matching failed : Corchorus erodiodes\n"
     ]
    },
    {
     "name": "stdout",
     "output_type": "stream",
     "text": [
      "G+S, matching failed : Alchornea sodiroi\n"
     ]
    },
    {
     "name": "stdout",
     "output_type": "stream",
     "text": [
      "G+S, matching failed : Croton elegans\n"
     ]
    },
    {
     "name": "stdout",
     "output_type": "stream",
     "text": [
      "G+S, matching failed : Phyllanthus haughtii\n"
     ]
    },
    {
     "name": "stdout",
     "output_type": "stream",
     "text": [
      "G+S, matching failed : Carex azuayae\n",
      "G+S, matching failed : Uncinia ecuadorensis\n",
      "G+S, matching failed : Uncinia lacustris\n"
     ]
    },
    {
     "name": "stdout",
     "output_type": "stream",
     "text": [
      "G+S, matching failed : Uncinia subsacculata\n",
      "G+S, matching failed : Uncinia tenuifolia\n",
      "G+S, matching failed : Syngonanthus yacuambensis\n"
     ]
    },
    {
     "name": "stdout",
     "output_type": "stream",
     "text": [
      "G+S, matching failed : Acalypha andina\n",
      "G+S+filtered authority, couln't find a unique match : Acalypha dictyoneura\n",
      "G+S, matching failed : Acalypha ecuadorica\n",
      "G+S, matching failed : Acalypha eggersii\n",
      "G+S, matching failed : Acalypha schimpffii\n",
      "G+S, matching failed : Acalypha tunguraguae\n",
      "G+S, matching failed : Alchornea leptogyna\n",
      "G+S, matching failed : Gentianella crassulifloia\n"
     ]
    },
    {
     "name": "stdout",
     "output_type": "stream",
     "text": [
      "G+S, matching failed : Phyllanthus sponiaefolius\n"
     ]
    },
    {
     "name": "stdout",
     "output_type": "stream",
     "text": [
      "G+S, matching failed : Browneopsis disepala\n"
     ]
    },
    {
     "name": "stdout",
     "output_type": "stream",
     "text": [
      "G+S, matching failed : Geranium chimborazense\n",
      "G+S, matching failed : Dalea humifosa\n"
     ]
    },
    {
     "name": "stdout",
     "output_type": "stream",
     "text": [
      "G+S, matching failed : Geranium guamanense\n",
      "G+S, matching failed : Geranium holm-nielsenii\n",
      "G+S, matching failed : Erythrina schimpffii\n"
     ]
    },
    {
     "name": "stdout",
     "output_type": "stream",
     "text": [
      "G+S, matching failed : Alloplectus herthae\n",
      "G+S, matching failed : Alloplectus martinianus\n",
      "G+S, matching failed : Lupinus kuntii\n",
      "G+S, matching failed : Alloplectus penduliflorus\n"
     ]
    },
    {
     "name": "stdout",
     "output_type": "stream",
     "text": [
      "G+S, matching failed : Otholobium holosericeum\n",
      "G+S, matching failed : Phaseolus rosei\n"
     ]
    },
    {
     "name": "stdout",
     "output_type": "stream",
     "text": [
      "G+S, matching failed : Zygia steyermarkii\n"
     ]
    },
    {
     "name": "stdout",
     "output_type": "stream",
     "text": [
      "G+S, matching failed : Gentianella hypericoides\n"
     ]
    },
    {
     "name": "stdout",
     "output_type": "stream",
     "text": [
      "G+S, matching failed : Codonanthe erubenscens\n"
     ]
    },
    {
     "name": "stdout",
     "output_type": "stream",
     "text": [
      "G+S, matching failed : Heliconia peckenpaughii\n",
      "G+S, matching failed : Cremosperma ecudoranum\n"
     ]
    },
    {
     "name": "stdout",
     "output_type": "stream",
     "text": [
      "G+S, matching failed : Heliconia willisiana\n",
      "G+S, matching failed : Diastema gymnoleuca\n",
      "G+S, matching failed : Diastema incisum\n",
      "G+S, matching failed : Diastema sodiroanum\n"
     ]
    },
    {
     "name": "stdout",
     "output_type": "stream",
     "text": [
      "G+S+filtered authority, couln't find a unique match : Gasteranthus timidus\n"
     ]
    },
    {
     "name": "stdout",
     "output_type": "stream",
     "text": [
      "G+S, matching failed : Phinaea ecuadorana\n",
      "G+S, matching failed : Hyptis argutifolia\n"
     ]
    },
    {
     "name": "stdout",
     "output_type": "stream",
     "text": [
      "G+S, matching failed : Topobea eplingii\n",
      "G+S, matching failed : Topobea induta\n",
      "G+S, matching failed : Topobea macbrydei\n",
      "G+S, matching failed : Topobea maguirei\n",
      "G+S, matching failed : Dicliptera silvestris\n",
      "G+S, matching failed : Topobea toachiensis\n",
      "G+S, matching failed : Topobea verrucosa\n"
     ]
    },
    {
     "name": "stdout",
     "output_type": "stream",
     "text": [
      "G+S, matching failed : Pararistolochia ceropegioides\n",
      "G+S, matching failed : Pararistolochia goldieana\n"
     ]
    },
    {
     "name": "stdout",
     "output_type": "stream",
     "text": [
      "G+S, matching failed : Drypetes molundana\n",
      "G+S, matching failed : Thecacoris annobonae\n"
     ]
    },
    {
     "name": "stdout",
     "output_type": "stream",
     "text": [
      "G+S, matching failed : Ossaea boekei\n",
      "G+S, matching failed : Ossaea incerta\n",
      "G+S, matching failed : Ossaea palenquensis\n",
      "G+S, matching failed : Ossaea sparrei\n",
      "G+S, matching failed : Topobea asplundii\n"
     ]
    },
    {
     "name": "stdout",
     "output_type": "stream",
     "text": [
      "G+S, matching failed : Topobea brevibractea\n",
      "G+S, matching failed : Topobea cutucuensis\n",
      "G+S, matching failed : Hyptis diversifolia\n",
      "G+S, matching failed : Siparuna piloso-lepidota\n",
      "G+S, matching failed : Hyptis pseudoglauca\n"
     ]
    },
    {
     "name": "stdout",
     "output_type": "stream",
     "text": [
      "G+S, matching failed : Lepechinia rufocampii\n",
      "G+S, matching failed : Ardisia carchiana\n",
      "G+S, matching failed : Geissanthus pinchinchana\n"
     ]
    },
    {
     "name": "stdout",
     "output_type": "stream",
     "text": [
      "G+S, matching failed : Myrcianthes irregularis\n"
     ]
    },
    {
     "name": "stdout",
     "output_type": "stream",
     "text": [
      "G+S, matching failed : Heisteria cyathiformis\n"
     ]
    },
    {
     "name": "stdout",
     "output_type": "stream",
     "text": [
      "G+S, matching failed : Oxalis norlindiana\n",
      "G+S, matching failed : Oxalis rufescens\n"
     ]
    },
    {
     "name": "stdout",
     "output_type": "stream",
     "text": [
      "G+S, matching failed : Passiflora montana\n"
     ]
    },
    {
     "name": "stdout",
     "output_type": "stream",
     "text": [
      "G+S, matching failed : Salvia austromelissodora\n",
      "G+S, matching failed : Salvia humboltiana\n"
     ]
    },
    {
     "name": "stdout",
     "output_type": "stream",
     "text": [
      "G+S, matching failed : Salvia peregrina\n",
      "G+S, matching failed : Aciotis asplundii\n",
      "G+S, matching failed : Aciotis aristellata\n"
     ]
    },
    {
     "name": "stdout",
     "output_type": "stream",
     "text": [
      "G+S, matching failed : Alloneuron dorrii\n",
      "G+S, matching failed : Alloneuron ecuadorense\n",
      "G+S+filtered authority, couln't find a unique match : Nasa humboldtiana\n",
      "G+S, matching failed : Nasa jungifolia\n",
      "G+S, matching failed : Nasa modesta\n",
      "G+S, matching failed : Blakea languinosa\n"
     ]
    },
    {
     "name": "stdout",
     "output_type": "stream",
     "text": [
      "G+S, matching failed : Struthanthus lojae\n"
     ]
    },
    {
     "name": "stdout",
     "output_type": "stream",
     "text": [
      "G+S, matching failed : Stigmaphyllon ecudorense\n"
     ]
    },
    {
     "name": "stdout",
     "output_type": "stream",
     "text": [
      "G+S, matching failed : Wissadula diffusa\n",
      "G+S, matching failed : Calathea chimboracensis\n"
     ]
    },
    {
     "name": "stdout",
     "output_type": "stream",
     "text": [
      "G+S, matching failed : Calathea curaraya\n",
      "G+S, matching failed : Calathea dodsonii\n",
      "G+S, matching failed : Calathea ecuadoriana\n",
      "G+S, matching failed : Calathea gandersii\n"
     ]
    },
    {
     "name": "stdout",
     "output_type": "stream",
     "text": [
      "G+S, matching failed : Calathea libbyana\n",
      "G+S, matching failed : Calathea multicinta\n",
      "G+S, matching failed : Calathea pallidicosta\n",
      "G+S, matching failed : Calathea paucifolia\n",
      "G+S, matching failed : Calathea petersenii\n",
      "G+S, matching failed : Calathea roseobracteata\n"
     ]
    },
    {
     "name": "stdout",
     "output_type": "stream",
     "text": [
      "G+S, matching failed : Calathea veitchiana\n",
      "G+S, matching failed : Marcgravia grandifolia\n"
     ]
    },
    {
     "name": "stdout",
     "output_type": "stream",
     "text": [
      "G+S, matching failed : Clidemia asplundii\n"
     ]
    },
    {
     "name": "stdout",
     "output_type": "stream",
     "text": [
      "G+S, matching failed : Clidemia ecuadorensis\n",
      "G+S, matching failed : Peperomia aphanoneura\n",
      "G+S, matching failed : Clidemia purpurea\n"
     ]
    },
    {
     "name": "stdout",
     "output_type": "stream",
     "text": [
      "G+S, matching failed : Peperomia guayaquilensis\n",
      "G+S, matching failed : Graffenrieda phoenica\n",
      "G+S, matching failed : Huilaea ecuadorensis\n"
     ]
    },
    {
     "name": "stdout",
     "output_type": "stream",
     "text": [
      "G+S, matching failed : Peperomia mitchelioides\n"
     ]
    },
    {
     "name": "stdout",
     "output_type": "stream",
     "text": [
      "G+S, matching failed : Peperomia persuculenta\n"
     ]
    },
    {
     "name": "stdout",
     "output_type": "stream",
     "text": [
      "G+S, matching failed : Peperomia buxifolia\n",
      "G+S, matching failed : Peperomia cordilimba\n"
     ]
    },
    {
     "name": "stdout",
     "output_type": "stream",
     "text": [
      "G+S, matching failed : Piper san-miguelense\n"
     ]
    },
    {
     "name": "stdout",
     "output_type": "stream",
     "text": [
      "G+S, matching failed : Peperomia subdiscoidea\n",
      "G+S, matching failed : Peperomia thienii\n"
     ]
    },
    {
     "name": "stdout",
     "output_type": "stream",
     "text": [
      "G+S, matching failed : Piper guayasanum\n"
     ]
    },
    {
     "name": "stdout",
     "output_type": "stream",
     "text": [
      "G+S, matching failed : Piper nanegalense\n"
     ]
    },
    {
     "name": "stdout",
     "output_type": "stream",
     "text": [
      "G+S, matching failed : Piper productispicum\n"
     ]
    },
    {
     "name": "stdout",
     "output_type": "stream",
     "text": [
      "G+S, matching failed : Pyrenacantha cordicula\n",
      "G+S, matching failed : Neurolepis asymmetrica\n",
      "G+S, matching failed : Neurolepis laegaardii\n",
      "G+S, matching failed : Neurolepis elata\n",
      "G+S, matching failed :"
     ]
    },
    {
     "name": "stdout",
     "output_type": "stream",
     "text": [
      " Neurolepis nana\n",
      "G+S, matching failed : Neurolepis rigida\n"
     ]
    },
    {
     "name": "stdout",
     "output_type": "stream",
     "text": [
      "G+S, matching failed : Keetia bakossii\n",
      "G+S, matching failed : Mitrostigma barteri\n"
     ]
    },
    {
     "name": "stdout",
     "output_type": "stream",
     "text": [
      "G+S, matching failed : Pauridiantha venusta\n",
      "G+S, matching failed : Monnina pseudoaestuans\n",
      "G+S, matching failed : Polygala quitensis\n",
      "G+S, matching failed : Pteromonnina fosbergii\n"
     ]
    },
    {
     "name": "stdout",
     "output_type": "stream",
     "text": [
      "G+S, matching failed : Andropogon benthamianus\n",
      "G+S, matching failed : Andropogon lanuginosus\n"
     ]
    },
    {
     "name": "stdout",
     "output_type": "stream",
     "text": [
      "G+S, matching failed : Lachemilla sprucei\n",
      "G+S, matching failed : Calamagrostis hirta\n"
     ]
    },
    {
     "name": "stdout",
     "output_type": "stream",
     "text": [
      "G+S, matching failed : Neurolepis villosa\n",
      "G+S, matching failed : Panicum acostia\n",
      "G+S, matching failed : Paspalum soboliferum\n",
      "G+S, matching failed : Poa kunthii\n"
     ]
    },
    {
     "name": "stdout",
     "output_type": "stream",
     "text": [
      "G+S, matching failed : Cephaelis peruviana\n"
     ]
    },
    {
     "name": "stdout",
     "output_type": "stream",
     "text": [
      "G+S, matching failed : Coussarea cephaëloides\n"
     ]
    },
    {
     "name": "stdout",
     "output_type": "stream",
     "text": [
      "G+S, matching failed : Diodia incana\n"
     ]
    },
    {
     "name": "stdout",
     "output_type": "stream",
     "text": [
      "G+S, matching failed : Galium flaccidum\n"
     ]
    },
    {
     "name": "stdout",
     "output_type": "stream",
     "text": [
      "G+S, matching failed : Pentagonia orthoneura\n",
      "G+S, matching failed : Pentagonia peruviana\n"
     ]
    },
    {
     "name": "stdout",
     "output_type": "stream",
     "text": [
      "G+S, matching failed : Manettia herthae\n",
      "G+S, matching failed : Manettia lilacina\n",
      "G+S, matching failed : Manettia nubigena\n"
     ]
    },
    {
     "name": "stdout",
     "output_type": "stream",
     "text": [
      "G+S, matching failed : Manettia stenocalyx\n",
      "G+S, matching failed : Pseudosabicea pedicellata\n",
      "G+S, matching failed : Psychotria madida\n",
      "G+S, matching failed : Psychotria rhonhofiae\n"
     ]
    },
    {
     "name": "stdout",
     "output_type": "stream",
     "text": [
      "G+S, matching failed : Sabicea stenantha\n",
      "G+S, matching failed : Rhabdotosperma ledermannii\n"
     ]
    },
    {
     "name": "stdout",
     "output_type": "stream",
     "text": [
      "G+S, matching failed : Lefebvrea kupense\n"
     ]
    },
    {
     "name": "stdout",
     "output_type": "stream",
     "text": [
      "G+S, matching failed : Chimborazoa lachnocarpa\n",
      "G+S, matching failed : Cyperus rheophytorum\n"
     ]
    },
    {
     "name": "stdout",
     "output_type": "stream",
     "text": [
      "G+S, matching failed : Serjania pteleifolia\n",
      "G+S, matching failed : Bartsia alba\n",
      "G+S, matching failed : Bartsia pumila\n",
      "G+S+filtered authority, couln't find a unique match : Calceolaria adenanthera\n"
     ]
    },
    {
     "name": "stdout",
     "output_type": "stream",
     "text": [
      "G+S+filtered authority, couln't find a unique match : Calceolaria pedunculata\n"
     ]
    },
    {
     "name": "stdout",
     "output_type": "stream",
     "text": [
      "G+S, matching failed : Pseudosabicea medusula\n"
     ]
    },
    {
     "name": "stdout",
     "output_type": "stream",
     "text": [
      "G+S, matching failed : Solanum ternifolium\n"
     ]
    },
    {
     "name": "stdout",
     "output_type": "stream",
     "text": [
      "G+S, matching failed : Dendrophthora fastigiata\n"
     ]
    },
    {
     "name": "stdout",
     "output_type": "stream",
     "text": [
      "G+S, matching failed : Renealmia aurantifera\n"
     ]
    },
    {
     "name": "stdout",
     "output_type": "stream",
     "text": [
      "G+S+filtered authority, couln't find a unique match : Aerides lawrenciae\n",
      "G+S, matching failed : Daphnopsis equatorialsis\n",
      "G+S, matching failed : Aerides leeanum\n",
      "G+S, matching failed : Amesiella philippensis\n"
     ]
    },
    {
     "name": "stdout",
     "output_type": "stream",
     "text": [
      "G+S, matching failed : Ascoglossum calopterum\n"
     ]
    },
    {
     "name": "stdout",
     "output_type": "stream",
     "text": [
      "G+S, matching failed : Tropaeolum menispermifolium\n",
      "G+S, matching failed : Pilea jamesonia\n"
     ]
    },
    {
     "name": "stdout",
     "output_type": "stream",
     "text": [
      "G+S, matching failed : Pilea schimpfii\n",
      "G+S, matching failed : Pilea topensis\n",
      "G+S, matching failed : Aretiastrum aretioides\n"
     ]
    },
    {
     "name": "stdout",
     "output_type": "stream",
     "text": [
      "G+S, matching failed : Diaphananthe polydactyla\n",
      "G+S, matching failed : Epigeneium treacherianum\n"
     ]
    },
    {
     "name": "stdout",
     "output_type": "stream",
     "text": [
      "G+S, matching failed : Cestrum tipocochense\n"
     ]
    },
    {
     "name": "stdout",
     "output_type": "stream",
     "text": [
      "G+S, matching failed : Championella sarcorrhiza\n",
      "G+S, matching failed : Larnax andersonii\n",
      "G+S, matching failed : Dyschoriste sinica\n",
      "G+S, matching failed : Larnax psilophyta\n",
      "G+S, matching failed : Larnax steyermarkii\n"
     ]
    },
    {
     "name": "stdout",
     "output_type": "stream",
     "text": [
      "G+S, matching failed : Eranthemum austrosinensis\n",
      "G+S, matching failed : Kudoacanthus albo-nervosa\n",
      "G+S, matching failed : Staurogyne sichuanica\n"
     ]
    },
    {
     "name": "stdout",
     "output_type": "stream",
     "text": [
      "G+S, matching failed : Acer miaotaiense\n"
     ]
    },
    {
     "name": "stdout",
     "output_type": "stream",
     "text": [
      "G+S, matching failed : Actinidia stellatopilosa\n",
      "G+S, matching failed : Actinidia suberifolia\n",
      "G+S, matching failed : Solanum chrysasteroides\n",
      "G+S, matching failed : Actinidia ulmifolia\n",
      "G+S+filtered authority, couln't find a unique match : Saurauia erythrocarpa\n"
     ]
    },
    {
     "name": "stdout",
     "output_type": "stream",
     "text": [
      "G+S, matching failed : Solanum cremastanthemum\n",
      "G+S, matching failed : Solanum densepilosulum\n"
     ]
    },
    {
     "name": "stdout",
     "output_type": "stream",
     "text": [
      "G+S, matching failed : Solanum semicoalitum\n",
      "G+S, matching failed : Bulbophyllum kupense\n"
     ]
    },
    {
     "name": "stdout",
     "output_type": "stream",
     "text": [
      "G+S, matching failed : Polystachya farinosa\n",
      "G+S, matching failed : Cotinus nana\n",
      "G+S, matching failed : Eleutherococcus verticillatus\n"
     ]
    },
    {
     "name": "stdout",
     "output_type": "stream",
     "text": [
      "G+S, matching failed : Euaraliopsis dumicola\n",
      "G+S, matching failed : Heteropanax nitentifolius\n",
      "G+S, matching failed : Tetrapanax tibetanus\n"
     ]
    },
    {
     "name": "stdout",
     "output_type": "stream",
     "text": [
      "G+S+filtered authority, couln't find a unique match : Aristolochia hainanensis\n",
      "G+S, matching failed : Orophea yunnanensis\n"
     ]
    },
    {
     "name": "stdout",
     "output_type": "stream",
     "text": [
      "G+S, matching failed : Polyalthia pingpienensis\n",
      "G+S, matching failed : Richella hainanensis\n",
      "G+S, matching failed : Uvaria kweichowensis\n",
      "G+S, matching failed : Alstonia henryi\n"
     ]
    },
    {
     "name": "stdout",
     "output_type": "stream",
     "text": [
      "G+S, matching failed : Ilex dabieshanensis\n"
     ]
    },
    {
     "name": "stdout",
     "output_type": "stream",
     "text": [
      "G+S, matching failed : Ilex occulta\n",
      "G+S, matching failed : Ilex reticulata\n",
      "G+S, matching failed : Ilex shimeica\n"
     ]
    },
    {
     "name": "stdout",
     "output_type": "stream",
     "text": [
      "G+S, matching failed : Brassaiopsis kwangsiensis\n",
      "G+S, matching failed : Merrilliopanax chinensis\n"
     ]
    },
    {
     "name": "stdout",
     "output_type": "stream",
     "text": [
      "G+S, matching failed : Schefflera rubriflora\n",
      "G+S, matching failed : Berberis woomungensis\n"
     ]
    },
    {
     "name": "stdout",
     "output_type": "stream",
     "text": [
      "G+S, matching failed : Berberis xanthophloea\n",
      "G+S, matching failed : Mahonia conferta\n",
      "G+S, matching failed : Mahonia decipiens\n"
     ]
    },
    {
     "name": "stdout",
     "output_type": "stream",
     "text": [
      "G+S, matching failed : Calamus obovoideus\n",
      "G+S, matching failed : Licuala dasyantha\n"
     ]
    },
    {
     "name": "stdout",
     "output_type": "stream",
     "text": [
      "G+S, matching failed : Aristolochia yunnanensis\n"
     ]
    },
    {
     "name": "stdout",
     "output_type": "stream",
     "text": [
      "G+S, matching failed : Cynanchum taihangense\n"
     ]
    },
    {
     "name": "stdout",
     "output_type": "stream",
     "text": [
      "G+S, matching failed : Impatiens wilsoni\n"
     ]
    },
    {
     "name": "stdout",
     "output_type": "stream",
     "text": [
      "G+S, matching failed : Berberis iteophylla\n",
      "G+S, matching failed : Dysosma aurantiocaulis\n",
      "G+S, matching failed : Dysosma tsayuensis\n",
      "G+S, matching failed : Dysosma veitchii\n",
      "G+S, matching failed : Epimedium parvifolium\n"
     ]
    },
    {
     "name": "stdout",
     "output_type": "stream",
     "text": [
      "G+S, matching failed : Dendrobium flexicaule\n",
      "G+S, matching failed : Trachycarpus nana\n",
      "G+S, matching failed : Dendrobium changjiangense\n",
      "G+S, matching failed : Dendrobium guangxiense\n",
      "G+S, matching failed : Adiantum sinicum\n"
     ]
    },
    {
     "name": "stdout",
     "output_type": "stream",
     "text": [
      "G+S, matching failed : Cystoathyrium chinense\n",
      "G+S, matching failed : Gastrodia tuberculata\n",
      "G+S, matching failed : Blechnum eburneum\n",
      "G+S, matching failed : Gymnadenia bicornis\n",
      "G+S, matching failed : Acrorumohra hasseltii\n"
     ]
    },
    {
     "name": "stdout",
     "output_type": "stream",
     "text": [
      "G+S, matching failed : Cyrtomium hemionitis\n"
     ]
    },
    {
     "name": "stdout",
     "output_type": "stream",
     "text": [
      "G+S, matching failed : Hemipilia amesiana\n",
      "G+S+filtered authority, couln't find a unique match : Isoetes taiwanensis\n",
      "G+S, matching failed : Hemipilia crassicalcara\n",
      "G+S, matching failed : Oleandra hainanensis\n",
      "G+S, matching failed : Hemipilia cruciata\n"
     ]
    },
    {
     "name": "stdout",
     "output_type": "stream",
     "text": [
      "G+S, matching failed : Stenochlaena hainanensis\n",
      "G+S, matching failed : Holopogon gaudissartii\n",
      "G+S, matching failed : Holopogon smithianus\n",
      "G+S, matching failed : Cyclosorus sino-acuminata\n"
     ]
    },
    {
     "name": "stdout",
     "output_type": "stream",
     "text": [
      "G+S, matching failed : Neottianthe camptoceras\n",
      "G+S, matching failed : Acanthephippium sinense\n",
      "G+S, matching failed : Amitostigma bifoliatum\n",
      "G+S, matching failed : Amitostigma capitatum\n",
      "G+S, matching failed : Amitostigma hemipilioides\n",
      "G+S, matching failed : Amitostigma simplex\n",
      "G+S, matching failed : Amitostigma tetralobum\n"
     ]
    },
    {
     "name": "stdout",
     "output_type": "stream",
     "text": [
      "G+S, matching failed : Amitostigma yuanum\n",
      "G+S, matching failed : Cymbidium defoliatum\n",
      "G+S, matching failed : Cymbidium nanulum\n",
      "G+S, matching failed : Dendrobium huoshanense\n",
      "G+S, matching failed : Dendrobium officinale\n"
     ]
    },
    {
     "name": "stdout",
     "output_type": "stream",
     "text": [
      "G+S, matching failed : Dendrobium sinense\n",
      "G+S, matching failed : Diplandrorchis sinica\n",
      "G+S, matching failed : Eulophia faberi\n",
      "G+S, matching failed : Phalaenopsis hainanensis\n"
     ]
    },
    {
     "name": "stdout",
     "output_type": "stream",
     "text": [
      "G+S, matching failed : Platanthera deflexilabella\n",
      "G+S, matching failed : Othonna clavifolia\n",
      "G+S, matching failed : Platanthera likiangensis\n",
      "G+S, matching failed : Platanthera longiglandula\n"
     ]
    },
    {
     "name": "stdout",
     "output_type": "stream",
     "text": [
      "G+S, matching failed : Brownanthus namibensis\n",
      "G+S, matching failed : Platanthera platantheroides\n",
      "G+S, matching failed : Brownanthus pubescens\n",
      "G+S, matching failed : Platanthera sinica\n"
     ]
    },
    {
     "name": "stdout",
     "output_type": "stream",
     "text": [
      "G+S, matching failed : Smithorchis calceoliformis\n",
      "G+S, matching failed : Juttadinteria kovisimontana\n",
      "G+S, matching failed : Juttadinteria suavissima\n"
     ]
    },
    {
     "name": "stdout",
     "output_type": "stream",
     "text": [
      "G+S, matching failed : Lithops hermetica\n",
      "G+S, matching failed : Lithops vallis-mariae\n"
     ]
    },
    {
     "name": "stdout",
     "output_type": "stream",
     "text": [
      "G+S+filtered authority, couln't find a unique match : Aloe dewinteri\n",
      "G+S, matching failed : Aloe dinteri\n"
     ]
    },
    {
     "name": "stdout",
     "output_type": "stream",
     "text": [
      "G+S, matching failed : Aloe sladeniana\n",
      "G+S, matching failed : Bulbine caput-medusae\n"
     ]
    },
    {
     "name": "stdout",
     "output_type": "stream",
     "text": [
      "G+S, matching failed : Rhadamanthus namibensis\n",
      "G+S, matching failed : Rhadamanthus secundus\n",
      "G+S, matching failed : Whiteheadia etesionamibensis\n"
     ]
    },
    {
     "name": "stdout",
     "output_type": "stream",
     "text": [
      "G+S, matching failed : Pentatrichia avasmontana\n"
     ]
    },
    {
     "name": "stdout",
     "output_type": "stream",
     "text": [
      "G+S, matching failed : Antimima quartzitica\n",
      "G+S, matching failed : Cucumella clavipetiolata\n",
      "G+S, matching failed : Suessenguthiella caespitosa\n",
      "G+S, matching failed : Sesamothamnus leistneranus\n"
     ]
    },
    {
     "name": "stdout",
     "output_type": "stream",
     "text": [
      "G+S, matching failed : Euphorbia namuskluftensis\n",
      "G+S, matching failed : Leobordea mirabilis\n"
     ]
    },
    {
     "name": "stdout",
     "output_type": "stream",
     "text": [
      "G+S, matching failed : Brachystelma schinzii\n",
      "G+S, matching failed : Brachystelma schultzei\n",
      "G+S, matching failed : Hoodia juttae\n",
      "G+S, matching failed : Hoodia ruschii\n",
      "G+S, matching failed : Hoodia triebneri\n",
      "G+S, matching failed : Lavrania haagnerae\n",
      "G+S, matching failed : Larryleachia tirasmontana\n"
     ]
    },
    {
     "name": "stdout",
     "output_type": "stream",
     "text": [
      "G+S, matching failed : Baynesia lophophora\n",
      "G+S, matching failed : Australluma peschii\n",
      "G+S, matching failed : Stapelia pearsonii\n",
      "G+S, matching failed : Tridentea pachyrrhiza\n",
      "G+S, matching failed : Huernia hallii\n",
      "G+S, matching failed : Huernia plowesii\n"
     ]
    },
    {
     "name": "stdout",
     "output_type": "stream",
     "text": [
      "G+S, matching failed : Tylecodon aridimontanus\n",
      "G+S, matching failed : Zygophyllum giessii\n",
      "G+S, matching failed : Neoluederitzia sericeocarpa\n"
     ]
    },
    {
     "name": "stdout",
     "output_type": "stream",
     "text": [
      "G+S, matching failed : Monechma serotinum\n"
     ]
    },
    {
     "name": "stdout",
     "output_type": "stream",
     "text": [
      "G+S, matching failed : Cyclosorus boydiae\n",
      "G+S, matching failed : Cyclosorus wailele\n",
      "G+S, matching failed : Narcissus longispathus\n",
      "G+S, matching failed : Echium valentinum\n"
     ]
    },
    {
     "name": "stdout",
     "output_type": "stream",
     "text": [
      "G+S, matching failed : Narcissus radinganorum\n",
      "G+S, matching failed : Apium bermejoi\n"
     ]
    },
    {
     "name": "stdout",
     "output_type": "stream",
     "text": [
      "G+S, matching failed : Ligusticum huteri\n",
      "G+S, matching failed : Narcissus nevadensis\n",
      "G+S, matching failed : Calendula maritima\n"
     ]
    },
    {
     "name": "stdout",
     "output_type": "stream",
     "text": [
      "G+S, matching failed : Omphalodes littoralis\n",
      "G+S, matching failed : Helichrysum melitense\n",
      "G+S, matching failed : Senecio alboranicus\n",
      "G+S, matching failed : Jasione mansanetiana\n"
     ]
    },
    {
     "name": "stdout",
     "output_type": "stream",
     "text": [
      "G+S, matching failed : Erysimum kykkoticum\n",
      "G+S, matching failed : Arenaria bolosii\n",
      "G+S, matching failed : Moehringia fontqueri\n"
     ]
    },
    {
     "name": "stdout",
     "output_type": "stream",
     "text": [
      "G+S, matching failed : Medicago citrina\n",
      "G+S, matching failed : Lithodora nitida\n",
      "G+S, matching failed : Solenanthus reverchonii\n"
     ]
    },
    {
     "name": "stdout",
     "output_type": "stream",
     "text": [
      "G+S, matching failed : Greenwayodendron suaveolens\n",
      "G+S+filtered authority, couln't find a unique match : Kirkia burgeri\n",
      "G+S, matching failed : Calligonum molle\n",
      "G+S, matching failed : Calligonum matteianum\n"
     ]
    },
    {
     "name": "stdout",
     "output_type": "stream",
     "text": [
      "G+S, matching failed : Amygdalus bucharica\n",
      "G+S, matching failed : Amygdalus ledebouriana\n",
      "G+S, matching failed : Armeniaca vulgaris\n",
      "G+S, matching failed : Populus berkarensis\n",
      "G+S, matching failed : Atraphaxis muschketowi\n",
      "G+S, matching failed : Prunus tadzhikistanica\n",
      "G+S, matching failed : Berberis iliensis\n",
      "G+S, matching failed : Pyrus cajon\n"
     ]
    },
    {
     "name": "stdout",
     "output_type": "stream",
     "text": [
      "G+S, matching failed : Spiraeanthus schrenkianus\n",
      "G+S, matching failed : Zygophyllum bucharicum\n",
      "G+S, matching failed : Zygophyllum darvasicum\n",
      "G+S, matching failed : Amygdalus petunnikowi\n",
      "G+S, matching failed : Berberis kaschgarica\n",
      "G+S+filtered authority, couln't find a unique match : Pistacia vera\n",
      "G+S, matching failed : Restella alberti\n"
     ]
    },
    {
     "name": "stdout",
     "output_type": "stream",
     "text": [
      "G+S, matching failed : Amygdalus susakensis\n",
      "G+S, matching failed : Crataegus darvasica\n",
      "G+S, matching failed : Crataegus necopinata\n",
      "G+S, matching failed : Crataegus knorringiana\n",
      "G+S, matching failed : Lonicera paradoxa\n",
      "G+S, matching failed : Lonicera karataviensis\n",
      "G+S, matching failed : Malus niedzwetzkyana\n",
      "G+S, matching failed : Polygonum toktogulicum\n",
      "G+S, matching failed : Astragalus tscharynensis\n"
     ]
    },
    {
     "name": "stdout",
     "output_type": "stream",
     "text": [
      "G+S, matching failed : Astragalus krascheninnikovii\n",
      "G+S, matching failed : Pyrus asia-mediae\n",
      "G+S, matching failed : Sibiraea altaiensis\n",
      "G+S, matching failed : Rhizoclonium robustum\n",
      "G+S, matching failed : Sorbaria olgae\n"
     ]
    },
    {
     "name": "stdout",
     "output_type": "stream",
     "text": [
      "G+S, matching failed : Aflatunia ulmifolia\n",
      "G+S, matching failed : Celtis caucasica\n",
      "G+S, matching failed : Crataegus korolkowi\n",
      "G+S, matching failed : Crataegus pontica\n",
      "G+S, matching failed : Euonymus koopmannii\n"
     ]
    },
    {
     "name": "stdout",
     "output_type": "stream",
     "text": [
      "G+S, matching failed : Keyserlingia mollis\n",
      "G+S, matching failed : Ledum palustre\n"
     ]
    },
    {
     "name": "stdout",
     "output_type": "stream",
     "text": [
      "G+S, matching failed : Asparagopsis svedelii\n",
      "G+S, matching failed : Ceramium howellii\n",
      "G+S, matching failed : Ceramium prostratum\n"
     ]
    },
    {
     "name": "stdout",
     "output_type": "stream",
     "text": [
      "G+S, matching failed : Ceramium templetonii\n",
      "G+S, matching failed : Austrofolium equatorianum\n",
      "G+S, matching failed : Austrofolium howellii\n",
      "G+S, matching failed : Myriogramme kylinii\n",
      "G+S, matching failed : Phycodrina elegans\n",
      "G+S, matching failed : Pseudolaingia hancockii\n"
     ]
    },
    {
     "name": "stdout",
     "output_type": "stream",
     "text": [
      "G+S, matching failed : Laurencia densissima\n",
      "G+S, matching failed : Laurencia ligulata\n",
      "G+S, matching failed : Laurencia mediocris\n",
      "G+S, matching failed : Laurencia oppositocladia\n",
      "G+S, matching failed : Amphiroa crustiformis\n",
      "G+S, matching failed : Amphiroa galapagensis\n",
      "G+S, matching failed : Archaeolithothamnion crosslandii\n",
      "G+S, matching failed : Goniolithon alternans\n"
     ]
    },
    {
     "name": "stdout",
     "output_type": "stream",
     "text": [
      "G+S, matching failed : Lithophyllum complexum\n",
      "G+S, matching failed : Lithophyllum rileyi\n",
      "G+S, matching failed : Lithophyllum sancti-georgei\n",
      "G+S, matching failed : Tenarea erecta\n",
      "G+S, matching failed : Lithothamnion cottonii\n",
      "G+S, matching failed : Lithothamnion pocillum\n",
      "G+S, matching failed : Chondrus hancockii\n"
     ]
    },
    {
     "name": "stdout",
     "output_type": "stream",
     "text": [
      "G+S, matching failed : Pugetia latiloba\n",
      "G+S, matching failed : Ahnfeltiopsis smithii\n",
      "G+S, matching failed : Ochtodes crokeri\n",
      "G+S, matching failed : Halymenia santamariae\n"
     ]
    },
    {
     "name": "stdout",
     "output_type": "stream",
     "text": [
      "G+S, matching failed : Galaxaura barbata\n",
      "G+S, matching failed : Schizymenia ecuadoreana\n",
      "G+S, matching failed : Botryocladia darwinii\n"
     ]
    },
    {
     "name": "stdout",
     "output_type": "stream",
     "text": [
      "G+S, matching failed : Adenophora taquetii\n"
     ]
    },
    {
     "name": "stdout",
     "output_type": "stream",
     "text": [
      "G+S, matching failed : Anemone maxima\n"
     ]
    },
    {
     "name": "stdout",
     "output_type": "stream",
     "text": [
      "G+S, matching failed : Koyamacalia pseudotaimingasa\n",
      "G+S, matching failed : Spartina alterniflora\n"
     ]
    },
    {
     "name": "stdout",
     "output_type": "stream",
     "text": [
      "G+S+filtered authority, couln't find a unique match : Myosotis laxa\n",
      "G+S+filtered authority, couln't find a unique match : Pulicaria arabica\n",
      "G+S+filtered authority, couln't find a unique match : Pulicaria inuloides\n",
      "G+S+filtered authority, couln't find a unique match : Carex distans\n"
     ]
    },
    {
     "name": "stdout",
     "output_type": "stream",
     "text": [
      "G+S, matching failed : Fimbristylis sieberiana\n",
      "G+S, matching failed : Pycreus dwarkensis\n",
      "G+S, matching failed : Schoenoplectus mucronatus\n"
     ]
    },
    {
     "name": "stdout",
     "output_type": "stream",
     "text": [
      "G+S+filtered authority, couln't find a unique match : Juncus fontanesii\n"
     ]
    },
    {
     "name": "stdout",
     "output_type": "stream",
     "text": [
      "G+S+filtered authority, couln't find a unique match : Ranunculus trichophyllus\n",
      "G+S+filtered authority, couln't find a unique match : Veronica anagalloides\n",
      "G+S+filtered authority, couln't find a unique match : Apium graveolens\n",
      "G+S, matching failed : Apium nodiflorum\n"
     ]
    },
    {
     "name": "stdout",
     "output_type": "stream",
     "text": [
      "G+S, matching failed : Kyllinga microstyla\n",
      "G+S, matching failed : Brachiaria scalaris\n"
     ]
    },
    {
     "name": "stdout",
     "output_type": "stream",
     "text": [
      "G+S+filtered authority, couln't find a unique match : Sebaea pentandra\n"
     ]
    },
    {
     "name": "stdout",
     "output_type": "stream",
     "text": [
      "G+S, matching failed : Magnolia elliptigemmata\n",
      "G+S, matching failed : Magnolia guangdongensis\n",
      "G+S, matching failed : Magnolia guangxiensis\n",
      "G+S, matching failed : Magnolia iteophylla\n"
     ]
    },
    {
     "name": "stdout",
     "output_type": "stream",
     "text": [
      "G+S, matching failed : Magnolia mirifolia\n"
     ]
    },
    {
     "name": "stdout",
     "output_type": "stream",
     "text": [
      "G+S, matching failed : Magnolia xiana\n",
      "G+S, matching failed : Magnolia xinganensis\n"
     ]
    },
    {
     "name": "stdout",
     "output_type": "stream",
     "text": [
      "G+S, matching failed : Dissotis pobeguinii\n",
      "G+S, matching failed : Prospero battagliae\n"
     ]
    },
    {
     "name": "stdout",
     "output_type": "stream",
     "text": [
      "G+S, matching failed : Prospero hierae\n",
      "G+S, matching failed : Prospero hierapytnense\n",
      "G+S, matching failed : Prospero idaeum\n",
      "G+S, matching failed : Prospero minimum\n",
      "G+S+filtered authority, couln't find a unique match : Bidens micrantha\n"
     ]
    },
    {
     "name": "stdout",
     "output_type": "stream",
     "text": [
      "G+S, matching failed : Consolea falcata\n",
      "G+S, matching failed : Copiapoa angustiflora\n",
      "G+S, matching failed : Corryocactus pulquinensis\n",
      "G+S, matching failed : Pilosocereus tillianus\n",
      "G+S, matching failed : Discocactus petr-halfari\n"
     ]
    },
    {
     "name": "stdout",
     "output_type": "stream",
     "text": [
      "G+S+filtered authority, couln't find a unique match : Fuirena ciliaris\n"
     ]
    },
    {
     "name": "stdout",
     "output_type": "stream",
     "text": [
      "G+S, matching failed : Xylosma serrata\n"
     ]
    },
    {
     "name": "stdout",
     "output_type": "stream",
     "text": [
      "G+S+filtered authority, couln't find a unique match : Cyperus flavescens\n",
      "G+S+filtered authority, couln't find a unique match : Cyperus dubius\n"
     ]
    },
    {
     "name": "stdout",
     "output_type": "stream",
     "text": [
      "G+S+filtered authority, couln't find a unique match : Aleurites moluccanus\n"
     ]
    },
    {
     "name": "stdout",
     "output_type": "stream",
     "text": [
      "G+S, matching failed : Allium garganicum\n",
      "G+S, matching failed : Allium galileum\n",
      "G+S, matching failed : Allium hemisphaericum\n",
      "G+S, matching failed : Allium diomedeum\n"
     ]
    },
    {
     "name": "stdout",
     "output_type": "stream",
     "text": [
      "G+S, matching failed : Allium drusorum\n"
     ]
    },
    {
     "name": "stdout",
     "output_type": "stream",
     "text": [
      "G+S, matching failed : Leucopoa calabrica\n",
      "G+S, matching failed : Allium sprengeri\n",
      "G+S, matching failed : Bellevalia pelagica\n"
     ]
    },
    {
     "name": "stdout",
     "output_type": "stream",
     "text": [
      "G+S, matching failed : Allium telmatum\n"
     ]
    },
    {
     "name": "stdout",
     "output_type": "stream",
     "text": [
      "G+S, matching failed : Allium hermoneum\n",
      "G+S, matching failed : Festuca humifusa\n"
     ]
    },
    {
     "name": "stdout",
     "output_type": "stream",
     "text": [
      "G+S+filtered authority, couln't find a unique match : Arisarum simorrhinum\n",
      "G+S, matching failed : Iris calabra\n",
      "G+S, matching failed : Gagea subtrigona\n"
     ]
    },
    {
     "name": "stdout",
     "output_type": "stream",
     "text": [
      "G+S, matching failed : Gagea sicula\n",
      "G+S, matching failed : Romulea bifrons\n",
      "G+S+filtered authority, couln't find a unique match : Gagea mauritanica\n"
     ]
    },
    {
     "name": "stdout",
     "output_type": "stream",
     "text": [
      "G+S, matching failed : Iris auranitica\n"
     ]
    },
    {
     "name": "stdout",
     "output_type": "stream",
     "text": [
      "G+S, matching failed : Festuca delicatula\n",
      "G+S, matching failed : Gagea cossoniana\n"
     ]
    },
    {
     "name": "stdout",
     "output_type": "stream",
     "text": [
      "G+S, matching failed : Iris hellenica\n"
     ]
    },
    {
     "name": "stdout",
     "output_type": "stream",
     "text": [
      "G+S, matching failed : Prospero talosii\n",
      "G+S+filtered authority, couln't find a unique match : Helictotrichon filifolium\n",
      "G+S, matching failed : Prospero rhadamanthi\n"
     ]
    },
    {
     "name": "stdout",
     "output_type": "stream",
     "text": [
      "G+S, matching failed : Allium calabrum\n"
     ]
    },
    {
     "name": "stdout",
     "output_type": "stream",
     "text": [
      "G+S, matching failed : Puccinellia gussonei\n",
      "G+S, matching failed : Allium makmelianum\n",
      "G+S, matching failed : Romulea penzigii\n",
      "G+S, matching failed : Allium makrianum\n",
      "G+S, matching failed : Romulea villaretii\n"
     ]
    },
    {
     "name": "stdout",
     "output_type": "stream",
     "text": [
      "G+S, matching failed : Romulea revelierei\n",
      "G+S, matching failed : Allium apulum\n"
     ]
    },
    {
     "name": "stdout",
     "output_type": "stream",
     "text": [
      "G+S+filtered authority, couln't find a unique match : Crocus hadriaticus\n",
      "G+S, matching failed : Narcissus obesus\n",
      "G+S, matching failed : Narcissus supramontanus\n",
      "G+S, matching failed : Narcissus tingitanus\n"
     ]
    },
    {
     "name": "stdout",
     "output_type": "stream",
     "text": [
      "G+S, matching failed : Leucojum ionicum\n"
     ]
    },
    {
     "name": "stdout",
     "output_type": "stream",
     "text": [
      "G+S, matching failed : Tulipa lownei\n",
      "G+S, matching failed : Narcissus magni-abilii\n",
      "G+S, matching failed : Narcissus lusitanicus\n"
     ]
    },
    {
     "name": "stdout",
     "output_type": "stream",
     "text": [
      "G+S, matching failed : Tulipa hageri\n",
      "G+S, matching failed : Iris yebrudii\n"
     ]
    },
    {
     "name": "stdout",
     "output_type": "stream",
     "text": [
      "G+S+filtered authority, couln't find a unique match : Aira tenorei\n",
      "G+S+filtered authority, couln't find a unique match : Cyperus longus\n",
      "G+S+filtered authority, couln't find a unique match : Fimbristylis bisumbellata\n"
     ]
    },
    {
     "name": "stdout",
     "output_type": "stream",
     "text": [
      "G+S+filtered authority, couln't find a unique match : Fimbristylis ferruginea\n",
      "G+S+filtered authority, couln't find a unique match : Cyperus polystachyos\n"
     ]
    },
    {
     "name": "stdout",
     "output_type": "stream",
     "text": [
      "G+S+filtered authority, couln't find a unique match : Aegilops triuncialis\n"
     ]
    },
    {
     "name": "stdout",
     "output_type": "stream",
     "text": [
      "G+S+filtered authority, couln't find a unique match : Avena fatua\n",
      "G+S+filtered authority, couln't find a unique match : Avena sterilis\n",
      "G+S+filtered authority, couln't find a unique match : Triticum monococcum\n",
      "G+S+filtered authority, couln't find a unique match : Prunus spinosa\n"
     ]
    },
    {
     "name": "stdout",
     "output_type": "stream",
     "text": [
      "G+S+filtered authority, couln't find a unique match : Medicago sativa\n"
     ]
    },
    {
     "name": "stdout",
     "output_type": "stream",
     "text": [
      "G+S+filtered authority, couln't find a unique match : Hordeum murinum\n",
      "G+S+filtered authority, couln't find a unique match : Spergularia media\n"
     ]
    },
    {
     "name": "stdout",
     "output_type": "stream",
     "text": [
      "G+S, matching failed : Potentilla palustris\n",
      "G+S, matching failed : Kobresia simpliciuscula\n"
     ]
    },
    {
     "name": "stdout",
     "output_type": "stream",
     "text": [
      "G+S, matching failed : Stuckenia amblyophyla\n",
      "G+S+filtered authority, couln't find a unique match : Carex caespitosa\n",
      "G+S+filtered authority, couln't find a unique match : Epilobium anatolicum\n"
     ]
    },
    {
     "name": "stdout",
     "output_type": "stream",
     "text": [
      "G+S, matching failed : Polygonum cappadocium\n",
      "G+S, matching failed : Tetragonolobus maritimus\n",
      "G+S, matching failed : Lythrum anatolicum\n"
     ]
    },
    {
     "name": "stdout",
     "output_type": "stream",
     "text": [
      "G+S+filtered authority, couln't find a unique match : Carex umbrosa\n",
      "G+S+filtered authority, couln't find a unique match : Angelica sylvestris\n",
      "G+S+filtered authority, couln't find a unique match : Carex pseudofoetida\n"
     ]
    },
    {
     "name": "stdout",
     "output_type": "stream",
     "text": [
      "G+S+filtered authority, couln't find a unique match : Pedicularis palustris\n"
     ]
    },
    {
     "name": "stdout",
     "output_type": "stream",
     "text": [
      "G+S+filtered authority, couln't find a unique match : Carex orbicularis\n"
     ]
    },
    {
     "name": "stdout",
     "output_type": "stream",
     "text": [
      "G+S+filtered authority, couln't find a unique match : Primula auriculata\n",
      "G+S+filtered authority, couln't find a unique match : Veronica serpyllifolia\n"
     ]
    },
    {
     "name": "stdout",
     "output_type": "stream",
     "text": [
      "G+S, matching failed : Nepenthes angasanensis\n"
     ]
    },
    {
     "name": "stdout",
     "output_type": "stream",
     "text": [
      "G+S, matching failed : Acacia allenii\n",
      "G+S, matching failed : Acacia amazonica\n",
      "G+S, matching failed : Acacia ankokib\n"
     ]
    },
    {
     "name": "stdout",
     "output_type": "stream",
     "text": [
      "G+S, matching failed : Acacia bussei\n",
      "G+S, matching failed : Acacia ehrenbergiana\n",
      "G+S, matching failed : Acacia gilliesii\n",
      "G+S, matching failed : Acacia hecatophylla\n"
     ]
    },
    {
     "name": "stdout",
     "output_type": "stream",
     "text": [
      "G+S, matching failed : Acacia leucospira\n",
      "G+S, matching failed : Acacia menabeensis\n",
      "G+S+filtered authority, couln't find a unique match : Inga jinicuil\n",
      "G+S, matching failed : Acacia negrii\n",
      "G+S, matching failed : Acacia piauhiensis\n",
      "G+S, matching failed : Acacia pluricapitata\n"
     ]
    },
    {
     "name": "stdout",
     "output_type": "stream",
     "text": [
      "G+S, matching failed : Acacia somalensis\n",
      "G+S+filtered authority, couln't find a unique match : Adesmia cordobensis\n"
     ]
    },
    {
     "name": "stdout",
     "output_type": "stream",
     "text": [
      "G+S+filtered authority, couln't find a unique match : Aeschynomene marginata\n",
      "G+S+filtered authority, couln't find a unique match : Aeschynomene venulosa\n"
     ]
    },
    {
     "name": "stdout",
     "output_type": "stream",
     "text": [
      "G+S+filtered authority, couln't find a unique match : Amorpha californica\n",
      "G+S+filtered authority, couln't find a unique match : Aotus subglauca\n"
     ]
    },
    {
     "name": "stdout",
     "output_type": "stream",
     "text": [
      "G+S+filtered authority, couln't find a unique match : Astragalus floccosus\n"
     ]
    },
    {
     "name": "stdout",
     "output_type": "stream",
     "text": [
      "G+S, matching failed : Astragalus bosbutooensis\n",
      "G+S, matching failed : Astragalus buschiorum\n",
      "G+S+filtered authority, couln't find a unique match : Astragalus coltonii\n"
     ]
    },
    {
     "name": "stdout",
     "output_type": "stream",
     "text": [
      "G+S, matching failed : Astragalus cottamii\n",
      "G+S+filtered authority, couln't find a unique match : Astragalus crassicarpus\n"
     ]
    },
    {
     "name": "stdout",
     "output_type": "stream",
     "text": [
      "G+S+filtered authority, couln't find a unique match : Astragalus flexuosus\n",
      "G+S+filtered authority, couln't find a unique match : Astragalus geyeri\n",
      "G+S, matching failed : Astragalus ikonnikovii\n"
     ]
    },
    {
     "name": "stdout",
     "output_type": "stream",
     "text": [
      "G+S, matching failed : Astragalus koslovii\n"
     ]
    },
    {
     "name": "stdout",
     "output_type": "stream",
     "text": [
      "G+S+filtered authority, couln't find a unique match : Astragalus sparsiflorus\n"
     ]
    },
    {
     "name": "stdout",
     "output_type": "stream",
     "text": [
      "G+S+filtered authority, couln't find a unique match : Astragalus whitneyi\n",
      "G+S, matching failed : Oxytropis zemuensis\n",
      "G+S+filtered authority, couln't find a unique match : Baphia buettneri\n"
     ]
    },
    {
     "name": "stdout",
     "output_type": "stream",
     "text": [
      "G+S+filtered authority, couln't find a unique match : Bauhinia acuminata\n",
      "G+S+filtered authority, couln't find a unique match : Bauhinia purpurea\n"
     ]
    },
    {
     "name": "stdout",
     "output_type": "stream",
     "text": [
      "G+S+filtered authority, couln't find a unique match : Bauhinia variegata\n"
     ]
    },
    {
     "name": "stdout",
     "output_type": "stream",
     "text": [
      "G+S, matching failed : Libidibia glabrata\n",
      "G+S+filtered authority, couln't find a unique match : Cajanus scarabaeoides\n"
     ]
    },
    {
     "name": "stdout",
     "output_type": "stream",
     "text": [
      "G+S+filtered authority, couln't find a unique match : Calliandra macrocalyx\n"
     ]
    },
    {
     "name": "stdout",
     "output_type": "stream",
     "text": [
      "G+S, matching failed : Senna ferraria\n",
      "G+S, matching failed : Senna artemisioides\n",
      "G+S, matching failed : Senna glutinosa\n",
      "G+S+filtered authority, couln't find a unique match : Centrosema macrocarpum\n"
     ]
    },
    {
     "name": "stdout",
     "output_type": "stream",
     "text": [
      "G+S+filtered authority, couln't find a unique match : Chamaecrista caribaea\n",
      "G+S+filtered authority, couln't find a unique match : Chamaecrista desvauxii\n",
      "G+S+filtered authority, couln't find a unique match : Chamaecrista glandulosa\n"
     ]
    },
    {
     "name": "stdout",
     "output_type": "stream",
     "text": [
      "G+S+filtered authority, couln't find a unique match : Clitoria sagotii\n",
      "G+S+filtered authority, couln't find a unique match : Copaifera langsdorffii\n",
      "G+S+filtered authority, couln't find a unique match : Coronilla valentina\n"
     ]
    },
    {
     "name": "stdout",
     "output_type": "stream",
     "text": [
      "G+S+filtered authority, couln't find a unique match : Crotalaria cunninghamii\n"
     ]
    },
    {
     "name": "stdout",
     "output_type": "stream",
     "text": [
      "G+S+filtered authority, couln't find a unique match : Crotalaria mildbraedii\n"
     ]
    },
    {
     "name": "stdout",
     "output_type": "stream",
     "text": [
      "G+S+filtered authority, couln't find a unique match : Daviesia nudiflora\n"
     ]
    },
    {
     "name": "stdout",
     "output_type": "stream",
     "text": [
      "G+S+filtered authority, couln't find a unique match : Dalbergia menoeides\n"
     ]
    },
    {
     "name": "stdout",
     "output_type": "stream",
     "text": [
      "G+S+filtered authority, couln't find a unique match : Bauhinia merrilliana\n",
      "G+S, matching failed : Paraderris cuneifolia\n"
     ]
    },
    {
     "name": "stdout",
     "output_type": "stream",
     "text": [
      "G+S, matching failed : Paraderris oblongifolia\n",
      "G+S+filtered authority, couln't find a unique match : Desmanthus pumilus\n"
     ]
    },
    {
     "name": "stdout",
     "output_type": "stream",
     "text": [
      "G+S+filtered authority, couln't find a unique match : Desmodium vargasianum\n",
      "G+S+filtered authority, couln't find a unique match : Dichrostachys arborescens\n"
     ]
    },
    {
     "name": "stdout",
     "output_type": "stream",
     "text": [
      "G+S+filtered authority, couln't find a unique match : Dioclea guianensis\n",
      "G+S+filtered authority, couln't find a unique match : Disynstemon paullinioides\n"
     ]
    },
    {
     "name": "stdout",
     "output_type": "stream",
     "text": [
      "G+S+filtered authority, couln't find a unique match : Dumasia villosa\n"
     ]
    },
    {
     "name": "stdout",
     "output_type": "stream",
     "text": [
      "G+S+filtered authority, couln't find a unique match : Galactia tenuiflora\n",
      "G+S+filtered authority, couln't find a unique match : Gastrolobium spinosum\n"
     ]
    },
    {
     "name": "stdout",
     "output_type": "stream",
     "text": [
      "G+S+filtered authority, couln't find a unique match : Gleditsia microphylla\n"
     ]
    },
    {
     "name": "stdout",
     "output_type": "stream",
     "text": [
      "G+S+filtered authority, couln't find a unique match : Hammatolobium kremerianum\n"
     ]
    },
    {
     "name": "stdout",
     "output_type": "stream",
     "text": [
      "G+S, matching failed : Lotus aboriginus\n",
      "G+S+filtered authority, couln't find a unique match : Hymenaea courbaril\n"
     ]
    },
    {
     "name": "stdout",
     "output_type": "stream",
     "text": [
      "G+S, matching failed : Indigofera acanthinocarpa\n"
     ]
    },
    {
     "name": "stdout",
     "output_type": "stream",
     "text": [
      "G+S+filtered authority, couln't find a unique match : Indigofera brevidens\n",
      "G+S+filtered authority, couln't find a unique match : Indigofera charlierana\n"
     ]
    },
    {
     "name": "stdout",
     "output_type": "stream",
     "text": [
      "G+S+filtered authority, couln't find a unique match : Indigofera hochstetteri\n"
     ]
    },
    {
     "name": "stdout",
     "output_type": "stream",
     "text": [
      "G+S+filtered authority, couln't find a unique match : Inga marginata\n",
      "G+S+filtered authority, couln't find a unique match : Inga psittacorum\n"
     ]
    },
    {
     "name": "stdout",
     "output_type": "stream",
     "text": [
      "G+S+filtered authority, couln't find a unique match : Lathyrus pallescens\n"
     ]
    },
    {
     "name": "stdout",
     "output_type": "stream",
     "text": [
      "G+S+filtered authority, couln't find a unique match : Lespedeza hirta\n",
      "G+S+filtered authority, couln't find a unique match : Lespedeza thunbergii\n",
      "G+S+filtered authority, couln't find a unique match : Lonchocarpus guatemalensis\n",
      "G+S, matching failed : Philenoptera laxiflora\n",
      "G+S, matching failed : Leobordea tapetiformis\n"
     ]
    },
    {
     "name": "stdout",
     "output_type": "stream",
     "text": [
      "G+S, matching failed : Lupinus abramsii\n",
      "G+S+filtered authority, couln't find a unique match : Lupinus kingii\n"
     ]
    },
    {
     "name": "stdout",
     "output_type": "stream",
     "text": [
      "G+S+filtered authority, couln't find a unique match : Lupinus nootkatensis\n"
     ]
    },
    {
     "name": "stdout",
     "output_type": "stream",
     "text": [
      "G+S+filtered authority, couln't find a unique match : Lupinus westianus\n"
     ]
    },
    {
     "name": "stdout",
     "output_type": "stream",
     "text": [
      "G+S, matching failed : Melilotus serratifolius\n"
     ]
    },
    {
     "name": "stdout",
     "output_type": "stream",
     "text": [
      "G+S+filtered authority, couln't find a unique match : Millettia pulchra\n",
      "G+S+filtered authority, couln't find a unique match : Mimosa albida\n"
     ]
    },
    {
     "name": "stdout",
     "output_type": "stream",
     "text": [
      "G+S+filtered authority, couln't find a unique match : Mimosa dryandroides\n",
      "G+S+filtered authority, couln't find a unique match : Mimosa foliolosa\n"
     ]
    },
    {
     "name": "stdout",
     "output_type": "stream",
     "text": [
      "G+S+filtered authority, couln't find a unique match : Mimosa brevipetiolata\n",
      "G+S+filtered authority, couln't find a unique match : Mimosa pudica\n"
     ]
    },
    {
     "name": "stdout",
     "output_type": "stream",
     "text": [
      "G+S+filtered authority, couln't find a unique match : Mucuna bracteata\n",
      "G+S+filtered authority, couln't find a unique match : Neonotonia wightii\n"
     ]
    },
    {
     "name": "stdout",
     "output_type": "stream",
     "text": [
      "G+S+filtered authority, couln't find a unique match : Ononis antennata\n",
      "G+S, matching failed : Ormosia assamica\n"
     ]
    },
    {
     "name": "stdout",
     "output_type": "stream",
     "text": [
      "G+S, matching failed : Chorizema carinatum\n"
     ]
    },
    {
     "name": "stdout",
     "output_type": "stream",
     "text": [
      "G+S, matching failed : Alysicarpus naikianus\n",
      "G+S, matching failed : Acacia hydaspica\n",
      "G+S, matching failed : Phanera khasiana\n"
     ]
    },
    {
     "name": "stdout",
     "output_type": "stream",
     "text": [
      "G+S+filtered authority, couln't find a unique match : Bauhinia ornata\n",
      "G+S, matching failed : Chamaecrista kolabensis\n",
      "G+S, matching failed : Acacia riparia\n"
     ]
    },
    {
     "name": "stdout",
     "output_type": "stream",
     "text": [
      "G+S+filtered authority, couln't find a unique match : Bauhinia kockiana\n"
     ]
    },
    {
     "name": "stdout",
     "output_type": "stream",
     "text": [
      "G+S, matching failed : Acacia donaldii\n"
     ]
    },
    {
     "name": "stdout",
     "output_type": "stream",
     "text": [
      "G+S+filtered authority, couln't find a unique match : Poiretia latifolia\n"
     ]
    },
    {
     "name": "stdout",
     "output_type": "stream",
     "text": [
      "G+S, matching failed : Cullen walkingtonii\n",
      "G+S+filtered authority, couln't find a unique match : Pultenaea brachytropis\n",
      "G+S, matching failed : Inga lomatophylla\n"
     ]
    },
    {
     "name": "stdout",
     "output_type": "stream",
     "text": [
      "G+S+filtered authority, couln't find a unique match : Pultenaea villifera\n"
     ]
    },
    {
     "name": "stdout",
     "output_type": "stream",
     "text": [
      "G+S+filtered authority, couln't find a unique match : Rhynchosia totta\n"
     ]
    },
    {
     "name": "stdout",
     "output_type": "stream",
     "text": [
      "G+S+filtered authority, couln't find a unique match : Schotia afra\n"
     ]
    },
    {
     "name": "stdout",
     "output_type": "stream",
     "text": [
      "G+S+filtered authority, couln't find a unique match : Sophora flavescens\n",
      "G+S+filtered authority, couln't find a unique match : Sophora gypsophila\n"
     ]
    },
    {
     "name": "stdout",
     "output_type": "stream",
     "text": [
      "G+S, matching failed : Strongylodon crassifolius\n"
     ]
    },
    {
     "name": "stdout",
     "output_type": "stream",
     "text": [
      "G+S+filtered authority, couln't find a unique match : Swartzia panacoco\n",
      "G+S, matching failed : Lotus nuttallianus\n"
     ]
    },
    {
     "name": "stdout",
     "output_type": "stream",
     "text": [
      "G+S, matching failed : Tephrosia angustissima\n",
      "G+S+filtered authority, couln't find a unique match : Tephrosia brachyodon\n"
     ]
    },
    {
     "name": "stdout",
     "output_type": "stream",
     "text": [
      "G+S+filtered authority, couln't find a unique match : Tephrosia villosa\n",
      "G+S+filtered authority, couln't find a unique match : Thermopsis montana\n"
     ]
    },
    {
     "name": "stdout",
     "output_type": "stream",
     "text": [
      "G+S+filtered authority, couln't find a unique match : Trifolium parryi\n",
      "G+S+filtered authority, couln't find a unique match : Trifolium pratense\n"
     ]
    },
    {
     "name": "stdout",
     "output_type": "stream",
     "text": [
      "G+S, matching failed : Indigofera depauperata\n"
     ]
    },
    {
     "name": "stdout",
     "output_type": "stream",
     "text": [
      "G+S+filtered authority, couln't find a unique match : Vicia tenuifolia\n"
     ]
    },
    {
     "name": "stdout",
     "output_type": "stream",
     "text": [
      "G+S+filtered authority, couln't find a unique match : Zornia pardina\n",
      "G+S, matching failed : Zornia quilonensis\n",
      "G+S+filtered authority, couln't find a unique match : Alysicarpus bupleurifolius\n"
     ]
    },
    {
     "name": "stdout",
     "output_type": "stream",
     "text": [
      "G+S+filtered authority, couln't find a unique match : Aegilops crassa\n"
     ]
    },
    {
     "name": "stdout",
     "output_type": "stream",
     "text": [
      "G+S+filtered authority, couln't find a unique match : Pistacia terebinthus\n",
      "G+S+filtered authority, couln't find a unique match : Ilex opaca\n"
     ]
    },
    {
     "name": "stdout",
     "output_type": "stream",
     "text": [
      "G+S, matching failed : Pistacia weinmanniifolia\n"
     ]
    },
    {
     "name": "stdout",
     "output_type": "stream",
     "text": [
      "G+S+filtered authority, couln't find a unique match : Ilex cassine\n"
     ]
    },
    {
     "name": "stdout",
     "output_type": "stream",
     "text": [
      "G+S+filtered authority, couln't find a unique match : Helianthus nuttallii\n",
      "G+S+filtered authority, couln't find a unique match : Helianthus pauciflorus\n",
      "G+S+filtered authority, couln't find a unique match : Helianthus petiolaris\n",
      "G+S+filtered authority, couln't find a unique match : Helianthus praecox\n"
     ]
    },
    {
     "name": "stdout",
     "output_type": "stream",
     "text": [
      "G+S+filtered authority, couln't find a unique match : Cucurbita okeechobeensis\n"
     ]
    },
    {
     "name": "stdout",
     "output_type": "stream",
     "text": [
      "G+S+filtered authority, couln't find a unique match : Cynanchum acutum\n"
     ]
    },
    {
     "name": "stdout",
     "output_type": "stream",
     "text": [
      "G+S+filtered authority, couln't find a unique match : Hordeum euclaston\n"
     ]
    },
    {
     "name": "stdout",
     "output_type": "stream",
     "text": [
      "G+S+filtered authority, couln't find a unique match : Avena abyssinica\n"
     ]
    },
    {
     "name": "stdout",
     "output_type": "stream",
     "text": [
      "G+S, matching failed : Nepenthes paniculata\n",
      "G+S+filtered authority, couln't find a unique match : Nepenthes rafflesiana\n"
     ]
    },
    {
     "name": "stdout",
     "output_type": "stream",
     "text": [
      "G+S+filtered authority, couln't find a unique match : Acacia aemula\n"
     ]
    },
    {
     "name": "stdout",
     "output_type": "stream",
     "text": [
      "G+S+filtered authority, couln't find a unique match : Acacia phlebopetala\n"
     ]
    },
    {
     "name": "stdout",
     "output_type": "stream",
     "text": [
      "G+S+filtered authority, couln't find a unique match : Bauhinia longicuspis\n",
      "G+S+filtered authority, couln't find a unique match : Dicorynia paraensis\n"
     ]
    },
    {
     "name": "stdout",
     "output_type": "stream",
     "text": [
      "G+S, matching failed : Tachigali physophora\n",
      "G+S, matching failed : Allium urmiense\n"
     ]
    },
    {
     "name": "stdout",
     "output_type": "stream",
     "text": [
      "G+S, matching failed : Aloe mahraensis\n"
     ]
    },
    {
     "name": "stdout",
     "output_type": "stream",
     "text": [
      "G+S, matching failed : Oxygyne shinzatoi\n",
      "G+S, matching failed : Eriocaulon sclerophyllum\n"
     ]
    },
    {
     "name": "stdout",
     "output_type": "stream",
     "text": [
      "G+S, matching failed : Cordyline minutiflora\n",
      "G+S+filtered authority, couln't find a unique match : Dendrobium poneroides\n"
     ]
    },
    {
     "name": "stdout",
     "output_type": "stream",
     "text": [
      "G+S, matching failed : Eria parviflora\n",
      "G+S, matching failed : Dendrobium unibulbe\n",
      "G+S, matching failed : Bulbophyllum polliculosum\n"
     ]
    },
    {
     "name": "stdout",
     "output_type": "stream",
     "text": [
      "G+S, matching failed : Corybas carinulifer\n",
      "G+S+filtered authority, couln't find a unique match : Dendrobium terrestre\n"
     ]
    },
    {
     "name": "stdout",
     "output_type": "stream",
     "text": [
      "G+S, matching failed : Glomera longa\n",
      "G+S, matching failed : Liparis miniata\n",
      "G+S, matching failed : Maxillaria broadwayi\n"
     ]
    },
    {
     "name": "stdout",
     "output_type": "stream",
     "text": [
      "G+S, matching failed : Freycinetia awaiarensis\n"
     ]
    },
    {
     "name": "stdout",
     "output_type": "stream",
     "text": [
      "G+S, matching failed : Pedilochilus papuanus\n",
      "G+S, matching failed : Plocoglottis neohibernica\n",
      "G+S, matching failed : Pteroceras simondianum\n"
     ]
    },
    {
     "name": "stdout",
     "output_type": "stream",
     "text": [
      "G+S, matching failed : Taeniophyllum oblongum\n",
      "G+S, matching failed : Vanda spathulata\n",
      "G+S+filtered authority, couln't find a unique match : Festuca laxa\n",
      "G+S, matching failed : Festuca pubiglumis\n"
     ]
    },
    {
     "name": "stdout",
     "output_type": "stream",
     "text": [
      "G+S, matching failed : Opizia bracteata\n",
      "G+S+filtered authority, couln't find a unique match : Epipactis palustris\n",
      "G+S+filtered authority, couln't find a unique match : Blysmus compressus\n"
     ]
    },
    {
     "name": "stdout",
     "output_type": "stream",
     "text": [
      "G+S+filtered authority, couln't find a unique match : Carex elata\n",
      "G+S+filtered authority, couln't find a unique match : Carex riparia\n",
      "G+S+filtered authority, couln't find a unique match : Carex rostrata\n"
     ]
    },
    {
     "name": "stdout",
     "output_type": "stream",
     "text": [
      "G+S+filtered authority, couln't find a unique match : Alopecurus arundinaceus\n",
      "G+S+filtered authority, couln't find a unique match : Beckmannia eruciformis\n",
      "G+S, matching failed : Crypsis alopecuroides\n",
      "G+S, matching failed : Crypsis schoenoides\n",
      "G+S+filtered authority, couln't find a unique match : Mentha longifolia\n"
     ]
    },
    {
     "name": "stdout",
     "output_type": "stream",
     "text": [
      "G+S+filtered authority, couln't find a unique match : Caltha palustris\n",
      "G+S+filtered authority, couln't find a unique match : Oenanthe silaifolia\n"
     ]
    },
    {
     "name": "stdout",
     "output_type": "stream",
     "text": [
      "G+S+filtered authority, couln't find a unique match : Cyperus glomeratus\n",
      "G+S+filtered authority, couln't find a unique match : Iris spuria\n"
     ]
    },
    {
     "name": "stdout",
     "output_type": "stream",
     "text": [
      "G+S+filtered authority, couln't find a unique match : Lythrum salicaria\n",
      "G+S+filtered authority, couln't find a unique match : Lysimachia dubia\n"
     ]
    },
    {
     "name": "stdout",
     "output_type": "stream",
     "text": [
      "G+S+filtered authority, couln't find a unique match : Baldellia ranunculoides\n",
      "G+S+filtered authority, couln't find a unique match : Bidens cernua\n"
     ]
    },
    {
     "name": "stdout",
     "output_type": "stream",
     "text": [
      "G+S+filtered authority, couln't find a unique match : Bidens tripartita\n",
      "G+S+filtered authority, couln't find a unique match : Barbarea vulgaris\n",
      "G+S+filtered authority, couln't find a unique match : Rorippa sylvestris\n"
     ]
    },
    {
     "name": "stdout",
     "output_type": "stream",
     "text": [
      "G+S+filtered authority, couln't find a unique match : Carex nigra\n",
      "G+S+filtered authority, couln't find a unique match : Carex paniculata\n",
      "G+S+filtered authority, couln't find a unique match : Carex pseudocyperus\n",
      "G+S+filtered authority, couln't find a unique match : Eriophorum angustifolium\n"
     ]
    },
    {
     "name": "stdout",
     "output_type": "stream",
     "text": [
      "G+S+filtered authority, couln't find a unique match : Equisetum fluviatile\n",
      "G+S+filtered authority, couln't find a unique match : Equisetum hyemale\n",
      "G+S+filtered authority, couln't find a unique match : Glyceria fluitans\n"
     ]
    },
    {
     "name": "stdout",
     "output_type": "stream",
     "text": [
      "G+S+filtered authority, couln't find a unique match : Mentha spicata\n"
     ]
    },
    {
     "name": "stdout",
     "output_type": "stream",
     "text": [
      "G+S+filtered authority, couln't find a unique match : Parnassia palustris\n",
      "G+S+filtered authority, couln't find a unique match : Potamogeton berchtoldii\n"
     ]
    },
    {
     "name": "stdout",
     "output_type": "stream",
     "text": [
      "G+S+filtered authority, couln't find a unique match : Ranunculus peltatus\n",
      "G+S, matching failed : Ranunculus saniculifolius\n",
      "G+S+filtered authority, couln't find a unique match : Salix alba\n"
     ]
    },
    {
     "name": "stdout",
     "output_type": "stream",
     "text": [
      "G+S+filtered authority, couln't find a unique match : Sparganium erectum\n",
      "G+S+filtered authority, couln't find a unique match : Polypogon monspeliensis\n"
     ]
    },
    {
     "name": "stdout",
     "output_type": "stream",
     "text": [
      "G+S, matching failed : Linum katiae\n",
      "G+S+filtered authority, couln't find a unique match : Acorus calamus\n",
      "G+S+filtered authority, couln't find a unique match : Cyperus michelianus\n",
      "G+S+filtered authority, couln't find a unique match : Juncus inflexus\n",
      "G+S+filtered authority, couln't find a unique match : Sagittaria sagittifolia\n"
     ]
    },
    {
     "name": "stdout",
     "output_type": "stream",
     "text": [
      "G+S, matching failed : Sium sisaroideum\n"
     ]
    },
    {
     "name": "stdout",
     "output_type": "stream",
     "text": [
      "G+S, matching failed : Cypripedium wumengense\n"
     ]
    },
    {
     "name": "stdout",
     "output_type": "stream",
     "text": [
      "G+S, matching failed : Cypripedium singchii\n"
     ]
    },
    {
     "name": "stdout",
     "output_type": "stream",
     "text": [
      "G+S, matching failed : Paphiopedilum areeanum\n",
      "G+S+filtered authority, couln't find a unique match : Paphiopedilum bullenianum\n",
      "G+S, matching failed : Paphiopedilum cornuatum\n"
     ]
    },
    {
     "name": "stdout",
     "output_type": "stream",
     "text": [
      "G+S, matching failed : Paphiopedilum guangdongense\n",
      "G+S, matching failed : Paphiopedilum inamorii\n"
     ]
    },
    {
     "name": "stdout",
     "output_type": "stream",
     "text": [
      "G+S, matching failed : Paphiopedilum ooii\n",
      "G+S, matching failed : Paphiopedilum qingyongii\n"
     ]
    },
    {
     "name": "stdout",
     "output_type": "stream",
     "text": [
      "G+S, matching failed : Phragmipedium christiansenianum\n",
      "G+S, matching failed : Phragmipedium hartwegii\n"
     ]
    },
    {
     "name": "stdout",
     "output_type": "stream",
     "text": [
      "G+S, matching failed : Phragmipedium manzurii\n"
     ]
    },
    {
     "name": "stdout",
     "output_type": "stream",
     "text": [
      "G+S, matching failed : Romulea insularis\n"
     ]
    },
    {
     "name": "stdout",
     "output_type": "stream",
     "text": [
      "G+S, matching failed : Anthurium lhotzkyanum\n",
      "G+S, matching failed : Licuala steinii\n"
     ]
    },
    {
     "name": "stdout",
     "output_type": "stream",
     "text": [
      "G+S+filtered authority, couln't find a unique match : Scleria reticularis\n"
     ]
    },
    {
     "name": "stdout",
     "output_type": "stream",
     "text": [
      "G+S, matching failed : Pennisetum frutescens\n",
      "G+S, matching failed : Poecilostachys oplismenoides\n"
     ]
    },
    {
     "name": "stdout",
     "output_type": "stream",
     "text": [
      "G+S+filtered authority, couln't find a unique match : Eriocaulon dictyophyllum\n",
      "G+S, matching failed : Palisota congolana\n"
     ]
    },
    {
     "name": "stdout",
     "output_type": "stream",
     "text": [
      "G+S+filtered authority, couln't find a unique match : Syngonanthus lanatus\n",
      "G+S, matching failed : Stelis tabacina\n"
     ]
    },
    {
     "name": "stdout",
     "output_type": "stream",
     "text": [
      "G+S+filtered authority, couln't find a unique match : Anthurium umbricola\n"
     ]
    },
    {
     "name": "stdout",
     "output_type": "stream",
     "text": [
      "G+S+filtered authority, couln't find a unique match : Anthurium bonplandii\n",
      "G+S, matching failed : Ligeophila stigmatoptera\n",
      "G+S, matching failed : Pityphyllum pinoides\n",
      "G+S, matching failed : Phyllostachys guizhouensis\n"
     ]
    },
    {
     "name": "stdout",
     "output_type": "stream",
     "text": [
      "G+S+filtered authority, couln't find a unique match : Sporobolus coahuilensis\n",
      "G+S, matching failed : Mormolyca hedwigiae\n"
     ]
    },
    {
     "name": "stdout",
     "output_type": "stream",
     "text": [
      "G+S, matching failed : Gagea gymnopoda\n"
     ]
    },
    {
     "name": "stdout",
     "output_type": "stream",
     "text": [
      "G+S, matching failed : Amomum schlechteri\n",
      "G+S, matching failed : Tillandsia michelii\n",
      "G+S, matching failed : Dinklageella scandens\n"
     ]
    },
    {
     "name": "stdout",
     "output_type": "stream",
     "text": [
      "G+S, matching failed : Bulbophyllum amblyacron\n",
      "G+S, matching failed : Phyllostachys carnea\n",
      "G+S, matching failed : Chondrosum gracile\n",
      "G+S, matching failed : Chondrosum elatum\n"
     ]
    },
    {
     "name": "stdout",
     "output_type": "stream",
     "text": [
      "G+S+filtered authority, couln't find a unique match : Oncidium lancifolium\n",
      "G+S+filtered authority, couln't find a unique match : Attalea funifera\n"
     ]
    },
    {
     "name": "stdout",
     "output_type": "stream",
     "text": [
      "G+S, matching failed : Elettariopsis sumatrana\n"
     ]
    },
    {
     "name": "stdout",
     "output_type": "stream",
     "text": [
      "G+S, matching failed : Lipocarpha maculata\n",
      "G+S, matching failed : Sarcoglottis veyretiae\n"
     ]
    },
    {
     "name": "stdout",
     "output_type": "stream",
     "text": [
      "G+S, matching failed : Habenaria christianii\n",
      "G+S, matching failed : Fargesia orbiculata\n",
      "G+S, matching failed : Pycreus xantholepis\n"
     ]
    },
    {
     "name": "stdout",
     "output_type": "stream",
     "text": [
      "G+S, matching failed : Lloydia triflora\n",
      "G+S+filtered authority, couln't find a unique match : Chlorophytum subpetiolatum\n",
      "G+S+filtered authority, couln't find a unique match : Trichopteryx dregeana\n"
     ]
    },
    {
     "name": "stdout",
     "output_type": "stream",
     "text": [
      "G+S, matching failed : Ornithidium nubigenum\n",
      "G+S, matching failed : Daemonorops schlechteri\n",
      "G+S, matching failed : Pleurothallis miniatolineolata\n"
     ]
    },
    {
     "name": "stdout",
     "output_type": "stream",
     "text": [
      "G+S, matching failed : Mastigostyla shepardiae\n"
     ]
    },
    {
     "name": "stdout",
     "output_type": "stream",
     "text": [
      "G+S, matching failed : Eulalia contorta\n"
     ]
    },
    {
     "name": "stdout",
     "output_type": "stream",
     "text": [
      "G+S, matching failed : Helictotrichon canescens\n"
     ]
    },
    {
     "name": "stdout",
     "output_type": "stream",
     "text": [
      "G+S, matching failed : Eremocaulon setosum\n"
     ]
    },
    {
     "name": "stdout",
     "output_type": "stream",
     "text": [
      "G+S, matching failed : Crocus boissieri\n"
     ]
    },
    {
     "name": "stdout",
     "output_type": "stream",
     "text": [
      "G+S, matching failed : Meistera masticatorum\n"
     ]
    },
    {
     "name": "stdout",
     "output_type": "stream",
     "text": [
      "G+S, matching failed : Stipa dongicola\n",
      "G+S, matching failed : Vriesea camptoclada\n"
     ]
    },
    {
     "name": "stdout",
     "output_type": "stream",
     "text": [
      "G+S, matching failed : Setaria setosa\n"
     ]
    },
    {
     "name": "stdout",
     "output_type": "stream",
     "text": [
      "G+S, matching failed : Aegopogon cenchroides\n"
     ]
    },
    {
     "name": "stdout",
     "output_type": "stream",
     "text": [
      "G+S, matching failed : Amitostigma parciflorum\n",
      "G+S, matching failed : Androcorys oxysepalus\n"
     ]
    },
    {
     "name": "stdout",
     "output_type": "stream",
     "text": [
      "G+S, matching failed : Pycreus oakfortensis\n",
      "G+S, matching failed : Kyllinga debilis\n",
      "G+S, matching failed : Kyllinga tanzaniae\n"
     ]
    },
    {
     "name": "stdout",
     "output_type": "stream",
     "text": [
      "G+S, matching failed : Coelorachis aurita\n",
      "G+S+filtered authority, couln't find a unique match : Carex bulbostylis\n",
      "G+S+filtered authority, couln't find a unique match : Carex fissa\n"
     ]
    },
    {
     "name": "stdout",
     "output_type": "stream",
     "text": [
      "G+S+filtered authority, couln't find a unique match : Eleocharis flavescens\n",
      "G+S+filtered authority, couln't find a unique match : Commelina africana\n"
     ]
    },
    {
     "name": "stdout",
     "output_type": "stream",
     "text": [
      "G+S, matching failed : Uncinia leptostachya\n"
     ]
    },
    {
     "name": "stdout",
     "output_type": "stream",
     "text": [
      "G+S, matching failed : Kyllinga pluristaminea\n",
      "G+S, matching failed : Benthamia cinnabarina\n"
     ]
    },
    {
     "name": "stdout",
     "output_type": "stream",
     "text": [
      "G+S, matching failed : Cynorkis crispa\n"
     ]
    },
    {
     "name": "stdout",
     "output_type": "stream",
     "text": [
      "G+S, matching failed : Carex macrostigmatica\n"
     ]
    },
    {
     "name": "stdout",
     "output_type": "stream",
     "text": [
      "G+S, matching failed : Carex dolichogyne\n"
     ]
    },
    {
     "name": "stdout",
     "output_type": "stream",
     "text": [
      "G+S, matching failed : Carex motuoensis\n",
      "G+S, matching failed : Carex montis-everesti\n"
     ]
    },
    {
     "name": "stdout",
     "output_type": "stream",
     "text": [
      "G+S, matching failed : Brachiaria subquadripara\n",
      "G+S, matching failed : Platythelys paranaensis\n"
     ]
    },
    {
     "name": "stdout",
     "output_type": "stream",
     "text": [
      "G+S+filtered authority, couln't find a unique match : Panicum pseudowoeltzkowii\n",
      "G+S+filtered authority, couln't find a unique match : Bulbostylis capillaris\n"
     ]
    },
    {
     "name": "stdout",
     "output_type": "stream",
     "text": [
      "G+S, matching failed : Lindmania sessilis\n",
      "G+S, matching failed : Lindmania savannensis\n"
     ]
    },
    {
     "name": "stdout",
     "output_type": "stream",
     "text": [
      "G+S+filtered authority, couln't find a unique match : Eriospermum mackenii\n"
     ]
    },
    {
     "name": "stdout",
     "output_type": "stream",
     "text": [
      "G+S, matching failed : Tillandsia insignis\n"
     ]
    },
    {
     "name": "stdout",
     "output_type": "stream",
     "text": [
      "G+S, matching failed : Tillandsia cornuta\n",
      "G+S, matching failed : Tillandsia homostachya\n",
      "G+S, matching failed : Alinula malawica\n"
     ]
    },
    {
     "name": "stdout",
     "output_type": "stream",
     "text": [
      "G+S+filtered authority, couln't find a unique match : Carex remota\n",
      "G+S+filtered authority, couln't find a unique match : Pholidota chinensis\n"
     ]
    },
    {
     "name": "stdout",
     "output_type": "stream",
     "text": [
      "G+S, matching failed : Sauroglossum nitidum\n",
      "G+S, matching failed : Kraenzlinella gigantea\n"
     ]
    },
    {
     "name": "stdout",
     "output_type": "stream",
     "text": [
      "G+S, matching failed : Pleurothallis elegantula\n",
      "G+S, matching failed : Pleurothallis carinifera\n"
     ]
    },
    {
     "name": "stdout",
     "output_type": "stream",
     "text": [
      "G+S, matching failed : Dracula antonii\n",
      "G+S, matching failed : Mormolyca acutifolia\n"
     ]
    },
    {
     "name": "stdout",
     "output_type": "stream",
     "text": [
      "G+S, matching failed : Stipa kingii\n",
      "G+S, matching failed : Glyphochloa santapaui\n"
     ]
    },
    {
     "name": "stdout",
     "output_type": "stream",
     "text": [
      "G+S, matching failed : Fargesia exposita\n",
      "G+S, matching failed : Inti chartacifolia\n"
     ]
    },
    {
     "name": "stdout",
     "output_type": "stream",
     "text": [
      "G+S+filtered authority, couln't find a unique match : Geonoma baculifera\n"
     ]
    },
    {
     "name": "stdout",
     "output_type": "stream",
     "text": [
      "G+S, matching failed : Vriesea melgueiroi\n"
     ]
    },
    {
     "name": "stdout",
     "output_type": "stream",
     "text": [
      "G+S+filtered authority, couln't find a unique match : Trichoglottis winkleri\n",
      "G+S, matching failed : Cortaderia turbaria\n"
     ]
    },
    {
     "name": "stdout",
     "output_type": "stream",
     "text": [
      "G+S, matching failed : Tainia hongkongensis\n",
      "G+S, matching failed : Pycreus okavangensis\n",
      "G+S, matching failed : Calamus latispinus\n"
     ]
    },
    {
     "name": "stdout",
     "output_type": "stream",
     "text": [
      "G+S+filtered authority, couln't find a unique match : Dendrobium sarcodes\n"
     ]
    },
    {
     "name": "stdout",
     "output_type": "stream",
     "text": [
      "G+S, matching failed : Daemonorops binnendijkii\n"
     ]
    },
    {
     "name": "stdout",
     "output_type": "stream",
     "text": [
      "G+S, matching failed : Gagea neopopovii\n"
     ]
    },
    {
     "name": "stdout",
     "output_type": "stream",
     "text": [
      "G+S, matching failed : Calamus scabrispathus\n"
     ]
    },
    {
     "name": "stdout",
     "output_type": "stream",
     "text": [
      "G+S, matching failed : Sasa hidaensis\n",
      "G+S+filtered authority, couln't find a unique match : Paspalum squamulatum\n",
      "G+S, matching failed : Pseudosclerochloa kengiana\n"
     ]
    },
    {
     "name": "stdout",
     "output_type": "stream",
     "text": [
      "G+S, matching failed : Stipa oligostachya\n"
     ]
    },
    {
     "name": "stdout",
     "output_type": "stream",
     "text": [
      "G+S, matching failed : Bhutanthera albosanguinea\n",
      "G+S, matching failed : Bhutanthera albovirens\n",
      "G+S, matching failed : Bhutanthera himalayana\n",
      "G+S, matching failed : Pomatocalpa bhutanicum\n"
     ]
    },
    {
     "name": "stdout",
     "output_type": "stream",
     "text": [
      "G+S, matching failed : Narcissus munozii-garmendiae\n"
     ]
    },
    {
     "name": "stdout",
     "output_type": "stream",
     "text": [
      "G+S, matching failed : Euphorbia pseudonudicaule\n"
     ]
    },
    {
     "name": "stdout",
     "output_type": "stream",
     "text": [
      "G+S, matching failed : Lellingeria paucipinnata\n",
      "G+S, matching failed : Memecylon sp. nov. 1\n",
      "G+S, matching failed : Warneckea maritima\n"
     ]
    },
    {
     "name": "stdout",
     "output_type": "stream",
     "text": [
      "G+S+filtered authority, couln't find a unique match : Trifolium masaiense\n",
      "G+S, matching failed : Pyrrosia liebuschii\n",
      "G+S, matching failed : Vittaria schliebenii\n"
     ]
    },
    {
     "name": "stdout",
     "output_type": "stream",
     "text": [
      "G+S+filtered authority, couln't find a unique match : Pistacia lentiscus\n",
      "G+S+filtered authority, couln't find a unique match : Helianthus annuus\n",
      "G+S, matching failed : Amphithalea bullata\n"
     ]
    },
    {
     "name": "stdout",
     "output_type": "stream",
     "text": [
      "G+S, matching failed : Leobordea prolifera\n"
     ]
    },
    {
     "name": "stdout",
     "output_type": "stream",
     "text": [
      "G+S, matching failed : Leobordea anthyllopsis\n",
      "G+S, matching failed : Liparia latifolia\n"
     ]
    },
    {
     "name": "stdout",
     "output_type": "stream",
     "text": [
      "G+S, matching failed : Asystasia masaiensis\n"
     ]
    },
    {
     "name": "stdout",
     "output_type": "stream",
     "text": [
      "G+S+filtered authority, couln't find a unique match : Barleria mpandensis\n",
      "G+S+filtered authority, couln't find a unique match : Barleria polhillii\n",
      "G+S, matching failed : Barleria rhynchocarpa\n"
     ]
    },
    {
     "name": "stdout",
     "output_type": "stream",
     "text": [
      "G+S, matching failed : Brachystephanus laxispicatus\n"
     ]
    },
    {
     "name": "stdout",
     "output_type": "stream",
     "text": [
      "G+S+filtered authority, couln't find a unique match : Dyschoriste keniensis\n"
     ]
    },
    {
     "name": "stdout",
     "output_type": "stream",
     "text": [
      "G+S+filtered authority, couln't find a unique match : Isoglossa lactea\n"
     ]
    },
    {
     "name": "stdout",
     "output_type": "stream",
     "text": [
      "G+S, matching failed : Justicia interrupta\n"
     ]
    },
    {
     "name": "stdout",
     "output_type": "stream",
     "text": [
      "G+S, matching failed : Mimulopsis marronia\n",
      "G+S+filtered authority, couln't find a unique match : Neuracanthus tephrophyllus\n"
     ]
    },
    {
     "name": "stdout",
     "output_type": "stream",
     "text": [
      "G+S, matching failed : Nepenthes abalata\n",
      "G+S, matching failed : Nepenthes alba\n",
      "G+S, matching failed : Nepenthes alzapan\n",
      "G+S, matching failed : Nepenthes appendiculata\n",
      "G+S, matching failed : Nepenthes gantungensis\n"
     ]
    },
    {
     "name": "stdout",
     "output_type": "stream",
     "text": [
      "G+S, matching failed : Nepenthes leonardoi\n",
      "G+S, matching failed : Nepenthes monticola\n",
      "G+S, matching failed : Nepenthes nigra\n"
     ]
    },
    {
     "name": "stdout",
     "output_type": "stream",
     "text": [
      "G+S, matching failed : Nepenthes palawanensis\n",
      "G+S, matching failed : Nepenthes pitopangii\n",
      "G+S, matching failed : Nepenthes rowaniae\n"
     ]
    },
    {
     "name": "stdout",
     "output_type": "stream",
     "text": [
      "G+S, matching failed : Cypripedium froschii\n",
      "G+S, matching failed : Amygdalus davidiana\n",
      "G+S, matching failed : Amygdalus pedunculata\n",
      "G+S, matching failed : Amygdalus minutiflora\n",
      "G+S, matching failed : Amygdalus mira\n"
     ]
    },
    {
     "name": "stdout",
     "output_type": "stream",
     "text": [
      "G+S, matching failed : Amygdalus texana\n",
      "G+S, matching failed : Armeniaca mume\n",
      "G+S, matching failed : Cerasus dielsiana\n"
     ]
    },
    {
     "name": "stdout",
     "output_type": "stream",
     "text": [
      "G+S, matching failed : Malus orientalis\n",
      "G+S+filtered authority, couln't find a unique match : Malus transitoria\n"
     ]
    },
    {
     "name": "stdout",
     "output_type": "stream",
     "text": [
      "G+S+filtered authority, couln't find a unique match : Coptis teeta\n"
     ]
    },
    {
     "name": "stdout",
     "output_type": "stream",
     "text": [
      "G+S, matching failed : Iphigenia stellata\n",
      "G+S, matching failed : Lamprachaenium microcephalum\n",
      "G+S, matching failed : Nilgirianthus ciliatus\n"
     ]
    },
    {
     "name": "stdout",
     "output_type": "stream",
     "text": [
      "G+S, matching failed : Saussurea costus\n",
      "G+S, matching failed : Tribulus rajasthanensis\n",
      "G+S, matching failed : Utleria salicifolia\n",
      "G+S, matching failed : Malus yunnanensis\n",
      "G+S, matching failed : Malus zumi\n"
     ]
    },
    {
     "name": "stdout",
     "output_type": "stream",
     "text": [
      "G+S, matching failed : Prunus besseyi\n",
      "G+S+filtered authority, couln't find a unique match : Prunus domestica\n"
     ]
    },
    {
     "name": "stdout",
     "output_type": "stream",
     "text": [
      "G+S, matching failed : Malus tschonoskii\n",
      "G+S, matching failed : Prunus bokhariensis\n"
     ]
    },
    {
     "name": "stdout",
     "output_type": "stream",
     "text": [
      "G+S, matching failed : Amygdalus andersonii\n"
     ]
    },
    {
     "name": "stdout",
     "output_type": "stream",
     "text": [
      "G+S, matching failed : Amygdalus kansuensis\n",
      "G+S, matching failed : Armeniaca mandshurica\n",
      "G+S, matching failed : Cerasus cerasoides\n",
      "G+S, matching failed : Cerasus glandulosa\n",
      "G+S, matching failed : Cerasus nipponica\n",
      "G+S, matching failed : Cerasus pleiocerasus\n",
      "G+S, matching failed : Malus muliensis\n"
     ]
    },
    {
     "name": "stdout",
     "output_type": "stream",
     "text": [
      "G+S, matching failed : Prunus harvardii\n",
      "G+S, matching failed : Prunus jaquemontii\n",
      "G+S, matching failed : Stylochaeton pilosus\n",
      "G+S, matching failed : Alnus djavanshirii\n",
      "G+S, matching failed : Alnus dolichocarpa\n"
     ]
    },
    {
     "name": "stdout",
     "output_type": "stream",
     "text": [
      "G+S, matching failed : Betula gynoterminalis\n",
      "G+S, matching failed : Betula murrayana\n",
      "G+S, matching failed : Betula skvorsovii\n",
      "G+S+filtered authority, couln't find a unique match : Corrigiola litoralis\n",
      "G+S+filtered authority, couln't find a unique match : Ferula communis\n"
     ]
    },
    {
     "name": "stdout",
     "output_type": "stream",
     "text": [
      "G+S, matching failed : Carlina gummifera\n",
      "G+S, matching failed : Mandragora autumnalis\n",
      "G+S, matching failed : Carex collifera\n",
      "G+S, matching failed : Arisaema kawashimae\n"
     ]
    },
    {
     "name": "stdout",
     "output_type": "stream",
     "text": [
      "G+S, matching failed : Asarum pellucidum\n",
      "G+S+filtered authority, couln't find a unique match : Pulsatilla vernalis\n"
     ]
    },
    {
     "name": "stdout",
     "output_type": "stream",
     "text": [
      "G+S+filtered authority, couln't find a unique match : Chamaedorea pinnatifrons\n",
      "G+S+filtered authority, couln't find a unique match : Chamaedorea oblongata\n"
     ]
    },
    {
     "name": "stdout",
     "output_type": "stream",
     "text": [
      "G+S, matching failed : Pisonia margaretiae\n",
      "G+S, matching failed : Crossopetalum caymanense\n"
     ]
    },
    {
     "name": "stdout",
     "output_type": "stream",
     "text": [
      "G+S+filtered authority, couln't find a unique match : Chiococca alba\n",
      "G+S, matching failed : Scolosanthus roulstonii\n",
      "G+S, matching failed : Banara caymanensis\n"
     ]
    },
    {
     "name": "stdout",
     "output_type": "stream",
     "text": [
      "G+S, matching failed : Chionanthus caymanensis\n",
      "G+S, matching failed : Casearia staffordiae\n"
     ]
    },
    {
     "name": "stdout",
     "output_type": "stream",
     "text": [
      "G+S, matching failed : Thelypteris bermudiana\n"
     ]
    },
    {
     "name": "stdout",
     "output_type": "stream",
     "text": [
      "G+S, matching failed : Aconitum napellus\n",
      "G+S, matching failed : Narcissus eugeniae\n",
      "G+S, matching failed : Narcissus segurensis\n",
      "G+S, matching failed : Narcissus yepesii\n",
      "G+S, matching failed : Iris falcata\n",
      "G+S, matching failed : Narcissus alcaracensis\n",
      "G+S, matching failed : Catapodium hemipoa\n",
      "G+S+filtered authority, couln't find a unique match : Cyclosorus interruptus\n"
     ]
    },
    {
     "name": "stdout",
     "output_type": "stream",
     "text": [
      "G+S+filtered authority, couln't find a unique match : Utricularia poconensis\n"
     ]
    },
    {
     "name": "stdout",
     "output_type": "stream",
     "text": [
      "G+S, matching failed : Deschampsia stricta\n"
     ]
    },
    {
     "name": "stdout",
     "output_type": "stream",
     "text": [
      "G+S, matching failed : Isoetes cleefii\n",
      "G+S, matching failed : Isoetes colombiana\n",
      "G+S, matching failed : Isoetes parvula\n"
     ]
    },
    {
     "name": "stdout",
     "output_type": "stream",
     "text": [
      "G+S, matching failed : Polygonum peruvianum\n"
     ]
    },
    {
     "name": "stdout",
     "output_type": "stream",
     "text": [
      "G+S+filtered authority, couln't find a unique match : Andira inermis\n",
      "G+S, matching failed : Sesuvium edmondstonii\n",
      "G+S+filtered authority, couln't find a unique match : Alternanthera filifolia\n"
     ]
    },
    {
     "name": "stdout",
     "output_type": "stream",
     "text": [
      "G+S, matching failed : Sarcostemma angustissimum\n",
      "G+S, matching failed : Cordia leucophlyctis\n",
      "G+S, matching failed : Cordia revoluta\n",
      "G+S, matching failed : Cordia scouleri\n"
     ]
    },
    {
     "name": "stdout",
     "output_type": "stream",
     "text": [
      "G+S, matching failed : Delilia inelegans\n",
      "G+S, matching failed : Macraea laricifolia\n",
      "G+S, matching failed : Ipomoea linearifolia\n"
     ]
    },
    {
     "name": "stdout",
     "output_type": "stream",
     "text": [
      "G+S, matching failed : Sicyos villosus\n",
      "G+S+filtered authority, couln't find a unique match : Acalypha parvula\n",
      "G+S+filtered authority, couln't find a unique match : Croton scouleri\n"
     ]
    },
    {
     "name": "stdout",
     "output_type": "stream",
     "text": [
      "G+S, matching failed : Mangifera austro-indica\n",
      "G+S+filtered authority, couln't find a unique match : Pyrus communis\n",
      "G+S+filtered authority, couln't find a unique match : Prunus padus\n"
     ]
    },
    {
     "name": "stdout",
     "output_type": "stream",
     "text": [
      "G+S, matching failed : Pentace laxiflora\n",
      "G+S+filtered authority, couln't find a unique match : Tilia americana\n"
     ]
    },
    {
     "name": "stdout",
     "output_type": "stream",
     "text": [
      "G+S+filtered authority, couln't find a unique match : Chisocheton pentandrus\n"
     ]
    },
    {
     "name": "stdout",
     "output_type": "stream",
     "text": [
      "G+S, matching failed : Malus doumeri\n",
      "G+S, matching failed : Camellia fangchengensis\n",
      "G+S, matching failed : Camellia grandibracteata\n"
     ]
    },
    {
     "name": "stdout",
     "output_type": "stream",
     "text": [
      "G+S+filtered authority, couln't find a unique match : Camellia kwangsiensis\n"
     ]
    },
    {
     "name": "stdout",
     "output_type": "stream",
     "text": [
      "G+S+filtered authority, couln't find a unique match : Bridelia micrantha\n",
      "G+S+filtered authority, couln't find a unique match : Populus balsamifera\n"
     ]
    },
    {
     "name": "stdout",
     "output_type": "stream",
     "text": [
      "G+S, matching failed : Populus trichocarpa\n",
      "G+S+filtered authority, couln't find a unique match : Salix triandra\n",
      "G+S+filtered authority, couln't find a unique match : Salix viminalis\n"
     ]
    },
    {
     "name": "stdout",
     "output_type": "stream",
     "text": [
      "G+S+filtered authority, couln't find a unique match : Quercus kelloggii\n",
      "G+S+filtered authority, couln't find a unique match : Quercus lobata\n",
      "G+S+filtered authority, couln't find a unique match : Ilex boliviana\n"
     ]
    },
    {
     "name": "stdout",
     "output_type": "stream",
     "text": [
      "G+S+filtered authority, couln't find a unique match : Celtis occidentalis\n",
      "G+S+filtered authority, couln't find a unique match : Caryocar glabrum\n"
     ]
    },
    {
     "name": "stdout",
     "output_type": "stream",
     "text": [
      "G+S, matching failed : Hymenopus divaricata\n",
      "G+S, matching failed : Hymenopus heteromorphus\n",
      "G+S, matching failed : Hymenopus macrophyllus\n",
      "G+S, matching failed : Moquilea platypus\n",
      "G+S, matching failed : Leptobalanus sparsipilis\n"
     ]
    },
    {
     "name": "stdout",
     "output_type": "stream",
     "text": [
      "G+S, matching failed : Dryobalanops sumatrensis\n",
      "G+S+filtered authority, couln't find a unique match : Elaeagnus angustifolia\n",
      "G+S+filtered authority, couln't find a unique match : Kalmia latifolia\n"
     ]
    },
    {
     "name": "stdout",
     "output_type": "stream",
     "text": [
      "G+S+filtered authority, couln't find a unique match : Fagus grandifolia\n"
     ]
    },
    {
     "name": "stdout",
     "output_type": "stream",
     "text": [
      "G+S+filtered authority, couln't find a unique match : Hamamelis virginiana\n"
     ]
    },
    {
     "name": "stdout",
     "output_type": "stream",
     "text": [
      "G+S, matching failed : Camellia leptophylla\n",
      "G+S+filtered authority, couln't find a unique match : Camellia sinensis\n",
      "G+S+filtered authority, couln't find a unique match : Camellia tachangensis\n"
     ]
    },
    {
     "name": "stdout",
     "output_type": "stream",
     "text": [
      "G+S, matching failed : Camellia calcicola\n",
      "G+S, matching failed : Camellia cherryana\n"
     ]
    },
    {
     "name": "stdout",
     "output_type": "stream",
     "text": [
      "G+S, matching failed : Camellia cupiformis\n",
      "G+S, matching failed : Camellia curryana\n",
      "G+S, matching failed : Camellia cylindracea\n",
      "G+S, matching failed : Camellia dilinhensis\n",
      "G+S, matching failed : Camellia drupifera\n"
     ]
    },
    {
     "name": "stdout",
     "output_type": "stream",
     "text": [
      "G+S, matching failed : Camellia fascicularis\n"
     ]
    },
    {
     "name": "stdout",
     "output_type": "stream",
     "text": [
      "G+S, matching failed : Camellia glabricostata\n",
      "G+S, matching failed : Camellia hekouensis\n",
      "G+S+filtered authority, couln't find a unique match : Camellia japonica\n"
     ]
    },
    {
     "name": "stdout",
     "output_type": "stream",
     "text": [
      "G+S, matching failed : Camellia kissii\n",
      "G+S, matching failed : Camellia longii\n",
      "G+S, matching failed : Camellia longzhouensis\n",
      "G+S+filtered authority, couln't find a unique match : Camellia lutchuensis\n",
      "G+S, matching failed : Camellia luteoflora\n",
      "G+S, matching failed : Camellia maoniushanensis\n"
     ]
    },
    {
     "name": "stdout",
     "output_type": "stream",
     "text": [
      "G+S, matching failed : Camellia mileensis\n",
      "G+S+filtered authority, couln't find a unique match : Camellia parvimuricata\n"
     ]
    },
    {
     "name": "stdout",
     "output_type": "stream",
     "text": [
      "G+S, matching failed : Camellia pyxidiacea\n",
      "G+S, matching failed : Camellia renshanxiangiae\n",
      "G+S, matching failed : Camellia sasanqua\n"
     ]
    },
    {
     "name": "stdout",
     "output_type": "stream",
     "text": [
      "G+S+filtered authority, couln't find a unique match : Camellia tsingpienensis\n"
     ]
    },
    {
     "name": "stdout",
     "output_type": "stream",
     "text": [
      "G+S, matching failed : Gordonia singaporeana\n",
      "G+S, matching failed : Laplacea fruticosa\n",
      "G+S, matching failed : Polyspora ampla\n"
     ]
    },
    {
     "name": "stdout",
     "output_type": "stream",
     "text": [
      "G+S, matching failed : Polyspora huongiana\n"
     ]
    },
    {
     "name": "stdout",
     "output_type": "stream",
     "text": [
      "G+S, matching failed : Polyspora nivea\n"
     ]
    },
    {
     "name": "stdout",
     "output_type": "stream",
     "text": [
      "G+S, matching failed : Polyspora tiantangensis\n",
      "G+S+filtered authority, couln't find a unique match : Pyrenaria diospyricarpa\n",
      "G+S, matching failed : Pyrenaria maculatoclada\n"
     ]
    },
    {
     "name": "stdout",
     "output_type": "stream",
     "text": [
      "G+S, matching failed : Pyrenaria wuana\n"
     ]
    },
    {
     "name": "stdout",
     "output_type": "stream",
     "text": [
      "G+S, matching failed : Stewartia sichuanensis\n",
      "G+S, matching failed : Tolumnia variegata\n"
     ]
    },
    {
     "name": "stdout",
     "output_type": "stream",
     "text": [
      "G+S, matching failed : Duosperma dichotomum\n",
      "G+S, matching failed : Micklethwaitia carvalhoi\n",
      "G+S, matching failed : Acacia latispina\n"
     ]
    },
    {
     "name": "stdout",
     "output_type": "stream",
     "text": [
      "G+S, matching failed : Oxyanthus sp. nov. A\n",
      "G+S, matching failed : Striga diversifolia\n",
      "G+S, matching failed : Viscum littorum\n",
      "G+S, matching failed : Stylochaeton tortispathus\n"
     ]
    },
    {
     "name": "stdout",
     "output_type": "stream",
     "text": [
      "G+S, matching failed : Asarum nazeanum\n",
      "G+S, matching failed : Pavetta curalicola\n"
     ]
    },
    {
     "name": "stdout",
     "output_type": "stream",
     "text": [
      "G+S+filtered authority, couln't find a unique match : Mentha aquatica\n",
      "G+S+filtered authority, couln't find a unique match : Nymphaea alba\n",
      "G+S+filtered authority, couln't find a unique match : Montia fontana\n",
      "G+S+filtered authority, couln't find a unique match : Limosella aquatica\n"
     ]
    },
    {
     "name": "stdout",
     "output_type": "stream",
     "text": [
      "G+S, matching failed : Acacia torrei\n"
     ]
    },
    {
     "name": "stdout",
     "output_type": "stream",
     "text": [
      "G+S, matching failed : Quercus graciliformis\n",
      "G+S, matching failed : Calobota lotononoides\n",
      "G+S, matching failed : Wiborgiella sessilifolia\n",
      "G+S+filtered authority, couln't find a unique match : Mollugo flavescens\n"
     ]
    },
    {
     "name": "stdout",
     "output_type": "stream",
     "text": [
      "G+S, matching failed : Pisonia floribunda\n",
      "G+S+filtered authority, couln't find a unique match : Dendrosenecio cheranganiensis\n",
      "G+S, matching failed : Dendrosenecio elgonensis\n"
     ]
    },
    {
     "name": "stdout",
     "output_type": "stream",
     "text": [
      "G+S+filtered authority, couln't find a unique match : Helichrysum brownei\n",
      "G+S, matching failed : Kleinia leptophylla\n"
     ]
    },
    {
     "name": "stdout",
     "output_type": "stream",
     "text": [
      "G+S, matching failed : Vernonia ballyi\n"
     ]
    },
    {
     "name": "stdout",
     "output_type": "stream",
     "text": [
      "G+S, matching failed : Malaxis wendtii\n"
     ]
    },
    {
     "name": "stdout",
     "output_type": "stream",
     "text": [
      "G+S+filtered authority, couln't find a unique match : Chassalia bojeri\n"
     ]
    },
    {
     "name": "stdout",
     "output_type": "stream",
     "text": [
      "G+S+filtered authority, couln't find a unique match : Polygala galapageia\n",
      "G+S, matching failed : Physalis galapagoensis\n"
     ]
    },
    {
     "name": "stdout",
     "output_type": "stream",
     "text": [
      "G+S, matching failed : Phoradendron henslovii\n",
      "G+S, matching failed : Tillandsia insularis\n"
     ]
    },
    {
     "name": "stdout",
     "output_type": "stream",
     "text": [
      "G+S+filtered authority, couln't find a unique match : Paspalum galapageium\n",
      "G+S, matching failed : Polypodium tridens\n"
     ]
    },
    {
     "name": "stdout",
     "output_type": "stream",
     "text": [
      "G+S, matching failed : Calophyllum africanum\n"
     ]
    },
    {
     "name": "stdout",
     "output_type": "stream",
     "text": [
      "G+S+filtered authority, couln't find a unique match : Hydrilla verticillata\n",
      "G+S+filtered authority, couln't find a unique match : Juncus effusus\n",
      "G+S, matching failed : Raphionacme chimanimaniana\n"
     ]
    },
    {
     "name": "stdout",
     "output_type": "stream",
     "text": [
      "G+S, matching failed : Aster chimanimaniensis\n",
      "G+S, matching failed : Helichrysum africanum\n"
     ]
    },
    {
     "name": "stdout",
     "output_type": "stream",
     "text": [
      "G+S+filtered authority, couln't find a unique match : Erica pleiotricha\n",
      "G+S, matching failed : Streptocarpus montis-bingae\n",
      "G+S, matching failed : Dierama plowesii\n"
     ]
    },
    {
     "name": "stdout",
     "output_type": "stream",
     "text": [
      "G+S, matching failed : Indigofera cecili\n",
      "G+S, matching failed : Indigofera chimanimaniensis\n"
     ]
    },
    {
     "name": "stdout",
     "output_type": "stream",
     "text": [
      "G+S, matching failed : Restio quartziticola\n",
      "G+S, matching failed : Anthospermum ammanioides\n"
     ]
    },
    {
     "name": "stdout",
     "output_type": "stream",
     "text": [
      "G+S+filtered authority, couln't find a unique match : Tylostigma filiforme\n"
     ]
    },
    {
     "name": "stdout",
     "output_type": "stream",
     "text": [
      "G+S, matching failed : Cynorkis schlechterii\n"
     ]
    },
    {
     "name": "stdout",
     "output_type": "stream",
     "text": [
      "G+S, matching failed : Aloe ballii\n",
      "G+S+filtered authority, couln't find a unique match : Aloe hazeliana\n"
     ]
    },
    {
     "name": "stdout",
     "output_type": "stream",
     "text": [
      "G+S+filtered authority, couln't find a unique match : Dioscorea soso\n",
      "G+S+filtered authority, couln't find a unique match : Aeschynomene indica\n"
     ]
    },
    {
     "name": "stdout",
     "output_type": "stream",
     "text": [
      "G+S+filtered authority, couln't find a unique match : Cyperus papyrus\n",
      "G+S, matching failed : Ranunculus cymbalaria\n"
     ]
    },
    {
     "name": "stdout",
     "output_type": "stream",
     "text": [
      "G+S, matching failed : Trimeris scaevolifolia\n",
      "G+S, matching failed : Acalypha rubrinervis\n"
     ]
    },
    {
     "name": "stdout",
     "output_type": "stream",
     "text": [
      "G+S, matching failed : Mellissia begonifolia\n"
     ]
    },
    {
     "name": "stdout",
     "output_type": "stream",
     "text": [
      "G+S, matching failed : Chenopodium helenense\n",
      "G+S, matching failed : Euphorbia heleniana\n",
      "G+S, matching failed : Elaphoglossum furcatum\n"
     ]
    },
    {
     "name": "stdout",
     "output_type": "stream",
     "text": [
      "G+S, matching failed : Magnolia azulensis\n",
      "G+S, matching failed : Magnolia canandeana\n",
      "G+S, matching failed : Magnolia crassifolia\n"
     ]
    },
    {
     "name": "stdout",
     "output_type": "stream",
     "text": [
      "G+S, matching failed : Magnolia jaliscana\n",
      "G+S, matching failed : Magnolia macrocarpa\n",
      "G+S, matching failed : Magnolia manguillo\n"
     ]
    },
    {
     "name": "stdout",
     "output_type": "stream",
     "text": [
      "G+S, matching failed : Magnolia paranaensis\n",
      "G+S, matching failed : Magnolia shuarorum\n"
     ]
    },
    {
     "name": "stdout",
     "output_type": "stream",
     "text": [
      "G+S, matching failed : Magnolia vallartensis\n"
     ]
    },
    {
     "name": "stdout",
     "output_type": "stream",
     "text": [
      "G+S, matching failed : Drosera porrecta\n",
      "G+S, matching failed : Drosera finlaysoniana\n",
      "G+S, matching failed : Drosera yilgarnensis\n"
     ]
    },
    {
     "name": "stdout",
     "output_type": "stream",
     "text": [
      "G+S, matching failed : Drosera humilis\n"
     ]
    },
    {
     "name": "stdout",
     "output_type": "stream",
     "text": [
      "G+S+filtered authority, couln't find a unique match : Drosera stricticaulis\n",
      "G+S, matching failed : Drosera purpurascens\n"
     ]
    },
    {
     "name": "stdout",
     "output_type": "stream",
     "text": [
      "G+S, matching failed : Drosera omissa\n",
      "G+S, matching failed : Onoclea struthiopteris\n"
     ]
    },
    {
     "name": "stdout",
     "output_type": "stream",
     "text": [
      "G+S+filtered authority, couln't find a unique match : Allium geyeri\n"
     ]
    },
    {
     "name": "stdout",
     "output_type": "stream",
     "text": [
      "G+S+filtered authority, couln't find a unique match : Asclepias exaltata\n"
     ]
    },
    {
     "name": "stdout",
     "output_type": "stream",
     "text": [
      "G+S, matching failed : Boisduvalia glabella\n",
      "G+S+filtered authority, couln't find a unique match : Boltonia asteroides\n",
      "G+S+filtered authority, couln't find a unique match : Calopogon tuberosus\n",
      "G+S+filtered authority, couln't find a unique match : Caltha leptosepala\n"
     ]
    },
    {
     "name": "stdout",
     "output_type": "stream",
     "text": [
      "G+S+filtered authority, couln't find a unique match : Carex alopecoidea\n",
      "G+S+filtered authority, couln't find a unique match : Carex atlantica\n",
      "G+S+filtered authority, couln't find a unique match : Carex bicolor\n"
     ]
    },
    {
     "name": "stdout",
     "output_type": "stream",
     "text": [
      "G+S+filtered authority, couln't find a unique match : Carex exilis\n",
      "G+S+filtered authority, couln't find a unique match : Carex gynocrates\n"
     ]
    },
    {
     "name": "stdout",
     "output_type": "stream",
     "text": [
      "G+S+filtered authority, couln't find a unique match : Carex heleonastes\n"
     ]
    },
    {
     "name": "stdout",
     "output_type": "stream",
     "text": [
      "G+S+filtered authority, couln't find a unique match : Carex michauxiana\n"
     ]
    },
    {
     "name": "stdout",
     "output_type": "stream",
     "text": [
      "G+S+filtered authority, couln't find a unique match : Carex vaginata\n",
      "G+S+filtered authority, couln't find a unique match : Castilleja minor\n",
      "G+S+filtered authority, couln't find a unique match : Cerastium arvense\n"
     ]
    },
    {
     "name": "stdout",
     "output_type": "stream",
     "text": [
      "G+S+filtered authority, couln't find a unique match : Cornus sericea\n",
      "G+S+filtered authority, couln't find a unique match : Distichlis spicata\n"
     ]
    },
    {
     "name": "stdout",
     "output_type": "stream",
     "text": [
      "G+S+filtered authority, couln't find a unique match : Dulichium arundinaceum\n"
     ]
    },
    {
     "name": "stdout",
     "output_type": "stream",
     "text": [
      "G+S+filtered authority, couln't find a unique match : Eleocharis compressa\n"
     ]
    },
    {
     "name": "stdout",
     "output_type": "stream",
     "text": [
      "G+S+filtered authority, couln't find a unique match : Eragrostis hypnoides\n",
      "G+S+filtered authority, couln't find a unique match : Eriophorum chamissonis\n"
     ]
    },
    {
     "name": "stdout",
     "output_type": "stream",
     "text": [
      "G+S, matching failed : Eupatorium maculatum\n",
      "G+S, matching failed : Eurybia radula\n",
      "G+S+filtered authority, couln't find a unique match : Eutrema edwardsii\n"
     ]
    },
    {
     "name": "stdout",
     "output_type": "stream",
     "text": [
      "G+S+filtered authority, couln't find a unique match : Galium tinctorium\n"
     ]
    },
    {
     "name": "stdout",
     "output_type": "stream",
     "text": [
      "G+S+filtered authority, couln't find a unique match : Hedysarum alpinum\n",
      "G+S, matching failed : Heracleum maximum\n",
      "G+S+filtered authority, couln't find a unique match : Hibiscus moscheutos\n"
     ]
    },
    {
     "name": "stdout",
     "output_type": "stream",
     "text": [
      "G+S, matching failed : Isoetes acadiensis\n",
      "G+S+filtered authority, couln't find a unique match : Isoetes tuckermanii\n"
     ]
    },
    {
     "name": "stdout",
     "output_type": "stream",
     "text": [
      "G+S, matching failed : Iva xanthifolia\n",
      "G+S+filtered authority, couln't find a unique match : Juncus balticus\n"
     ]
    },
    {
     "name": "stdout",
     "output_type": "stream",
     "text": [
      "G+S+filtered authority, couln't find a unique match : Juncus triglumis\n",
      "G+S+filtered authority, couln't find a unique match : Kalmia microphylla\n",
      "G+S, matching failed : Lachnanthes caroliana\n"
     ]
    },
    {
     "name": "stdout",
     "output_type": "stream",
     "text": [
      "G+S, matching failed : Lipocarpha micrantha\n",
      "G+S+filtered authority, couln't find a unique match : Lobelia cardinalis\n",
      "G+S+filtered authority, couln't find a unique match : Lomatogonium rotatum\n"
     ]
    },
    {
     "name": "stdout",
     "output_type": "stream",
     "text": [
      "G+S+filtered authority, couln't find a unique match : Lysimachia terrestris\n",
      "G+S+filtered authority, couln't find a unique match : Mentha arvensis\n",
      "G+S+filtered authority, couln't find a unique match : Mimulus alatus\n",
      "G+S, matching failed : Mimulus alsinoides\n"
     ]
    },
    {
     "name": "stdout",
     "output_type": "stream",
     "text": [
      "G+S, matching failed : Mimulus guttatus\n",
      "G+S, matching failed : Mimulus lewisii\n",
      "G+S, matching failed : Mimulus tilingii\n"
     ]
    },
    {
     "name": "stdout",
     "output_type": "stream",
     "text": [
      "G+S+filtered authority, couln't find a unique match : Myosurus apetalus\n"
     ]
    },
    {
     "name": "stdout",
     "output_type": "stream",
     "text": [
      "G+S+filtered authority, couln't find a unique match : Navarretia leucocephala\n",
      "G+S, matching failed : Neobeckia aquatica\n",
      "G+S+filtered authority, couln't find a unique match : Nymphaea odorata\n"
     ]
    },
    {
     "name": "stdout",
     "output_type": "stream",
     "text": [
      "G+S, matching failed : Oxypolis rigidior\n",
      "G+S+filtered authority, couln't find a unique match : Parnassia fimbriata\n"
     ]
    },
    {
     "name": "stdout",
     "output_type": "stream",
     "text": [
      "G+S+filtered authority, couln't find a unique match : Pinguicula macroceras\n",
      "G+S+filtered authority, couln't find a unique match : Plantago maritima\n"
     ]
    },
    {
     "name": "stdout",
     "output_type": "stream",
     "text": [
      "G+S+filtered authority, couln't find a unique match : Poa palustris\n",
      "G+S, matching failed : Polygonum punctatum\n"
     ]
    },
    {
     "name": "stdout",
     "output_type": "stream",
     "text": [
      "G+S+filtered authority, couln't find a unique match : Potamogeton vaseyi\n"
     ]
    },
    {
     "name": "stdout",
     "output_type": "stream",
     "text": [
      "G+S, matching failed : Pycreus bipartitus\n",
      "G+S+filtered authority, couln't find a unique match : Ranunculus flabellaris\n"
     ]
    },
    {
     "name": "stdout",
     "output_type": "stream",
     "text": [
      "G+S+filtered authority, couln't find a unique match : Rhynchospora fusca\n",
      "G+S+filtered authority, couln't find a unique match : Rosa palustris\n",
      "G+S+filtered authority, couln't find a unique match : Rubus arcticus\n"
     ]
    },
    {
     "name": "stdout",
     "output_type": "stream",
     "text": [
      "G+S+filtered authority, couln't find a unique match : Rumex occidentalis\n"
     ]
    },
    {
     "name": "stdout",
     "output_type": "stream",
     "text": [
      "G+S+filtered authority, couln't find a unique match : Salix sericea\n",
      "G+S, matching failed : Saxifraga foliolosa\n"
     ]
    },
    {
     "name": "stdout",
     "output_type": "stream",
     "text": [
      "G+S+filtered authority, couln't find a unique match : Scirpus atrovirens\n"
     ]
    },
    {
     "name": "stdout",
     "output_type": "stream",
     "text": [
      "G+S+filtered authority, couln't find a unique match : Sium suave\n",
      "G+S+filtered authority, couln't find a unique match : Solidago latissimifolia\n"
     ]
    },
    {
     "name": "stdout",
     "output_type": "stream",
     "text": [
      "G+S, matching failed : Spartina pectinata\n",
      "G+S+filtered authority, couln't find a unique match : Stellaria calycantha\n",
      "G+S+filtered authority, couln't find a unique match : Symphyotrichum lanceolatum\n"
     ]
    },
    {
     "name": "stdout",
     "output_type": "stream",
     "text": [
      "G+S+filtered authority, couln't find a unique match : Symphyotrichum puniceum\n"
     ]
    },
    {
     "name": "stdout",
     "output_type": "stream",
     "text": [
      "G+S, matching failed : Trichophorum caespitosum\n",
      "G+S, matching failed : Trientalis borealis\n"
     ]
    },
    {
     "name": "stdout",
     "output_type": "stream",
     "text": [
      "G+S+filtered authority, couln't find a unique match : Utricularia resupinata\n",
      "G+S, matching failed : Vaccinium macrocarpon\n"
     ]
    },
    {
     "name": "stdout",
     "output_type": "stream",
     "text": [
      "G+S, matching failed : Woodwardia areolata\n",
      "G+S, matching failed : Woodwardia virginica\n",
      "G+S+filtered authority, couln't find a unique match : Xyris difformis\n",
      "G+S+filtered authority, couln't find a unique match : Zizania aquatica\n"
     ]
    },
    {
     "name": "stdout",
     "output_type": "stream",
     "text": [
      "G+S+filtered authority, couln't find a unique match : Nephelium lappaceum\n",
      "G+S, matching failed : Verbena sedula\n"
     ]
    },
    {
     "name": "stdout",
     "output_type": "stream",
     "text": [
      "G+S, matching failed : Heliotropium perrieri\n"
     ]
    },
    {
     "name": "stdout",
     "output_type": "stream",
     "text": [
      "G+S+filtered authority, couln't find a unique match : Ilex aquifolium\n",
      "G+S+filtered authority, couln't find a unique match : Anisoptera thurifera\n"
     ]
    },
    {
     "name": "stdout",
     "output_type": "stream",
     "text": [
      "G+S, matching failed : Parashorea tomentella\n"
     ]
    },
    {
     "name": "stdout",
     "output_type": "stream",
     "text": [
      "G+S+filtered authority, couln't find a unique match : Shorea ovalis\n"
     ]
    },
    {
     "name": "stdout",
     "output_type": "stream",
     "text": [
      "G+S+filtered authority, couln't find a unique match : Cabralea canjerana\n",
      "G+S+filtered authority, couln't find a unique match : Chukrasia tabularis\n"
     ]
    },
    {
     "name": "stdout",
     "output_type": "stream",
     "text": [
      "G+S+filtered authority, couln't find a unique match : Guaiacum sanctum\n",
      "G+S+filtered authority, couln't find a unique match : Salix purpurea\n"
     ]
    },
    {
     "name": "stdout",
     "output_type": "stream",
     "text": [
      "G+S, matching failed : Plerandra sp. nov. \"calcicola\"\n",
      "G+S, matching failed : Plerandra sp. nov. \"letocartiorum\"\n"
     ]
    },
    {
     "name": "stdout",
     "output_type": "stream",
     "text": [
      "G+S, matching failed : Plerandra sp. nov. \"longistyla\"\n",
      "G+S, matching failed : Plerandra sp. nov. \"mackeei\"\n",
      "G+S, matching failed : Plerandra sp. nov. \"memaoyaensis\"\n",
      "G+S, matching failed : Plerandra sp. nov. \"neocaledonica\"\n",
      "G+S, matching failed : Plerandra sp. nov. \"pouemboutensis\"\n"
     ]
    },
    {
     "name": "stdout",
     "output_type": "stream",
     "text": [
      "G+S, matching failed : Plerandra sp. nov. \"taomensis\"\n",
      "G+S, matching failed : Plerandra sp. nov. \"tronchetii\"\n"
     ]
    },
    {
     "name": "stdout",
     "output_type": "stream",
     "text": [
      "G+S+filtered authority, couln't find a unique match : Crataegus azarolus\n",
      "G+S, matching failed : Narcissus willkommii\n"
     ]
    },
    {
     "name": "stdout",
     "output_type": "stream",
     "text": [
      "G+S+filtered authority, couln't find a unique match : Fimbristylis dichotoma\n",
      "G+S+filtered authority, couln't find a unique match : Juncus acutus\n",
      "G+S, matching failed : Lipocarpha chinensis\n"
     ]
    },
    {
     "name": "stdout",
     "output_type": "stream",
     "text": [
      "G+S, matching failed : Angraecum palmicolum\n",
      "G+S, matching failed : Angraecum muscicolum\n",
      "G+S, matching failed : Benthamia nigro-vaginata\n"
     ]
    },
    {
     "name": "stdout",
     "output_type": "stream",
     "text": [
      "G+S, matching failed : Aspidostemon inconspicuus\n"
     ]
    },
    {
     "name": "stdout",
     "output_type": "stream",
     "text": [
      "G+S, matching failed : Aspidostemon triantherus\n"
     ]
    },
    {
     "name": "stdout",
     "output_type": "stream",
     "text": [
      "G+S, matching failed : Magnolia bidoupensis\n",
      "G+S, matching failed : Camellia hongiaoensis\n",
      "G+S, matching failed : Camellia oconoriana\n",
      "G+S, matching failed : Magnolia cattienensis\n",
      "G+S, matching failed : Aniba rosodora\n"
     ]
    },
    {
     "name": "stdout",
     "output_type": "stream",
     "text": [
      "G+S+filtered authority, couln't find a unique match : Tournefortia astrotricha\n",
      "G+S+filtered authority, couln't find a unique match : Vernonia arborescens\n"
     ]
    },
    {
     "name": "stdout",
     "output_type": "stream",
     "text": [
      "G+S+filtered authority, couln't find a unique match : Ulmus minor\n"
     ]
    },
    {
     "name": "stdout",
     "output_type": "stream",
     "text": [
      "G+S+filtered authority, couln't find a unique match : Foetidia macrocarpa\n"
     ]
    },
    {
     "name": "stdout",
     "output_type": "stream",
     "text": [
      "G+S, matching failed : Magnolia sinostellata\n",
      "G+S, matching failed : Boswellia sp. A\n",
      "G+S, matching failed : Justicia takhinensis\n",
      "G+S, matching failed : Magnolia sanchez-vegae\n",
      "G+S, matching failed : Cyphostemma auriculatum\n"
     ]
    },
    {
     "name": "stdout",
     "output_type": "stream",
     "text": [
      "G+S+filtered authority, couln't find a unique match : Callitriche hermaphroditica\n"
     ]
    },
    {
     "name": "stdout",
     "output_type": "stream",
     "text": [
      "G+S+filtered authority, couln't find a unique match : Gaertnera obovata\n"
     ]
    },
    {
     "name": "stdout",
     "output_type": "stream",
     "text": [
      "G+S, matching failed : Aspidostemon humbertianus\n",
      "G+S+filtered authority, couln't find a unique match : Aspidostemon apiculatus\n",
      "G+S+filtered authority, couln't find a unique match : Chadsia flammea\n"
     ]
    },
    {
     "name": "stdout",
     "output_type": "stream",
     "text": [
      "G+S, matching failed : Aspidostemon percoriaceus\n"
     ]
    },
    {
     "name": "stdout",
     "output_type": "stream",
     "text": [
      "G+S+filtered authority, couln't find a unique match : Aspidostemon microphyllus\n"
     ]
    },
    {
     "name": "stdout",
     "output_type": "stream",
     "text": [
      "G+S+filtered authority, couln't find a unique match : Abrus aureus\n"
     ]
    },
    {
     "name": "stdout",
     "output_type": "stream",
     "text": [
      "G+S, matching failed : Camellia duyana\n",
      "G+S, matching failed : Camellia ligustrina\n",
      "G+S, matching failed : Camellia bugiamapensis\n",
      "G+S, matching failed : Camellia capitata\n",
      "G+S, matching failed : Camellia nitidissima\n"
     ]
    },
    {
     "name": "stdout",
     "output_type": "stream",
     "text": [
      "G+S, matching failed : Allium therinanthum\n",
      "G+S+filtered authority, couln't find a unique match : Medicago papillosa\n"
     ]
    },
    {
     "name": "stdout",
     "output_type": "stream",
     "text": [
      "G+S, matching failed : Solanum rigidum\n",
      "G+S+filtered authority, couln't find a unique match : Triticum turgidum\n",
      "G+S, matching failed : Zeuxine rolfiana\n",
      "G+S, matching failed : Corylopsis coreana\n",
      "G+S, matching failed : Megaleranthis saniculifolia\n"
     ]
    },
    {
     "name": "stdout",
     "output_type": "stream",
     "text": [
      "G+S, matching failed : Thelypteris tetragona\n",
      "G+S, matching failed : Cardiandra amamiohsimensis\n"
     ]
    },
    {
     "name": "stdout",
     "output_type": "stream",
     "text": [
      "G+S, matching failed : Potamogeton subsibiricus\n",
      "G+S, matching failed : Camellia hengchunensis\n",
      "G+S+filtered authority, couln't find a unique match : Achillea millefolium\n",
      "G+S, matching failed : Aster subulatus\n",
      "G+S+filtered authority, couln't find a unique match : Calystegia sepium\n"
     ]
    },
    {
     "name": "stdout",
     "output_type": "stream",
     "text": [
      "G+S+filtered authority, couln't find a unique match : Epilobium angustifolium\n"
     ]
    },
    {
     "name": "stdout",
     "output_type": "stream",
     "text": [
      "G+S+filtered authority, couln't find a unique match : Lonicera caerulea\n",
      "G+S+filtered authority, couln't find a unique match : Platanthera hyperborea\n"
     ]
    },
    {
     "name": "stdout",
     "output_type": "stream",
     "text": [
      "G+S+filtered authority, couln't find a unique match : Poa pratensis\n",
      "G+S+filtered authority, couln't find a unique match : Prunella vulgaris\n",
      "G+S+filtered authority, couln't find a unique match : Sanguisorba officinalis\n"
     ]
    },
    {
     "name": "stdout",
     "output_type": "stream",
     "text": [
      "G+S+filtered authority, couln't find a unique match : Saxifraga hirculus\n"
     ]
    },
    {
     "name": "stdout",
     "output_type": "stream",
     "text": [
      "G+S+filtered authority, couln't find a unique match : Vaccinium vitis-idaea\n"
     ]
    },
    {
     "name": "stdout",
     "output_type": "stream",
     "text": [
      "G+S+filtered authority, couln't find a unique match : Euphorbia skottsbergii\n"
     ]
    },
    {
     "name": "stdout",
     "output_type": "stream",
     "text": [
      "G+S+filtered authority, couln't find a unique match : Cyperus pennatiformis\n"
     ]
    },
    {
     "name": "stdout",
     "output_type": "stream",
     "text": [
      "G+S+filtered authority, couln't find a unique match : Quercus palmeri\n",
      "G+S, matching failed : Quercus sadleriana\n"
     ]
    },
    {
     "name": "stdout",
     "output_type": "stream",
     "text": [
      "G+S, matching failed : Sorbus admonitor\n",
      "G+S, matching failed : Sorbus andreanszkyana\n",
      "G+S, matching failed : Sorbus udvardyana\n",
      "G+S, matching failed : Sorbus balatonica\n",
      "G+S, matching failed : Sorbus baldaccii\n"
     ]
    },
    {
     "name": "stdout",
     "output_type": "stream",
     "text": [
      "G+S, matching failed : Sorbus buekkensis\n",
      "G+S, matching failed : Sorbus decipientiformis\n",
      "G+S, matching failed : Sorbus dominii\n"
     ]
    },
    {
     "name": "stdout",
     "output_type": "stream",
     "text": [
      "G+S, matching failed : Sorbus futakiana\n",
      "G+S, matching failed : Sorbus gayeriana\n",
      "G+S, matching failed : Sorbus joannis\n",
      "G+S, matching failed : Sorbus karpatii\n",
      "G+S, matching failed : Sorbus klasterskyana\n"
     ]
    },
    {
     "name": "stdout",
     "output_type": "stream",
     "text": [
      "G+S, matching failed : Sorbus magocsyana\n"
     ]
    },
    {
     "name": "stdout",
     "output_type": "stream",
     "text": [
      "G+S, matching failed : Sorbus subdanubialis\n",
      "G+S, matching failed : Sorbus zertovae\n"
     ]
    },
    {
     "name": "stdout",
     "output_type": "stream",
     "text": [
      "G+S, matching failed : Sorbus barthae\n",
      "G+S+filtered authority, couln't find a unique match : Kadua degeneri\n"
     ]
    },
    {
     "name": "stdout",
     "output_type": "stream",
     "text": [
      "G+S, matching failed : Kadua st-johnii\n",
      "G+S, matching failed : Labordia triflora\n",
      "G+S, matching failed : Lysimachia maxima\n",
      "G+S, matching failed : Melanthera fauriei\n",
      "G+S, matching failed : Melanthera kamolensis\n",
      "G+S, matching failed : Melanthera micrantha\n",
      "G+S, matching failed : Melanthera waimeaensis\n"
     ]
    },
    {
     "name": "stdout",
     "output_type": "stream",
     "text": [
      "G+S+filtered authority, couln't find a unique match : Phyllostegia parviflora\n"
     ]
    },
    {
     "name": "stdout",
     "output_type": "stream",
     "text": [
      "G+S+filtered authority, couln't find a unique match : Viola chamissoniana\n"
     ]
    },
    {
     "name": "stdout",
     "output_type": "stream",
     "text": [
      "G+S, matching failed : Labordia helleri\n",
      "G+S, matching failed : Labordia lorenceana\n",
      "G+S+filtered authority, couln't find a unique match : Pittosporum gayanum\n",
      "G+S, matching failed : Lysimachia ovoidea\n"
     ]
    },
    {
     "name": "stdout",
     "output_type": "stream",
     "text": [
      "G+S, matching failed : Platydesma rostrata\n",
      "G+S, matching failed : Salacia nigra\n"
     ]
    },
    {
     "name": "stdout",
     "output_type": "stream",
     "text": [
      "G+S, matching failed : Chrysosplenium rosendahlii\n"
     ]
    },
    {
     "name": "stdout",
     "output_type": "stream",
     "text": [
      "G+S+filtered authority, couln't find a unique match : Platytinospora buchholzii\n",
      "G+S, matching failed : Sorbus velebitica\n"
     ]
    },
    {
     "name": "stdout",
     "output_type": "stream",
     "text": [
      "G+S+filtered authority, couln't find a unique match : Salix salviifolia\n",
      "G+S, matching failed : Minuartia pusilla\n",
      "G+S, matching failed : Narcissus foliosus\n",
      "G+S+filtered authority, couln't find a unique match : Adenocarpus foliolosus\n"
     ]
    },
    {
     "name": "stdout",
     "output_type": "stream",
     "text": [
      "G+S, matching failed : Maytenus canariensis\n",
      "G+S, matching failed : Magnolia rzedowskiana\n"
     ]
    },
    {
     "name": "stdout",
     "output_type": "stream",
     "text": [
      "G+S, matching failed : Asplenium majoricum\n"
     ]
    },
    {
     "name": "stdout",
     "output_type": "stream",
     "text": [
      "G+S, matching failed : Tetracera billardierei\n",
      "G+S, matching failed : Asplenium octoploideum\n",
      "G+S, matching failed : Hymenophyllum wilsonii\n",
      "G+S, matching failed : Isoetes iapygia\n",
      "G+S, matching failed : Isoetes sabatina\n"
     ]
    },
    {
     "name": "stdout",
     "output_type": "stream",
     "text": [
      "G+S, matching failed : Isoetes todaroana\n",
      "G+S+filtered authority, couln't find a unique match : Clermontia peleana\n",
      "G+S, matching failed : Cyanea dolichopoda\n"
     ]
    },
    {
     "name": "stdout",
     "output_type": "stream",
     "text": [
      "G+S, matching failed : Salix nebrodensis\n",
      "G+S+filtered authority, couln't find a unique match : Pinus canariensis\n",
      "G+S, matching failed : Anarrhinum pubescens\n"
     ]
    },
    {
     "name": "stdout",
     "output_type": "stream",
     "text": [
      "G+S+filtered authority, couln't find a unique match : Helichrysum formosissimum\n",
      "G+S+filtered authority, couln't find a unique match : Ethulia vernonioides\n",
      "G+S+filtered authority, couln't find a unique match : Carduus nyassanus\n",
      "G+S, matching failed : Ascolepis lineariglumis\n"
     ]
    },
    {
     "name": "stdout",
     "output_type": "stream",
     "text": [
      "G+S, matching failed : Pycreus nuerensis\n",
      "G+S+filtered authority, couln't find a unique match : Carex simensis\n"
     ]
    },
    {
     "name": "stdout",
     "output_type": "stream",
     "text": [
      "G+S+filtered authority, couln't find a unique match : Sphaerothylax abyssinica\n",
      "G+S+filtered authority, couln't find a unique match : Alisma plantago-aquatica\n",
      "G+S+filtered authority, couln't find a unique match : Azolla pinnata\n"
     ]
    },
    {
     "name": "stdout",
     "output_type": "stream",
     "text": [
      "G+S+filtered authority, couln't find a unique match : Ceratophyllum demersum\n",
      "G+S+filtered authority, couln't find a unique match : Ethulia conyzoides\n"
     ]
    },
    {
     "name": "stdout",
     "output_type": "stream",
     "text": [
      "G+S+filtered authority, couln't find a unique match : Grangea maderaspatana\n",
      "G+S+filtered authority, couln't find a unique match : Limnophyton obtusifolium\n"
     ]
    },
    {
     "name": "stdout",
     "output_type": "stream",
     "text": [
      "G+S+filtered authority, couln't find a unique match : Potamogeton pusillus\n",
      "G+S+filtered authority, couln't find a unique match : Trapa natans\n"
     ]
    },
    {
     "name": "stdout",
     "output_type": "stream",
     "text": [
      "G+S, matching failed : Juniperus turbinata\n",
      "G+S, matching failed : Goodyera alveolata\n",
      "G+S, matching failed : Papilionanthe greenii\n"
     ]
    },
    {
     "name": "stdout",
     "output_type": "stream",
     "text": [
      "G+S, matching failed : Arenaria ludlowii\n",
      "G+S, matching failed : Ceropegia ugeni\n"
     ]
    },
    {
     "name": "stdout",
     "output_type": "stream",
     "text": [
      "G+S+filtered authority, couln't find a unique match : Strobilanthes accrescens\n",
      "G+S, matching failed : Pedicularis bhutanomuscoides\n",
      "G+S, matching failed : Pedicularis cacuminidenta\n",
      "G+S, matching failed : Pedicularis elephantiflora\n",
      "G+S, matching failed : Pedicularis flexosoides\n",
      "G+S, matching failed : Pedicularis griniformis\n"
     ]
    },
    {
     "name": "stdout",
     "output_type": "stream",
     "text": [
      "G+S, matching failed : Pedicularis limithangensis\n",
      "G+S, matching failed : Pedicularis pseudohookeriana\n"
     ]
    },
    {
     "name": "stdout",
     "output_type": "stream",
     "text": [
      "G+S, matching failed : Pedicularis roseialba\n"
     ]
    },
    {
     "name": "stdout",
     "output_type": "stream",
     "text": [
      "G+S, matching failed : Bistorta griersonii\n"
     ]
    },
    {
     "name": "stdout",
     "output_type": "stream",
     "text": [
      "G+S+filtered authority, couln't find a unique match : Saxifraga thiantha\n",
      "G+S, matching failed : Neopicrorhiza minima\n",
      "G+S, matching failed : Persea bootanica\n",
      "G+S, matching failed : Meconopsis bhutanica\n"
     ]
    },
    {
     "name": "stdout",
     "output_type": "stream",
     "text": [
      "G+S, matching failed : Huberantha pendula\n",
      "G+S, matching failed : Neocussonia rainaliana\n"
     ]
    },
    {
     "name": "stdout",
     "output_type": "stream",
     "text": [
      "G+S, matching failed : Chrysophyllum delphinense\n"
     ]
    },
    {
     "name": "stdout",
     "output_type": "stream",
     "text": [
      "G+S, matching failed : Pteridium pinetorum\n",
      "G+S, matching failed : Elaphoglossum semicylindricum\n",
      "G+S, matching failed : Trichomanes speciosum\n"
     ]
    },
    {
     "name": "stdout",
     "output_type": "stream",
     "text": [
      "G+S, matching failed : Huperzia dentata\n",
      "G+S, matching failed : Allosorus fragilis\n",
      "G+S, matching failed : Woodsia caucasica\n"
     ]
    },
    {
     "name": "stdout",
     "output_type": "stream",
     "text": [
      "G+S, matching failed : Agrostis lachnantha\n",
      "G+S, matching failed : Astragalus griersonii\n",
      "G+S, matching failed : Beilschmiedia bhutanica\n"
     ]
    },
    {
     "name": "stdout",
     "output_type": "stream",
     "text": [
      "G+S, matching failed : Cotoneaster hicksii\n",
      "G+S+filtered authority, couln't find a unique match : Pedicularis inconspicua\n",
      "G+S, matching failed : Prunus harae\n",
      "G+S, matching failed : Lipotriche tithonioides\n"
     ]
    },
    {
     "name": "stdout",
     "output_type": "stream",
     "text": [
      "G+S, matching failed : Stenandrium buntingii\n"
     ]
    },
    {
     "name": "stdout",
     "output_type": "stream",
     "text": [
      "G+S, matching failed : Osbeckia porteresii\n",
      "G+S, matching failed : Crassula maputensis\n"
     ]
    },
    {
     "name": "stdout",
     "output_type": "stream",
     "text": [
      "G+S, matching failed : Prionostemma delagoensis\n"
     ]
    },
    {
     "name": "stdout",
     "output_type": "stream",
     "text": [
      "G+S, matching failed : Magnolia tiepii\n",
      "G+S, matching failed : Sorbus albensis\n"
     ]
    },
    {
     "name": "stdout",
     "output_type": "stream",
     "text": [
      "G+S, matching failed : Sorbus barabitsii\n",
      "G+S, matching failed : Sorbus barrandienica\n",
      "G+S, matching failed : Sorbus busambarensis\n",
      "G+S, matching failed : Sorbus cucullifera\n",
      "G+S, matching failed : Sorbus semipinnata\n"
     ]
    },
    {
     "name": "stdout",
     "output_type": "stream",
     "text": [
      "G+S, matching failed : Sorbus eximia\n",
      "G+S, matching failed : Sorbus greenii\n",
      "G+S, matching failed : Sorbus milensis\n",
      "G+S, matching failed : Sorbus portae-bohemicae\n"
     ]
    },
    {
     "name": "stdout",
     "output_type": "stream",
     "text": [
      "G+S, matching failed : Sorbus pelsoensis\n",
      "G+S, matching failed : Betula kotulae\n",
      "G+S, matching failed : Sorbus herefordensis\n"
     ]
    },
    {
     "name": "stdout",
     "output_type": "stream",
     "text": [
      "G+S, matching failed : Sorbus holubyana\n",
      "G+S, matching failed : Sorbus paxiana\n",
      "G+S, matching failed : Sorbus pekarovae\n"
     ]
    },
    {
     "name": "stdout",
     "output_type": "stream",
     "text": [
      "G+S, matching failed : Sorbus pseudosemiincisa\n",
      "G+S, matching failed : Sorbus remensis\n"
     ]
    },
    {
     "name": "stdout",
     "output_type": "stream",
     "text": [
      "G+S, matching failed : Sorbus tobani\n",
      "G+S, matching failed : Sorbus madoniensis\n",
      "G+S, matching failed : Sorbus moravica\n",
      "G+S, matching failed : Sorbus omissa\n",
      "G+S, matching failed : Sorbus pauca\n",
      "G+S, matching failed : Sorbus polgariana\n",
      "G+S, matching failed : Sorbus pontis-satanae\n"
     ]
    },
    {
     "name": "stdout",
     "output_type": "stream",
     "text": [
      "G+S, matching failed : Sorbus richii\n",
      "G+S, matching failed : Sorbus sellii\n",
      "G+S, matching failed : Sorbus spectans\n",
      "G+S, matching failed : Sorbus thayensis\n",
      "G+S, matching failed : Cistus psilosepalus\n"
     ]
    },
    {
     "name": "stdout",
     "output_type": "stream",
     "text": [
      "G+S, matching failed : Teline tribracteolata\n",
      "G+S+filtered authority, couln't find a unique match : Erica mackaiana\n",
      "G+S, matching failed : Frangula pedunculata\n"
     ]
    },
    {
     "name": "stdout",
     "output_type": "stream",
     "text": [
      "G+S+filtered authority, couln't find a unique match : Genista germanica\n",
      "G+S+filtered authority, couln't find a unique match : Genista radiata\n"
     ]
    },
    {
     "name": "stdout",
     "output_type": "stream",
     "text": [
      "G+S+filtered authority, couln't find a unique match : Genista versicolor\n",
      "G+S, matching failed : Rhamnus sibthorpiana\n"
     ]
    },
    {
     "name": "stdout",
     "output_type": "stream",
     "text": [
      "G+S+filtered authority, couln't find a unique match : Sorbus sudetica\n",
      "G+S+filtered authority, couln't find a unique match : Salix foetida\n",
      "G+S, matching failed : Salix ionica\n"
     ]
    },
    {
     "name": "stdout",
     "output_type": "stream",
     "text": [
      "G+S, matching failed : Salix tyrrhenica\n",
      "G+S+filtered authority, couln't find a unique match : Ulex argenteus\n"
     ]
    },
    {
     "name": "stdout",
     "output_type": "stream",
     "text": [
      "G+S, matching failed : Malva canariensis\n"
     ]
    },
    {
     "name": "stdout",
     "output_type": "stream",
     "text": [
      "G+S, matching failed : Selenipedium chironianum\n",
      "G+S, matching failed : Phragmipedium anguloi\n",
      "G+S, matching failed : Selenipedium vanillocarpum\n",
      "G+S, matching failed : Phragmipedium dalessandroi\n"
     ]
    },
    {
     "name": "stdout",
     "output_type": "stream",
     "text": [
      "G+S, matching failed : Polyspora gioii\n",
      "G+S, matching failed : Nepenthes armin\n",
      "G+S, matching failed : Nepenthes pantaronensis\n",
      "G+S, matching failed : Nepenthes tboli\n",
      "G+S, matching failed : Iris mesopotamica\n"
     ]
    },
    {
     "name": "stdout",
     "output_type": "stream",
     "text": [
      "G+S, matching failed : Zannichellia melitensis\n",
      "G+S, matching failed : Angraecopsis thomensis\n"
     ]
    },
    {
     "name": "stdout",
     "output_type": "stream",
     "text": [
      "G+S, matching failed : Angraecum curvipes\n",
      "G+S, matching failed : Bulbophyllum blepharochilum\n"
     ]
    },
    {
     "name": "stdout",
     "output_type": "stream",
     "text": [
      "G+S, matching failed : Bulbophyllum nummularia\n",
      "G+S, matching failed : Bulbophyllum sangae\n",
      "G+S, matching failed : Chamaeangis thomensis\n",
      "G+S, matching failed : Chamaeangis vagans\n",
      "G+S, matching failed : Bulbophyllum coriscense\n"
     ]
    },
    {
     "name": "stdout",
     "output_type": "stream",
     "text": [
      "G+S, matching failed : Epipactis hyblaea\n",
      "G+S, matching failed : Allium vernale\n"
     ]
    },
    {
     "name": "stdout",
     "output_type": "stream",
     "text": [
      "G+S+filtered authority, couln't find a unique match : Secamone ligustrifolia\n"
     ]
    },
    {
     "name": "stdout",
     "output_type": "stream",
     "text": [
      "G+S, matching failed : Amphidoxa demidium\n"
     ]
    },
    {
     "name": "stdout",
     "output_type": "stream",
     "text": [
      "G+S, matching failed : Cleome augustinensis\n"
     ]
    },
    {
     "name": "stdout",
     "output_type": "stream",
     "text": [
      "G+S, matching failed : Pycreus alleizettei\n",
      "G+S, matching failed : Pycreus compressiformis\n"
     ]
    },
    {
     "name": "stdout",
     "output_type": "stream",
     "text": [
      "G+S, matching failed : Hydrostachys laciniata\n"
     ]
    },
    {
     "name": "stdout",
     "output_type": "stream",
     "text": [
      "G+S+filtered authority, couln't find a unique match : Hydrostachys trifaria\n",
      "G+S+filtered authority, couln't find a unique match : Hydrostachys verruculosa\n"
     ]
    },
    {
     "name": "stdout",
     "output_type": "stream",
     "text": [
      "G+S, matching failed : Sacciolepis delicatula\n"
     ]
    },
    {
     "name": "stdout",
     "output_type": "stream",
     "text": [
      "G+S, matching failed : Xyris baronii\n"
     ]
    },
    {
     "name": "stdout",
     "output_type": "stream",
     "text": [
      "G+S, matching failed : Allium panormitanum\n",
      "G+S, matching failed : Allium samniticum\n",
      "G+S, matching failed : Allium meikleanum\n",
      "G+S, matching failed : Allium pelagicum\n",
      "G+S, matching failed : Magnolia guangzhouensis\n",
      "G+S, matching failed : Magnolia kaifui\n",
      "G+S, matching failed : Magnolia lawii\n",
      "G+S, matching failed : Magnolia viridipetala\n"
     ]
    },
    {
     "name": "stdout",
     "output_type": "stream",
     "text": [
      "G+S, matching failed : Magnolia xianianhei\n",
      "G+S, matching failed : Magnolia bawangensis\n",
      "G+S, matching failed : Crypsis hadjikyriakou\n",
      "G+S, matching failed : Quercus cupreata\n"
     ]
    },
    {
     "name": "stdout",
     "output_type": "stream",
     "text": [
      "G+S, matching failed : Gagea peruzzii\n",
      "G+S, matching failed : Gagea apulica\n",
      "G+S, matching failed : Amorphophallus kienluongensis\n",
      "G+S, matching failed : Gagea procera\n"
     ]
    },
    {
     "name": "stdout",
     "output_type": "stream",
     "text": [
      "G+S, matching failed : Gagea pseudopeduncularis\n",
      "G+S, matching failed : Gagea pampaninii\n",
      "G+S, matching failed : Gagea omalensis\n",
      "G+S, matching failed : Gagea heldreichii\n",
      "G+S, matching failed : Gagea extremadurensis\n",
      "G+S, matching failed : Gagea antakiensis\n",
      "G+S, matching failed : Quercus monterreyensis\n"
     ]
    },
    {
     "name": "stdout",
     "output_type": "stream",
     "text": [
      "G+S, matching failed : Quercus toxicodendrifolia\n",
      "G+S, matching failed : Sorbus bodajkensis\n",
      "G+S, matching failed : Sorbus pyricarpa\n",
      "G+S, matching failed : Sorbus dracofolia\n",
      "G+S, matching failed : Sorbus acutiserrata\n",
      "G+S, matching failed : Sorbus vallerubusensis\n",
      "G+S, matching failed : Sorbus atrimontis\n"
     ]
    },
    {
     "name": "stdout",
     "output_type": "stream",
     "text": [
      "G+S, matching failed : Sorbus veszpremensis\n"
     ]
    },
    {
     "name": "stdout",
     "output_type": "stream",
     "text": [
      "G+S, matching failed : Ficus muelleriana\n",
      "G+S, matching failed : Pittosporum sp. nov. 'wenemense'\n",
      "G+S, matching failed : Pittosporum sp. nov. 'veilloniana'\n",
      "G+S, matching failed : Pittosporum sp. nov. 'tchingounensis'\n",
      "G+S, matching failed : Sorbus lonetalensis\n"
     ]
    },
    {
     "name": "stdout",
     "output_type": "stream",
     "text": [
      "G+S, matching failed : Polygala kalaboensis\n",
      "G+S, matching failed : Varronia urticacea\n",
      "G+S, matching failed : Limonium poimenum\n"
     ]
    },
    {
     "name": "stdout",
     "output_type": "stream",
     "text": [
      "G+S, matching failed : Sorbus salatini\n",
      "G+S+filtered authority, couln't find a unique match : Hyphaene thebaica\n",
      "G+S, matching failed : Avellara fistulosa\n"
     ]
    },
    {
     "name": "stdout",
     "output_type": "stream",
     "text": [
      "G+S+filtered authority, couln't find a unique match : Eremospatha macrocarpa\n"
     ]
    },
    {
     "name": "stdout",
     "output_type": "stream",
     "text": [
      "G+S, matching failed : Sorbus vajdae\n",
      "G+S, matching failed : Sorbus thaiszii\n",
      "G+S, matching failed : Sorbus zolyomii\n",
      "G+S, matching failed : Sorbus budaiana\n",
      "G+S+filtered authority, couln't find a unique match : Chamaerops humilis\n",
      "G+S, matching failed : Sorbus keszthelyensis\n",
      "G+S, matching failed : Sorbus ujhelyii\n"
     ]
    },
    {
     "name": "stdout",
     "output_type": "stream",
     "text": [
      "G+S, matching failed : Sorbus ulmifolia\n",
      "G+S, matching failed : Coronilla talaverae\n"
     ]
    },
    {
     "name": "stdout",
     "output_type": "stream",
     "text": [
      "G+S, matching failed : Lavatera oblongifolia\n"
     ]
    },
    {
     "name": "stdout",
     "output_type": "stream",
     "text": [
      "G+S, matching failed : Fraxinus petenensis\n"
     ]
    },
    {
     "name": "stdout",
     "output_type": "stream",
     "text": [
      "G+S+filtered authority, couln't find a unique match : Fraxinus uhdei\n",
      "G+S+filtered authority, couln't find a unique match : Fraxinus angustifolia\n"
     ]
    },
    {
     "name": "stdout",
     "output_type": "stream",
     "text": [
      "G+S+filtered authority, couln't find a unique match : Nothofagus crenata\n"
     ]
    },
    {
     "name": "stdout",
     "output_type": "stream",
     "text": [
      "G+S, matching failed : Nothofagus starkenborghiorum\n",
      "G+S+filtered authority, couln't find a unique match : Premna tahitensis\n",
      "G+S+filtered authority, couln't find a unique match : Najas pectinata\n",
      "G+S+filtered authority, couln't find a unique match : Zannichellia palustris\n",
      "G+S, matching failed : Pinus cernua\n"
     ]
    },
    {
     "name": "stdout",
     "output_type": "stream",
     "text": [
      "G+S, matching failed : Sorbus avonensis\n",
      "G+S, matching failed : Commidendrum gummiferum\n",
      "G+S, matching failed : Sorbus arvonensis\n",
      "G+S+filtered authority, couln't find a unique match : Najas marina\n",
      "G+S, matching failed : Camellia azalea\n",
      "G+S, matching failed : Aloe elkerriana\n"
     ]
    },
    {
     "name": "stdout",
     "output_type": "stream",
     "text": [
      "G+S, matching failed : Baccaurea glabrifolia\n"
     ]
    },
    {
     "name": "stdout",
     "output_type": "stream",
     "text": [
      "G+S, matching failed : Cyathea camerooniana\n",
      "G+S, matching failed : Vittaria reekmansii\n"
     ]
    },
    {
     "name": "stdout",
     "output_type": "stream",
     "text": [
      "G+S, matching failed : Rotala stuhlmannii\n",
      "G+S, matching failed : Dissotis urundiensis\n",
      "G+S, matching failed : Melhania polyneura\n"
     ]
    },
    {
     "name": "stdout",
     "output_type": "stream",
     "text": [
      "G+S, matching failed : Leptoderris burundiensis\n",
      "G+S, matching failed : Thesium reekmansii\n",
      "G+S, matching failed : Cyphostemma eminii\n"
     ]
    },
    {
     "name": "stdout",
     "output_type": "stream",
     "text": [
      "G+S+filtered authority, couln't find a unique match : Otiophora lebruniana\n"
     ]
    },
    {
     "name": "stdout",
     "output_type": "stream",
     "text": [
      "G+S, matching failed : Helichrysum helothamnus\n",
      "G+S, matching failed : Vernonia agrianthoides\n"
     ]
    },
    {
     "name": "stdout",
     "output_type": "stream",
     "text": [
      "G+S+filtered authority, couln't find a unique match : Wahlenbergia pulchella\n",
      "G+S, matching failed : Astripomoea cephalantha\n"
     ]
    },
    {
     "name": "stdout",
     "output_type": "stream",
     "text": [
      "G+S+filtered authority, couln't find a unique match : Crossandra infundibuliformis\n"
     ]
    },
    {
     "name": "stdout",
     "output_type": "stream",
     "text": [
      "G+S+filtered authority, couln't find a unique match : Chlorophytum cameronii\n",
      "G+S, matching failed : Ascolepis hemisphaerica\n"
     ]
    },
    {
     "name": "stdout",
     "output_type": "stream",
     "text": [
      "G+S, matching failed : Kyllinga chrysanthoides\n",
      "G+S, matching failed : Drosera lanata\n",
      "G+S, matching failed : Drosera magna\n"
     ]
    },
    {
     "name": "stdout",
     "output_type": "stream",
     "text": [
      "G+S, matching failed : Drosera auriculta\n",
      "G+S, matching failed : Drosera aquatica\n",
      "G+S, matching failed : Drosera aurantiaca\n",
      "G+S, matching failed : Drosera basifolia\n"
     ]
    },
    {
     "name": "stdout",
     "output_type": "stream",
     "text": [
      "G+S, matching failed : Drosera bindoon\n",
      "G+S, matching failed : Drosera collina\n",
      "G+S, matching failed : Drosera cucullata\n",
      "G+S, matching failed : Drosera depauperata\n",
      "G+S, matching failed : Drosera enodes\n",
      "G+S, matching failed : Drosera fragrans\n",
      "G+S, matching failed : Drosera geniculata\n",
      "G+S, matching failed : Drosera glabriscapa\n",
      "G+S, matching failed : Drosera gracilis\n"
     ]
    },
    {
     "name": "stdout",
     "output_type": "stream",
     "text": [
      "G+S, matching failed : Drosera major\n",
      "G+S, matching failed : Drosera micrantha\n",
      "G+S, matching failed : Drosera minutiflora\n",
      "G+S, matching failed : Drosera murfetii\n",
      "G+S, matching failed : Drosera nana\n",
      "G+S, matching failed : Drosera nivea\n",
      "G+S, matching failed : Drosera prophylla\n",
      "G+S, matching failed : Drosera roseana\n"
     ]
    },
    {
     "name": "stdout",
     "output_type": "stream",
     "text": [
      "G+S, matching failed : Drosera sargentii\n",
      "G+S, matching failed : Drosera silvicola\n",
      "G+S, matching failed : Drosera stelliflora\n",
      "G+S, matching failed : Drosera trichocaulis\n",
      "G+S, matching failed : Drosera verrucata\n"
     ]
    },
    {
     "name": "stdout",
     "output_type": "stream",
     "text": [
      "G+S, matching failed : Isoetes tenuissima\n"
     ]
    },
    {
     "name": "stdout",
     "output_type": "stream",
     "text": [
      "G+S, matching failed : Utricularia keneallyi\n",
      "G+S, matching failed : Utricularia monanthos\n"
     ]
    },
    {
     "name": "stdout",
     "output_type": "stream",
     "text": [
      "G+S, matching failed : Utricularia terra-reginae\n"
     ]
    },
    {
     "name": "stdout",
     "output_type": "stream",
     "text": [
      "G+S, matching failed : Byblis pilbarana\n"
     ]
    },
    {
     "name": "stdout",
     "output_type": "stream",
     "text": [
      "G+S, matching failed : Iris sofarana\n"
     ]
    },
    {
     "name": "stdout",
     "output_type": "stream",
     "text": [
      "G+S, matching failed : Metrosideros ochrantha\n"
     ]
    },
    {
     "name": "stdout",
     "output_type": "stream",
     "text": [
      "G+S, matching failed : Acsmithia vitiense\n",
      "G+S, matching failed : Balaka diffusa\n",
      "G+S, matching failed : Cyphosperma naboutinense\n",
      "G+S, matching failed : Hibiscus storckii\n"
     ]
    },
    {
     "name": "stdout",
     "output_type": "stream",
     "text": [
      "G+S, matching failed : Cyclosorus burundensis\n",
      "G+S, matching failed : Kyllinga ruwenzoriensis\n",
      "G+S, matching failed : Pyrus castribonensis\n"
     ]
    },
    {
     "name": "stdout",
     "output_type": "stream",
     "text": [
      "G+S, matching failed : Pinguicula algida\n",
      "G+S, matching failed : Pinguicula hirtiflora\n"
     ]
    },
    {
     "name": "stdout",
     "output_type": "stream",
     "text": [
      "G+S+filtered authority, couln't find a unique match : Juniperus phoenicea\n"
     ]
    },
    {
     "name": "stdout",
     "output_type": "stream",
     "text": [
      "G+S, matching failed : Drosera australis\n",
      "G+S, matching failed : Drosera calycina\n",
      "G+S, matching failed : Drosera drummondii\n",
      "G+S, matching failed : Drosera eremaea\n",
      "G+S, matching failed : Desmazeria pignattii\n"
     ]
    },
    {
     "name": "stdout",
     "output_type": "stream",
     "text": [
      "G+S+filtered authority, couln't find a unique match : Aulotandra trigonocarpa\n",
      "G+S, matching failed : Romulea assumptionis\n"
     ]
    },
    {
     "name": "stdout",
     "output_type": "stream",
     "text": [
      "G+S+filtered authority, couln't find a unique match : Capsicum annuum\n"
     ]
    },
    {
     "name": "stdout",
     "output_type": "stream",
     "text": [
      "G+S, matching failed : Sorbus herculis\n",
      "G+S, matching failed : Sorbus domugledica\n",
      "G+S, matching failed : Isoetes haussknechtii\n"
     ]
    },
    {
     "name": "stdout",
     "output_type": "stream",
     "text": [
      "G+S+filtered authority, couln't find a unique match : Cistus chinamadensis\n",
      "G+S, matching failed : Maytenus umbellata\n",
      "G+S, matching failed : Olea maderensis\n",
      "G+S, matching failed : Persea indica\n",
      "G+S, matching failed : Crataegus sericea\n"
     ]
    },
    {
     "name": "stdout",
     "output_type": "stream",
     "text": [
      "G+S+filtered authority, couln't find a unique match : Schizogyne sericea\n"
     ]
    },
    {
     "name": "stdout",
     "output_type": "stream",
     "text": [
      "G+S, matching failed : Isoplexis sceptrum\n",
      "G+S, matching failed : Adenocarpus anisochilus\n",
      "G+S, matching failed : Erica andevalensis\n"
     ]
    },
    {
     "name": "stdout",
     "output_type": "stream",
     "text": [
      "G+S, matching failed : Pyrus ciancioi\n",
      "G+S, matching failed : Carthamus balearicus\n",
      "G+S, matching failed : Allium calamarophilon\n"
     ]
    },
    {
     "name": "stdout",
     "output_type": "stream",
     "text": [
      "G+S, matching failed : Minuartia dirphya\n"
     ]
    },
    {
     "name": "stdout",
     "output_type": "stream",
     "text": [
      "G+S, matching failed : Acer heptaphlebium\n",
      "G+S, matching failed : Acer drummondi\n",
      "G+S, matching failed : Acer floridanum\n",
      "G+S+filtered authority, couln't find a unique match : Acer grandidentatum\n",
      "G+S, matching failed : Acer skutchii\n"
     ]
    },
    {
     "name": "stdout",
     "output_type": "stream",
     "text": [
      "G+S, matching failed : Genista insularis\n",
      "G+S, matching failed : Echinospartum algibicum\n"
     ]
    },
    {
     "name": "stdout",
     "output_type": "stream",
     "text": [
      "G+S, matching failed : Teline patens\n",
      "G+S, matching failed : Pyrus sicanorum\n"
     ]
    },
    {
     "name": "stdout",
     "output_type": "stream",
     "text": [
      "G+S+filtered authority, couln't find a unique match : Paeonia officinalis\n",
      "G+S+filtered authority, couln't find a unique match : Scirpoides holoschoenus\n",
      "G+S, matching failed : Albuca roodeae\n"
     ]
    },
    {
     "name": "stdout",
     "output_type": "stream",
     "text": [
      "G+S, matching failed : Aspalathus linearifolia\n",
      "G+S, matching failed : Aloe framesii\n",
      "G+S, matching failed : Annesorhiza burttii\n",
      "G+S, matching failed : Acrodon purpureostylus\n"
     ]
    },
    {
     "name": "stdout",
     "output_type": "stream",
     "text": [
      "G+S, matching failed : Aspidonepsis flava\n",
      "G+S, matching failed : Amphithalea pageae\n",
      "G+S+filtered authority, couln't find a unique match : Athanasia spathulata\n",
      "G+S, matching failed : Aspalathus obtusata\n"
     ]
    },
    {
     "name": "stdout",
     "output_type": "stream",
     "text": [
      "G+S, matching failed : Sorbus stankovii\n",
      "G+S+filtered authority, couln't find a unique match : Carlina salicifolia\n"
     ]
    },
    {
     "name": "stdout",
     "output_type": "stream",
     "text": [
      "G+S, matching failed : Bosea yervamora\n",
      "G+S, matching failed : Miyamayomena koraiensis\n",
      "G+S, matching failed : Lespedeza maritima\n"
     ]
    },
    {
     "name": "stdout",
     "output_type": "stream",
     "text": [
      "G+S, matching failed : Gossypium davidsonii\n",
      "G+S+filtered authority, couln't find a unique match : Vanilla pompona\n"
     ]
    },
    {
     "name": "stdout",
     "output_type": "stream",
     "text": [
      "G+S, matching failed : Festuca dertosensis\n"
     ]
    },
    {
     "name": "stdout",
     "output_type": "stream",
     "text": [
      "G+S+filtered authority, couln't find a unique match : Gonolobus dorothyanus\n",
      "G+S, matching failed : Aspidosperma compactinervium\n"
     ]
    },
    {
     "name": "stdout",
     "output_type": "stream",
     "text": [
      "G+S+filtered authority, couln't find a unique match : Utricularia nelumbifolia\n",
      "G+S, matching failed : Utricularia peranomala\n"
     ]
    },
    {
     "name": "stdout",
     "output_type": "stream",
     "text": [
      "G+S, matching failed : Conyza feae\n",
      "G+S, matching failed : Conyza varia\n",
      "G+S, matching failed : Diplotaxis glauca\n"
     ]
    },
    {
     "name": "stdout",
     "output_type": "stream",
     "text": [
      "G+S, matching failed : Diplotaxis hirta\n",
      "G+S, matching failed : Diplotaxis vogelii\n"
     ]
    },
    {
     "name": "stdout",
     "output_type": "stream",
     "text": [
      "G+S, matching failed : Kickxia elegans\n",
      "G+S, matching failed : Limonium jovibarba\n"
     ]
    },
    {
     "name": "stdout",
     "output_type": "stream",
     "text": [
      "G+S+filtered authority, couln't find a unique match : Phagnalon melanoleucum\n"
     ]
    },
    {
     "name": "stdout",
     "output_type": "stream",
     "text": [
      "G+S, matching failed : Crepidorhopalon sp. nov.\n"
     ]
    },
    {
     "name": "stdout",
     "output_type": "stream",
     "text": [
      "G+S, matching failed : Coleus namuliensis\n"
     ]
    },
    {
     "name": "stdout",
     "output_type": "stream",
     "text": [
      "G+S, matching failed : Cassipourea korupensis\n"
     ]
    },
    {
     "name": "stdout",
     "output_type": "stream",
     "text": [
      "G+S, matching failed : Leptonychia moyesiae\n",
      "G+S, matching failed : Rhaphiostylis subsessifolia\n"
     ]
    },
    {
     "name": "stdout",
     "output_type": "stream",
     "text": [
      "G+S, matching failed : Afrothismia korupensis\n"
     ]
    },
    {
     "name": "stdout",
     "output_type": "stream",
     "text": [
      "G+S, matching failed : Amblyopyrum muticum\n",
      "G+S+filtered authority, couln't find a unique match : Dendriopoterium menendezii\n"
     ]
    },
    {
     "name": "stdout",
     "output_type": "stream",
     "text": [
      "G+S, matching failed : Romulea rollii\n"
     ]
    },
    {
     "name": "stdout",
     "output_type": "stream",
     "text": [
      "G+S, matching failed : Charybdis anthericoides\n"
     ]
    },
    {
     "name": "stdout",
     "output_type": "stream",
     "text": [
      "G+S, matching failed : Cola le-testui\n",
      "G+S, matching failed : Araucaria goroensis\n",
      "G+S, matching failed : Aiphanes argos\n",
      "G+S, matching failed : Magnolia mindoensis\n",
      "G+S, matching failed : Pyrenaria buisanensis\n"
     ]
    },
    {
     "name": "stdout",
     "output_type": "stream",
     "text": [
      "G+S, matching failed : Berlinia delevoyi\n",
      "G+S+filtered authority, couln't find a unique match : Berlinia grandiflora\n",
      "G+S, matching failed : Genista cilentina\n",
      "G+S+filtered authority, couln't find a unique match : Sorbus aucuparia\n",
      "G+S, matching failed : Allium iatrouinum\n"
     ]
    },
    {
     "name": "stdout",
     "output_type": "stream",
     "text": [
      "G+S, matching failed : Allium pycnotrichum\n",
      "G+S, matching failed : Boniodendron minus\n",
      "G+S+filtered authority, couln't find a unique match : Fraxinus ornus\n",
      "G+S+filtered authority, couln't find a unique match : Aegilops searsii\n",
      "G+S+filtered authority, couln't find a unique match : Tilia tomentosa\n"
     ]
    },
    {
     "name": "stdout",
     "output_type": "stream",
     "text": [
      "G+S+filtered authority, couln't find a unique match : Vatica umbonata\n"
     ]
    },
    {
     "name": "stdout",
     "output_type": "stream",
     "text": [
      "G+S, matching failed : Pterospermum blumeanum\n",
      "G+S, matching failed : Pterospermum stapfianum\n"
     ]
    },
    {
     "name": "stdout",
     "output_type": "stream",
     "text": [
      "G+S, matching failed : Oryza alta\n",
      "G+S, matching failed : Oryza glumipatula\n",
      "G+S, matching failed : Oryza malampuzhaensis\n",
      "G+S, matching failed : Oryza nivara\n"
     ]
    },
    {
     "name": "stdout",
     "output_type": "stream",
     "text": [
      "G+S, matching failed : Oryza rhizomatis\n",
      "G+S, matching failed : Oryza schweinfurthiana\n",
      "G+S, matching failed : Pyrenaria cherrapunjeana\n",
      "G+S, matching failed : Chrysodracon auwahiensis\n",
      "G+S, matching failed : Chrysodracon fernaldii\n",
      "G+S, matching failed : Chrysodracon forbesii\n",
      "G+S, matching failed : Chrysodracon halapepe\n",
      "G+S, matching failed : Chrysodracon hawaiiensis\n"
     ]
    },
    {
     "name": "stdout",
     "output_type": "stream",
     "text": [
      "G+S, matching failed : Labordia hosakana\n"
     ]
    },
    {
     "name": "stdout",
     "output_type": "stream",
     "text": [
      "G+S, matching failed : Pteris lidgatei\n"
     ]
    },
    {
     "name": "stdout",
     "output_type": "stream",
     "text": [
      "G+S, matching failed : Melanthera tenuifolia\n"
     ]
    },
    {
     "name": "stdout",
     "output_type": "stream",
     "text": [
      "G+S, matching failed : Stenogyne kealiae\n",
      "G+S, matching failed : Paphiopedilum thaianum\n"
     ]
    },
    {
     "name": "stdout",
     "output_type": "stream",
     "text": [
      "G+S, matching failed : Monizia edulis\n",
      "G+S, matching failed : Sinapidendron gymnocalyx\n"
     ]
    },
    {
     "name": "stdout",
     "output_type": "stream",
     "text": [
      "G+S, matching failed : Cynanchum freemani\n"
     ]
    },
    {
     "name": "stdout",
     "output_type": "stream",
     "text": [
      "G+S, matching failed : Eugenia cruegeri\n",
      "G+S, matching failed : Neurolepis virgata\n",
      "G+S, matching failed : Polygala exserta\n"
     ]
    },
    {
     "name": "stdout",
     "output_type": "stream",
     "text": [
      "G+S, matching failed : Rondeletia hispidula\n"
     ]
    },
    {
     "name": "stdout",
     "output_type": "stream",
     "text": [
      "G+S, matching failed : Maytenus reflexa\n",
      "G+S, matching failed : Aechmea geminiflora\n"
     ]
    },
    {
     "name": "stdout",
     "output_type": "stream",
     "text": [
      "G+S, matching failed : Inversodicraea pepehabai\n",
      "G+S, matching failed : Lepidagathis chevalieri\n"
     ]
    },
    {
     "name": "stdout",
     "output_type": "stream",
     "text": [
      "G+S, matching failed : Genista benehoavensis\n",
      "G+S, matching failed : Betula klokovii\n",
      "G+S, matching failed : Pseudarrhenatherum pallens\n"
     ]
    },
    {
     "name": "stdout",
     "output_type": "stream",
     "text": [
      "G+S, matching failed : Sorbus javorkana\n",
      "G+S, matching failed : Drimys confertifolia\n",
      "G+S, matching failed : Campylospermum serrata\n"
     ]
    },
    {
     "name": "stdout",
     "output_type": "stream",
     "text": [
      "G+S, matching failed : Ostrya chinensis\n",
      "G+S, matching failed : Carpinus langaoensis\n"
     ]
    },
    {
     "name": "stdout",
     "output_type": "stream",
     "text": [
      "G+S, matching failed : Pentapanax henryi\n",
      "G+S+filtered authority, couln't find a unique match : Posidonia oceanica\n",
      "G+S, matching failed : Sorbus teodori\n"
     ]
    },
    {
     "name": "stdout",
     "output_type": "stream",
     "text": [
      "G+S, matching failed : Wittmackia caymanensis\n"
     ]
    },
    {
     "name": "stdout",
     "output_type": "stream",
     "text": [
      "G+S, matching failed : Acanthocereus tetragonus\n",
      "G+S, matching failed : Sorbus evansii\n",
      "G+S+filtered authority, couln't find a unique match : Crataegus pentagyna\n"
     ]
    },
    {
     "name": "stdout",
     "output_type": "stream",
     "text": [
      "G+S, matching failed : Sorbus taurica\n",
      "G+S, matching failed : Rhamnus alpina\n",
      "G+S+filtered authority, couln't find a unique match : Crataegus laciniata\n"
     ]
    },
    {
     "name": "stdout",
     "output_type": "stream",
     "text": [
      "G+S, matching failed : Henriettea ininensis\n",
      "G+S, matching failed : Elaeagnus rhamnoides\n",
      "G+S+filtered authority, couln't find a unique match : Laurus nobilis\n",
      "G+S+filtered authority, couln't find a unique match : Myrtus communis\n"
     ]
    },
    {
     "name": "stdout",
     "output_type": "stream",
     "text": [
      "G+S, matching failed : Cinnamomum chemungianum\n",
      "G+S+filtered authority, couln't find a unique match : Cytisus aeolicus\n"
     ]
    },
    {
     "name": "stdout",
     "output_type": "stream",
     "text": [
      "G+S, matching failed : Mezoneuron kavaiense\n",
      "G+S, matching failed : Sorbus kmetiana\n",
      "G+S+filtered authority, couln't find a unique match : Viburnum tinus\n",
      "G+S+filtered authority, couln't find a unique match : Ariocarpus kotschoubeyanus\n"
     ]
    },
    {
     "name": "stdout",
     "output_type": "stream",
     "text": [
      "G+S, matching failed : Brachycereus nesioticus\n"
     ]
    },
    {
     "name": "stdout",
     "output_type": "stream",
     "text": [
      "G+S, matching failed : Cumarinia odorata\n"
     ]
    },
    {
     "name": "stdout",
     "output_type": "stream",
     "text": [
      "G+S, matching failed : Echinopsis haematacantha\n"
     ]
    },
    {
     "name": "stdout",
     "output_type": "stream",
     "text": [
      "G+S, matching failed : Corynopuntia emoryi\n"
     ]
    },
    {
     "name": "stdout",
     "output_type": "stream",
     "text": [
      "G+S+filtered authority, couln't find a unique match : Armatocereus matucanensis\n",
      "G+S+filtered authority, couln't find a unique match : Echinopsis leucantha\n"
     ]
    },
    {
     "name": "stdout",
     "output_type": "stream",
     "text": [
      "G+S+filtered authority, couln't find a unique match : Armatocereus godingianus\n"
     ]
    },
    {
     "name": "stdout",
     "output_type": "stream",
     "text": [
      "G+S+filtered authority, couln't find a unique match : Echinopsis aurea\n"
     ]
    },
    {
     "name": "stdout",
     "output_type": "stream",
     "text": [
      "G+S+filtered authority, couln't find a unique match : Eriosyce paucicostata\n",
      "G+S, matching failed : Corynopuntia pulchella\n",
      "G+S+filtered authority, couln't find a unique match : Echinopsis pugionacantha\n"
     ]
    },
    {
     "name": "stdout",
     "output_type": "stream",
     "text": [
      "G+S+filtered authority, couln't find a unique match : Echinocereus viridiflorus\n"
     ]
    },
    {
     "name": "stdout",
     "output_type": "stream",
     "text": [
      "G+S+filtered authority, couln't find a unique match : Cleistocactus candelilla\n"
     ]
    },
    {
     "name": "stdout",
     "output_type": "stream",
     "text": [
      "G+S, matching failed : Echinopsis famatinensis\n",
      "G+S, matching failed : Cylindropuntia delgadilloana\n"
     ]
    },
    {
     "name": "stdout",
     "output_type": "stream",
     "text": [
      "G+S+filtered authority, couln't find a unique match : Cleistocactus brookeae\n"
     ]
    },
    {
     "name": "stdout",
     "output_type": "stream",
     "text": [
      "G+S, matching failed : Echinocereus laui\n"
     ]
    },
    {
     "name": "stdout",
     "output_type": "stream",
     "text": [
      "G+S+filtered authority, couln't find a unique match : Echinocereus coccineus\n"
     ]
    },
    {
     "name": "stdout",
     "output_type": "stream",
     "text": [
      "G+S, matching failed : Corynopuntia kunzei\n"
     ]
    },
    {
     "name": "stdout",
     "output_type": "stream",
     "text": [
      "G+S+filtered authority, couln't find a unique match : Echinopsis saltensis\n",
      "G+S+filtered authority, couln't find a unique match : Echinocereus stoloniferus\n"
     ]
    },
    {
     "name": "stdout",
     "output_type": "stream",
     "text": [
      "G+S+filtered authority, couln't find a unique match : Coleocephalocereus aureus\n"
     ]
    },
    {
     "name": "stdout",
     "output_type": "stream",
     "text": [
      "G+S, matching failed : Corynopuntia clavata\n",
      "G+S, matching failed : Copiapoa calderana\n"
     ]
    },
    {
     "name": "stdout",
     "output_type": "stream",
     "text": [
      "G+S, matching failed : Corynopuntia parishiorum\n",
      "G+S+filtered authority, couln't find a unique match : Echinocereus enneacanthus\n"
     ]
    },
    {
     "name": "stdout",
     "output_type": "stream",
     "text": [
      "G+S, matching failed : Echinopsis jajoana\n",
      "G+S, matching failed : Browningia amstutziae\n"
     ]
    },
    {
     "name": "stdout",
     "output_type": "stream",
     "text": [
      "G+S, matching failed : Echinocereus freudenbergeri\n"
     ]
    },
    {
     "name": "stdout",
     "output_type": "stream",
     "text": [
      "G+S, matching failed : Cleistocactus variispinus\n",
      "G+S, matching failed : Corynopuntia aggeria\n",
      "G+S+filtered authority, couln't find a unique match : Eriosyce eriosyzoides\n"
     ]
    },
    {
     "name": "stdout",
     "output_type": "stream",
     "text": [
      "G+S+filtered authority, couln't find a unique match : Echinocereus parkeri\n",
      "G+S, matching failed : Cephalocereus totolapensis\n",
      "G+S, matching failed : Cephalocereus nizandensis\n",
      "G+S, matching failed : Cylindropuntia calmalliana\n"
     ]
    },
    {
     "name": "stdout",
     "output_type": "stream",
     "text": [
      "G+S, matching failed : Arrojadoa beateae\n",
      "G+S, matching failed : Discocactus cephaliaciculosus\n",
      "G+S, matching failed : Brasilicereus estevesii\n",
      "G+S, matching failed : Cleistocactus viridiflorus\n",
      "G+S, matching failed : Consolea millspaughii\n",
      "G+S, matching failed : Consolea nashii\n",
      "G+S, matching failed : Consolea picardae\n",
      "G+S, matching failed : Cipocereus pleurocarpus\n"
     ]
    },
    {
     "name": "stdout",
     "output_type": "stream",
     "text": [
      "G+S, matching failed : Siccobaccatus dolichospermaticus\n"
     ]
    },
    {
     "name": "stdout",
     "output_type": "stream",
     "text": [
      "G+S+filtered authority, couln't find a unique match : Mammillaria magnifica\n",
      "G+S+filtered authority, couln't find a unique match : Ferocactus gracilis\n"
     ]
    },
    {
     "name": "stdout",
     "output_type": "stream",
     "text": [
      "G+S+filtered authority, couln't find a unique match : Mammillaria hutchisoniana\n",
      "G+S, matching failed : Mammilloydia candida\n"
     ]
    },
    {
     "name": "stdout",
     "output_type": "stream",
     "text": [
      "G+S+filtered authority, couln't find a unique match : Melocactus ernestii\n"
     ]
    },
    {
     "name": "stdout",
     "output_type": "stream",
     "text": [
      "G+S, matching failed : Mammillaria variaculeata\n"
     ]
    },
    {
     "name": "stdout",
     "output_type": "stream",
     "text": [
      "G+S+filtered authority, couln't find a unique match : Mammillaria hahniana\n"
     ]
    },
    {
     "name": "stdout",
     "output_type": "stream",
     "text": [
      "G+S+filtered authority, couln't find a unique match : Mammillaria saboae\n",
      "G+S, matching failed : Mammillaria boelderliana\n",
      "G+S+filtered authority, couln't find a unique match : Melocactus intortus\n",
      "G+S+filtered authority, couln't find a unique match : Mammillaria winterae\n"
     ]
    },
    {
     "name": "stdout",
     "output_type": "stream",
     "text": [
      "G+S+filtered authority, couln't find a unique match : Gymnocalycium marsoneri\n",
      "G+S+filtered authority, couln't find a unique match : Gymnocalycium ochoterenae\n",
      "G+S+filtered authority, couln't find a unique match : Gymnocalycium schickendantzii\n"
     ]
    },
    {
     "name": "stdout",
     "output_type": "stream",
     "text": [
      "G+S+filtered authority, couln't find a unique match : Mammillaria albilanata\n"
     ]
    },
    {
     "name": "stdout",
     "output_type": "stream",
     "text": [
      "G+S+filtered authority, couln't find a unique match : Mammillaria thornberi\n"
     ]
    },
    {
     "name": "stdout",
     "output_type": "stream",
     "text": [
      "G+S+filtered authority, couln't find a unique match : Frailea schilinzkyana\n"
     ]
    },
    {
     "name": "stdout",
     "output_type": "stream",
     "text": [
      "G+S+filtered authority, couln't find a unique match : Escobaria sneedii\n"
     ]
    },
    {
     "name": "stdout",
     "output_type": "stream",
     "text": [
      "G+S+filtered authority, couln't find a unique match : Mammillaria grahamii\n",
      "G+S+filtered authority, couln't find a unique match : Mammillaria elongata\n"
     ]
    },
    {
     "name": "stdout",
     "output_type": "stream",
     "text": [
      "G+S+filtered authority, couln't find a unique match : Mammillaria sempervivi\n"
     ]
    },
    {
     "name": "stdout",
     "output_type": "stream",
     "text": [
      "G+S+filtered authority, couln't find a unique match : Neowerdermannia vorwerkii\n"
     ]
    },
    {
     "name": "stdout",
     "output_type": "stream",
     "text": [
      "G+S+filtered authority, couln't find a unique match : Gymnocalycium castellanosii\n",
      "G+S, matching failed : Nopalea lutea\n",
      "G+S, matching failed : Gymnocalycium marianae\n"
     ]
    },
    {
     "name": "stdout",
     "output_type": "stream",
     "text": [
      "G+S+filtered authority, couln't find a unique match : Pereskia grandifolia\n"
     ]
    },
    {
     "name": "stdout",
     "output_type": "stream",
     "text": [
      "G+S+filtered authority, couln't find a unique match : Rebutia fabrisii\n",
      "G+S+filtered authority, couln't find a unique match : Opuntia ficus-indica\n"
     ]
    },
    {
     "name": "stdout",
     "output_type": "stream",
     "text": [
      "G+S+filtered authority, couln't find a unique match : Tephrocactus articulatus\n",
      "G+S+filtered authority, couln't find a unique match : Rauhocereus riosaniensis\n"
     ]
    },
    {
     "name": "stdout",
     "output_type": "stream",
     "text": [
      "G+S, matching failed : Parodia langsdorfii\n"
     ]
    },
    {
     "name": "stdout",
     "output_type": "stream",
     "text": [
      "G+S, matching failed : Pierrebraunia brauniorum\n"
     ]
    },
    {
     "name": "stdout",
     "output_type": "stream",
     "text": [
      "G+S, matching failed : Thelocactus multicephalus\n"
     ]
    },
    {
     "name": "stdout",
     "output_type": "stream",
     "text": [
      "G+S+filtered authority, couln't find a unique match : Opuntia littoralis\n"
     ]
    },
    {
     "name": "stdout",
     "output_type": "stream",
     "text": [
      "G+S+filtered authority, couln't find a unique match : Weberbauerocereus cuzcoensis\n",
      "G+S+filtered authority, couln't find a unique match : Parodia stuemeri\n",
      "G+S+filtered authority, couln't find a unique match : Parodia schumanniana\n"
     ]
    },
    {
     "name": "stdout",
     "output_type": "stream",
     "text": [
      "G+S, matching failed : Tunilla tilcarensis\n",
      "G+S+filtered authority, couln't find a unique match : Parodia subterranea\n"
     ]
    },
    {
     "name": "stdout",
     "output_type": "stream",
     "text": [
      "G+S+filtered authority, couln't find a unique match : Rebutia deminuta\n"
     ]
    },
    {
     "name": "stdout",
     "output_type": "stream",
     "text": [
      "G+S+filtered authority, couln't find a unique match : Parodia aureicentra\n",
      "G+S+filtered authority, couln't find a unique match : Pilosocereus pachycladus\n"
     ]
    },
    {
     "name": "stdout",
     "output_type": "stream",
     "text": [
      "G+S+filtered authority, couln't find a unique match : Stenocereus eichlamii\n"
     ]
    },
    {
     "name": "stdout",
     "output_type": "stream",
     "text": [
      "G+S+filtered authority, couln't find a unique match : Parodia carambeiensis\n"
     ]
    },
    {
     "name": "stdout",
     "output_type": "stream",
     "text": [
      "G+S, matching failed : Pterocactus valentinii\n",
      "G+S, matching failed : Opuntia aciculata\n"
     ]
    },
    {
     "name": "stdout",
     "output_type": "stream",
     "text": [
      "G+S+filtered authority, couln't find a unique match : Selenicereus grandiflorus\n",
      "G+S+filtered authority, couln't find a unique match : Parodia microsperma\n"
     ]
    },
    {
     "name": "stdout",
     "output_type": "stream",
     "text": [
      "G+S+filtered authority, couln't find a unique match : Rebutia pulvinosa\n"
     ]
    },
    {
     "name": "stdout",
     "output_type": "stream",
     "text": [
      "G+S+filtered authority, couln't find a unique match : Pachycereus tepamo\n",
      "G+S+filtered authority, couln't find a unique match : Opuntia macrocentra\n",
      "G+S+filtered authority, couln't find a unique match : Opuntia phaeacantha\n",
      "G+S+filtered authority, couln't find a unique match : Parodia scopa\n"
     ]
    },
    {
     "name": "stdout",
     "output_type": "stream",
     "text": [
      "G+S, matching failed : Siccobaccatus estevesii\n",
      "G+S+filtered authority, couln't find a unique match : Stenocactus crispatus\n"
     ]
    },
    {
     "name": "stdout",
     "output_type": "stream",
     "text": [
      "G+S+filtered authority, couln't find a unique match : Opuntia streptacantha\n",
      "G+S, matching failed : Thelocactus buekii\n"
     ]
    },
    {
     "name": "stdout",
     "output_type": "stream",
     "text": [
      "G+S, matching failed : Parodia glaucina\n",
      "G+S, matching failed : Parodia permutata\n",
      "G+S, matching failed : Pilosocereus gaumeri\n",
      "G+S, matching failed : Opuntia ammophila\n",
      "G+S, matching failed : Opuntia austrina\n",
      "G+S, matching failed : Opuntia lata\n",
      "G+S, matching failed : Opuntia pollardii\n"
     ]
    },
    {
     "name": "stdout",
     "output_type": "stream",
     "text": [
      "G+S, matching failed : Opuntia jamaicensis\n",
      "G+S+filtered authority, couln't find a unique match : Coryphantha hintoniorum\n",
      "G+S, matching failed : Coryphantha pseudonickelsiae\n"
     ]
    },
    {
     "name": "stdout",
     "output_type": "stream",
     "text": [
      "G+S, matching failed : Pilosocereus mollispinus\n"
     ]
    },
    {
     "name": "stdout",
     "output_type": "stream",
     "text": [
      "G+S+filtered authority, couln't find a unique match : Sorbus chamaemespilus\n"
     ]
    },
    {
     "name": "stdout",
     "output_type": "stream",
     "text": [
      "G+S, matching failed : Acropogon calcicolus\n"
     ]
    },
    {
     "name": "stdout",
     "output_type": "stream",
     "text": [
      "G+S, matching failed : Acropogon sageniifolius\n",
      "G+S, matching failed : Acropogon schumannianus\n",
      "G+S, matching failed : Mezoneuron baudouinii\n",
      "G+S, matching failed : Mezoneuron ouenensis\n"
     ]
    },
    {
     "name": "stdout",
     "output_type": "stream",
     "text": [
      "G+S, matching failed : Codia spatulata\n"
     ]
    },
    {
     "name": "stdout",
     "output_type": "stream",
     "text": [
      "G+S+filtered authority, couln't find a unique match : Geissois pruinosa\n"
     ]
    },
    {
     "name": "stdout",
     "output_type": "stream",
     "text": [
      "G+S, matching failed : Eclipta prostrata\n"
     ]
    },
    {
     "name": "stdout",
     "output_type": "stream",
     "text": [
      "G+S, matching failed : Sagraea woodsii\n"
     ]
    },
    {
     "name": "stdout",
     "output_type": "stream",
     "text": [
      "G+S, matching failed : Turpinia picardae\n",
      "G+S, matching failed : Romulea battandieri\n"
     ]
    },
    {
     "name": "stdout",
     "output_type": "stream",
     "text": [
      "G+S+filtered authority, couln't find a unique match : Ilex myrtifolia\n",
      "G+S+filtered authority, couln't find a unique match : Ilex verticillata\n",
      "G+S+filtered authority, couln't find a unique match : Ilex glabra\n"
     ]
    },
    {
     "name": "stdout",
     "output_type": "stream",
     "text": [
      "G+S, matching failed : Talipariti tilliaceum\n",
      "G+S, matching failed : Cinnamomum gamblei\n"
     ]
    },
    {
     "name": "stdout",
     "output_type": "stream",
     "text": [
      "G+S, matching failed : Hibiscus cooperi\n",
      "G+S, matching failed : Moquilea chiriquiensis\n",
      "G+S, matching failed : Moquilea fasciculata\n",
      "G+S, matching failed : Moquilea grandibracteata\n",
      "G+S, matching failed : Moquilea hedbergii\n",
      "G+S, matching failed : Moquilea longicuspidata\n",
      "G+S, matching failed : Moquilea salicifolia\n"
     ]
    },
    {
     "name": "stdout",
     "output_type": "stream",
     "text": [
      "G+S, matching failed : Moquilea vasquezii\n",
      "G+S, matching failed : Leptobalanus morii\n",
      "G+S, matching failed : Moquilea megalophylla\n",
      "G+S+filtered authority, couln't find a unique match : Acer monspessulanum\n"
     ]
    },
    {
     "name": "stdout",
     "output_type": "stream",
     "text": [
      "G+S, matching failed : Memecylon incisilobum\n",
      "G+S, matching failed : Acacia anegadensis\n"
     ]
    },
    {
     "name": "stdout",
     "output_type": "stream",
     "text": [
      "G+S, matching failed : Maytenus cymosa\n",
      "G+S, matching failed : Myristica teysmannii\n",
      "G+S+filtered authority, couln't find a unique match : Acer pseudoplatanus\n",
      "G+S, matching failed : Campylostemon mitophorus\n"
     ]
    },
    {
     "name": "stdout",
     "output_type": "stream",
     "text": [
      "G+S, matching failed : Carya tomentosa\n",
      "G+S, matching failed : Maytenus matudae\n",
      "G+S, matching failed : Biancaea sappan\n"
     ]
    },
    {
     "name": "stdout",
     "output_type": "stream",
     "text": [
      "G+S, matching failed : Searsia sp. nov. A\n",
      "G+S, matching failed : Conamomum pierreanum\n",
      "G+S, matching failed : Conamomum rubidum\n",
      "G+S, matching failed : Philenoptera kanurii\n"
     ]
    },
    {
     "name": "stdout",
     "output_type": "stream",
     "text": [
      "G+S, matching failed : Dupuya madagascariensis\n",
      "G+S, matching failed : Dupuya haraka\n",
      "G+S, matching failed : Libidibia paraguariensis\n",
      "G+S, matching failed : Poissonia hypoleuca\n"
     ]
    },
    {
     "name": "stdout",
     "output_type": "stream",
     "text": [
      "G+S+filtered authority, couln't find a unique match : Daphne sophia\n",
      "G+S+filtered authority, couln't find a unique match : Rhamnus cathartica\n"
     ]
    },
    {
     "name": "stdout",
     "output_type": "stream",
     "text": [
      "G+S, matching failed : Persea podadenia\n",
      "G+S+filtered authority, couln't find a unique match : Persea americana\n"
     ]
    }
   ],
   "source": [
    "matching_results = iucn.apply(matching_row_in_gbif,axis=1)"
   ]
  },
  {
   "cell_type": "code",
   "execution_count": 881,
   "metadata": {
    "autoscroll": false,
    "collapsed": false,
    "ein.hycell": false,
    "ein.tags": "worksheet-0",
    "slideshow": {
     "slide_type": "-"
    }
   },
   "outputs": [
    {
     "data": {
      "text/plain": [
       "0         Calocedrus rupestris Aver., T.H.Nguyên & P.K.Lôc\n1        Turbinicarpus subterraneus (Backeb.) A.D.Zimme...\n2                    Eriosyce esmeraldana (F.Ritter) Katt.\n3               Coleocephalocereus braunii Diers & Esteves\n4                 Mammillaria melaleuca Karw. ex Salm-Dyck\n5                         Corryocactus tarijensis Cárdenas\n6        Parodia stockingeri (Prestlé) Hofacker & P.J.B...\n7                    Ferocactus flavovirens Britton & Rose\n8                      Copiapoa cinerascens Britton & Rose\n9                Melocactus andinus R.Gruber ex N.P.Taylor\n10                Parodia nigrispina (K.Schum.) F.H.Brandt\n11       Eriosyce crispa subsp. totoralensis (F.Ritter)...\n12                            Matucana aureiflora F.Ritter\n13                     Leptocereus arboreus Britton & Rose\n14                    Cleistocactus winteri subsp. winteri\n15               Echinocereus barthelowanus Britton & Rose\n16                       Copiapoa serpentisulcata F.Ritter\n17                          Peniocereus occidentalis Bravo\n18       Coleocephalocereus diersianus P.J.Braun & Esteves\n19                       Gymnocalycium oenanthemum Backeb.\n20            Echinopsis pampana (Britton & Rose) D.R.Hunt\n21                  Eriosyce calderana (F.Ritter) Ferryman\n22                     Rebutia krugerae (Cardenas) Backeb.\n23                    Peniocereus maculatus (Weing.) Cutak\n24              Brasilicereus phaeacanthus (Gürke) Backeb.\n25                            Rebutia glomeriseta Cárdenas\n26                 Ferocactus chrysacanthus Britton & Rose\n27           Disocactus macdougallii (Alexander) Barthlott\n28         Cleistocactus sulcifer (Rauh & Backeb.) Leuenb.\n29                              Consolea spinosissima Lem.\n                               ...                        \n25422            Heliotropium foertherianum Diane & Hilger\n25423                            Stemonurus apicalis Miers\n25424                          Lonicera subsessilis Rehder\n25425               Acritodon nephophilus H.Robinson, 1964\n25426                        Plagiochila fuscolutea Taylor\n25427              Luteolejeunea herzogii (Buchloh) Piippo\n25428           Daphne sophia subsp. taurica (Kotov) Halda\n25429                           Viburnum maculatum Pantoc.\n25430                          Spiraea cana Waldst. & Kit.\n25431               Euptelea pleiosperma Hook.f. & Thomson\n25432           Lithocarpus dodonaeifolius (Hayata) Hayata\n25433                 Lithocarpus formosanus (Skan) Hayata\n25434                                Rhamnus cathartica L.\n25435                 Afrocarpus mannii (Hook.f.) C.N.Page\n25436                                       Pinus pinea L.\n25437                                Persea liebmannii Mez\n25438                                                  NaN\n25439                               Persea americana Mill.\n25440                    Persea caerulea (Ruiz & Pav.) Mez\n25441                           Persea donnell-smithii Mez\n25442                              Persea rigens C.K.Allen\n25443                             Persea rufescens Lundell\n25444                             Persea purpusii L.E.Kopp\n25445                  Persea vesticula Standl. & Steyerm.\n25446                           Persea veraguasensis Seem.\n25447                               Persea chamissonis Mez\n25448                               Persea longipes Meisn.\n25449                            Persea hintonii C.K.Allen\n25450                  Persea pallescens (Mez) Lorea-Hern.\n25451                         Persea cinerascens S.F.Blake\nLength: 25452, dtype: object"
      ]
     },
     "execution_count": 881,
     "metadata": {},
     "output_type": "execute_result"
    }
   ],
   "source": [
    "matching_results"
   ]
  },
  {
   "cell_type": "markdown",
   "metadata": {
    "ein.tags": "worksheet-0",
    "slideshow": {
     "slide_type": "-"
    }
   },
   "source": [
    "Nombre de matchings échoués"
   ]
  },
  {
   "cell_type": "code",
   "execution_count": 882,
   "metadata": {
    "autoscroll": false,
    "collapsed": false,
    "ein.hycell": false,
    "ein.tags": "worksheet-0",
    "slideshow": {
     "slide_type": "-"
    }
   },
   "outputs": [
    {
     "data": {
      "text/plain": [
       "3452"
      ]
     },
     "execution_count": 882,
     "metadata": {},
     "output_type": "execute_result"
    }
   ],
   "source": [
    "np.sum(pd.isnull(matching_results))"
   ]
  },
  {
   "cell_type": "markdown",
   "metadata": {
    "ein.tags": "worksheet-0",
    "slideshow": {
     "slide_type": "-"
    }
   },
   "source": [
    "Enregistrement des matchings"
   ]
  },
  {
   "cell_type": "code",
   "execution_count": 883,
   "metadata": {
    "autoscroll": false,
    "collapsed": false,
    "ein.hycell": false,
    "ein.tags": "worksheet-0",
    "slideshow": {
     "slide_type": "-"
    }
   },
   "outputs": [
    {
     "name": "stderr",
     "output_type": "stream",
     "text": [
      "/usr/lib/python3.7/site-packages/ipykernel_launcher.py:1: FutureWarning: The signature of `Series.to_csv` was aligned to that of `DataFrame.to_csv`, and argument 'header' will change its default value from False to True: please pass an explicit value to suppress this warning.\n",
      "  \"\"\"Entry point for launching an IPython kernel.\n"
     ]
    }
   ],
   "source": [
    "matching_results.to_csv('matchings.csv')"
   ]
  },
  {
   "cell_type": "code",
   "execution_count": null,
   "metadata": {
    "autoscroll": false,
    "collapsed": false,
    "ein.hycell": false,
    "ein.tags": "worksheet-0",
    "slideshow": {
     "slide_type": "-"
    }
   },
   "outputs": [],
   "source": []
  }
 ],
 "metadata": {
  "kernelspec": {
   "display_name": "Python 3",
   "name": "python3"
  },
  "name": "Untitled.ipynb"
 },
 "nbformat": 4,
 "nbformat_minor": 2
}
