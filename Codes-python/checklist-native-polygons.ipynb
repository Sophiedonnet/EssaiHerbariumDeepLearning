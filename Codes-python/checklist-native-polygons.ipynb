{
 "cells": [
  {
   "cell_type": "markdown",
   "metadata": {
    "ein.tags": "worksheet-0",
    "slideshow": {
     "slide_type": "-"
    }
   },
   "source": [
    "CHECKLIST NATIVE POLYGONS EXTRACTION\n",
    "for each accepted_plant_name_id, get the list of native tdwig polygons (l3 level areas)"
   ]
  },
  {
   "cell_type": "code",
   "execution_count": 9,
   "metadata": {
    "autoscroll": false,
    "collapsed": false,
    "ein.hycell": false,
    "ein.tags": "worksheet-0",
    "slideshow": {
     "slide_type": "-"
    }
   },
   "outputs": [],
   "source": [
    "import json\n",
    "import geojson\n",
    "from shapely.geometry import shape, Polygon\n",
    "import pandas as pd\n",
    "import numpy as np\n",
    "import os"
   ]
  },
  {
   "cell_type": "code",
   "execution_count": 2,
   "metadata": {
    "autoscroll": false,
    "collapsed": false,
    "ein.hycell": false,
    "ein.tags": "worksheet-0",
    "slideshow": {
     "slide_type": "-"
    }
   },
   "outputs": [],
   "source": [
    "checklist = pd.read_csv('/home/joon/data/checklist_taxonomy_preprocessed.csv',index_col='accepted_plant_name_id')\n",
    "checklist.dropna(axis=0,subset=['species'],inplace=True)\n",
    "checklist = checklist[['plant_name_id']]\n",
    "accepted_plant_name_ids = checklist.index.unique()"
   ]
  },
  {
   "cell_type": "code",
   "execution_count": 3,
   "metadata": {
    "autoscroll": false,
    "collapsed": false,
    "ein.hycell": false,
    "ein.tags": "worksheet-0",
    "slideshow": {
     "slide_type": "-"
    }
   },
   "outputs": [],
   "source": [
    "checklistdist = pd.read_csv('/home/joon/data/checklist_distribution_preprocessed.csv',index_col='plant_name_id')\n",
    "checklistdist = checklistdist.area_code_l3\n",
    "checklistdist.dropna(inplace=True)"
   ]
  },
  {
   "cell_type": "code",
   "execution_count": 4,
   "metadata": {
    "autoscroll": false,
    "collapsed": false,
    "ein.hycell": false,
    "ein.tags": "worksheet-0",
    "slideshow": {
     "slide_type": "-"
    }
   },
   "outputs": [],
   "source": [
    "with open(\"/home/joon/data/level3.geojson\") as f:\n",
    "    data = geojson.load(f)"
   ]
  },
  {
   "cell_type": "code",
   "execution_count": 5,
   "metadata": {
    "autoscroll": false,
    "collapsed": false,
    "ein.hycell": false,
    "ein.tags": "worksheet-0",
    "slideshow": {
     "slide_type": "-"
    }
   },
   "outputs": [],
   "source": [
    "n_regions = len(data['features'])\n",
    "regions = pd.Series([])\n",
    "\n",
    "for i in range(n_regions):\n",
    "    region = data['features'][i]\n",
    "    level3_cod = region['properties']['LEVEL3_COD']\n",
    "    polygons = []\n",
    "    if len(region['geometry']['coordinates'][0][0])==2:\n",
    "        polygon = Polygon(region['geometry']['coordinates'][0])\n",
    "        polygons.append(polygon)\n",
    "    else:\n",
    "        for cc in region['geometry']['coordinates']:\n",
    "            polygon = Polygon(cc[0])\n",
    "            polygons.append(polygon)\n",
    "    regions[level3_cod] = polygons"
   ]
  },
  {
   "cell_type": "code",
   "execution_count": 329,
   "metadata": {
    "autoscroll": false,
    "collapsed": false,
    "ein.hycell": false,
    "ein.tags": "worksheet-0",
    "slideshow": {
     "slide_type": "-"
    }
   },
   "outputs": [],
   "source": [
    "def checklist_native_polygons_process_split(split_nb):\n",
    "    global splits\n",
    "    split = splits[split_nb]\n",
    "\n",
    "    polygons_by_accepted_plant_name_id = pd.Series([])\n",
    "    \n",
    "    for accepted_plant_name_id in split:\n",
    "        plant_name_ids = checklist.plant_name_id.loc[[accepted_plant_name_id]]\n",
    "        areas = checklistdist.loc[checklistdist.index.intersection(plant_name_ids)].unique()\n",
    "        areas = [area.upper() for area in areas]\n",
    "\n",
    "        polygons = [l for l in regions.loc[regions.index.intersection(areas)] if str(l) != 'nan']\n",
    "        polygons = [polygon for l in polygons for polygon in l]\n",
    "        polygons_by_accepted_plant_name_id[accepted_plant_name_id] = polygons\n",
    "    polygons_by_accepted_plant_name_id.to_csv('/home/joon/data/checklist-native-polygons-split-'+str(split_nb)+'.csv',index=True,header=None)"
   ]
  },
  {
   "cell_type": "code",
   "execution_count": 330,
   "metadata": {
    "autoscroll": false,
    "collapsed": false,
    "ein.hycell": false,
    "ein.tags": "worksheet-0",
    "slideshow": {
     "slide_type": "-"
    }
   },
   "outputs": [
    {
     "name": "stderr",
     "output_type": "stream",
     "text": [
      "<ipython-input-329-ee09d8145b10>:15: FutureWarning: The signature of `Series.to_csv` was aligned to that of `DataFrame.to_csv`, and argument 'header' will change its default value from False to True: please pass an explicit value to suppress this warning.\n",
      "  polygons_by_accepted_plant_name_id.to_csv('/home/joon/data/checklist-native-polygons-split-'+str(split_nb)+'.csv',index=True,header=None)\n"
     ]
    },
    {
     "name": "stderr",
     "output_type": "stream",
     "text": [
      "<ipython-input-329-ee09d8145b10>:15: FutureWarning: The signature of `Series.to_csv` was aligned to that of `DataFrame.to_csv`, and argument 'header' will change its default value from False to True: please pass an explicit value to suppress this warning.\n",
      "  polygons_by_accepted_plant_name_id.to_csv('/home/joon/data/checklist-native-polygons-split-'+str(split_nb)+'.csv',index=True,header=None)\n"
     ]
    },
    {
     "name": "stderr",
     "output_type": "stream",
     "text": [
      "<ipython-input-329-ee09d8145b10>:15: FutureWarning: The signature of `Series.to_csv` was aligned to that of `DataFrame.to_csv`, and argument 'header' will change its default value from False to True: please pass an explicit value to suppress this warning.\n",
      "  polygons_by_accepted_plant_name_id.to_csv('/home/joon/data/checklist-native-polygons-split-'+str(split_nb)+'.csv',index=True,header=None)\n"
     ]
    },
    {
     "name": "stderr",
     "output_type": "stream",
     "text": [
      "<ipython-input-329-ee09d8145b10>:15: FutureWarning: The signature of `Series.to_csv` was aligned to that of `DataFrame.to_csv`, and argument 'header' will change its default value from False to True: please pass an explicit value to suppress this warning.\n",
      "  polygons_by_accepted_plant_name_id.to_csv('/home/joon/data/checklist-native-polygons-split-'+str(split_nb)+'.csv',index=True,header=None)\n"
     ]
    },
    {
     "name": "stderr",
     "output_type": "stream",
     "text": [
      "<ipython-input-329-ee09d8145b10>:15: FutureWarning: The signature of `Series.to_csv` was aligned to that of `DataFrame.to_csv`, and argument 'header' will change its default value from False to True: please pass an explicit value to suppress this warning.\n",
      "  polygons_by_accepted_plant_name_id.to_csv('/home/joon/data/checklist-native-polygons-split-'+str(split_nb)+'.csv',index=True,header=None)\n"
     ]
    },
    {
     "name": "stderr",
     "output_type": "stream",
     "text": [
      "<ipython-input-329-ee09d8145b10>:15: FutureWarning: The signature of `Series.to_csv` was aligned to that of `DataFrame.to_csv`, and argument 'header' will change its default value from False to True: please pass an explicit value to suppress this warning.\n",
      "  polygons_by_accepted_plant_name_id.to_csv('/home/joon/data/checklist-native-polygons-split-'+str(split_nb)+'.csv',index=True,header=None)\n"
     ]
    },
    {
     "name": "stderr",
     "output_type": "stream",
     "text": [
      "<ipython-input-329-ee09d8145b10>:15: FutureWarning: The signature of `Series.to_csv` was aligned to that of `DataFrame.to_csv`, and argument 'header' will change its default value from False to True: please pass an explicit value to suppress this warning.\n",
      "  polygons_by_accepted_plant_name_id.to_csv('/home/joon/data/checklist-native-polygons-split-'+str(split_nb)+'.csv',index=True,header=None)\n"
     ]
    },
    {
     "name": "stderr",
     "output_type": "stream",
     "text": [
      "<ipython-input-329-ee09d8145b10>:15: FutureWarning: The signature of `Series.to_csv` was aligned to that of `DataFrame.to_csv`, and argument 'header' will change its default value from False to True: please pass an explicit value to suppress this warning.\n",
      "  polygons_by_accepted_plant_name_id.to_csv('/home/joon/data/checklist-native-polygons-split-'+str(split_nb)+'.csv',index=True,header=None)\n"
     ]
    },
    {
     "name": "stderr",
     "output_type": "stream",
     "text": [
      "<ipython-input-329-ee09d8145b10>:15: FutureWarning: The signature of `Series.to_csv` was aligned to that of `DataFrame.to_csv`, and argument 'header' will change its default value from False to True: please pass an explicit value to suppress this warning.\n",
      "  polygons_by_accepted_plant_name_id.to_csv('/home/joon/data/checklist-native-polygons-split-'+str(split_nb)+'.csv',index=True,header=None)\n"
     ]
    },
    {
     "name": "stderr",
     "output_type": "stream",
     "text": [
      "<ipython-input-329-ee09d8145b10>:15: FutureWarning: The signature of `Series.to_csv` was aligned to that of `DataFrame.to_csv`, and argument 'header' will change its default value from False to True: please pass an explicit value to suppress this warning.\n",
      "  polygons_by_accepted_plant_name_id.to_csv('/home/joon/data/checklist-native-polygons-split-'+str(split_nb)+'.csv',index=True,header=None)\n"
     ]
    },
    {
     "name": "stderr",
     "output_type": "stream",
     "text": [
      "<ipython-input-329-ee09d8145b10>:15: FutureWarning: The signature of `Series.to_csv` was aligned to that of `DataFrame.to_csv`, and argument 'header' will change its default value from False to True: please pass an explicit value to suppress this warning.\n",
      "  polygons_by_accepted_plant_name_id.to_csv('/home/joon/data/checklist-native-polygons-split-'+str(split_nb)+'.csv',index=True,header=None)\n"
     ]
    },
    {
     "data": {
      "text/plain": [
       "0"
      ]
     },
     "execution_count": 330,
     "metadata": {},
     "output_type": "execute_result"
    }
   ],
   "source": [
    "os.system('find /home/joon/data -type f -name \\'checklist-native-polygons*.csv\\' | xargs rm')\n",
    "\n",
    "nb_splits = 1000\n",
    "splits = np.array_split(accepted_plant_name_ids,nb_splits)\n",
    "\n",
    "from multiprocessing import Pool\n",
    "with Pool(processes=11) as pool:\n",
    "    pool.map(checklist_native_polygons_process_split,range(len(splits)))\n",
    "\n",
    "pd.DataFrame([['accepted_plant_name_id','polygons']]).to_csv('/home/joon/data/checklist-native-polygons-column-names.csv',header=None,index=None)\n",
    "\n",
    "os.system('find /home/joon/data -type f -name \\'checklist-native-polygons-split*.csv\\' | xargs cat /home/joon/data/checklist-native-polygons-column-names.csv > /home/joon/data/checklist-native-polygons.csv')\n",
    "os.system('find /home/joon/data -type f -name \\'checklist-native-polygons-*.csv\\' | xargs rm')"
   ]
  },
  {
   "cell_type": "code",
   "execution_count": null,
   "metadata": {
    "autoscroll": false,
    "collapsed": false,
    "ein.hycell": false,
    "ein.tags": "worksheet-0",
    "slideshow": {
     "slide_type": "-"
    }
   },
   "outputs": [],
   "source": []
  }
 ],
 "metadata": {
  "kernelspec": {
   "argv": [
    "python",
    "-m",
    "ipykernel_launcher",
    "-f",
    "{connection_file}"
   ],
   "display_name": "Python 3",
   "env": null,
   "interrupt_mode": "signal",
   "language": "python",
   "metadata": null,
   "name": "python3"
  },
  "name": "checklist-native-polygons.ipynb"
 },
 "nbformat": 4,
 "nbformat_minor": 4
}
