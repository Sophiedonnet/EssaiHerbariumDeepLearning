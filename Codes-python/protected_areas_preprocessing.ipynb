{
 "cells": [
  {
   "cell_type": "markdown",
   "metadata": {
    "ein.tags": "worksheet-0",
    "slideshow": {
     "slide_type": "-"
    }
   },
   "source": [
    "PROTECTED AREAS PREPROCESSING\n",
    "takes as input the polygons (and multipolygons) corresponding to protected areas.\n",
    "outputs a boolean 2d array \n",
    "PB: 200 000 polygons, each defined by ~1000 points ... !! Too big to handle ... !"
   ]
  },
  {
   "cell_type": "code",
   "execution_count": 1,
   "metadata": {
    "autoscroll": false,
    "collapsed": false,
    "ein.hycell": false,
    "ein.tags": "worksheet-0",
    "slideshow": {
     "slide_type": "-"
    }
   },
   "outputs": [],
   "source": [
    "import geopandas as gpd\n",
    "import numpy as np\n",
    "import matplotlib as plt\n",
    "import pandas as pd"
   ]
  },
  {
   "cell_type": "code",
   "execution_count": null,
   "metadata": {
    "autoscroll": false,
    "collapsed": false,
    "ein.hycell": false,
    "ein.tags": "worksheet-0",
    "slideshow": {
     "slide_type": "-"
    }
   },
   "outputs": [],
   "source": [
    "protected_areas_polygons = pd.read_file('/home/joon/data/protected-areas/WDPA_Jan2020-shapefile-polygons.shp')"
   ]
  },
  {
   "cell_type": "code",
   "execution_count": 2,
   "metadata": {
    "autoscroll": false,
    "collapsed": false,
    "ein.hycell": false,
    "ein.tags": "worksheet-0",
    "slideshow": {
     "slide_type": "-"
    }
   },
   "outputs": [],
   "source": [
    "protected_areas_polygons = gpd.read_file('/home/joon/data/protected-areas/WDPA_Jan2020-shapefile-polygons.shp').geometry"
   ]
  },
  {
   "cell_type": "code",
   "execution_count": 81,
   "metadata": {
    "autoscroll": false,
    "collapsed": false,
    "ein.hycell": false,
    "ein.tags": "worksheet-0",
    "slideshow": {
     "slide_type": "-"
    }
   },
   "outputs": [],
   "source": [
    "foo = gpd.read_file('/home/joon/data/protected-areas/WDPA_Jan2020-shapefile-points.shp').geometry"
   ]
  },
  {
   "cell_type": "code",
   "execution_count": 71,
   "metadata": {
    "autoscroll": false,
    "collapsed": false,
    "ein.hycell": false,
    "ein.tags": "worksheet-0",
    "slideshow": {
     "slide_type": "-"
    }
   },
   "outputs": [],
   "source": [
    "polygons_coords = []\n",
    "for poly in protected_areas_polygons:\n",
    "    if poly.type == 'Polygon':\n",
    "        polygons_coords.append(list(poly.exterior.coords))\n",
    "    elif poly.type == 'MultiPolygon':\n",
    "        for p in list(poly):\n",
    "            polygons_coords.append(list(p.exterior.coords))"
   ]
  },
  {
   "cell_type": "code",
   "execution_count": null,
   "metadata": {
    "autoscroll": false,
    "collapsed": false,
    "ein.hycell": false,
    "ein.tags": "worksheet-0",
    "slideshow": {
     "slide_type": "-"
    }
   },
   "outputs": [],
   "source": [
    "param = 500\n",
    "nlon, nlat = 9*np.array([2,1])*param+1\n",
    "lon, lat = np.meshgrid(np.linspace(-180,180,num=nlon), np.linspace(-90,90,num=nlat))\n",
    "points = np.vstack((lon.flatten(),lat.flatten())).T"
   ]
  },
  {
   "cell_type": "code",
   "execution_count": 151,
   "metadata": {
    "autoscroll": false,
    "collapsed": false,
    "ein.hycell": false,
    "ein.tags": "worksheet-0",
    "slideshow": {
     "slide_type": "-"
    }
   },
   "outputs": [],
   "source": [
    "# polygon has to be given as [(1,1), (5,1), (5,9),(3,2),(1,1)] \n",
    "def polygon_to_boolean_array(polygon):\n",
    "    polygon = np.array(polygon)\n",
    "    approx_polygon = plt.path.Path(np.multiply(np.rint(np.divide(polygon+np.array([180,90]),np.array([360/(nlon-1),180/(nlat-1)]))),np.array([360/(nlon-1),180/(nlat-1)]))-np.array([180,90]))\n",
    "\n",
    "    boolean_mask = approx_polygon.contains_points(points,transform=True)\n",
    "    contained_points = points.reshape((nlon,nlat))[boolean_mask]\n",
    "    return contained_points"
   ]
  },
  {
   "cell_type": "code",
   "execution_count": null,
   "metadata": {
    "autoscroll": false,
    "collapsed": false,
    "ein.hycell": false,
    "ein.tags": "worksheet-0",
    "slideshow": {
     "slide_type": "-"
    }
   },
   "outputs": [],
   "source": [
    "from multiprocessing import Pool\n",
    "with Pool(processes=11) as pool:\n",
    "    pool.map(??, polygons_coords)"
   ]
  }
 ],
 "metadata": {
  "kernelspec": {
   "argv": [
    "python",
    "-m",
    "ipykernel_launcher",
    "-f",
    "{connection_file}"
   ],
   "display_name": "Python 3",
   "env": null,
   "interrupt_mode": "signal",
   "language": "python",
   "metadata": null,
   "name": "python3"
  },
  "name": "Untitled.ipynb"
 },
 "nbformat": 4,
 "nbformat_minor": 4
}
