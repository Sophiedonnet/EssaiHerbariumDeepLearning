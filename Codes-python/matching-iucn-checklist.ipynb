{
 "cells": [
  {
   "cell_type": "markdown",
   "metadata": {
    "ein.tags": "worksheet-0",
    "slideshow": {
     "slide_type": "-"
    }
   },
   "source": [
    "Matching IUCN <-> Checklist.\n",
    "Pour chaque plante de l'IUCN, on souhaite trouver le nom accepté dans IUCN, et l'ensemble des synonymes."
   ]
  },
  {
   "cell_type": "code",
   "execution_count": 276,
   "metadata": {
    "autoscroll": false,
    "ein.hycell": false,
    "ein.tags": "worksheet-0",
    "slideshow": {
     "slide_type": "-"
    }
   },
   "outputs": [],
   "source": [
    "import numpy as np\n",
    "import pandas as pd\n",
    "import re"
   ]
  },
  {
   "cell_type": "markdown",
   "metadata": {
    "ein.tags": "worksheet-0",
    "slideshow": {
     "slide_type": "-"
    }
   },
   "source": [
    "# Chargement d'IUCN (Redlist)"
   ]
  },
  {
   "cell_type": "code",
   "execution_count": 277,
   "metadata": {
    "autoscroll": false,
    "ein.hycell": false,
    "ein.tags": "worksheet-0",
    "slideshow": {
     "slide_type": "-"
    }
   },
   "outputs": [],
   "source": [
    "iucn = pd.read_csv(\"/home/joon/Téléchargements/iucn/taxonomy.csv\",sep=',')"
   ]
  },
  {
   "cell_type": "code",
   "execution_count": 278,
   "metadata": {
    "autoscroll": false,
    "ein.hycell": false,
    "ein.tags": "worksheet-0",
    "slideshow": {
     "slide_type": "-"
    }
   },
   "outputs": [
    {
     "data": {
      "text/plain": [
       "Index(['kingdomName', 'phylumName', 'orderName', 'className', 'familyName',\n",
       "       'genusName', 'speciesName', 'infraType', 'infraName', 'infraAuthority',\n",
       "       'authority', 'internalTaxonId', 'taxonomicNotes'],\n",
       "      dtype='object')"
      ]
     },
     "execution_count": 278,
     "metadata": {},
     "output_type": "execute_result"
    }
   ],
   "source": [
    "iucn.columns"
   ]
  },
  {
   "cell_type": "code",
   "execution_count": 279,
   "metadata": {
    "autoscroll": false,
    "ein.hycell": false,
    "ein.tags": "worksheet-0",
    "slideshow": {
     "slide_type": "-"
    }
   },
   "outputs": [],
   "source": [
    "iucn = iucn[['internalTaxonId','familyName','genusName','speciesName','authority']]"
   ]
  },
  {
   "cell_type": "markdown",
   "metadata": {
    "ein.tags": "worksheet-0",
    "slideshow": {
     "slide_type": "-"
    }
   },
   "source": [
    "Il y a un encodage bizarre pour \"&\" dans iucn. On corrige ça:"
   ]
  },
  {
   "cell_type": "code",
   "execution_count": 280,
   "metadata": {
    "autoscroll": false,
    "ein.hycell": false,
    "ein.tags": "worksheet-0",
    "slideshow": {
     "slide_type": "-"
    }
   },
   "outputs": [],
   "source": [
    "iucn['authority'] = iucn['authority'].str.replace('&amp;',\"&\",regex=False)"
   ]
  },
  {
   "cell_type": "markdown",
   "metadata": {
    "ein.tags": "worksheet-0",
    "slideshow": {
     "slide_type": "-"
    }
   },
   "source": [
    "Lorsqu'on fait des tests, on subsample IUCN:"
   ]
  },
  {
   "cell_type": "code",
   "execution_count": 281,
   "metadata": {
    "autoscroll": false,
    "ein.hycell": false,
    "ein.tags": "worksheet-0",
    "slideshow": {
     "slide_type": "-"
    }
   },
   "outputs": [],
   "source": [
    "#iucn = iucn.sample(n=1000)"
   ]
  },
  {
   "cell_type": "markdown",
   "metadata": {
    "ein.tags": "worksheet-0",
    "slideshow": {
     "slide_type": "-"
    }
   },
   "source": [
    "# Chargement de la checklist"
   ]
  },
  {
   "cell_type": "code",
   "execution_count": 282,
   "metadata": {
    "autoscroll": false,
    "ein.hycell": false,
    "ein.tags": "worksheet-0",
    "slideshow": {
     "slide_type": "-"
    }
   },
   "outputs": [],
   "source": [
    "checklist1 = pd.read_csv('/home/joon/Téléchargements/wcs_feb_19.csv',sep='|')"
   ]
  },
  {
   "cell_type": "code",
   "execution_count": 283,
   "metadata": {
    "autoscroll": false,
    "ein.hycell": false,
    "ein.tags": "worksheet-0",
    "slideshow": {
     "slide_type": "-"
    }
   },
   "outputs": [
    {
     "name": "stderr",
     "output_type": "stream",
     "text": [
      "/usr/lib/python3.7/site-packages/IPython/core/interactiveshell.py:3049: DtypeWarning: Columns (6) have mixed types. Specify dtype option on import or set low_memory=False.\n",
      "  interactivity=interactivity, compiler=compiler, result=result)\n"
     ]
    }
   ],
   "source": [
    "checklist2 = pd.read_csv('/home/joon/Téléchargements/atoz_feb_19.csv',sep='|')"
   ]
  },
  {
   "cell_type": "code",
   "execution_count": 284,
   "metadata": {
    "autoscroll": false,
    "ein.hycell": false,
    "ein.tags": "worksheet-0",
    "slideshow": {
     "slide_type": "-"
    }
   },
   "outputs": [],
   "source": [
    "checklist = pd.concat([checklist1,checklist2],ignore_index=True)\n",
    "del checklist1, checklist2"
   ]
  },
  {
   "cell_type": "code",
   "execution_count": 285,
   "metadata": {
    "autoscroll": false,
    "ein.hycell": false,
    "ein.tags": "worksheet-0",
    "slideshow": {
     "slide_type": "-"
    }
   },
   "outputs": [],
   "source": [
    "checklist = checklist.drop(columns=['checklist_db', 'ipni_id', 'taxon_rank',\n",
    "       'taxon_status', 'genus_hybrid', 'species_hybrid',\n",
    "       'infraspecific_rank', 'infraspecies',  'place_of_publication',\n",
    "       'volume_and_page', 'first_published', 'nomenclatural_remarks',\n",
    "       'geographic_area', 'lifeform_description', 'climate_description',\n",
    "       'taxon_name',  'basionym_plant_name_id', 'homotypic_synonym'])"
   ]
  },
  {
   "cell_type": "code",
   "execution_count": 286,
   "metadata": {
    "autoscroll": false,
    "ein.hycell": false,
    "ein.tags": "worksheet-0",
    "slideshow": {
     "slide_type": "-"
    }
   },
   "outputs": [],
   "source": [
    "checklist = checklist.drop(columns=['parenthetical_author', 'publication_author','primary_author'])"
   ]
  },
  {
   "cell_type": "code",
   "execution_count": 287,
   "metadata": {
    "autoscroll": false,
    "ein.hycell": false,
    "ein.tags": "worksheet-0",
    "slideshow": {
     "slide_type": "-"
    }
   },
   "outputs": [
    {
     "data": {
      "text/plain": [
       "Index(['plant_name_id', 'family', 'genus', 'species', 'taxon_authors',\n",
       "       'accepted_plant_name_id'],\n",
       "      dtype='object')"
      ]
     },
     "execution_count": 287,
     "metadata": {},
     "output_type": "execute_result"
    }
   ],
   "source": [
    "checklist.columns"
   ]
  },
  {
   "cell_type": "code",
   "execution_count": 288,
   "metadata": {
    "autoscroll": false,
    "ein.hycell": false,
    "ein.tags": "worksheet-0",
    "slideshow": {
     "slide_type": "-"
    }
   },
   "outputs": [],
   "source": [
    "checklist.accepted_plant_name_id = checklist.accepted_plant_name_id.replace(np.nan,0)"
   ]
  },
  {
   "cell_type": "code",
   "execution_count": 289,
   "metadata": {
    "autoscroll": false,
    "ein.hycell": false,
    "ein.tags": "worksheet-0",
    "slideshow": {
     "slide_type": "-"
    }
   },
   "outputs": [],
   "source": [
    "checklist.plant_name_id = checklist.plant_name_id.astype(int)\n",
    "checklist.accepted_plant_name_id = checklist.accepted_plant_name_id.astype(int)"
   ]
  },
  {
   "cell_type": "markdown",
   "metadata": {},
   "source": [
    "Certaines lignes dans checklist n'ont pas de accepted_plant_name_id.\n",
    "On complète alors par plant_name_id"
   ]
  },
  {
   "cell_type": "code",
   "execution_count": 290,
   "metadata": {},
   "outputs": [],
   "source": [
    "checklist.loc[checklist.accepted_plant_name_id==0,'accepted_plant_name_id'] = checklist.loc[checklist.accepted_plant_name_id==0,'plant_name_id']"
   ]
  },
  {
   "cell_type": "markdown",
   "metadata": {
    "ein.tags": "worksheet-0",
    "slideshow": {
     "slide_type": "-"
    }
   },
   "source": [
    "# Matching"
   ]
  },
  {
   "cell_type": "code",
   "execution_count": 291,
   "metadata": {
    "autoscroll": false,
    "ein.hycell": false,
    "ein.tags": "worksheet-0",
    "slideshow": {
     "slide_type": "-"
    }
   },
   "outputs": [],
   "source": [
    "def filter_in_checklist_by_gs(genus,species):\n",
    "    return checklist[(checklist['genus']==genus) & (checklist['species']==species)]"
   ]
  },
  {
   "cell_type": "code",
   "execution_count": 292,
   "metadata": {
    "autoscroll": false,
    "ein.hycell": false,
    "ein.tags": "worksheet-0",
    "slideshow": {
     "slide_type": "-"
    }
   },
   "outputs": [],
   "source": [
    "def filter_in_checklist_by_author(string,df,regex=False):\n",
    "    return df[df.taxon_authors.str.contains(string,regex=regex,case=True)==True]"
   ]
  },
  {
   "cell_type": "markdown",
   "metadata": {
    "ein.tags": "worksheet-0",
    "slideshow": {
     "slide_type": "-"
    }
   },
   "source": [
    "Following function returns\n",
    "* the accepted_plant_id from checklist if matching is successful\n",
    "* -1 if genus is not found in checklist\n",
    "* -2 if species not found in checklist\n",
    "* -3 couln't find author"
   ]
  },
  {
   "cell_type": "code",
   "execution_count": 293,
   "metadata": {
    "autoscroll": false,
    "ein.hycell": false,
    "ein.tags": "worksheet-0",
    "slideshow": {
     "slide_type": "-"
    }
   },
   "outputs": [],
   "source": [
    "from fuzzywuzzy import process"
   ]
  },
  {
   "cell_type": "code",
   "execution_count": 294,
   "metadata": {
    "autoscroll": false,
    "ein.hycell": false,
    "ein.tags": "worksheet-0",
    "slideshow": {
     "slide_type": "-"
    }
   },
   "outputs": [],
   "source": [
    "def matching_accepted_plant_name_from_checklist(iucn_row):\n",
    "    global n_nonunique\n",
    "    genus = iucn_row['genusName']\n",
    "    species = iucn_row['speciesName']\n",
    "    g_s = genus + ' ' + species\n",
    "    search_res_gs = filter_in_checklist_by_gs(genus,species)\n",
    "    if search_res_gs.shape[0] == 0: # if match fails with genus+species\n",
    "        search_res_g = checklist[checklist['genus']==genus]\n",
    "        if search_res_g.shape[0] == 0:\n",
    "            print('Genus',genus,'not found in checklist')\n",
    "            return -1\n",
    "        else:\n",
    "            fuzzy_extraction = process.extractOne(species,search_res_g.species.values)\n",
    "            species_guess = fuzzy_extraction[0]\n",
    "            guess_score = fuzzy_extraction[1]\n",
    "            # print('Exact match for species',species, 'not found. Closest match:',species_guess,guess_score) \n",
    "            if guess_score >= 80:\n",
    "                species = species_guess\n",
    "                search_res_gs = search_res_g[search_res_g.species == species]\n",
    "            else:\n",
    "                print(g_s,'↳ Not close enough! Species not found in checklist')\n",
    "                return -2\n",
    "    if search_res_gs.accepted_plant_name_id.nunique() == 1:\n",
    "        return search_res_gs.accepted_plant_name_id.iloc[0]\n",
    "    else:\n",
    "        authority = iucn_row.authority\n",
    "        search_res_matching_authority = search_res_gs[search_res_gs.taxon_authors==authority]\n",
    "        if search_res_matching_authority.accepted_plant_name_id.nunique() == 1:\n",
    "            return search_res_matching_authority.accepted_plant_name_id.iloc[0]\n",
    "        else:\n",
    "            search_res_containing_authority = filter_in_checklist_by_author(authority,search_res_gs)\n",
    "            n_res_containing_authority = search_res_containing_authority.accepted_plant_name_id.nunique()\n",
    "            if  n_res_containing_authority == 1:\n",
    "                return search_res_containing_authority.accepted_plant_name_id.iloc[0]\n",
    "            elif n_res_containing_authority >= 2:\n",
    "                n_nonunique = n_nonunique + 1\n",
    "                print('Couln\\'t find a unique match :', g_s,authority)\n",
    "                return np.max(search_res_containing_authority.accepted_plant_name_id)\n",
    "            else:\n",
    "                words_from_authority = list(filter(lambda str: len(str) > 1,re.sub('[^\\w\\s]',' ',authority).split()))           \n",
    "                search_res = search_res_gs\n",
    "                while (len(words_from_authority) > 0) and (search_res.accepted_plant_name_id.nunique() > 1):\n",
    "                    word =  words_from_authority.pop(0)\n",
    "                    search_res_tmp = filter_in_checklist_by_author(word,search_res)\n",
    "                    if search_res_tmp.shape[0] > 0:\n",
    "                        search_res = search_res_tmp\n",
    "                if search_res.shape[0] == 0:\n",
    "                    print('Author matching matching failed :',g_s)\n",
    "                    return -3\n",
    "                else:\n",
    "                    if search_res.accepted_plant_name_id.nunique() > 1:\n",
    "                        n_nonunique = n_nonunique + 1\n",
    "                        print('Couln\\'t find a unique match :', g_s,authority)\n",
    "                    return np.max(search_res.accepted_plant_name_id)"
   ]
  },
  {
   "cell_type": "code",
   "execution_count": 295,
   "metadata": {
    "autoscroll": false,
    "ein.hycell": false,
    "ein.tags": "worksheet-0",
    "slideshow": {
     "slide_type": "-"
    }
   },
   "outputs": [
    {
     "name": "stdout",
     "output_type": "stream",
     "text": [
      "Couln't find a unique match : Eriosyce crispa (F.Ritter) Katt.\n",
      "Couln't find a unique match : Cleistocactus winteri D.R.Hunt\n",
      "Couln't find a unique match : Discocactus diersianus Esteves\n",
      "Couln't find a unique match : Pygmaeocereus bieblii Diers\n",
      "Couln't find a unique match : Melocactus stramineus Suringar\n",
      "Couln't find a unique match : Coffea sessiliflora Bridson\n",
      "Echinochloa colona ↳ Not close enough! Species not found in checklist\n",
      "Couln't find a unique match : Epilobium parviflorum Schreber\n",
      "Persicaria glabrum ↳ Not close enough! Species not found in checklist\n",
      "Couln't find a unique match : Plantago major L. \n",
      "Couln't find a unique match : Persicaria barbata (L. ) H.Hara\n",
      "Couln't find a unique match : Paspalum distichum L. \n",
      "Couln't find a unique match : Vigna hosei Backer ex K.Heyne\n",
      "Couln't find a unique match : Oryza eichingeri Peter\n",
      "Dalbergia gloveri ↳ Not close enough! Species not found in checklist\n",
      "Chassalia sp. nov. ↳ Not close enough! Species not found in checklist\n",
      "Couln't find a unique match : Syzygium micklethwaitii Verdc.\n",
      "Couln't find a unique match : Nesaea parkeri Verdc.\n",
      "Couln't find a unique match : Magnolia conifera (Dandy) V.S.Kumar\n",
      "Couln't find a unique match : Magnolia virginiana L.\n",
      "Couln't find a unique match : Quercus nigra L.\n",
      "Couln't find a unique match : Alnus maximowiczii Callier\n",
      "Couln't find a unique match : Dypsis humbertii H.Perrier\n",
      "Couln't find a unique match : Asplenium hermannii-christii Fomin\n",
      "Couln't find a unique match : Heracleum trachyloma Fisch. & C.A.Mey.\n",
      "Isatis buschiorum ↳ Not close enough! Species not found in checklist\n",
      "Ranunculus aragazi ↳ Not close enough! Species not found in checklist\n",
      "Couln't find a unique match : Aloe rigens Reynolds & P.R.O.Bally \n",
      "Couln't find a unique match : Meistera tomrey (Gagnep.) Škorničk. & M.F.Newman\n",
      "Couln't find a unique match : Thymus baeticus Boiss. ex Lacaita\n",
      "Couln't find a unique match : Magnolia officinalis Rehder & E.H.Wilson\n",
      "Genus Archidium not found in checklist\n",
      "Genus Flabellidium not found in checklist\n",
      "Genus Orthotrichum not found in checklist\n",
      "Genus Radula not found in checklist\n",
      "Genus Scapania not found in checklist\n",
      "Genus Aitchisoniella not found in checklist\n",
      "Genus Dendroceros not found in checklist\n",
      "Genus Leptolejeunea not found in checklist\n",
      "Genus Cololejeunea not found in checklist\n",
      "Genus Geothallus not found in checklist\n",
      "Genus Distichophyllum not found in checklist\n",
      "Genus Sphagnum not found in checklist\n",
      "Couln't find a unique match : Mammillaria herrerae Werderm.\n",
      "Couln't find a unique match : Cephalotaxus sinensis (Rehd. & E.H.Wilson) H.L.Li\n",
      "Couln't find a unique match : Juniperus monticola Martínez\n",
      "Couln't find a unique match : Abies fargesii Franch.\n",
      "Couln't find a unique match : Abies vejarii Martínez\n",
      "Couln't find a unique match : Dacrydium nidulum de Laub.\n",
      "Couln't find a unique match : Podocarpus archboldii N.E.Gray\n",
      "Couln't find a unique match : Podocarpus pseudobracteatus de Laub.\n",
      "Couln't find a unique match : Magnolia pacifica A.Vázquez\n",
      "Couln't find a unique match : Coffea mufindiensis Bridson\n",
      "Genus Riccia not found in checklist\n",
      "Couln't find a unique match : Cryptotaenia calycina C.C.Towns.\n",
      "Ionopsidium acaule ↳ Not close enough! Species not found in checklist\n",
      "Couln't find a unique match : Armeria berlengensis Daveau\n",
      "Myosotis retusifolia ↳ Not close enough! Species not found in checklist\n",
      "Couln't find a unique match : Sinapidendron rupestre (Ait.) Lowe\n",
      "Couln't find a unique match : Arnica montana L.\n",
      "Couln't find a unique match : Juncus articulatus L.\n",
      "Couln't find a unique match : Potamogeton lucens L.      \n",
      "Couln't find a unique match : Typha angustifolia L.\n",
      "Couln't find a unique match : Callitriche platycarpa Kütz.\n",
      "Couln't find a unique match : Acanthus ilicifolius L. \n",
      "Couln't find a unique match : Ceratopteris thalictroides (L.) Brogn.\n",
      "Couln't find a unique match : Caldesia oligococca (F.Muell.) Buchanan\n",
      "Couln't find a unique match : Acorus gramineus Sol.\n",
      "Couln't find a unique match : Brassica oleracea L.\n",
      "Prunus klokovii ↳ Not close enough! Species not found in checklist\n",
      "Couln't find a unique match : Allium schmitzii Cout.\n",
      "Isoetes brochonii ↳ Not close enough! Species not found in checklist\n",
      "Couln't find a unique match : Ophrys insectifera L.\n",
      "Elymus alopex ↳ Not close enough! Species not found in checklist\n",
      "Genus Nitella not found in checklist\n",
      "Genus Nitella not found in checklist\n",
      "Couln't find a unique match : Ammannia octandra L.f. \n",
      "Genus Nitella not found in checklist\n",
      "Couln't find a unique match : Hygrophila balsamica (L.f.) E.Hossain\n",
      "Couln't find a unique match : Cyperus tenuiculmis Boeckeler\n",
      "Genus Nitella not found in checklist\n",
      "Genus Chara not found in checklist\n",
      "Genus Nitella not found in checklist\n",
      "Genus Nitella not found in checklist\n",
      "Genus Nitella not found in checklist\n",
      "Genus Chara not found in checklist\n",
      "Genus Chara not found in checklist\n",
      "Genus Nitella not found in checklist\n",
      "Couln't find a unique match : Isoetes panchganiensis G.K.Srivast., D.D.Pant & P.K.Shukla \n",
      "Eugenia sp. nov. 'calcarea' ↳ Not close enough! Species not found in checklist\n",
      "Eugenia sp. nov. 'dagostini' ↳ Not close enough! Species not found in checklist\n",
      "Eugenia sp. nov. 'lepredourii' ↳ Not close enough! Species not found in checklist\n",
      "Eugenia sp. nov. 'metzdorfii' ↳ Not close enough! Species not found in checklist\n",
      "Guettardella sp. nov. 'durisylvatica' ↳ Not close enough! Species not found in checklist\n",
      "Couln't find a unique match : Phyllanthus conjugatus M.Schmid\n",
      "Couln't find a unique match : Rhizophora mucronata Lam.\n",
      "Couln't find a unique match : Sinapidendron frutescens (Sol.) Lowe\n",
      "Genus Drepanocladus not found in checklist\n",
      "Genus Drepanocladus not found in checklist\n",
      "Genus Riella not found in checklist\n",
      "Genus Wardia not found in checklist\n",
      "Couln't find a unique match : Oxalis natans L.f.\n",
      "Genus Isopterygium not found in checklist\n",
      "Genus Riella not found in checklist\n",
      "Genus Riella not found in checklist\n",
      "Couln't find a unique match : Anubias hastifolia Engl.\n",
      "Genus Riella not found in checklist\n",
      "Couln't find a unique match : Athyrium solenopteris (Kunze) T.Moore\n",
      "Couln't find a unique match : Terniopsis brevis M.Kato\n",
      "Couln't find a unique match : Gnetum montanum Markgr.\n",
      "Couln't find a unique match : Gnetum neglectum Blume\n",
      "Couln't find a unique match : Sophora fernandeziana (Phil.) Skottsb.\n",
      "Couln't find a unique match : Ulmus wallichiana Planchon\n",
      "Couln't find a unique match : Pittosporum virgatum Kirk\n",
      "Couln't find a unique match : Badula reticulata A. DC.\n",
      "Couln't find a unique match : Weinmannia tinctoria J.E. Smith\n",
      "Couln't find a unique match : Eugenia koolauensis O.Deg.\n",
      "Couln't find a unique match : Allenanthus hondurensis Standley\n",
      "Couln't find a unique match : Homalium buxifolium Daniker\n",
      "Pouteria danikeri ↳ Not close enough! Species not found in checklist\n",
      "Genus Platyspermation not found in checklist\n",
      "Couln't find a unique match : Phaeanthus malabaricus Beddome\n",
      "Couln't find a unique match : Picea koyamae Shirasawa\n",
      "Couln't find a unique match : Euonymus acanthocarpa Franchet\n",
      "Couln't find a unique match : Saurauia leucocarpa Schlecht.\n",
      "Couln't find a unique match : Elaeocarpus prunifolius Wallich\n",
      "Couln't find a unique match : Prunus grisea (C. Muell.) Kalkm.\n",
      "Couln't find a unique match : Alphonsea maingayi Hook. f. & Thomson\n",
      "Genus Aporusa not found in checklist\n",
      "Couln't find a unique match : Eugenia oreophila Ridley\n",
      "Couln't find a unique match : Garcinia cantleyana Whitm.\n",
      "Couln't find a unique match : Eugenia johorensis Ridley\n",
      "Couln't find a unique match : Tetrazygia elegans Urban\n",
      "Genus Hieronima not found in checklist\n",
      "Couln't find a unique match : Shorea robusta Gaertner f.\n",
      "Couln't find a unique match : Persea lingue (R. & P.) Nees ex Kopp\n",
      "Genus Hieronima not found in checklist\n",
      "Couln't find a unique match : Rhododendron rex Leveille\n",
      "Author matching matching failed : Paranephelium hainanensis\n",
      "Genus Aporusa not found in checklist\n",
      "Genus Engelhardtia not found in checklist\n",
      "Couln't find a unique match : Trichilia grandifolia Oliver\n",
      "Couln't find a unique match : Cordyla somalensis J.B.Gillett\n",
      "Couln't find a unique match : Mouretia tonkinensis Pitard\n",
      "Couln't find a unique match : Araucaria cunninghamii Aiton ex A.Cunn.\n",
      "Couln't find a unique match : Sindora javanica (K. & V.) Back.\n",
      "Genus Engelhardtia not found in checklist\n"
     ]
    },
    {
     "name": "stdout",
     "output_type": "stream",
     "text": [
      "Genus Aporusa not found in checklist\n",
      "Couln't find a unique match : Shorea stenoptera Burck.\n",
      "Genus Engelhardtia not found in checklist\n",
      "Couln't find a unique match : Plathymenia foliolosa Benth.\n",
      "Couln't find a unique match : Prosopis alba Grisebach\n",
      "Couln't find a unique match : Prosopis nigra (Grisebach) Hieronymus\n",
      "Couln't find a unique match : Cyanea arborea Hillebr.\n",
      "Couln't find a unique match : Cyanea solenocalyx Hillebr.\n",
      "Couln't find a unique match : Clermontia hawaiiensis (Hbd.) Rock\n",
      "Couln't find a unique match : Clermontia grandiflora Gaud.\n",
      "Stryphnodendron harbesonii ↳ Not close enough! Species not found in checklist\n",
      "Couln't find a unique match : Acacia permixta Burtt Davy\n",
      "Couln't find a unique match : Polyalthia elmeri Merr.\n",
      "Genus Aporusa not found in checklist\n",
      "Couln't find a unique match : Ternstroemia wallichiana (Griffith) Engl.\n",
      "Couln't find a unique match : Durio testudinarum Becc.\n",
      "Couln't find a unique match : Schinus engleri Barkley\n",
      "Couln't find a unique match : Ruprechtia apetala Weddell\n",
      "Couln't find a unique match : Poecilanthe parviflora Bentham.\n",
      "Couln't find a unique match : Vangueria bicolor K.Schum.\n",
      "Couln't find a unique match : Syzygium phaeophyllum Merr. & Perry\n",
      "Omalanthus stokesii ↳ Not close enough! Species not found in checklist\n",
      "Couln't find a unique match : Claoxylon taitense J.Mueller\n",
      "Couln't find a unique match : Myoporum rapense F.Brown\n",
      "Myodocarpus angustialatus ↳ Not close enough! Species not found in checklist\n",
      "Polyscias nothisii ↳ Not close enough! Species not found in checklist\n",
      "Couln't find a unique match : Lecythis ollaria Loefling\n",
      "Genus Hyeronima not found in checklist\n",
      "Genus Hyeronima not found in checklist\n",
      "Potameia lotungensis ↳ Not close enough! Species not found in checklist\n",
      "Freziera revoluta ↳ Not close enough! Species not found in checklist\n",
      "Freziera uniauriculata ↳ Not close enough! Species not found in checklist\n",
      "Freziera varibrateata ↳ Not close enough! Species not found in checklist\n",
      "Freziera velutina ↳ Not close enough! Species not found in checklist\n",
      "Freziera biserrata ↳ Not close enough! Species not found in checklist\n",
      "Freziera campanulata ↳ Not close enough! Species not found in checklist\n",
      "Freziera ciliata ↳ Not close enough! Species not found in checklist\n",
      "Couln't find a unique match : Litsea hirsutissima Gamble\n",
      "Author matching matching failed : Schefflera sp. nov. 'nanocephala'\n",
      "Couln't find a unique match : Memecylon corticosum Ridley\n",
      "Couln't find a unique match : Litsea spathacea Gamble\n",
      "Freziera alata ↳ Not close enough! Species not found in checklist\n",
      "Freziera caesariata ↳ Not close enough! Species not found in checklist\n",
      "Freziera glabrescens ↳ Not close enough! Species not found in checklist\n",
      "Freziera obovata ↳ Not close enough! Species not found in checklist\n",
      "Freziera punctata ↳ Not close enough! Species not found in checklist\n",
      "Freziera rufescens ↳ Not close enough! Species not found in checklist\n",
      "Freziera uncinata ↳ Not close enough! Species not found in checklist\n",
      "Genus Hymenopus not found in checklist\n",
      "Couln't find a unique match : Piptadenia weberbaueri Harms\n",
      "Kotchubaea montana ↳ Not close enough! Species not found in checklist\n",
      "Weinmannia ueli ↳ Not close enough! Species not found in checklist\n",
      "Dehaasia chatacea ↳ Not close enough! Species not found in checklist\n",
      "Nothaphoebe javanica ↳ Not close enough! Species not found in checklist\n",
      "Genus Engelhardtia not found in checklist\n",
      "Genus Engelhardtia not found in checklist\n",
      "Genus Engelhardtia not found in checklist\n",
      "Couln't find a unique match : Wendlandia arabica DC.\n",
      "Genus Siphoneugenia not found in checklist\n",
      "Genus Siphoneugenia not found in checklist\n",
      "Genus Aporusa not found in checklist\n",
      "Couln't find a unique match : Gaertnera walkeri Wight\n",
      "Couln't find a unique match : Flindersia pimenteliana F. Muell\n",
      "Couln't find a unique match : Dalbergia glaberrima Bosser & Rabevohitra\n",
      "Genus Siphoneugenia not found in checklist\n",
      "Couln't find a unique match : Dalbergia mollis Bosser & Rabevohitra\n",
      "Couln't find a unique match : Orania decipiens Becc.\n",
      "Pritchardia woodfordiana ↳ Not close enough! Species not found in checklist\n",
      "Couln't find a unique match : Litsea ligustrina J. Hk.\n",
      "Couln't find a unique match : Washingtonia filifera (L. Linden) H. Wendl.\n",
      "Couln't find a unique match : Scalesia atractyloides Arnott\n",
      "Genus Aporusa not found in checklist\n",
      "Couln't find a unique match : Scalesia villosa Stewart\n",
      "Couln't find a unique match : Huilaea macrocarpa L.Uribe\n",
      "Couln't find a unique match : Psychotria speciosa J.G. Forster\n",
      "Couln't find a unique match : Saurauia oreophila Hemsley\n",
      "Couln't find a unique match : Aiphanes hirsuta Burret.\n",
      "Genus Lepidopilum not found in checklist\n",
      "Genus Mitrobryum not found in checklist\n",
      "Genus Skottsbergia not found in checklist\n",
      "Ditrichum cornubicum ↳ Not close enough! Species not found in checklist\n",
      "Genus Sciaromiopsis not found in checklist\n",
      "Genus Donrichardsia not found in checklist\n",
      "Genus Mamillariella not found in checklist\n",
      "Genus Neckeropsis not found in checklist\n",
      "Genus Pinnatella not found in checklist\n",
      "Genus Neomacounia not found in checklist\n",
      "Genus Orthotrichum not found in checklist\n",
      "Genus Ozobryum not found in checklist\n",
      "Genus Aschisma not found in checklist\n",
      "Genus Renauldia not found in checklist\n",
      "Genus Hypnodontopsis not found in checklist\n",
      "Genus Takakia not found in checklist\n",
      "Genus Thamnobryum not found in checklist\n",
      "Genus Thamnobryum not found in checklist\n",
      "Genus Sewardiella not found in checklist\n",
      "Genus Frullania not found in checklist\n",
      "Genus Leptoscyphus not found in checklist\n",
      "Genus Marsupella not found in checklist\n",
      "Genus Herbertus not found in checklist\n",
      "Genus Stenorrhipis not found in checklist\n",
      "Genus Diplocolea not found in checklist\n",
      "Genus Jamesoniella not found in checklist\n",
      "Couln't find a unique match : Scalesia baurii Robinson & Greenman\n",
      "Couln't find a unique match : Scalesia helleri Robinson\n",
      "Couln't find a unique match : Scalesia microcephala Robinson\n",
      "Genus Limbella not found in checklist\n",
      "Genus Orthodontopsis not found in checklist\n",
      "Genus Bryoxiphium not found in checklist\n",
      "Echinodium renauldii ↳ Not close enough! Species not found in checklist\n",
      "Echinodium setigerum ↳ Not close enough! Species not found in checklist\n",
      "Genus Merrilliobryum not found in checklist\n",
      "Genus Fissidens not found in checklist\n",
      "Genus Leucoperichaetium not found in checklist\n",
      "Genus Jaffueliobryum not found in checklist\n",
      "Genus Brymela not found in checklist\n",
      "Genus Taxitheliella not found in checklist\n",
      "Genus Ochyraea not found in checklist\n",
      "Genus Scaphophyllum not found in checklist\n",
      "Genus Hattoria not found in checklist\n",
      "Genus Nardia not found in checklist\n",
      "Genus Bazzania not found in checklist\n",
      "Genus Kurzia not found in checklist\n",
      "Genus Lepidozia not found in checklist\n",
      "Genus Andrewsianthus not found in checklist\n",
      "Genus Perssoniella not found in checklist\n",
      "Genus Phycolepidozia not found in checklist\n",
      "Genus Eopleurozia not found in checklist\n",
      "Genus Schistochila not found in checklist\n",
      "Genus Schistochila not found in checklist\n",
      "Genus Anthoceros not found in checklist\n",
      "Genus Calypogeia not found in checklist\n",
      "Genus Nowellia not found in checklist\n",
      "Genus Haesselia not found in checklist\n",
      "Genus Sauteria not found in checklist\n",
      "Genus Stephensoniella not found in checklist\n",
      "Genus Drepanolejeunea not found in checklist\n",
      "Spruceanthus theobromae ↳ Not close enough! Species not found in checklist\n",
      "Genus Sphaerolejeunea not found in checklist\n",
      "Genus Myriocolea not found in checklist\n",
      "Genus Bryopteris not found in checklist\n",
      "Genus Drepanolejeunea not found in checklist\n",
      "Genus Cheilolejeunea not found in checklist\n",
      "Genus Cladolejeunea not found in checklist\n",
      "Genus Caudalejeunea not found in checklist\n",
      "Genus Symbiezidium not found in checklist\n",
      "Genus Fulfordianthus not found in checklist\n",
      "Genus Drepanolejeunea not found in checklist\n",
      "Genus Cololejeunea not found in checklist\n",
      "Genus Riccia not found in checklist\n",
      "Sphaerocarpos drewei ↳ Not close enough! Species not found in checklist\n",
      "Genus Vandiemenia not found in checklist\n",
      "Genus Ambuchanania not found in checklist\n",
      "Genus Gradsteinia not found in checklist\n",
      "Genus Myriocoleopsis not found in checklist\n",
      "Couln't find a unique match : Begonia salaziensis Warb.\n",
      "Crudia bibundina ↳ Not close enough! Species not found in checklist\n",
      "Couln't find a unique match : Macrozamia heteromera C.Moore\n",
      "Couln't find a unique match : Cycas rumphii Miq.\n"
     ]
    },
    {
     "name": "stdout",
     "output_type": "stream",
     "text": [
      "Couln't find a unique match : Cycas arnhemica K.D.Hill\n",
      "Couln't find a unique match : Dioon tomasellii De Luca, Sabato & Vázq.Torres\n",
      "Couln't find a unique match : Stenandrium harlingii Wassh.\n",
      "Couln't find a unique match : Neriacanthus harlingii Wassh.\n",
      "Couln't find a unique match : Draba violacea Humb. & Bonpl.\n",
      "Couln't find a unique match : Pitcairnia simulans H.Luther\n",
      "Genus Dasphyllum not found in checklist\n",
      "Genus Dasphyllum not found in checklist\n",
      "Couln't find a unique match : Tillandsia cyanea Linden ex K.Koch\n",
      "Couln't find a unique match : Hieracium sprucei Arv.-Touv.\n",
      "Couln't find a unique match : Centropogon saltuum E.Wimm.\n",
      "Couln't find a unique match : Selaginella sericea A.Braun\n",
      "Couln't find a unique match : Pappobolus ecuadoriensis Panero\n",
      "Genus Vanvoorstia not found in checklist\n",
      "Piper seychellarum ↳ Not close enough! Species not found in checklist\n",
      "Couln't find a unique match : Clermontia multiflora Hillebr.\n",
      "Couln't find a unique match : Euphorbia cap-saintemariensis Rauh\n",
      "Couln't find a unique match : Euphorbia duranii Ursch & Leandri\n",
      "Couln't find a unique match : Euphorbia famatamboay Friedm. & Cremers\n",
      "Couln't find a unique match : Euphorbia moratii Rauh\n",
      "Couln't find a unique match : Euphorbia neobosseri (Rauh) Rauh\n",
      "Couln't find a unique match : Euphorbia platyclada Rauh\n",
      "Maytenus sp. nov. A ↳ Not close enough! Species not found in checklist\n",
      "Helichrysum sp. nov. A ↳ Not close enough! Species not found in checklist\n",
      "Helichrysum sp. nov. B ↳ Not close enough! Species not found in checklist\n",
      "Helichrysum sp. nov. C ↳ Not close enough! Species not found in checklist\n",
      "Helichrysum sp. nov. D ↳ Not close enough! Species not found in checklist\n",
      "Helichrysum sp. nov. E ↳ Not close enough! Species not found in checklist\n",
      "Launaea sp. nov. A ↳ Not close enough! Species not found in checklist\n",
      "Chlorophytum sp. nov. ↳ Not close enough! Species not found in checklist\n",
      "Asparagus sp. nov. A ↳ Not close enough! Species not found in checklist\n",
      "Ischaemum sp. nov. ↳ Not close enough! Species not found in checklist\n",
      "Drimia porphyrostachys ↳ Not close enough! Species not found in checklist\n",
      "Micromeria remota ↳ Not close enough! Species not found in checklist\n",
      "Genus Rughidia not found in checklist\n",
      "Genus Rughidia not found in checklist\n",
      "Melhania milleri ↳ Not close enough! Species not found in checklist\n",
      "Grewia milleri ↳ Not close enough! Species not found in checklist\n",
      "Genus Oreofraga not found in checklist\n",
      "Couln't find a unique match : Acalypha dictyoneura Müll, Arg.\n",
      "Couln't find a unique match : Conostegia centronioides Markgr.\n",
      "Couln't find a unique match : Miconia cercophora Wurdack\n",
      "Keetia bakossii ↳ Not close enough! Species not found in checklist\n",
      "Genus Mitrostigma not found in checklist\n",
      "Couln't find a unique match : Psychotria rimbachii Standl.\n",
      "Cyperus rheophytorum ↳ Not close enough! Species not found in checklist\n",
      "Couln't find a unique match : Calceolaria adenanthera Molau\n",
      "Couln't find a unique match : Calceolaria pedunculata Molau\n",
      "Aerides leeanum ↳ Not close enough! Species not found in checklist\n",
      "Couln't find a unique match : Saurauia erythrocarpa C.F.Liang & Y.S.Wang\n",
      "Author matching matching failed : Cotinus nana\n",
      "Couln't find a unique match : Berberis taronensis Ahrendt\n",
      "Author matching matching failed : Trachycarpus nana\n",
      "Couln't find a unique match : Isoetes sinensis Palmer\n",
      "Genus Acanthephippium not found in checklist\n",
      "Bulbine caput-medusae ↳ Not close enough! Species not found in checklist\n",
      "Sesamothamnus leistneranus ↳ Not close enough! Species not found in checklist\n",
      "Genus Ectochaete not found in checklist\n",
      "Genus Rhizoclonium not found in checklist\n",
      "Asparagopsis svedelii ↳ Not close enough! Species not found in checklist\n",
      "Genus Antithamnion not found in checklist\n",
      "Genus Callithamnion not found in checklist\n",
      "Genus Callithamnion not found in checklist\n",
      "Ceramium hoodii ↳ Not close enough! Species not found in checklist\n",
      "Ceramium howellii ↳ Not close enough! Species not found in checklist\n",
      "Ceramium prostratum ↳ Not close enough! Species not found in checklist\n",
      "Ceramium templetonii ↳ Not close enough! Species not found in checklist\n",
      "Genus Pleonosporium not found in checklist\n",
      "Genus Acrosorium not found in checklist\n",
      "Genus Austrofolium not found in checklist\n",
      "Genus Austrofolium not found in checklist\n",
      "Genus Myriogramme not found in checklist\n",
      "Genus Nitophyllum not found in checklist\n",
      "Genus Phycodrina not found in checklist\n",
      "Genus Pseudolaingia not found in checklist\n",
      "Genus Alsidium not found in checklist\n",
      "Genus Chondria not found in checklist\n",
      "Genus Laurencia not found in checklist\n",
      "Genus Laurencia not found in checklist\n",
      "Genus Laurencia not found in checklist\n",
      "Genus Laurencia not found in checklist\n",
      "Genus Laurencia not found in checklist\n",
      "Genus Pterosiphonia not found in checklist\n",
      "Genus Amphiroa not found in checklist\n",
      "Genus Amphiroa not found in checklist\n",
      "Genus Amphiroa not found in checklist\n",
      "Genus Archaeolithothamnion not found in checklist\n",
      "Genus Goniolithon not found in checklist\n",
      "Genus Lithophyllum not found in checklist\n",
      "Genus Lithophyllum not found in checklist\n",
      "Genus Lithophyllum not found in checklist\n",
      "Genus Lithophyllum not found in checklist\n",
      "Genus Lithophyllum not found in checklist\n",
      "Genus Tenarea not found in checklist\n",
      "Genus Lithothamnion not found in checklist\n",
      "Genus Lithothamnion not found in checklist\n",
      "Genus Mesophyllum not found in checklist\n",
      "Genus Chondrus not found in checklist\n",
      "Genus Chondrus not found in checklist\n",
      "Genus Kallymenia not found in checklist\n",
      "Genus Kallymenia not found in checklist\n",
      "Pugetia latiloba ↳ Not close enough! Species not found in checklist\n",
      "Genus Ahnfeltiopsis not found in checklist\n",
      "Genus Ochtodes not found in checklist\n",
      "Genus Gracilaria not found in checklist\n",
      "Genus Gracilaria not found in checklist\n",
      "Genus Halymenia not found in checklist\n",
      "Genus Pachymenia not found in checklist\n",
      "Prionitis galapagensis ↳ Not close enough! Species not found in checklist\n",
      "Prionitis hancockii ↳ Not close enough! Species not found in checklist\n",
      "Genus Galaxaura not found in checklist\n",
      "Genus Galaxaura not found in checklist\n",
      "Genus Schizymenia not found in checklist\n",
      "Genus Sebdenia not found in checklist\n",
      "Genus Botryocladia not found in checklist\n",
      "Genus Rhodymenia not found in checklist\n",
      "Couln't find a unique match : Spergularia marina (L.) Griseb.\n",
      "Couln't find a unique match : Crassula tillaea Lester-Garland\n",
      "Couln't find a unique match : Juncus fontanesii J.Gay\n",
      "Couln't find a unique match : Scleria robinsoniana J.Raynal\n",
      "Couln't find a unique match : Crocus minimus DC.\n",
      "Couln't find a unique match : Crocus hyemalis Boiss. & Blanche\n",
      "Couln't find a unique match : Colchicum cupanii Guss.\n",
      "Genus Arisarum not found in checklist\n",
      "Genus Arisarum not found in checklist\n",
      "Couln't find a unique match : Gagea chabertii A.Terracc.\n",
      "Couln't find a unique match : Gagea graeca (L.) Irmsch.\n",
      "Couln't find a unique match : Romulea corsica Jord. & Fourr.\n",
      "Couln't find a unique match : Crocus hadriaticus Herb.\n",
      "Couln't find a unique match : Fritillaria carica Rix\n",
      "Couln't find a unique match : Agrostis nevadensis Boiss.\n",
      "Couln't find a unique match : Aira uniaristata Lag. & Rodr.\n",
      "Couln't find a unique match : Asparagus officinalis L.\n",
      "Couln't find a unique match : Spergularia media (P.Monnier) Lambinon & Dobignard\n",
      "Couln't find a unique match : Rhynchospora alba (L.) Vahl\n",
      "Couln't find a unique match : Carex caespitosa Nees\n",
      "Couln't find a unique match : Primula auriculata L.\n",
      "Couln't find a unique match : Acacia bussei Harms ex Y.Sjöstedt\n",
      "Couln't find a unique match : Acacia hirta Bojer\n",
      "Couln't find a unique match : Archidendron ellipticum (Blanco) I.C.Nielsen\n",
      "Couln't find a unique match : Astragalus coltonii M.E.Jones\n",
      "Couln't find a unique match : Astragalus lentiginosus Hook.\n",
      "Couln't find a unique match : Astragalus sparsiflorus A.Gray\n",
      "Couln't find a unique match : Clitoria sagotii Fantz\n",
      "Couln't find a unique match : Gastrolobium spinosum Benth.\n",
      "Couln't find a unique match : Hedysarum polybotrys Hand.-Mazz.\n",
      "Couln't find a unique match : Lonchocarpus guatemalensis Benth.\n",
      "Couln't find a unique match : Lupinus rivularis Lindl.\n",
      "Couln't find a unique match : Lupinus westianus L.\n",
      "Couln't find a unique match : Mimosa albida Willd.\n",
      "Couln't find a unique match : Mimosa foliolosa Benth.\n",
      "Couln't find a unique match : Pithecellobium diversifolium Benth.\n"
     ]
    },
    {
     "name": "stdout",
     "output_type": "stream",
     "text": [
      "Couln't find a unique match : Psoralea reverchonii S. Watson\n",
      "Couln't find a unique match : Senna pendula (Willd.) H.S.Irwin & Barneby\n",
      "Couln't find a unique match : Sophora gypsophila B.L.Turner & A.M.Powell\n",
      "Couln't find a unique match : Tephrosia angustissima Chapman\n",
      "Couln't find a unique match : Tephrosia barbatala Bosman & de Haas\n",
      "Couln't find a unique match : Tephrosia brachyodon Domin\n",
      "Couln't find a unique match : Tephrosia cephalantha Welw. ex Baker\n",
      "Couln't find a unique match : Thermopsis montana Torr. & A.Gray\n",
      "Couln't find a unique match : Zornia pardina Mohlenbr.\n",
      "Couln't find a unique match : Allium oliganthum Kar. & Kir.\n",
      "Couln't find a unique match : Nepenthes gracillima Ridley\n",
      "Couln't find a unique match : Acacia aemula Maslin\n",
      "Couln't find a unique match : Acacia phlebopetala Maslin\n",
      "Couln't find a unique match : Dendrobium poneroides Schltr.\n",
      "Couln't find a unique match : Cyperus glaber L.     \n",
      "Couln't find a unique match : Mentha longifolia (L.) Huds\n",
      "Couln't find a unique match : Cyperus glomeratus L.     \n",
      "Couln't find a unique match : Bidens cernua L.     \n",
      "Couln't find a unique match : Carex acuta L.\n",
      "Couln't find a unique match : Glyceria fluitans (L.) R. Br.\n",
      "Couln't find a unique match : Mentha spicata L.\n",
      "Couln't find a unique match : Nuphar lutea (L.) SM.\n",
      "Couln't find a unique match : Persicaria hydropiper (L.) Spach\n",
      "Couln't find a unique match : Potamogeton berchtoldii Fieber\n",
      "Couln't find a unique match : Lysimachia vulgaris  L.\n",
      "Couln't find a unique match : Acorus calamus L.\n",
      "Couln't find a unique match : Paphiopedilum glaucophyllum J.J.Sm.\n",
      "Couln't find a unique match : Syngonanthus lanatus Moldenke\n",
      "Couln't find a unique match : Anthurium bonplandii G.S.Bunting\n",
      "Couln't find a unique match : Koeleria novozelandica Domin\n",
      "Couln't find a unique match : Pleurothallis elegantula Cogn.\n",
      "Couln't find a unique match : Trichoglottis winkleri J.J.Sm.\n",
      "Couln't find a unique match : Zeuxine amboinensis (J.J.Sm.) J.J.Sm.\n",
      "Memecylon sp. nov. 1 ↳ Not close enough! Species not found in checklist\n",
      "Warneckea maritima ↳ Not close enough! Species not found in checklist\n",
      "Couln't find a unique match : Trifolium masaiense J.B.Gillett\n",
      "Leobordea prolifera ↳ Not close enough! Species not found in checklist\n",
      "Couln't find a unique match : Barleria mpandensis I.Darbysh.\n",
      "Couln't find a unique match : Barleria polhillii I.Darbysh.\n",
      "Couln't find a unique match : Dyschoriste keniensis Malombe, Mwachala & Vollesen\n",
      "Couln't find a unique match : Neuracanthus tephrophyllus Bidgood & Brummitt\n",
      "Couln't find a unique match : Prunus domestica L.\n",
      "Couln't find a unique match : Guettarda scabra (L.) Lam.\n",
      "Couln't find a unique match : Cordia collococca L.\n",
      "Thelypteris bermudiana ↳ Not close enough! Species not found in checklist\n",
      "Couln't find a unique match : Camellia gymnogyna H.T.Chang\n",
      "Couln't find a unique match : Camellia kwangsiensis H.T.Chang\n",
      "Couln't find a unique match : Catalpa speciosa (Warder ex Barney) Warder ex Engelm.\n",
      "Couln't find a unique match : Celtis laevigata Willd.\n",
      "Genus Hymenopus not found in checklist\n",
      "Genus Hymenopus not found in checklist\n",
      "Genus Hymenopus not found in checklist\n",
      "Genus Leptobalanus not found in checklist\n",
      "Genus Engelhardtia not found in checklist\n",
      "Couln't find a unique match : Camellia mileensis T.L.Ming\n",
      "Couln't find a unique match : Camellia reticulata Lindley\n",
      "Oxyanthus sp. nov. A ↳ Not close enough! Species not found in checklist\n",
      "Couln't find a unique match : Dendrosenecio cheranganiensis (Cotton & Blakelock) E.B.Knox\n",
      "Couln't find a unique match : Chassalia bojeri Bremek.\n",
      "Couln't find a unique match : Gnidia daphnifolia L.f.\n",
      "Couln't find a unique match : Tylostigma filiforme H.Perrier\n",
      "Couln't find a unique match : Dialium unifoliolatum Capuron ex Du Puy & R.Rabev.\n",
      "Couln't find a unique match : Boltonia asteroides (L.) L'Her.\n",
      "Couln't find a unique match : Calopogon tuberosus (L.) B.S.P.\n",
      "Couln't find a unique match : Caltha natans Pallas ex Georgi\n",
      "Couln't find a unique match : Carex aperta Boott\n",
      "Couln't find a unique match : Carex atlantica Bailey\n",
      "Couln't find a unique match : Carex cryptolepis Mackenzie\n",
      "Couln't find a unique match : Carex exsiccata Bailey\n",
      "Couln't find a unique match : Carex heleonastes L. f.\n",
      "Couln't find a unique match : Carex interior Bailey\n",
      "Couln't find a unique match : Carex michauxiana Boeckl.\n",
      "Couln't find a unique match : Carex normalis Mackenzie\n",
      "Couln't find a unique match : Castilleja minor (Gray) Gray\n",
      "Couln't find a unique match : Cyperus dentatus Torr.\n",
      "Couln't find a unique match : Eleocharis compressa Sullivant\n",
      "Couln't find a unique match : Eleocharis intermedia J.A. Schultes\n",
      "Couln't find a unique match : Erigeron elatus (Hook.) Greene\n",
      "Couln't find a unique match : Fimbristylis autumnalis (L.) Roemer & J.A. Schultes\n",
      "Couln't find a unique match : Isoetes maritima Underwood\n",
      "Couln't find a unique match : Juncus pelocarpus E. Mey.\n",
      "Couln't find a unique match : Lysimachia terrestris (L.) B.S.P.\n",
      "Couln't find a unique match : Polemonium viscosum Nutt.\n",
      "Couln't find a unique match : Ribes glandulosum Grauer\n",
      "Couln't find a unique match : Salix farriae Ball\n",
      "Couln't find a unique match : Salix myrtillifolia Anderss.\n",
      "Couln't find a unique match : Salix pyrifolia Anderss.\n",
      "Couln't find a unique match : Scirpus atrocinctus Fern.\n",
      "Couln't find a unique match : Solidago riddellii Frank ex Riddell\n",
      "Couln't find a unique match : Sparganium androcladum (Engelm.) Morong\n",
      "Couln't find a unique match : Trichophorum caespitosum (L.) Hartman\n",
      "Couln't find a unique match : Wolffia brasiliensis Weddell\n",
      "Couln't find a unique match : Xyris difformis Chapman\n",
      "Couln't find a unique match : Nephelium lappaceum Linn.\n",
      "Couln't find a unique match : Abrus madagascariensis R.Vig.\n",
      "Couln't find a unique match : Mundulea anceps R.Vig.\n",
      "Couln't find a unique match : Rhopalocarpus macrorhamnifolius Capuron\n",
      "Author matching matching failed : Pyranthus monantha\n",
      "Plerandra sp. nov. \"calcicola\" ↳ Not close enough! Species not found in checklist\n",
      "Plerandra sp. nov. \"letocartiorum\" ↳ Not close enough! Species not found in checklist\n",
      "Plerandra sp. nov. \"longistyla\" ↳ Not close enough! Species not found in checklist\n",
      "Plerandra sp. nov. \"mackeei\" ↳ Not close enough! Species not found in checklist\n",
      "Plerandra sp. nov. \"memaoyaensis\" ↳ Not close enough! Species not found in checklist\n",
      "Plerandra sp. nov. \"neocaledonica\" ↳ Not close enough! Species not found in checklist\n",
      "Plerandra sp. nov. \"pouemboutensis\" ↳ Not close enough! Species not found in checklist\n",
      "Plerandra sp. nov. \"taomensis\" ↳ Not close enough! Species not found in checklist\n",
      "Plerandra sp. nov. \"tronchetii\" ↳ Not close enough! Species not found in checklist\n",
      "Couln't find a unique match : Podonephelium homei (Seemann) Radlk.\n",
      "Couln't find a unique match : Crataegus azarolus L.\n",
      "Couln't find a unique match : Foetidia macrocarpa Bosser\n",
      "Boswellia sp. A ↳ Not close enough! Species not found in checklist\n",
      "Couln't find a unique match : Carex aquatilis Wahlenb.\n",
      "Couln't find a unique match : Callitriche palustris L.\n",
      "Couln't find a unique match : Bidens trichosperma (Michx.) Britton\n",
      "Couln't find a unique match : Xerochlamys elliptica F.Gérard\n",
      "Leptolaena villosa ↳ Not close enough! Species not found in checklist\n",
      "Couln't find a unique match : Octolepis dioica Capuron\n",
      "Couln't find a unique match : Micronychia tsiramiramy H.Perrier\n",
      "Couln't find a unique match : Medicago papillosa Boiss.\n",
      "Couln't find a unique match : Calystegia sepium (L.) R. Br.\n",
      "Couln't find a unique match : Hippuris tetraphylla L. f.\n",
      "Couln't find a unique match : Prunella vulgaris L.\n",
      "Couln't find a unique match : Euphorbia skottsbergii Sherff\n",
      "Couln't find a unique match : Cyperus pennatiformis Kük.\n",
      "Couln't find a unique match : Quercus oblongifolia Torr.\n",
      "Couln't find a unique match : Sorbus dominii Kárpáti\n",
      "Couln't find a unique match : Sorbus joannis Kárpáti\n",
      "Couln't find a unique match : Kadua degeneri (Fosberg) W.L.Wagner & Lorence\n",
      "Couln't find a unique match : Labordia triflora Hillebr.\n",
      "Couln't find a unique match : Neraudia angulata R.S.Cowan\n",
      "Couln't find a unique match : Phyllostegia helleri Sherff\n",
      "Couln't find a unique match : Sorbus arranensis Hedl.\n",
      "Couln't find a unique match : Salix salviifolia Broth.\n",
      "Couln't find a unique match : Pittosporum koghiense Guillaumin\n",
      "Arum apulum ↳ Not close enough! Species not found in checklist\n"
     ]
    },
    {
     "name": "stdout",
     "output_type": "stream",
     "text": [
      "Isoetes tiguliana ↳ Not close enough! Species not found in checklist\n",
      "Couln't find a unique match : Carduus nyassanus (S.Moore) R.E.Fr.\n",
      "Couln't find a unique match : Alisma plantago-aquatica L.      \n",
      "Couln't find a unique match : Potamogeton pusillus L.      \n",
      "Couln't find a unique match : Strobilanthes accrescens J.R.I.Wood\n",
      "Couln't find a unique match : Pedicularis longipedicellata P.C.Tsoong\n",
      "Couln't find a unique match : Pedicularis mucronulata P.C.Tsoong\n",
      "Couln't find a unique match : Pedicularis perpusilla P.C.Tsoong\n",
      "Couln't find a unique match : Pedicularis porriginosa P.C.Tsoong\n",
      "Couln't find a unique match : Pedicularis xylopoda P.C.Tsoong\n",
      "Couln't find a unique match : Potentilla bryoides Sojak\n",
      "Couln't find a unique match : Pteridium pinetorum C.N.Page & R.R.Mill\n",
      "Couln't find a unique match : Pedicularis imbricata P.C.Tsoong\n",
      "Couln't find a unique match : Pedicularis inconspicua P.C.Tsoong\n",
      "Couln't find a unique match : Lepidagathis sericea Benoist\n",
      "Couln't find a unique match : Ulex argenteus Webb\n",
      "Tulipa akamasica ↳ Not close enough! Species not found in checklist\n",
      "Genus Radula not found in checklist\n",
      "Couln't find a unique match : Romulea variicolor Mifsud\n",
      "Amphidoxa demidium ↳ Not close enough! Species not found in checklist\n",
      "Couln't find a unique match : Diospyros dicorypheoides H.Perrier\n",
      "Hydrostachys maxima ↳ Not close enough! Species not found in checklist\n",
      "Pittosporum sp. nov. 'wenemense' ↳ Not close enough! Species not found in checklist\n",
      "Pittosporum sp. nov. 'veilloniana' ↳ Not close enough! Species not found in checklist\n",
      "Pittosporum sp. nov. 'tchingounensis' ↳ Not close enough! Species not found in checklist\n",
      "Couln't find a unique match : Sorbus budaiana Kárpáti\n",
      "Couln't find a unique match : Fraxinus sieboldiana Blume\n",
      "Couln't find a unique match : Nothofagus crenata Steenis\n",
      "Couln't find a unique match : Otiophora lebruniana (Bamps) Robbr. & Puff\n",
      "Couln't find a unique match : Wahlenbergia pulchella Thulin\n",
      "Genus Hymenostylium not found in checklist\n",
      "Genus Weissia not found in checklist\n",
      "Couln't find a unique match : Aulotandra trigonocarpa H.Perrier\n",
      "Couln't find a unique match : Capsicum annuum L.\n",
      "Couln't find a unique match : Sorbus herculis Kárpáti\n",
      "Couln't find a unique match : Sorbus domugledica Kárpáti\n",
      "Couln't find a unique match : Cistus chinamadensis Bañares & P.Romero \n",
      "Couln't find a unique match : Bulbophyllum zaratananae Schltr.\n",
      "Couln't find a unique match : Genista insularis Bacch., Brullo & Feoli Chiapella\n",
      "Couln't find a unique match : Paeonia officinalis L.\n",
      "Couln't find a unique match : Scirpoides holoschoenus (L.) Soják\n",
      "Couln't find a unique match : Physalis angulata L.\n",
      "Couln't find a unique match : Diplotaxis gorgadensis Rustan\n",
      "Couln't find a unique match : Phoenix atlantica A.Chev.\n",
      "Couln't find a unique match : Polycarpaea gayi Webb\n",
      "Crepidorhopalon sp. nov. ↳ Not close enough! Species not found in checklist\n",
      "Couln't find a unique match : Euonymus latifolius (L.) Miller\n",
      "Couln't find a unique match : Euonymus europaeus L.\n",
      "Couln't find a unique match : Salix pyrolifolia Ledeb.\n",
      "Couln't find a unique match : Myrtus communis L.\n",
      "Inversodicraea bosii ↳ Not close enough! Species not found in checklist\n",
      "Couln't find a unique match : Echinopsis aurea Briton & Rose\n",
      "Couln't find a unique match : Eriosyce paucicostata (F.Ritter) Ferryman\n",
      "Couln't find a unique match : Eriosyce recondita (F.Ritter) Katt.\n",
      "Couln't find a unique match : Echinocereus fendleri (Engelm.) F.Seitz\n",
      "Couln't find a unique match : Eriosyce eriosyzoides (F.Ritter) Ferryman\n",
      "Couln't find a unique match : Echinocereus parkeri N.P.Taylor\n",
      "Couln't find a unique match : Mammillaria dioica K.Brandegee\n",
      "Couln't find a unique match : Mammillaria huitzilopochtli D.R.Hunt\n",
      "Couln't find a unique match : Mammillaria thornberi Orcuttt\n",
      "Couln't find a unique match : Tephrocactus articulatus (Pfeiff.) Backeb.\n",
      "Couln't find a unique match : Pediocactus nigrispinus (Hochstätter) Hochstätter\n",
      "Couln't find a unique match : Opuntia triacantha (Willd.) Sweet\n",
      "Couln't find a unique match : Rebutia ritteri (Wessner) Buining & Donald \n",
      "Couln't find a unique match : Sclerocactus wetlandicus Hochstätter\n",
      "Couln't find a unique match : Coryphantha hintoniorum Dicht & A.Lüthy\n",
      "Couln't find a unique match : Cunonia pulchella Brongn. & Gris\n",
      "Couln't find a unique match : Geissois pruinosa Brongn. & Gris\n",
      "Moquilea chiriquiensis ↳ Not close enough! Species not found in checklist\n",
      "Moquilea fasciculata ↳ Not close enough! Species not found in checklist\n",
      "Moquilea grandibracteata ↳ Not close enough! Species not found in checklist\n",
      "Moquilea hedbergii ↳ Not close enough! Species not found in checklist\n",
      "Moquilea salicifolia ↳ Not close enough! Species not found in checklist\n",
      "Moquilea vasquezii ↳ Not close enough! Species not found in checklist\n",
      "Genus Leptobalanus not found in checklist\n",
      "Moquilea megalophylla ↳ Not close enough! Species not found in checklist\n",
      "Couln't find a unique match : Calyptranthes thomasiana O.Berg\n",
      "Searsia sp. nov. A ↳ Not close enough! Species not found in checklist\n",
      "Genus Acritodon not found in checklist\n",
      "Genus Plagiochila not found in checklist\n",
      "Genus Luteolejeunea not found in checklist\n",
      "Couln't find a unique match : Daphne sophia Kalen.\n",
      "Couln't find a unique match : Persea liebmannii Mez\n"
     ]
    }
   ],
   "source": [
    "n_nonunique = 0\n",
    "matching_results = iucn.apply(matching_accepted_plant_name_from_checklist,axis=1)"
   ]
  },
  {
   "cell_type": "markdown",
   "metadata": {
    "autoscroll": false,
    "ein.hycell": false,
    "ein.tags": "worksheet-0",
    "slideshow": {
     "slide_type": "-"
    }
   },
   "source": [
    "Proportion of unsuccessful matches"
   ]
  },
  {
   "cell_type": "code",
   "execution_count": 298,
   "metadata": {},
   "outputs": [
    {
     "data": {
      "text/plain": [
       "0.01217978940751218"
      ]
     },
     "execution_count": 298,
     "metadata": {},
     "output_type": "execute_result"
    }
   ],
   "source": [
    "np.sum(matching_results<=0)/len(matching_results)"
   ]
  },
  {
   "cell_type": "markdown",
   "metadata": {},
   "source": [
    "Proportion of non-unique matches"
   ]
  },
  {
   "cell_type": "code",
   "execution_count": 299,
   "metadata": {},
   "outputs": [
    {
     "data": {
      "text/plain": [
       "0.01438000942951438"
      ]
     },
     "execution_count": 299,
     "metadata": {},
     "output_type": "execute_result"
    }
   ],
   "source": [
    "n_nonunique/len(matching_results)"
   ]
  },
  {
   "cell_type": "code",
   "execution_count": null,
   "metadata": {},
   "outputs": [],
   "source": []
  }
 ],
 "metadata": {
  "kernelspec": {
   "display_name": "Python 3",
   "language": "python",
   "name": "python3"
  },
  "language_info": {
   "codemirror_mode": {
    "name": "ipython",
    "version": 3
   },
   "file_extension": ".py",
   "mimetype": "text/x-python",
   "name": "python",
   "nbconvert_exporter": "python",
   "pygments_lexer": "ipython3",
   "version": "3.7.3"
  },
  "name": "matching-uicn-checklist.ipynb"
 },
 "nbformat": 4,
 "nbformat_minor": 2
}
