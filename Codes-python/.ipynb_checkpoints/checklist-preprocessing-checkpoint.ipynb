{
 "cells": [
  {
   "cell_type": "markdown",
   "metadata": {
    "ein.tags": "worksheet-0",
    "slideshow": {
     "slide_type": "-"
    }
   },
   "source": [
    "CHECKLIST PREPROCESSING"
   ]
  },
  {
   "cell_type": "code",
   "execution_count": 1,
   "metadata": {
    "autoscroll": false,
    "ein.hycell": false,
    "ein.tags": "worksheet-0",
    "slideshow": {
     "slide_type": "-"
    }
   },
   "outputs": [],
   "source": [
    "import numpy as np\n",
    "import pandas as pd"
   ]
  },
  {
   "cell_type": "code",
   "execution_count": 2,
   "metadata": {
    "autoscroll": false,
    "ein.hycell": false,
    "ein.tags": "worksheet-0",
    "slideshow": {
     "slide_type": "-"
    }
   },
   "outputs": [],
   "source": [
    "# CODE POUR L'ANCIENNE VERSION DE LA CHECKLIST\n",
    "# checklist1 = pd.read_csv('/home/joon/data/wcs_feb_19.csv',sep='|')\n",
    "# checklist1dist = pd.read_csv('/home/joon/data/wcs_distribution_feb_19.csv',sep='|')\n",
    "# checklist2 = pd.read_csv('/home/joon/data/atoz_feb_19.csv',sep='|')\n",
    "# checklist2dist = pd.read_csv('/home/joon/data/atoz_distribution_feb_19.csv',sep='|')"
   ]
  },
  {
   "cell_type": "code",
   "execution_count": 3,
   "metadata": {
    "autoscroll": false,
    "ein.hycell": false,
    "ein.tags": "worksheet-0",
    "slideshow": {
     "slide_type": "-"
    }
   },
   "outputs": [
    {
     "name": "stderr",
     "output_type": "stream",
     "text": [
      "/usr/lib/python3.8/site-packages/IPython/core/interactiveshell.py:3050: DtypeWarning: Columns (5) have mixed types. Specify dtype option on import or set low_memory=False.\n",
      "  has_raised = await self.run_ast_nodes(code_ast.body, cell_name,\n"
     ]
    }
   ],
   "source": [
    "checklist = pd.read_csv('/home/joon/data/checklist_names.txt',sep='|')\n",
    "checklistdist = pd.read_csv('/home/joon/data/checklist_distribution.txt',sep='|')"
   ]
  },
  {
   "cell_type": "markdown",
   "metadata": {
    "ein.tags": "worksheet-0",
    "slideshow": {
     "slide_type": "-"
    }
   },
   "source": [
    "Gestion des plant_name_id non-uniques lorsqu'on fusionne les deux datasets"
   ]
  },
  {
   "cell_type": "code",
   "execution_count": 4,
   "metadata": {
    "autoscroll": false,
    "ein.hycell": false,
    "ein.tags": "worksheet-0",
    "slideshow": {
     "slide_type": "-"
    }
   },
   "outputs": [],
   "source": [
    "# CODE POUR L'ANCIENNE VERSION DE LA CHECKLIST\n",
    "# checklist2[['plant_name_id','accepted_plant_name_id']] = checklist2[['plant_name_id','accepted_plant_name_id']].apply(lambda x:x*10000000)\n",
    "# checklist2dist['plant_name_id'] = checklist2dist['plant_name_id'].apply(lambda x:x*10000000)"
   ]
  },
  {
   "cell_type": "markdown",
   "metadata": {
    "ein.tags": "worksheet-0",
    "slideshow": {
     "slide_type": "-"
    }
   },
   "source": [
    "Fusion des deux datasets"
   ]
  },
  {
   "cell_type": "code",
   "execution_count": 4,
   "metadata": {
    "autoscroll": false,
    "ein.hycell": false,
    "ein.tags": "worksheet-0",
    "slideshow": {
     "slide_type": "-"
    }
   },
   "outputs": [],
   "source": [
    "# CODE POUR L'ANCIENNE VERSION DE LA CHECKLIST\n",
    "# checklist = pd.concat([checklist1,checklist2],ignore_index=True)\n",
    "# del checklist1, checklist2\n",
    "# checklistdist = pd.concat([checklist1dist,checklist2dist],ignore_index=True)\n",
    "# del checklist1dist, checklist2dist"
   ]
  },
  {
   "cell_type": "markdown",
   "metadata": {
    "ein.tags": "worksheet-0",
    "slideshow": {
     "slide_type": "-"
    }
   },
   "source": [
    "Certaines lignes dans checklist n'ont pas de `accepted_plant_name_id`.\n",
    "On complète alors par `plant_name_id`"
   ]
  },
  {
   "cell_type": "code",
   "execution_count": 5,
   "metadata": {
    "autoscroll": false,
    "ein.hycell": false,
    "ein.tags": "worksheet-0",
    "slideshow": {
     "slide_type": "-"
    }
   },
   "outputs": [],
   "source": [
    "checklist.loc[checklist.accepted_plant_name_id.isnull(),'accepted_plant_name_id'] = checklist.loc[checklist.accepted_plant_name_id.isnull(),'plant_name_id']"
   ]
  },
  {
   "cell_type": "markdown",
   "metadata": {
    "ein.tags": "worksheet-0",
    "slideshow": {
     "slide_type": "-"
    }
   },
   "source": [
    "Sélectionne les colonnes"
   ]
  },
  {
   "cell_type": "code",
   "execution_count": 7,
   "metadata": {
    "autoscroll": false,
    "ein.hycell": false,
    "ein.tags": "worksheet-0",
    "slideshow": {
     "slide_type": "-"
    }
   },
   "outputs": [],
   "source": [
    "checklist = checklist[['plant_name_id','taxon_status', 'family', 'genus', 'species', 'taxon_name', 'taxon_authors','first_published','lifeform_description','climate_description','accepted_plant_name_id']]"
   ]
  },
  {
   "cell_type": "code",
   "execution_count": 8,
   "metadata": {
    "autoscroll": false,
    "ein.hycell": false,
    "ein.tags": "worksheet-0",
    "slideshow": {
     "slide_type": "-"
    }
   },
   "outputs": [],
   "source": [
    "# Correction des dates pour les mettres sous la forme d'entiers\n",
    "import re\n",
    "checklist.loc[:,'first_published'] = checklist['first_published'].apply(lambda x: np.nan if pd.isnull(x) else int(re.match('[12][0-9]{3}',re.sub('[^- 0123456789]','',x)).group()) if re.match('[12][0-9]{3}',re.sub('[^- 0123456789]','',x)) != None else np.nan)"
   ]
  },
  {
   "cell_type": "code",
   "execution_count": 9,
   "metadata": {
    "autoscroll": false,
    "ein.hycell": false,
    "ein.tags": "worksheet-0",
    "slideshow": {
     "slide_type": "-"
    }
   },
   "outputs": [],
   "source": [
    "checklistdist = checklistdist.rename(columns={'db_id':'plant_name_id'})\n",
    "checklistdist = checklistdist[['plant_name_id','continent_code_l1','continent','region_code_l2','region','area_code_l3']]"
   ]
  },
  {
   "cell_type": "code",
   "execution_count": 10,
   "metadata": {
    "autoscroll": false,
    "ein.hycell": false,
    "ein.tags": "worksheet-0",
    "slideshow": {
     "slide_type": "-"
    }
   },
   "outputs": [],
   "source": [
    "checklistdist = checklistdist.astype({'continent_code_l1':'Int8','region_code_l2':'Int8'})"
   ]
  },
  {
   "cell_type": "code",
   "execution_count": 11,
   "metadata": {
    "autoscroll": false,
    "ein.hycell": false,
    "ein.tags": "worksheet-0",
    "slideshow": {
     "slide_type": "-"
    }
   },
   "outputs": [],
   "source": [
    "# checklist_publication_dates.loc[checklist_publication_dates.checklist_db=='atoz','plant_name_id'] = checklist_publication_dates.loc[checklist_publication_dates.checklist_db=='atoz','plant_name_id'].apply(lambda x:x*10000000)\n",
    "# checklist_publication_dates = pd.concat([checklist_publication_dates[checklist_publication_dates.checklist_db=='wcs'],checklist_publication_dates[checklist_publication_dates.checklist_db=='atoz']],ignore_index=True)\n",
    "# checklist['first_published'] = cist.plant_name_id = checklist.plant_name_id.astype(int)\n",
    "# checklist.accepted_plant_name_id = checklist.accepted_plant_name_id.astype(int)"
   ]
  },
  {
   "cell_type": "markdown",
   "metadata": {
    "ein.tags": "worksheet-0",
    "slideshow": {
     "slide_type": "-"
    }
   },
   "source": [
    "Exportation"
   ]
  },
  {
   "cell_type": "code",
   "execution_count": 306,
   "metadata": {
    "autoscroll": false,
    "ein.hycell": false,
    "ein.tags": "worksheet-0",
    "slideshow": {
     "slide_type": "-"
    }
   },
   "outputs": [],
   "source": [
    "checklist.to_csv('/home/joon/data/checklist_taxonomy_preprocessed.csv')\n",
    "checklistdist.to_csv('/home/joon/data/checklist_distribution_preprocessed.csv',index=False)"
   ]
  }
 ],
 "metadata": {
  "kernelspec": {
   "display_name": "Python 3",
   "language": "python",
   "name": "python3"
  },
  "language_info": {
   "codemirror_mode": {
    "name": "ipython",
    "version": 3
   },
   "file_extension": ".py",
   "mimetype": "text/x-python",
   "name": "python",
   "nbconvert_exporter": "python",
   "pygments_lexer": "ipython3",
   "version": "3.7.1"
  },
  "name": "checklist-preprocessing.ipynb"
 },
 "nbformat": 4,
 "nbformat_minor": 2
}
