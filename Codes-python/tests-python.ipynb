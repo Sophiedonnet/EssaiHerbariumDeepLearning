{
 "cells": [
  {
   "cell_type": "markdown",
   "metadata": {
    "ein.tags": "worksheet-0",
    "slideshow": {
     "slide_type": "-"
    }
   },
   "source": [
    "# Preprocessing"
   ]
  },
  {
   "cell_type": "code",
   "execution_count": 1,
   "metadata": {
    "autoscroll": false,
    "collapsed": false,
    "ein.hycell": false,
    "ein.tags": "worksheet-0",
    "slideshow": {
     "slide_type": "-"
    }
   },
   "outputs": [],
   "source": [
    "import numpy as np\n",
    "import matplotlib.pyplot as plt\n",
    "import pandas as pd\n",
    "from sklearn.model_selection import GridSearchCV"
   ]
  },
  {
   "cell_type": "code",
   "execution_count": 2,
   "metadata": {
    "autoscroll": false,
    "collapsed": false,
    "ein.hycell": false,
    "ein.tags": "worksheet-0",
    "slideshow": {
     "slide_type": "-"
    }
   },
   "outputs": [
    {
     "name": "stderr",
     "output_type": "stream",
     "text": [
      "/usr/lib/python3.7/site-packages/IPython/core/interactiveshell.py:3020: DtypeWarning: Columns (13,20,21,23,24,26,28,72,73,84,85,86,87,100,101,102) have mixed types. Specify dtype option on import or set low_memory=False.\n",
      "  interactivity=interactivity, compiler=compiler, result=result)\n"
     ]
    }
   ],
   "source": [
    "data = pd.read_csv(\"res_all_INC.csv\")"
   ]
  },
  {
   "cell_type": "markdown",
   "metadata": {
    "ein.tags": "worksheet-0",
    "slideshow": {
     "slide_type": "-"
    }
   },
   "source": [
    "On selectionne les lignes pour lesquelles LC n'est pas manquant et RL_STATUT est différent de DD"
   ]
  },
  {
   "cell_type": "code",
   "execution_count": 39,
   "metadata": {
    "autoscroll": false,
    "collapsed": false,
    "ein.hycell": false,
    "ein.tags": "worksheet-0",
    "slideshow": {
     "slide_type": "-"
    }
   },
   "outputs": [],
   "source": [
    "data1 = data[pd.notna(data['LC']) & (data['RL_STATUT']!='DD')]"
   ]
  },
  {
   "cell_type": "markdown",
   "metadata": {
    "ein.tags": "worksheet-0",
    "slideshow": {
     "slide_type": "-"
    }
   },
   "source": [
    "On enlève des colonnes"
   ]
  },
  {
   "cell_type": "code",
   "execution_count": 40,
   "metadata": {
    "autoscroll": false,
    "collapsed": false,
    "ein.hycell": false,
    "ein.tags": "worksheet-0",
    "slideshow": {
     "slide_type": "-"
    }
   },
   "outputs": [],
   "source": [
    "columns_to_exclude = ['T1ID','SPECIESBASAUTHORS','SPECIESAUTHORS','INFRASPECIFICBASAUTHORS','INFRASPECIFICEPITHET','INFRASPECIFICAUTHORS','BASIONYMAUTHORS','DATEP','ACCEPTEDNAMEID','ACCEPTEDNAME','CLIMATE_AQUATIC'] + ['LC','MAJOR_CLIMATE','MAJOR_LIFEFORM','ANID','SUPPRESSED','LIFEFORM_BUDHGHT_MIN', \"LIFEFORM_BUDHGHT_MAX\", 'RL_NUM', 'RL_STATUT', 'YEAR_ASSESSED', 'LC', 'LCNT', 'RL_V1', 'RL_V2', 'RL_V3', 'RL', 'SONNERAT'] + ['pred_LC', 'p_LC', 'binf.p_LC', 'bsup.p_LC', 'p_rl_V3', 'p_LCNT', 'binf.p_LCNT', 'bsup.p_LCNT', 'miss']\n",
    "\n",
    "data2 = data1.drop(columns=columns_to_exclude)"
   ]
  },
  {
   "cell_type": "code",
   "execution_count": 41,
   "metadata": {
    "autoscroll": false,
    "collapsed": false,
    "ein.hycell": false,
    "ein.tags": "worksheet-0",
    "slideshow": {
     "slide_type": "-"
    }
   },
   "outputs": [],
   "source": [
    "categorial_columns = ['CL','N_CLIMATE','CLIMATE_ALTITUDE','CLIMATE_DRY','CLIMATE_TEMPERATE','CLIMATE_TROPICAL','N_LIFEFORM']+['LIFEFORM_CLIMBING','LIFEFORM_DEATH','LIFEFORM_ANNUAL','LIFEFORM_BIENNIAL','LIFEFORM_PERENNIAL','LIFEFORM_GEOPHYTE','LIFEFORM_HYDROPHYTE','LIFEFORM_HELOPHYTE','LIFEFORM_PHANEROPHYTE','LIFEFORM_NANOPHANEROPHYTE','LIFEFORM_HEMICRYPTOPHYTE','LIFEFORM_CHAMAEROPHYTE','LIFEFORM_EPIPHYTE','LIFEFORM_LITHOPHYTE','LIFEFORM_TUBER','LIFEFORM_RHIZOME','LIFEFORM_BULB','LIFEFORM_PSEUDOBULB','LIFEFORM_AQUATIC','LIFEFORM_SUCCULENT','LIFEFORM_CAUDIFORM','LIFEFORM_PARASITE','LIFEFORM_CAUDEX','LIFEFORM_PACHYCAUL','LIFEFORM_EXPOSED']"
   ]
  },
  {
   "cell_type": "markdown",
   "metadata": {
    "ein.tags": "worksheet-0",
    "slideshow": {
     "slide_type": "-"
    }
   },
   "source": [
    "On marque les variables catégorielles comme telles"
   ]
  },
  {
   "cell_type": "code",
   "execution_count": 42,
   "metadata": {
    "autoscroll": false,
    "collapsed": false,
    "ein.hycell": false,
    "ein.tags": "worksheet-0",
    "slideshow": {
     "slide_type": "-"
    }
   },
   "outputs": [],
   "source": [
    "data2.replace('?',np.nan,inplace=True)\n",
    "data2.replace('1',1.,inplace=True)\n",
    "data2.replace('0',0.,inplace=True)\n",
    "data2.replace('2',2.,inplace=True)"
   ]
  },
  {
   "cell_type": "code",
   "execution_count": 43,
   "metadata": {
    "autoscroll": false,
    "collapsed": false,
    "ein.hycell": false,
    "ein.tags": "worksheet-0",
    "slideshow": {
     "slide_type": "-"
    }
   },
   "outputs": [],
   "source": [
    "data2[categorial_columns]=data2[categorial_columns].astype('category')"
   ]
  },
  {
   "cell_type": "code",
   "execution_count": 44,
   "metadata": {
    "autoscroll": false,
    "collapsed": false,
    "ein.hycell": false,
    "ein.tags": "worksheet-0",
    "slideshow": {
     "slide_type": "-"
    }
   },
   "outputs": [],
   "source": [
    "# conversion object => category\n",
    "object_columns = (data2.dtypes == 'object')\n",
    "# index des colonnes categorielles\n",
    "index_object_columns = object_columns.index[object_columns]\n",
    "#conversion\n",
    "data2[index_object_columns]=data2[index_object_columns].astype('category')"
   ]
  },
  {
   "cell_type": "code",
   "execution_count": 45,
   "metadata": {
    "autoscroll": false,
    "collapsed": false,
    "ein.hycell": false,
    "ein.tags": "worksheet-0",
    "slideshow": {
     "slide_type": "-"
    }
   },
   "outputs": [
    {
     "data": {
      "text/plain": [
       "ORDER                           59\nSUPER_ORDER                      8\nACCEPTEDFAMILY                 265\nFAMILY                         308\nFAMILY_CLEAN                   279\nFULLNAME                     15824\nRANK                             4\nGENUS                         3322\nSPECIES                       9824\nCL                               2\nN_CLIMATE                        3\nCLIMATE_ALTITUDE                 2\nCLIMATE_DRY                      2\nCLIMATE_TEMPERATE                2\nCLIMATE_TROPICAL                 2\nN_LIFEFORM                       4\nLIFEFORM_CLIMBING                3\nLIFEFORM_DEATH                   3\nLIFEFORM_ANNUAL                  2\nLIFEFORM_BIENNIAL                2\nLIFEFORM_PERENNIAL               2\nLIFEFORM_GEOPHYTE                2\nLIFEFORM_HYDROPHYTE              2\nLIFEFORM_HELOPHYTE               2\nLIFEFORM_PHANEROPHYTE            2\nLIFEFORM_NANOPHANEROPHYTE        2\nLIFEFORM_HEMICRYPTOPHYTE         2\nLIFEFORM_CHAMAEROPHYTE           2\nLIFEFORM_EPIPHYTE                3\nLIFEFORM_LITHOPHYTE              2\nLIFEFORM_TUBER                   2\nLIFEFORM_RHIZOME                 2\nLIFEFORM_BULB                    2\nLIFEFORM_PSEUDOBULB              2\nLIFEFORM_AQUATIC                 2\nLIFEFORM_SUCCULENT               3\nLIFEFORM_CAUDIFORM               2\nLIFEFORM_PARASITE                2\nLIFEFORM_CAUDEX                  1\nLIFEFORM_PACHYCAUL               2\nLIFEFORM_EXPOSED                 3\nName: unique, dtype: object"
      ]
     },
     "execution_count": 45,
     "metadata": {},
     "output_type": "execute_result"
    }
   ],
   "source": [
    "# nombres de categories par colonne\n",
    "data2.describe(exclude=['float64','int64','bool']).loc['unique']"
   ]
  },
  {
   "cell_type": "markdown",
   "metadata": {
    "ein.tags": "worksheet-0",
    "slideshow": {
     "slide_type": "-"
    }
   },
   "source": [
    "On repère les variables catégorielles avec un grand nombre de catégories pour les supprimer"
   ]
  },
  {
   "cell_type": "code",
   "execution_count": 46,
   "metadata": {
    "autoscroll": false,
    "collapsed": false,
    "ein.hycell": false,
    "ein.tags": "worksheet-0",
    "slideshow": {
     "slide_type": "-"
    }
   },
   "outputs": [],
   "source": [
    "high_cardidality_features_boolean = (data2.describe(exclude=['float64','int64','bool']).loc['unique'] > 100)\n",
    "high_cardidality_features_list = list(high_cardidality_features_boolean.index[high_cardidality_features_boolean])"
   ]
  },
  {
   "cell_type": "code",
   "execution_count": 47,
   "metadata": {
    "autoscroll": false,
    "collapsed": false,
    "ein.hycell": false,
    "ein.tags": "worksheet-0",
    "slideshow": {
     "slide_type": "-"
    }
   },
   "outputs": [],
   "source": [
    "X_with_missing_and_categorical = data2.drop(columns=high_cardidality_features_list)\n",
    "# X_with_missing_and_categorical = data2"
   ]
  },
  {
   "cell_type": "code",
   "execution_count": 49,
   "metadata": {
    "autoscroll": false,
    "collapsed": false,
    "ein.hycell": false,
    "ein.tags": "worksheet-0",
    "slideshow": {
     "slide_type": "-"
    }
   },
   "outputs": [],
   "source": [
    "y = data1['LC'].astype('int')"
   ]
  },
  {
   "cell_type": "markdown",
   "metadata": {
    "ein.tags": "worksheet-0",
    "slideshow": {
     "slide_type": "-"
    }
   },
   "source": [
    "On procède au one-hot encoding des variables catégorielles"
   ]
  },
  {
   "cell_type": "code",
   "execution_count": 50,
   "metadata": {
    "autoscroll": false,
    "collapsed": false,
    "ein.hycell": false,
    "ein.tags": "worksheet-0",
    "slideshow": {
     "slide_type": "-"
    }
   },
   "outputs": [],
   "source": [
    "X_with_missing = pd.get_dummies(X_with_missing_and_categorical)"
   ]
  },
  {
   "cell_type": "markdown",
   "metadata": {
    "ein.tags": "worksheet-0",
    "slideshow": {
     "slide_type": "-"
    }
   },
   "source": [
    "On impute les données manquantes par un algo 5NN"
   ]
  },
  {
   "cell_type": "markdown",
   "metadata": {
    "ein.tags": "worksheet-0",
    "slideshow": {
     "slide_type": "-"
    }
   },
   "source": [
    "On normalise les données"
   ]
  },
  {
   "cell_type": "code",
   "execution_count": 70,
   "metadata": {
    "autoscroll": false,
    "collapsed": false,
    "ein.hycell": false,
    "ein.tags": "worksheet-0",
    "slideshow": {
     "slide_type": "-"
    }
   },
   "outputs": [
    {
     "name": "stderr",
     "output_type": "stream",
     "text": [
      "/usr/lib/python3.7/site-packages/sklearn/preprocessing/data.py:617: DataConversionWarning: Data with input dtype uint8, int64, float64 were all converted to float64 by StandardScaler.\n",
      "  return self.partial_fit(X, y)\n",
      "/usr/lib/python3.7/site-packages/ipykernel_launcher.py:2: DataConversionWarning: Data with input dtype uint8, int64, float64 were all converted to float64 by StandardScaler.\n",
      "  \n"
     ]
    }
   ],
   "source": [
    "from sklearn.preprocessing import StandardScaler\n",
    "X_with_missing = StandardScaler().fit(X_with_missing).transform(X_with_missing)"
   ]
  },
  {
   "cell_type": "code",
   "execution_count": 71,
   "metadata": {
    "autoscroll": false,
    "collapsed": false,
    "ein.hycell": false,
    "ein.tags": "worksheet-0",
    "slideshow": {
     "slide_type": "-"
    }
   },
   "outputs": [
    {
     "name": "stdout",
     "output_type": "stream",
     "text": [
      "Imputing row 1/15824 with 9 missing, elapsed time: 163.661\n",
      "Imputing row 101/15824 with 31 missing, elapsed time: 163.787\n"
     ]
    },
    {
     "name": "stdout",
     "output_type": "stream",
     "text": [
      "Imputing row 201/15824 with 6 missing, elapsed time: 163.924\n",
      "Imputing row 301/15824 with 12 missing, elapsed time: 164.041\n"
     ]
    },
    {
     "name": "stdout",
     "output_type": "stream",
     "text": [
      "Imputing row 401/15824 with 31 missing, elapsed time: 164.161\n",
      "Imputing row 501/15824 with 31 missing, elapsed time: 164.288\n"
     ]
    },
    {
     "name": "stdout",
     "output_type": "stream",
     "text": [
      "Imputing row 601/15824 with 6 missing, elapsed time: 164.431\n",
      "Imputing row 701/15824 with 25 missing, elapsed time: 164.555\n"
     ]
    },
    {
     "name": "stdout",
     "output_type": "stream",
     "text": [
      "Imputing row 801/15824 with 6 missing, elapsed time: 164.676\n",
      "Imputing row 901/15824 with 0 missing, elapsed time: 164.785\n",
      "Imputing row 1001/15824 with 25 missing, elapsed time: 164.865\n"
     ]
    },
    {
     "name": "stdout",
     "output_type": "stream",
     "text": [
      "Imputing row 1101/15824 with 0 missing, elapsed time: 164.963\n",
      "Imputing row 1201/15824 with 0 missing, elapsed time: 165.033\n",
      "Imputing row 1301/15824 with 25 missing, elapsed time: 165.132\n"
     ]
    },
    {
     "name": "stdout",
     "output_type": "stream",
     "text": [
      "Imputing row 1401/15824 with 0 missing, elapsed time: 165.220\n",
      "Imputing row 1501/15824 with 25 missing, elapsed time: 165.341\n"
     ]
    },
    {
     "name": "stdout",
     "output_type": "stream",
     "text": [
      "Imputing row 1601/15824 with 25 missing, elapsed time: 165.462\n",
      "Imputing row 1701/15824 with 0 missing, elapsed time: 165.566\n"
     ]
    },
    {
     "name": "stdout",
     "output_type": "stream",
     "text": [
      "Imputing row 1801/15824 with 2 missing, elapsed time: 165.666\n",
      "Imputing row 1901/15824 with 0 missing, elapsed time: 165.792\n"
     ]
    },
    {
     "name": "stdout",
     "output_type": "stream",
     "text": [
      "Imputing row 2001/15824 with 6 missing, elapsed time: 165.871\n",
      "Imputing row 2101/15824 with 25 missing, elapsed time: 165.966\n",
      "Imputing row 2201/15824 with 0 missing, elapsed time: 166.045\n"
     ]
    },
    {
     "name": "stdout",
     "output_type": "stream",
     "text": [
      "Imputing row 2301/15824 with 25 missing, elapsed time: 166.151\n",
      "Imputing row 2401/15824 with 25 missing, elapsed time: 166.250\n",
      "Imputing row 2501/15824 with 25 missing, elapsed time: 166.351\n"
     ]
    },
    {
     "name": "stdout",
     "output_type": "stream",
     "text": [
      "Imputing row 2601/15824 with 25 missing, elapsed time: 166.426\n",
      "Imputing row 2701/15824 with 25 missing, elapsed time: 166.523\n",
      "Imputing row 2801/15824 with 6 missing, elapsed time: 166.612\n"
     ]
    },
    {
     "name": "stdout",
     "output_type": "stream",
     "text": [
      "Imputing row 2901/15824 with 0 missing, elapsed time: 166.662\n",
      "Imputing row 3001/15824 with 6 missing, elapsed time: 166.727\n",
      "Imputing row 3101/15824 with 0 missing, elapsed time: 166.818\n"
     ]
    },
    {
     "name": "stdout",
     "output_type": "stream",
     "text": [
      "Imputing row 3201/15824 with 12 missing, elapsed time: 166.921\n",
      "Imputing row 3301/15824 with 12 missing, elapsed time: 167.010\n",
      "Imputing row 3401/15824 with 6 missing, elapsed time: 167.088\n"
     ]
    },
    {
     "name": "stdout",
     "output_type": "stream",
     "text": [
      "Imputing row 3501/15824 with 31 missing, elapsed time: 167.207\n",
      "Imputing row 3601/15824 with 0 missing, elapsed time: 167.282\n",
      "Imputing row 3701/15824 with 0 missing, elapsed time: 167.354\n"
     ]
    },
    {
     "name": "stdout",
     "output_type": "stream",
     "text": [
      "Imputing row 3801/15824 with 12 missing, elapsed time: 167.431\n",
      "Imputing row 3901/15824 with 25 missing, elapsed time: 167.579\n"
     ]
    },
    {
     "name": "stdout",
     "output_type": "stream",
     "text": [
      "Imputing row 4001/15824 with 6 missing, elapsed time: 167.703\n",
      "Imputing row 4101/15824 with 6 missing, elapsed time: 167.781\n"
     ]
    },
    {
     "name": "stdout",
     "output_type": "stream",
     "text": [
      "Imputing row 4201/15824 with 6 missing, elapsed time: 167.906\n",
      "Imputing row 4301/15824 with 6 missing, elapsed time: 167.974\n",
      "Imputing row 4401/15824 with 6 missing, elapsed time: 168.071\n"
     ]
    },
    {
     "name": "stdout",
     "output_type": "stream",
     "text": [
      "Imputing row 4501/15824 with 6 missing, elapsed time: 168.137\n",
      "Imputing row 4601/15824 with 6 missing, elapsed time: 168.215\n",
      "Imputing row 4701/15824 with 12 missing, elapsed time: 168.308\n"
     ]
    },
    {
     "name": "stdout",
     "output_type": "stream",
     "text": [
      "Imputing row 4801/15824 with 12 missing, elapsed time: 168.428\n",
      "Imputing row 4901/15824 with 9 missing, elapsed time: 168.541\n",
      "Imputing row 5001/15824 with 0 missing, elapsed time: 168.626\n"
     ]
    },
    {
     "name": "stdout",
     "output_type": "stream",
     "text": [
      "Imputing row 5101/15824 with 31 missing, elapsed time: 168.755\n",
      "Imputing row 5201/15824 with 6 missing, elapsed time: 168.862\n"
     ]
    },
    {
     "name": "stdout",
     "output_type": "stream",
     "text": [
      "Imputing row 5301/15824 with 6 missing, elapsed time: 168.958\n",
      "Imputing row 5401/15824 with 6 missing, elapsed time: 169.103\n"
     ]
    },
    {
     "name": "stdout",
     "output_type": "stream",
     "text": [
      "Imputing row 5501/15824 with 0 missing, elapsed time: 169.211\n",
      "Imputing row 5601/15824 with 31 missing, elapsed time: 169.323\n"
     ]
    },
    {
     "name": "stdout",
     "output_type": "stream",
     "text": [
      "Imputing row 5701/15824 with 6 missing, elapsed time: 169.448\n",
      "Imputing row 5801/15824 with 12 missing, elapsed time: 169.564\n"
     ]
    },
    {
     "name": "stdout",
     "output_type": "stream",
     "text": [
      "Imputing row 5901/15824 with 3 missing, elapsed time: 169.675\n",
      "Imputing row 6001/15824 with 31 missing, elapsed time: 169.780\n"
     ]
    },
    {
     "name": "stdout",
     "output_type": "stream",
     "text": [
      "Imputing row 6101/15824 with 0 missing, elapsed time: 169.907\n",
      "Imputing row 6201/15824 with 9 missing, elapsed time: 170.027\n"
     ]
    },
    {
     "name": "stdout",
     "output_type": "stream",
     "text": [
      "Imputing row 6301/15824 with 31 missing, elapsed time: 170.168\n",
      "Imputing row 6401/15824 with 6 missing, elapsed time: 170.307\n"
     ]
    },
    {
     "name": "stdout",
     "output_type": "stream",
     "text": [
      "Imputing row 6501/15824 with 6 missing, elapsed time: 170.474\n",
      "Imputing row 6601/15824 with 6 missing, elapsed time: 170.564\n"
     ]
    },
    {
     "name": "stdout",
     "output_type": "stream",
     "text": [
      "Imputing row 6701/15824 with 9 missing, elapsed time: 170.713\n",
      "Imputing row 6801/15824 with 25 missing, elapsed time: 170.835\n"
     ]
    },
    {
     "name": "stdout",
     "output_type": "stream",
     "text": [
      "Imputing row 6901/15824 with 6 missing, elapsed time: 170.968\n",
      "Imputing row 7001/15824 with 12 missing, elapsed time: 171.068\n"
     ]
    },
    {
     "name": "stdout",
     "output_type": "stream",
     "text": [
      "Imputing row 7101/15824 with 31 missing, elapsed time: 171.184\n",
      "Imputing row 7201/15824 with 31 missing, elapsed time: 171.311\n"
     ]
    },
    {
     "name": "stdout",
     "output_type": "stream",
     "text": [
      "Imputing row 7301/15824 with 31 missing, elapsed time: 171.465\n",
      "Imputing row 7401/15824 with 31 missing, elapsed time: 171.620\n"
     ]
    },
    {
     "name": "stdout",
     "output_type": "stream",
     "text": [
      "Imputing row 7501/15824 with 31 missing, elapsed time: 171.748\n",
      "Imputing row 7601/15824 with 31 missing, elapsed time: 171.874\n"
     ]
    },
    {
     "name": "stdout",
     "output_type": "stream",
     "text": [
      "Imputing row 7701/15824 with 9 missing, elapsed time: 171.986\n",
      "Imputing row 7801/15824 with 31 missing, elapsed time: 172.111\n"
     ]
    },
    {
     "name": "stdout",
     "output_type": "stream",
     "text": [
      "Imputing row 7901/15824 with 31 missing, elapsed time: 172.231\n",
      "Imputing row 8001/15824 with 31 missing, elapsed time: 172.352\n"
     ]
    },
    {
     "name": "stdout",
     "output_type": "stream",
     "text": [
      "Imputing row 8101/15824 with 31 missing, elapsed time: 172.526\n",
      "Imputing row 8201/15824 with 31 missing, elapsed time: 172.627\n"
     ]
    },
    {
     "name": "stdout",
     "output_type": "stream",
     "text": [
      "Imputing row 8301/15824 with 6 missing, elapsed time: 172.744\n",
      "Imputing row 8401/15824 with 31 missing, elapsed time: 172.863\n"
     ]
    },
    {
     "name": "stdout",
     "output_type": "stream",
     "text": [
      "Imputing row 8501/15824 with 25 missing, elapsed time: 172.992\n",
      "Imputing row 8601/15824 with 0 missing, elapsed time: 173.133\n"
     ]
    },
    {
     "name": "stdout",
     "output_type": "stream",
     "text": [
      "Imputing row 8701/15824 with 6 missing, elapsed time: 173.219\n",
      "Imputing row 8801/15824 with 0 missing, elapsed time: 173.275\n",
      "Imputing row 8901/15824 with 0 missing, elapsed time: 173.375\n"
     ]
    },
    {
     "name": "stdout",
     "output_type": "stream",
     "text": [
      "Imputing row 9001/15824 with 25 missing, elapsed time: 173.450\n",
      "Imputing row 9101/15824 with 25 missing, elapsed time: 173.557\n"
     ]
    },
    {
     "name": "stdout",
     "output_type": "stream",
     "text": [
      "Imputing row 9201/15824 with 25 missing, elapsed time: 173.660\n",
      "Imputing row 9301/15824 with 25 missing, elapsed time: 173.756\n"
     ]
    },
    {
     "name": "stdout",
     "output_type": "stream",
     "text": [
      "Imputing row 9401/15824 with 25 missing, elapsed time: 173.868\n",
      "Imputing row 9501/15824 with 6 missing, elapsed time: 173.995\n"
     ]
    },
    {
     "name": "stdout",
     "output_type": "stream",
     "text": [
      "Imputing row 9601/15824 with 25 missing, elapsed time: 174.080\n",
      "Imputing row 9701/15824 with 25 missing, elapsed time: 174.154\n",
      "Imputing row 9801/15824 with 0 missing, elapsed time: 174.230\n"
     ]
    },
    {
     "name": "stdout",
     "output_type": "stream",
     "text": [
      "Imputing row 9901/15824 with 25 missing, elapsed time: 174.320\n",
      "Imputing row 10001/15824 with 6 missing, elapsed time: 174.413\n",
      "Imputing row 10101/15824 with 25 missing, elapsed time: 174.467\n"
     ]
    },
    {
     "name": "stdout",
     "output_type": "stream",
     "text": [
      "Imputing row 10201/15824 with 25 missing, elapsed time: 174.560\n",
      "Imputing row 10301/15824 with 0 missing, elapsed time: 174.664\n",
      "Imputing row 10401/15824 with 6 missing, elapsed time: 174.750\n"
     ]
    },
    {
     "name": "stdout",
     "output_type": "stream",
     "text": [
      "Imputing row 10501/15824 with 0 missing, elapsed time: 174.811\n",
      "Imputing row 10601/15824 with 0 missing, elapsed time: 174.904\n",
      "Imputing row 10701/15824 with 0 missing, elapsed time: 174.940\n",
      "Imputing row 10801/15824 with 25 missing, elapsed time: 174.998\n"
     ]
    },
    {
     "name": "stdout",
     "output_type": "stream",
     "text": [
      "Imputing row 10901/15824 with 25 missing, elapsed time: 175.117\n",
      "Imputing row 11001/15824 with 25 missing, elapsed time: 175.188\n",
      "Imputing row 11101/15824 with 25 missing, elapsed time: 175.266\n"
     ]
    },
    {
     "name": "stdout",
     "output_type": "stream",
     "text": [
      "Imputing row 11201/15824 with 3 missing, elapsed time: 175.347\n",
      "Imputing row 11301/15824 with 0 missing, elapsed time: 175.422\n"
     ]
    },
    {
     "name": "stdout",
     "output_type": "stream",
     "text": [
      "Imputing row 11401/15824 with 6 missing, elapsed time: 175.554\n",
      "Imputing row 11501/15824 with 12 missing, elapsed time: 175.682\n"
     ]
    },
    {
     "name": "stdout",
     "output_type": "stream",
     "text": [
      "Imputing row 11601/15824 with 31 missing, elapsed time: 175.817\n",
      "Imputing row 11701/15824 with 12 missing, elapsed time: 175.927\n"
     ]
    },
    {
     "name": "stdout",
     "output_type": "stream",
     "text": [
      "Imputing row 11801/15824 with 31 missing, elapsed time: 176.085\n",
      "Imputing row 11901/15824 with 12 missing, elapsed time: 176.228\n"
     ]
    },
    {
     "name": "stdout",
     "output_type": "stream",
     "text": [
      "Imputing row 12001/15824 with 31 missing, elapsed time: 176.391\n",
      "Imputing row 12101/15824 with 31 missing, elapsed time: 176.557\n"
     ]
    },
    {
     "name": "stdout",
     "output_type": "stream",
     "text": [
      "Imputing row 12201/15824 with 12 missing, elapsed time: 176.689\n",
      "Imputing row 12301/15824 with 31 missing, elapsed time: 176.851\n"
     ]
    },
    {
     "name": "stdout",
     "output_type": "stream",
     "text": [
      "Imputing row 12401/15824 with 31 missing, elapsed time: 176.985\n",
      "Imputing row 12501/15824 with 6 missing, elapsed time: 177.104\n"
     ]
    },
    {
     "name": "stdout",
     "output_type": "stream",
     "text": [
      "Imputing row 12601/15824 with 12 missing, elapsed time: 177.238\n",
      "Imputing row 12701/15824 with 31 missing, elapsed time: 177.380\n"
     ]
    },
    {
     "name": "stdout",
     "output_type": "stream",
     "text": [
      "Imputing row 12801/15824 with 31 missing, elapsed time: 177.526\n",
      "Imputing row 12901/15824 with 9 missing, elapsed time: 177.702\n"
     ]
    },
    {
     "name": "stdout",
     "output_type": "stream",
     "text": [
      "Imputing row 13001/15824 with 12 missing, elapsed time: 177.882\n",
      "Imputing row 13101/15824 with 12 missing, elapsed time: 178.045\n"
     ]
    },
    {
     "name": "stdout",
     "output_type": "stream",
     "text": [
      "Imputing row 13201/15824 with 31 missing, elapsed time: 178.181\n",
      "Imputing row 13301/15824 with 12 missing, elapsed time: 178.340\n"
     ]
    },
    {
     "name": "stdout",
     "output_type": "stream",
     "text": [
      "Imputing row 13401/15824 with 31 missing, elapsed time: 178.507\n",
      "Imputing row 13501/15824 with 31 missing, elapsed time: 178.686\n"
     ]
    },
    {
     "name": "stdout",
     "output_type": "stream",
     "text": [
      "Imputing row 13601/15824 with 31 missing, elapsed time: 178.858\n",
      "Imputing row 13701/15824 with 35 missing, elapsed time: 178.986\n"
     ]
    },
    {
     "name": "stdout",
     "output_type": "stream",
     "text": [
      "Imputing row 13801/15824 with 7 missing, elapsed time: 179.087\n",
      "Imputing row 13901/15824 with 35 missing, elapsed time: 179.195\n",
      "Imputing row 14001/15824 with 16 missing, elapsed time: 179.287\n"
     ]
    },
    {
     "name": "stdout",
     "output_type": "stream",
     "text": [
      "Imputing row 14101/15824 with 35 missing, elapsed time: 179.359\n",
      "Imputing row 14201/15824 with 35 missing, elapsed time: 179.479\n"
     ]
    },
    {
     "name": "stdout",
     "output_type": "stream",
     "text": [
      "Imputing row 14301/15824 with 35 missing, elapsed time: 179.566\n",
      "Imputing row 14401/15824 with 35 missing, elapsed time: 179.665\n"
     ]
    },
    {
     "name": "stdout",
     "output_type": "stream",
     "text": [
      "Imputing row 14501/15824 with 10 missing, elapsed time: 179.786\n",
      "Imputing row 14601/15824 with 10 missing, elapsed time: 179.898\n",
      "Imputing row 14701/15824 with 10 missing, elapsed time: 179.939\n"
     ]
    },
    {
     "name": "stdout",
     "output_type": "stream",
     "text": [
      "Imputing row 14801/15824 with 10 missing, elapsed time: 180.018\n",
      "Imputing row 14901/15824 with 35 missing, elapsed time: 180.157\n"
     ]
    },
    {
     "name": "stdout",
     "output_type": "stream",
     "text": [
      "Imputing row 15001/15824 with 35 missing, elapsed time: 180.318\n",
      "Imputing row 15101/15824 with 16 missing, elapsed time: 180.419\n",
      "Imputing row 15201/15824 with 6 missing, elapsed time: 180.504\n"
     ]
    },
    {
     "name": "stdout",
     "output_type": "stream",
     "text": [
      "Imputing row 15301/15824 with 31 missing, elapsed time: 180.612\n",
      "Imputing row 15401/15824 with 12 missing, elapsed time: 180.745\n"
     ]
    },
    {
     "name": "stdout",
     "output_type": "stream",
     "text": [
      "Imputing row 15501/15824 with 31 missing, elapsed time: 180.875\n",
      "Imputing row 15601/15824 with 31 missing, elapsed time: 181.006\n"
     ]
    },
    {
     "name": "stdout",
     "output_type": "stream",
     "text": [
      "Imputing row 15701/15824 with 31 missing, elapsed time: 181.103\n",
      "Imputing row 15801/15824 with 9 missing, elapsed time: 181.233\n"
     ]
    }
   ],
   "source": [
    "from fancyimpute import KNN\n",
    "X = KNN(k=5).fit_transform(X_with_missing)"
   ]
  },
  {
   "cell_type": "markdown",
   "metadata": {
    "ein.tags": "worksheet-0",
    "slideshow": {
     "slide_type": "-"
    }
   },
   "source": [
    "On crée des échantillons de test et d'apprentissage"
   ]
  },
  {
   "cell_type": "code",
   "execution_count": 72,
   "metadata": {
    "autoscroll": false,
    "collapsed": false,
    "ein.hycell": false,
    "ein.tags": "worksheet-0",
    "slideshow": {
     "slide_type": "-"
    }
   },
   "outputs": [],
   "source": [
    "from sklearn.model_selection import train_test_split\n",
    "X_train, X_test, y_train, y_test = train_test_split(X,y)"
   ]
  },
  {
   "cell_type": "markdown",
   "metadata": {
    "ein.tags": "worksheet-0",
    "slideshow": {
     "slide_type": "-"
    }
   },
   "source": [
    "# Régression logistique"
   ]
  },
  {
   "cell_type": "code",
   "execution_count": 73,
   "metadata": {
    "autoscroll": false,
    "collapsed": false,
    "ein.hycell": false,
    "ein.tags": "worksheet-0",
    "slideshow": {
     "slide_type": "-"
    }
   },
   "outputs": [],
   "source": [
    "from sklearn.linear_model import LogisticRegression, LogisticRegressionCV\n",
    "from sklearn.model_selection import StratifiedKFold"
   ]
  },
  {
   "cell_type": "markdown",
   "metadata": {
    "ein.tags": "worksheet-0",
    "slideshow": {
     "slide_type": "-"
    }
   },
   "source": [
    "## Régularisation l1, paramètre de régularisation choisi par validation croisée"
   ]
  },
  {
   "cell_type": "markdown",
   "metadata": {
    "ein.tags": "worksheet-0",
    "slideshow": {
     "slide_type": "-"
    }
   },
   "source": [
    "Premier test"
   ]
  },
  {
   "cell_type": "code",
   "execution_count": 86,
   "metadata": {
    "autoscroll": false,
    "collapsed": false,
    "ein.hycell": false,
    "ein.tags": "worksheet-0",
    "slideshow": {
     "slide_type": "-"
    }
   },
   "outputs": [
    {
     "name": "stderr",
     "output_type": "stream",
     "text": [
      "/usr/lib/python3.7/site-packages/sklearn/linear_model/sag.py:334: ConvergenceWarning: The max_iter was reached which means the coef_ did not converge\n",
      "  \"the coef_ did not converge\", ConvergenceWarning)\n"
     ]
    },
    {
     "data": {
      "text/plain": [
       "0.7909504550050556"
      ]
     },
     "execution_count": 86,
     "metadata": {},
     "output_type": "execute_result"
    }
   ],
   "source": [
    "LogisticRegression(solver='saga',penalty='l1').fit(X_train,y_train).score(X_test,y_test)"
   ]
  },
  {
   "cell_type": "markdown",
   "metadata": {
    "ein.tags": "worksheet-0",
    "slideshow": {
     "slide_type": "-"
    }
   },
   "source": [
    "Fine-tuning"
   ]
  },
  {
   "cell_type": "code",
   "execution_count": 87,
   "metadata": {
    "autoscroll": false,
    "collapsed": false,
    "ein.hycell": false,
    "ein.tags": "worksheet-0",
    "slideshow": {
     "slide_type": "-"
    }
   },
   "outputs": [
    {
     "name": "stderr",
     "output_type": "stream",
     "text": [
      "[Parallel(n_jobs=-1)]: Using backend ThreadingBackend with 12 concurrent workers.\n"
     ]
    },
    {
     "name": "stdout",
     "output_type": "stream",
     "text": [
      "max_iter reached after 5 seconds\n"
     ]
    },
    {
     "name": "stderr",
     "output_type": "stream",
     "text": [
      "/usr/lib/python3.7/site-packages/sklearn/linear_model/sag.py:334: ConvergenceWarning: The max_iter was reached which means the coef_ did not converge\n",
      "  \"the coef_ did not converge\", ConvergenceWarning)\n"
     ]
    },
    {
     "name": "stdout",
     "output_type": "stream",
     "text": [
      "max_iter reached after 5 seconds\n",
      "max_iter reached after 5 seconds\n",
      "max_iter reached after 6 seconds\n",
      "max_iter reached after 6 seconds\n"
     ]
    },
    {
     "name": "stdout",
     "output_type": "stream",
     "text": [
      "max_iter reached after 6 seconds\n",
      "max_iter reached after 6 seconds\n"
     ]
    },
    {
     "name": "stdout",
     "output_type": "stream",
     "text": [
      "max_iter reached after 6 seconds\n",
      "max_iter reached after 5 seconds\n"
     ]
    },
    {
     "name": "stdout",
     "output_type": "stream",
     "text": [
      "max_iter reached after 6 seconds\n"
     ]
    },
    {
     "name": "stdout",
     "output_type": "stream",
     "text": [
      "max_iter reached after 6 seconds\n",
      "max_iter reached after 6 seconds\n"
     ]
    },
    {
     "name": "stdout",
     "output_type": "stream",
     "text": [
      "max_iter reached after 7 seconds\n",
      "max_iter reached after 7 seconds\n"
     ]
    },
    {
     "name": "stdout",
     "output_type": "stream",
     "text": [
      "max_iter reached after 6 seconds\n"
     ]
    },
    {
     "name": "stdout",
     "output_type": "stream",
     "text": [
      "max_iter reached after 6 seconds\n",
      "max_iter reached after 7 seconds\n"
     ]
    },
    {
     "name": "stdout",
     "output_type": "stream",
     "text": [
      "max_iter reached after 6 seconds\n",
      "max_iter reached after 6 seconds\n"
     ]
    },
    {
     "name": "stdout",
     "output_type": "stream",
     "text": [
      "max_iter reached after 6 seconds\n"
     ]
    },
    {
     "name": "stdout",
     "output_type": "stream",
     "text": [
      "max_iter reached after 7 seconds\n",
      "max_iter reached after 6 seconds\n"
     ]
    },
    {
     "name": "stdout",
     "output_type": "stream",
     "text": [
      "max_iter reached after 6 seconds\n",
      "max_iter reached after 6 seconds\n"
     ]
    },
    {
     "name": "stdout",
     "output_type": "stream",
     "text": [
      "max_iter reached after 6 seconds\n"
     ]
    },
    {
     "name": "stdout",
     "output_type": "stream",
     "text": [
      "max_iter reached after 6 seconds\n",
      "max_iter reached after 6 seconds\n",
      "max_iter reached after 6 seconds\n"
     ]
    },
    {
     "name": "stdout",
     "output_type": "stream",
     "text": [
      "max_iter reached after 6 seconds\n"
     ]
    },
    {
     "name": "stdout",
     "output_type": "stream",
     "text": [
      "max_iter reached after 6 seconds\n"
     ]
    },
    {
     "name": "stdout",
     "output_type": "stream",
     "text": [
      "max_iter reached after 6 seconds\n",
      "max_iter reached after 6 seconds\n"
     ]
    },
    {
     "name": "stdout",
     "output_type": "stream",
     "text": [
      "max_iter reached after 6 seconds\n",
      "max_iter reached after 6 seconds\n"
     ]
    },
    {
     "name": "stdout",
     "output_type": "stream",
     "text": [
      "max_iter reached after 7 seconds\n"
     ]
    },
    {
     "name": "stdout",
     "output_type": "stream",
     "text": [
      "max_iter reached after 6 seconds\n",
      "max_iter reached after 6 seconds\n"
     ]
    },
    {
     "name": "stdout",
     "output_type": "stream",
     "text": [
      "max_iter reached after 7 seconds\n",
      "max_iter reached after 7 seconds\n"
     ]
    },
    {
     "name": "stdout",
     "output_type": "stream",
     "text": [
      "max_iter reached after 6 seconds\n"
     ]
    },
    {
     "name": "stdout",
     "output_type": "stream",
     "text": [
      "max_iter reached after 7 seconds\n",
      "max_iter reached after 7 seconds\n",
      "max_iter reached after 6 seconds\n",
      "max_iter reached after 6 seconds\n"
     ]
    },
    {
     "name": "stdout",
     "output_type": "stream",
     "text": [
      "max_iter reached after 6 seconds\n"
     ]
    },
    {
     "name": "stdout",
     "output_type": "stream",
     "text": [
      "max_iter reached after 6 seconds\n",
      "max_iter reached after 6 seconds\n",
      "max_iter reached after 6 seconds\n"
     ]
    },
    {
     "name": "stderr",
     "output_type": "stream",
     "text": [
      "/usr/lib/python3.7/site-packages/sklearn/linear_model/sag.py:334: ConvergenceWarning: The max_iter was reached which means the coef_ did not converge\n",
      "  \"the coef_ did not converge\", ConvergenceWarning)\n",
      "[Parallel(n_jobs=-1)]: Done   2 out of   5 | elapsed:  1.0min remaining:  1.5min\n",
      "/usr/lib/python3.7/site-packages/sklearn/linear_model/sag.py:334: ConvergenceWarning: The max_iter was reached which means the coef_ did not converge\n",
      "  \"the coef_ did not converge\", ConvergenceWarning)\n",
      "/usr/lib/python3.7/site-packages/sklearn/linear_model/sag.py:334: ConvergenceWarning: The max_iter was reached which means the coef_ did not converge\n",
      "  \"the coef_ did not converge\", ConvergenceWarning)\n"
     ]
    },
    {
     "name": "stdout",
     "output_type": "stream",
     "text": [
      "max_iter reached after 6 seconds\n"
     ]
    },
    {
     "name": "stdout",
     "output_type": "stream",
     "text": [
      "max_iter reached after 6 seconds\n"
     ]
    },
    {
     "name": "stderr",
     "output_type": "stream",
     "text": [
      "/usr/lib/python3.7/site-packages/sklearn/linear_model/sag.py:334: ConvergenceWarning: The max_iter was reached which means the coef_ did not converge\n",
      "  \"the coef_ did not converge\", ConvergenceWarning)\n",
      "[Parallel(n_jobs=-1)]: Done   5 out of   5 | elapsed:  1.0min finished\n"
     ]
    },
    {
     "name": "stdout",
     "output_type": "stream",
     "text": [
      "max_iter reached after 3 seconds\n",
      "Train score:  0.8088978766430738\n",
      "Test score:  0.7939838220424671\n"
     ]
    },
    {
     "name": "stderr",
     "output_type": "stream",
     "text": [
      "/usr/lib/python3.7/site-packages/sklearn/linear_model/sag.py:334: ConvergenceWarning: The max_iter was reached which means the coef_ did not converge\n",
      "  \"the coef_ did not converge\", ConvergenceWarning)\n"
     ]
    }
   ],
   "source": [
    "logregcvl1 = LogisticRegressionCV(solver='saga',penalty='l1',Cs=np.logspace(10,20,10),cv=5,n_jobs=-1,verbose=3).fit(X_train,y_train)\n",
    "print('Train score: ',logregcvl1.score(X_train,y_train))\n",
    "print('Test score: ',logregcvl1.score(X_test,y_test))"
   ]
  },
  {
   "cell_type": "markdown",
   "metadata": {
    "ein.tags": "worksheet-0",
    "slideshow": {
     "slide_type": "-"
    }
   },
   "source": [
    "## Idem avec régularisation l2"
   ]
  },
  {
   "cell_type": "markdown",
   "metadata": {
    "ein.tags": "worksheet-0",
    "slideshow": {
     "slide_type": "-"
    }
   },
   "source": [
    "Premier test"
   ]
  },
  {
   "cell_type": "code",
   "execution_count": 88,
   "metadata": {
    "autoscroll": false,
    "collapsed": false,
    "ein.hycell": false,
    "ein.tags": "worksheet-0",
    "slideshow": {
     "slide_type": "-"
    }
   },
   "outputs": [
    {
     "name": "stderr",
     "output_type": "stream",
     "text": [
      "/usr/lib/python3.7/site-packages/sklearn/linear_model/sag.py:334: ConvergenceWarning: The max_iter was reached which means the coef_ did not converge\n",
      "  \"the coef_ did not converge\", ConvergenceWarning)\n"
     ]
    },
    {
     "data": {
      "text/plain": [
       "0.788928210313448"
      ]
     },
     "execution_count": 88,
     "metadata": {},
     "output_type": "execute_result"
    }
   ],
   "source": [
    "LogisticRegression(solver='saga',penalty='l2').fit(X_train,y_train).score(X_test,y_test)"
   ]
  },
  {
   "cell_type": "markdown",
   "metadata": {
    "ein.tags": "worksheet-0",
    "slideshow": {
     "slide_type": "-"
    }
   },
   "source": [
    "Fine-tuning"
   ]
  },
  {
   "cell_type": "code",
   "execution_count": 89,
   "metadata": {
    "autoscroll": false,
    "collapsed": false,
    "ein.hycell": false,
    "ein.tags": "worksheet-0",
    "slideshow": {
     "slide_type": "-"
    }
   },
   "outputs": [
    {
     "name": "stderr",
     "output_type": "stream",
     "text": [
      "[Parallel(n_jobs=-1)]: Using backend ThreadingBackend with 12 concurrent workers.\n"
     ]
    },
    {
     "name": "stdout",
     "output_type": "stream",
     "text": [
      "max_iter reached after 10 seconds\n",
      "max_iter reached after 10 seconds\n",
      "max_iter reached after 10 seconds\n",
      "max_iter reached after 10 seconds\n",
      "max_iter reached after 10 seconds\n"
     ]
    },
    {
     "name": "stderr",
     "output_type": "stream",
     "text": [
      "/usr/lib/python3.7/site-packages/sklearn/linear_model/sag.py:334: ConvergenceWarning: The max_iter was reached which means the coef_ did not converge\n",
      "  \"the coef_ did not converge\", ConvergenceWarning)\n"
     ]
    },
    {
     "name": "stdout",
     "output_type": "stream",
     "text": [
      "max_iter reached after 10 seconds\n",
      "max_iter reached after 10 seconds\n",
      "max_iter reached after 10 seconds\n",
      "max_iter reached after 10 seconds\n",
      "max_iter reached after 10 seconds\n"
     ]
    },
    {
     "name": "stdout",
     "output_type": "stream",
     "text": [
      "max_iter reached after 10 seconds\n",
      "max_iter reached after 10 seconds\n",
      "max_iter reached after 10 seconds\n",
      "max_iter reached after 10 seconds\n",
      "max_iter reached after 10 seconds\n"
     ]
    },
    {
     "name": "stdout",
     "output_type": "stream",
     "text": [
      "max_iter reached after 10 seconds\n",
      "max_iter reached after 10 seconds\n",
      "max_iter reached after 10 seconds\n",
      "max_iter reached after 10 seconds\n",
      "max_iter reached after 11 seconds\n"
     ]
    },
    {
     "name": "stdout",
     "output_type": "stream",
     "text": [
      "max_iter reached after 10 seconds\n",
      "max_iter reached after 11 seconds\n",
      "max_iter reached after 11 seconds\n",
      "max_iter reached after 11 seconds\n",
      "max_iter reached after 10 seconds\n"
     ]
    },
    {
     "name": "stdout",
     "output_type": "stream",
     "text": [
      "max_iter reached after 11 seconds\n",
      "max_iter reached after 10 seconds\n",
      "max_iter reached after 10 seconds\n",
      "max_iter reached after 10 seconds\n"
     ]
    },
    {
     "name": "stdout",
     "output_type": "stream",
     "text": [
      "max_iter reached after 10 seconds\n"
     ]
    },
    {
     "name": "stdout",
     "output_type": "stream",
     "text": [
      "max_iter reached after 10 seconds\n",
      "max_iter reached after 10 seconds\n",
      "max_iter reached after 10 seconds\n",
      "max_iter reached after 10 seconds\n"
     ]
    },
    {
     "name": "stdout",
     "output_type": "stream",
     "text": [
      "max_iter reached after 10 seconds\n"
     ]
    },
    {
     "name": "stdout",
     "output_type": "stream",
     "text": [
      "max_iter reached after 10 seconds\n",
      "max_iter reached after 10 seconds\n",
      "max_iter reached after 10 seconds\n",
      "max_iter reached after 10 seconds\n"
     ]
    },
    {
     "name": "stdout",
     "output_type": "stream",
     "text": [
      "max_iter reached after 10 seconds\n"
     ]
    },
    {
     "name": "stdout",
     "output_type": "stream",
     "text": [
      "max_iter reached after 10 seconds\n",
      "max_iter reached after 10 seconds\n",
      "max_iter reached after 10 seconds\n",
      "max_iter reached after 10 seconds\n"
     ]
    },
    {
     "name": "stdout",
     "output_type": "stream",
     "text": [
      "max_iter reached after 10 seconds\n"
     ]
    },
    {
     "name": "stdout",
     "output_type": "stream",
     "text": [
      "max_iter reached after 10 seconds\n",
      "max_iter reached after 10 seconds\n",
      "max_iter reached after 10 seconds\n",
      "max_iter reached after 10 seconds\n",
      "max_iter reached after 10 seconds\n"
     ]
    },
    {
     "name": "stderr",
     "output_type": "stream",
     "text": [
      "/usr/lib/python3.7/site-packages/sklearn/linear_model/sag.py:334: ConvergenceWarning: The max_iter was reached which means the coef_ did not converge\n",
      "  \"the coef_ did not converge\", ConvergenceWarning)\n",
      "/usr/lib/python3.7/site-packages/sklearn/linear_model/sag.py:334: ConvergenceWarning: The max_iter was reached which means the coef_ did not converge\n",
      "  \"the coef_ did not converge\", ConvergenceWarning)\n",
      "[Parallel(n_jobs=-1)]: Done   2 out of   5 | elapsed:  1.7min remaining:  2.5min\n",
      "/usr/lib/python3.7/site-packages/sklearn/linear_model/sag.py:334: ConvergenceWarning: The max_iter was reached which means the coef_ did not converge\n",
      "  \"the coef_ did not converge\", ConvergenceWarning)\n",
      "/usr/lib/python3.7/site-packages/sklearn/linear_model/sag.py:334: ConvergenceWarning: The max_iter was reached which means the coef_ did not converge\n",
      "  \"the coef_ did not converge\", ConvergenceWarning)\n",
      "[Parallel(n_jobs=-1)]: Done   5 out of   5 | elapsed:  1.7min finished\n"
     ]
    },
    {
     "name": "stdout",
     "output_type": "stream",
     "text": [
      "max_iter reached after 2 seconds\n",
      "Train score:  0.8087293562521065\n",
      "Test score:  0.7934782608695652\n"
     ]
    },
    {
     "name": "stderr",
     "output_type": "stream",
     "text": [
      "/usr/lib/python3.7/site-packages/sklearn/linear_model/sag.py:334: ConvergenceWarning: The max_iter was reached which means the coef_ did not converge\n",
      "  \"the coef_ did not converge\", ConvergenceWarning)\n"
     ]
    }
   ],
   "source": [
    "logregcvl2 = LogisticRegressionCV(solver='saga',penalty='l2',Cs=np.logspace(5,10,10),cv=5,n_jobs=-1,verbose=3).fit(X_train,y_train)\n",
    "print('Train score: ',logregcvl2.score(X_train,y_train))\n",
    "print('Test score: ',logregcvl2.score(X_test,y_test))"
   ]
  },
  {
   "cell_type": "markdown",
   "metadata": {
    "ein.tags": "worksheet-0",
    "slideshow": {
     "slide_type": "-"
    }
   },
   "source": [
    "# SVM"
   ]
  },
  {
   "cell_type": "code",
   "execution_count": 90,
   "metadata": {
    "autoscroll": false,
    "collapsed": false,
    "ein.hycell": false,
    "ein.tags": "worksheet-0",
    "slideshow": {
     "slide_type": "-"
    }
   },
   "outputs": [],
   "source": [
    "from sklearn.svm import LinearSVC, SVC"
   ]
  },
  {
   "cell_type": "markdown",
   "metadata": {
    "ein.tags": "worksheet-0",
    "slideshow": {
     "slide_type": "-"
    }
   },
   "source": [
    "## Linéaire"
   ]
  },
  {
   "cell_type": "markdown",
   "metadata": {
    "ein.tags": "worksheet-0",
    "slideshow": {
     "slide_type": "-"
    }
   },
   "source": [
    "Premiers essais"
   ]
  },
  {
   "cell_type": "code",
   "execution_count": 91,
   "metadata": {
    "autoscroll": false,
    "collapsed": false,
    "ein.hycell": false,
    "ein.tags": "worksheet-0",
    "slideshow": {
     "slide_type": "-"
    }
   },
   "outputs": [
    {
     "name": "stdout",
     "output_type": "stream",
     "text": [
      "0.7934782608695652\n"
     ]
    },
    {
     "name": "stderr",
     "output_type": "stream",
     "text": [
      "/usr/lib/python3.7/site-packages/sklearn/svm/base.py:922: ConvergenceWarning: Liblinear failed to converge, increase the number of iterations.\n",
      "  \"the number of iterations.\", ConvergenceWarning)\n"
     ]
    }
   ],
   "source": [
    "print(LinearSVC(penalty='l1',dual=False).fit(X_train,y_train).score(X_test,y_test))"
   ]
  },
  {
   "cell_type": "code",
   "execution_count": 92,
   "metadata": {
    "autoscroll": false,
    "collapsed": false,
    "ein.hycell": false,
    "ein.tags": "worksheet-0",
    "slideshow": {
     "slide_type": "-"
    }
   },
   "outputs": [
    {
     "name": "stdout",
     "output_type": "stream",
     "text": [
      "0.788928210313448\n"
     ]
    },
    {
     "name": "stderr",
     "output_type": "stream",
     "text": [
      "/usr/lib/python3.7/site-packages/sklearn/svm/base.py:922: ConvergenceWarning: Liblinear failed to converge, increase the number of iterations.\n",
      "  \"the number of iterations.\", ConvergenceWarning)\n"
     ]
    }
   ],
   "source": [
    "print(LinearSVC(penalty='l2').fit(X_train,y_train).score(X_test,y_test))"
   ]
  },
  {
   "cell_type": "markdown",
   "metadata": {
    "ein.tags": "worksheet-0",
    "slideshow": {
     "slide_type": "-"
    }
   },
   "source": [
    "Fine-tuning"
   ]
  },
  {
   "cell_type": "code",
   "execution_count": 93,
   "metadata": {
    "autoscroll": false,
    "collapsed": false,
    "ein.hycell": false,
    "ein.tags": "worksheet-0",
    "slideshow": {
     "slide_type": "-"
    }
   },
   "outputs": [
    {
     "name": "stdout",
     "output_type": "stream",
     "text": [
      "Fitting 5 folds for each of 10 candidates, totalling 50 fits\n"
     ]
    },
    {
     "name": "stderr",
     "output_type": "stream",
     "text": [
      "[Parallel(n_jobs=-1)]: Using backend LokyBackend with 12 concurrent workers.\n"
     ]
    },
    {
     "name": "stderr",
     "output_type": "stream",
     "text": [
      "[Parallel(n_jobs=-1)]: Done   8 tasks      | elapsed:   11.6s\n"
     ]
    },
    {
     "name": "stderr",
     "output_type": "stream",
     "text": [
      "[Parallel(n_jobs=-1)]: Done  44 out of  50 | elapsed:   51.6s remaining:    7.0s\n"
     ]
    },
    {
     "name": "stderr",
     "output_type": "stream",
     "text": [
      "[Parallel(n_jobs=-1)]: Done  50 out of  50 | elapsed:   56.4s finished\n"
     ]
    },
    {
     "name": "stdout",
     "output_type": "stream",
     "text": [
      "Train score: 0.8088136164475902\n",
      "Test score: 0.7937310414560161\n"
     ]
    },
    {
     "name": "stderr",
     "output_type": "stream",
     "text": [
      "/usr/lib/python3.7/site-packages/sklearn/svm/base.py:922: ConvergenceWarning: Liblinear failed to converge, increase the number of iterations.\n",
      "  \"the number of iterations.\", ConvergenceWarning)\n"
     ]
    }
   ],
   "source": [
    "svclinl1 = GridSearchCV(LinearSVC(penalty='l1',dual=False), param_grid={'C':np.logspace(-1,4,10)}, cv=5,n_jobs=-1,verbose=3).fit(X_train,y_train)\n",
    "print('Train score:',svclinl1.score(X_train,y_train))\n",
    "print('Test score:',svclinl1.score(X_test,y_test))"
   ]
  },
  {
   "cell_type": "code",
   "execution_count": 94,
   "metadata": {
    "autoscroll": false,
    "collapsed": false,
    "ein.hycell": false,
    "ein.tags": "worksheet-0",
    "slideshow": {
     "slide_type": "-"
    }
   },
   "outputs": [
    {
     "name": "stderr",
     "output_type": "stream",
     "text": [
      "[Parallel(n_jobs=-1)]: Using backend LokyBackend with 12 concurrent workers.\n"
     ]
    },
    {
     "name": "stdout",
     "output_type": "stream",
     "text": [
      "Fitting 5 folds for each of 10 candidates, totalling 50 fits\n"
     ]
    },
    {
     "name": "stderr",
     "output_type": "stream",
     "text": [
      "[Parallel(n_jobs=-1)]: Done   8 tasks      | elapsed:    0.5s\n"
     ]
    },
    {
     "name": "stderr",
     "output_type": "stream",
     "text": [
      "[Parallel(n_jobs=-1)]: Done  44 out of  50 | elapsed:   25.7s remaining:    3.5s\n"
     ]
    },
    {
     "name": "stderr",
     "output_type": "stream",
     "text": [
      "[Parallel(n_jobs=-1)]: Done  50 out of  50 | elapsed:   27.1s finished\n"
     ]
    },
    {
     "name": "stdout",
     "output_type": "stream",
     "text": [
      "Train score: 0.8090663970340412\n",
      "Test score: 0.7937310414560161\n"
     ]
    },
    {
     "name": "stderr",
     "output_type": "stream",
     "text": [
      "/usr/lib/python3.7/site-packages/sklearn/svm/base.py:922: ConvergenceWarning: Liblinear failed to converge, increase the number of iterations.\n",
      "  \"the number of iterations.\", ConvergenceWarning)\n"
     ]
    }
   ],
   "source": [
    "svclinl2 = GridSearchCV(LinearSVC(penalty='l2'), param_grid={'C':np.logspace(-5,0,10)}, cv=5,n_jobs=-1,verbose=3).fit(X_train,y_train)\n",
    "print('Train score:',svclinl2.score(X_train,y_train))\n",
    "print('Test score:',svclinl2.score(X_test,y_test))"
   ]
  },
  {
   "cell_type": "markdown",
   "metadata": {
    "ein.tags": "worksheet-0",
    "slideshow": {
     "slide_type": "-"
    }
   },
   "source": [
    "## Polynômial de degré 3"
   ]
  },
  {
   "cell_type": "code",
   "execution_count": 95,
   "metadata": {
    "autoscroll": false,
    "collapsed": false,
    "ein.hycell": false,
    "ein.tags": "worksheet-0",
    "slideshow": {
     "slide_type": "-"
    }
   },
   "outputs": [
    {
     "name": "stderr",
     "output_type": "stream",
     "text": [
      "[Parallel(n_jobs=-1)]: Using backend LokyBackend with 12 concurrent workers.\n"
     ]
    },
    {
     "name": "stdout",
     "output_type": "stream",
     "text": [
      "Fitting 3 folds for each of 5 candidates, totalling 15 fits\n"
     ]
    },
    {
     "name": "stderr",
     "output_type": "stream",
     "text": [
      "[Parallel(n_jobs=-1)]: Done   4 out of  15 | elapsed:   41.5s remaining:  1.9min\n"
     ]
    },
    {
     "name": "stderr",
     "output_type": "stream",
     "text": [
      "[Parallel(n_jobs=-1)]: Done  10 out of  15 | elapsed:   47.0s remaining:   23.5s\n"
     ]
    },
    {
     "name": "stderr",
     "output_type": "stream",
     "text": [
      "[Parallel(n_jobs=-1)]: Done  15 out of  15 | elapsed:  1.0min finished\n"
     ]
    },
    {
     "name": "stdout",
     "output_type": "stream",
     "text": [
      "Train score: 0.8394000674081564\n"
     ]
    },
    {
     "name": "stdout",
     "output_type": "stream",
     "text": [
      "Test score: 0.7934782608695652\n"
     ]
    }
   ],
   "source": [
    "svcpoly = GridSearchCV(SVC(kernel='poly',degree=3,gamma='scale',coef0=1), param_grid={'C':np.logspace(-2,2,5)},n_jobs=-1,verbose=3,cv=3).fit(X_train,y_train)\n",
    "print('Train score:',svcpoly.score(X_train,y_train))\n",
    "print('Test score:',svcpoly.score(X_test,y_test))"
   ]
  },
  {
   "cell_type": "markdown",
   "metadata": {
    "ein.tags": "worksheet-0",
    "slideshow": {
     "slide_type": "-"
    }
   },
   "source": [
    "# Random Forests"
   ]
  },
  {
   "cell_type": "code",
   "execution_count": 96,
   "metadata": {
    "autoscroll": false,
    "collapsed": false,
    "ein.hycell": false,
    "ein.tags": "worksheet-0",
    "slideshow": {
     "slide_type": "-"
    }
   },
   "outputs": [],
   "source": [
    "from sklearn.ensemble import RandomForestClassifier"
   ]
  },
  {
   "cell_type": "markdown",
   "metadata": {
    "ein.tags": "worksheet-0",
    "slideshow": {
     "slide_type": "-"
    }
   },
   "source": [
    "Premier essai"
   ]
  },
  {
   "cell_type": "code",
   "execution_count": 97,
   "metadata": {
    "autoscroll": false,
    "collapsed": false,
    "ein.hycell": false,
    "ein.tags": "worksheet-0",
    "slideshow": {
     "slide_type": "-"
    }
   },
   "outputs": [
    {
     "name": "stdout",
     "output_type": "stream",
     "text": [
      "0.7798281092012134\n"
     ]
    },
    {
     "name": "stderr",
     "output_type": "stream",
     "text": [
      "/usr/lib/python3.7/site-packages/sklearn/ensemble/forest.py:248: FutureWarning: The default value of n_estimators will change from 10 in version 0.20 to 100 in 0.22.\n",
      "  \"10 in version 0.20 to 100 in 0.22.\", FutureWarning)\n"
     ]
    }
   ],
   "source": [
    "print(RandomForestClassifier().fit(X_train,y_train).score(X_test,y_test))"
   ]
  },
  {
   "cell_type": "markdown",
   "metadata": {
    "ein.tags": "worksheet-0",
    "slideshow": {
     "slide_type": "-"
    }
   },
   "source": [
    "Fine-tuning"
   ]
  },
  {
   "cell_type": "code",
   "execution_count": 98,
   "metadata": {
    "autoscroll": false,
    "collapsed": false,
    "ein.hycell": false,
    "ein.tags": "worksheet-0",
    "slideshow": {
     "slide_type": "-"
    }
   },
   "outputs": [
    {
     "name": "stderr",
     "output_type": "stream",
     "text": [
      "[Parallel(n_jobs=-1)]: Using backend LokyBackend with 12 concurrent workers.\n"
     ]
    },
    {
     "name": "stdout",
     "output_type": "stream",
     "text": [
      "Fitting 5 folds for each of 18 candidates, totalling 90 fits\n"
     ]
    },
    {
     "name": "stderr",
     "output_type": "stream",
     "text": [
      "[Parallel(n_jobs=-1)]: Done   8 tasks      | elapsed:    2.9s\n"
     ]
    },
    {
     "name": "stderr",
     "output_type": "stream",
     "text": [
      "[Parallel(n_jobs=-1)]: Done  90 out of  90 | elapsed:   34.8s finished\n"
     ]
    },
    {
     "name": "stdout",
     "output_type": "stream",
     "text": [
      "Training score:  0.9657903606336367\n",
      "Test score:  0.7980283114256825\n"
     ]
    }
   ],
   "source": [
    "rf = GridSearchCV(RandomForestClassifier(n_estimators=100), param_grid={'criterion':['gini','entropy'], 'max_depth':[10,20,50], 'max_features':[10,20,40]},n_jobs=-1,verbose=3,cv=5).fit(X_train,y_train)\n",
    "print('Training score: ',rf.score(X_train,y_train))\n",
    "print(\"Test score: \",rf.score(X_test,y_test))"
   ]
  },
  {
   "cell_type": "markdown",
   "metadata": {
    "ein.tags": "worksheet-0",
    "slideshow": {
     "slide_type": "-"
    }
   },
   "source": [
    "# Gradient Boosting"
   ]
  },
  {
   "cell_type": "markdown",
   "metadata": {
    "ein.tags": "worksheet-0",
    "slideshow": {
     "slide_type": "-"
    }
   },
   "source": [
    "Premier essai"
   ]
  },
  {
   "cell_type": "code",
   "execution_count": 99,
   "metadata": {
    "autoscroll": false,
    "collapsed": false,
    "ein.hycell": false,
    "ein.tags": "worksheet-0",
    "slideshow": {
     "slide_type": "-"
    }
   },
   "outputs": [
    {
     "name": "stdout",
     "output_type": "stream",
     "text": [
      "0.8008088978766431\n"
     ]
    }
   ],
   "source": [
    "from sklearn.ensemble import GradientBoostingClassifier\n",
    "print(GradientBoostingClassifier().fit(X_train,y_train).score(X_test,y_test))"
   ]
  },
  {
   "cell_type": "markdown",
   "metadata": {
    "ein.tags": "worksheet-0",
    "slideshow": {
     "slide_type": "-"
    }
   },
   "source": [
    "Fine-tuning"
   ]
  },
  {
   "cell_type": "code",
   "execution_count": 100,
   "metadata": {
    "autoscroll": false,
    "collapsed": false,
    "ein.hycell": false,
    "ein.tags": "worksheet-0",
    "slideshow": {
     "slide_type": "-"
    }
   },
   "outputs": [
    {
     "name": "stdout",
     "output_type": "stream",
     "text": [
      "Fitting 5 folds for each of 10 candidates, totalling 50 fits\n"
     ]
    },
    {
     "name": "stderr",
     "output_type": "stream",
     "text": [
      "[Parallel(n_jobs=-1)]: Using backend LokyBackend with 12 concurrent workers.\n"
     ]
    },
    {
     "name": "stderr",
     "output_type": "stream",
     "text": [
      "[Parallel(n_jobs=-1)]: Done   8 tasks      | elapsed:  3.2min\n"
     ]
    },
    {
     "name": "stderr",
     "output_type": "stream",
     "text": [
      "[Parallel(n_jobs=-1)]: Done  44 out of  50 | elapsed: 10.6min remaining:  1.4min\n"
     ]
    },
    {
     "name": "stderr",
     "output_type": "stream",
     "text": [
      "[Parallel(n_jobs=-1)]: Done  50 out of  50 | elapsed: 11.3min finished\n"
     ]
    },
    {
     "name": "stdout",
     "output_type": "stream",
     "text": [
      "Train score: 0.9825581395348837\n",
      "Test score: 0.7874115267947421\n"
     ]
    }
   ],
   "source": [
    "gb = GridSearchCV(GradientBoostingClassifier(n_estimators=100,max_depth=20),param_grid={'loss':['deviance','exponential'], 'learning_rate':np.logspace(-2,2,5)},n_jobs=-1,verbose=3,cv=5).fit(X_train,y_train)\n",
    "print('Train score:',gb.score(X_train,y_train))\n",
    "print('Test score:',gb.score(X_test,y_test))"
   ]
  },
  {
   "cell_type": "markdown",
   "metadata": {
    "ein.tags": "worksheet-0",
    "slideshow": {
     "slide_type": "-"
    }
   },
   "source": [
    "# Extreme gradient boosting"
   ]
  },
  {
   "cell_type": "code",
   "execution_count": 101,
   "metadata": {
    "autoscroll": false,
    "collapsed": false,
    "ein.hycell": false,
    "ein.tags": "worksheet-0",
    "slideshow": {
     "slide_type": "-"
    }
   },
   "outputs": [],
   "source": [
    "import xgboost as xgb"
   ]
  },
  {
   "cell_type": "markdown",
   "metadata": {
    "ein.tags": "worksheet-0",
    "slideshow": {
     "slide_type": "-"
    }
   },
   "source": [
    "Premier essai"
   ]
  },
  {
   "cell_type": "code",
   "execution_count": 102,
   "metadata": {
    "autoscroll": false,
    "collapsed": false,
    "ein.hycell": false,
    "ein.tags": "worksheet-0",
    "slideshow": {
     "slide_type": "-"
    }
   },
   "outputs": [
    {
     "name": "stdout",
     "output_type": "stream",
     "text": [
      "0.7977755308392316\n"
     ]
    }
   ],
   "source": [
    "print(xgb.XGBClassifier().fit(X_train,y_train).score(X_test,y_test))"
   ]
  },
  {
   "cell_type": "markdown",
   "metadata": {
    "ein.tags": "worksheet-0",
    "slideshow": {
     "slide_type": "-"
    }
   },
   "source": [
    "Fine-tuning"
   ]
  },
  {
   "cell_type": "code",
   "execution_count": 103,
   "metadata": {
    "autoscroll": false,
    "collapsed": false,
    "ein.hycell": false,
    "ein.tags": "worksheet-0",
    "slideshow": {
     "slide_type": "-"
    }
   },
   "outputs": [
    {
     "name": "stdout",
     "output_type": "stream",
     "text": [
      "Fitting 5 folds for each of 3 candidates, totalling 15 fits\n"
     ]
    },
    {
     "name": "stderr",
     "output_type": "stream",
     "text": [
      "[Parallel(n_jobs=-1)]: Using backend LokyBackend with 12 concurrent workers.\n"
     ]
    },
    {
     "name": "stderr",
     "output_type": "stream",
     "text": [
      "[Parallel(n_jobs=-1)]: Done   4 out of  15 | elapsed:   12.3s remaining:   33.7s\n"
     ]
    },
    {
     "name": "stderr",
     "output_type": "stream",
     "text": [
      "[Parallel(n_jobs=-1)]: Done  10 out of  15 | elapsed:   17.5s remaining:    8.8s\n"
     ]
    },
    {
     "name": "stderr",
     "output_type": "stream",
     "text": [
      "[Parallel(n_jobs=-1)]: Done  15 out of  15 | elapsed:   41.1s finished\n"
     ]
    },
    {
     "name": "stdout",
     "output_type": "stream",
     "text": [
      "Train score: 0.8207785642062689\n",
      "Test score: 0.7975227502527806\n"
     ]
    }
   ],
   "source": [
    "xgb_model = GridSearchCV(xgb.XGBClassifier(n_estimators=400,n_jobs=-1),param_grid={'booster':['gbtree','gblinear','dart']},n_jobs=-1,verbose=3,cv=5).fit(X_train,y_train)\n",
    "print('Train score:',xgb_model.score(X_train,y_train))\n",
    "print('Test score:',xgb_model.score(X_test,y_test))"
   ]
  },
  {
   "cell_type": "markdown",
   "metadata": {
    "ein.tags": "worksheet-0",
    "slideshow": {
     "slide_type": "-"
    }
   },
   "source": [
    "# Extra trees"
   ]
  },
  {
   "cell_type": "code",
   "execution_count": 104,
   "metadata": {
    "autoscroll": false,
    "collapsed": false,
    "ein.hycell": false,
    "ein.tags": "worksheet-0",
    "slideshow": {
     "slide_type": "-"
    }
   },
   "outputs": [],
   "source": [
    "from sklearn.ensemble import ExtraTreesClassifier"
   ]
  },
  {
   "cell_type": "markdown",
   "metadata": {
    "ein.tags": "worksheet-0",
    "slideshow": {
     "slide_type": "-"
    }
   },
   "source": [
    "Premier essai"
   ]
  },
  {
   "cell_type": "code",
   "execution_count": 105,
   "metadata": {
    "autoscroll": false,
    "collapsed": false,
    "ein.hycell": false,
    "ein.tags": "worksheet-0",
    "slideshow": {
     "slide_type": "-"
    }
   },
   "outputs": [
    {
     "name": "stdout",
     "output_type": "stream",
     "text": [
      "0.7798281092012134\n"
     ]
    },
    {
     "name": "stderr",
     "output_type": "stream",
     "text": [
      "/usr/lib/python3.7/site-packages/sklearn/ensemble/forest.py:248: FutureWarning: The default value of n_estimators will change from 10 in version 0.20 to 100 in 0.22.\n",
      "  \"10 in version 0.20 to 100 in 0.22.\", FutureWarning)\n"
     ]
    }
   ],
   "source": [
    "print(ExtraTreesClassifier().fit(X_train,y_train).score(X_test,y_test))"
   ]
  },
  {
   "cell_type": "markdown",
   "metadata": {
    "ein.tags": "worksheet-0",
    "slideshow": {
     "slide_type": "-"
    }
   },
   "source": [
    "Fine-tuning"
   ]
  },
  {
   "cell_type": "code",
   "execution_count": 106,
   "metadata": {
    "autoscroll": false,
    "collapsed": false,
    "ein.hycell": false,
    "ein.tags": "worksheet-0",
    "slideshow": {
     "slide_type": "-"
    }
   },
   "outputs": [
    {
     "name": "stderr",
     "output_type": "stream",
     "text": [
      "[Parallel(n_jobs=-1)]: Using backend LokyBackend with 12 concurrent workers.\n"
     ]
    },
    {
     "name": "stdout",
     "output_type": "stream",
     "text": [
      "Fitting 5 folds for each of 32 candidates, totalling 160 fits\n"
     ]
    },
    {
     "name": "stderr",
     "output_type": "stream",
     "text": [
      "[Parallel(n_jobs=-1)]: Done   8 tasks      | elapsed:    7.1s\n"
     ]
    },
    {
     "name": "stderr",
     "output_type": "stream",
     "text": [
      "[Parallel(n_jobs=-1)]: Done 104 tasks      | elapsed:  2.7min\n"
     ]
    },
    {
     "name": "stderr",
     "output_type": "stream",
     "text": [
      "[Parallel(n_jobs=-1)]: Done 160 out of 160 | elapsed:  4.6min finished\n"
     ]
    },
    {
     "name": "stdout",
     "output_type": "stream",
     "text": [
      "Train score: 0.9609032692955848\n",
      "Test score: 0.7990394337714863\n"
     ]
    }
   ],
   "source": [
    "xt = GridSearchCV(ExtraTreesClassifier(n_estimators=500,n_jobs=-1),param_grid={'criterion':['gini','entropy'],'max_depth':[3,10,20,50],'max_features':[3,10,20,50]},n_jobs=-1,verbose=3,cv=5).fit(X_train,y_train)\n",
    "print('Train score:',xt.score(X_train,y_train))\n",
    "print('Test score:',xt.score(X_test,y_test))"
   ]
  },
  {
   "cell_type": "markdown",
   "metadata": {
    "ein.tags": "worksheet-0",
    "slideshow": {
     "slide_type": "-"
    }
   },
   "source": [
    "# LightGBM"
   ]
  },
  {
   "cell_type": "code",
   "execution_count": 107,
   "metadata": {
    "autoscroll": false,
    "collapsed": false,
    "ein.hycell": false,
    "ein.tags": "worksheet-0",
    "slideshow": {
     "slide_type": "-"
    }
   },
   "outputs": [
    {
     "data": {
      "text/plain": [
       "0.8063700707785642"
      ]
     },
     "execution_count": 107,
     "metadata": {},
     "output_type": "execute_result"
    }
   ],
   "source": [
    "import lightgbm as lgb\n",
    "lgb_model = lgb.LGBMClassifier(n_estimators=100,n_jobs=-1).fit(X_train,y_train)\n",
    "lgb_model.score(X_test,y_test)"
   ]
  }
 ],
 "metadata": {
  "kernelspec": {
   "display_name": "Python 3",
   "name": "python3"
  },
  "name": "tests-python.ipynb"
 },
 "nbformat": 4,
 "nbformat_minor": 2
}
