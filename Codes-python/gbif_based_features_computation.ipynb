{
 "cells": [
  {
   "cell_type": "markdown",
   "metadata": {
    "ein.tags": "worksheet-0",
    "slideshow": {
     "slide_type": "-"
    }
   },
   "source": [
    "GBIF DISTRIBUTION AGGREGATION"
   ]
  },
  {
   "cell_type": "code",
   "execution_count": 1,
   "metadata": {
    "autoscroll": false,
    "collapsed": false,
    "ein.hycell": false,
    "ein.tags": "worksheet-0",
    "slideshow": {
     "slide_type": "-"
    }
   },
   "outputs": [],
   "source": [
    "import numpy as np\n",
    "import pandas as pd\n",
    "import os.path\n",
    "import warnings"
   ]
  },
  {
   "cell_type": "code",
   "execution_count": 2,
   "metadata": {
    "autoscroll": false,
    "collapsed": false,
    "ein.hycell": false,
    "ein.tags": "worksheet-0",
    "slideshow": {
     "slide_type": "-"
    }
   },
   "outputs": [],
   "source": [
    "checklist = pd.read_csv('/home/joon/data/checklist_taxonomy_preprocessed.csv',index_col='accepted_plant_name_id')\n",
    "checklist = checklist[['genus','species', 'plant_name_id']]\n",
    "checklist.dropna(axis=0,subset=['species'],inplace=True)\n",
    "checklist_genus_values = checklist.genus.unique()"
   ]
  },
  {
   "cell_type": "markdown",
   "metadata": {
    "ein.tags": "worksheet-0",
    "slideshow": {
     "slide_type": "-"
    }
   },
   "source": [
    "# Helper functions"
   ]
  },
  {
   "cell_type": "code",
   "execution_count": 3,
   "metadata": {
    "autoscroll": false,
    "collapsed": false,
    "ein.hycell": false,
    "ein.tags": "worksheet-0",
    "slideshow": {
     "slide_type": "-"
    }
   },
   "outputs": [],
   "source": [
    "# def gbif_to_datetime(gbif):\n",
    "#     return pd.to_datetime(gbif.loc[~gbif.day.isnull(),['year','month','day']])"
   ]
  },
  {
   "cell_type": "code",
   "execution_count": 4,
   "metadata": {
    "autoscroll": false,
    "collapsed": false,
    "ein.hycell": false,
    "ein.tags": "worksheet-0",
    "slideshow": {
     "slide_type": "-"
    }
   },
   "outputs": [],
   "source": [
    "# HELPER FUNCTION\n",
    "def gbif_n_obs_last_m_years(gbif,years):\n",
    "    return np.sum(np.histogram(gbif.year,bins=range(1500,2020))[0][-years:])"
   ]
  },
  {
   "cell_type": "markdown",
   "metadata": {
    "ein.tags": "worksheet-0",
    "slideshow": {
     "slide_type": "-"
    }
   },
   "source": [
    "# Functions"
   ]
  },
  {
   "cell_type": "code",
   "execution_count": 5,
   "metadata": {
    "autoscroll": false,
    "collapsed": false,
    "ein.hycell": false,
    "ein.tags": "worksheet-0",
    "slideshow": {
     "slide_type": "-"
    }
   },
   "outputs": [],
   "source": [
    "def gbif_n_institutionCode(gbif):\n",
    "    return gbif.institutionCode.nunique()"
   ]
  },
  {
   "cell_type": "code",
   "execution_count": 6,
   "metadata": {
    "autoscroll": false,
    "collapsed": false,
    "ein.hycell": false,
    "ein.tags": "worksheet-0",
    "slideshow": {
     "slide_type": "-"
    }
   },
   "outputs": [],
   "source": [
    "def gbif_n_recordedBy(gbif):\n",
    "    return gbif.recordedBy.nunique()"
   ]
  },
  {
   "cell_type": "code",
   "execution_count": 7,
   "metadata": {
    "autoscroll": false,
    "collapsed": false,
    "ein.hycell": false,
    "ein.tags": "worksheet-0",
    "slideshow": {
     "slide_type": "-"
    }
   },
   "outputs": [],
   "source": [
    "def gbif_n_obs(gbif):\n",
    "    return gbif.shape[0]"
   ]
  },
  {
   "cell_type": "code",
   "execution_count": 8,
   "metadata": {
    "autoscroll": false,
    "collapsed": false,
    "ein.hycell": false,
    "ein.tags": "worksheet-0",
    "slideshow": {
     "slide_type": "-"
    }
   },
   "outputs": [],
   "source": [
    "def gbif_n_country(gbif):\n",
    "    return gbif['countryCode'].nunique()"
   ]
  },
  {
   "cell_type": "code",
   "execution_count": 9,
   "metadata": {
    "autoscroll": false,
    "collapsed": false,
    "ein.hycell": false,
    "ein.tags": "worksheet-0",
    "slideshow": {
     "slide_type": "-"
    }
   },
   "outputs": [],
   "source": [
    "def gbif_max_obs_date(gbif):\n",
    "    return np.max(gbif.year)"
   ]
  },
  {
   "cell_type": "code",
   "execution_count": 10,
   "metadata": {
    "autoscroll": false,
    "collapsed": false,
    "ein.hycell": false,
    "ein.tags": "worksheet-0",
    "slideshow": {
     "slide_type": "-"
    }
   },
   "outputs": [],
   "source": [
    "def gbif_min_obs_date(gbif):\n",
    "    return np.min(gbif.year)"
   ]
  },
  {
   "cell_type": "code",
   "execution_count": 11,
   "metadata": {
    "autoscroll": false,
    "collapsed": false,
    "ein.hycell": false,
    "ein.tags": "worksheet-0",
    "slideshow": {
     "slide_type": "-"
    }
   },
   "outputs": [],
   "source": [
    "def gbif_delta_obs_date(gbif):\n",
    "    return np.max(gbif.year)-np.min(gbif.year)"
   ]
  },
  {
   "cell_type": "code",
   "execution_count": 12,
   "metadata": {
    "autoscroll": false,
    "collapsed": false,
    "ein.hycell": false,
    "ein.tags": "worksheet-0",
    "slideshow": {
     "slide_type": "-"
    }
   },
   "outputs": [],
   "source": [
    "def gbif_age_last_obs(gbif):\n",
    "    return 2019-np.max(gbif.year)"
   ]
  },
  {
   "cell_type": "code",
   "execution_count": 13,
   "metadata": {
    "autoscroll": false,
    "collapsed": false,
    "ein.hycell": false,
    "ein.tags": "worksheet-0",
    "slideshow": {
     "slide_type": "-"
    }
   },
   "outputs": [],
   "source": [
    "def gbif_age_first_obs(gbif):\n",
    "    return 2019-np.min(gbif.year)"
   ]
  },
  {
   "cell_type": "code",
   "execution_count": 14,
   "metadata": {
    "autoscroll": false,
    "collapsed": false,
    "ein.hycell": false,
    "ein.tags": "worksheet-0",
    "slideshow": {
     "slide_type": "-"
    }
   },
   "outputs": [],
   "source": [
    "date_hist_bins = range(1700,2021,20)\n",
    "def gbif_date_hist(gbif):\n",
    "    return np.histogram(gbif.year,bins=date_hist_bins)[0] "
   ]
  },
  {
   "cell_type": "markdown",
   "metadata": {
    "ein.tags": "worksheet-0",
    "slideshow": {
     "slide_type": "-"
    }
   },
   "source": [
    "## Number of observations in last: 5 years, 10 years, 20 years, 50 years, all time"
   ]
  },
  {
   "cell_type": "code",
   "execution_count": 15,
   "metadata": {
    "autoscroll": false,
    "collapsed": false,
    "ein.hycell": false,
    "ein.tags": "worksheet-0",
    "slideshow": {
     "slide_type": "-"
    }
   },
   "outputs": [],
   "source": [
    "def gbif_n_obs_last_5y(gbif):\n",
    "    return gbif_n_obs_last_m_years(gbif,5)"
   ]
  },
  {
   "cell_type": "code",
   "execution_count": 16,
   "metadata": {
    "autoscroll": false,
    "collapsed": false,
    "ein.hycell": false,
    "ein.tags": "worksheet-0",
    "slideshow": {
     "slide_type": "-"
    }
   },
   "outputs": [],
   "source": [
    "def gbif_n_obs_last_10y(gbif):\n",
    "    return gbif_n_obs_last_m_years(gbif,10)"
   ]
  },
  {
   "cell_type": "code",
   "execution_count": 17,
   "metadata": {
    "autoscroll": false,
    "collapsed": false,
    "ein.hycell": false,
    "ein.tags": "worksheet-0",
    "slideshow": {
     "slide_type": "-"
    }
   },
   "outputs": [],
   "source": [
    "def gbif_n_obs_last_20y(gbif):\n",
    "    return gbif_n_obs_last_m_years(gbif,20)"
   ]
  },
  {
   "cell_type": "code",
   "execution_count": 18,
   "metadata": {
    "autoscroll": false,
    "collapsed": false,
    "ein.hycell": false,
    "ein.tags": "worksheet-0",
    "slideshow": {
     "slide_type": "-"
    }
   },
   "outputs": [],
   "source": [
    "def gbif_n_obs_last_50y(gbif):\n",
    "    return gbif_n_obs_last_m_years(gbif,50)"
   ]
  },
  {
   "cell_type": "markdown",
   "metadata": {
    "ein.tags": "worksheet-0",
    "slideshow": {
     "slide_type": "-"
    }
   },
   "source": [
    "# Latitude: min/max/mean/median"
   ]
  },
  {
   "cell_type": "code",
   "execution_count": 19,
   "metadata": {
    "autoscroll": false,
    "collapsed": false,
    "ein.hycell": false,
    "ein.tags": "worksheet-0",
    "slideshow": {
     "slide_type": "-"
    }
   },
   "outputs": [],
   "source": [
    "def gbif_min_latitude(gbif):\n",
    "    return np.min(np.abs(gbif.decimalLatitude))"
   ]
  },
  {
   "cell_type": "code",
   "execution_count": 20,
   "metadata": {
    "autoscroll": false,
    "collapsed": false,
    "ein.hycell": false,
    "ein.tags": "worksheet-0",
    "slideshow": {
     "slide_type": "-"
    }
   },
   "outputs": [],
   "source": [
    "def gbif_max_latitude(gbif):\n",
    "    return np.max(np.abs(gbif.decimalLatitude))"
   ]
  },
  {
   "cell_type": "code",
   "execution_count": 21,
   "metadata": {
    "autoscroll": false,
    "collapsed": false,
    "ein.hycell": false,
    "ein.tags": "worksheet-0",
    "slideshow": {
     "slide_type": "-"
    }
   },
   "outputs": [],
   "source": [
    "def gbif_mean_latitude(gbif):\n",
    "    return np.mean(np.abs(gbif.decimalLatitude))"
   ]
  },
  {
   "cell_type": "code",
   "execution_count": 22,
   "metadata": {
    "autoscroll": false,
    "collapsed": false,
    "ein.hycell": false,
    "ein.tags": "worksheet-0",
    "slideshow": {
     "slide_type": "-"
    }
   },
   "outputs": [],
   "source": [
    "def gbif_mean_pos_latitude(gbif):\n",
    "    return np.mean(gbif.decimalLatitude[gbif.decimalLatitude>=0])"
   ]
  },
  {
   "cell_type": "code",
   "execution_count": 23,
   "metadata": {
    "autoscroll": false,
    "collapsed": false,
    "ein.hycell": false,
    "ein.tags": "worksheet-0",
    "slideshow": {
     "slide_type": "-"
    }
   },
   "outputs": [],
   "source": [
    "def gbif_mean_neg_latitude(gbif):\n",
    "    return np.mean(gbif.decimalLatitude[gbif.decimalLatitude<=0])"
   ]
  },
  {
   "cell_type": "code",
   "execution_count": 24,
   "metadata": {
    "autoscroll": false,
    "collapsed": false,
    "ein.hycell": false,
    "ein.tags": "worksheet-0",
    "slideshow": {
     "slide_type": "-"
    }
   },
   "outputs": [],
   "source": [
    "def gbif_median_latitude(gbif):\n",
    "    foo = gbif.decimalLatitude.dropna()\n",
    "    return np.median(np.abs(foo)) if not foo.empty else np.nan"
   ]
  },
  {
   "cell_type": "code",
   "execution_count": 25,
   "metadata": {
    "autoscroll": false,
    "collapsed": false,
    "ein.hycell": false,
    "ein.tags": "worksheet-0",
    "slideshow": {
     "slide_type": "-"
    }
   },
   "outputs": [],
   "source": [
    "def gbif_latitude_hist(gbif):\n",
    "    return np.histogram(gbif.decimalLatitude,bins=range(-90,91))[0]"
   ]
  },
  {
   "cell_type": "code",
   "execution_count": 26,
   "metadata": {
    "autoscroll": false,
    "collapsed": false,
    "ein.hycell": false,
    "ein.tags": "worksheet-0",
    "slideshow": {
     "slide_type": "-"
    }
   },
   "outputs": [],
   "source": [
    "def gbif_n_tropical_latitudes(gbif):\n",
    "    return gbif.decimalLatitude[np.abs(gbif.decimalLatitude)<23.43].shape[0]"
   ]
  },
  {
   "cell_type": "markdown",
   "metadata": {
    "ein.tags": "worksheet-0",
    "slideshow": {
     "slide_type": "-"
    }
   },
   "source": [
    "## Convex hull surface (extent of occurence, EOO)"
   ]
  },
  {
   "cell_type": "code",
   "execution_count": 27,
   "metadata": {
    "autoscroll": false,
    "collapsed": false,
    "ein.hycell": false,
    "ein.tags": "worksheet-0",
    "slideshow": {
     "slide_type": "-"
    }
   },
   "outputs": [],
   "source": [
    "import geopandas as gpd\n",
    "from shapely.geometry import Polygon, MultiPoint, Point\n",
    "from shapely.ops import cascaded_union"
   ]
  },
  {
   "cell_type": "code",
   "execution_count": 28,
   "metadata": {
    "autoscroll": false,
    "collapsed": false,
    "ein.hycell": false,
    "ein.tags": "worksheet-0",
    "slideshow": {
     "slide_type": "-"
    }
   },
   "outputs": [],
   "source": [
    "country_polygons = gpd.read_file(gpd.datasets.get_path('naturalearth_lowres')).geometry\n",
    "land_polygon = cascaded_union(country_polygons)"
   ]
  },
  {
   "cell_type": "code",
   "execution_count": 29,
   "metadata": {
    "autoscroll": false,
    "collapsed": false,
    "ein.hycell": false,
    "ein.tags": "worksheet-0",
    "slideshow": {
     "slide_type": "-"
    }
   },
   "outputs": [],
   "source": [
    "import pyproj    \n",
    "import shapely\n",
    "import shapely.ops as ops\n",
    "from shapely.geometry.polygon import Polygon\n",
    "from functools import partial\n",
    "import warnings\n",
    "\n",
    "def earth_polygon_area(polygon):\n",
    "    with warnings.catch_warnings():\n",
    "        warnings.simplefilter(\"ignore\")\n",
    "        geom_area = ops.transform(\n",
    "            partial(\n",
    "                pyproj.transform,\n",
    "                pyproj.Proj(init='EPSG:4326'),\n",
    "                pyproj.Proj(\n",
    "                    proj='aea',\n",
    "                    lat_1=polygon.bounds[1],\n",
    "                    lat_2=polygon.bounds[3])),\n",
    "            polygon)\n",
    "    return geom_area.area"
   ]
  },
  {
   "cell_type": "code",
   "execution_count": 30,
   "metadata": {
    "autoscroll": false,
    "collapsed": false,
    "ein.hycell": false,
    "ein.tags": "worksheet-0",
    "slideshow": {
     "slide_type": "-"
    }
   },
   "outputs": [],
   "source": [
    "def gbif_eoo(gbif):\n",
    "    global land_polygon\n",
    "    obs_locations = gbif.loc[(~gbif.decimalLatitude.isnull() & ~gbif.decimalLongitude.isnull()),['decimalLongitude','decimalLatitude']].values\n",
    "    if obs_locations.shape[0] <= 2:\n",
    "        return np.nan\n",
    "    else:\n",
    "        convex_hull = MultiPoint(obs_locations).convex_hull\n",
    "        convex_hull_cap_land = convex_hull.intersection(land_polygon)\n",
    "        try:\n",
    "            area = earth_polygon_area(convex_hull_cap_land)\n",
    "        except:\n",
    "            return np.nan\n",
    "        return area"
   ]
  },
  {
   "cell_type": "markdown",
   "metadata": {
    "ein.tags": "worksheet-0",
    "slideshow": {
     "slide_type": "-"
    }
   },
   "source": [
    "# Area of occupancy (AOO) (union of 2km grid around occurences)"
   ]
  },
  {
   "cell_type": "code",
   "execution_count": 31,
   "metadata": {
    "autoscroll": false,
    "collapsed": false,
    "ein.hycell": false,
    "ein.tags": "worksheet-0",
    "slideshow": {
     "slide_type": "-"
    }
   },
   "outputs": [],
   "source": [
    "import math\n",
    "\n",
    "def grid_around(lon,lat):\n",
    "    delta_lat = 90/10000\n",
    "    delta_lon = 90/10000/math.cos(lat*2*3.14159/360)\n",
    "\n",
    "    polygon = [(lon-delta_lon,lat-delta_lat),(lon+delta_lon,lat-delta_lat),(lon+delta_lon,lat+delta_lat),(lon-delta_lon,lat+delta_lat)]\n",
    "    return Polygon(polygon)"
   ]
  },
  {
   "cell_type": "code",
   "execution_count": 32,
   "metadata": {
    "autoscroll": false,
    "collapsed": false,
    "ein.hycell": false,
    "ein.tags": "worksheet-0",
    "slideshow": {
     "slide_type": "-"
    }
   },
   "outputs": [],
   "source": [
    "def gbif_aoo(gbif):\n",
    "    obs_locations = gbif.loc[(~gbif.decimalLatitude.isnull() & ~gbif.decimalLongitude.isnull()),['decimalLongitude','decimalLatitude']].values\n",
    "    polygons = [grid_around(lon,lat) for [lon,lat] in obs_locations]\n",
    "    union = cascaded_union(polygons)\n",
    "    try:\n",
    "        area = earth_polygon_area(union)\n",
    "    except:\n",
    "        return np.nan\n",
    "    return area"
   ]
  },
  {
   "cell_type": "markdown",
   "metadata": {
    "ein.tags": "worksheet-0",
    "slideshow": {
     "slide_type": "-"
    }
   },
   "source": [
    "# Number of connected components ... ?\n",
    "TODO:"
   ]
  },
  {
   "cell_type": "markdown",
   "metadata": {
    "ein.tags": "worksheet-0",
    "slideshow": {
     "slide_type": "-"
    }
   },
   "source": [
    "# Protected areas"
   ]
  },
  {
   "cell_type": "markdown",
   "metadata": {
    "ein.tags": "worksheet-0",
    "slideshow": {
     "slide_type": "-"
    }
   },
   "source": [
    "# Geographic distribution of observations: histogram (for DL)"
   ]
  },
  {
   "cell_type": "code",
   "execution_count": 33,
   "metadata": {
    "autoscroll": false,
    "collapsed": false,
    "ein.hycell": false,
    "ein.tags": "worksheet-0",
    "slideshow": {
     "slide_type": "-"
    }
   },
   "outputs": [],
   "source": [
    "hist2d_resolution = 100"
   ]
  },
  {
   "cell_type": "code",
   "execution_count": 34,
   "metadata": {
    "autoscroll": false,
    "collapsed": false,
    "ein.hycell": false,
    "ein.tags": "worksheet-0",
    "slideshow": {
     "slide_type": "-"
    }
   },
   "outputs": [],
   "source": [
    "def gbif_obs_geographic_distr_hist(gbif):\n",
    "    obs_locations = gbif.loc[(~gbif.decimalLatitude.isnull() & ~gbif.decimalLongitude.isnull()),['decimalLongitude','decimalLatitude']].values\n",
    "    return np.histogram2d(obs_locations[:,0],obs_locations[:,1],[np.linspace(-180,180,num=hist2d_resolution+1),np.linspace(-90,90,num=hist2d_resolution+1)])[0].flatten()"
   ]
  },
  {
   "cell_type": "markdown",
   "metadata": {
    "ein.tags": "worksheet-0",
    "slideshow": {
     "slide_type": "-"
    }
   },
   "source": [
    "## Bioclim variables"
   ]
  },
  {
   "cell_type": "code",
   "execution_count": 35,
   "metadata": {
    "autoscroll": false,
    "collapsed": false,
    "ein.hycell": false,
    "ein.tags": "worksheet-0",
    "slideshow": {
     "slide_type": "-"
    }
   },
   "outputs": [
    {
     "name": "stderr",
     "output_type": "stream",
     "text": [
      "/usr/lib/python3.8/site-packages/numpy/lib/arraysetops.py:569: FutureWarning: elementwise comparison failed; returning scalar instead, but in the future will perform elementwise comparison\n",
      "  mask |= (ar1 == a)\n"
     ]
    }
   ],
   "source": [
    "bioclim = pd.read_csv('/home/joon/data/bioclim.csv',index_col=0)"
   ]
  },
  {
   "cell_type": "code",
   "execution_count": 36,
   "metadata": {
    "autoscroll": false,
    "collapsed": false,
    "ein.hycell": false,
    "ein.tags": "worksheet-0",
    "slideshow": {
     "slide_type": "-"
    }
   },
   "outputs": [],
   "source": [
    "X_bioclim_values = bioclim.X.unique()\n",
    "Y_bioclim_values = bioclim.Y.unique()"
   ]
  },
  {
   "cell_type": "code",
   "execution_count": 37,
   "metadata": {
    "autoscroll": false,
    "collapsed": false,
    "ein.hycell": false,
    "ein.tags": "worksheet-0",
    "slideshow": {
     "slide_type": "-"
    }
   },
   "outputs": [],
   "source": [
    "bioclim.set_index(['X','Y'],inplace=True)"
   ]
  },
  {
   "cell_type": "code",
   "execution_count": 38,
   "metadata": {
    "autoscroll": false,
    "collapsed": false,
    "ein.hycell": false,
    "ein.tags": "worksheet-0",
    "slideshow": {
     "slide_type": "-"
    }
   },
   "outputs": [],
   "source": [
    "def match_coords_to_grid(coords,grid):\n",
    "    coords = np.asarray(coords)\n",
    "    return grid[np.abs((coords.reshape((len(coords),1))-grid)).argmin(axis=1)]"
   ]
  },
  {
   "cell_type": "code",
   "execution_count": 39,
   "metadata": {
    "autoscroll": false,
    "collapsed": false,
    "ein.hycell": false,
    "ein.tags": "worksheet-0",
    "slideshow": {
     "slide_type": "-"
    }
   },
   "outputs": [],
   "source": [
    "def gbif_obs_bioclim(gbif):\n",
    "    global X_bioclim_values, Y_bioclim_values, bioclim\n",
    "    gbif = gbif.loc[(~gbif.decimalLatitude.isnull() & ~gbif.decimalLongitude.isnull()),['decimalLongitude','decimalLatitude']]\n",
    "    gbif['X'] = match_coords_to_grid(gbif.decimalLongitude,X_bioclim_values)\n",
    "    gbif['Y'] = match_coords_to_grid(gbif.decimalLatitude,Y_bioclim_values)\n",
    "    bioclim_selection = bioclim.loc[[tuple(x) for x in gbif[['X','Y']].values]]\n",
    "    \n",
    "    return list(np.mean(bioclim_selection))"
   ]
  },
  {
   "cell_type": "markdown",
   "metadata": {
    "ein.tags": "worksheet-0",
    "slideshow": {
     "slide_type": "-"
    }
   },
   "source": [
    "## Climate change {Temperature, rain}: diff(50 years ago,today)\n",
    "TODO:"
   ]
  },
  {
   "cell_type": "markdown",
   "metadata": {
    "ein.tags": "worksheet-0",
    "slideshow": {
     "slide_type": "-"
    }
   },
   "source": [
    "## Population density:"
   ]
  },
  {
   "cell_type": "code",
   "execution_count": 40,
   "metadata": {
    "autoscroll": false,
    "collapsed": false,
    "ein.hycell": false,
    "ein.tags": "worksheet-0",
    "slideshow": {
     "slide_type": "-"
    }
   },
   "outputs": [],
   "source": [
    "pop_density_1975 = pd.read_csv('/home/joon/data/ghs_pop_1975.xyz',header=None,names=['longitude','latitude','density'],sep=' ')"
   ]
  },
  {
   "cell_type": "code",
   "execution_count": 41,
   "metadata": {
    "autoscroll": false,
    "collapsed": false,
    "ein.hycell": false,
    "ein.tags": "worksheet-0",
    "slideshow": {
     "slide_type": "-"
    }
   },
   "outputs": [],
   "source": [
    "pop_density_2015 = pd.read_csv('/home/joon/data/ghs_pop_2015.xyz',header=None,names=['longitude','latitude','density'],sep=' ')"
   ]
  },
  {
   "cell_type": "code",
   "execution_count": 42,
   "metadata": {
    "autoscroll": false,
    "collapsed": false,
    "ein.hycell": false,
    "ein.tags": "worksheet-0",
    "slideshow": {
     "slide_type": "-"
    }
   },
   "outputs": [],
   "source": [
    "pop_density_1975.density.replace(to_replace=-200.0,value=np.nan,inplace=True)\n",
    "pop_density_2015.density.replace(to_replace=-200.0,value=np.nan,inplace=True)"
   ]
  },
  {
   "cell_type": "code",
   "execution_count": 43,
   "metadata": {
    "autoscroll": false,
    "collapsed": false,
    "ein.hycell": false,
    "ein.tags": "worksheet-0",
    "slideshow": {
     "slide_type": "-"
    }
   },
   "outputs": [],
   "source": [
    "longitude_values = pop_density_2015.longitude.unique()\n",
    "latitude_values = pop_density_2015.latitude.unique()"
   ]
  },
  {
   "cell_type": "code",
   "execution_count": 44,
   "metadata": {
    "autoscroll": false,
    "collapsed": false,
    "ein.hycell": false,
    "ein.tags": "worksheet-0",
    "slideshow": {
     "slide_type": "-"
    }
   },
   "outputs": [],
   "source": [
    "pop_density_1975.set_index(['longitude','latitude'],inplace=True)\n",
    "pop_density_2015.set_index(['longitude','latitude'],inplace=True)"
   ]
  },
  {
   "cell_type": "code",
   "execution_count": 45,
   "metadata": {
    "autoscroll": false,
    "collapsed": false,
    "ein.hycell": false,
    "ein.tags": "worksheet-0",
    "slideshow": {
     "slide_type": "-"
    }
   },
   "outputs": [],
   "source": [
    "def gbif_pop_density(gbif):\n",
    "    global longitude_values, latitude_values\n",
    "    gbif = gbif.loc[(~gbif.decimalLatitude.isnull() & ~gbif.decimalLongitude.isnull()),['decimalLongitude','decimalLatitude']]\n",
    "    gbif['longitude'] = match_coords_to_grid(gbif.decimalLongitude,longitude_values)\n",
    "    gbif['latitude'] = match_coords_to_grid(gbif.decimalLatitude,latitude_values)\n",
    "    pop_density_1975_selection = pop_density_1975.loc[[tuple(x) for x in gbif[['longitude','latitude']].values]]\n",
    "    pop_density_2015_selection = pop_density_2015.loc[[tuple(x) for x in gbif[['longitude','latitude']].values]]\n",
    "    pop_density_1975_mean = np.mean(pop_density_1975_selection)[0]\n",
    "    pop_density_2015_mean = np.mean(pop_density_2015_selection)[0]\n",
    "\n",
    "    return [pop_density_1975_mean,pop_density_2015_mean,pop_density_2015_mean-pop_density_1975_mean]"
   ]
  },
  {
   "cell_type": "markdown",
   "metadata": {
    "ein.tags": "worksheet-0",
    "slideshow": {
     "slide_type": "-"
    }
   },
   "source": [
    "# basis of record"
   ]
  },
  {
   "cell_type": "code",
   "execution_count": 46,
   "metadata": {
    "autoscroll": false,
    "collapsed": false,
    "ein.hycell": false,
    "ein.tags": "worksheet-0",
    "slideshow": {
     "slide_type": "-"
    }
   },
   "outputs": [],
   "source": [
    "gbif_basisOfRecord_values = pd.read_csv('/home/joon/data/gbif-basisOfRecord-values.csv',squeeze=True,index_col=0)"
   ]
  },
  {
   "cell_type": "code",
   "execution_count": 47,
   "metadata": {
    "autoscroll": false,
    "collapsed": false,
    "ein.hycell": false,
    "ein.tags": "worksheet-0",
    "slideshow": {
     "slide_type": "-"
    }
   },
   "outputs": [],
   "source": [
    "def gbif_basis_of_record_counts(gbif):\n",
    "    foo = gbif.basisOfRecord\n",
    "    return [foo[foo==value].count() for value in gbif_basisOfRecord_values.values]"
   ]
  },
  {
   "cell_type": "markdown",
   "metadata": {
    "ein.tags": "worksheet-0",
    "slideshow": {
     "slide_type": "-"
    }
   },
   "source": [
    "# Création des features"
   ]
  },
  {
   "cell_type": "code",
   "execution_count": 48,
   "metadata": {
    "autoscroll": false,
    "collapsed": false,
    "ein.hycell": false,
    "ein.tags": "worksheet-0",
    "slideshow": {
     "slide_type": "-"
    }
   },
   "outputs": [],
   "source": [
    "aggregation_functions = [gbif_n_institutionCode,gbif_n_recordedBy,gbif_n_obs,gbif_n_country,gbif_max_obs_date,gbif_min_obs_date,gbif_delta_obs_date,gbif_age_last_obs,gbif_age_first_obs,gbif_n_obs_last_5y,gbif_n_obs_last_10y,gbif_n_obs_last_20y,gbif_n_obs_last_50y]\n",
    "aggregation_functions_coord = [gbif_min_latitude,gbif_max_latitude,gbif_mean_latitude,gbif_mean_pos_latitude,gbif_mean_neg_latitude,gbif_median_latitude,gbif_n_tropical_latitudes,gbif_eoo,gbif_aoo]"
   ]
  },
  {
   "cell_type": "code",
   "execution_count": 49,
   "metadata": {
    "autoscroll": false,
    "collapsed": false,
    "ein.hycell": false,
    "ein.tags": "worksheet-0",
    "slideshow": {
     "slide_type": "-"
    }
   },
   "outputs": [],
   "source": [
    "column_names = ['gbif_n_institutionCode','gbif_n_recordedBy','gbif_n_obs','gbif_n_country','gbif_max_obs_date','gbif_min_obs_date','gbif_delta_obs_date','gbif_age_last_obs','gbif_age_first_obs','gbif_n_obs_last_5y','gbif_n_obs_last_10y','gbif_n_obs_last_20y','gbif_n_obs_last_50y','gbif_min_latitude','gbif_max_latitude','gbif_mean_latitude','gbif_mean_pos_latitude','gbif_mean_neg_latitude','gbif_median_latitude','gbif_n_tropical_latitudes','gbif_eoo','gbif_aoo']+['gbif_n_'+str(year)+'_'+str(year+20) for year in list(date_hist_bins)[:-1]]+['gbif_geoclim_'+str(k) for k in range(1,20)]+['gbif_pop_density_1975','gbif_pop_density_2015','gbif_pop_density_delta']+['gbif_basisOfRecord_n_'+foo for foo in gbif_basisOfRecord_values]"
   ]
  },
  {
   "cell_type": "markdown",
   "metadata": {
    "ein.tags": "worksheet-0",
    "slideshow": {
     "slide_type": "-"
    }
   },
   "source": [
    "Par checklist accapted_plant_name_id"
   ]
  },
  {
   "cell_type": "code",
   "execution_count": 50,
   "metadata": {
    "autoscroll": false,
    "collapsed": false,
    "ein.hycell": false,
    "ein.tags": "worksheet-0",
    "slideshow": {
     "slide_type": "-"
    }
   },
   "outputs": [],
   "source": [
    "def read_set_in_csv(x):\n",
    "    if x=='set()':\n",
    "        return set()\n",
    "    else:\n",
    "        return set(x.replace(\"'\",'').strip('{}').split(', '))"
   ]
  },
  {
   "cell_type": "code",
   "execution_count": 51,
   "metadata": {
    "autoscroll": false,
    "collapsed": false,
    "ein.hycell": false,
    "ein.tags": "worksheet-0",
    "slideshow": {
     "slide_type": "-"
    }
   },
   "outputs": [],
   "source": [
    "checklist_accepted_gbif_taxonkey_matching = pd.read_csv('/home/joon/data/checklist-accepted-gbif-taxonkey-matching.csv',index_col=0,header=None,squeeze=True,converters={1:read_set_in_csv})"
   ]
  },
  {
   "cell_type": "code",
   "execution_count": 52,
   "metadata": {
    "autoscroll": false,
    "collapsed": false,
    "ein.hycell": false,
    "ein.tags": "worksheet-0",
    "slideshow": {
     "slide_type": "-"
    }
   },
   "outputs": [],
   "source": [
    "import json\n",
    "import geojson\n",
    "from shapely.geometry import shape, Polygon"
   ]
  },
  {
   "cell_type": "code",
   "execution_count": 53,
   "metadata": {
    "autoscroll": false,
    "collapsed": false,
    "ein.hycell": false,
    "ein.tags": "worksheet-0",
    "slideshow": {
     "slide_type": "-"
    }
   },
   "outputs": [],
   "source": [
    "checklistdist = pd.read_csv('/home/joon/data/checklist_distribution_preprocessed.csv',index_col='plant_name_id')\n",
    "checklistdist = checklistdist.area_code_l3\n",
    "checklistdist.dropna(inplace=True)"
   ]
  },
  {
   "cell_type": "code",
   "execution_count": 54,
   "metadata": {
    "autoscroll": false,
    "collapsed": false,
    "ein.hycell": false,
    "ein.tags": "worksheet-0",
    "slideshow": {
     "slide_type": "-"
    }
   },
   "outputs": [],
   "source": [
    "with open(\"/home/joon/data/level3.geojson\") as f:\n",
    "    data = geojson.load(f)"
   ]
  },
  {
   "cell_type": "code",
   "execution_count": 55,
   "metadata": {
    "autoscroll": false,
    "collapsed": false,
    "ein.hycell": false,
    "ein.tags": "worksheet-0",
    "slideshow": {
     "slide_type": "-"
    }
   },
   "outputs": [],
   "source": [
    "n_regions = len(data['features'])\n",
    "regions = pd.Series([])\n",
    "\n",
    "for i in range(n_regions):\n",
    "    region = data['features'][i]\n",
    "    level3_cod = region['properties']['LEVEL3_COD']\n",
    "    polygons = []\n",
    "    if len(region['geometry']['coordinates'][0][0])==2:\n",
    "        polygon = Polygon(region['geometry']['coordinates'][0])\n",
    "        polygons.append(polygon)\n",
    "    else:\n",
    "        for cc in region['geometry']['coordinates']:\n",
    "            polygon = Polygon(cc[0])\n",
    "            polygons.append(polygon)\n",
    "    regions[level3_cod] = polygons"
   ]
  },
  {
   "cell_type": "code",
   "execution_count": 56,
   "metadata": {
    "autoscroll": false,
    "collapsed": false,
    "ein.hycell": false,
    "ein.tags": "worksheet-0",
    "slideshow": {
     "slide_type": "-"
    }
   },
   "outputs": [],
   "source": [
    "def filter_native_points(df,polygons):\n",
    "    point = Point(df.decimalLatitude,df.decimalLongitude)\n",
    "    bools = np.array([polygon.contains(point) for polygon in polygons])\n",
    "    return bool(np.sum(bools))"
   ]
  },
  {
   "cell_type": "code",
   "execution_count": 57,
   "metadata": {
    "autoscroll": false,
    "collapsed": false,
    "ein.hycell": false,
    "ein.tags": "worksheet-0",
    "slideshow": {
     "slide_type": "-"
    }
   },
   "outputs": [],
   "source": [
    "def gbif_based_features(accepted_plant_name_ids,taxonKeys):\n",
    "    plant_name_ids = checklist.plant_name_id.loc[accepted_plant_name_ids]\n",
    "    areas = checklistdist.loc[checklistdist.index.intersection(plant_name_ids)].unique()\n",
    "    areas = [area.upper() for area in areas]\n",
    "    polygons = [l for l in regions.loc[regions.index.intersection(areas)] if str(l) != 'nan']\n",
    "    polygons = [polygon for l in polygons for polygon in l]\n",
    "\n",
    "    selected_distribution = pd.DataFrame(columns=['countryCode','decimalLatitude','decimalLongitude','year','basisOfRecord','institutionCode','recordedBy'])\n",
    "    selected_distribution_native = pd.DataFrame(columns=['countryCode','decimalLatitude','decimalLongitude','year','basisOfRecord','institutionCode','recordedBy'])\n",
    "\n",
    "    for taxonKey in taxonKeys:\n",
    "        filename = '/home/joon/data/gbif-countryCode-decimalLatitude-decimalLongitude-year-taxonKey-basisOfRecord-institutionCode-recordedBy-by-taxonkey-fusionned/'+str(taxonKey)+'.csv'\n",
    "        if os.path.isfile(filename):\n",
    "            foo = pd.read_csv(filename,header=None,names=['countryCode','decimalLatitude','decimalLongitude','year','basisOfRecord','institutionCode','recordedBy'])\n",
    "            selected_distribution = selected_distribution.append(foo,ignore_index=False)\n",
    "\n",
    "    selected_distribution_w_coord = selected_distribution.dropna(subset=['decimalLatitude','decimalLongitude']).query('decimalLongitude != 0.0 | decimalLatitude != 0.0')\n",
    "\n",
    "    if selected_distribution_w_coord.shape[0] > 100000:\n",
    "        selected_distribution_w_coord = selected_distribution_w_coord.sample(n=50000)\n",
    "\n",
    "    if not selected_distribution_w_coord.empty:\n",
    "        selected_distribution_native = selected_distribution_w_coord.loc[selected_distribution_w_coord.apply(lambda df: filter_native_points(df,polygons),axis=1)]\n",
    "\n",
    "    features_row = [f(selected_distribution) for f in aggregation_functions]+[f(selected_distribution_w_coord) for f in aggregation_functions_coord]+list(gbif_date_hist(selected_distribution))+gbif_obs_bioclim(selected_distribution_w_coord)+gbif_pop_density(selected_distribution_w_coord)+gbif_basis_of_record_counts(selected_distribution_w_coord)\n",
    "\n",
    "    dist_hist_row, dist_hist_native_row = [list(gbif_obs_geographic_distr_hist(foo)) if not foo.empty else False for foo in [selected_distribution_w_coord,selected_distribution_native]]\n",
    "\n",
    "    return features_row, dist_hist_row, dist_hist_native_row"
   ]
  },
  {
   "cell_type": "code",
   "execution_count": 104,
   "metadata": {
    "autoscroll": false,
    "collapsed": false,
    "ein.hycell": false,
    "ein.tags": "worksheet-0",
    "slideshow": {
     "slide_type": "-"
    }
   },
   "outputs": [],
   "source": [
    "def gbif_based_features_process_genus(genus):\n",
    "    features = pd.DataFrame([])\n",
    "    dist_hist = pd.DataFrame([]) \n",
    "    dist_hist_native = pd.DataFrame([]) \n",
    "\n",
    "    checklist_from_genus = checklist[checklist.genus==genus]\n",
    "    checklist_from_genus = checklist_from_genus[checklist_from_genus.index == checklist_from_genus.plant_name_id]\n",
    "    accepted_plant_name_ids_from_genus = checklist_from_genus.index.unique()\n",
    "\n",
    "    for accepted_plant_name_id in accepted_plant_name_ids_from_genus:\n",
    "        taxonKeys = checklist_accepted_gbif_taxonkey_matching.loc[accepted_plant_name_id]\n",
    "        features_row, dist_hist_row, dist_hist_native_row = gbif_based_features([accepted_plant_name_id],taxonKeys)\n",
    "\n",
    "        features = features.append(pd.Series([accepted_plant_name_id]+features_row),ignore_index=True)\n",
    "\n",
    "        if not dist_hist_row == False:\n",
    "            dist_hist = dist_hist.append(pd.Series([accepted_plant_name_id]+dist_hist_row),ignore_index=True)\n",
    "\n",
    "        if not dist_hist_native_row == False:\n",
    "            dist_hist_native = dist_hist_native.append(pd.Series([accepted_plant_name_id]+dist_hist_native_row),ignore_index=True)\n",
    "\n",
    "    if not features.empty:\n",
    "        features.columns = ['accepted_plant_name_id']+column_names\n",
    "        features = features.astype({**{'gbif_n_'+foo:'Int64'  for foo in ['institutionCode','recordedBy','obs','country','obs_last_5y','obs_last_10y','obs_last_20y','obs_last_50y','tropical_latitudes',]},\n",
    "                        **{foo:'Int64' for foo in ['gbif_max_obs_date','gbif_min_obs_date','gbif_delta_obs_date','gbif_age_last_obs','gbif_age_first_obs']+['gbif_n_'+str(year)+'_'+str(year+20) for year in list(date_hist_bins)[:-1]]}})\n",
    "        features.to_csv('/home/joon/data/gbif-based-features-'+genus+'.csv',header=False,index=False)\n",
    "    if not dist_hist.empty:\n",
    "        dist_hist.set_index(0,inplace=True)\n",
    "        dist_hist = dist_hist.astype('int')\n",
    "        dist_hist.to_csv('/home/joon/data/gbif-based-dist_hist-'+genus+'.csv',header=False,index=True)\n",
    "\n",
    "    if not dist_hist_native.empty:\n",
    "        dist_hist_native.set_index(0,inplace=True)\n",
    "        dist_hist_native = dist_hist_native.astype('int')\n",
    "        dist_hist_native.to_csv('/home/joon/data/gbif-based-dist_hist_native-'+genus+'.csv',header=False,index=True)"
   ]
  },
  {
   "cell_type": "code",
   "execution_count": 105,
   "metadata": {
    "autoscroll": false,
    "collapsed": false,
    "ein.hycell": false,
    "ein.tags": "worksheet-0",
    "slideshow": {
     "slide_type": "-"
    }
   },
   "outputs": [
    {
     "name": "stderr",
     "output_type": "stream",
     "text": [
      "/usr/lib/python3.8/multiprocessing/pool.py:125: DtypeWarning: Columns (5,6) have mixed types. Specify dtype option on import or set low_memory=False.\n",
      "  result = (True, func(*args, **kwds))\n"
     ]
    },
    {
     "data": {
      "text/plain": [
       "0"
      ]
     },
     "execution_count": 105,
     "metadata": {},
     "output_type": "execute_result"
    }
   ],
   "source": [
    "os.system('find /home/joon/data -type f -name \\'gbif-based-features*.csv\\' | xargs rm')\n",
    "os.system('find /home/joon/data -type f -name \\'gbif-based-dist_hist*.csv\\' | xargs rm')\n",
    "os.system('find /home/joon/data -type f -name \\'gbif-based-dist_hist_native*.csv\\' | xargs rm')\n",
    "\n",
    "from multiprocessing import Pool\n",
    "with Pool(processes=11) as pool:\n",
    "    pool.map(gbif_based_features_process_genus, checklist_genus_values)\n",
    "\n",
    "pd.DataFrame([['accepted_plant_name_id']+column_names]).to_csv('/home/joon/data/gbif-based-features_column-names.csv',header=None,index=None)\n",
    "\n",
    "#fusionner les résultats et supprimer les fichiers temporaires!\n",
    "os.system('find /home/joon/data -type f -name \\'gbif-based-features-*.csv\\' | xargs cat /home/joon/data/gbif-based-features_column-names.csv > /home/joon/data/gbif-based-features.csv')\n",
    "os.system('find /home/joon/data -type f -name \\'gbif-based-features-*.csv\\' | xargs rm')\n",
    "os.system('find /home/joon/data -type f -name \\'gbif-based-dist_hist-*.csv\\' | xargs cat /home/joon/data/gbif-based-dist_hist_column-names.csv > /home/joon/data/gbif-based-dist_hist.csv')\n",
    "os.system('find /home/joon/data -type f -name \\'gbif-based-dist_hist-*.csv\\' | xargs rm')\n",
    "os.system('find /home/joon/data -type f -name \\'gbif-based-dist_hist_native-*.csv\\' | xargs cat /home/joon/data/gbif-based-dist_hist_native_column-names.csv > /home/joon/data/gbif-based-dist_hist_native.csv')\n",
    "os.system('find /home/joon/data -type f -name \\'gbif-based-dist_hist_native-*.csv\\' | xargs rm')"
   ]
  },
  {
   "cell_type": "markdown",
   "metadata": {
    "ein.tags": "worksheet-0",
    "slideshow": {
     "slide_type": "-"
    }
   },
   "source": [
    "Par iucn_taxon_id"
   ]
  },
  {
   "cell_type": "code",
   "execution_count": 58,
   "metadata": {
    "autoscroll": false,
    "collapsed": false,
    "ein.hycell": false,
    "ein.tags": "worksheet-0",
    "slideshow": {
     "slide_type": "-"
    }
   },
   "outputs": [],
   "source": [
    "iucn_gbif_taxonkey_matching = pd.read_csv('/home/joon/data/iucn_gbif_taxonkey_matching.csv',index_col=0,header=None,squeeze=True,converters={1:read_set_in_csv},dtype={0:'int'})"
   ]
  },
  {
   "cell_type": "code",
   "execution_count": 59,
   "metadata": {
    "autoscroll": false,
    "collapsed": false,
    "ein.hycell": false,
    "ein.tags": "worksheet-0",
    "slideshow": {
     "slide_type": "-"
    }
   },
   "outputs": [],
   "source": [
    "iucn_checklist_matching = pd.read_csv('/home/joon/data/iucn-checklist-matching.csv',index_col=0,header=None,squeeze=True,converters={1:read_set_in_csv},dtype={0:'int'})"
   ]
  },
  {
   "cell_type": "code",
   "execution_count": 60,
   "metadata": {
    "autoscroll": false,
    "collapsed": false,
    "ein.hycell": false,
    "ein.tags": "worksheet-0",
    "slideshow": {
     "slide_type": "-"
    }
   },
   "outputs": [],
   "source": [
    "iucn_taxon_ids = iucn_gbif_taxonkey_matching.index.unique()"
   ]
  },
  {
   "cell_type": "code",
   "execution_count": 63,
   "metadata": {
    "autoscroll": false,
    "collapsed": false,
    "ein.hycell": false,
    "ein.tags": "worksheet-0",
    "slideshow": {
     "slide_type": "-"
    }
   },
   "outputs": [],
   "source": [
    "def gbif_based_features_for_iucn_process_split(split_nb):\n",
    "    features = pd.DataFrame([])\n",
    "    dist_hist = pd.DataFrame([]) \n",
    "    dist_hist_native = pd.DataFrame([]) \n",
    "\n",
    "    global splits\n",
    "\n",
    "    split = splits[split_nb]\n",
    "\n",
    "    for iucn_taxon_id in split:\n",
    "        taxonKeys = iucn_gbif_taxonkey_matching.loc[iucn_taxon_id]\n",
    "        accepted_plant_name_ids = iucn_checklist_matching.loc[iucn_taxon_id]\n",
    "        features_row, dist_hist_row, dist_hist_native_row = gbif_based_features(accepted_plant_name_ids,taxonKeys)\n",
    "\n",
    "        features = features.append(pd.Series([iucn_taxon_id]+features_row),ignore_index=True)\n",
    "\n",
    "        if dist_hist_row != False:\n",
    "            dist_hist = dist_hist.append(pd.Series([iucn_taxon_id]+dist_hist_row),ignore_index=True)\n",
    "\n",
    "        if dist_hist_native_row != False:\n",
    "            dist_hist_native = dist_hist_native.append(pd.Series([iucn_taxon_id]+dist_hist_native_row),ignore_index=True)\n",
    "\n",
    "    features.columns = ['iucn_taxon_id']+column_names\n",
    "    features = features.astype({'iucn_taxon_id':int,**{'gbif_n_'+foo:'Int64'  for foo in ['institutionCode','recordedBy','obs','country','obs_last_5y','obs_last_10y','obs_last_20y','obs_last_50y','tropical_latitudes']},\n",
    "                            **{foo:'Int64' for foo in ['gbif_max_obs_date','gbif_min_obs_date','gbif_delta_obs_date','gbif_age_last_obs','gbif_age_first_obs']+['gbif_n_'+str(year)+'_'+str(year+20) for year in list(date_hist_bins)[:-1]]}})\n",
    "    features.to_csv('/home/joon/data/gbif-based-features-for_iucn-split_'+str(split_nb)+'.csv',header=False,index=False)\n",
    "\n",
    "    dist_hist = dist_hist.astype('int')\n",
    "    if dist_hist.shape[0] > 0:\n",
    "        dist_hist.set_index(0,inplace=True)\n",
    "    dist_hist.to_csv('/home/joon/data/gbif-based-dist_hist-for_iucn-split_'+str(split_nb)+'.csv',header=False,index=True)\n",
    "\n",
    "    dist_hist_native = dist_hist_native.astype('int')\n",
    "    if dist_hist_native.shape[0] > 0:\n",
    "        dist_hist_native.set_index(0,inplace=True)\n",
    "    dist_hist_native.to_csv('/home/joon/data/gbif-based-dist_hist_native-for_iucn-split_'+str(split_nb)+'.csv',header=False,index=True)"
   ]
  },
  {
   "cell_type": "code",
   "execution_count": 64,
   "metadata": {
    "autoscroll": false,
    "collapsed": false,
    "ein.hycell": false,
    "ein.tags": "worksheet-0",
    "slideshow": {
     "slide_type": "-"
    }
   },
   "outputs": [
    {
     "name": "stderr",
     "output_type": "stream",
     "text": [
      "/usr/lib/python3.8/multiprocessing/pool.py:125: DtypeWarning: Columns (5,6) have mixed types. Specify dtype option on import or set low_memory=False.\n",
      "  result = (True, func(*args, **kwds))\n"
     ]
    },
    {
     "data": {
      "text/plain": [
       "0"
      ]
     },
     "execution_count": 64,
     "metadata": {},
     "output_type": "execute_result"
    }
   ],
   "source": [
    "os.system('find /home/joon/data -type f -name \\'gbif-based-dist_hist-for_iucn*.csv\\' | xargs rm')\n",
    "os.system('find /home/joon/data -type f -name \\'gbif-based-dist_hist_native-for_iucn*.csv\\' | xargs rm')\n",
    "os.system('find /home/joon/data -type f -name \\'gbif-based-features-for_iucn*.csv\\' | xargs rm')\n",
    "\n",
    "nb_splits = 1000\n",
    "splits = np.array_split(iucn_taxon_ids,nb_splits)\n",
    "\n",
    "from multiprocessing import Pool\n",
    "with Pool(processes=11) as pool:\n",
    "    pool.map(gbif_based_features_for_iucn_process_split,range(len(splits)))\n",
    "\n",
    "pd.DataFrame([['iucn_taxon_id']+column_names]).to_csv('/home/joon/data/gbif-based-features-for_iucn-column-names.csv',header=None,index=None)\n",
    "\n",
    "os.system('find /home/joon/data -type f -name \\'gbif-based-features-for_iucn-split*.csv\\' | xargs cat /home/joon/data/gbif-based-features-for_iucn-column-names.csv > /home/joon/data/gbif-based-features-for_iucn.csv')\n",
    "os.system('find /home/joon/data -type f -name \\'gbif-based-dist_hist-for_iucn-split*.csv\\' | xargs cat > /home/joon/data/gbif-based-dist_hist-for_iucn.csv')\n",
    "os.system('find /home/joon/data -type f -name \\'gbif-based-dist_hist-for_iucn-*.csv\\' | xargs rm')\n",
    "os.system('find /home/joon/data -type f -name \\'gbif-based-dist_hist_native-for_iucn-split*.csv\\' | xargs cat > /home/joon/data/gbif-based-dist_hist_native-for_iucn.csv')\n",
    "os.system('find /home/joon/data -type f -name \\'gbif-based-dist_hist_native-for_iucn-*.csv\\' | xargs rm')\n",
    "os.system('find /home/joon/data -type f -name \\'gbif-based-features-for_iucn-*.csv\\' | xargs rm')"
   ]
  },
  {
   "cell_type": "code",
   "execution_count": null,
   "metadata": {
    "autoscroll": false,
    "collapsed": false,
    "ein.hycell": false,
    "ein.tags": "worksheet-0",
    "slideshow": {
     "slide_type": "-"
    }
   },
   "outputs": [],
   "source": []
  }
 ],
 "metadata": {
  "kernelspec": {
   "argv": [
    "python",
    "-m",
    "ipykernel_launcher",
    "-f",
    "{connection_file}"
   ],
   "display_name": "Python 3",
   "env": null,
   "interrupt_mode": "signal",
   "language": "python",
   "metadata": null,
   "name": "python3"
  },
  "name": "gbif_based_features_computation.ipynb"
 },
 "nbformat": 4,
 "nbformat_minor": 2
}
