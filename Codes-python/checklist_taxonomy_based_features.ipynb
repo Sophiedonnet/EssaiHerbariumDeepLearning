{
 "cells": [
  {
   "cell_type": "code",
   "execution_count": 2,
   "metadata": {
    "autoscroll": false,
    "collapsed": false,
    "ein.hycell": false,
    "ein.tags": "worksheet-0",
    "slideshow": {
     "slide_type": "-"
    }
   },
   "outputs": [],
   "source": [
    "import pandas as pd\n",
    "import numpy as np"
   ]
  },
  {
   "cell_type": "code",
   "execution_count": 3,
   "metadata": {
    "autoscroll": false,
    "collapsed": false,
    "ein.hycell": false,
    "ein.tags": "worksheet-0",
    "slideshow": {
     "slide_type": "-"
    }
   },
   "outputs": [],
   "source": [
    "checklist = pd.read_csv('/home/joon/data/checklist_taxonomy_preprocessed.csv')\n",
    "checklist_genus_values = checklist.genus.unique()\n",
    "checklist = checklist[['genus','accepted_plant_name_id','plant_name_id','first_published','lifeform_description','climate_description']]\n",
    "accepted_plant_name_ids = checklist.accepted_plant_name_id.unique()\n",
    "checklist.set_index('accepted_plant_name_id',inplace=True)"
   ]
  },
  {
   "cell_type": "markdown",
   "metadata": {
    "ein.tags": "worksheet-0",
    "slideshow": {
     "slide_type": "-"
    }
   },
   "source": [
    "# Publication year, min, max, delta"
   ]
  },
  {
   "cell_type": "code",
   "execution_count": 739,
   "metadata": {
    "autoscroll": false,
    "collapsed": false,
    "ein.hycell": false,
    "ein.tags": "worksheet-0",
    "slideshow": {
     "slide_type": "-"
    }
   },
   "outputs": [],
   "source": [
    "def checklist_year_max(checklist):\n",
    "    return np.max(checklist.first_published)"
   ]
  },
  {
   "cell_type": "code",
   "execution_count": 740,
   "metadata": {
    "autoscroll": false,
    "collapsed": false,
    "ein.hycell": false,
    "ein.tags": "worksheet-0",
    "slideshow": {
     "slide_type": "-"
    }
   },
   "outputs": [],
   "source": [
    "def checklist_year_min(checklist):\n",
    "    return np.min(checklist.first_published)"
   ]
  },
  {
   "cell_type": "code",
   "execution_count": 741,
   "metadata": {
    "autoscroll": false,
    "collapsed": false,
    "ein.hycell": false,
    "ein.tags": "worksheet-0",
    "slideshow": {
     "slide_type": "-"
    }
   },
   "outputs": [],
   "source": [
    "def checklist_year_delta(checklist):\n",
    "    return checklist_year_max(checklist)-checklist_year_min(checklist)"
   ]
  },
  {
   "cell_type": "markdown",
   "metadata": {
    "ein.tags": "worksheet-0",
    "slideshow": {
     "slide_type": "-"
    }
   },
   "source": [
    "# Number of synonyms"
   ]
  },
  {
   "cell_type": "code",
   "execution_count": 742,
   "metadata": {
    "autoscroll": false,
    "collapsed": false,
    "ein.hycell": false,
    "ein.tags": "worksheet-0",
    "slideshow": {
     "slide_type": "-"
    }
   },
   "outputs": [],
   "source": [
    "def checklist_n_synonyms(checklist):\n",
    "    return checklist.shape[0] if type(checklist)== pd.core.frame.DataFrame else 1"
   ]
  },
  {
   "cell_type": "markdown",
   "metadata": {
    "ein.tags": "worksheet-0",
    "slideshow": {
     "slide_type": "-"
    }
   },
   "source": [
    "# Lifeform and climate description"
   ]
  },
  {
   "cell_type": "code",
   "execution_count": 743,
   "metadata": {
    "autoscroll": false,
    "collapsed": false,
    "ein.hycell": false,
    "ein.tags": "worksheet-0",
    "slideshow": {
     "slide_type": "-"
    }
   },
   "outputs": [],
   "source": [
    "def checklist_lifeform(checklist):\n",
    "    return checklist.lifeform_description.mode(dropna=False)[0] if type(checklist)== pd.core.frame.DataFrame else checklist.lifeform_description"
   ]
  },
  {
   "cell_type": "code",
   "execution_count": 744,
   "metadata": {
    "autoscroll": false,
    "collapsed": false,
    "ein.hycell": false,
    "ein.tags": "worksheet-0",
    "slideshow": {
     "slide_type": "-"
    }
   },
   "outputs": [],
   "source": [
    "def checklist_climate(checklist):\n",
    "    return checklist.climate_description.mode(dropna=False)[0] if type(checklist)==pd.core.frame.DataFrame else checklist.climate_description"
   ]
  },
  {
   "cell_type": "code",
   "execution_count": 745,
   "metadata": {
    "autoscroll": false,
    "collapsed": false,
    "ein.hycell": false,
    "ein.tags": "worksheet-0",
    "slideshow": {
     "slide_type": "-"
    }
   },
   "outputs": [],
   "source": [
    "lifeform_thomas = pd.read_csv('/home/joon/data/lifeform_thomas.csv',index_col=0,na_values='?')\n",
    "nb_lifeform_thomas = lifeform_thomas.columns.size"
   ]
  },
  {
   "cell_type": "code",
   "execution_count": 746,
   "metadata": {
    "autoscroll": false,
    "collapsed": false,
    "ein.hycell": false,
    "ein.tags": "worksheet-0",
    "slideshow": {
     "slide_type": "-"
    }
   },
   "outputs": [
    {
     "data": {
      "text/plain": [
       "True"
      ]
     },
     "execution_count": 746,
     "metadata": {},
     "output_type": "execute_result"
    }
   ],
   "source": [
    "# sanity check\n",
    "set(checklist.lifeform_description.unique()[1:]) == set(lifeform_thomas.index)"
   ]
  },
  {
   "cell_type": "code",
   "execution_count": 747,
   "metadata": {
    "autoscroll": false,
    "collapsed": false,
    "ein.hycell": false,
    "ein.tags": "worksheet-0",
    "slideshow": {
     "slide_type": "-"
    }
   },
   "outputs": [],
   "source": [
    "def checklist_lifeform_thomas(selected_rows):\n",
    "    lifeforms = list(selected_rows.lifeform_description.dropna().unique()) if type(selected_rows) == pd.core.frame.DataFrame else [selected_rows.lifeform_description]\n",
    "    if lifeforms == [] or lifeforms == [np.nan]:\n",
    "        return [np.nan for i in range(nb_lifeform_thomas)]\n",
    "    else:\n",
    "        return list(lifeform_thomas.loc[lifeforms[0]])"
   ]
  },
  {
   "cell_type": "code",
   "execution_count": 748,
   "metadata": {
    "autoscroll": false,
    "collapsed": false,
    "ein.hycell": false,
    "ein.tags": "worksheet-0",
    "slideshow": {
     "slide_type": "-"
    }
   },
   "outputs": [],
   "source": [
    "climate_thomas = pd.read_csv('/home/joon/data/climate_thomas.csv',index_col=0)\n",
    "nb_climate_thomas = climate_thomas.columns.size"
   ]
  },
  {
   "cell_type": "code",
   "execution_count": 749,
   "metadata": {
    "autoscroll": false,
    "collapsed": false,
    "ein.hycell": false,
    "ein.tags": "worksheet-0",
    "slideshow": {
     "slide_type": "-"
    }
   },
   "outputs": [
    {
     "data": {
      "text/plain": [
       "True"
      ]
     },
     "execution_count": 749,
     "metadata": {},
     "output_type": "execute_result"
    }
   ],
   "source": [
    "# sanity check\n",
    "set(checklist.climate_description.dropna().unique()) == set(climate_thomas.index)"
   ]
  },
  {
   "cell_type": "code",
   "execution_count": 750,
   "metadata": {
    "autoscroll": false,
    "collapsed": false,
    "ein.hycell": false,
    "ein.tags": "worksheet-0",
    "slideshow": {
     "slide_type": "-"
    }
   },
   "outputs": [],
   "source": [
    "def checklist_climate_thomas(selected_rows):\n",
    "    climates = list(selected_rows.climate_description.dropna().unique()) if type(selected_rows) == pd.core.frame.DataFrame else [selected_rows.climate_description]\n",
    "    if climates == [] or climates == [np.nan]:\n",
    "        return [np.nan for i in range(nb_climate_thomas)]\n",
    "    else:\n",
    "        return list(np.max(np.array([climate_thomas.loc[climate] for climate in climates]),axis=0))"
   ]
  },
  {
   "cell_type": "code",
   "execution_count": 778,
   "metadata": {
    "autoscroll": false,
    "collapsed": false,
    "ein.hycell": false,
    "ein.tags": "worksheet-0",
    "slideshow": {
     "slide_type": "-"
    }
   },
   "outputs": [],
   "source": [
    "single_column_functions = [checklist_year_max,checklist_year_min,checklist_year_delta,checklist_n_synonyms,checklist_lifeform,checklist_climate]\n",
    "column_names = ['accepted_plant_name_id','checklist_year_max','checklist_year_min','checklist_year_delta','checklist_n_synonyms','checklist_lifeform','checklist_climate']+['lifeform_thomas_'+lifeform for lifeform in lifeform_thomas.columns]+['climate_thomas_'+climate for climate in climate_thomas.columns]"
   ]
  },
  {
   "cell_type": "markdown",
   "metadata": {
    "ein.tags": "worksheet-0",
    "slideshow": {
     "slide_type": "-"
    }
   },
   "source": [
    "Pour chaque checklist accepted_plant_name_id"
   ]
  },
  {
   "cell_type": "code",
   "execution_count": 809,
   "metadata": {
    "autoscroll": false,
    "collapsed": false,
    "ein.hycell": false,
    "ein.tags": "worksheet-0",
    "slideshow": {
     "slide_type": "-"
    }
   },
   "outputs": [],
   "source": [
    "def checklist_taxonomy_based_features_compute(selected_rows):\n",
    "    return [f(selected_rows) for f in single_column_functions]+checklist_lifeform_thomas(selected_rows)+checklist_climate_thomas(selected_rows)"
   ]
  },
  {
   "cell_type": "code",
   "execution_count": 849,
   "metadata": {
    "autoscroll": false,
    "collapsed": false,
    "ein.hycell": false,
    "ein.tags": "worksheet-0",
    "slideshow": {
     "slide_type": "-"
    }
   },
   "outputs": [],
   "source": [
    "def checklist_taxonomy_based_features_process_genus(genus):\n",
    "    df = pd.DataFrame([])\n",
    "\n",
    "    checklist_from_genus = checklist[checklist.genus==genus]\n",
    "    checklist_from_genus = checklist_from_genus[checklist_from_genus.index == checklist_from_genus.plant_name_id]\n",
    "    for accepted_plant_name_id in checklist_from_genus.index.unique():\n",
    "        selected_rows = checklist.loc[accepted_plant_name_id]\n",
    "        df = df.append(pd.Series([accepted_plant_name_id]+checklist_taxonomy_based_features_compute(selected_rows)),ignore_index=True)\n",
    "    if not df.empty:\n",
    "        df.to_csv('/home/joon/data/checklist-taxonomy-based-features-'+genus+'.csv',header=False,index=False)"
   ]
  },
  {
   "cell_type": "code",
   "execution_count": 855,
   "metadata": {
    "autoscroll": false,
    "collapsed": false,
    "ein.hycell": false,
    "ein.tags": "worksheet-0",
    "slideshow": {
     "slide_type": "-"
    }
   },
   "outputs": [
    {
     "name": "stderr",
     "output_type": "stream",
     "text": [
      "/usr/lib/python3.7/site-packages/pandas/core/algorithms.py:881: UserWarning: Unable to sort modes: '<' not supported between instances of 'str' and 'float'\n",
      "  warn(\"Unable to sort modes: {error}\".format(error=e))\n"
     ]
    },
    {
     "name": "stderr",
     "output_type": "stream",
     "text": [
      "/usr/lib/python3.7/site-packages/pandas/core/algorithms.py:881: UserWarning: Unable to sort modes: '<' not supported between instances of 'str' and 'float'\n",
      "  warn(\"Unable to sort modes: {error}\".format(error=e))\n"
     ]
    },
    {
     "name": "stderr",
     "output_type": "stream",
     "text": [
      "/usr/lib/python3.7/site-packages/pandas/core/algorithms.py:881: UserWarning: Unable to sort modes: '<' not supported between instances of 'str' and 'float'\n",
      "  warn(\"Unable to sort modes: {error}\".format(error=e))\n"
     ]
    },
    {
     "name": "stderr",
     "output_type": "stream",
     "text": [
      "/usr/lib/python3.7/site-packages/pandas/core/algorithms.py:881: UserWarning: Unable to sort modes: '<' not supported between instances of 'str' and 'float'\n",
      "  warn(\"Unable to sort modes: {error}\".format(error=e))\n"
     ]
    },
    {
     "name": "stderr",
     "output_type": "stream",
     "text": [
      "/usr/lib/python3.7/site-packages/pandas/core/algorithms.py:881: UserWarning: Unable to sort modes: '<' not supported between instances of 'str' and 'float'\n",
      "  warn(\"Unable to sort modes: {error}\".format(error=e))\n"
     ]
    },
    {
     "name": "stderr",
     "output_type": "stream",
     "text": [
      "/usr/lib/python3.7/site-packages/pandas/core/algorithms.py:881: UserWarning: Unable to sort modes: '<' not supported between instances of 'str' and 'float'\n",
      "  warn(\"Unable to sort modes: {error}\".format(error=e))\n"
     ]
    },
    {
     "name": "stderr",
     "output_type": "stream",
     "text": [
      "/usr/lib/python3.7/site-packages/pandas/core/algorithms.py:881: UserWarning: Unable to sort modes: '<' not supported between instances of 'str' and 'float'\n",
      "  warn(\"Unable to sort modes: {error}\".format(error=e))\n"
     ]
    },
    {
     "name": "stderr",
     "output_type": "stream",
     "text": [
      "/usr/lib/python3.7/site-packages/pandas/core/algorithms.py:881: UserWarning: Unable to sort modes: '<' not supported between instances of 'float' and 'str'\n",
      "  warn(\"Unable to sort modes: {error}\".format(error=e))\n"
     ]
    },
    {
     "name": "stderr",
     "output_type": "stream",
     "text": [
      "/usr/lib/python3.7/site-packages/pandas/core/algorithms.py:881: UserWarning: Unable to sort modes: '<' not supported between instances of 'float' and 'str'\n",
      "  warn(\"Unable to sort modes: {error}\".format(error=e))\n"
     ]
    },
    {
     "name": "stderr",
     "output_type": "stream",
     "text": [
      "/usr/lib/python3.7/site-packages/pandas/core/algorithms.py:881: UserWarning: Unable to sort modes: '<' not supported between instances of 'float' and 'str'\n",
      "  warn(\"Unable to sort modes: {error}\".format(error=e))\n"
     ]
    },
    {
     "name": "stderr",
     "output_type": "stream",
     "text": [
      "/usr/lib/python3.7/site-packages/pandas/core/algorithms.py:881: UserWarning: Unable to sort modes: '<' not supported between instances of 'str' and 'float'\n",
      "  warn(\"Unable to sort modes: {error}\".format(error=e))\n"
     ]
    },
    {
     "name": "stderr",
     "output_type": "stream",
     "text": [
      "/usr/lib/python3.7/site-packages/pandas/core/algorithms.py:881: UserWarning: Unable to sort modes: '<' not supported between instances of 'str' and 'float'\n",
      "  warn(\"Unable to sort modes: {error}\".format(error=e))\n"
     ]
    },
    {
     "name": "stderr",
     "output_type": "stream",
     "text": [
      "/usr/lib/python3.7/site-packages/pandas/core/algorithms.py:881: UserWarning: Unable to sort modes: '<' not supported between instances of 'float' and 'str'\n",
      "  warn(\"Unable to sort modes: {error}\".format(error=e))\n"
     ]
    },
    {
     "name": "stderr",
     "output_type": "stream",
     "text": [
      "/usr/lib/python3.7/site-packages/pandas/core/algorithms.py:881: UserWarning: Unable to sort modes: '<' not supported between instances of 'float' and 'str'\n",
      "  warn(\"Unable to sort modes: {error}\".format(error=e))\n"
     ]
    },
    {
     "name": "stderr",
     "output_type": "stream",
     "text": [
      "/usr/lib/python3.7/site-packages/pandas/core/algorithms.py:881: UserWarning: Unable to sort modes: '<' not supported between instances of 'str' and 'float'\n",
      "  warn(\"Unable to sort modes: {error}\".format(error=e))\n"
     ]
    },
    {
     "name": "stderr",
     "output_type": "stream",
     "text": [
      "/usr/lib/python3.7/site-packages/pandas/core/algorithms.py:881: UserWarning: Unable to sort modes: '<' not supported between instances of 'str' and 'float'\n",
      "  warn(\"Unable to sort modes: {error}\".format(error=e))\n"
     ]
    },
    {
     "name": "stderr",
     "output_type": "stream",
     "text": [
      "/usr/lib/python3.7/site-packages/pandas/core/algorithms.py:881: UserWarning: Unable to sort modes: '<' not supported between instances of 'float' and 'str'\n",
      "  warn(\"Unable to sort modes: {error}\".format(error=e))\n"
     ]
    },
    {
     "name": "stderr",
     "output_type": "stream",
     "text": [
      "/usr/lib/python3.7/site-packages/pandas/core/algorithms.py:881: UserWarning: Unable to sort modes: '<' not supported between instances of 'float' and 'str'\n",
      "  warn(\"Unable to sort modes: {error}\".format(error=e))\n"
     ]
    },
    {
     "name": "stderr",
     "output_type": "stream",
     "text": [
      "/usr/lib/python3.7/site-packages/pandas/core/algorithms.py:881: UserWarning: Unable to sort modes: '<' not supported between instances of 'float' and 'str'\n",
      "  warn(\"Unable to sort modes: {error}\".format(error=e))\n"
     ]
    },
    {
     "name": "stderr",
     "output_type": "stream",
     "text": [
      "/usr/lib/python3.7/site-packages/pandas/core/algorithms.py:881: UserWarning: Unable to sort modes: '<' not supported between instances of 'float' and 'str'\n",
      "  warn(\"Unable to sort modes: {error}\".format(error=e))\n"
     ]
    },
    {
     "name": "stderr",
     "output_type": "stream",
     "text": [
      "/usr/lib/python3.7/site-packages/pandas/core/algorithms.py:881: UserWarning: Unable to sort modes: '<' not supported between instances of 'float' and 'str'\n",
      "  warn(\"Unable to sort modes: {error}\".format(error=e))\n"
     ]
    },
    {
     "name": "stderr",
     "output_type": "stream",
     "text": [
      "/usr/lib/python3.7/site-packages/pandas/core/algorithms.py:881: UserWarning: Unable to sort modes: '<' not supported between instances of 'float' and 'str'\n",
      "  warn(\"Unable to sort modes: {error}\".format(error=e))\n"
     ]
    },
    {
     "data": {
      "text/plain": [
       "0"
      ]
     },
     "execution_count": 855,
     "metadata": {},
     "output_type": "execute_result"
    }
   ],
   "source": [
    "os.system('find /home/joon/data -type f -name \\'checklist-taxonomy-based-features*.csv\\' | xargs rm')\n",
    "\n",
    "from multiprocessing import Pool\n",
    "with Pool(processes=11) as pool:\n",
    "    pool.map(checklist_taxonomy_based_features_process_genus, checklist_genus_values)\n",
    "\n",
    "pd.DataFrame([column_names]).to_csv('/home/joon/data/checklist-taxonomy-based-features-column-names.csv',header=None,index=None)\n",
    "\n",
    "#fusionner les résultats et supprimer les fichiers temporaires!\n",
    "os.system('find /home/joon/data -type f -name \\'checklist-taxonomy-based-features-*.csv\\' | xargs cat /home/joon/data/checklist-taxonomy-based-features-column-names.csv > /home/joon/data/checklist-taxonomy-based-features.csv')\n",
    "os.system('find /home/joon/data -type f -name \\'checklist-taxonomy-based-features-*.csv\\' | xargs rm')"
   ]
  },
  {
   "cell_type": "code",
   "execution_count": 856,
   "metadata": {
    "autoscroll": false,
    "collapsed": false,
    "ein.hycell": false,
    "ein.tags": "worksheet-0",
    "slideshow": {
     "slide_type": "-"
    }
   },
   "outputs": [],
   "source": [
    "checklist_taxonomy_based_features = pd.read_csv('/home/joon/data/checklist-taxonomy-based-features.csv')\n",
    "if np.array_equal(checklist_taxonomy_based_features.iloc[-1].values,checklist_taxonomy_based_features.columns.values):\n",
    "    checklist_taxonomy_based_features.drop(index=checklist_taxonomy_based_features.iloc[-1].name,inplace=True)"
   ]
  },
  {
   "cell_type": "markdown",
   "metadata": {
    "ein.tags": "worksheet-0",
    "slideshow": {
     "slide_type": "-"
    }
   },
   "source": [
    "MATCHING: CHECKLIST BASED FEATURES FOR IUCN"
   ]
  },
  {
   "cell_type": "code",
   "execution_count": 1050,
   "metadata": {
    "autoscroll": false,
    "collapsed": false,
    "ein.hycell": false,
    "ein.tags": "worksheet-0",
    "slideshow": {
     "slide_type": "-"
    }
   },
   "outputs": [],
   "source": [
    "def read_set_in_csv(x):\n",
    "    if x=='set()':\n",
    "        return set()\n",
    "    else:\n",
    "        return set(x.replace(\"'\",'').strip('{}').split(', '))"
   ]
  },
  {
   "cell_type": "code",
   "execution_count": 1051,
   "metadata": {
    "autoscroll": false,
    "collapsed": false,
    "ein.hycell": false,
    "ein.tags": "worksheet-0",
    "slideshow": {
     "slide_type": "-"
    }
   },
   "outputs": [],
   "source": [
    "iucn_checklist_matching = pd.read_csv('/home/joon/data/iucn-checklist-matching.csv',index_col=0,header=None,squeeze=True,converters={1:read_set_in_csv})"
   ]
  },
  {
   "cell_type": "code",
   "execution_count": 1052,
   "metadata": {
    "autoscroll": false,
    "collapsed": false,
    "ein.hycell": false,
    "ein.tags": "worksheet-0",
    "slideshow": {
     "slide_type": "-"
    }
   },
   "outputs": [
    {
     "name": "stderr",
     "output_type": "stream",
     "text": [
      "/usr/lib/python3.7/site-packages/pandas/core/algorithms.py:881: UserWarning: Unable to sort modes: '<' not supported between instances of 'str' and 'float'\n",
      "  warn(\"Unable to sort modes: {error}\".format(error=e))\n"
     ]
    },
    {
     "name": "stderr",
     "output_type": "stream",
     "text": [
      "/usr/lib/python3.7/site-packages/pandas/core/algorithms.py:881: UserWarning: Unable to sort modes: '<' not supported between instances of 'float' and 'str'\n",
      "  warn(\"Unable to sort modes: {error}\".format(error=e))\n"
     ]
    }
   ],
   "source": [
    "df = pd.DataFrame([])\n",
    "\n",
    "for iucn_taxon_index in iucn_checklist_matching.index:\n",
    "    selected_accepted_plant_name_ids = iucn_checklist_matching.loc[iucn_taxon_index]\n",
    "    selected_rows = checklist.loc[selected_accepted_plant_name_ids]\n",
    "    if selected_accepted_plant_name_ids != set():\n",
    "        df = df.append(pd.Series([iucn_taxon_index]+checklist_taxonomy_based_features_compute(selected_rows)),ignore_index=True)\n",
    "    else:\n",
    "        df = df.append(pd.Series([iucn_taxon_index]+[np.nan for i in column_names[1:]]),ignore_index=True)\n",
    "\n",
    "df.columns = ['iucn_taxon_index']+column_names[1:]\n",
    "df.iucn_taxon_index = df.iucn_taxon_index.astype(int)\n",
    "df.to_csv('/home/joon/data/checklist-taxonomy-based-features-for-iucn.csv',index=False)"
   ]
  },
  {
   "cell_type": "code",
   "execution_count": null,
   "metadata": {
    "autoscroll": false,
    "collapsed": false,
    "ein.hycell": false,
    "ein.tags": "worksheet-0",
    "slideshow": {
     "slide_type": "-"
    }
   },
   "outputs": [],
   "source": []
  }
 ],
 "metadata": {
  "kernelspec": {
   "argv": [
    "python",
    "-m",
    "ipykernel_launcher",
    "-f",
    "{connection_file}"
   ],
   "display_name": "Python 3",
   "env": null,
   "interrupt_mode": "signal",
   "language": "python",
   "metadata": null,
   "name": "python3"
  },
  "name": "checklist_taxonomy_based_features.ipynb"
 },
 "nbformat": 4,
 "nbformat_minor": 2
}
